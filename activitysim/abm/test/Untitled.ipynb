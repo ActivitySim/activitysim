{
 "cells": [
  {
   "cell_type": "code",
   "execution_count": 19,
   "id": "ec1e0738-1a49-4f2f-8bae-a78b63b4a938",
   "metadata": {},
   "outputs": [],
   "source": [
    "import pandas as pd\n",
    "import numpy as np\n",
    "import openmatrix as omx"
   ]
  },
  {
   "cell_type": "code",
   "execution_count": null,
   "id": "e5c75926-787b-40bf-8ef0-aaee1cf2e505",
   "metadata": {},
   "outputs": [],
   "source": [
    "from activitysim.core import config\n",
    "from activitysim.abm.models.trip_matrices import annotate_trips"
   ]
  },
  {
   "cell_type": "code",
   "execution_count": 34,
   "id": "ee5eaf39-99ba-4cca-9af1-a9b6a53d0929",
   "metadata": {},
   "outputs": [],
   "source": [
    "skims = omx.open_file('data/skims.omx')"
   ]
  },
  {
   "cell_type": "code",
   "execution_count": 20,
   "id": "84485153-a1a1-49ed-b0ee-960a3dad0d1c",
   "metadata": {},
   "outputs": [
    {
     "name": "stderr",
     "output_type": "stream",
     "text": [
      "C:\\Anaconda3\\envs\\asim\\lib\\site-packages\\IPython\\core\\interactiveshell.py:3444: DtypeWarning: Columns (27,31) have mixed types.Specify dtype option on import or set low_memory=False.\n",
      "  exec(code_obj, self.user_global_ns, self.user_ns)\n"
     ]
    }
   ],
   "source": [
    "trips = pd.read_csv('data/summarize/trips.csv').set_index('trip_id')\n",
    "trips_merged = pd.read_csv(r'output/summarize/trips_merged.csv')#.set_index('trip_id')\n",
    "tours = pd.read_csv('data/summarize/tours.csv').set_index('tour_id')\n",
    "persons = pd.read_csv('data/summarize/persons.csv').set_index('person_id')\n",
    "persons_merged = pd.read_csv(r'output/summarize/persons_merged.csv')#.set_index('person_id')\n",
    "households = pd.read_csv('data/summarize/households.csv').set_index('household_id')"
   ]
  },
  {
   "cell_type": "code",
   "execution_count": 52,
   "id": "5212515f-c6a0-43c1-b4b2-2d861e9cb22b",
   "metadata": {},
   "outputs": [
    {
     "data": {
      "text/plain": [
       "['person_id',\n",
       " 'household_id',\n",
       " 'tour_id',\n",
       " 'primary_purpose_trip',\n",
       " 'trip_num',\n",
       " 'outbound',\n",
       " 'trip_count',\n",
       " 'purpose',\n",
       " 'destination_trip',\n",
       " 'origin_trip',\n",
       " 'destination_logsum_trip',\n",
       " 'depart',\n",
       " 'trip_mode',\n",
       " 'mode_choice_logsum_trip',\n",
       " 'tour_type',\n",
       " 'tour_type_count',\n",
       " 'tour_type_num',\n",
       " 'tour_num',\n",
       " 'tour_count',\n",
       " 'tour_category',\n",
       " 'number_of_participants',\n",
       " 'destination_tour',\n",
       " 'origin_tour',\n",
       " 'tdd',\n",
       " 'start',\n",
       " 'end',\n",
       " 'duration',\n",
       " 'composition',\n",
       " 'destination_logsum_tour',\n",
       " 'tour_mode',\n",
       " 'mode_choice_logsum_tour',\n",
       " 'atwork_subtour_frequency',\n",
       " 'parent_tour_id',\n",
       " 'stop_frequency',\n",
       " 'primary_purpose_tour',\n",
       " 'age',\n",
       " 'PNUM',\n",
       " 'sex',\n",
       " 'pemploy',\n",
       " 'pstudent',\n",
       " 'ptype',\n",
       " 'age_16_to_19',\n",
       " 'age_16_p',\n",
       " 'adult',\n",
       " 'male',\n",
       " 'female',\n",
       " 'has_non_worker',\n",
       " 'has_retiree',\n",
       " 'has_preschool_kid',\n",
       " 'has_driving_kid',\n",
       " 'has_school_kid',\n",
       " 'has_full_time',\n",
       " 'has_part_time',\n",
       " 'has_university',\n",
       " 'student_is_employed',\n",
       " 'nonstudent_to_school',\n",
       " 'is_student',\n",
       " 'is_gradeschool',\n",
       " 'is_highschool',\n",
       " 'is_university',\n",
       " 'school_segment',\n",
       " 'is_worker',\n",
       " 'home_zone_id',\n",
       " 'value_of_time',\n",
       " 'school_zone_id',\n",
       " 'school_location_logsum',\n",
       " 'distance_to_school',\n",
       " 'roundtrip_auto_time_to_school',\n",
       " 'workplace_zone_id',\n",
       " 'workplace_location_logsum',\n",
       " 'distance_to_work',\n",
       " 'workplace_in_cbd',\n",
       " 'work_zone_area_type',\n",
       " 'roundtrip_auto_time_to_work',\n",
       " 'work_auto_savings',\n",
       " 'work_auto_savings_ratio',\n",
       " 'free_parking_at_work',\n",
       " 'cdap_activity',\n",
       " 'travel_active',\n",
       " 'under16_not_at_school',\n",
       " 'has_preschool_kid_at_home',\n",
       " 'has_school_kid_at_home',\n",
       " 'mandatory_tour_frequency',\n",
       " 'work_and_school_and_worker',\n",
       " 'work_and_school_and_student',\n",
       " 'num_mand',\n",
       " 'num_work_tours',\n",
       " 'num_joint_tours',\n",
       " 'non_mandatory_tour_frequency',\n",
       " 'num_non_mand',\n",
       " 'num_escort_tours',\n",
       " 'num_eatout_tours',\n",
       " 'num_shop_tours',\n",
       " 'num_maint_tours',\n",
       " 'num_discr_tours',\n",
       " 'num_social_tours',\n",
       " 'num_non_escort_tours',\n",
       " 'income',\n",
       " 'hhsize',\n",
       " 'HHT',\n",
       " 'auto_ownership',\n",
       " 'num_workers',\n",
       " 'sample_rate',\n",
       " 'income_in_thousands',\n",
       " 'income_segment',\n",
       " 'median_value_of_time',\n",
       " 'hh_value_of_time',\n",
       " 'num_non_workers',\n",
       " 'num_drivers',\n",
       " 'num_adults',\n",
       " 'num_children',\n",
       " 'num_young_children',\n",
       " 'num_children_5_to_15',\n",
       " 'num_children_16_to_17',\n",
       " 'num_college_age',\n",
       " 'num_young_adults',\n",
       " 'non_family',\n",
       " 'family',\n",
       " 'home_is_urban',\n",
       " 'home_is_rural',\n",
       " 'hh_work_auto_savings_ratio',\n",
       " 'num_under16_not_at_school',\n",
       " 'num_travel_active',\n",
       " 'num_travel_active_adults',\n",
       " 'num_travel_active_preschoolers',\n",
       " 'num_travel_active_children',\n",
       " 'num_travel_active_non_preschoolers',\n",
       " 'participates_in_jtf_model',\n",
       " 'joint_tour_frequency',\n",
       " 'num_hh_joint_tours',\n",
       " 'DISTRICT',\n",
       " 'SD',\n",
       " 'county_id',\n",
       " 'TOTHH',\n",
       " 'TOTPOP',\n",
       " 'TOTACRE',\n",
       " 'RESACRE',\n",
       " 'CIACRE',\n",
       " 'TOTEMP',\n",
       " 'AGE0519',\n",
       " 'RETEMPN',\n",
       " 'FPSEMPN',\n",
       " 'HEREMPN',\n",
       " 'OTHEMPN',\n",
       " 'AGREMPN',\n",
       " 'MWTEMPN',\n",
       " 'PRKCST',\n",
       " 'OPRKCST',\n",
       " 'area_type',\n",
       " 'HSENROLL',\n",
       " 'COLLFTE',\n",
       " 'COLLPTE',\n",
       " 'TOPOLOGY',\n",
       " 'TERMINAL',\n",
       " 'household_density',\n",
       " 'employment_density',\n",
       " 'density_index',\n",
       " 'is_cbd']"
      ]
     },
     "execution_count": 52,
     "metadata": {},
     "output_type": "execute_result"
    }
   ],
   "source": [
    "trips_merged.columns.tolist()"
   ]
  },
  {
   "cell_type": "code",
   "execution_count": 49,
   "id": "beaa3b01-184d-42c1-acde-8d534f74d072",
   "metadata": {},
   "outputs": [
    {
     "data": {
      "text/plain": [
       "['WLK_EXP_WLK_FAR',\n",
       " 'WLK_COM_DRV_FAR',\n",
       " 'DRV_LOC_WLK_FAR',\n",
       " 'WLK_LRF_WLK_FAR',\n",
       " 'DRV_LRF_WLK_FAR',\n",
       " 'DRV_COM_WLK_FAR',\n",
       " 'DRV_EXP_WLK_FAR',\n",
       " 'WLK_EXP_DRV_FAR',\n",
       " 'WLK_HVY_DRV_FAR',\n",
       " 'WLK_HVY_WLK_FAR',\n",
       " 'WLK_LOC_WLK_FAR',\n",
       " 'WLK_LRF_DRV_FAR',\n",
       " 'DRV_HVY_WLK_FAR',\n",
       " 'WLK_COM_WLK_FAR',\n",
       " 'WLK_LOC_DRV_FAR']"
      ]
     },
     "execution_count": 49,
     "metadata": {},
     "output_type": "execute_result"
    }
   ],
   "source": [
    "list(set([x.split('__')[0] for x in skims.list_matrices() if '_FAR' in x]))"
   ]
  },
  {
   "cell_type": "code",
   "execution_count": 17,
   "id": "6824e4c6-074a-4821-8e76-46283a031f1c",
   "metadata": {},
   "outputs": [
    {
     "data": {
      "text/plain": [
       "['WEGR',\n",
       " 'IVT',\n",
       " 'WAIT',\n",
       " 'WAUX',\n",
       " 'IWAIT',\n",
       " 'BTOLL',\n",
       " 'TIME',\n",
       " 'KEYIVT',\n",
       " 'WACC',\n",
       " 'VTOLL',\n",
       " 'DTIM',\n",
       " 'FAR',\n",
       " 'TOTIVT',\n",
       " 'DDIST',\n",
       " 'BOARDS',\n",
       " 'XWAIT',\n",
       " 'DIST',\n",
       " 'FERRYIVT']"
      ]
     },
     "execution_count": 17,
     "metadata": {},
     "output_type": "execute_result"
    }
   ],
   "source": [
    "list(set([x.split('_')[-1] for x in skim_names]))"
   ]
  },
  {
   "cell_type": "code",
   "execution_count": null,
   "id": "822fb4f1-7d3f-4cfe-8138-853dc8f27ef6",
   "metadata": {},
   "outputs": [],
   "source": []
  }
 ],
 "metadata": {
  "kernelspec": {
   "display_name": "Python 3 (ipykernel)",
   "language": "python",
   "name": "python3"
  },
  "language_info": {
   "codemirror_mode": {
    "name": "ipython",
    "version": 3
   },
   "file_extension": ".py",
   "mimetype": "text/x-python",
   "name": "python",
   "nbconvert_exporter": "python",
   "pygments_lexer": "ipython3",
   "version": "3.9.7"
  }
 },
 "nbformat": 4,
 "nbformat_minor": 5
}
