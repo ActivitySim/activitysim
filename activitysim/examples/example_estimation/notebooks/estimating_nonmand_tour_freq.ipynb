{
 "cells": [
  {
   "cell_type": "markdown",
   "metadata": {
    "colab_type": "text",
    "id": "knOigRU1UJ9Y"
   },
   "source": [
    "# Estimating Non-Mandatory Tour Frequency\n",
    "\n"
   ]
  },
  {
   "cell_type": "markdown",
   "metadata": {},
   "source": [
    "# Load libraries"
   ]
  },
  {
   "cell_type": "code",
   "execution_count": null,
   "metadata": {
    "ExecuteTime": {
     "end_time": "2020-11-23T23:44:16.794539Z",
     "start_time": "2020-11-23T23:44:14.870324Z"
    }
   },
   "outputs": [],
   "source": [
    "import larch  # !conda install larch #for estimation\n",
    "import larch.util.activitysim\n",
    "import pandas as pd\n",
    "import numpy as np\n",
    "import yaml \n",
    "import larch.util.excel\n",
    "import os"
   ]
  },
  {
   "cell_type": "markdown",
   "metadata": {},
   "source": [
    "# Required Inputs\n",
    "\n",
    "In addition to a working ActivitySim model setup, estimation mode requires an ActivitySim format household travel survey.  An ActivitySim format household travel survey is very similar to ActivitySim's simulation model tables:\n",
    "\n",
    " - households\n",
    " - persons\n",
    " - tours\n",
    " - joint_tour_participants\n",
    " - trips (not yet implemented)\n",
    "\n",
    "Examples of the ActivitySim format household travel survey are included in the [example_estimation data folders](https://github.com/RSGInc/activitysim/tree/develop/activitysim/examples/example_estimation).  The user is responsible for formatting their household travel survey into the appropriate format.  \n",
    "\n",
    "After creating an ActivitySim format household travel survey, the `scripts/infer.py` script is run to append additional calculated fields.  An example of an additional calculated field is the `household:joint_tour_frequency`, which is calculated based on the `tours` and `joint_tour_participants` tables.  \n",
    "\n",
    "The input survey files are below."
   ]
  },
  {
   "cell_type": "markdown",
   "metadata": {},
   "source": [
    "### Survey households"
   ]
  },
  {
   "cell_type": "code",
   "execution_count": null,
   "metadata": {
    "ExecuteTime": {
     "end_time": "2020-11-23T23:44:16.812770Z",
     "start_time": "2020-11-23T23:44:16.796499Z"
    }
   },
   "outputs": [],
   "source": [
    "pd.read_csv(\"../data_sf/survey_data/override_households.csv\")"
   ]
  },
  {
   "cell_type": "markdown",
   "metadata": {},
   "source": [
    "### Survey persons"
   ]
  },
  {
   "cell_type": "code",
   "execution_count": null,
   "metadata": {
    "ExecuteTime": {
     "end_time": "2020-11-23T23:44:16.836679Z",
     "start_time": "2020-11-23T23:44:16.814791Z"
    }
   },
   "outputs": [],
   "source": [
    "pd.read_csv(\"../data_sf/survey_data/override_persons.csv\")"
   ]
  },
  {
   "cell_type": "markdown",
   "metadata": {},
   "source": [
    "### Survey tours"
   ]
  },
  {
   "cell_type": "code",
   "execution_count": null,
   "metadata": {
    "ExecuteTime": {
     "end_time": "2020-11-23T23:44:17.737777Z",
     "start_time": "2020-11-23T23:44:17.711046Z"
    }
   },
   "outputs": [],
   "source": [
    "pd.read_csv(\"../data_sf/survey_data/override_tours.csv\")"
   ]
  },
  {
   "cell_type": "markdown",
   "metadata": {},
   "source": [
    "### Survey joint tour participants"
   ]
  },
  {
   "cell_type": "code",
   "execution_count": null,
   "metadata": {
    "ExecuteTime": {
     "end_time": "2020-11-23T23:44:19.074460Z",
     "start_time": "2020-11-23T23:44:19.063775Z"
    }
   },
   "outputs": [],
   "source": [
    "pd.read_csv(\"../data_sf/survey_data/survey_joint_tour_participants.csv\")"
   ]
  },
  {
   "cell_type": "markdown",
   "metadata": {},
   "source": [
    "# Example Setup if Needed\n",
    "\n",
    "To avoid duplication of inputs, especially model settings and expressions, the `example_estimation` depends on the `example`.  The following commands create an example setup for use.  The location of these example setups (i.e. the folders) are important because the paths are referenced in this notebook.  The commands below download the skims.omx for the SF county example from the [activitysim resources repository](https://github.com/RSGInc/activitysim_resources)."
   ]
  },
  {
   "cell_type": "code",
   "execution_count": null,
   "metadata": {
    "ExecuteTime": {
     "end_time": "2020-11-23T23:44:39.345076Z",
     "start_time": "2020-11-23T23:44:28.697272Z"
    }
   },
   "outputs": [],
   "source": [
    "!activitysim create -e example_estimation_sf -d test"
   ]
  },
  {
   "cell_type": "markdown",
   "metadata": {},
   "source": [
    "# Run the Estimation Example"
   ]
  },
  {
   "cell_type": "code",
   "execution_count": null,
   "metadata": {
    "ExecuteTime": {
     "end_time": "2020-11-23T23:48:49.947807Z",
     "start_time": "2020-11-23T23:44:49.590207Z"
    }
   },
   "outputs": [],
   "source": [
    "%cd test\n",
    "!activitysim run -c configs_estimation/configs -c configs -o output -d data_sf"
   ]
  },
  {
   "cell_type": "code",
   "execution_count": null,
   "metadata": {
    "ExecuteTime": {
     "end_time": "2020-11-23T23:09:01.521394Z",
     "start_time": "2020-11-23T23:09:01.519415Z"
    }
   },
   "outputs": [],
   "source": [
    "# os.chdir(os.path.expanduser(\"~/sandbox/cdap-est/test_example_estimation\"))"
   ]
  },
  {
   "cell_type": "code",
   "execution_count": null,
   "metadata": {
    "ExecuteTime": {
     "end_time": "2020-11-23T23:59:10.221859Z",
     "start_time": "2020-11-23T23:59:10.208990Z"
    }
   },
   "outputs": [],
   "source": [
    "# Load the settings file from the original config directory, not the EDB\n",
    "\n",
    "settings = yaml.load(\n",
    "    open(os.path.join(\"configs\",\"non_mandatory_tour_frequency.yaml\"),\"r\"), \n",
    "    Loader=yaml.SafeLoader,\n",
    ")\n",
    "settings"
   ]
  },
  {
   "cell_type": "markdown",
   "metadata": {},
   "source": [
    "# Read EDB\n",
    "\n",
    "The next step is to read the EDB, including the coefficients, model settings, utilities specification, and chooser and alternative data."
   ]
  },
  {
   "cell_type": "code",
   "execution_count": null,
   "metadata": {
    "ExecuteTime": {
     "end_time": "2020-11-23T23:59:14.496909Z",
     "start_time": "2020-11-23T23:59:14.492644Z"
    }
   },
   "outputs": [],
   "source": [
    "segment_names = [s['NAME'] for s in settings['SPEC_SEGMENTS']]\n",
    "segment_names"
   ]
  },
  {
   "cell_type": "code",
   "execution_count": null,
   "metadata": {
    "ExecuteTime": {
     "end_time": "2020-11-23T23:59:15.592148Z",
     "start_time": "2020-11-23T23:59:15.589198Z"
    }
   },
   "outputs": [],
   "source": [
    "edb_directory = f\"output/estimation_data_bundle/non_mandatory_tour_frequency\"\n",
    "\n",
    "def read_csv(filename, **kwargs):\n",
    "    return pd.read_csv(os.path.join(edb_directory, filename), **kwargs)"
   ]
  },
  {
   "cell_type": "code",
   "execution_count": null,
   "metadata": {
    "ExecuteTime": {
     "end_time": "2020-11-24T00:08:49.902779Z",
     "start_time": "2020-11-24T00:08:49.892420Z"
    }
   },
   "outputs": [],
   "source": [
    "# TEMP FILE RENAMES -- REMOVE THIS CELL WHEN EDB IS FIXED\n",
    "os.makedirs(edb_directory, exist_ok=True)\n",
    "for segment_name in segment_names:\n",
    "    os.makedirs(os.path.join(edb_directory, segment_name), exist_ok=True)\n",
    "    os.rename(\n",
    "        os.path.join(\n",
    "            \"output\", \"estimation_data_bundle\", \n",
    "            f\"non_mandatory_tour_frequency_{segment_name}\", \n",
    "            f\"non_mandatory_tour_frequency_{segment_name}_coefficients.csv\"\n",
    "        ),\n",
    "        os.path.join(\n",
    "            edb_directory, \n",
    "            segment_name, \n",
    "            f\"non_mandatory_tour_frequency_{segment_name}_coefficients.csv\"\n",
    "        ),\n",
    "    )\n",
    "    os.rename(\n",
    "        os.path.join(\n",
    "            \"output\", \"estimation_data_bundle\", \n",
    "            f\"non_mandatory_tour_frequency_{segment_name}\", \n",
    "            f\"non_mandatory_tour_frequency_{segment_name}_choosers_combined.csv\"\n",
    "        ),\n",
    "        os.path.join(\n",
    "            edb_directory, \n",
    "            segment_name, \n",
    "            f\"non_mandatory_tour_frequency_choosers_combined.csv\"\n",
    "        ),\n",
    "    )\n",
    "    os.rename(\n",
    "        os.path.join(\n",
    "            \"output\", \"estimation_data_bundle\", \n",
    "            f\"non_mandatory_tour_frequency_{segment_name}\", \n",
    "            f\"non_mandatory_tour_frequency_{segment_name}_interaction_expression_values.csv\"\n",
    "        ),\n",
    "        os.path.join(\n",
    "            edb_directory, \n",
    "            segment_name, \n",
    "            f\"non_mandatory_tour_frequency_interaction_expression_values.csv\"\n",
    "        ),\n",
    "    )\n",
    "    \n",
    "os.rename(\n",
    "    os.path.join(\n",
    "        \"output\", \"estimation_data_bundle\", \n",
    "        f\"non_mandatory_tour_frequency_{segment_name}\", \n",
    "        f\"non_mandatory_tour_frequency_{segment_name}_SPEC.csv\"\n",
    "    ),\n",
    "    os.path.join(\n",
    "        edb_directory, \n",
    "        f\"non_mandatory_tour_frequency_SPEC.csv\"\n",
    "    ),\n",
    ")\n",
    "\n",
    "os.rename(\n",
    "    os.path.join(\n",
    "        \"output\", \"estimation_data_bundle\", \n",
    "        f\"non_mandatory_tour_frequency_{segment_name}\", \n",
    "        f\"non_mandatory_tour_frequency_{segment_name}_alternatives.csv\"\n",
    "    ),\n",
    "    os.path.join(\n",
    "        edb_directory, \n",
    "        f\"non_mandatory_tour_frequency_alternatives.csv\"\n",
    "    ),\n",
    ")\n"
   ]
  },
  {
   "cell_type": "code",
   "execution_count": null,
   "metadata": {
    "ExecuteTime": {
     "end_time": "2020-11-24T00:08:54.770460Z",
     "start_time": "2020-11-24T00:08:54.762453Z"
    }
   },
   "outputs": [],
   "source": [
    "spec = read_csv(f\"non_mandatory_tour_frequency_SPEC.csv\")\n",
    "alt_def = read_csv(f\"non_mandatory_tour_frequency_alternatives.csv\", index_col=0)"
   ]
  },
  {
   "cell_type": "code",
   "execution_count": null,
   "metadata": {
    "ExecuteTime": {
     "end_time": "2020-11-23T23:09:05.950803Z",
     "start_time": "2020-11-23T23:09:01.552880Z"
    },
    "colab": {
     "base_uri": "https://localhost:8080/",
     "height": 1000
    },
    "colab_type": "code",
    "id": "cBqPPkBpnaUZ",
    "outputId": "bd780019-c200-4cf6-844a-991c4d026480"
   },
   "outputs": [],
   "source": [
    "coefficients = {}\n",
    "chooser_data = {}\n",
    "alt_values = {}\n",
    "\n",
    "for segment_name in segment_names:\n",
    "    coefficients[segment_name] = read_csv(\n",
    "        f\"{segment_name}/non_mandatory_tour_frequency_{segment_name}_coefficients.csv\", \n",
    "        index_col='coefficient_name',\n",
    "    )\n",
    "    chooser_data[segment_name] = read_csv(\n",
    "        f\"{segment_name}/non_mandatory_tour_frequency_choosers_combined.csv\",\n",
    "    )\n",
    "    alt_values[segment_name] = read_csv(\n",
    "        f\"{segment_name}/non_mandatory_tour_frequency_interaction_expression_values.csv\", \n",
    "    )"
   ]
  },
  {
   "cell_type": "code",
   "execution_count": null,
   "metadata": {
    "ExecuteTime": {
     "end_time": "2020-11-23T23:09:05.964518Z",
     "start_time": "2020-11-23T23:09:05.952321Z"
    }
   },
   "outputs": [],
   "source": [
    "# Assume all coefficients with exactly equal current values are\n",
    "# actually the same estimated coefficient value and should be \n",
    "# treated as such by Larch.  Comment out this entire cell to relax\n",
    "# this assumption, although be careful about the number of unique\n",
    "# parameters to estimate in these models.\n",
    "\n",
    "relabel_coef = {}\n",
    "for segment_name in segment_names:\n",
    "    coef_backwards_map = dict([(j,i) for i,j in coefficients[segment_name]['value'].items()])\n",
    "    relabel_coef[segment_name] = r = coefficients[segment_name]['value'].map(coef_backwards_map)\n",
    "    spec[segment_name] = spec[segment_name].map(r)\n"
   ]
  },
  {
   "cell_type": "markdown",
   "metadata": {},
   "source": [
    "### Utility specification"
   ]
  },
  {
   "cell_type": "code",
   "execution_count": null,
   "metadata": {
    "ExecuteTime": {
     "end_time": "2020-11-23T23:09:05.989692Z",
     "start_time": "2020-11-23T23:09:05.975849Z"
    }
   },
   "outputs": [],
   "source": [
    "spec"
   ]
  },
  {
   "cell_type": "markdown",
   "metadata": {},
   "source": [
    "### Alternatives data"
   ]
  },
  {
   "cell_type": "code",
   "execution_count": null,
   "metadata": {
    "ExecuteTime": {
     "end_time": "2020-11-23T23:09:06.117526Z",
     "start_time": "2020-11-23T23:09:05.991130Z"
    }
   },
   "outputs": [],
   "source": [
    "alt_values['PTYPE_FULL']"
   ]
  },
  {
   "cell_type": "markdown",
   "metadata": {},
   "source": [
    "### Chooser data"
   ]
  },
  {
   "cell_type": "code",
   "execution_count": null,
   "metadata": {
    "ExecuteTime": {
     "end_time": "2020-11-23T23:09:06.136219Z",
     "start_time": "2020-11-23T23:09:06.119057Z"
    }
   },
   "outputs": [],
   "source": [
    "chooser_data['PTYPE_FULL']"
   ]
  },
  {
   "cell_type": "markdown",
   "metadata": {},
   "source": [
    "# Data Processing and Estimation Setup\n",
    "\n",
    "The next step is to transform the EDB for larch for model re-estimation.  "
   ]
  },
  {
   "cell_type": "code",
   "execution_count": null,
   "metadata": {
    "ExecuteTime": {
     "end_time": "2020-11-23T23:09:06.139492Z",
     "start_time": "2020-11-23T23:09:06.137687Z"
    }
   },
   "outputs": [],
   "source": [
    "from larch import P, X"
   ]
  },
  {
   "cell_type": "markdown",
   "metadata": {},
   "source": [
    "### Utility specifications"
   ]
  },
  {
   "cell_type": "code",
   "execution_count": null,
   "metadata": {
    "ExecuteTime": {
     "end_time": "2020-11-23T23:09:06.811712Z",
     "start_time": "2020-11-23T23:09:06.140793Z"
    }
   },
   "outputs": [],
   "source": [
    "m = {}\n",
    "for segment_name in segment_names:\n",
    "    segment_model = m[segment_name] = larch.Model()\n",
    "    segment_model.utility_ca = larch.util.activitysim.linear_utility_from_spec(\n",
    "        spec, x_col='Label', p_col=segment_name, \n",
    "    )\n",
    "    larch.util.activitysim.apply_coefficients(coefficients[segment_name], segment_model)\n",
    "    segment_model.choice_co_code = 'override_choice'"
   ]
  },
  {
   "cell_type": "markdown",
   "metadata": {},
   "source": [
    "### Attach Data"
   ]
  },
  {
   "cell_type": "code",
   "execution_count": null,
   "metadata": {
    "ExecuteTime": {
     "end_time": "2020-11-23T23:09:44.195032Z",
     "start_time": "2020-11-23T23:09:06.813044Z"
    }
   },
   "outputs": [],
   "source": [
    "for segment_name in segment_names:\n",
    "    x_co = chooser_data[segment_name].set_index('person_id').rename(columns={'TAZ':'HOMETAZ'})\n",
    "    x_ca = larch.util.activitysim.cv_to_ca(\n",
    "        alt_values[segment_name].set_index(['person_id', 'variable'])\n",
    "    )\n",
    "    d = larch.DataFrames(\n",
    "        co=x_co,\n",
    "        ca=x_ca,\n",
    "        av=True,\n",
    "    )\n",
    "    m[segment_name].dataservice = d"
   ]
  },
  {
   "cell_type": "markdown",
   "metadata": {},
   "source": [
    "# Estimate\n",
    "\n",
    "With the model setup for estimation, the next step is to estimate the model coefficients.  Make sure to use a sufficiently large enough household sample and set of zones to avoid an over-specified model, which does not have a numerically stable likelihood maximizing solution.  Larch has two built-in estimation methods: BHHH and SLSQP.  BHHH is the default and typically runs faster, but does not follow constraints on parameters.  SLSQP is safer, but slower, and may need additional iterations."
   ]
  },
  {
   "cell_type": "code",
   "execution_count": null,
   "metadata": {
    "ExecuteTime": {
     "end_time": "2020-11-23T23:10:01.773541Z",
     "start_time": "2020-11-23T23:09:44.196454Z"
    }
   },
   "outputs": [],
   "source": [
    "for segment_name in segment_names:\n",
    "    m[segment_name].estimate(method='SLSQP', options={'maxiter':1000})"
   ]
  },
  {
   "cell_type": "markdown",
   "metadata": {},
   "source": [
    "### Estimated coefficients"
   ]
  },
  {
   "cell_type": "code",
   "execution_count": null,
   "metadata": {
    "ExecuteTime": {
     "end_time": "2020-11-23T23:10:02.112192Z",
     "start_time": "2020-11-23T23:10:01.775480Z"
    }
   },
   "outputs": [],
   "source": [
    "for segment_name in segment_names:\n",
    "    display(m[segment_name].parameter_summary())"
   ]
  },
  {
   "cell_type": "markdown",
   "metadata": {
    "colab_type": "text",
    "id": "TojXWivZsx7M"
   },
   "source": [
    "# Output Estimation Results"
   ]
  },
  {
   "cell_type": "code",
   "execution_count": null,
   "metadata": {
    "ExecuteTime": {
     "end_time": "2020-11-23T23:10:02.471902Z",
     "start_time": "2020-11-23T23:10:02.117036Z"
    }
   },
   "outputs": [],
   "source": [
    "for segment_name in segment_names:\n",
    "    est_names = [j for j in coefficients[segment_name].index if j in m[segment_name].pf.index]\n",
    "    try:\n",
    "        for unique_coef,common_coef in relabel_coef[segment_name].items():\n",
    "            coefficients[segment_name].loc[unique_coef,'value'] = m[segment_name].pf.loc[common_coef, 'value']\n",
    "    except NameError:\n",
    "        coefficients[segment_name].loc[est_names,'value'] = m[segment_name].pf.loc[est_names, 'value']"
   ]
  },
  {
   "cell_type": "code",
   "execution_count": null,
   "metadata": {
    "ExecuteTime": {
     "end_time": "2020-11-23T23:10:02.476209Z",
     "start_time": "2020-11-23T23:10:02.473811Z"
    }
   },
   "outputs": [],
   "source": [
    "os.makedirs(os.path.join(edb_directory,'estimated'), exist_ok=True)"
   ]
  },
  {
   "cell_type": "markdown",
   "metadata": {},
   "source": [
    "### Write the re-estimated coefficients file"
   ]
  },
  {
   "cell_type": "code",
   "execution_count": null,
   "metadata": {
    "ExecuteTime": {
     "end_time": "2020-11-23T23:10:02.496500Z",
     "start_time": "2020-11-23T23:10:02.477634Z"
    }
   },
   "outputs": [],
   "source": [
    "for segment_name in segment_names:\n",
    "    coefficients[segment_name].reset_index().to_csv(\n",
    "        os.path.join(\n",
    "            edb_directory,\n",
    "            'estimated',\n",
    "            f\"non_mandatory_tour_frequency_{segment_name}_coefficients.csv\",\n",
    "        ), \n",
    "        index=False,\n",
    "    )"
   ]
  },
  {
   "cell_type": "markdown",
   "metadata": {},
   "source": [
    "### Write the model estimation report, including coefficient t-statistic and log likelihood"
   ]
  },
  {
   "cell_type": "code",
   "execution_count": null,
   "metadata": {
    "ExecuteTime": {
     "end_time": "2020-11-23T23:10:05.651127Z",
     "start_time": "2020-11-23T23:10:02.497942Z"
    }
   },
   "outputs": [],
   "source": [
    "for segment_name in segment_names:\n",
    "    m[segment_name].to_xlsx(\n",
    "        os.path.join(\n",
    "            edb_directory,\n",
    "            'estimated',\n",
    "            f\"non_mandatory_tour_frequency_{segment_name}_model_estimation.xlsx\",\n",
    "        ), \n",
    "        data_statistics=False\n",
    "    )"
   ]
  }
 ],
 "metadata": {
  "colab": {
   "name": "asim_tutorial.ipynb",
   "provenance": [],
   "toc_visible": true
  },
  "kernelspec": {
   "display_name": "Python 3",
   "language": "python",
   "name": "python3"
  },
  "language_info": {
   "codemirror_mode": {
    "name": "ipython",
    "version": 3
   },
   "file_extension": ".py",
   "mimetype": "text/x-python",
   "name": "python",
   "nbconvert_exporter": "python",
   "pygments_lexer": "ipython3",
   "version": "3.8.6"
  },
  "toc": {
   "base_numbering": 1,
   "nav_menu": {},
   "number_sections": true,
   "sideBar": true,
   "skip_h1_title": false,
   "title_cell": "Table of Contents",
   "title_sidebar": "Contents",
   "toc_cell": false,
   "toc_position": {},
   "toc_section_display": true,
   "toc_window_display": true
  }
 },
 "nbformat": 4,
 "nbformat_minor": 1
}
