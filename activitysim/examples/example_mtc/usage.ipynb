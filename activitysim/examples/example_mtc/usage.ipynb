{
 "cells": [
  {
   "cell_type": "code",
   "execution_count": null,
   "id": "5381f9e0",
   "metadata": {},
   "outputs": [],
   "source": [
    "import os\n",
    "import numpy as np\n",
    "import pandas as pd\n",
    "import matplotlib.pyplot as plt"
   ]
  },
  {
   "cell_type": "code",
   "execution_count": null,
   "id": "3b521609",
   "metadata": {},
   "outputs": [],
   "source": [
    "def read_mem_log(log_dir):\n",
    "    mem_log_file_path = os.path.join(log_dir, 'mem.csv')\n",
    "\n",
    "    mem_df = pd.read_csv(mem_log_file_path)\n",
    "\n",
    "    t = pd.to_datetime(mem_df.time, errors='coerce', format='%Y/%m/%d %H:%M:%S')\n",
    "    seconds = (t - t.min()).dt.total_seconds()\n",
    "    minutes = (seconds / 60)\n",
    "\n",
    "    mem_df['minutes'] = minutes.round(2)\n",
    "    mem_df['rss_gb'] = mem_df.full_rss.astype(int) / 1_000_000_000\n",
    "\n",
    "    mem_df = mem_df[['rss_gb', 'minutes']].set_index('minutes')\n",
    "    \n",
    "    return mem_df"
   ]
  },
  {
   "cell_type": "code",
   "execution_count": null,
   "id": "1ced6f96",
   "metadata": {},
   "outputs": [],
   "source": [
    "def plot_mem_usage(log_dir):\n",
    "    \n",
    "    mem_df = read_mem_log(log_dir)\n",
    "    \n",
    "    with plt.style.context('seaborn'):\n",
    "        ax = mem_df['rss_gb'].plot()\n",
    "        ax.set_ylabel(f\"RSS (GB)\")\n",
    "        ax.set_xlabel(f\"runtime (minutes)\")\n",
    "        plt.title(f\"title\")\n"
   ]
  },
  {
   "cell_type": "code",
   "execution_count": null,
   "id": "7d923538",
   "metadata": {},
   "outputs": [],
   "source": [
    "#output_dir = 'output_test'\n",
    "#log_dir = os.path.join(output_dir, 'log')\n",
    "\n",
    "plot_mem_usage('output_test/log_100k_p1')"
   ]
  },
  {
   "cell_type": "code",
   "execution_count": null,
   "id": "4fb1e836",
   "metadata": {},
   "outputs": [],
   "source": []
  }
 ],
 "metadata": {
  "kernelspec": {
   "display_name": "Python 3",
   "language": "python",
   "name": "python3"
  },
  "language_info": {
   "codemirror_mode": {
    "name": "ipython",
    "version": 3
   },
   "file_extension": ".py",
   "mimetype": "text/x-python",
   "name": "python",
   "nbconvert_exporter": "python",
   "pygments_lexer": "ipython3",
   "version": "3.9.2"
  }
 },
 "nbformat": 4,
 "nbformat_minor": 5
}
