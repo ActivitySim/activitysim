{
 "cells": [
  {
   "cell_type": "markdown",
   "id": "98326f35-afc7-4e44-97d4-a7d28738f946",
   "metadata": {},
   "source": [
    "# Interactive Interface\n",
    "\n",
    "In addition to the command line tools, you can also work with an ActivitySim\n",
    "model in an interactive environment, such as a Jupyter Notebook.  Much of the\n",
    "interface for working in this way can be found in the `activitysim.core.workflow`\n",
    "module."
   ]
  },
  {
   "cell_type": "code",
   "execution_count": null,
   "id": "740baa17-048d-4606-a89e-2fa0178021ba",
   "metadata": {
    "tags": []
   },
   "outputs": [],
   "source": [
    "from activitysim.core import workflow\n",
    "from activitysim import abm"
   ]
  },
  {
   "cell_type": "markdown",
   "id": "c8b94bdb-ceaa-42a2-8aeb-5c4a19db4248",
   "metadata": {},
   "source": [
    "To work with a built-in example model, you can use the\n",
    "{py:func}`workflow.create_example <activitysim.core.workflow.create_example>`\n",
    "function shortcut to get a model state to experiment with."
   ]
  },
  {
   "cell_type": "code",
   "execution_count": null,
   "id": "e39749ff-73d9-4165-861b-f1478c4eab64",
   "metadata": {
    "tags": []
   },
   "outputs": [],
   "source": [
    "state = workflow.create_example(\"prototype_mtc\", directory=\"/tmp/examples\")"
   ]
  },
  {
   "cell_type": "markdown",
   "id": "61e4c50e-61bc-4b22-a360-d18f15c626ba",
   "metadata": {},
   "source": [
    "To work with an existing model (not necessarily an example model), you can use\n",
    "{py:meth}`State.make_default <activitysim.core.workflow.State.make_default>`"
   ]
  },
  {
   "cell_type": "code",
   "execution_count": null,
   "id": "3b5c4e98-b895-4bce-b78b-203a5dfffa80",
   "metadata": {
    "tags": []
   },
   "outputs": [],
   "source": [
    "state = workflow.State.make_default(\n",
    "    working_dir=\"/tmp/examples/prototype_mtc\",\n",
    "    config_dirs=\"configs\",\n",
    "    data_dir=\"data\",\n",
    "    output_dir=\"output\",\n",
    ")"
   ]
  },
  {
   "cell_type": "markdown",
   "id": "deaab648-d8be-4f20-a4f6-d89e2012a026",
   "metadata": {},
   "source": [
    "## Manipulating Settings\n",
    "\n",
    "On major advantage of running ActivitySim in an interactive environment\n",
    "is the ability to manipulate model features (e.g. settings, file locations) \n",
    "before executing the model.  For example, we can see and alter the number of \n",
    "households in our simulation sample."
   ]
  },
  {
   "cell_type": "code",
   "execution_count": null,
   "id": "1b8b5766-516a-4b28-aa55-d243ccf195dd",
   "metadata": {
    "tags": []
   },
   "outputs": [],
   "source": [
    "state.settings.households_sample_size"
   ]
  },
  {
   "cell_type": "markdown",
   "id": "14374a65-f8fc-4494-8243-5117a6143770",
   "metadata": {},
   "source": [
    "The settings files we loaded are configured to run a sample of 100 thousand\n",
    "households.  To make that a smaller (or larger) number, we can just assign to \n",
    "that setting:"
   ]
  },
  {
   "cell_type": "code",
   "execution_count": null,
   "id": "72325d1a-6ed5-46c4-91e4-eee63a9d7eae",
   "metadata": {
    "tags": []
   },
   "outputs": [],
   "source": [
    "state.settings.households_sample_size = 5000\n",
    "state.settings.households_sample_size"
   ]
  },
  {
   "cell_type": "markdown",
   "id": "66007a57-2643-4f2f-b26c-22b720ec43df",
   "metadata": {},
   "source": [
    "The :ref:`Settings.households_sample_size` setting is required to be\n",
    "an integer. If we give it a floating point number instead, that value\n",
    "will be coerced to an integer (by dropping the fractional part)."
   ]
  },
  {
   "cell_type": "code",
   "execution_count": null,
   "id": "914ad776-9e7c-4f03-866b-832e652a83e2",
   "metadata": {
    "tags": []
   },
   "outputs": [],
   "source": [
    "state.settings.households_sample_size = 3500.8\n",
    "state.settings.households_sample_size"
   ]
  },
  {
   "cell_type": "markdown",
   "id": "5c277b7a-f2ee-4343-b1da-a2a2a31ca02c",
   "metadata": {},
   "source": [
    "We can even give it a string that can be coerced to into an integer..."
   ]
  },
  {
   "cell_type": "code",
   "execution_count": null,
   "id": "0791ee6b-93e3-48a4-8b9e-73bdefd7898d",
   "metadata": {
    "tags": []
   },
   "outputs": [],
   "source": [
    "state.settings.households_sample_size = \"2500\""
   ]
  },
  {
   "cell_type": "markdown",
   "id": "20c8ec53-2ee1-4e36-8953-13c9c030c767",
   "metadata": {},
   "source": [
    "... but if it's a value that just simply can't be interpreted as an integer, you'll get an error."
   ]
  },
  {
   "cell_type": "code",
   "execution_count": null,
   "id": "174f5816-b080-49ef-8468-367f7b617f57",
   "metadata": {
    "tags": [
     "raises-exception"
    ]
   },
   "outputs": [],
   "source": [
    "try:\n",
    "    state.settings.households_sample_size = \"banana\"\n",
    "except Exception as err:\n",
    "    print(err)"
   ]
  },
  {
   "cell_type": "markdown",
   "id": "4b0b56a9-905d-4802-8337-8f84fda32e94",
   "metadata": {},
   "source": [
    "## Model Execution\n",
    "\n",
    "Once you are done editing any settings or configs, you can run the model, either all at once, or stepwise through individual components; the\n",
    "{py:meth}`State.run <activitysim.core.workflow.State.run>`\n",
    "accessor allows for either.  To run an individual component, you can \n",
    "call it as a method on {py:meth}`State.run <activitysim.core.workflow.State.run>`:"
   ]
  },
  {
   "cell_type": "code",
   "execution_count": null,
   "id": "cc5a5e74-e4b3-46d6-b2cd-a51585c3642b",
   "metadata": {
    "tags": []
   },
   "outputs": [],
   "source": [
    "state.run.initialize_landuse()"
   ]
  },
  {
   "cell_type": "markdown",
   "id": "82c45ef0-8738-4384-b069-4f5c2f1b2b26",
   "metadata": {},
   "source": [
    "This way of running also offers tab-completion in compatible environments,\n",
    "so you can type `state.run.ini<tab>` and see all the model components that\n",
    "have names starting with \"ini\".\n",
    "\n",
    "Alternatively, you can pass a list of model component names, to run multiple\n",
    "components in a block together."
   ]
  },
  {
   "cell_type": "code",
   "execution_count": null,
   "id": "d807b9a2-1f4e-4e99-96ab-037fdf220404",
   "metadata": {
    "tags": []
   },
   "outputs": [],
   "source": [
    "state.run([\n",
    "    \"initialize_households\", \n",
    "    \"compute_accessibility\", \n",
    "    \"school_location\", \n",
    "])"
   ]
  },
  {
   "cell_type": "markdown",
   "id": "57acf0cd-1d7f-4a87-bf39-baeedd502657",
   "metadata": {},
   "source": [
    "Note that when running interactively like this, it is up to the user to\n",
    "monitor the correct sequence of components, as the list of components in\n",
    "{py:attr}`Settings.models <activitysim.core.configuration.Settings.models>` \n",
    "is ignored in favor of the user's interactive \n",
    "instructions.  So it is up to the user to ensure that all necessary\n",
    "antecedent data is available for each component, either by running the \n",
    "components in the correct order, or otherwise manually preparing the data\n",
    "tables with the necessary values."
   ]
  },
  {
   "cell_type": "markdown",
   "id": "e269b1a9-a4df-484f-8117-b3545d78d473",
   "metadata": {},
   "source": [
    "## Manipulating Data\n",
    "\n",
    "In addition to manipulating settings, running interactively allows a user to \n",
    "read (and potentially write) to data tables at intermediate points within the model\n",
    "stream.  For example, the \n",
    "{py:meth}`State.get_dataframe <activitysim.core.workflow.State.get_dataframe>`\n",
    "method can give us access to data tables as a pandas DataFrame."
   ]
  },
  {
   "cell_type": "code",
   "execution_count": null,
   "id": "13897aa6-60d3-441d-85b1-16caf0d76f8c",
   "metadata": {
    "tags": []
   },
   "outputs": [],
   "source": [
    "accessibility_df = state.get_dataframe(\"accessibility\")\n",
    "accessibility_df.head()"
   ]
  },
  {
   "cell_type": "markdown",
   "id": "7a832545-ca2e-4cf9-b13d-8dfdbc68b498",
   "metadata": {},
   "source": [
    "We can use that DataFrame to do any Python analysis, summarization, \n",
    "or visualization that we like, using all the normal Python libraries\n",
    "that can work with DataFrames."
   ]
  },
  {
   "cell_type": "code",
   "execution_count": null,
   "id": "0783f55a-fda8-4e9d-92bb-4bfe83a471c4",
   "metadata": {
    "tags": []
   },
   "outputs": [],
   "source": [
    "import altair as alt\n",
    "\n",
    "alt.Chart(accessibility_df).mark_circle(size=100).encode(\n",
    "    x=alt.X('auPkRetail:Q', scale=alt.Scale(zero=False)),\n",
    "    y=alt.Y('auPkTotal:Q', scale=alt.Scale(zero=False)),\n",
    ").interactive()"
   ]
  },
  {
   "cell_type": "markdown",
   "id": "47d0cf4f-95f7-4789-9d2f-b9b677bffcf3",
   "metadata": {},
   "source": [
    "ActivitySim also includes a few convenient reporting functions, \n",
    "that can generate histograms or nominal distributions of data features."
   ]
  },
  {
   "cell_type": "code",
   "execution_count": null,
   "id": "c61ec527-ae43-4537-8ec4-cb98ed0da028",
   "metadata": {
    "tags": []
   },
   "outputs": [],
   "source": [
    "state.report.histogram(\n",
    "    table_name=\"persons\", \n",
    "    column_name=\"distance_to_school\",\n",
    ")"
   ]
  },
  {
   "cell_type": "code",
   "execution_count": null,
   "id": "8b450ddf-999d-4438-9101-6878610ee2fc",
   "metadata": {
    "tags": []
   },
   "outputs": [],
   "source": [
    "state.report.nominal_distribution(\n",
    "    tablename=\"persons\", \n",
    "    nominal_col=\"ptype\",\n",
    "    row_grouping=\"female\",\n",
    "    categories={1: \"1: Full-time worker\",\n",
    "                2: \"2: Part-time worker\",\n",
    "                3: \"3: College student\",\n",
    "                4: \"4: Non-working adult\",\n",
    "                5: \"5: Retired person\",\n",
    "                6: \"6: Driving age student\",\n",
    "                7: \"7: Non-driving student\",\n",
    "                8: \"8: Pre-school child\"}\n",
    ")"
   ]
  }
 ],
 "metadata": {
  "kernelspec": {
   "display_name": "Python 3 (ipykernel)",
   "language": "python",
   "name": "python3"
  },
  "language_info": {
   "codemirror_mode": {
    "name": "ipython",
    "version": 3
   },
   "file_extension": ".py",
   "mimetype": "text/x-python",
   "name": "python",
   "nbconvert_exporter": "python",
   "pygments_lexer": "ipython3",
   "version": "3.10.9"
  }
 },
 "nbformat": 4,
 "nbformat_minor": 5
}
