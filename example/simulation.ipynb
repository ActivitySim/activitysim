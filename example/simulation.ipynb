{
 "metadata": {
  "name": "",
  "signature": "sha256:da3e17f12c3106da6a68cb4c5a49e1ff75508cc1bd6a3fae29818f3e116ac690"
 },
 "nbformat": 3,
 "nbformat_minor": 0,
 "worksheets": [
  {
   "cells": [
    {
     "cell_type": "code",
     "collapsed": false,
     "input": [
      "%load_ext autoreload\n",
      "%autoreload 2\n",
      "import urbansim.sim.simulation as sim\n",
      "from activitysim import defaults"
     ],
     "language": "python",
     "metadata": {},
     "outputs": [],
     "prompt_number": 1
    },
    {
     "cell_type": "code",
     "collapsed": false,
     "input": [
      "sim.run([\"workplace_location_simulate\"])"
     ],
     "language": "python",
     "metadata": {},
     "outputs": [
      {
       "output_type": "stream",
       "stream": "stdout",
       "text": [
        "Running model 'workplace_location_simulate'\n",
        "WARNING: Some columns have no variability:\n"
       ]
      },
      {
       "output_type": "stream",
       "stream": "stdout",
       "text": [
        "['mode_choice_logsums']\n",
        "Describe of choices:\n",
        "count    2621.000000\n",
        "mean      804.921786\n",
        "std       421.650043\n",
        "min         3.000000\n",
        "25%       484.000000\n",
        "50%       774.000000\n",
        "75%      1224.000000\n",
        "max      1452.000000\n",
        "Name: TAZ, dtype: float64\n",
        "Time to execute model 'workplace_location_simulate': 9.68s\n",
        "Total time to execute: 9.68s\n"
       ]
      }
     ],
     "prompt_number": 2
    },
    {
     "cell_type": "code",
     "collapsed": false,
     "input": [
      "print sim.get_table(\"persons\").distance_to_work.describe()"
     ],
     "language": "python",
     "metadata": {},
     "outputs": [
      {
       "output_type": "stream",
       "stream": "stdout",
       "text": [
        "count    2621.000000\n",
        "mean       39.853052\n",
        "std        23.587523\n",
        "min         0.520000\n",
        "25%        22.370000\n",
        "50%        37.440000\n",
        "75%        52.680000\n",
        "max       135.400000\n",
        "dtype: float64\n"
       ]
      }
     ],
     "prompt_number": 3
    },
    {
     "cell_type": "code",
     "collapsed": false,
     "input": [
      "sim.run([\"auto_ownership_simulate\"])"
     ],
     "language": "python",
     "metadata": {},
     "outputs": [
      {
       "output_type": "stream",
       "stream": "stdout",
       "text": [
        "Running model 'auto_ownership_simulate'\n",
        "WARNING: Some columns have no variability:\n"
       ]
      },
      {
       "output_type": "stream",
       "stream": "stdout",
       "text": [
        "['(work_tour_auto_time_savings / (workers+1)) * cars1'\n",
        " '(work_tour_auto_time_savings / (workers+1)) * cars2'\n",
        " '(work_tour_auto_time_savings / (workers+1)) * cars3'\n",
        " '(work_tour_auto_time_savings / (workers+1)) * cars4']\n",
        "Choices:\n",
        "2    388\n",
        "1    303\n",
        "3    156\n",
        "0     93\n",
        "4     60\n",
        "dtype: int64\n",
        "Time to execute model 'auto_ownership_simulate': 0.69s\n",
        "Total time to execute: 0.69s\n"
       ]
      }
     ],
     "prompt_number": 4
    },
    {
     "cell_type": "code",
     "collapsed": false,
     "input": [
      "sim.run(['mandatory_tour_frequency'])"
     ],
     "language": "python",
     "metadata": {},
     "outputs": [
      {
       "output_type": "stream",
       "stream": "stdout",
       "text": [
        "Running model 'mandatory_tour_frequency'\n",
        "916 persons run for mandatory tour model"
       ]
      },
      {
       "output_type": "stream",
       "stream": "stdout",
       "text": [
        "\n",
        "WARNING: Some columns have no variability:\n"
       ]
      },
      {
       "output_type": "stream",
       "stream": "stdout",
       "text": [
        "['((ptype == 3) & (distance_to_work < 3)) * work2'\n",
        " '((ptype == 3) & (distance_to_school < 3)) * school2'\n",
        " '((ptype == 6) & (distance_to_school < 3)) * school2'\n",
        " '((ptype == 3) & (distance_to_work < 3 | distance_to_school < 3)) * work_and_school'\n",
        " '((ptype == 6) & (distance_to_work < 3 | distance_to_school < 3)) * work_and_school'\n",
        " '((ptype == 2) & nonstudent_to_school) * school1'\n",
        " '((ptype == 2) & nonstudent_to_school) * work_and_school'\n",
        " '((ptype == 4) & nonstudent_to_school) * school1'\n",
        " '((ptype == 5) & nonstudent_to_school) * school1'\n",
        " '((ptype == 6) & non_family) * work1'\n",
        " '((ptype == 6) & non_family) * school1'\n",
        " '((ptype == 6) & non_family) * work_and_school'\n",
        " '(~(workplace_taz > -1)) * work1' '(~(workplace_taz > -1)) * work2'\n",
        " '(~(workplace_taz > -1)) * work_and_school'\n",
        " '(~(school_taz > -1)) * school1' '(~(school_taz > -1)) * school2'\n",
        " '(~(school_taz > -1)) * work_and_school']\n",
        "Choices:\n",
        "school1            401\n",
        "work1              299\n",
        "work2              100\n",
        "work_and_school     93\n",
        "school2             23\n",
        "dtype: int64\n",
        "Time to execute model 'mandatory_tour_frequency': 3.19s\n",
        "Total time to execute: 3.19s\n"
       ]
      }
     ],
     "prompt_number": 5
    },
    {
     "cell_type": "code",
     "collapsed": false,
     "input": [
      "sim.get_table(\"mandatory_tours\").tour_type.value_counts()"
     ],
     "language": "python",
     "metadata": {},
     "outputs": [
      {
       "metadata": {},
       "output_type": "pyout",
       "prompt_number": 6,
       "text": [
        "work      592\n",
        "school    540\n",
        "dtype: int64"
       ]
      }
     ],
     "prompt_number": 6
    },
    {
     "cell_type": "code",
     "collapsed": false,
     "input": [
      "sim.run(['non_mandatory_tour_frequency'])"
     ],
     "language": "python",
     "metadata": {},
     "outputs": [
      {
       "output_type": "stream",
       "stream": "stdout",
       "text": [
        "Running model 'non_mandatory_tour_frequency'\n",
        "1772 persons run for non-mandatory tour model"
       ]
      },
      {
       "output_type": "stream",
       "stream": "stdout",
       "text": [
        "\n",
        "Running segment 'driving' of size 54\n",
        "WARNING: Some columns have no variability:\n"
       ]
      },
      {
       "output_type": "stream",
       "stream": "stdout",
       "text": [
        "['(tot_tours == 0) & (num_mand == 0) & (num_joint_tours == 0)'\n",
        " 'num_joint_tours*(tot_tours == 0)' 'num_joint_tours*(tot_tours == 1)'\n",
        " 'num_joint_tours*(tot_tours == 2)' 'num_joint_tours*(tot_tours == 3)'\n",
        " 'num_joint_tours*(tot_tours == 4)' 'num_joint_tours*(tot_tours >  4)'\n",
        " 'num_shop_j' 'num_main_j' 'num_eat_j' 'num_visi_j' 'num_disc_j'\n",
        " 'max_window*(tot_tours == 0)' 'max_window*(tot_tours == 1)'\n",
        " 'max_window*(tot_tours == 2)' 'max_window*(tot_tours == 3)'\n",
        " 'max_window*(tot_tours == 4)' 'max_window*(tot_tours >  4)'\n",
        " '(car_sufficiency > 0) & (tot_tours == 1)'\n",
        " '(car_sufficiency > 0) & (tot_tours == 2)'\n",
        " '(car_sufficiency > 0) & (tot_tours == 3)'\n",
        " '(car_sufficiency > 0) & (tot_tours == 4)'\n",
        " '(car_sufficiency > 0) & (tot_tours > 4)']\n",
        "Running segment 'full' of size 611\n",
        "WARNING: Some columns have no variability:\n"
       ]
      },
      {
       "output_type": "stream",
       "stream": "stdout",
       "text": [
        "['(tot_tours == 0) & (num_mand == 0) & (num_joint_tours == 0)'\n",
        " 'num_joint_tours*(tot_tours == 0)' 'num_joint_tours*(tot_tours == 1)'\n",
        " 'num_joint_tours*(tot_tours == 2)' 'num_joint_tours*(tot_tours == 3)'\n",
        " 'num_joint_tours*(tot_tours == 4)' 'num_joint_tours*(tot_tours >  4)'\n",
        " 'num_shop_j' 'num_main_j' 'num_eat_j' 'num_visi_j' 'num_disc_j'\n",
        " 'max_window*(tot_tours == 0)' 'max_window*(tot_tours == 1)'\n",
        " 'max_window*(tot_tours == 2)' 'max_window*(tot_tours == 3)'\n",
        " 'max_window*(tot_tours == 4)' 'max_window*(tot_tours >  4)']\n",
        "Running segment 'nonwork' of size 323\n",
        "WARNING: Some columns have no variability:\n"
       ]
      },
      {
       "output_type": "stream",
       "stream": "stdout",
       "text": [
        "['(tot_tours == 0) & (num_mand == 0) & (num_joint_tours == 0)'\n",
        " 'num_joint_tours*(tot_tours == 0)' 'num_joint_tours*(tot_tours == 1)'\n",
        " 'num_joint_tours*(tot_tours == 2)' 'num_joint_tours*(tot_tours == 3)'\n",
        " 'num_joint_tours*(tot_tours == 4)' 'num_joint_tours*(tot_tours >  4)'\n",
        " 'num_shop_j' 'num_main_j' 'num_eat_j' 'num_visi_j' 'num_disc_j'\n",
        " 'max_window*(tot_tours == 0)' 'max_window*(tot_tours == 1)'\n",
        " 'max_window*(tot_tours == 2)' 'max_window*(tot_tours == 3)'\n",
        " 'max_window*(tot_tours == 4)' 'max_window*(tot_tours >  4)']\n",
        "Running segment 'part' of size 135\n",
        "WARNING: Some columns have no variability:\n"
       ]
      },
      {
       "output_type": "stream",
       "stream": "stdout",
       "text": [
        "['(tot_tours == 0) & (num_mand == 0) & (num_joint_tours == 0)'\n",
        " 'num_joint_tours*(tot_tours == 0)' 'num_joint_tours*(tot_tours == 1)'\n",
        " 'num_joint_tours*(tot_tours == 2)' 'num_joint_tours*(tot_tours == 3)'\n",
        " 'num_joint_tours*(tot_tours == 4)' 'num_joint_tours*(tot_tours >  4)'\n",
        " 'num_shop_j' 'num_main_j' 'num_eat_j' 'num_visi_j' 'num_disc_j'\n",
        " 'max_window*(tot_tours == 0)' 'max_window*(tot_tours == 1)'\n",
        " 'max_window*(tot_tours == 2)' 'max_window*(tot_tours == 3)'\n",
        " 'max_window*(tot_tours == 4)' 'max_window*(tot_tours >  4)']\n",
        "Running segment 'preschool' of size 142\n",
        "WARNING: Some columns have no variability:\n"
       ]
      },
      {
       "output_type": "stream",
       "stream": "stdout",
       "text": [
        "['(tot_tours == 0) & (num_mand == 0) & (num_joint_tours == 0)'\n",
        " 'num_joint_tours*(tot_tours == 0)' 'num_joint_tours*(tot_tours == 1)'\n",
        " 'num_joint_tours*(tot_tours == 2)' 'num_joint_tours*(tot_tours == 3)'\n",
        " 'num_joint_tours*(tot_tours == 4)' 'num_joint_tours*(tot_tours >  4)'\n",
        " 'num_shop_j' 'num_main_j' 'num_eat_j' 'num_visi_j' 'num_disc_j'\n",
        " 'max_window*(tot_tours == 0)' 'max_window*(tot_tours == 1)'\n",
        " 'max_window*(tot_tours == 2)' 'max_window*(tot_tours == 3)'\n",
        " 'max_window*(tot_tours == 4)' 'max_window*(tot_tours >  4)'\n",
        " '(car_sufficiency > 0) & (tot_tours == 1)'\n",
        " '(car_sufficiency > 0) & (tot_tours == 2)'\n",
        " '(car_sufficiency > 0) & (tot_tours == 3)'\n",
        " '(car_sufficiency > 0) & (tot_tours == 4)'\n",
        " '(car_sufficiency > 0) & (tot_tours > 4)']\n",
        "Running segment 'retired' of size 172\n",
        "WARNING: Some columns have no variability:\n"
       ]
      },
      {
       "output_type": "stream",
       "stream": "stdout",
       "text": [
        "['(tot_tours == 0) & (num_mand == 0) & (num_joint_tours == 0)'\n",
        " 'num_joint_tours*(tot_tours == 0)' 'num_joint_tours*(tot_tours == 1)'\n",
        " 'num_joint_tours*(tot_tours == 2)' 'num_joint_tours*(tot_tours == 3)'\n",
        " 'num_joint_tours*(tot_tours == 4)' 'num_joint_tours*(tot_tours >  4)'\n",
        " 'num_shop_j' 'num_main_j' 'num_eat_j' 'num_visi_j' 'num_disc_j'\n",
        " 'max_window*(tot_tours == 0)' 'max_window*(tot_tours == 1)'\n",
        " 'max_window*(tot_tours == 2)' 'max_window*(tot_tours == 3)'\n",
        " 'max_window*(tot_tours == 4)' 'max_window*(tot_tours >  4)']\n",
        "Running segment 'school' of size 234\n",
        "WARNING: Some columns have no variability:\n"
       ]
      },
      {
       "output_type": "stream",
       "stream": "stdout",
       "text": [
        "['(tot_tours == 0) & (num_mand == 0) & (num_joint_tours == 0)'\n",
        " 'num_joint_tours*(tot_tours == 0)' 'num_joint_tours*(tot_tours == 1)'\n",
        " 'num_joint_tours*(tot_tours == 2)' 'num_joint_tours*(tot_tours == 3)'\n",
        " 'num_joint_tours*(tot_tours == 4)' 'num_joint_tours*(tot_tours >  4)'\n",
        " 'num_shop_j' 'num_main_j' 'num_eat_j' 'num_visi_j' 'num_disc_j'\n",
        " 'max_window*(tot_tours == 0)' 'max_window*(tot_tours == 1)'\n",
        " 'max_window*(tot_tours == 2)' 'max_window*(tot_tours == 3)'\n",
        " 'max_window*(tot_tours == 4)' 'max_window*(tot_tours >  4)'\n",
        " '(car_sufficiency > 0) & (tot_tours == 1)'\n",
        " '(car_sufficiency > 0) & (tot_tours == 2)'\n",
        " '(car_sufficiency > 0) & (tot_tours == 3)'\n",
        " '(car_sufficiency > 0) & (tot_tours == 4)'\n",
        " '(car_sufficiency > 0) & (tot_tours > 4)']\n",
        "Running segment 'university' of size 101\n",
        "WARNING: Some columns have no variability:\n"
       ]
      },
      {
       "output_type": "stream",
       "stream": "stdout",
       "text": [
        "['(tot_tours == 0) & (num_mand == 0) & (num_joint_tours == 0)'\n",
        " 'num_joint_tours*(tot_tours == 0)' 'num_joint_tours*(tot_tours == 1)'\n",
        " 'num_joint_tours*(tot_tours == 2)' 'num_joint_tours*(tot_tours == 3)'\n",
        " 'num_joint_tours*(tot_tours == 4)' 'num_joint_tours*(tot_tours >  4)'\n",
        " 'num_shop_j' 'num_main_j' 'num_eat_j' 'num_visi_j' 'num_disc_j'\n",
        " 'max_window*(tot_tours == 0)' 'max_window*(tot_tours == 1)'\n",
        " 'max_window*(tot_tours == 2)' 'max_window*(tot_tours == 3)'\n",
        " 'max_window*(tot_tours == 4)' 'max_window*(tot_tours >  4)']\n",
        "Choices:\n",
        "0     1768\n",
        "16       2\n",
        "20       1\n",
        "4        1\n",
        "dtype: int64\n",
        "Time to execute model 'non_mandatory_tour_frequency': 11.56s\n",
        "Total time to execute: 11.56s\n"
       ]
      }
     ],
     "prompt_number": 7
    },
    {
     "cell_type": "code",
     "collapsed": false,
     "input": [
      "sim.get_table(\"non_mandatory_tours\").tour_type.value_counts()"
     ],
     "language": "python",
     "metadata": {},
     "outputs": [
      {
       "metadata": {},
       "output_type": "pyout",
       "prompt_number": 8,
       "text": [
        "shopping    3\n",
        "eatout      2\n",
        "dtype: int64"
       ]
      }
     ],
     "prompt_number": 8
    },
    {
     "cell_type": "code",
     "collapsed": false,
     "input": [
      "sim.run([\"destination_choice\"])"
     ],
     "language": "python",
     "metadata": {},
     "outputs": [
      {
       "output_type": "stream",
       "stream": "stdout",
       "text": [
        "Running model 'destination_choice'\n",
        "Running segment 'eatout' of size 2"
       ]
      },
      {
       "output_type": "stream",
       "stream": "stdout",
       "text": [
        "\n",
        "WARNING: Some columns have no variability:\n"
       ]
      },
      {
       "output_type": "stream",
       "stream": "stdout",
       "text": [
        "[\"(skims['DISTANCE']-1).clip(0,1)\"]\n",
        "Running segment 'shopping' of size 3\n",
        "WARNING: Some columns have no variability:\n",
        "[\"(skims['DISTANCE']-1).clip(0,1)\"]\n",
        "Choices:\n",
        "count       5.000000\n",
        "mean      734.200000\n",
        "std       434.227705\n",
        "min       278.000000\n",
        "25%       327.000000\n",
        "50%       755.000000\n",
        "75%      1044.000000\n",
        "max      1267.000000\n",
        "Name: TAZ, dtype: float64\n",
        "Time to execute model 'destination_choice': 2.22s\n",
        "Total time to execute: 2.22s\n"
       ]
      }
     ],
     "prompt_number": 9
    },
    {
     "cell_type": "code",
     "collapsed": false,
     "input": [
      "sim.run([\"mandatory_scheduling\"])"
     ],
     "language": "python",
     "metadata": {},
     "outputs": [
      {
       "output_type": "stream",
       "stream": "stdout",
       "text": [
        "Running model 'mandatory_scheduling'\n",
        "Running 1132 mandatory tour scheduling choices"
       ]
      },
      {
       "output_type": "stream",
       "stream": "stdout",
       "text": [
        "\n",
        "Running 916 non-mandatory #1 tour choices\n",
        "WARNING: Some columns have no variability:\n"
       ]
      },
      {
       "output_type": "stream",
       "stream": "stdout",
       "text": [
        "['(start < end_of_previous_tour) & (tour_num == 2)'\n",
        " '(tour_num == 2) * start' '(tour_num == 2) * duration'\n",
        " 'home_is_rural & (start < 6)' 'home_is_rural & (end > 22)'\n",
        " '(tour_num == 2) & (duration < 8)' 'mode_choice_logsum']\n",
        "Running 216 non-mandatory #2 tour choices"
       ]
      },
      {
       "output_type": "stream",
       "stream": "stdout",
       "text": [
        "\n",
        "WARNING: Some columns have no variability:\n"
       ]
      },
      {
       "output_type": "stream",
       "stream": "stdout",
       "text": [
        "['(start < end_of_previous_tour) & (tour_num == 2)'\n",
        " '(tour_num == 1) * start' '(tour_num == 1) * duration'\n",
        " 'home_is_rural & (start < 6)' 'home_is_rural & (end > 22)'\n",
        " '(tour_num == 1) & (duration < 8)' 'mode_choice_logsum']\n",
        "Choices:\n",
        "count    1132.000000\n",
        "mean      159.057420\n",
        "std        35.592612\n",
        "min         6.000000\n",
        "25%       151.000000\n",
        "50%       170.500000\n",
        "75%       183.000000\n",
        "max       189.000000\n",
        "dtype: float64\n",
        "Time to execute model 'mandatory_scheduling': 3.39s\n",
        "Total time to execute: 3.39s\n"
       ]
      }
     ],
     "prompt_number": 25
    },
    {
     "cell_type": "code",
     "collapsed": false,
     "input": [
      "sim.run([\"non_mandatory_scheduling\"])"
     ],
     "language": "python",
     "metadata": {},
     "outputs": [
      {
       "output_type": "stream",
       "stream": "stdout",
       "text": [
        "Running model 'non_mandatory_scheduling'\n",
        "Running 5 non-mandatory tour scheduling choices"
       ]
      },
      {
       "output_type": "stream",
       "stream": "stdout",
       "text": [
        "\n",
        "Running 4 non-mandatory #1 tour choices\n",
        "WARNING: Some columns have no variability:\n",
        "['start < end_of_previous_tour']\n",
        "Running 1 non-mandatory #2 tour choices\n",
        "WARNING: Some columns have no variability:\n"
       ]
      },
      {
       "output_type": "stream",
       "stream": "stdout",
       "text": [
        "['start < end_of_previous_tour' '(tour_type == \"shopping\") * start'\n",
        " '(tour_type == \"shopping\") * duration']\n",
        "Choices:\n",
        "count     5.000000\n",
        "mean     31.800000\n",
        "std      33.139101\n",
        "min      14.000000\n",
        "25%      18.000000\n",
        "50%      18.000000\n",
        "75%      18.000000\n",
        "max      91.000000\n",
        "dtype: float64\n",
        "Time to execute model 'non_mandatory_scheduling': 2.18s\n",
        "Total time to execute: 2.18s\n"
       ]
      }
     ],
     "prompt_number": 27
    },
    {
     "cell_type": "code",
     "collapsed": false,
     "input": [
      "sim.run(['mode_choice_simulate'])"
     ],
     "language": "python",
     "metadata": {},
     "outputs": [
      {
       "output_type": "stream",
       "stream": "stdout",
       "text": [
        "Running model 'mode_choice_simulate'\n",
        "                                                                            work\n",
        "Expression                                              Alternative             \n",
        "sov_available == False                                  DRIVEALONEFREE -999.0000\n",
        "auto_ownership == 0                                     DRIVEALONEFREE -999.0000\n",
        "age < 16                                                DRIVEALONEFREE -999.0000\n",
        "is_joint                                                DRIVEALONEFREE -999.0000\n",
        "work_tour_is_da                                         DRIVEALONEFREE -999.0000\n",
        "@skims[('SOV', out_period)] + skims[('SOV', in_period)] DRIVEALONEFREE   -0.0175"
       ]
      },
      {
       "output_type": "stream",
       "stream": "stdout",
       "text": [
        "\n",
        "WARNING: Some columns have no variability:\n",
        "['sov_available == False' 'auto_ownership == 0' 'is_joint'\n",
        " 'work_tour_is_da']\n",
        "Choices:\n",
        "WALK           1\n",
        "SHARED3PAY     1\n",
        "SHARED3FREE    1\n",
        "WALK_COM       1\n",
        "DRIVE_LOC      1\n",
        "DRIVE_LRF      1\n",
        "SHARED2PAY     1\n",
        "dtype: int64\n",
        "Time to execute model 'mode_choice_simulate': 2.32s\n",
        "Total time to execute: 2.32s\n"
       ]
      }
     ],
     "prompt_number": 76
    },
    {
     "cell_type": "code",
     "collapsed": false,
     "input": [
      "sim.get_table(\"land_use\").to_frame().info()"
     ],
     "language": "python",
     "metadata": {},
     "outputs": [
      {
       "output_type": "stream",
       "stream": "stdout",
       "text": [
        "<class 'pandas.core.frame.DataFrame'>\n",
        "Int64Index: 1454 entries, 1 to 1454\n",
        "Data columns (total 49 columns):\n",
        "DISTRICT              1454 non-null int64\n",
        "SD                    1454 non-null int64\n",
        "COUNTY                1454 non-null int64\n",
        "TOTHH                 1454 non-null int64\n",
        "HHPOP                 1454 non-null int64\n",
        "TOTPOP                1454 non-null int64\n",
        "EMPRES                1454 non-null int64\n",
        "SFDU                  1454 non-null int64\n",
        "MFDU                  1454 non-null int64\n",
        "HHINCQ1               1454 non-null int64\n",
        "HHINCQ2               1454 non-null int64\n",
        "HHINCQ3               1454 non-null int64\n",
        "HHINCQ4               1454 non-null int64\n",
        "TOTACRE               1454 non-null float64\n",
        "RESACRE               1454 non-null int64\n",
        "CIACRE                1454 non-null int64\n",
        "SHPOP62P              1454 non-null float64\n",
        "TOTEMP                1454 non-null int64\n",
        "AGE0004               1454 non-null int64\n",
        "AGE0519               1454 non-null int64\n",
        "AGE2044               1454 non-null int64\n",
        "AGE4564               1454 non-null int64\n",
        "AGE65P                1454 non-null int64\n",
        "RETEMPN               1454 non-null int64\n",
        "FPSEMPN               1454 non-null int64\n",
        "HEREMPN               1454 non-null int64\n",
        "OTHEMPN               1454 non-null int64\n",
        "AGREMPN               1454 non-null int64\n",
        "MWTEMPN               1454 non-null int64\n",
        "PRKCST                1454 non-null float64\n",
        "OPRKCST               1454 non-null float64\n",
        "area_type             1454 non-null int64\n",
        "HSENROLL              1454 non-null float64\n",
        "COLLFTE               1454 non-null float64\n",
        "COLLPTE               1454 non-null float64\n",
        "TOPOLOGY              1454 non-null int64\n",
        "TERMINAL              1454 non-null float64\n",
        "ZERO                  1454 non-null int64\n",
        "hhlds                 1454 non-null int64\n",
        "sftaz                 1454 non-null int64\n",
        "gqpop                 1454 non-null int64\n",
        "employment_density    1454 non-null float64\n",
        "total_acres           1454 non-null float64\n",
        "county_id             1454 non-null int64\n",
        "density_index         1453 non-null float64\n",
        "county_name           1454 non-null object\n",
        "household_density     1454 non-null float64\n",
        "total_households      1454 non-null int64\n",
        "total_employment      1454 non-null int64\n",
        "dtypes: float64(12), int64(36), object(1)\n",
        "memory usage: 568.0 KB\n"
       ]
      }
     ],
     "prompt_number": 39
    },
    {
     "cell_type": "code",
     "collapsed": false,
     "input": [
      "sim.get_table(\"households\").to_frame().info()"
     ],
     "language": "python",
     "metadata": {},
     "outputs": [
      {
       "output_type": "stream",
       "stream": "stdout",
       "text": [
        "<class 'pandas.core.frame.DataFrame'>\n",
        "Int64Index: 1000 entries, 1737120 to 1473849\n",
        "Data columns (total 76 columns):\n",
        "TAZ                            1000 non-null int64\n",
        "SERIALNO                       1000 non-null int64\n",
        "PUMA5                          1000 non-null int64\n",
        "income                         1000 non-null int64\n",
        "PERSONS                        1000 non-null int64\n",
        "HHT                            1000 non-null int64\n",
        "UNITTYPE                       1000 non-null int64\n",
        "NOC                            1000 non-null int64\n",
        "BLDGSZ                         1000 non-null int64\n",
        "TENURE                         1000 non-null int64\n",
        "VEHICL                         1000 non-null int64\n",
        "hinccat1                       1000 non-null int64\n",
        "hinccat2                       1000 non-null int64\n",
        "hhagecat                       1000 non-null int64\n",
        "hsizecat                       1000 non-null int64\n",
        "hfamily                        1000 non-null int64\n",
        "hunittype                      1000 non-null int64\n",
        "hNOCcat                        1000 non-null int64\n",
        "hwrkrcat                       1000 non-null int64\n",
        "h0004                          1000 non-null int64\n",
        "h0511                          1000 non-null int64\n",
        "h1215                          1000 non-null int64\n",
        "h1617                          1000 non-null int64\n",
        "h1824                          1000 non-null int64\n",
        "h2534                          1000 non-null int64\n",
        "h3549                          1000 non-null int64\n",
        "h5064                          1000 non-null int64\n",
        "h6579                          1000 non-null int64\n",
        "h80up                          1000 non-null int64\n",
        "workers                        1000 non-null int64\n",
        "hwork_f                        1000 non-null int64\n",
        "hwork_p                        1000 non-null int64\n",
        "huniv                          1000 non-null int64\n",
        "hnwork                         1000 non-null int64\n",
        "hretire                        1000 non-null int64\n",
        "hpresch                        1000 non-null int64\n",
        "hschpred                       1000 non-null int64\n",
        "hschdriv                       1000 non-null int64\n",
        "htypdwel                       1000 non-null int64\n",
        "hownrent                       1000 non-null int64\n",
        "hadnwst                        1000 non-null int64\n",
        "hadwpst                        1000 non-null int64\n",
        "hadkids                        1000 non-null int64\n",
        "bucketBin                      1000 non-null int64\n",
        "originalPUMA                   1000 non-null int64\n",
        "hmultiunit                     1000 non-null int64\n",
        "has_preschool_kid              1000 non-null bool\n",
        "family                         1000 non-null bool\n",
        "num_young_adults               1000 non-null float64\n",
        "auto_ownership                 1000 non-null int64\n",
        "has_driving_kid                1000 non-null bool\n",
        "has_non_worker                 1000 non-null bool\n",
        "has_preschool_kid_at_home      1000 non-null bool\n",
        "home_taz                       1000 non-null int64\n",
        "has_retiree                    1000 non-null bool\n",
        "drivers                        1000 non-null float64\n",
        "num_under16_not_at_school      1000 non-null int64\n",
        "has_full_time                  1000 non-null bool\n",
        "num_children                   1000 non-null float64\n",
        "car_sufficiency                1000 non-null int64\n",
        "num_adolescents                1000 non-null float64\n",
        "income_in_thousands            1000 non-null float64\n",
        "has_school_kid                 1000 non-null bool\n",
        "num_college_age                1000 non-null float64\n",
        "non_workers                    1000 non-null int64\n",
        "household_type                 954 non-null object\n",
        "home_is_rural                  1000 non-null bool\n",
        "has_university                 1000 non-null bool\n",
        "non_family                     1000 non-null bool\n",
        "work_tour_auto_time_savings    1000 non-null int64\n",
        "income_segment                 1000 non-null category\n",
        "has_part_time                  1000 non-null bool\n",
        "has_school_kid_at_home         1000 non-null bool\n",
        "no_cars                        1000 non-null bool\n",
        "num_young_children             1000 non-null float64\n",
        "home_is_urban                  1000 non-null bool\n",
        "dtypes: bool(15), category(1), float64(7), int64(52), object(1)\n",
        "memory usage: 492.2 KB\n"
       ]
      }
     ],
     "prompt_number": 38
    },
    {
     "cell_type": "code",
     "collapsed": false,
     "input": [
      "sim.get_table(\"persons\").to_frame().info()"
     ],
     "language": "python",
     "metadata": {},
     "outputs": [
      {
       "output_type": "stream",
       "stream": "stdout",
       "text": [
        "<class 'pandas.core.frame.DataFrame'>\n",
        "Int64Index: 2583 entries, 8034 to 7050249\n",
        "Data columns (total 48 columns):\n",
        "household_id                     2583 non-null int64\n",
        "age                              2583 non-null int64\n",
        "RELATE                           2583 non-null int64\n",
        "ESR                              2583 non-null int64\n",
        "GRADE                            2583 non-null int64\n",
        "PNUM                             2583 non-null int64\n",
        "PAUG                             2583 non-null int64\n",
        "DDP                              2583 non-null int64\n",
        "sex                              2583 non-null int64\n",
        "WEEKS                            2583 non-null int64\n",
        "HOURS                            2583 non-null int64\n",
        "MSP                              2583 non-null int64\n",
        "POVERTY                          2583 non-null int64\n",
        "EARNS                            2583 non-null int64\n",
        "pagecat                          2583 non-null int64\n",
        "pemploy                          2583 non-null int64\n",
        "pstudent                         2583 non-null int64\n",
        "ptype                            2583 non-null int64\n",
        "padkid                           2583 non-null int64\n",
        "student_cat                      2583 non-null object\n",
        "num_eat_j                        2583 non-null int64\n",
        "distance_to_school               2583 non-null float64\n",
        "female                           2583 non-null bool\n",
        "non_mandatory_tour_frequency     3 non-null float64\n",
        "max_window                       2583 non-null int64\n",
        "employed_cat                     2583 non-null object\n",
        "student_is_employed              2583 non-null bool\n",
        "distance_to_work                 2583 non-null float64\n",
        "cdap_activity                    2583 non-null object\n",
        "num_main_j                       2583 non-null int64\n",
        "num_joint_tours                  2583 non-null int64\n",
        "home_taz                         2583 non-null int64\n",
        "ptype_cat                        2583 non-null object\n",
        "is_student                       2583 non-null bool\n",
        "under16_not_at_school            2583 non-null bool\n",
        "school_taz                       2583 non-null int64\n",
        "is_worker                        2583 non-null bool\n",
        "roundtrip_auto_time_to_school    2583 non-null float64\n",
        "workplace_taz                    2583 non-null int64\n",
        "workplace_in_cbd                 2583 non-null bool\n",
        "nonstudent_to_school             2583 non-null bool\n",
        "mandatory_tour_frequency         2 non-null object\n",
        "num_shop_j                       2583 non-null int64\n",
        "num_mand                         2 non-null float64\n",
        "num_visi_j                       2583 non-null int64\n",
        "roundtrip_auto_time_to_work      2583 non-null float64\n",
        "num_disc_j                       2583 non-null int64\n",
        "male                             2583 non-null bool\n",
        "dtypes: bool(8), float64(6), int64(29), object(5)\n",
        "memory usage: 847.5 KB\n"
       ]
      }
     ],
     "prompt_number": 40
    },
    {
     "cell_type": "heading",
     "level": 2,
     "metadata": {},
     "source": [
      "The cell below is used to create small a dataset for testing"
     ]
    },
    {
     "cell_type": "code",
     "collapsed": false,
     "input": [
      "import urbansim.sim.simulation as sim\n",
      "from activitysim import activitysim as asim\n",
      "from activitysim import defaults\n",
      "import pandas as pd\n",
      "old_store = sim.get_injectable('store')\n",
      "print old_store\n",
      "# subset of the whole store\n",
      "new_store = pd.HDFStore('test.h5', 'w')\n",
      "new_store[\"land_use/taz_data\"] = old_store[\"land_use/taz_data\"]\n",
      "new_store[\"skims/accessibility\"] = old_store[\"skims/accessibility\"]\n",
      "new_store[\"households\"] = asim.random_rows(old_store[\"households\"], 1000)\n",
      "new_store[\"persons\"] = old_store[\"persons\"][\n",
      "    old_store[\"persons\"].household_id.isin(new_store[\"households\"].index)\n",
      "]\n",
      "print new_store\n",
      "new_store.close()"
     ],
     "language": "python",
     "metadata": {},
     "outputs": []
    },
    {
     "cell_type": "code",
     "collapsed": false,
     "input": [],
     "language": "python",
     "metadata": {},
     "outputs": []
    }
   ],
   "metadata": {}
  }
 ]
}