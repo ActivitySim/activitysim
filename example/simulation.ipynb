{
 "metadata": {
  "name": "",
  "signature": "sha256:af88bcf428378b505c8ba79e43ef2bf8fd0c6847222ea3df3ea4413751714acd"
 },
 "nbformat": 3,
 "nbformat_minor": 0,
 "worksheets": [
  {
   "cells": [
    {
     "cell_type": "code",
     "collapsed": false,
     "input": [
      "%load_ext autoreload\n",
      "%autoreload 2\n",
      "import urbansim.sim.simulation as sim\n",
      "from activitysim import defaults"
     ],
     "language": "python",
     "metadata": {},
     "outputs": [],
     "prompt_number": 1
    },
    {
     "cell_type": "code",
     "collapsed": false,
     "input": [
      "sim.run([\"workplace_location_simulate\"])"
     ],
     "language": "python",
     "metadata": {},
     "outputs": [
      {
       "output_type": "stream",
       "stream": "stdout",
       "text": [
        "Running model 'workplace_location_simulate'\n",
        "Describe of choices:\n"
       ]
      },
      {
       "output_type": "stream",
       "stream": "stdout",
       "text": [
        "count    2621.000000\n",
        "mean      724.008012\n",
        "std       421.774452\n",
        "min         1.000000\n",
        "25%       359.000000\n",
        "50%       730.000000\n",
        "75%      1077.000000\n",
        "max      1454.000000\n",
        "Name: TAZ, dtype: float64\n",
        "Time to execute model 'workplace_location_simulate': 7.76s\n",
        "Total time to execute: 7.76s\n"
       ]
      }
     ],
     "prompt_number": 2
    },
    {
     "cell_type": "code",
     "collapsed": false,
     "input": [
      "print sim.get_table(\"persons\").distance_to_work.describe()"
     ],
     "language": "python",
     "metadata": {},
     "outputs": [
      {
       "output_type": "stream",
       "stream": "stdout",
       "text": [
        "count    2621.000000\n",
        "mean       38.228997\n",
        "std        24.005019\n",
        "min         0.220000\n",
        "25%        20.330000\n",
        "50%        35.640000\n",
        "75%        51.180000\n",
        "max       140.770000\n",
        "dtype: float64\n"
       ]
      }
     ],
     "prompt_number": 3
    },
    {
     "cell_type": "code",
     "collapsed": false,
     "input": [
      "sim.run([\"auto_ownership_simulate\"])"
     ],
     "language": "python",
     "metadata": {},
     "outputs": [
      {
       "output_type": "stream",
       "stream": "stdout",
       "text": [
        "Running model 'auto_ownership_simulate'\n",
        "Choices:\n"
       ]
      },
      {
       "output_type": "stream",
       "stream": "stdout",
       "text": [
        "2    482\n",
        "3    388\n",
        "1     66\n",
        "4     55\n",
        "0      9\n",
        "dtype: int64\n",
        "Time to execute model 'auto_ownership_simulate': 0.61s\n",
        "Total time to execute: 0.61s\n"
       ]
      }
     ],
     "prompt_number": 4
    },
    {
     "cell_type": "code",
     "collapsed": false,
     "input": [
      "sim.run(['mandatory_tour_frequency'])"
     ],
     "language": "python",
     "metadata": {},
     "outputs": [
      {
       "output_type": "stream",
       "stream": "stdout",
       "text": [
        "Running model 'mandatory_tour_frequency'\n",
        "890 persons run for mandatory tour model"
       ]
      },
      {
       "output_type": "stream",
       "stream": "stdout",
       "text": [
        "\n",
        "WARNING: Some columns have no variability:\n"
       ]
      },
      {
       "output_type": "stream",
       "stream": "stdout",
       "text": [
        "['((ptype == 2) & nonstudent_to_school) * school1'\n",
        " '((ptype == 2) & nonstudent_to_school) * work_and_school'\n",
        " '((ptype == 4) & nonstudent_to_school) * school1'\n",
        " '((ptype == 5) & (auto_ownership == 0)) * work2'\n",
        " '((ptype == 5) & nonstudent_to_school) * school1'\n",
        " '((ptype == 6) & (auto_ownership == 0)) * school2'\n",
        " '((ptype == 6) & (auto_ownership == 0)) * work_and_school'\n",
        " '((ptype == 7) & (auto_ownership == 0)) * school2'\n",
        " '(~(school_taz > -1)) * school1' '(~(school_taz > -1)) * school2'\n",
        " '(~(school_taz > -1)) * work_and_school' '(~(workplace_taz > -1)) * work1'\n",
        " '(~(workplace_taz > -1)) * work2'\n",
        " '(~(workplace_taz > -1)) * work_and_school']\n",
        "Choices:\n",
        "work_and_school    311\n",
        "work2              279\n",
        "work1              167\n",
        "school1             76\n",
        "school2             57\n",
        "dtype: int64\n",
        "Time to execute model 'mandatory_tour_frequency': 3.60s\n",
        "Total time to execute: 3.60s\n"
       ]
      }
     ],
     "prompt_number": 5
    },
    {
     "cell_type": "code",
     "collapsed": false,
     "input": [
      "sim.run(['non_mandatory_tour_frequency'])"
     ],
     "language": "python",
     "metadata": {},
     "outputs": [
      {
       "output_type": "stream",
       "stream": "stdout",
       "text": [
        "Running model 'non_mandatory_tour_frequency'\n",
        "1734 persons run for non-mandatory tour model"
       ]
      },
      {
       "output_type": "stream",
       "stream": "stdout",
       "text": [
        "\n",
        "Running segment 'driving' of size 48\n",
        "WARNING: Some columns have no variability:\n"
       ]
      },
      {
       "output_type": "stream",
       "stream": "stdout",
       "text": [
        "['(tot_tours == 0) & (num_mand == 0) & (num_joint_tours == 0)'\n",
        " 'escort * no_cars' 'max_window*(tot_tours == 0)'\n",
        " 'max_window*(tot_tours == 1)' 'max_window*(tot_tours == 2)'\n",
        " 'max_window*(tot_tours == 3)' 'max_window*(tot_tours == 4)'\n",
        " 'max_window*(tot_tours >  4)' 'no_cars & (tot_tours == 1)'\n",
        " 'no_cars & (tot_tours == 2)' 'no_cars & (tot_tours == 3)'\n",
        " 'no_cars & (tot_tours == 4)' 'no_cars & (tot_tours >  4)' 'num_disc_j'\n",
        " 'num_eat_j' 'num_joint_tours*(tot_tours == 0)'\n",
        " 'num_joint_tours*(tot_tours == 1)' 'num_joint_tours*(tot_tours == 2)'\n",
        " 'num_joint_tours*(tot_tours == 3)' 'num_joint_tours*(tot_tours == 4)'\n",
        " 'num_joint_tours*(tot_tours >  4)' 'num_main_j' 'num_shop_j' 'num_visi_j']\n",
        "Running segment 'full' of size 602\n",
        "WARNING: Some columns have no variability:\n"
       ]
      },
      {
       "output_type": "stream",
       "stream": "stdout",
       "text": [
        "['(tot_tours == 0) & (num_mand == 0) & (num_joint_tours == 0)'\n",
        " 'max_window*(tot_tours == 0)' 'max_window*(tot_tours == 1)'\n",
        " 'max_window*(tot_tours == 2)' 'max_window*(tot_tours == 3)'\n",
        " 'max_window*(tot_tours == 4)' 'max_window*(tot_tours >  4)' 'num_disc_j'\n",
        " 'num_eat_j' 'num_joint_tours*(tot_tours == 0)'\n",
        " 'num_joint_tours*(tot_tours == 1)' 'num_joint_tours*(tot_tours == 2)'\n",
        " 'num_joint_tours*(tot_tours == 3)' 'num_joint_tours*(tot_tours == 4)'\n",
        " 'num_joint_tours*(tot_tours >  4)' 'num_main_j' 'num_shop_j' 'num_visi_j']\n",
        "Running segment 'nonwork' of size 312\n",
        "WARNING: Some columns have no variability:\n"
       ]
      },
      {
       "output_type": "stream",
       "stream": "stdout",
       "text": [
        "['(tot_tours == 0) & (num_mand == 0) & (num_joint_tours == 0)'\n",
        " 'max_window*(tot_tours == 0)' 'max_window*(tot_tours == 1)'\n",
        " 'max_window*(tot_tours == 2)' 'max_window*(tot_tours == 3)'\n",
        " 'max_window*(tot_tours == 4)' 'max_window*(tot_tours >  4)' 'num_disc_j'\n",
        " 'num_eat_j' 'num_joint_tours*(tot_tours == 0)'\n",
        " 'num_joint_tours*(tot_tours == 1)' 'num_joint_tours*(tot_tours == 2)'\n",
        " 'num_joint_tours*(tot_tours == 3)' 'num_joint_tours*(tot_tours == 4)'\n",
        " 'num_joint_tours*(tot_tours >  4)' 'num_main_j' 'num_shop_j' 'num_visi_j']\n",
        "Running segment 'part' of size 140\n",
        "WARNING: Some columns have no variability:\n"
       ]
      },
      {
       "output_type": "stream",
       "stream": "stdout",
       "text": [
        "['(tot_tours == 0) & (num_mand == 0) & (num_joint_tours == 0)'\n",
        " 'max_window*(tot_tours == 0)' 'max_window*(tot_tours == 1)'\n",
        " 'max_window*(tot_tours == 2)' 'max_window*(tot_tours == 3)'\n",
        " 'max_window*(tot_tours == 4)' 'max_window*(tot_tours >  4)' 'num_disc_j'\n",
        " 'num_eat_j' 'num_joint_tours*(tot_tours == 0)'\n",
        " 'num_joint_tours*(tot_tours == 1)' 'num_joint_tours*(tot_tours == 2)'\n",
        " 'num_joint_tours*(tot_tours == 3)' 'num_joint_tours*(tot_tours == 4)'\n",
        " 'num_joint_tours*(tot_tours >  4)' 'num_main_j' 'num_shop_j' 'num_visi_j']\n",
        "Running segment 'preschool' of size 133\n",
        "WARNING: Some columns have no variability:\n"
       ]
      },
      {
       "output_type": "stream",
       "stream": "stdout",
       "text": [
        "['(tot_tours == 0) & (num_mand == 0) & (num_joint_tours == 0)'\n",
        " 'max_window*(tot_tours == 0)' 'max_window*(tot_tours == 1)'\n",
        " 'max_window*(tot_tours == 2)' 'max_window*(tot_tours == 3)'\n",
        " 'max_window*(tot_tours == 4)' 'max_window*(tot_tours >  4)' 'num_disc_j'\n",
        " 'num_eat_j' 'num_joint_tours*(tot_tours == 0)'\n",
        " 'num_joint_tours*(tot_tours == 1)' 'num_joint_tours*(tot_tours == 2)'\n",
        " 'num_joint_tours*(tot_tours == 3)' 'num_joint_tours*(tot_tours == 4)'\n",
        " 'num_joint_tours*(tot_tours >  4)' 'num_main_j' 'num_shop_j' 'num_visi_j']\n",
        "Running segment 'retired' of size 170\n",
        "WARNING: Some columns have no variability:\n"
       ]
      },
      {
       "output_type": "stream",
       "stream": "stdout",
       "text": [
        "['(tot_tours == 0) & (num_mand == 0) & (num_joint_tours == 0)'\n",
        " 'escort * no_cars' 'max_window*(tot_tours == 0)'\n",
        " 'max_window*(tot_tours == 1)' 'max_window*(tot_tours == 2)'\n",
        " 'max_window*(tot_tours == 3)' 'max_window*(tot_tours == 4)'\n",
        " 'max_window*(tot_tours >  4)' 'no_cars & (tot_tours == 1)'\n",
        " 'no_cars & (tot_tours == 2)' 'no_cars & (tot_tours == 3)'\n",
        " 'no_cars & (tot_tours == 4)' 'no_cars & (tot_tours >  4)' 'num_disc_j'\n",
        " 'num_eat_j' 'num_joint_tours*(tot_tours == 0)'\n",
        " 'num_joint_tours*(tot_tours == 1)' 'num_joint_tours*(tot_tours == 2)'\n",
        " 'num_joint_tours*(tot_tours == 3)' 'num_joint_tours*(tot_tours == 4)'\n",
        " 'num_joint_tours*(tot_tours >  4)' 'num_main_j' 'num_shop_j' 'num_visi_j']\n",
        "Running segment 'school' of size 234\n",
        "WARNING: Some columns have no variability:\n"
       ]
      },
      {
       "output_type": "stream",
       "stream": "stdout",
       "text": [
        "['(tot_tours == 0) & (num_mand == 0) & (num_joint_tours == 0)'\n",
        " 'max_window*(tot_tours == 0)' 'max_window*(tot_tours == 1)'\n",
        " 'max_window*(tot_tours == 2)' 'max_window*(tot_tours == 3)'\n",
        " 'max_window*(tot_tours == 4)' 'max_window*(tot_tours >  4)' 'num_disc_j'\n",
        " 'num_eat_j' 'num_joint_tours*(tot_tours == 0)'\n",
        " 'num_joint_tours*(tot_tours == 1)' 'num_joint_tours*(tot_tours == 2)'\n",
        " 'num_joint_tours*(tot_tours == 3)' 'num_joint_tours*(tot_tours == 4)'\n",
        " 'num_joint_tours*(tot_tours >  4)' 'num_main_j' 'num_shop_j' 'num_visi_j']\n",
        "Running segment 'university' of size 95\n",
        "WARNING: Some columns have no variability:\n"
       ]
      },
      {
       "output_type": "stream",
       "stream": "stdout",
       "text": [
        "['(tot_tours == 0) & (num_mand == 0) & (num_joint_tours == 0)'\n",
        " 'max_window*(tot_tours == 0)' 'max_window*(tot_tours == 1)'\n",
        " 'max_window*(tot_tours == 2)' 'max_window*(tot_tours == 3)'\n",
        " 'max_window*(tot_tours == 4)' 'max_window*(tot_tours >  4)' 'num_disc_j'\n",
        " 'num_eat_j' 'num_joint_tours*(tot_tours == 0)'\n",
        " 'num_joint_tours*(tot_tours == 1)' 'num_joint_tours*(tot_tours == 2)'\n",
        " 'num_joint_tours*(tot_tours == 3)' 'num_joint_tours*(tot_tours == 4)'\n",
        " 'num_joint_tours*(tot_tours >  4)' 'num_main_j' 'num_shop_j' 'num_visi_j']\n",
        "Choices:\n",
        "0     1134\n",
        "34      45\n",
        "64      45\n",
        "18      43\n",
        "70      37\n",
        "77      36\n",
        "95      36\n",
        "36      25\n",
        "48      24\n",
        "68      23\n",
        "86      20\n",
        "31      20\n",
        "6       16\n",
        "84      15\n",
        "80      14\n",
        "...\n",
        "73    1\n",
        "79    1\n",
        "82    1\n",
        "67    1\n",
        "11    1\n",
        "81    1\n",
        "32    1\n",
        "57    1\n",
        "55    1\n",
        "52    1\n",
        "51    1\n",
        "46    1\n",
        "43    1\n",
        "89    1\n",
        "42    1\n",
        "Length: 75, dtype: int64\n",
        "Time to execute model 'non_mandatory_tour_frequency': 13.94s\n",
        "Total time to execute: 13.94s\n"
       ]
      }
     ],
     "prompt_number": 6
    },
    {
     "cell_type": "code",
     "collapsed": false,
     "input": [
      "sim.get_table(\"non_mandatory_tours\").tour_type.value_counts()"
     ],
     "language": "python",
     "metadata": {},
     "outputs": [
      {
       "metadata": {},
       "output_type": "pyout",
       "prompt_number": 7,
       "text": [
        "escort      722\n",
        "eatout      358\n",
        "social      343\n",
        "shopping    274\n",
        "othmaint    202\n",
        "othdiscr    191\n",
        "dtype: int64"
       ]
      }
     ],
     "prompt_number": 7
    },
    {
     "cell_type": "code",
     "collapsed": false,
     "input": [
      "sim.run([\"destination_choice\"])"
     ],
     "language": "python",
     "metadata": {},
     "outputs": [
      {
       "output_type": "stream",
       "stream": "stdout",
       "text": [
        "Running model 'destination_choice'\n",
        "Running segment 'eatout' of size 358"
       ]
      },
      {
       "output_type": "stream",
       "stream": "stdout",
       "text": [
        "\n",
        "Running segment 'othdiscr' of size 191"
       ]
      },
      {
       "output_type": "stream",
       "stream": "stdout",
       "text": [
        "\n",
        "Running segment 'othmaint' of size 202\n",
        "Running segment 'shopping' of size 274"
       ]
      },
      {
       "output_type": "stream",
       "stream": "stdout",
       "text": [
        "\n",
        "Running segment 'social' of size 343\n",
        "Choices:\n"
       ]
      },
      {
       "output_type": "stream",
       "stream": "stdout",
       "text": [
        "count    1368.000000\n",
        "mean      726.771930\n",
        "std       391.750672\n",
        "min         2.000000\n",
        "25%       438.750000\n",
        "50%       752.000000\n",
        "75%      1050.500000\n",
        "max      1453.000000\n",
        "Name: TAZ, dtype: float64\n",
        "Time to execute model 'destination_choice': 2.78s\n",
        "Total time to execute: 2.78s\n"
       ]
      }
     ],
     "prompt_number": 9
    },
    {
     "cell_type": "code",
     "collapsed": false,
     "input": [
      "sim.run([\"tour_departure_and_duration_mandatory\"])"
     ],
     "language": "python",
     "metadata": {},
     "outputs": [
      {
       "output_type": "stream",
       "stream": "stdout",
       "text": [
        "Running model 'tour_departure_and_duration_mandatory'\n",
        "Running 1537 mandatory tour scheduling choices"
       ]
      },
      {
       "output_type": "stream",
       "stream": "stdout",
       "text": [
        "\n",
        "work_and_school    622\n",
        "work2              558\n",
        "work1              167\n",
        "school2            114\n",
        "school1             76\n",
        "dtype: int64\n",
        "                                                                               Coefficient\n",
        "Expression                                                                                \n",
        "(tour_num == 1) & (duration < 8)                                                    1.9800\n",
        "(tour_num == 2) & (duration < 8)                                                    2.5820\n",
        "(mandatory_tour_frequency == 'work_and_school') & is_worker & (duration < 8)        0.9126\n",
        "(mandatory_tour_frequency == 'work_and_school') & is_student & (duration < 8)       2.5820\n",
        "mode_choice_logsum                                                                  1.0270\n",
        "Running 890 mandatory first tour choices\n",
        "WARNING: Some columns have no variability:\n"
       ]
      },
      {
       "output_type": "stream",
       "stream": "stdout",
       "text": [
        "['(start < end_of_previous_tour) & (tour_num == 2)'\n",
        " '(tour_num == 2) & (duration < 8)' '(tour_num == 2) * duration'\n",
        " '(tour_num == 2) * start' 'home_is_rural & (end > 22)'\n",
        " 'home_is_rural & (start < 6)' 'mode_choice_logsum']\n",
        "Running 647 mandatory second tour choices"
       ]
      },
      {
       "output_type": "stream",
       "stream": "stdout",
       "text": [
        "\n",
        "WARNING: Some columns have no variability:\n"
       ]
      },
      {
       "output_type": "stream",
       "stream": "stdout",
       "text": [
        "['(start < end_of_previous_tour) & (tour_num == 2)'\n",
        " '(tour_num == 1) & (duration < 8)' '(tour_num == 1) * duration'\n",
        " '(tour_num == 1) * start' 'home_is_rural & (end > 22)'\n",
        " 'home_is_rural & (start < 6)' 'mode_choice_logsum']\n",
        "Choices:\n",
        "count    1537.000000\n",
        "mean       84.975927\n",
        "std        57.467473\n",
        "min         0.000000\n",
        "25%        33.000000\n",
        "50%        80.000000\n",
        "75%       135.000000\n",
        "max       189.000000\n",
        "dtype: float64\n",
        "Time to execute model 'tour_departure_and_duration_mandatory': 3.56s"
       ]
      },
      {
       "output_type": "stream",
       "stream": "stdout",
       "text": [
        "\n",
        "Total time to execute: 3.56s\n"
       ]
      }
     ],
     "prompt_number": 10
    },
    {
     "cell_type": "code",
     "collapsed": false,
     "input": [
      "sim.run([\"tour_departure_and_duration_non_mandatory\"])"
     ],
     "language": "python",
     "metadata": {},
     "outputs": [
      {
       "output_type": "stream",
       "stream": "stdout",
       "text": [
        "Running model 'tour_departure_and_duration_non_mandatory'\n",
        "Running 2090 non-mandatory tour scheduling choices"
       ]
      },
      {
       "output_type": "stream",
       "stream": "stdout",
       "text": [
        "\n",
        "Expression\n",
        "start < end_of_previous_tour              999.00000\n",
        "roundtrip_auto_time_to_work * duration      0.00474\n",
        "(tour_type == \"shopping\") * start           0.06015\n",
        "(tour_type == \"shopping\") * duration        0.12080\n",
        "Name: Coefficient, dtype: float64\n",
        "Running 600 non-mandatory #1 tour choices\n",
        "WARNING: Some columns have no variability:\n"
       ]
      },
      {
       "output_type": "stream",
       "stream": "stdout",
       "text": [
        "['start < end_of_previous_tour']\n",
        "Running 596 non-mandatory #2 tour choices\n",
        "WARNING: Some columns have no variability:\n"
       ]
      },
      {
       "output_type": "stream",
       "stream": "stdout",
       "text": [
        "['start < end_of_previous_tour']\n",
        "Running 376 non-mandatory #3 tour choices\n",
        "WARNING: Some columns have no variability:\n"
       ]
      },
      {
       "output_type": "stream",
       "stream": "stdout",
       "text": [
        "['start < end_of_previous_tour']\n",
        "Running 272 non-mandatory #4 tour choices\n",
        "WARNING: Some columns have no variability:\n"
       ]
      },
      {
       "output_type": "stream",
       "stream": "stdout",
       "text": [
        "['(tour_type == \"shopping\") * duration' '(tour_type == \"shopping\") * start'\n",
        " 'start < end_of_previous_tour']\n",
        "Running 158 non-mandatory #5 tour choices\n",
        "WARNING: Some columns have no variability:\n"
       ]
      },
      {
       "output_type": "stream",
       "stream": "stdout",
       "text": [
        "['(tour_type == \"shopping\") * duration' '(tour_type == \"shopping\") * start'\n",
        " 'start < end_of_previous_tour']\n",
        "Running 52 non-mandatory #6 tour choices\n",
        "WARNING: Some columns have no variability:\n"
       ]
      },
      {
       "output_type": "stream",
       "stream": "stdout",
       "text": [
        "['(tour_type == \"shopping\") * duration' '(tour_type == \"shopping\") * start'\n",
        " 'start < end_of_previous_tour']\n",
        "Running 36 non-mandatory #7 tour choices\n",
        "WARNING: Some columns have no variability:\n",
        "['(tour_type == \"shopping\") * duration' '(tour_type == \"shopping\") * start'\n",
        " 'start < end_of_previous_tour']\n",
        "Choices:\n"
       ]
      },
      {
       "output_type": "stream",
       "stream": "stdout",
       "text": [
        "count    2090.000000\n",
        "mean       31.097608\n",
        "std        33.987116\n",
        "min         2.000000\n",
        "25%        18.000000\n",
        "50%        18.000000\n",
        "75%        18.000000\n",
        "max       188.000000\n",
        "dtype: float64\n",
        "Time to execute model 'tour_departure_and_duration_non_mandatory': 3.11s\n",
        "Total time to execute: 3.11s\n"
       ]
      }
     ],
     "prompt_number": 11
    },
    {
     "cell_type": "code",
     "collapsed": false,
     "input": [
      "sim.get_table(\"land_use\").to_frame().info()"
     ],
     "language": "python",
     "metadata": {},
     "outputs": [
      {
       "output_type": "stream",
       "stream": "stdout",
       "text": [
        "<class 'pandas.core.frame.DataFrame'>\n",
        "Int64Index: 1454 entries, 1 to 1454\n",
        "Data columns (total 49 columns):\n",
        "DISTRICT              1454 non-null int64\n",
        "SD                    1454 non-null int64\n",
        "COUNTY                1454 non-null int64\n",
        "TOTHH                 1454 non-null int64\n",
        "HHPOP                 1454 non-null int64\n",
        "TOTPOP                1454 non-null int64\n",
        "EMPRES                1454 non-null int64\n",
        "SFDU                  1454 non-null int64\n",
        "MFDU                  1454 non-null int64\n",
        "HHINCQ1               1454 non-null int64\n",
        "HHINCQ2               1454 non-null int64\n",
        "HHINCQ3               1454 non-null int64\n",
        "HHINCQ4               1454 non-null int64\n",
        "TOTACRE               1454 non-null float64\n",
        "RESACRE               1454 non-null int64\n",
        "CIACRE                1454 non-null int64\n",
        "SHPOP62P              1454 non-null float64\n",
        "TOTEMP                1454 non-null int64\n",
        "AGE0004               1454 non-null int64\n",
        "AGE0519               1454 non-null int64\n",
        "AGE2044               1454 non-null int64\n",
        "AGE4564               1454 non-null int64\n",
        "AGE65P                1454 non-null int64\n",
        "RETEMPN               1454 non-null int64\n",
        "FPSEMPN               1454 non-null int64\n",
        "HEREMPN               1454 non-null int64\n",
        "OTHEMPN               1454 non-null int64\n",
        "AGREMPN               1454 non-null int64\n",
        "MWTEMPN               1454 non-null int64\n",
        "PRKCST                1454 non-null float64\n",
        "OPRKCST               1454 non-null float64\n",
        "area_type             1454 non-null int64\n",
        "HSENROLL              1454 non-null float64\n",
        "COLLFTE               1454 non-null float64\n",
        "COLLPTE               1454 non-null float64\n",
        "TOPOLOGY              1454 non-null int64\n",
        "TERMINAL              1454 non-null float64\n",
        "ZERO                  1454 non-null int64\n",
        "hhlds                 1454 non-null int64\n",
        "sftaz                 1454 non-null int64\n",
        "gqpop                 1454 non-null int64\n",
        "employment_density    1454 non-null float64\n",
        "total_acres           1454 non-null float64\n",
        "county_id             1454 non-null int64\n",
        "density_index         1453 non-null float64\n",
        "county_name           1454 non-null object\n",
        "household_density     1454 non-null float64\n",
        "total_households      1454 non-null int64\n",
        "total_employment      1454 non-null int64\n",
        "dtypes: float64(12), int64(36), object(1)\n",
        "memory usage: 568.0 KB\n"
       ]
      }
     ],
     "prompt_number": 11
    },
    {
     "cell_type": "code",
     "collapsed": false,
     "input": [
      "sim.get_table(\"households\").to_frame().info()"
     ],
     "language": "python",
     "metadata": {},
     "outputs": [
      {
       "output_type": "stream",
       "stream": "stdout",
       "text": [
        "<class 'pandas.core.frame.DataFrame'>\n",
        "Int64Index: 1000 entries, 738822 to 257833\n",
        "Data columns (total 75 columns):\n",
        "TAZ                          1000 non-null int64\n",
        "SERIALNO                     1000 non-null int64\n",
        "PUMA5                        1000 non-null int64\n",
        "income                       1000 non-null int64\n",
        "PERSONS                      1000 non-null int64\n",
        "HHT                          1000 non-null int64\n",
        "UNITTYPE                     1000 non-null int64\n",
        "NOC                          1000 non-null int64\n",
        "BLDGSZ                       1000 non-null int64\n",
        "TENURE                       1000 non-null int64\n",
        "VEHICL                       1000 non-null int64\n",
        "hinccat1                     1000 non-null int64\n",
        "hinccat2                     1000 non-null int64\n",
        "hhagecat                     1000 non-null int64\n",
        "hsizecat                     1000 non-null int64\n",
        "hfamily                      1000 non-null int64\n",
        "hunittype                    1000 non-null int64\n",
        "hNOCcat                      1000 non-null int64\n",
        "hwrkrcat                     1000 non-null int64\n",
        "h0004                        1000 non-null int64\n",
        "h0511                        1000 non-null int64\n",
        "h1215                        1000 non-null int64\n",
        "h1617                        1000 non-null int64\n",
        "h1824                        1000 non-null int64\n",
        "h2534                        1000 non-null int64\n",
        "h3549                        1000 non-null int64\n",
        "h5064                        1000 non-null int64\n",
        "h6579                        1000 non-null int64\n",
        "h80up                        1000 non-null int64\n",
        "workers                      1000 non-null int64\n",
        "hwork_f                      1000 non-null int64\n",
        "hwork_p                      1000 non-null int64\n",
        "huniv                        1000 non-null int64\n",
        "hnwork                       1000 non-null int64\n",
        "hretire                      1000 non-null int64\n",
        "hpresch                      1000 non-null int64\n",
        "hschpred                     1000 non-null int64\n",
        "hschdriv                     1000 non-null int64\n",
        "htypdwel                     1000 non-null int64\n",
        "hownrent                     1000 non-null int64\n",
        "hadnwst                      1000 non-null int64\n",
        "hadwpst                      1000 non-null int64\n",
        "hadkids                      1000 non-null int64\n",
        "bucketBin                    1000 non-null int64\n",
        "originalPUMA                 1000 non-null int64\n",
        "hmultiunit                   1000 non-null int64\n",
        "has_preschool_kid            1000 non-null bool\n",
        "family                       1000 non-null bool\n",
        "num_young_adults             1000 non-null float64\n",
        "auto_ownership               1000 non-null int64\n",
        "has_driving_kid              1000 non-null bool\n",
        "has_non_worker               1000 non-null bool\n",
        "has_preschool_kid_at_home    1000 non-null bool\n",
        "home_taz                     1000 non-null int64\n",
        "has_retiree                  1000 non-null bool\n",
        "drivers                      1000 non-null int64\n",
        "num_under16_not_at_school    1000 non-null int64\n",
        "has_full_time                1000 non-null bool\n",
        "num_children                 1000 non-null float64\n",
        "car_sufficiency              1000 non-null int64\n",
        "num_adolescents              1000 non-null float64\n",
        "income_in_thousands          1000 non-null float64\n",
        "has_school_kid               1000 non-null bool\n",
        "num_college_age              1000 non-null float64\n",
        "non_workers                  1000 non-null int64\n",
        "household_type               1000 non-null object\n",
        "home_is_rural                1000 non-null bool\n",
        "has_university               1000 non-null bool\n",
        "non_family                   1000 non-null bool\n",
        "income_segment               1000 non-null category\n",
        "has_part_time                1000 non-null bool\n",
        "has_school_kid_at_home       1000 non-null bool\n",
        "no_cars                      1000 non-null bool\n",
        "num_young_children           1000 non-null float64\n",
        "home_is_urban                1000 non-null bool\n",
        "dtypes: bool(15), category(1), float64(6), int64(52), object(1)\n",
        "memory usage: 484.4 KB\n"
       ]
      }
     ],
     "prompt_number": 12
    },
    {
     "cell_type": "code",
     "collapsed": false,
     "input": [
      "sim.get_table(\"persons\").to_frame().info()"
     ],
     "language": "python",
     "metadata": {},
     "outputs": [
      {
       "output_type": "stream",
       "stream": "stdout",
       "text": [
        "<class 'pandas.core.frame.DataFrame'>\n",
        "Int64Index: 2584 entries, 6723 to 7051421\n",
        "Data columns (total 48 columns):\n",
        "household_id                     2584 non-null int64\n",
        "age                              2584 non-null int64\n",
        "RELATE                           2584 non-null int64\n",
        "ESR                              2584 non-null int64\n",
        "GRADE                            2584 non-null int64\n",
        "PNUM                             2584 non-null int64\n",
        "PAUG                             2584 non-null int64\n",
        "DDP                              2584 non-null int64\n",
        "sex                              2584 non-null int64\n",
        "WEEKS                            2584 non-null int64\n",
        "HOURS                            2584 non-null int64\n",
        "MSP                              2584 non-null int64\n",
        "POVERTY                          2584 non-null int64\n",
        "EARNS                            2584 non-null int64\n",
        "pagecat                          2584 non-null int64\n",
        "pemploy                          2584 non-null int64\n",
        "pstudent                         2584 non-null int64\n",
        "ptype                            2584 non-null int64\n",
        "padkid                           2584 non-null int64\n",
        "student_cat                      2584 non-null object\n",
        "num_eat_j                        2584 non-null int64\n",
        "distance_to_school               2584 non-null float64\n",
        "female                           2584 non-null bool\n",
        "non_mandatory_tour_frequency     1697 non-null float64\n",
        "max_window                       2584 non-null int64\n",
        "employed_cat                     2584 non-null object\n",
        "student_is_employed              2584 non-null bool\n",
        "distance_to_work                 2584 non-null float64\n",
        "cdap_activity                    2584 non-null object\n",
        "num_main_j                       2584 non-null int64\n",
        "num_joint_tours                  2584 non-null int64\n",
        "home_taz                         2584 non-null int64\n",
        "ptype_cat                        2584 non-null object\n",
        "is_student                       2584 non-null bool\n",
        "under16_not_at_school            2584 non-null bool\n",
        "school_taz                       2584 non-null int64\n",
        "is_worker                        2584 non-null bool\n",
        "roundtrip_auto_time_to_school    2584 non-null float64\n",
        "workplace_taz                    2584 non-null int64\n",
        "workplace_in_cbd                 2584 non-null bool\n",
        "nonstudent_to_school             2584 non-null bool\n",
        "mandatory_tour_frequency         833 non-null object\n",
        "num_shop_j                       2584 non-null int64\n",
        "num_mand                         833 non-null float64\n",
        "num_visi_j                       2584 non-null int64\n",
        "roundtrip_auto_time_to_work      2584 non-null float64\n",
        "num_disc_j                       2584 non-null int64\n",
        "male                             2584 non-null bool\n",
        "dtypes: bool(8), float64(6), int64(29), object(5)\n",
        "memory usage: 847.9 KB\n"
       ]
      }
     ],
     "prompt_number": 13
    }
   ],
   "metadata": {}
  }
 ]
}