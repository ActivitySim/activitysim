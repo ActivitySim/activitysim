{
 "metadata": {
  "name": "",
  "signature": "sha256:6c45a354788860ab16482ccf9b5879eb72b95c7386ecef263a1fe44b08bb3352"
 },
 "nbformat": 3,
 "nbformat_minor": 0,
 "worksheets": [
  {
   "cells": [
    {
     "cell_type": "code",
     "collapsed": false,
     "input": [
      "%load_ext autoreload\n",
      "%autoreload 2\n",
      "import urbansim.sim.simulation as sim\n",
      "from activitysim import defaults"
     ],
     "language": "python",
     "metadata": {},
     "outputs": [],
     "prompt_number": 1
    },
    {
     "cell_type": "code",
     "collapsed": false,
     "input": [
      "sim.run([\"workplace_location_simulate\"])"
     ],
     "language": "python",
     "metadata": {},
     "outputs": [
      {
       "output_type": "stream",
       "stream": "stdout",
       "text": [
        "Running model 'workplace_location_simulate'\n",
        "WARNING: Some columns have no variability:\n"
       ]
      },
      {
       "output_type": "stream",
       "stream": "stdout",
       "text": [
        "['mode_choice_logsums']\n",
        "Describe of choices:\n",
        "count    2588.000000\n",
        "mean      785.964451\n",
        "std       422.797208\n",
        "min         6.000000\n",
        "25%       450.000000\n",
        "50%       763.000000\n",
        "75%      1199.000000\n",
        "max      1443.000000\n",
        "Name: TAZ, dtype: float64\n",
        "Time to execute model 'workplace_location_simulate': 8.59s"
       ]
      },
      {
       "output_type": "stream",
       "stream": "stdout",
       "text": [
        "\n",
        "Total time to execute: 8.59s\n"
       ]
      }
     ],
     "prompt_number": 2
    },
    {
     "cell_type": "code",
     "collapsed": false,
     "input": [
      "print sim.get_table(\"persons\").distance_to_work.describe()"
     ],
     "language": "python",
     "metadata": {},
     "outputs": [
      {
       "output_type": "stream",
       "stream": "stdout",
       "text": [
        "count    2588.000000\n",
        "mean       41.955417\n",
        "std        23.935534\n",
        "min         0.290000\n",
        "25%        23.492500\n",
        "50%        39.580000\n",
        "75%        56.205000\n",
        "max       135.330000\n",
        "dtype: float64\n"
       ]
      }
     ],
     "prompt_number": 3
    },
    {
     "cell_type": "code",
     "collapsed": false,
     "input": [
      "sim.run([\"auto_ownership_simulate\"])"
     ],
     "language": "python",
     "metadata": {},
     "outputs": [
      {
       "output_type": "stream",
       "stream": "stdout",
       "text": [
        "Running model 'auto_ownership_simulate'\n",
        "WARNING: Some columns have no variability:\n"
       ]
      },
      {
       "output_type": "stream",
       "stream": "stdout",
       "text": [
        "['(work_tour_auto_time_savings / (workers+1)) * cars1'\n",
        " '(work_tour_auto_time_savings / (workers+1)) * cars2'\n",
        " '(work_tour_auto_time_savings / (workers+1)) * cars3'\n",
        " '(work_tour_auto_time_savings / (workers+1)) * cars4']\n",
        "Choices:\n",
        "2    383\n",
        "1    328\n",
        "3    140\n",
        "0    104\n",
        "4     45\n",
        "dtype: int64\n",
        "Time to execute model 'auto_ownership_simulate': 0.84s\n",
        "Total time to execute: 0.84s\n"
       ]
      }
     ],
     "prompt_number": 4
    },
    {
     "cell_type": "code",
     "collapsed": false,
     "input": [
      "sim.run(['mandatory_tour_frequency'])"
     ],
     "language": "python",
     "metadata": {},
     "outputs": [
      {
       "output_type": "stream",
       "stream": "stdout",
       "text": [
        "Running model 'mandatory_tour_frequency'\n",
        "865 persons run for mandatory tour model"
       ]
      },
      {
       "output_type": "stream",
       "stream": "stdout",
       "text": [
        "\n",
        "WARNING: Some columns have no variability:\n"
       ]
      },
      {
       "output_type": "stream",
       "stream": "stdout",
       "text": [
        "['((ptype == 6) & (distance_to_school < 3)) * school2'\n",
        " '((ptype == 6) & (distance_to_work < 3 | distance_to_school < 3)) * work_and_school'\n",
        " '((ptype == 2) & nonstudent_to_school) * school1'\n",
        " '((ptype == 2) & nonstudent_to_school) * work_and_school'\n",
        " '((ptype == 4) & nonstudent_to_school) * school1'\n",
        " '((ptype == 5) & nonstudent_to_school) * school1'\n",
        " '((ptype == 6) & (auto_ownership == 0)) * school2'\n",
        " '((ptype == 6) & (auto_ownership == 0)) * work_and_school'\n",
        " '(~(workplace_taz > -1)) * work1' '(~(workplace_taz > -1)) * work2'\n",
        " '(~(workplace_taz > -1)) * work_and_school'\n",
        " '(~(school_taz > -1)) * school1' '(~(school_taz > -1)) * school2'\n",
        " '(~(school_taz > -1)) * work_and_school']\n",
        "Choices:\n",
        "school1            402\n",
        "work1              268\n",
        "work2              114\n",
        "work_and_school     61\n",
        "school2             20\n",
        "dtype: int64\n",
        "Time to execute model 'mandatory_tour_frequency': 3.60s\n",
        "Total time to execute: 3.60s\n"
       ]
      }
     ],
     "prompt_number": 5
    },
    {
     "cell_type": "code",
     "collapsed": false,
     "input": [
      "sim.get_table(\"mandatory_tours\").tour_type.value_counts()"
     ],
     "language": "python",
     "metadata": {},
     "outputs": [
      {
       "metadata": {},
       "output_type": "pyout",
       "prompt_number": 9,
       "text": [
        "work      557\n",
        "school    503\n",
        "dtype: int64"
       ]
      }
     ],
     "prompt_number": 9
    },
    {
     "cell_type": "code",
     "collapsed": false,
     "input": [
      "sim.run(['non_mandatory_tour_frequency'])"
     ],
     "language": "python",
     "metadata": {},
     "outputs": [
      {
       "output_type": "stream",
       "stream": "stdout",
       "text": [
        "Running model 'non_mandatory_tour_frequency'\n",
        "1765 persons run for non-mandatory tour model"
       ]
      },
      {
       "output_type": "stream",
       "stream": "stdout",
       "text": [
        "\n",
        "Running segment 'driving' of size 49\n",
        "WARNING: Some columns have no variability:\n"
       ]
      },
      {
       "output_type": "stream",
       "stream": "stdout",
       "text": [
        "['(tot_tours == 0) & (num_mand == 0) & (num_joint_tours == 0)'\n",
        " 'num_joint_tours*(tot_tours == 0)' 'num_joint_tours*(tot_tours == 1)'\n",
        " 'num_joint_tours*(tot_tours == 2)' 'num_joint_tours*(tot_tours == 3)'\n",
        " 'num_joint_tours*(tot_tours == 4)' 'num_joint_tours*(tot_tours >  4)'\n",
        " 'num_shop_j' 'num_main_j' 'num_eat_j' 'num_visi_j' 'num_disc_j'\n",
        " 'max_window*(tot_tours == 0)' 'max_window*(tot_tours == 1)'\n",
        " 'max_window*(tot_tours == 2)' 'max_window*(tot_tours == 3)'\n",
        " 'max_window*(tot_tours == 4)' 'max_window*(tot_tours >  4)'\n",
        " '(car_sufficiency > 0) & (tot_tours == 1)'\n",
        " '(car_sufficiency > 0) & (tot_tours == 2)'\n",
        " '(car_sufficiency > 0) & (tot_tours == 3)'\n",
        " '(car_sufficiency > 0) & (tot_tours == 4)'\n",
        " '(car_sufficiency > 0) & (tot_tours > 4)']\n",
        "Running segment 'full' of size 572\n",
        "WARNING: Some columns have no variability:\n"
       ]
      },
      {
       "output_type": "stream",
       "stream": "stdout",
       "text": [
        "['(tot_tours == 0) & (num_mand == 0) & (num_joint_tours == 0)'\n",
        " 'num_joint_tours*(tot_tours == 0)' 'num_joint_tours*(tot_tours == 1)'\n",
        " 'num_joint_tours*(tot_tours == 2)' 'num_joint_tours*(tot_tours == 3)'\n",
        " 'num_joint_tours*(tot_tours == 4)' 'num_joint_tours*(tot_tours >  4)'\n",
        " 'num_shop_j' 'num_main_j' 'num_eat_j' 'num_visi_j' 'num_disc_j'\n",
        " 'max_window*(tot_tours == 0)' 'max_window*(tot_tours == 1)'\n",
        " 'max_window*(tot_tours == 2)' 'max_window*(tot_tours == 3)'\n",
        " 'max_window*(tot_tours == 4)' 'max_window*(tot_tours >  4)']\n",
        "Running segment 'nonwork' of size 364\n",
        "WARNING: Some columns have no variability:\n"
       ]
      },
      {
       "output_type": "stream",
       "stream": "stdout",
       "text": [
        "['(tot_tours == 0) & (num_mand == 0) & (num_joint_tours == 0)'\n",
        " 'num_joint_tours*(tot_tours == 0)' 'num_joint_tours*(tot_tours == 1)'\n",
        " 'num_joint_tours*(tot_tours == 2)' 'num_joint_tours*(tot_tours == 3)'\n",
        " 'num_joint_tours*(tot_tours == 4)' 'num_joint_tours*(tot_tours >  4)'\n",
        " 'num_shop_j' 'num_main_j' 'num_eat_j' 'num_visi_j' 'num_disc_j'\n",
        " 'max_window*(tot_tours == 0)' 'max_window*(tot_tours == 1)'\n",
        " 'max_window*(tot_tours == 2)' 'max_window*(tot_tours == 3)'\n",
        " 'max_window*(tot_tours == 4)' 'max_window*(tot_tours >  4)']\n",
        "Running segment 'part' of size 136\n",
        "WARNING: Some columns have no variability:\n"
       ]
      },
      {
       "output_type": "stream",
       "stream": "stdout",
       "text": [
        "['(tot_tours == 0) & (num_mand == 0) & (num_joint_tours == 0)'\n",
        " 'num_joint_tours*(tot_tours == 0)' 'num_joint_tours*(tot_tours == 1)'\n",
        " 'num_joint_tours*(tot_tours == 2)' 'num_joint_tours*(tot_tours == 3)'\n",
        " 'num_joint_tours*(tot_tours == 4)' 'num_joint_tours*(tot_tours >  4)'\n",
        " 'num_shop_j' 'num_main_j' 'num_eat_j' 'num_visi_j' 'num_disc_j'\n",
        " 'max_window*(tot_tours == 0)' 'max_window*(tot_tours == 1)'\n",
        " 'max_window*(tot_tours == 2)' 'max_window*(tot_tours == 3)'\n",
        " 'max_window*(tot_tours == 4)' 'max_window*(tot_tours >  4)']\n",
        "Running segment 'preschool' of size 146\n",
        "WARNING: Some columns have no variability:\n"
       ]
      },
      {
       "output_type": "stream",
       "stream": "stdout",
       "text": [
        "['(tot_tours == 0) & (num_mand == 0) & (num_joint_tours == 0)'\n",
        " 'num_joint_tours*(tot_tours == 0)' 'num_joint_tours*(tot_tours == 1)'\n",
        " 'num_joint_tours*(tot_tours == 2)' 'num_joint_tours*(tot_tours == 3)'\n",
        " 'num_joint_tours*(tot_tours == 4)' 'num_joint_tours*(tot_tours >  4)'\n",
        " 'num_shop_j' 'num_main_j' 'num_eat_j' 'num_visi_j' 'num_disc_j'\n",
        " 'max_window*(tot_tours == 0)' 'max_window*(tot_tours == 1)'\n",
        " 'max_window*(tot_tours == 2)' 'max_window*(tot_tours == 3)'\n",
        " 'max_window*(tot_tours == 4)' 'max_window*(tot_tours >  4)']\n",
        "Running segment 'retired' of size 202\n",
        "WARNING: Some columns have no variability:\n"
       ]
      },
      {
       "output_type": "stream",
       "stream": "stdout",
       "text": [
        "['(tot_tours == 0) & (num_mand == 0) & (num_joint_tours == 0)'\n",
        " 'num_joint_tours*(tot_tours == 0)' 'num_joint_tours*(tot_tours == 1)'\n",
        " 'num_joint_tours*(tot_tours == 2)' 'num_joint_tours*(tot_tours == 3)'\n",
        " 'num_joint_tours*(tot_tours == 4)' 'num_joint_tours*(tot_tours >  4)'\n",
        " 'num_shop_j' 'num_main_j' 'num_eat_j' 'num_visi_j' 'num_disc_j'\n",
        " 'max_window*(tot_tours == 0)' 'max_window*(tot_tours == 1)'\n",
        " 'max_window*(tot_tours == 2)' 'max_window*(tot_tours == 3)'\n",
        " 'max_window*(tot_tours == 4)' 'max_window*(tot_tours >  4)']\n",
        "Running segment 'school' of size 208\n",
        "WARNING: Some columns have no variability:\n"
       ]
      },
      {
       "output_type": "stream",
       "stream": "stdout",
       "text": [
        "['(tot_tours == 0) & (num_mand == 0) & (num_joint_tours == 0)'\n",
        " 'num_joint_tours*(tot_tours == 0)' 'num_joint_tours*(tot_tours == 1)'\n",
        " 'num_joint_tours*(tot_tours == 2)' 'num_joint_tours*(tot_tours == 3)'\n",
        " 'num_joint_tours*(tot_tours == 4)' 'num_joint_tours*(tot_tours >  4)'\n",
        " 'num_shop_j' 'num_main_j' 'num_eat_j' 'num_visi_j' 'num_disc_j'\n",
        " 'max_window*(tot_tours == 0)' 'max_window*(tot_tours == 1)'\n",
        " 'max_window*(tot_tours == 2)' 'max_window*(tot_tours == 3)'\n",
        " 'max_window*(tot_tours == 4)' 'max_window*(tot_tours >  4)'\n",
        " '(car_sufficiency > 0) & (tot_tours == 1)'\n",
        " '(car_sufficiency > 0) & (tot_tours == 2)'\n",
        " '(car_sufficiency > 0) & (tot_tours == 3)'\n",
        " '(car_sufficiency > 0) & (tot_tours == 4)'\n",
        " '(car_sufficiency > 0) & (tot_tours > 4)']\n",
        "Running segment 'university' of size 88\n",
        "WARNING: Some columns have no variability:\n"
       ]
      },
      {
       "output_type": "stream",
       "stream": "stdout",
       "text": [
        "['(tot_tours == 0) & (num_mand == 0) & (num_joint_tours == 0)'\n",
        " 'num_joint_tours*(tot_tours == 0)' 'num_joint_tours*(tot_tours == 1)'\n",
        " 'num_joint_tours*(tot_tours == 2)' 'num_joint_tours*(tot_tours == 3)'\n",
        " 'num_joint_tours*(tot_tours == 4)' 'num_joint_tours*(tot_tours >  4)'\n",
        " 'num_shop_j' 'num_main_j' 'num_eat_j' 'num_visi_j' 'num_disc_j'\n",
        " 'max_window*(tot_tours == 0)' 'max_window*(tot_tours == 1)'\n",
        " 'max_window*(tot_tours == 2)' 'max_window*(tot_tours == 3)'\n",
        " 'max_window*(tot_tours == 4)' 'max_window*(tot_tours >  4)']\n",
        "Choices:\n",
        "0     1762\n",
        "16       2\n",
        "32       1\n",
        "dtype: int64\n",
        "Time to execute model 'non_mandatory_tour_frequency': 11.87s\n",
        "Total time to execute: 11.87s\n"
       ]
      }
     ],
     "prompt_number": 10
    },
    {
     "cell_type": "code",
     "collapsed": false,
     "input": [
      "sim.get_table(\"non_mandatory_tours\").tour_type.value_counts()"
     ],
     "language": "python",
     "metadata": {},
     "outputs": [
      {
       "metadata": {},
       "output_type": "pyout",
       "prompt_number": 11,
       "text": [
        "shopping    2\n",
        "escort      1\n",
        "dtype: int64"
       ]
      }
     ],
     "prompt_number": 11
    },
    {
     "cell_type": "code",
     "collapsed": false,
     "input": [
      "sim.run([\"destination_choice\"])"
     ],
     "language": "python",
     "metadata": {},
     "outputs": [
      {
       "output_type": "stream",
       "stream": "stdout",
       "text": [
        "Running model 'destination_choice'\n",
        "Running segment 'shopping' of size 2"
       ]
      },
      {
       "output_type": "stream",
       "stream": "stdout",
       "text": [
        "\n",
        "Choices:\n",
        "count      2.000000\n",
        "mean     710.500000\n",
        "std      137.885822\n",
        "min      613.000000\n",
        "25%      661.750000\n",
        "50%      710.500000\n",
        "75%      759.250000\n",
        "max      808.000000\n",
        "Name: TAZ, dtype: float64\n",
        "Time to execute model 'destination_choice': 2.31s\n",
        "Total time to execute: 2.31s\n"
       ]
      }
     ],
     "prompt_number": 12
    },
    {
     "cell_type": "code",
     "collapsed": false,
     "input": [
      "sim.run([\"mandatory_scheduling\"])"
     ],
     "language": "python",
     "metadata": {},
     "outputs": [
      {
       "output_type": "stream",
       "stream": "stdout",
       "text": [
        "Running model 'mandatory_scheduling'\n",
        "Running 1392 mandatory tour scheduling choices"
       ]
      },
      {
       "output_type": "stream",
       "stream": "stdout",
       "text": [
        "\n",
        "Running 808 non-mandatory #1 tour choices\n",
        "WARNING: Some columns have no variability:\n"
       ]
      },
      {
       "output_type": "stream",
       "stream": "stdout",
       "text": [
        "['(start < end_of_previous_tour) & (tour_num == 2)'\n",
        " '(tour_num == 2) & (duration < 8)' '(tour_num == 2) * duration'\n",
        " '(tour_num == 2) * start' 'home_is_rural & (end > 22)'\n",
        " 'home_is_rural & (start < 6)' 'mode_choice_logsum']\n",
        "Running 584 non-mandatory #2 tour choices"
       ]
      },
      {
       "output_type": "stream",
       "stream": "stdout",
       "text": [
        "\n",
        "WARNING: Some columns have no variability:\n"
       ]
      },
      {
       "output_type": "stream",
       "stream": "stdout",
       "text": [
        "['(ptype == 3) * start' '(start < end_of_previous_tour) & (tour_num == 2)'\n",
        " '(tour_num == 1) & (duration < 8)' '(tour_num == 1) * duration'\n",
        " '(tour_num == 1) * start' 'home_is_rural & (end > 22)'\n",
        " 'home_is_rural & (start < 6)' 'mode_choice_logsum']\n",
        "Choices:\n"
       ]
      },
      {
       "output_type": "stream",
       "stream": "stdout",
       "text": [
        "count    1392.000000\n",
        "mean       87.232759\n",
        "std        58.336813\n",
        "min         0.000000\n",
        "25%        34.000000\n",
        "50%        87.000000\n",
        "75%       137.000000\n",
        "max       189.000000\n",
        "dtype: float64\n",
        "Time to execute model 'mandatory_scheduling': 3.27s\n",
        "Total time to execute: 3.27s\n"
       ]
      }
     ],
     "prompt_number": 9
    },
    {
     "cell_type": "code",
     "collapsed": false,
     "input": [
      "sim.run([\"non_mandatory_scheduling\"])"
     ],
     "language": "python",
     "metadata": {},
     "outputs": [
      {
       "output_type": "stream",
       "stream": "stdout",
       "text": [
        "Running model 'non_mandatory_scheduling'\n",
        "Running 1886 non-mandatory tour scheduling choices"
       ]
      },
      {
       "output_type": "stream",
       "stream": "stdout",
       "text": [
        "\n",
        "Running 528 non-mandatory #1 tour choices\n",
        "WARNING: Some columns have no variability:\n"
       ]
      },
      {
       "output_type": "stream",
       "stream": "stdout",
       "text": [
        "['start < end_of_previous_tour']\n",
        "Running 520 non-mandatory #2 tour choices"
       ]
      },
      {
       "output_type": "stream",
       "stream": "stdout",
       "text": [
        "\n",
        "WARNING: Some columns have no variability:\n"
       ]
      },
      {
       "output_type": "stream",
       "stream": "stdout",
       "text": [
        "['start < end_of_previous_tour']\n",
        "Running 338 non-mandatory #3 tour choices"
       ]
      },
      {
       "output_type": "stream",
       "stream": "stdout",
       "text": [
        "\n",
        "WARNING: Some columns have no variability:\n"
       ]
      },
      {
       "output_type": "stream",
       "stream": "stdout",
       "text": [
        "['start < end_of_previous_tour']\n",
        "Running 246 non-mandatory #4 tour choices\n",
        "WARNING: Some columns have no variability:\n"
       ]
      },
      {
       "output_type": "stream",
       "stream": "stdout",
       "text": [
        "['(tour_type == \"shopping\") * duration' '(tour_type == \"shopping\") * start'\n",
        " 'start < end_of_previous_tour']\n",
        "Running 144 non-mandatory #5 tour choices\n",
        "WARNING: Some columns have no variability:\n"
       ]
      },
      {
       "output_type": "stream",
       "stream": "stdout",
       "text": [
        "['(tour_type == \"shopping\") * duration' '(tour_type == \"shopping\") * start'\n",
        " 'start < end_of_previous_tour']\n",
        "Running 61 non-mandatory #6 tour choices\n",
        "WARNING: Some columns have no variability:\n"
       ]
      },
      {
       "output_type": "stream",
       "stream": "stdout",
       "text": [
        "['(tour_type == \"shopping\") * duration' '(tour_type == \"shopping\") * start'\n",
        " 'start < end_of_previous_tour']\n",
        "Running 49 non-mandatory #7 tour choices\n",
        "WARNING: Some columns have no variability:\n"
       ]
      },
      {
       "output_type": "stream",
       "stream": "stdout",
       "text": [
        "['(tour_type == \"shopping\") * duration' '(tour_type == \"shopping\") * start'\n",
        " 'start < end_of_previous_tour']\n",
        "Choices:\n",
        "count    1886.000000\n",
        "mean       31.246023\n",
        "std        33.805214\n",
        "min         1.000000\n",
        "25%        18.000000\n",
        "50%        18.000000\n",
        "75%        18.000000\n",
        "max       188.000000\n",
        "dtype: float64\n",
        "Time to execute model 'non_mandatory_scheduling': 3.47s\n",
        "Total time to execute: 3.47s\n"
       ]
      }
     ],
     "prompt_number": 10
    },
    {
     "cell_type": "code",
     "collapsed": false,
     "input": [
      "sim.get_table(\"land_use\").to_frame().info()"
     ],
     "language": "python",
     "metadata": {},
     "outputs": [
      {
       "output_type": "stream",
       "stream": "stdout",
       "text": [
        "<class 'pandas.core.frame.DataFrame'>\n",
        "Int64Index: 1454 entries, 1 to 1454\n",
        "Data columns (total 49 columns):\n",
        "DISTRICT              1454 non-null int64\n",
        "SD                    1454 non-null int64\n",
        "COUNTY                1454 non-null int64\n",
        "TOTHH                 1454 non-null int64\n",
        "HHPOP                 1454 non-null int64\n",
        "TOTPOP                1454 non-null int64\n",
        "EMPRES                1454 non-null int64\n",
        "SFDU                  1454 non-null int64\n",
        "MFDU                  1454 non-null int64\n",
        "HHINCQ1               1454 non-null int64\n",
        "HHINCQ2               1454 non-null int64\n",
        "HHINCQ3               1454 non-null int64\n",
        "HHINCQ4               1454 non-null int64\n",
        "TOTACRE               1454 non-null float64\n",
        "RESACRE               1454 non-null int64\n",
        "CIACRE                1454 non-null int64\n",
        "SHPOP62P              1454 non-null float64\n",
        "TOTEMP                1454 non-null int64\n",
        "AGE0004               1454 non-null int64\n",
        "AGE0519               1454 non-null int64\n",
        "AGE2044               1454 non-null int64\n",
        "AGE4564               1454 non-null int64\n",
        "AGE65P                1454 non-null int64\n",
        "RETEMPN               1454 non-null int64\n",
        "FPSEMPN               1454 non-null int64\n",
        "HEREMPN               1454 non-null int64\n",
        "OTHEMPN               1454 non-null int64\n",
        "AGREMPN               1454 non-null int64\n",
        "MWTEMPN               1454 non-null int64\n",
        "PRKCST                1454 non-null float64\n",
        "OPRKCST               1454 non-null float64\n",
        "area_type             1454 non-null int64\n",
        "HSENROLL              1454 non-null float64\n",
        "COLLFTE               1454 non-null float64\n",
        "COLLPTE               1454 non-null float64\n",
        "TOPOLOGY              1454 non-null int64\n",
        "TERMINAL              1454 non-null float64\n",
        "ZERO                  1454 non-null int64\n",
        "hhlds                 1454 non-null int64\n",
        "sftaz                 1454 non-null int64\n",
        "gqpop                 1454 non-null int64\n",
        "employment_density    1454 non-null float64\n",
        "total_acres           1454 non-null float64\n",
        "county_id             1454 non-null int64\n",
        "density_index         1453 non-null float64\n",
        "county_name           1454 non-null object\n",
        "household_density     1454 non-null float64\n",
        "total_households      1454 non-null int64\n",
        "total_employment      1454 non-null int64\n",
        "dtypes: float64(12), int64(36), object(1)\n",
        "memory usage: 568.0 KB\n"
       ]
      }
     ],
     "prompt_number": 11
    },
    {
     "cell_type": "code",
     "collapsed": false,
     "input": [
      "sim.get_table(\"households\").to_frame().info()"
     ],
     "language": "python",
     "metadata": {},
     "outputs": [
      {
       "output_type": "stream",
       "stream": "stdout",
       "text": [
        "<class 'pandas.core.frame.DataFrame'>\n",
        "Int64Index: 1000 entries, 1605186 to 2171700\n",
        "Data columns (total 75 columns):\n",
        "TAZ                          1000 non-null int64\n",
        "SERIALNO                     1000 non-null int64\n",
        "PUMA5                        1000 non-null int64\n",
        "income                       1000 non-null int64\n",
        "PERSONS                      1000 non-null int64\n",
        "HHT                          1000 non-null int64\n",
        "UNITTYPE                     1000 non-null int64\n",
        "NOC                          1000 non-null int64\n",
        "BLDGSZ                       1000 non-null int64\n",
        "TENURE                       1000 non-null int64\n",
        "VEHICL                       1000 non-null int64\n",
        "hinccat1                     1000 non-null int64\n",
        "hinccat2                     1000 non-null int64\n",
        "hhagecat                     1000 non-null int64\n",
        "hsizecat                     1000 non-null int64\n",
        "hfamily                      1000 non-null int64\n",
        "hunittype                    1000 non-null int64\n",
        "hNOCcat                      1000 non-null int64\n",
        "hwrkrcat                     1000 non-null int64\n",
        "h0004                        1000 non-null int64\n",
        "h0511                        1000 non-null int64\n",
        "h1215                        1000 non-null int64\n",
        "h1617                        1000 non-null int64\n",
        "h1824                        1000 non-null int64\n",
        "h2534                        1000 non-null int64\n",
        "h3549                        1000 non-null int64\n",
        "h5064                        1000 non-null int64\n",
        "h6579                        1000 non-null int64\n",
        "h80up                        1000 non-null int64\n",
        "workers                      1000 non-null int64\n",
        "hwork_f                      1000 non-null int64\n",
        "hwork_p                      1000 non-null int64\n",
        "huniv                        1000 non-null int64\n",
        "hnwork                       1000 non-null int64\n",
        "hretire                      1000 non-null int64\n",
        "hpresch                      1000 non-null int64\n",
        "hschpred                     1000 non-null int64\n",
        "hschdriv                     1000 non-null int64\n",
        "htypdwel                     1000 non-null int64\n",
        "hownrent                     1000 non-null int64\n",
        "hadnwst                      1000 non-null int64\n",
        "hadwpst                      1000 non-null int64\n",
        "hadkids                      1000 non-null int64\n",
        "bucketBin                    1000 non-null int64\n",
        "originalPUMA                 1000 non-null int64\n",
        "hmultiunit                   1000 non-null int64\n",
        "has_preschool_kid            1000 non-null bool\n",
        "family                       1000 non-null bool\n",
        "num_young_adults             1000 non-null float64\n",
        "auto_ownership               1000 non-null int64\n",
        "has_driving_kid              1000 non-null bool\n",
        "has_non_worker               1000 non-null bool\n",
        "has_preschool_kid_at_home    1000 non-null bool\n",
        "home_taz                     1000 non-null int64\n",
        "has_retiree                  1000 non-null bool\n",
        "drivers                      1000 non-null int64\n",
        "num_under16_not_at_school    1000 non-null int64\n",
        "has_full_time                1000 non-null bool\n",
        "num_children                 1000 non-null float64\n",
        "car_sufficiency              1000 non-null int64\n",
        "num_adolescents              1000 non-null float64\n",
        "income_in_thousands          1000 non-null float64\n",
        "has_school_kid               1000 non-null bool\n",
        "num_college_age              1000 non-null float64\n",
        "non_workers                  1000 non-null int64\n",
        "household_type               1000 non-null object\n",
        "home_is_rural                1000 non-null bool\n",
        "has_university               1000 non-null bool\n",
        "non_family                   1000 non-null bool\n",
        "income_segment               1000 non-null category\n",
        "has_part_time                1000 non-null bool\n",
        "has_school_kid_at_home       1000 non-null bool\n",
        "no_cars                      1000 non-null bool\n",
        "num_young_children           1000 non-null float64\n",
        "home_is_urban                1000 non-null bool\n",
        "dtypes: bool(15), category(1), float64(6), int64(52), object(1)\n",
        "memory usage: 484.4 KB\n"
       ]
      }
     ],
     "prompt_number": 12
    },
    {
     "cell_type": "code",
     "collapsed": false,
     "input": [
      "sim.get_table(\"persons\").to_frame().info()"
     ],
     "language": "python",
     "metadata": {},
     "outputs": [
      {
       "output_type": "stream",
       "stream": "stdout",
       "text": [
        "<class 'pandas.core.frame.DataFrame'>\n",
        "Int64Index: 2569 entries, 553 to 7052832\n",
        "Data columns (total 48 columns):\n",
        "household_id                     2569 non-null int64\n",
        "age                              2569 non-null int64\n",
        "RELATE                           2569 non-null int64\n",
        "ESR                              2569 non-null int64\n",
        "GRADE                            2569 non-null int64\n",
        "PNUM                             2569 non-null int64\n",
        "PAUG                             2569 non-null int64\n",
        "DDP                              2569 non-null int64\n",
        "sex                              2569 non-null int64\n",
        "WEEKS                            2569 non-null int64\n",
        "HOURS                            2569 non-null int64\n",
        "MSP                              2569 non-null int64\n",
        "POVERTY                          2569 non-null int64\n",
        "EARNS                            2569 non-null int64\n",
        "pagecat                          2569 non-null int64\n",
        "pemploy                          2569 non-null int64\n",
        "pstudent                         2569 non-null int64\n",
        "ptype                            2569 non-null int64\n",
        "padkid                           2569 non-null int64\n",
        "student_cat                      2569 non-null object\n",
        "num_eat_j                        2569 non-null int64\n",
        "distance_to_school               2569 non-null float64\n",
        "female                           2569 non-null bool\n",
        "non_mandatory_tour_frequency     1680 non-null float64\n",
        "max_window                       2569 non-null int64\n",
        "employed_cat                     2569 non-null object\n",
        "student_is_employed              2569 non-null bool\n",
        "distance_to_work                 2569 non-null float64\n",
        "cdap_activity                    2569 non-null object\n",
        "num_main_j                       2569 non-null int64\n",
        "num_joint_tours                  2569 non-null int64\n",
        "home_taz                         2569 non-null int64\n",
        "ptype_cat                        2569 non-null object\n",
        "is_student                       2569 non-null bool\n",
        "under16_not_at_school            2569 non-null bool\n",
        "school_taz                       2569 non-null int64\n",
        "is_worker                        2569 non-null bool\n",
        "roundtrip_auto_time_to_school    2569 non-null float64\n",
        "workplace_taz                    2569 non-null int64\n",
        "workplace_in_cbd                 2569 non-null bool\n",
        "nonstudent_to_school             2569 non-null bool\n",
        "mandatory_tour_frequency         808 non-null object\n",
        "num_shop_j                       2569 non-null int64\n",
        "num_mand                         808 non-null float64\n",
        "num_visi_j                       2569 non-null int64\n",
        "roundtrip_auto_time_to_work      2569 non-null float64\n",
        "num_disc_j                       2569 non-null int64\n",
        "male                             2569 non-null bool\n",
        "dtypes: bool(8), float64(6), int64(29), object(5)\n",
        "memory usage: 843.0 KB\n"
       ]
      }
     ],
     "prompt_number": 13
    },
    {
     "cell_type": "heading",
     "level": 2,
     "metadata": {},
     "source": [
      "The cell below is used to create small a dataset for testing"
     ]
    },
    {
     "cell_type": "code",
     "collapsed": false,
     "input": [
      "import urbansim.sim.simulation as sim\n",
      "from activitysim import activitysim as asim\n",
      "from activitysim import defaults\n",
      "import pandas as pd\n",
      "old_store = sim.get_injectable('store')\n",
      "print old_store\n",
      "# subset of the whole store\n",
      "new_store = pd.HDFStore('test.h5', 'w')\n",
      "new_store[\"land_use/taz_data\"] = old_store[\"land_use/taz_data\"]\n",
      "new_store[\"skims/accessibility\"] = old_store[\"skims/accessibility\"]\n",
      "new_store[\"households\"] = asim.random_rows(old_store[\"households\"], 1000)\n",
      "new_store[\"persons\"] = old_store[\"persons\"][\n",
      "    old_store[\"persons\"].household_id.isin(new_store[\"households\"].index)\n",
      "]\n",
      "print new_store\n",
      "new_store.close()"
     ],
     "language": "python",
     "metadata": {},
     "outputs": [
      {
       "output_type": "stream",
       "stream": "stdout",
       "text": [
        "<class 'pandas.io.pytables.HDFStore'>\n",
        "File path: ./data/mtc_asim.h5\n",
        "/households                     frame        (shape->[2732722,46])\n",
        "/persons                        frame        (shape->[7053334,19])\n",
        "/land_use/taz_data              frame        (shape->[1454,41])   \n",
        "/skims/accessibility            frame        (shape->[1454,10])   \n",
        "<class 'pandas.io.pytables.HDFStore'>\n",
        "File path: test.h5\n",
        "/households                     frame        (shape->[1000,46])\n",
        "/persons                        frame        (shape->[2646,19])\n",
        "/land_use/taz_data              frame        (shape->[1454,41])\n",
        "/skims/accessibility            frame        (shape->[1454,10])"
       ]
      },
      {
       "output_type": "stream",
       "stream": "stdout",
       "text": [
        "\n"
       ]
      }
     ],
     "prompt_number": 14
    },
    {
     "cell_type": "code",
     "collapsed": false,
     "input": [],
     "language": "python",
     "metadata": {},
     "outputs": [],
     "prompt_number": 14
    }
   ],
   "metadata": {}
  }
 ]
}