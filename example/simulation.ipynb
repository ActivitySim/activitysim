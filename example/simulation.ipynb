{
 "cells": [
  {
   "cell_type": "code",
   "execution_count": 1,
   "metadata": {
    "collapsed": false
   },
   "outputs": [],
   "source": [
    "%load_ext autoreload\n",
    "%autoreload 2\n",
    "import urbansim.sim.simulation as sim\n",
    "from activitysim import defaults"
   ]
  },
  {
   "cell_type": "markdown",
   "metadata": {},
   "source": [
    "## Run this cell to use the test data which comes with the repo"
   ]
  },
  {
   "cell_type": "raw",
   "metadata": {},
   "source": [
    "import pandas as pd\n",
    "import numpy as np\n",
    "import os\n",
    "sim.add_injectable(\"store\", pd.HDFStore(\n",
    "        os.path.join(\"..\", \"activitysim\", \"defaults\", \"test\", \"test.h5\"), \"r\"))\n",
    "sim.add_injectable(\"nonmotskm_matrix\", np.ones((1454, 1454)))"
   ]
  },
  {
   "cell_type": "code",
   "execution_count": 2,
   "metadata": {
    "collapsed": false
   },
   "outputs": [
    {
     "name": "stdout",
     "output_type": "stream",
     "text": [
      "Running model 'school_location_simulate'\n",
      "WARNING: Some columns have no variability:\n",
      "['mode_choice_logsums']\n",
      "WARNING: Some columns have no variability:\n",
      "['mode_choice_logsums']\n",
      "WARNING: Some columns have no variability:\n",
      "['mode_choice_logsums']\n",
      "Describe of choices:\n",
      "count     237.000000\n",
      "mean      198.367089\n",
      "std       402.822116\n",
      "min        -1.000000\n",
      "25%        -1.000000\n",
      "50%        -1.000000\n",
      "75%        -1.000000\n",
      "max      1440.000000\n",
      "Name: TAZ, dtype: float64\n",
      "Time to execute model 'school_location_simulate': 53.29s\n",
      "Total time to execute: 53.29s\n"
     ]
    }
   ],
   "source": [
    "sim.run([\"school_location_simulate\"])"
   ]
  },
  {
   "cell_type": "code",
   "execution_count": 3,
   "metadata": {
    "collapsed": false
   },
   "outputs": [
    {
     "name": "stdout",
     "output_type": "stream",
     "text": [
      "Running model 'workplace_location_simulate'\n",
      "WARNING: Some columns have no variability:\n",
      "['mode_choice_logsums']\n",
      "Describe of choices:\n",
      "count     237.000000\n",
      "mean      804.881857\n",
      "std       415.137820\n",
      "min         2.000000\n",
      "25%       527.000000\n",
      "50%       839.000000\n",
      "75%      1165.000000\n",
      "max      1441.000000\n",
      "Name: TAZ, dtype: float64\n",
      "Time to execute model 'workplace_location_simulate': 6.77s\n",
      "Total time to execute: 6.77s\n"
     ]
    }
   ],
   "source": [
    "sim.run([\"workplace_location_simulate\"])"
   ]
  },
  {
   "cell_type": "code",
   "execution_count": 4,
   "metadata": {
    "collapsed": false
   },
   "outputs": [
    {
     "name": "stdout",
     "output_type": "stream",
     "text": [
      "count    237.000000\n",
      "mean       2.152489\n",
      "std        1.288770\n",
      "min        0.340000\n",
      "25%        1.210000\n",
      "50%        1.770000\n",
      "75%        2.960000\n",
      "max        7.210000\n",
      "dtype: float64\n"
     ]
    }
   ],
   "source": [
    "print sim.get_table(\"persons\").distance_to_work.describe()"
   ]
  },
  {
   "cell_type": "code",
   "execution_count": 5,
   "metadata": {
    "collapsed": false
   },
   "outputs": [
    {
     "name": "stdout",
     "output_type": "stream",
     "text": [
      "Running model 'auto_ownership_simulate'\n",
      "WARNING: Some columns have no variability:\n",
      "['@1' 'work_tour_auto_time_savings / (workers+1)']\n",
      "Choices:\n",
      "1    42\n",
      "2    30\n",
      "3    10\n",
      "0    10\n",
      "4     8\n",
      "dtype: int64\n",
      "Time to execute model 'auto_ownership_simulate': 0.23s\n",
      "Total time to execute: 0.23s\n"
     ]
    }
   ],
   "source": [
    "sim.run([\"auto_ownership_simulate\"])"
   ]
  },
  {
   "cell_type": "code",
   "execution_count": 6,
   "metadata": {
    "collapsed": false
   },
   "outputs": [
    {
     "name": "stdout",
     "output_type": "stream",
     "text": [
      "Running model 'cdap_simulate'\n",
      "Choices:\n",
      "Home            93\n",
      "Mandatory       79\n",
      "NonMandatory    65\n",
      "dtype: int64\n",
      "Time to execute model 'cdap_simulate': 8.23s\n",
      "Total time to execute: 8.23s\n"
     ]
    }
   ],
   "source": [
    "sim.run([\"cdap_simulate\"])"
   ]
  },
  {
   "cell_type": "code",
   "execution_count": 7,
   "metadata": {
    "collapsed": false,
    "scrolled": true
   },
   "outputs": [
    {
     "name": "stdout",
     "output_type": "stream",
     "text": [
      "Running model 'mandatory_tour_frequency'\n",
      "79 persons run for mandatory tour model\n",
      "count      79.000000\n",
      "mean      725.481013\n",
      "std       420.424689\n",
      "min         5.000000\n",
      "25%       422.000000\n",
      "50%       811.000000\n",
      "75%      1020.000000\n",
      "max      1441.000000\n",
      "Name: workplace_taz, dtype: float64\n",
      "WARNING: Some columns have no variability:\n",
      "['ptype == 6' '(ptype == 6) & female'\n",
      " '(ptype == 6) & (distance_to_school < 3)'\n",
      " '(ptype == 6) & (distance_to_work < 3 | distance_to_school < 3)'\n",
      " '(ptype == 6) * roundtrip_auto_time_to_school'\n",
      " '(ptype == 6) & student_is_employed' '(ptype == 1) & nonstudent_to_school'\n",
      " '(ptype == 2) & nonstudent_to_school'\n",
      " '(ptype == 4) & nonstudent_to_school'\n",
      " '(ptype == 5) & nonstudent_to_school'\n",
      " '(ptype == 1) & (auto_ownership == 0)'\n",
      " '(ptype == 4) & (auto_ownership == 0)'\n",
      " '(ptype == 5) & (auto_ownership == 0)'\n",
      " '(ptype == 6) & (auto_ownership == 0)'\n",
      " '(ptype == 7) & (auto_ownership == 0)'\n",
      " '(ptype == 6) & (auto_ownership < drivers)'\n",
      " '(ptype == 3) * (num_young_children)'\n",
      " '(ptype == 5) * (num_young_children)'\n",
      " '(ptype == 6) * (num_young_children)'\n",
      " '(ptype == 6) & (income_in_thousands > 50)' '(ptype == 6) & non_family'\n",
      " '(ptype == 7) & non_family' '(ptype == 6) * num_under16_not_at_school'\n",
      " '(ptype == 6) & home_is_urban' 'ptype == 6' '~(workplace_taz > -1)']\n",
      "Choices:\n",
      "work1      48\n",
      "work2      26\n",
      "school1     5\n",
      "dtype: int64\n",
      "Time to execute model 'mandatory_tour_frequency': 5.50s\n",
      "Total time to execute: 5.50s\n"
     ]
    }
   ],
   "source": [
    "sim.run(['mandatory_tour_frequency'])"
   ]
  },
  {
   "cell_type": "code",
   "execution_count": 8,
   "metadata": {
    "collapsed": false
   },
   "outputs": [
    {
     "data": {
      "text/plain": [
       "work      100\n",
       "school      5\n",
       "dtype: int64"
      ]
     },
     "execution_count": 8,
     "metadata": {},
     "output_type": "execute_result"
    }
   ],
   "source": [
    "sim.get_table(\"mandatory_tours\").tour_type.value_counts()"
   ]
  },
  {
   "cell_type": "code",
   "execution_count": 9,
   "metadata": {
    "collapsed": false,
    "scrolled": true
   },
   "outputs": [
    {
     "name": "stdout",
     "output_type": "stream",
     "text": [
      "Running model 'mandatory_scheduling'\n",
      "Running 5 school tour scheduling choices\n",
      "Running 5 #1 tour choices\n",
      "WARNING: Some columns have no variability:\n",
      "['(ptype == 4) * start' '(ptype == 3) * start' '(ptype == 3) * duration'\n",
      " '(workers == hhsize) * duration' '(tour_num > 1) & (start < end_previous)'\n",
      " '(tour_num > 1) * duration' '(tour_num > 1) & (duration < 6)'\n",
      " 'work_and_school_and_worker & (duration < 6)'\n",
      " 'work_and_school_and_student & (duration < 6)']\n",
      "Running 100 work tour scheduling choices\n",
      "Running 74 #1 tour choices\n",
      "WARNING: Some columns have no variability:\n",
      "['(start <= end_previous) & (tour_num == 2)' '(tour_num == 2) * start'\n",
      " '(tour_num == 2) * duration' 'home_is_rural & (start < 6)'\n",
      " 'home_is_rural & (end > 22)' '(tour_num == 2) & (duration < 8)'\n",
      " \"(mandatory_tour_frequency == 'work_and_school') & is_worker & (duration < 8)\"\n",
      " \"(mandatory_tour_frequency == 'work_and_school') & is_student & (duration < 8)\"]\n",
      "Running 26 #2 tour choices\n",
      "WARNING: Some columns have no variability:\n",
      "['(ptype == 3) * start' '(tour_num == 1) * start'\n",
      " '(tour_num == 1) * duration' 'home_is_rural & (start < 6)'\n",
      " 'home_is_rural & (end > 22)' '(tour_num == 1) & (duration < 8)'\n",
      " \"(mandatory_tour_frequency == 'work_and_school') & is_worker & (duration < 8)\"\n",
      " \"(mandatory_tour_frequency == 'work_and_school') & is_student & (duration < 8)\"]\n",
      "Choices:\n",
      "count    105.000000\n",
      "mean     156.047619\n",
      "std       65.663680\n",
      "min        0.000000\n",
      "25%      176.000000\n",
      "50%      187.000000\n",
      "75%      189.000000\n",
      "max      189.000000\n",
      "dtype: float64\n",
      "Time to execute model 'mandatory_scheduling': 6.41s\n",
      "Total time to execute: 6.41s\n"
     ]
    }
   ],
   "source": [
    "sim.run([\"mandatory_scheduling\"])"
   ]
  },
  {
   "cell_type": "code",
   "execution_count": 10,
   "metadata": {
    "collapsed": false
   },
   "outputs": [
    {
     "name": "stdout",
     "output_type": "stream",
     "text": [
      "Running model 'non_mandatory_tour_frequency'\n",
      "144 persons run for non-mandatory tour model\n",
      "Running segment 'driving' of size 3\n",
      "WARNING: Some columns have no variability:\n",
      "['(tot_tours == 0) & ((num_mand > 0) | (num_joint_tours > 0))'\n",
      " 'num_mand*(tot_tours == 0)' 'num_mand*(tot_tours == 1)'\n",
      " 'num_mand*(tot_tours == 2)' 'num_mand*(tot_tours == 3)'\n",
      " 'num_mand*(tot_tours == 4)' 'num_mand*(tot_tours > 4)'\n",
      " 'num_joint_tours*(tot_tours == 0)' 'num_joint_tours*(tot_tours == 1)'\n",
      " 'num_joint_tours*(tot_tours == 2)' 'num_joint_tours*(tot_tours == 3)'\n",
      " 'num_joint_tours*(tot_tours == 4)' 'num_joint_tours*(tot_tours >  4)'\n",
      " 'num_shop_j' 'num_main_j' 'num_eat_j' 'num_visi_j' 'num_disc_j'\n",
      " 'max_window*(tot_tours == 0)' 'max_window*(tot_tours == 1)'\n",
      " 'max_window*(tot_tours == 2)' 'max_window*(tot_tours == 3)'\n",
      " 'max_window*(tot_tours == 4)' 'max_window*(tot_tours >  4)'\n",
      " '(50 < income_in_thousands <= 100) & (tot_tours == 1)'\n",
      " '(50 < income_in_thousands <= 100) & (tot_tours == 2)'\n",
      " '(50 < income_in_thousands <= 100) & (tot_tours == 3)'\n",
      " '(50 < income_in_thousands <= 100) & (tot_tours == 4)'\n",
      " '(50 < income_in_thousands <= 100) & (tot_tours >  4)'\n",
      " '(50 < income_in_thousands <= 100) * shopping'\n",
      " '(50 < income_in_thousands <= 100) * othmaint'\n",
      " '(50 < income_in_thousands <= 100) * eatout'\n",
      " '(50 < income_in_thousands <= 100) * othdiscr'\n",
      " '(50 < income_in_thousands <= 100) * social' 'female & (tot_tours == 1)'\n",
      " 'female & (tot_tours == 2)' 'female & (tot_tours == 3)'\n",
      " 'female & (tot_tours == 4)' 'female & (tot_tours == 5)' 'female * escort'\n",
      " 'female * shopping' 'female * othmaint' 'female * eatout'\n",
      " 'female * othdiscr' 'no_cars & (tot_tours == 1)'\n",
      " 'no_cars & (tot_tours == 2)' 'no_cars & (tot_tours == 3)'\n",
      " 'no_cars & (tot_tours == 4)' 'no_cars & (tot_tours >  4)'\n",
      " '(car_sufficiency > 0) & (tot_tours == 1)'\n",
      " '(car_sufficiency > 0) & (tot_tours == 2)'\n",
      " '(car_sufficiency > 0) & (tot_tours == 3)'\n",
      " '(car_sufficiency > 0) & (tot_tours == 4)'\n",
      " '(car_sufficiency > 0) & (tot_tours > 4)'\n",
      " 'has_preschool_kid & (tot_tours == 1)'\n",
      " 'has_preschool_kid & (tot_tours == 2)'\n",
      " 'has_preschool_kid & (tot_tours == 3)'\n",
      " 'has_preschool_kid & (tot_tours == 4)'\n",
      " 'has_preschool_kid & (tot_tours == 5)' 'has_school_kid & (tot_tours == 1)'\n",
      " 'has_school_kid & (tot_tours == 2)' 'has_school_kid & (tot_tours == 3)'\n",
      " 'has_school_kid & (tot_tours == 4)' 'has_school_kid & (tot_tours == 5)'\n",
      " 'has_university * escort' 'has_school_kid * escort'\n",
      " 'has_preschool_kid * escort' 'has_school_kid_at_home * escort'\n",
      " 'has_preschool_kid_at_home * escort' 'has_university * shopping'\n",
      " 'has_school_kid * shopping' 'has_preschool_kid * shopping'\n",
      " 'has_school_kid_at_home * shopping' 'has_preschool_kid_at_home * shopping'\n",
      " 'has_university * othmaint' 'has_school_kid * othmaint'\n",
      " 'has_preschool_kid * othmaint' 'has_school_kid_at_home * othmaint'\n",
      " 'has_preschool_kid_at_home * othmaint' 'has_university * eatout'\n",
      " 'has_school_kid * eatout' 'has_preschool_kid * eatout'\n",
      " 'has_school_kid_at_home * eatout' 'has_preschool_kid_at_home * eatout'\n",
      " 'has_university * othdiscr' 'has_school_kid * othdiscr'\n",
      " 'has_preschool_kid * othdiscr' 'has_school_kid_at_home * othdiscr'\n",
      " 'has_preschool_kid_at_home * othdiscr' 'home_is_urban & (tot_tours == 1)'\n",
      " 'home_is_urban & (tot_tours == 2)' 'home_is_urban & (tot_tours == 3)'\n",
      " 'home_is_urban & (tot_tours == 4)' 'home_is_urban & (tot_tours > 4)'\n",
      " 'home_is_urban * escort' 'home_is_urban * shopping'\n",
      " 'home_is_urban * othmaint' 'home_is_urban * eatout'\n",
      " 'home_is_urban * othdiscr' 'escort * no_cars']\n",
      "Running segment 'full' of size 44\n",
      "WARNING: Some columns have no variability:\n",
      "['num_joint_tours*(tot_tours == 0)' 'num_joint_tours*(tot_tours == 1)'\n",
      " 'num_joint_tours*(tot_tours == 2)' 'num_joint_tours*(tot_tours == 3)'\n",
      " 'num_joint_tours*(tot_tours == 4)' 'num_joint_tours*(tot_tours >  4)'\n",
      " 'num_shop_j' 'num_main_j' 'num_eat_j' 'num_visi_j' 'num_disc_j'\n",
      " 'max_window*(tot_tours == 0)' 'max_window*(tot_tours == 1)'\n",
      " 'max_window*(tot_tours == 2)' 'max_window*(tot_tours == 3)'\n",
      " 'max_window*(tot_tours == 4)' 'max_window*(tot_tours >  4)'\n",
      " 'no_cars & (tot_tours == 1)' 'no_cars & (tot_tours == 2)'\n",
      " 'no_cars & (tot_tours == 3)' 'no_cars & (tot_tours == 4)'\n",
      " 'no_cars & (tot_tours >  4)' 'has_school_kid_at_home * escort'\n",
      " 'has_preschool_kid_at_home * escort' 'has_school_kid_at_home * shopping'\n",
      " 'has_preschool_kid_at_home * shopping' 'has_school_kid_at_home * othmaint'\n",
      " 'has_preschool_kid_at_home * othmaint' 'has_school_kid_at_home * eatout'\n",
      " 'has_preschool_kid_at_home * eatout' 'has_school_kid_at_home * othdiscr'\n",
      " 'has_preschool_kid_at_home * othdiscr' 'escort * no_cars']\n",
      "Running segment 'nonwork' of size 25\n",
      "WARNING: Some columns have no variability:\n",
      "['num_joint_tours*(tot_tours == 0)' 'num_joint_tours*(tot_tours == 1)'\n",
      " 'num_joint_tours*(tot_tours == 2)' 'num_joint_tours*(tot_tours == 3)'\n",
      " 'num_joint_tours*(tot_tours == 4)' 'num_joint_tours*(tot_tours >  4)'\n",
      " 'num_shop_j' 'num_main_j' 'num_eat_j' 'num_visi_j' 'num_disc_j'\n",
      " 'max_window*(tot_tours == 0)' 'max_window*(tot_tours == 1)'\n",
      " 'max_window*(tot_tours == 2)' 'max_window*(tot_tours == 3)'\n",
      " 'max_window*(tot_tours == 4)' 'max_window*(tot_tours >  4)'\n",
      " 'no_cars & (tot_tours == 1)' 'no_cars & (tot_tours == 2)'\n",
      " 'no_cars & (tot_tours == 3)' 'no_cars & (tot_tours == 4)'\n",
      " 'no_cars & (tot_tours >  4)' 'has_school_kid_at_home * escort'\n",
      " 'has_preschool_kid_at_home * escort' 'has_school_kid_at_home * shopping'\n",
      " 'has_preschool_kid_at_home * shopping' 'has_school_kid_at_home * othmaint'\n",
      " 'has_preschool_kid_at_home * othmaint' 'has_school_kid_at_home * eatout'\n",
      " 'has_preschool_kid_at_home * eatout' 'has_school_kid_at_home * othdiscr'\n",
      " 'has_preschool_kid_at_home * othdiscr' 'escort * no_cars']\n",
      "Running segment 'part' of size 14\n",
      "WARNING: Some columns have no variability:\n",
      "['num_joint_tours*(tot_tours == 0)' 'num_joint_tours*(tot_tours == 1)'\n",
      " 'num_joint_tours*(tot_tours == 2)' 'num_joint_tours*(tot_tours == 3)'\n",
      " 'num_joint_tours*(tot_tours == 4)' 'num_joint_tours*(tot_tours >  4)'\n",
      " 'num_shop_j' 'num_main_j' 'num_eat_j' 'num_visi_j' 'num_disc_j'\n",
      " 'max_window*(tot_tours == 0)' 'max_window*(tot_tours == 1)'\n",
      " 'max_window*(tot_tours == 2)' 'max_window*(tot_tours == 3)'\n",
      " 'max_window*(tot_tours == 4)' 'max_window*(tot_tours >  4)'\n",
      " '(car_sufficiency > 0) & (tot_tours == 1)'\n",
      " '(car_sufficiency > 0) & (tot_tours == 2)'\n",
      " '(car_sufficiency > 0) & (tot_tours == 3)'\n",
      " '(car_sufficiency > 0) & (tot_tours == 4)'\n",
      " '(car_sufficiency > 0) & (tot_tours > 4)' 'has_university * escort'\n",
      " 'has_school_kid_at_home * escort' 'has_preschool_kid_at_home * escort'\n",
      " 'has_university * shopping' 'has_school_kid_at_home * shopping'\n",
      " 'has_preschool_kid_at_home * shopping' 'has_university * othmaint'\n",
      " 'has_school_kid_at_home * othmaint' 'has_preschool_kid_at_home * othmaint'\n",
      " 'has_university * eatout' 'has_school_kid_at_home * eatout'\n",
      " 'has_preschool_kid_at_home * eatout' 'has_university * othdiscr'\n",
      " 'has_school_kid_at_home * othdiscr' 'has_preschool_kid_at_home * othdiscr']\n",
      "Running segment 'preschool' of size 12\n",
      "WARNING: Some columns have no variability:\n",
      "['num_joint_tours*(tot_tours == 0)' 'num_joint_tours*(tot_tours == 1)'\n",
      " 'num_joint_tours*(tot_tours == 2)' 'num_joint_tours*(tot_tours == 3)'\n",
      " 'num_joint_tours*(tot_tours == 4)' 'num_joint_tours*(tot_tours >  4)'\n",
      " 'num_shop_j' 'num_main_j' 'num_eat_j' 'num_visi_j' 'num_disc_j'\n",
      " 'max_window*(tot_tours == 0)' 'max_window*(tot_tours == 1)'\n",
      " 'max_window*(tot_tours == 2)' 'max_window*(tot_tours == 3)'\n",
      " 'max_window*(tot_tours == 4)' 'max_window*(tot_tours >  4)'\n",
      " 'no_cars & (tot_tours == 1)' 'no_cars & (tot_tours == 2)'\n",
      " 'no_cars & (tot_tours == 3)' 'no_cars & (tot_tours == 4)'\n",
      " 'no_cars & (tot_tours >  4)' '(car_sufficiency > 0) & (tot_tours == 1)'\n",
      " '(car_sufficiency > 0) & (tot_tours == 2)'\n",
      " '(car_sufficiency > 0) & (tot_tours == 3)'\n",
      " '(car_sufficiency > 0) & (tot_tours == 4)'\n",
      " '(car_sufficiency > 0) & (tot_tours > 4)' 'has_retiree & (tot_tours == 1)'\n",
      " 'has_retiree & (tot_tours == 2)' 'has_retiree & (tot_tours == 3)'\n",
      " 'has_retiree & (tot_tours == 4)' 'has_retiree & (tot_tours == 5)'\n",
      " 'has_retiree * escort' 'has_driving_kid * escort'\n",
      " 'has_school_kid_at_home * escort' 'has_preschool_kid_at_home * escort'\n",
      " 'has_retiree * shopping' 'has_driving_kid * shopping'\n",
      " 'has_school_kid_at_home * shopping' 'has_preschool_kid_at_home * shopping'\n",
      " 'has_retiree * othmaint' 'has_driving_kid * othmaint'\n",
      " 'has_school_kid_at_home * othmaint' 'has_preschool_kid_at_home * othmaint'\n",
      " 'has_retiree * eatout' 'has_driving_kid * eatout'\n",
      " 'has_school_kid_at_home * eatout' 'has_preschool_kid_at_home * eatout'\n",
      " 'has_retiree * othdiscr' 'has_driving_kid * othdiscr'\n",
      " 'has_school_kid_at_home * othdiscr' 'has_preschool_kid_at_home * othdiscr'\n",
      " 'escort * no_cars']\n",
      "Running segment 'retired' of size 21\n",
      "WARNING: Some columns have no variability:\n",
      "['num_joint_tours*(tot_tours == 0)' 'num_joint_tours*(tot_tours == 1)'\n",
      " 'num_joint_tours*(tot_tours == 2)' 'num_joint_tours*(tot_tours == 3)'\n",
      " 'num_joint_tours*(tot_tours == 4)' 'num_joint_tours*(tot_tours >  4)'\n",
      " 'num_shop_j' 'num_main_j' 'num_eat_j' 'num_visi_j' 'num_disc_j'\n",
      " 'max_window*(tot_tours == 0)' 'max_window*(tot_tours == 1)'\n",
      " 'max_window*(tot_tours == 2)' 'max_window*(tot_tours == 3)'\n",
      " 'max_window*(tot_tours == 4)' 'max_window*(tot_tours >  4)'\n",
      " 'has_preschool_kid & (tot_tours == 1)'\n",
      " 'has_preschool_kid & (tot_tours == 2)'\n",
      " 'has_preschool_kid & (tot_tours == 3)'\n",
      " 'has_preschool_kid & (tot_tours == 4)'\n",
      " 'has_preschool_kid & (tot_tours == 5)' 'has_preschool_kid * escort'\n",
      " 'has_school_kid_at_home * escort' 'has_preschool_kid_at_home * escort'\n",
      " 'has_preschool_kid * shopping' 'has_school_kid_at_home * shopping'\n",
      " 'has_preschool_kid_at_home * shopping' 'has_preschool_kid * othmaint'\n",
      " 'has_school_kid_at_home * othmaint' 'has_preschool_kid_at_home * othmaint'\n",
      " 'has_preschool_kid * eatout' 'has_school_kid_at_home * eatout'\n",
      " 'has_preschool_kid_at_home * eatout' 'has_preschool_kid * othdiscr'\n",
      " 'has_school_kid_at_home * othdiscr' 'has_preschool_kid_at_home * othdiscr']\n",
      "Running segment 'school' of size 15\n",
      "WARNING: Some columns have no variability:\n",
      "['num_joint_tours*(tot_tours == 0)' 'num_joint_tours*(tot_tours == 1)'\n",
      " 'num_joint_tours*(tot_tours == 2)' 'num_joint_tours*(tot_tours == 3)'\n",
      " 'num_joint_tours*(tot_tours == 4)' 'num_joint_tours*(tot_tours >  4)'\n",
      " 'num_shop_j' 'num_main_j' 'num_eat_j' 'num_visi_j' 'num_disc_j'\n",
      " 'max_window*(tot_tours == 0)' 'max_window*(tot_tours == 1)'\n",
      " 'max_window*(tot_tours == 2)' 'max_window*(tot_tours == 3)'\n",
      " 'max_window*(tot_tours == 4)' 'max_window*(tot_tours >  4)'\n",
      " 'no_cars & (tot_tours == 1)' 'no_cars & (tot_tours == 2)'\n",
      " 'no_cars & (tot_tours == 3)' 'no_cars & (tot_tours == 4)'\n",
      " 'no_cars & (tot_tours >  4)' '(car_sufficiency > 0) & (tot_tours == 1)'\n",
      " '(car_sufficiency > 0) & (tot_tours == 2)'\n",
      " '(car_sufficiency > 0) & (tot_tours == 3)'\n",
      " '(car_sufficiency > 0) & (tot_tours == 4)'\n",
      " '(car_sufficiency > 0) & (tot_tours > 4)' 'has_retiree & (tot_tours == 1)'\n",
      " 'has_retiree & (tot_tours == 2)' 'has_retiree & (tot_tours == 3)'\n",
      " 'has_retiree & (tot_tours == 4)' 'has_retiree & (tot_tours == 5)'\n",
      " 'has_retiree * escort' 'has_driving_kid * escort'\n",
      " 'has_school_kid_at_home * escort' 'has_preschool_kid_at_home * escort'\n",
      " 'has_retiree * shopping' 'has_driving_kid * shopping'\n",
      " 'has_school_kid_at_home * shopping' 'has_preschool_kid_at_home * shopping'\n",
      " 'has_retiree * othmaint' 'has_driving_kid * othmaint'\n",
      " 'has_school_kid_at_home * othmaint' 'has_preschool_kid_at_home * othmaint'\n",
      " 'has_retiree * eatout' 'has_driving_kid * eatout'\n",
      " 'has_school_kid_at_home * eatout' 'has_preschool_kid_at_home * eatout'\n",
      " 'has_retiree * othdiscr' 'has_driving_kid * othdiscr'\n",
      " 'has_school_kid_at_home * othdiscr' 'has_preschool_kid_at_home * othdiscr'\n",
      " 'escort * no_cars']\n",
      "Running segment 'university' of size 10\n",
      "WARNING: Some columns have no variability:\n",
      "['num_joint_tours*(tot_tours == 0)' 'num_joint_tours*(tot_tours == 1)'\n",
      " 'num_joint_tours*(tot_tours == 2)' 'num_joint_tours*(tot_tours == 3)'\n",
      " 'num_joint_tours*(tot_tours == 4)' 'num_joint_tours*(tot_tours >  4)'\n",
      " 'num_shop_j' 'num_main_j' 'num_eat_j' 'num_visi_j' 'num_disc_j'\n",
      " 'max_window*(tot_tours == 0)' 'max_window*(tot_tours == 1)'\n",
      " 'max_window*(tot_tours == 2)' 'max_window*(tot_tours == 3)'\n",
      " 'max_window*(tot_tours == 4)' 'max_window*(tot_tours >  4)'\n",
      " '(car_sufficiency > 0) & (tot_tours == 1)'\n",
      " '(car_sufficiency > 0) & (tot_tours == 2)'\n",
      " '(car_sufficiency > 0) & (tot_tours == 3)'\n",
      " '(car_sufficiency > 0) & (tot_tours == 4)'\n",
      " '(car_sufficiency > 0) & (tot_tours > 4)' 'has_part_time * escort'\n",
      " 'has_driving_kid * escort' 'has_school_kid_at_home * escort'\n",
      " 'has_preschool_kid_at_home * escort' 'has_part_time * shopping'\n",
      " 'has_driving_kid * shopping' 'has_school_kid_at_home * shopping'\n",
      " 'has_preschool_kid_at_home * shopping' 'has_part_time * othmaint'\n",
      " 'has_driving_kid * othmaint' 'has_school_kid_at_home * othmaint'\n",
      " 'has_preschool_kid_at_home * othmaint' 'has_part_time * eatout'\n",
      " 'has_driving_kid * eatout' 'has_school_kid_at_home * eatout'\n",
      " 'has_preschool_kid_at_home * eatout' 'has_part_time * othdiscr'\n",
      " 'has_driving_kid * othdiscr' 'has_school_kid_at_home * othdiscr'\n",
      " 'has_preschool_kid_at_home * othdiscr']\n",
      "Choices:\n",
      "0     78\n",
      "16    17\n",
      "1     12\n",
      "8      6\n",
      "32     5\n",
      "4      5\n",
      "5      3\n",
      "48     3\n",
      "24     3\n",
      "2      3\n",
      "36     2\n",
      "9      2\n",
      "80     1\n",
      "64     1\n",
      "23     1\n",
      "45     1\n",
      "21     1\n",
      "dtype: int64\n",
      "Time to execute model 'non_mandatory_tour_frequency': 11.31s\n",
      "Total time to execute: 11.31s\n"
     ]
    }
   ],
   "source": [
    "sim.run(['non_mandatory_tour_frequency'])"
   ]
  },
  {
   "cell_type": "code",
   "execution_count": 11,
   "metadata": {
    "collapsed": false
   },
   "outputs": [
    {
     "data": {
      "text/plain": [
       "shopping    26\n",
       "othdiscr    20\n",
       "escort      15\n",
       "eatout      13\n",
       "othmaint    12\n",
       "social       4\n",
       "dtype: int64"
      ]
     },
     "execution_count": 11,
     "metadata": {},
     "output_type": "execute_result"
    }
   ],
   "source": [
    "sim.get_table(\"non_mandatory_tours\").tour_type.value_counts()"
   ]
  },
  {
   "cell_type": "code",
   "execution_count": 12,
   "metadata": {
    "collapsed": false,
    "scrolled": true
   },
   "outputs": [
    {
     "name": "stdout",
     "output_type": "stream",
     "text": [
      "Running model 'destination_choice'\n",
      "Index([u'university', u'highschool', u'gradeschool', u'escortkids', u'escortnokids', u'shopping', u'eatout', u'othmaint', u'social', u'othdiscr', u'workbased'], dtype='object')\n",
      "eatout\n",
      "Running segment 'eatout' of size 13\n",
      "Index([u'university', u'highschool', u'gradeschool', u'escortkids', u'escortnokids', u'shopping', u'eatout', u'othmaint', u'social', u'othdiscr', u'workbased'], dtype='object')\n",
      "shopping\n",
      "Running segment 'shopping' of size 15\n",
      "Index([u'university', u'highschool', u'gradeschool', u'escortkids', u'escortnokids', u'shopping', u'eatout', u'othmaint', u'social', u'othdiscr', u'workbased'], dtype='object')\n",
      "othdiscr\n",
      "Running segment 'othdiscr' of size 20\n",
      "Index([u'university', u'highschool', u'gradeschool', u'escortkids', u'escortnokids', u'shopping', u'eatout', u'othmaint', u'social', u'othdiscr', u'workbased'], dtype='object')\n",
      "othmaint\n",
      "Running segment 'othmaint' of size 12\n",
      "Index([u'university', u'highschool', u'gradeschool', u'escortkids', u'escortnokids', u'shopping', u'eatout', u'othmaint', u'social', u'othdiscr', u'workbased'], dtype='object')\n",
      "shopping\n",
      "Running segment 'shopping' of size 26\n",
      "Index([u'university', u'highschool', u'gradeschool', u'escortkids', u'escortnokids', u'shopping', u'eatout', u'othmaint', u'social', u'othdiscr', u'workbased'], dtype='object')\n",
      "social\n",
      "Running segment 'social' of size 4\n",
      "Choices:\n",
      "count      90.000000\n",
      "mean      874.488889\n",
      "std       370.477531\n",
      "min        19.000000\n",
      "25%       645.500000\n",
      "50%       938.000000\n",
      "75%      1145.000000\n",
      "max      1434.000000\n",
      "Name: TAZ, dtype: float64\n",
      "Time to execute model 'destination_choice': 6.26s\n",
      "Total time to execute: 6.26s\n"
     ]
    }
   ],
   "source": [
    "sim.run([\"destination_choice\"])"
   ]
  },
  {
   "cell_type": "code",
   "execution_count": 13,
   "metadata": {
    "collapsed": false,
    "scrolled": true
   },
   "outputs": [
    {
     "name": "stdout",
     "output_type": "stream",
     "text": [
      "Running model 'non_mandatory_scheduling'\n",
      "Running 90 non-mandatory tour scheduling choices\n",
      "Running 66 #1 tour choices\n",
      "WARNING: Some columns have no variability:\n",
      "['(start <= end_previous) & (tour_num > 1)'\n",
      " '(tour_type == \"oth_maint\") * start'\n",
      " '(tour_type == \"oth_maint\") * duration' 'num_joint_tours * start'\n",
      " '(tour_num > 1) * duration' '(tour_type == \"oth_maint\") & (start < 7)'\n",
      " '(tour_type == \"othdisc\") & (duration < 2)']\n",
      "Running 18 #2 tour choices\n",
      "WARNING: Some columns have no variability:\n",
      "['(tour_type == \"oth_maint\") * start'\n",
      " '(tour_type == \"oth_maint\") * duration' '(tour_type == \"social\") * start'\n",
      " '(tour_type == \"social\") * duration' '(ptype == 6) * start'\n",
      " '(ptype == 6) * duration' '(ptype == 7) * start' '(ptype == 7) * duration'\n",
      " 'num_mand  * start' 'num_joint_tours * start' '(tour_num == 1) * start'\n",
      " '(tour_type == \"oth_maint\") & (start < 7)' '(ptype == 7) & (end > 22)'\n",
      " '(tour_type == \"othdisc\") & (duration < 2)']\n",
      "Running 4 #3 tour choices\n",
      "WARNING: Some columns have no variability:\n",
      "['(tour_type == \"oth_maint\") * start'\n",
      " '(tour_type == \"oth_maint\") * duration' '(tour_type == \"social\") * start'\n",
      " '(tour_type == \"social\") * duration' '(ptype == 6) * start'\n",
      " '(ptype == 6) * duration' '(ptype == 7) * start' '(ptype == 7) * duration'\n",
      " 'destination_in_cbd * duration' 'num_mand  * start'\n",
      " 'num_joint_tours * start' '(tour_num == 1) * start'\n",
      " '(tour_type == \"oth_maint\") & (start < 7)' '(ptype == 7) & (end > 22)'\n",
      " '(tour_type == \"othdisc\") & (duration < 2)'\n",
      " '(tour_type == \"escort\") & (start < 6)'\n",
      " '(tour_type == \"escort\") & (start == 6)'\n",
      " '(tour_type == \"escort\") & (start == 7)'\n",
      " '(tour_type == \"escort\") & (start == 8)'\n",
      " '(tour_type == \"escort\") & (start == 9)'\n",
      " '(tour_type == \"escort\") & (start > 9) & (start < 13)'\n",
      " '(tour_type == \"escort\") & (start > 12) & (start < 16)'\n",
      " '(tour_type == \"escort\") & (start > 15) & (start < 19)'\n",
      " '(tour_type == \"escort\") & (start > 18) & (start < 22)'\n",
      " '(tour_type == \"escort\") & (start > 21)'\n",
      " '(tour_type == \"escort\") & (end < 7)'\n",
      " '(tour_type == \"escort\") & (end > 6) & (end < 10)'\n",
      " '(tour_type == \"escort\") & (end > 9) & (end < 13)'\n",
      " '(tour_type == \"escort\") & (end > 12) & (end < 15)'\n",
      " '(tour_type == \"escort\") & (end == 15)'\n",
      " '(tour_type == \"escort\") & (end == 16)'\n",
      " '(tour_type == \"escort\") & (end == 17)'\n",
      " '(tour_type == \"escort\") & (end == 18)'\n",
      " '(tour_type == \"escort\") & (end > 18) & (end < 22)'\n",
      " '(tour_type == \"escort\") & (end > 21)'\n",
      " '(tour_type == \"escort\") & (duration < 2)'\n",
      " '(tour_type == \"escort\") & (duration > 1) & (duration < 4)'\n",
      " '(tour_type == \"escort\") & (duration > 3) & (duration < 6)'\n",
      " '(tour_type == \"escort\") & (duration > 5) & (duration < 8)'\n",
      " '(tour_type == \"escort\") & (duration > 7) & (duration < 11)'\n",
      " '(tour_type == \"escort\") & (duration > 10) & (duration < 14)'\n",
      " '(tour_type == \"escort\") & (duration > 13) & (duration < 19)']\n",
      "Running 2 #4 tour choices\n",
      "WARNING: Some columns have no variability:\n",
      "['(tour_type == \"shopping\") * start' '(tour_type == \"shopping\") * duration'\n",
      " '(tour_type == \"oth_maint\") * start'\n",
      " '(tour_type == \"oth_maint\") * duration' '(ptype == 6) * start'\n",
      " '(ptype == 6) * duration' '(ptype == 7) * start' '(ptype == 7) * duration'\n",
      " 'num_mand  * start' 'num_joint_tours * start' '(tour_num == 1) * start'\n",
      " '(tour_type == \"oth_maint\") & (start < 7)'\n",
      " '(tour_type == \"shopping\") & (start < 8)'\n",
      " '(tour_type == \"shopping\") & (end > 22)' '(ptype == 7) & (end > 22)'\n",
      " '(tour_type == \"shopping\") & (duration < 2)'\n",
      " '(tour_type == \"othdisc\") & (duration < 2)'\n",
      " 'adult & (num_children > 0) & ( end > 18 ) & ( end < 22 )'\n",
      " '(tour_type == \"escort\") & (start < 6)'\n",
      " '(tour_type == \"escort\") & (start == 6)'\n",
      " '(tour_type == \"escort\") & (start == 7)'\n",
      " '(tour_type == \"escort\") & (start == 8)'\n",
      " '(tour_type == \"escort\") & (start == 9)'\n",
      " '(tour_type == \"escort\") & (start > 9) & (start < 13)'\n",
      " '(tour_type == \"escort\") & (start > 12) & (start < 16)'\n",
      " '(tour_type == \"escort\") & (start > 15) & (start < 19)'\n",
      " '(tour_type == \"escort\") & (start > 18) & (start < 22)'\n",
      " '(tour_type == \"escort\") & (start > 21)'\n",
      " '(tour_type == \"escort\") & (end < 7)'\n",
      " '(tour_type == \"escort\") & (end > 6) & (end < 10)'\n",
      " '(tour_type == \"escort\") & (end > 9) & (end < 13)'\n",
      " '(tour_type == \"escort\") & (end > 12) & (end < 15)'\n",
      " '(tour_type == \"escort\") & (end == 15)'\n",
      " '(tour_type == \"escort\") & (end == 16)'\n",
      " '(tour_type == \"escort\") & (end == 17)'\n",
      " '(tour_type == \"escort\") & (end == 18)'\n",
      " '(tour_type == \"escort\") & (end > 18) & (end < 22)'\n",
      " '(tour_type == \"escort\") & (end > 21)'\n",
      " '(tour_type == \"escort\") & (duration < 2)'\n",
      " '(tour_type == \"escort\") & (duration > 1) & (duration < 4)'\n",
      " '(tour_type == \"escort\") & (duration > 3) & (duration < 6)'\n",
      " '(tour_type == \"escort\") & (duration > 5) & (duration < 8)'\n",
      " '(tour_type == \"escort\") & (duration > 7) & (duration < 11)'\n",
      " '(tour_type == \"escort\") & (duration > 10) & (duration < 14)'\n",
      " '(tour_type == \"escort\") & (duration > 13) & (duration < 19)']\n",
      "Choices:\n",
      "count     90.000000\n",
      "mean     157.622222\n",
      "std       69.224205\n",
      "min        0.000000\n",
      "25%      187.000000\n",
      "50%      188.000000\n",
      "75%      189.000000\n",
      "max      189.000000\n",
      "dtype: float64\n",
      "Time to execute model 'non_mandatory_scheduling': 7.18s\n",
      "Total time to execute: 7.18s\n"
     ]
    }
   ],
   "source": [
    "sim.run([\"non_mandatory_scheduling\"])"
   ]
  },
  {
   "cell_type": "code",
   "execution_count": 31,
   "metadata": {
    "collapsed": false,
    "scrolled": false
   },
   "outputs": [
    {
     "name": "stdout",
     "output_type": "stream",
     "text": [
      "Running model 'mode_choice_simulate'\n",
      "                                                                            Alternative   \n",
      "sov_available == False                                                      DRIVEALONEFREE   -999.000000\n",
      "auto_ownership == 0                                                         DRIVEALONEFREE   -999.000000\n",
      "age < 16                                                                    DRIVEALONEFREE   -999.000000\n",
      "is_joint                                                                    DRIVEALONEFREE   -999.000000\n",
      "work_tour_is_drive                                                          DRIVEALONEFREE   -999.000000\n",
      "@out_skims['SOV_TIME'] + in_skims['SOV_TIME']                               DRIVEALONEFREE     -0.017500\n",
      "2 * terminal_time                                                           DRIVEALONEFREE     -0.035000\n",
      "@costPerMile * (out_skims['SOV_DIST'] + in_skims['SOV_DIST'])               DRIVEALONEFREE     -0.001313\n",
      "daily_parking_cost                                                          DRIVEALONEFREE     -0.001313\n",
      "@out_skims['SOV_BTOLL'] + in_skims['SOV_BTOLL']                             DRIVEALONEFREE     -0.001313\n",
      "age_16_to_19                                                                DRIVEALONEFREE      0.000000\n",
      "sovtoll_available == False                                                  DRIVEALONEPAY    -999.000000\n",
      "auto_ownership == 0                                                         DRIVEALONEPAY    -999.000000\n",
      "age < 16                                                                    DRIVEALONEPAY    -999.000000\n",
      "is_joint                                                                    DRIVEALONEPAY    -999.000000\n",
      "work_tour_is_drive                                                          DRIVEALONEPAY    -999.000000\n",
      "@out_skims['SOVTOLL_TIME'] + in_skims['SOVTOLL_TIME']                       DRIVEALONEPAY      -0.017500\n",
      "2 * terminal_time                                                           DRIVEALONEPAY      -0.035000\n",
      "@costPerMile * (out_skims['SOVTOLL_DIST'] + in_skims['SOVTOLL_DIST'])       DRIVEALONEPAY      -0.001313\n",
      "daily_parking_cost                                                          DRIVEALONEPAY      -0.001313\n",
      "@out_skims['SOVTOLL_BTOLL'] + in_skims['SOVTOLL_BTOLL']                     DRIVEALONEPAY      -0.001313\n",
      "@out_skims['SOVTOLL_VTOLL'] + in_skims['SOVTOLL_VTOLL']                     DRIVEALONEPAY      -0.001313\n",
      "age_16_to_19                                                                DRIVEALONEPAY       0.000000\n",
      "hov2_available == False                                                     SHARED2FREE      -999.000000\n",
      "is_joint & (number_of_participants > 2)                                     SHARED2FREE      -999.000000\n",
      "@out_skims['HOV2_TIME'] + in_skims['HOV2_TIME']                             SHARED2FREE        -0.017500\n",
      "2 * terminal_time                                                           SHARED2FREE        -0.035000\n",
      "@costPerMile * (out_skims['HOV2_DIST'] + in_skims['HOV2_DIST'])             SHARED2FREE        -0.001313\n",
      "@df.daily_parking_cost / costShareSr2                                       SHARED2FREE        -0.001313\n",
      "@(out_skims['HOV2_BTOLL'] + in_skims['HOV2_BTOLL']) / costShareSr2          SHARED2FREE        -0.001313\n",
      "hhsize == 1                                                                 SHARED2FREE         0.000000\n",
      "hhsize == 2                                                                 SHARED2FREE         0.000000\n",
      "age_16_p                                                                    SHARED2FREE        -1.366000\n",
      "hov2toll_available == False                                                 SHARED2PAY       -999.000000\n",
      "is_joint & (number_of_participants > 2)                                     SHARED2PAY       -999.000000\n",
      "@out_skims['HOV2TOLL_TIME'] + in_skims['HOV2TOLL_TIME']                     SHARED2PAY         -0.017500\n",
      "2 * terminal_time                                                           SHARED2PAY         -0.035000\n",
      "@costPerMile * (out_skims['HOV2TOLL_DIST'] + in_skims['HOV2TOLL_DIST'])     SHARED2PAY         -0.001313\n",
      "@df.daily_parking_cost / costShareSr2                                       SHARED2PAY         -0.001313\n",
      "@(out_skims['HOV2TOLL_BTOLL'] + in_skims['HOV2TOLL_BTOLL']) / costShareSr2  SHARED2PAY         -0.001313\n",
      "@(out_skims['HOV2TOLL_VTOLL'] + in_skims['HOV2TOLL_VTOLL']) / costShareSr2  SHARED2PAY         -0.001313\n",
      "hhsize == 1                                                                 SHARED2PAY          0.000000\n",
      "hhsize == 2                                                                 SHARED2PAY          0.000000\n",
      "age_16_p                                                                    SHARED2PAY         -1.366000\n",
      "hov3_available == False                                                     SHARED3FREE      -999.000000\n",
      "@out_skims['HOV3_TIME'] + in_skims['HOV3_TIME']                             SHARED3FREE        -0.017500\n",
      "2 * terminal_time                                                           SHARED3FREE        -0.035000\n",
      "@costPerMile * (out_skims['HOV3_DIST'] + in_skims['HOV3_DIST'])             SHARED3FREE        -0.001313\n",
      "@df.daily_parking_cost / costShareSr3                                       SHARED3FREE        -0.001313\n",
      "@(out_skims['HOV3_BTOLL'] + in_skims['HOV3_BTOLL']) / costShareSr3          SHARED3FREE        -0.001313\n",
      "hhsize == 1                                                                 SHARED3FREE         0.000000\n",
      "hhsize == 2                                                                 SHARED3FREE         0.000000\n",
      "age_16_p                                                                    SHARED3FREE        -1.366000\n",
      "Name: EatOut, dtype: float64\n",
      "WARNING, skipping key:  DISTANCE\n",
      "WARNING, skipping key:  DISTANCE\n",
      "WARNING: Some columns have no variability:\n",
      "['2 * terminal_time' '@df.daily_parking_cost / costShareSr2'\n",
      " '@df.daily_parking_cost / costShareSr3' 'daily_parking_cost'\n",
      " 'hov2_available == False' 'hov2toll_available == False'\n",
      " 'hov3_available == False' 'is_joint'\n",
      " 'is_joint & (number_of_participants > 2)' 'sov_available == False'\n",
      " 'sovtoll_available == False' 'work_tour_is_drive']\n",
      "Choices:\n",
      "1    31\n",
      "0    27\n",
      "2    17\n",
      "3    15\n",
      "4    10\n",
      "dtype: int64\n",
      "Time to execute model 'mode_choice_simulate': 11.11s\n",
      "Total time to execute: 11.11s\n"
     ]
    }
   ],
   "source": [
    "sim.run(['mode_choice_simulate'])"
   ]
  },
  {
   "cell_type": "code",
   "execution_count": 17,
   "metadata": {
    "collapsed": false
   },
   "outputs": [
    {
     "name": "stdout",
     "output_type": "stream",
     "text": [
      "<class 'pandas.core.frame.DataFrame'>\n",
      "Int64Index: 1454 entries, 1 to 1454\n",
      "Data columns (total 49 columns):\n",
      "DISTRICT              1454 non-null int64\n",
      "SD                    1454 non-null int64\n",
      "COUNTY                1454 non-null int64\n",
      "TOTHH                 1454 non-null int64\n",
      "HHPOP                 1454 non-null int64\n",
      "TOTPOP                1454 non-null int64\n",
      "EMPRES                1454 non-null int64\n",
      "SFDU                  1454 non-null int64\n",
      "MFDU                  1454 non-null int64\n",
      "HHINCQ1               1454 non-null int64\n",
      "HHINCQ2               1454 non-null int64\n",
      "HHINCQ3               1454 non-null int64\n",
      "HHINCQ4               1454 non-null int64\n",
      "TOTACRE               1454 non-null float64\n",
      "RESACRE               1454 non-null int64\n",
      "CIACRE                1454 non-null int64\n",
      "SHPOP62P              1454 non-null float64\n",
      "TOTEMP                1454 non-null int64\n",
      "AGE0004               1454 non-null int64\n",
      "AGE0519               1454 non-null int64\n",
      "AGE2044               1454 non-null int64\n",
      "AGE4564               1454 non-null int64\n",
      "AGE65P                1454 non-null int64\n",
      "RETEMPN               1454 non-null int64\n",
      "FPSEMPN               1454 non-null int64\n",
      "HEREMPN               1454 non-null int64\n",
      "OTHEMPN               1454 non-null int64\n",
      "AGREMPN               1454 non-null int64\n",
      "MWTEMPN               1454 non-null int64\n",
      "PRKCST                1454 non-null float64\n",
      "OPRKCST               1454 non-null float64\n",
      "area_type             1454 non-null int64\n",
      "HSENROLL              1454 non-null float64\n",
      "COLLFTE               1454 non-null float64\n",
      "COLLPTE               1454 non-null float64\n",
      "TOPOLOGY              1454 non-null int64\n",
      "TERMINAL              1454 non-null float64\n",
      "ZERO                  1454 non-null int64\n",
      "hhlds                 1454 non-null int64\n",
      "sftaz                 1454 non-null int64\n",
      "gqpop                 1454 non-null int64\n",
      "employment_density    1454 non-null float64\n",
      "total_acres           1454 non-null float64\n",
      "county_name           1454 non-null object\n",
      "density_index         1453 non-null float64\n",
      "household_density     1454 non-null float64\n",
      "county_id             1454 non-null int64\n",
      "total_households      1454 non-null int64\n",
      "total_employment      1454 non-null int64\n",
      "dtypes: float64(12), int64(36), object(1)\n",
      "memory usage: 568.0 KB\n"
     ]
    }
   ],
   "source": [
    "sim.get_table(\"land_use\").to_frame().info()"
   ]
  },
  {
   "cell_type": "code",
   "execution_count": 18,
   "metadata": {
    "collapsed": false
   },
   "outputs": [
    {
     "name": "stdout",
     "output_type": "stream",
     "text": [
      "<class 'pandas.core.frame.DataFrame'>\n",
      "Int64Index: 100 entries, 2624246 to 558870\n",
      "Data columns (total 67 columns):\n",
      "TAZ                            100 non-null int64\n",
      "SERIALNO                       100 non-null int64\n",
      "PUMA5                          100 non-null int64\n",
      "income                         100 non-null int64\n",
      "PERSONS                        100 non-null int64\n",
      "HHT                            100 non-null int64\n",
      "UNITTYPE                       100 non-null int64\n",
      "NOC                            100 non-null int64\n",
      "BLDGSZ                         100 non-null int64\n",
      "TENURE                         100 non-null int64\n",
      "VEHICL                         100 non-null int64\n",
      "hinccat1                       100 non-null int64\n",
      "hinccat2                       100 non-null int64\n",
      "hhagecat                       100 non-null int64\n",
      "hsizecat                       100 non-null int64\n",
      "hfamily                        100 non-null int64\n",
      "hunittype                      100 non-null int64\n",
      "hNOCcat                        100 non-null int64\n",
      "hwrkrcat                       100 non-null int64\n",
      "h0004                          100 non-null int64\n",
      "h0511                          100 non-null int64\n",
      "h1215                          100 non-null int64\n",
      "h1617                          100 non-null int64\n",
      "h1824                          100 non-null int64\n",
      "h2534                          100 non-null int64\n",
      "h3549                          100 non-null int64\n",
      "h5064                          100 non-null int64\n",
      "h6579                          100 non-null int64\n",
      "h80up                          100 non-null int64\n",
      "workers                        100 non-null int64\n",
      "hwork_f                        100 non-null int64\n",
      "hwork_p                        100 non-null int64\n",
      "huniv                          100 non-null int64\n",
      "hnwork                         100 non-null int64\n",
      "hretire                        100 non-null int64\n",
      "hpresch                        100 non-null int64\n",
      "hschpred                       100 non-null int64\n",
      "hschdriv                       100 non-null int64\n",
      "htypdwel                       100 non-null int64\n",
      "hownrent                       100 non-null int64\n",
      "hadnwst                        100 non-null int64\n",
      "hadwpst                        100 non-null int64\n",
      "hadkids                        100 non-null int64\n",
      "bucketBin                      100 non-null int64\n",
      "originalPUMA                   100 non-null int64\n",
      "hmultiunit                     100 non-null int64\n",
      "num_college_age                100 non-null float64\n",
      "non_workers                    100 non-null int64\n",
      "income_segment                 100 non-null category\n",
      "family                         100 non-null bool\n",
      "num_young_adults               100 non-null float64\n",
      "household_type                 96 non-null object\n",
      "auto_ownership                 100 non-null int64\n",
      "drivers                        100 non-null int64\n",
      "income_in_thousands            100 non-null float64\n",
      "home_is_rural                  100 non-null bool\n",
      "work_tour_auto_time_savings    100 non-null int64\n",
      "num_under16_not_at_school      100 non-null int64\n",
      "hhsize                         100 non-null int64\n",
      "num_children                   100 non-null float64\n",
      "car_sufficiency                100 non-null int64\n",
      "non_family                     100 non-null bool\n",
      "num_adolescents                100 non-null float64\n",
      "no_cars                        100 non-null bool\n",
      "num_young_children             100 non-null float64\n",
      "home_is_urban                  100 non-null bool\n",
      "home_taz                       100 non-null int64\n",
      "dtypes: bool(5), category(1), float64(6), int64(54), object(1)\n",
      "memory usage: 49.1 KB\n"
     ]
    }
   ],
   "source": [
    "sim.get_table(\"households\").to_frame().info()"
   ]
  },
  {
   "cell_type": "code",
   "execution_count": 19,
   "metadata": {
    "collapsed": false
   },
   "outputs": [
    {
     "name": "stdout",
     "output_type": "stream",
     "text": [
      "<class 'pandas.core.frame.DataFrame'>\n",
      "Int64Index: 267 entries, 84601 to 6968468\n",
      "Data columns (total 68 columns):\n",
      "household_id                     267 non-null int64\n",
      "age                              267 non-null int64\n",
      "RELATE                           267 non-null int64\n",
      "ESR                              267 non-null int64\n",
      "GRADE                            267 non-null int64\n",
      "PNUM                             267 non-null int64\n",
      "PAUG                             267 non-null int64\n",
      "DDP                              267 non-null int64\n",
      "sex                              267 non-null int64\n",
      "WEEKS                            267 non-null int64\n",
      "HOURS                            267 non-null int64\n",
      "MSP                              267 non-null int64\n",
      "POVERTY                          267 non-null int64\n",
      "EARNS                            267 non-null int64\n",
      "pagecat                          267 non-null int64\n",
      "pemploy                          267 non-null int64\n",
      "pstudent                         267 non-null int64\n",
      "ptype                            267 non-null int64\n",
      "padkid                           267 non-null int64\n",
      "has_preschool_kid                267 non-null bool\n",
      "student_cat                      267 non-null object\n",
      "num_eat_j                        267 non-null int64\n",
      "has_driving_kid                  267 non-null bool\n",
      "home_taz                         267 non-null int64\n",
      "work_and_school_and_worker       267 non-null bool\n",
      "work_and_school_and_student      267 non-null bool\n",
      "female                           267 non-null bool\n",
      "has_preschool_kid_at_home        267 non-null bool\n",
      "has_full_time                    267 non-null bool\n",
      "is_university                    267 non-null bool\n",
      "max_window                       267 non-null int64\n",
      "employed_cat                     267 non-null object\n",
      "student_is_employed              267 non-null bool\n",
      "is_gradeschool                   267 non-null bool\n",
      "is_highschool                    267 non-null bool\n",
      "has_retiree                      267 non-null bool\n",
      "cdap_activity                    267 non-null object\n",
      "num_main_j                       267 non-null int64\n",
      "num_joint_tours                  267 non-null int64\n",
      "has_non_worker                   267 non-null bool\n",
      "ptype_cat                        267 non-null object\n",
      "is_student                       267 non-null bool\n",
      "under16_not_at_school            267 non-null bool\n",
      "has_school_kid                   267 non-null bool\n",
      "school_taz                       267 non-null float64\n",
      "is_worker                        267 non-null bool\n",
      "roundtrip_auto_time_to_school    267 non-null float64\n",
      "distance_to_school               267 non-null float64\n",
      "age_16_p                         267 non-null bool\n",
      "workplace_taz                    267 non-null int64\n",
      "workplace_in_cbd                 267 non-null bool\n",
      "has_university                   267 non-null bool\n",
      "adult                            267 non-null bool\n",
      "non_mandatory_tour_frequency     164 non-null float64\n",
      "nonstudent_to_school             267 non-null bool\n",
      "age_16_to_19                     267 non-null bool\n",
      "num_non_escort_tours             267 non-null float64\n",
      "mandatory_tour_frequency         80 non-null object\n",
      "num_shop_j                       267 non-null int64\n",
      "num_mand                         267 non-null float64\n",
      "num_visi_j                       267 non-null int64\n",
      "num_escort_tours                 267 non-null float64\n",
      "roundtrip_auto_time_to_work      267 non-null float64\n",
      "num_disc_j                       267 non-null int64\n",
      "has_part_time                    267 non-null bool\n",
      "has_school_kid_at_home           267 non-null bool\n",
      "distance_to_work                 267 non-null float64\n",
      "male                             267 non-null bool\n",
      "dtypes: bool(26), float64(9), int64(28), object(5)\n",
      "memory usage: 96.5 KB\n"
     ]
    }
   ],
   "source": [
    "sim.get_table(\"persons\").to_frame().info()"
   ]
  },
  {
   "cell_type": "markdown",
   "metadata": {},
   "source": [
    "## The cell below is used to create small a dataset for testing"
   ]
  },
  {
   "cell_type": "raw",
   "metadata": {},
   "source": [
    "import urbansim.sim.simulation as sim\n",
    "from activitysim import activitysim as asim\n",
    "from activitysim import defaults\n",
    "import pandas as pd\n",
    "old_store = sim.get_injectable('store')\n",
    "print old_store\n",
    "# subset of the whole store\n",
    "new_store = pd.HDFStore('test.h5', 'w')\n",
    "new_store[\"land_use/taz_data\"] = old_store[\"land_use/taz_data\"]\n",
    "new_store[\"skims/accessibility\"] = old_store[\"skims/accessibility\"]\n",
    "new_store[\"households\"] = asim.random_rows(old_store[\"households\"], 1000)\n",
    "new_store[\"persons\"] = old_store[\"persons\"][\n",
    "    old_store[\"persons\"].household_id.isin(new_store[\"households\"].index)\n",
    "]\n",
    "print new_store\n",
    "new_store.close()"
   ]
  },
  {
   "cell_type": "code",
   "execution_count": 19,
   "metadata": {
    "collapsed": false
   },
   "outputs": [],
   "source": []
  },
  {
   "cell_type": "code",
   "execution_count": 19,
   "metadata": {
    "collapsed": false
   },
   "outputs": [],
   "source": []
  },
  {
   "cell_type": "code",
   "execution_count": null,
   "metadata": {
    "collapsed": false
   },
   "outputs": [],
   "source": []
  }
 ],
 "metadata": {
  "kernelspec": {
   "display_name": "Python 2",
   "language": "python",
   "name": "python2"
  },
  "language_info": {
   "codemirror_mode": {
    "name": "ipython",
    "version": 2
   },
   "file_extension": ".py",
   "mimetype": "text/x-python",
   "name": "python",
   "nbconvert_exporter": "python",
   "pygments_lexer": "ipython2",
   "version": "2.7.9"
  }
 },
 "nbformat": 4,
 "nbformat_minor": 0
}
