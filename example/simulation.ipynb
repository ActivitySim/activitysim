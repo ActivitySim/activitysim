{
 "metadata": {
  "name": "",
  "signature": "sha256:f6b15180dc606f5a3c9f9f42d060e85b6b1d8cb6afba7572dffae7eb2eb3de18"
 },
 "nbformat": 3,
 "nbformat_minor": 0,
 "worksheets": [
  {
   "cells": [
    {
     "cell_type": "code",
     "collapsed": false,
     "input": [
      "%load_ext autoreload\n",
      "%autoreload 2\n",
      "import urbansim.sim.simulation as sim\n",
      "from activitysim import defaults"
     ],
     "language": "python",
     "metadata": {},
     "outputs": [],
     "prompt_number": 1
    },
    {
     "cell_type": "code",
     "collapsed": false,
     "input": [
      "sim.run([\"workplace_location_simulate\"])"
     ],
     "language": "python",
     "metadata": {},
     "outputs": [
      {
       "output_type": "stream",
       "stream": "stdout",
       "text": [
        "Running model 'workplace_location_simulate'\n",
        "WARNING: Some columns have no variability:\n"
       ]
      },
      {
       "output_type": "stream",
       "stream": "stdout",
       "text": [
        "['mode_choice_logsums']\n",
        "Describe of choices:\n",
        "count    2575.000000\n",
        "mean      779.281553\n",
        "std       425.569830\n",
        "min         6.000000\n",
        "25%       450.000000\n",
        "50%       763.000000\n",
        "75%      1186.000000\n",
        "max      1441.000000\n",
        "Name: TAZ, dtype: float64\n",
        "Time to execute model 'workplace_location_simulate': 20.99s\n",
        "Total time to execute: 20.99s\n"
       ]
      }
     ],
     "prompt_number": 2
    },
    {
     "cell_type": "code",
     "collapsed": false,
     "input": [
      "print sim.get_table(\"persons\").distance_to_work.describe()"
     ],
     "language": "python",
     "metadata": {},
     "outputs": [
      {
       "output_type": "stream",
       "stream": "stdout",
       "text": [
        "count    2575.000000\n",
        "mean       40.382579\n",
        "std        23.264526\n",
        "min         0.630000\n",
        "25%        22.300000\n",
        "50%        37.880000\n",
        "75%        54.590000\n",
        "max       130.740000\n",
        "dtype: float64\n"
       ]
      }
     ],
     "prompt_number": 3
    },
    {
     "cell_type": "code",
     "collapsed": false,
     "input": [
      "sim.run([\"auto_ownership_simulate\"])"
     ],
     "language": "python",
     "metadata": {},
     "outputs": [
      {
       "output_type": "stream",
       "stream": "stdout",
       "text": [
        "Running model 'auto_ownership_simulate'\n",
        "WARNING: Some columns have no variability:\n"
       ]
      },
      {
       "output_type": "stream",
       "stream": "stdout",
       "text": [
        "['(work_tour_auto_time_savings / (workers+1)) * cars1'\n",
        " '(work_tour_auto_time_savings / (workers+1)) * cars2'\n",
        " '(work_tour_auto_time_savings / (workers+1)) * cars3'\n",
        " '(work_tour_auto_time_savings / (workers+1)) * cars4']\n",
        "Choices:\n",
        "2    402\n",
        "1    300\n",
        "3    130\n",
        "0    102\n",
        "4     66\n",
        "dtype: int64\n",
        "Time to execute model 'auto_ownership_simulate': 0.81s\n",
        "Total time to execute: 0.81s\n"
       ]
      }
     ],
     "prompt_number": 4
    },
    {
     "cell_type": "code",
     "collapsed": false,
     "input": [
      "sim.run(['mandatory_tour_frequency'])"
     ],
     "language": "python",
     "metadata": {},
     "outputs": [
      {
       "output_type": "stream",
       "stream": "stdout",
       "text": [
        "Running model 'mandatory_tour_frequency'\n",
        "886 persons run for mandatory tour model"
       ]
      },
      {
       "output_type": "stream",
       "stream": "stdout",
       "text": [
        "\n",
        "WARNING: Some columns have no variability:\n"
       ]
      },
      {
       "output_type": "stream",
       "stream": "stdout",
       "text": [
        "['((ptype == 2) & (distance_to_work < 3)) * work2'\n",
        " '((ptype == 3) & (distance_to_work < 3)) * work2'\n",
        " '((ptype == 3) & (distance_to_school < 3)) * school2'\n",
        " '((ptype == 6) & (distance_to_school < 3)) * school2'\n",
        " '((ptype == 2) & (distance_to_work < 3 | distance_to_school < 3)) * work_and_school'\n",
        " '((ptype == 3) & (distance_to_work < 3 | distance_to_school < 3)) * work_and_school'\n",
        " '((ptype == 6) & (distance_to_work < 3 | distance_to_school < 3)) * work_and_school'\n",
        " '((ptype == 2) & nonstudent_to_school) * school1'\n",
        " '((ptype == 2) & nonstudent_to_school) * work_and_school'\n",
        " '((ptype == 4) & nonstudent_to_school) * school1'\n",
        " '((ptype == 5) & nonstudent_to_school) * school1'\n",
        " '((ptype == 6) & non_family) * work1'\n",
        " '((ptype == 6) & non_family) * school1'\n",
        " '((ptype == 6) & non_family) * work_and_school'\n",
        " '(~(workplace_taz > -1)) * work1' '(~(workplace_taz > -1)) * work2'\n",
        " '(~(workplace_taz > -1)) * work_and_school'\n",
        " '(~(school_taz > -1)) * school1' '(~(school_taz > -1)) * school2'\n",
        " '(~(school_taz > -1)) * work_and_school']\n",
        "Choices:\n",
        "school1            366\n",
        "work1              326\n",
        "work2              112\n",
        "work_and_school     71\n",
        "school2             11\n",
        "dtype: int64\n",
        "Time to execute model 'mandatory_tour_frequency': 3.87s\n",
        "Total time to execute: 3.87s\n"
       ]
      }
     ],
     "prompt_number": 5
    },
    {
     "cell_type": "code",
     "collapsed": false,
     "input": [
      "sim.get_table(\"mandatory_tours\").tour_type.value_counts()"
     ],
     "language": "python",
     "metadata": {},
     "outputs": [
      {
       "metadata": {},
       "output_type": "pyout",
       "prompt_number": 6,
       "text": [
        "work      621\n",
        "school    459\n",
        "dtype: int64"
       ]
      }
     ],
     "prompt_number": 6
    },
    {
     "cell_type": "code",
     "collapsed": false,
     "input": [
      "sim.run(['non_mandatory_tour_frequency'])"
     ],
     "language": "python",
     "metadata": {},
     "outputs": [
      {
       "output_type": "stream",
       "stream": "stdout",
       "text": [
        "Running model 'non_mandatory_tour_frequency'\n",
        "1649 persons run for non-mandatory tour model"
       ]
      },
      {
       "output_type": "stream",
       "stream": "stdout",
       "text": [
        "\n",
        "Running segment 'driving' of size 54\n",
        "WARNING: Some columns have no variability:\n"
       ]
      },
      {
       "output_type": "stream",
       "stream": "stdout",
       "text": [
        "['(tot_tours == 0) & (num_mand == 0) & (num_joint_tours == 0)'\n",
        " 'num_joint_tours*(tot_tours == 0)' 'num_joint_tours*(tot_tours == 1)'\n",
        " 'num_joint_tours*(tot_tours == 2)' 'num_joint_tours*(tot_tours == 3)'\n",
        " 'num_joint_tours*(tot_tours == 4)' 'num_joint_tours*(tot_tours >  4)'\n",
        " 'num_shop_j' 'num_main_j' 'num_eat_j' 'num_visi_j' 'num_disc_j'\n",
        " 'max_window*(tot_tours == 0)' 'max_window*(tot_tours == 1)'\n",
        " 'max_window*(tot_tours == 2)' 'max_window*(tot_tours == 3)'\n",
        " 'max_window*(tot_tours == 4)' 'max_window*(tot_tours >  4)'\n",
        " '(car_sufficiency > 0) & (tot_tours == 1)'\n",
        " '(car_sufficiency > 0) & (tot_tours == 2)'\n",
        " '(car_sufficiency > 0) & (tot_tours == 3)'\n",
        " '(car_sufficiency > 0) & (tot_tours == 4)'\n",
        " '(car_sufficiency > 0) & (tot_tours > 4)']\n",
        "Running segment 'full' of size 529\n",
        "WARNING: Some columns have no variability:\n"
       ]
      },
      {
       "output_type": "stream",
       "stream": "stdout",
       "text": [
        "['(tot_tours == 0) & (num_mand == 0) & (num_joint_tours == 0)'\n",
        " 'num_joint_tours*(tot_tours == 0)' 'num_joint_tours*(tot_tours == 1)'\n",
        " 'num_joint_tours*(tot_tours == 2)' 'num_joint_tours*(tot_tours == 3)'\n",
        " 'num_joint_tours*(tot_tours == 4)' 'num_joint_tours*(tot_tours >  4)'\n",
        " 'num_shop_j' 'num_main_j' 'num_eat_j' 'num_visi_j' 'num_disc_j'\n",
        " 'max_window*(tot_tours == 0)' 'max_window*(tot_tours == 1)'\n",
        " 'max_window*(tot_tours == 2)' 'max_window*(tot_tours == 3)'\n",
        " 'max_window*(tot_tours == 4)' 'max_window*(tot_tours >  4)']\n",
        "Running segment 'nonwork' of size 311\n",
        "WARNING: Some columns have no variability:\n"
       ]
      },
      {
       "output_type": "stream",
       "stream": "stdout",
       "text": [
        "['(tot_tours == 0) & (num_mand == 0) & (num_joint_tours == 0)'\n",
        " 'num_joint_tours*(tot_tours == 0)' 'num_joint_tours*(tot_tours == 1)'\n",
        " 'num_joint_tours*(tot_tours == 2)' 'num_joint_tours*(tot_tours == 3)'\n",
        " 'num_joint_tours*(tot_tours == 4)' 'num_joint_tours*(tot_tours >  4)'\n",
        " 'num_shop_j' 'num_main_j' 'num_eat_j' 'num_visi_j' 'num_disc_j'\n",
        " 'max_window*(tot_tours == 0)' 'max_window*(tot_tours == 1)'\n",
        " 'max_window*(tot_tours == 2)' 'max_window*(tot_tours == 3)'\n",
        " 'max_window*(tot_tours == 4)' 'max_window*(tot_tours >  4)']\n",
        "Running segment 'part' of size 131\n",
        "WARNING: Some columns have no variability:\n"
       ]
      },
      {
       "output_type": "stream",
       "stream": "stdout",
       "text": [
        "['(tot_tours == 0) & (num_mand == 0) & (num_joint_tours == 0)'\n",
        " 'num_joint_tours*(tot_tours == 0)' 'num_joint_tours*(tot_tours == 1)'\n",
        " 'num_joint_tours*(tot_tours == 2)' 'num_joint_tours*(tot_tours == 3)'\n",
        " 'num_joint_tours*(tot_tours == 4)' 'num_joint_tours*(tot_tours >  4)'\n",
        " 'num_shop_j' 'num_main_j' 'num_eat_j' 'num_visi_j' 'num_disc_j'\n",
        " 'max_window*(tot_tours == 0)' 'max_window*(tot_tours == 1)'\n",
        " 'max_window*(tot_tours == 2)' 'max_window*(tot_tours == 3)'\n",
        " 'max_window*(tot_tours == 4)' 'max_window*(tot_tours >  4)']\n",
        "Running segment 'preschool' of size 110\n",
        "WARNING: Some columns have no variability:\n"
       ]
      },
      {
       "output_type": "stream",
       "stream": "stdout",
       "text": [
        "['(tot_tours == 0) & (num_mand == 0) & (num_joint_tours == 0)'\n",
        " 'num_joint_tours*(tot_tours == 0)' 'num_joint_tours*(tot_tours == 1)'\n",
        " 'num_joint_tours*(tot_tours == 2)' 'num_joint_tours*(tot_tours == 3)'\n",
        " 'num_joint_tours*(tot_tours == 4)' 'num_joint_tours*(tot_tours >  4)'\n",
        " 'num_shop_j' 'num_main_j' 'num_eat_j' 'num_visi_j' 'num_disc_j'\n",
        " 'max_window*(tot_tours == 0)' 'max_window*(tot_tours == 1)'\n",
        " 'max_window*(tot_tours == 2)' 'max_window*(tot_tours == 3)'\n",
        " 'max_window*(tot_tours == 4)' 'max_window*(tot_tours >  4)']\n",
        "Running segment 'retired' of size 183\n",
        "WARNING: Some columns have no variability:\n"
       ]
      },
      {
       "output_type": "stream",
       "stream": "stdout",
       "text": [
        "['(tot_tours == 0) & (num_mand == 0) & (num_joint_tours == 0)'\n",
        " 'num_joint_tours*(tot_tours == 0)' 'num_joint_tours*(tot_tours == 1)'\n",
        " 'num_joint_tours*(tot_tours == 2)' 'num_joint_tours*(tot_tours == 3)'\n",
        " 'num_joint_tours*(tot_tours == 4)' 'num_joint_tours*(tot_tours >  4)'\n",
        " 'num_shop_j' 'num_main_j' 'num_eat_j' 'num_visi_j' 'num_disc_j'\n",
        " 'max_window*(tot_tours == 0)' 'max_window*(tot_tours == 1)'\n",
        " 'max_window*(tot_tours == 2)' 'max_window*(tot_tours == 3)'\n",
        " 'max_window*(tot_tours == 4)' 'max_window*(tot_tours >  4)'\n",
        " 'has_preschool_kid_at_home * escort'\n",
        " 'has_preschool_kid_at_home * shopping'\n",
        " 'has_preschool_kid_at_home * othmaint'\n",
        " 'has_preschool_kid_at_home * eatout'\n",
        " 'has_preschool_kid_at_home * othdiscr']\n",
        "Running segment 'school' of size 231\n",
        "WARNING: Some columns have no variability:\n"
       ]
      },
      {
       "output_type": "stream",
       "stream": "stdout",
       "text": [
        "['(tot_tours == 0) & (num_mand == 0) & (num_joint_tours == 0)'\n",
        " 'num_joint_tours*(tot_tours == 0)' 'num_joint_tours*(tot_tours == 1)'\n",
        " 'num_joint_tours*(tot_tours == 2)' 'num_joint_tours*(tot_tours == 3)'\n",
        " 'num_joint_tours*(tot_tours == 4)' 'num_joint_tours*(tot_tours >  4)'\n",
        " 'num_shop_j' 'num_main_j' 'num_eat_j' 'num_visi_j' 'num_disc_j'\n",
        " 'max_window*(tot_tours == 0)' 'max_window*(tot_tours == 1)'\n",
        " 'max_window*(tot_tours == 2)' 'max_window*(tot_tours == 3)'\n",
        " 'max_window*(tot_tours == 4)' 'max_window*(tot_tours >  4)'\n",
        " '(car_sufficiency > 0) & (tot_tours == 1)'\n",
        " '(car_sufficiency > 0) & (tot_tours == 2)'\n",
        " '(car_sufficiency > 0) & (tot_tours == 3)'\n",
        " '(car_sufficiency > 0) & (tot_tours == 4)'\n",
        " '(car_sufficiency > 0) & (tot_tours > 4)']\n",
        "Running segment 'university' of size 100\n",
        "WARNING: Some columns have no variability:\n"
       ]
      },
      {
       "output_type": "stream",
       "stream": "stdout",
       "text": [
        "['(tot_tours == 0) & (num_mand == 0) & (num_joint_tours == 0)'\n",
        " 'num_joint_tours*(tot_tours == 0)' 'num_joint_tours*(tot_tours == 1)'\n",
        " 'num_joint_tours*(tot_tours == 2)' 'num_joint_tours*(tot_tours == 3)'\n",
        " 'num_joint_tours*(tot_tours == 4)' 'num_joint_tours*(tot_tours >  4)'\n",
        " 'num_shop_j' 'num_main_j' 'num_eat_j' 'num_visi_j' 'num_disc_j'\n",
        " 'max_window*(tot_tours == 0)' 'max_window*(tot_tours == 1)'\n",
        " 'max_window*(tot_tours == 2)' 'max_window*(tot_tours == 3)'\n",
        " 'max_window*(tot_tours == 4)' 'max_window*(tot_tours >  4)']\n",
        "Choices:\n",
        "0     1644\n",
        "4        2\n",
        "68       1\n",
        "16       1\n",
        "1        1\n",
        "dtype: int64\n",
        "Time to execute model 'non_mandatory_tour_frequency': 14.10s\n",
        "Total time to execute: 14.10s\n"
       ]
      }
     ],
     "prompt_number": 7
    },
    {
     "cell_type": "code",
     "collapsed": false,
     "input": [
      "sim.get_table(\"non_mandatory_tours\").tour_type.value_counts()"
     ],
     "language": "python",
     "metadata": {},
     "outputs": [
      {
       "metadata": {},
       "output_type": "pyout",
       "prompt_number": 8,
       "text": [
        "eatout      3\n",
        "escort      2\n",
        "shopping    1\n",
        "othdiscr    1\n",
        "dtype: int64"
       ]
      }
     ],
     "prompt_number": 8
    },
    {
     "cell_type": "code",
     "collapsed": false,
     "input": [
      "sim.run([\"destination_choice\"])"
     ],
     "language": "python",
     "metadata": {},
     "outputs": [
      {
       "output_type": "stream",
       "stream": "stdout",
       "text": [
        "Running model 'destination_choice'\n",
        "Running segment 'eatout' of size 3"
       ]
      },
      {
       "output_type": "stream",
       "stream": "stdout",
       "text": [
        "\n",
        "WARNING: Some columns have no variability:\n"
       ]
      },
      {
       "output_type": "stream",
       "stream": "stdout",
       "text": [
        "[\"(skims['DISTANCE']-1).clip(0,1)\" \"(skims['DISTANCE']-2).clip(0,3)\"]\n",
        "Running segment 'othdiscr' of size 1\n",
        "WARNING: Some columns have no variability:\n"
       ]
      },
      {
       "output_type": "stream",
       "stream": "stdout",
       "text": [
        "[\"(skims['DISTANCE']-1).clip(0,1)\" \"(skims['DISTANCE']-2).clip(0,3)\"]\n",
        "Running segment 'shopping' of size 1\n",
        "WARNING: Some columns have no variability:\n"
       ]
      },
      {
       "output_type": "stream",
       "stream": "stdout",
       "text": [
        "[\"(skims['DISTANCE']-1).clip(0,1)\"]\n",
        "Choices:\n",
        "count       5.000000\n",
        "mean      820.600000\n",
        "std       440.316136\n",
        "min       317.000000\n",
        "25%       364.000000\n",
        "50%      1103.000000\n",
        "75%      1115.000000\n",
        "max      1204.000000\n",
        "Name: TAZ, dtype: float64\n",
        "Time to execute model 'destination_choice': 2.68s\n",
        "Total time to execute: 2.69s\n"
       ]
      }
     ],
     "prompt_number": 9
    },
    {
     "cell_type": "code",
     "collapsed": false,
     "input": [
      "sim.run([\"mandatory_scheduling\"])"
     ],
     "language": "python",
     "metadata": {},
     "outputs": [
      {
       "output_type": "stream",
       "stream": "stdout",
       "text": [
        "Running model 'mandatory_scheduling'\n",
        "Running 1080 mandatory tour scheduling choices"
       ]
      },
      {
       "output_type": "stream",
       "stream": "stdout",
       "text": [
        "\n",
        "Running 886 non-mandatory #1 tour choices\n",
        "WARNING: Some columns have no variability:\n"
       ]
      },
      {
       "output_type": "stream",
       "stream": "stdout",
       "text": [
        "['(start < end_of_previous_tour) & (tour_num == 2)'\n",
        " '(tour_num == 2) * start' '(tour_num == 2) * duration'\n",
        " 'home_is_rural & (start < 6)' 'home_is_rural & (end > 22)'\n",
        " '(tour_num == 2) & (duration < 8)' 'mode_choice_logsum']\n",
        "Running 194 non-mandatory #2 tour choices"
       ]
      },
      {
       "output_type": "stream",
       "stream": "stdout",
       "text": [
        "\n",
        "WARNING: Some columns have no variability:\n"
       ]
      },
      {
       "output_type": "stream",
       "stream": "stdout",
       "text": [
        "['(start < end_of_previous_tour) & (tour_num == 2)'\n",
        " '(tour_num == 1) * start' '(tour_num == 1) * duration'\n",
        " 'home_is_rural & (start < 6)' 'home_is_rural & (end > 22)'\n",
        " '(tour_num == 1) & (duration < 8)' 'mode_choice_logsum']\n",
        "Choices:\n",
        "count    1080.000000\n",
        "mean      159.394444\n",
        "std        38.219307\n",
        "min         1.000000\n",
        "25%       152.000000\n",
        "50%       173.000000\n",
        "75%       183.000000\n",
        "max       189.000000\n",
        "dtype: float64\n",
        "Time to execute model 'mandatory_scheduling': 3.71s\n",
        "Total time to execute: 3.71s\n"
       ]
      }
     ],
     "prompt_number": 10
    },
    {
     "cell_type": "code",
     "collapsed": false,
     "input": [
      "sim.run([\"non_mandatory_scheduling\"])"
     ],
     "language": "python",
     "metadata": {},
     "outputs": [
      {
       "output_type": "stream",
       "stream": "stdout",
       "text": [
        "Running model 'non_mandatory_scheduling'\n",
        "Running 7 non-mandatory tour scheduling choices"
       ]
      },
      {
       "output_type": "stream",
       "stream": "stdout",
       "text": [
        "\n",
        "Running 5 non-mandatory #1 tour choices\n",
        "WARNING: Some columns have no variability:\n"
       ]
      },
      {
       "output_type": "stream",
       "stream": "stdout",
       "text": [
        "['start < end_of_previous_tour']\n",
        "Running 1 non-mandatory #2 tour choices\n",
        "WARNING: Some columns have no variability:\n"
       ]
      },
      {
       "output_type": "stream",
       "stream": "stdout",
       "text": [
        "['start < end_of_previous_tour' '(tour_type == \"shopping\") * start'\n",
        " '(tour_type == \"shopping\") * duration']\n",
        "Running 1 non-mandatory #3 tour choices\n",
        "WARNING: Some columns have no variability:\n"
       ]
      },
      {
       "output_type": "stream",
       "stream": "stdout",
       "text": [
        "['start < end_of_previous_tour' '(tour_type == \"shopping\") * start'\n",
        " '(tour_type == \"shopping\") * duration']\n",
        "Choices:\n",
        "count     7.000000\n",
        "mean     32.714286\n",
        "std      21.715695\n",
        "min      11.000000\n",
        "25%      15.500000\n",
        "50%      29.000000\n",
        "75%      44.500000\n",
        "max      69.000000\n",
        "dtype: float64\n",
        "Time to execute model 'non_mandatory_scheduling': 2.51s\n",
        "Total time to execute: 2.51s\n"
       ]
      }
     ],
     "prompt_number": 11
    },
    {
     "cell_type": "code",
     "collapsed": false,
     "input": [
      "sim.run(['mode_choice_simulate'])"
     ],
     "language": "python",
     "metadata": {},
     "outputs": [
      {
       "output_type": "stream",
       "stream": "stdout",
       "text": [
        "Running model 'mode_choice_simulate'\n",
        "                                                                                            work\n",
        "Expression                                                            Alternative               \n",
        "sov_available == False                                                DRIVEALONEFREE -999.000000\n",
        "auto_ownership == 0                                                   DRIVEALONEFREE -999.000000\n",
        "age < 16                                                              DRIVEALONEFREE -999.000000\n",
        "is_joint                                                              DRIVEALONEFREE -999.000000\n",
        "work_tour_is_drive                                                    DRIVEALONEFREE -999.000000\n",
        "@out_skims['SOV_TIME'] + in_skims['SOV_TIME']                         DRIVEALONEFREE   -0.017500\n",
        "2 * terminal_time                                                     DRIVEALONEFREE   -0.035000\n",
        "@costPerMile * (out_skims['SOV_DIST'] + in_skims['SOV_DIST'])         DRIVEALONEFREE   -0.001313\n",
        "daily_parking_cost                                                    DRIVEALONEFREE   -0.001313\n",
        "@out_skims['SOV_BTOLL'] + in_skims['SOV_BTOLL']                       DRIVEALONEFREE   -0.001313\n",
        "age_16_to_19                                                          DRIVEALONEFREE    0.000000\n",
        "sovtoll_available == False                                            DRIVEALONEPAY  -999.000000\n",
        "auto_ownership == 0                                                   DRIVEALONEPAY  -999.000000\n",
        "age < 16                                                              DRIVEALONEPAY  -999.000000\n",
        "is_joint                                                              DRIVEALONEPAY  -999.000000\n",
        "work_tour_is_drive                                                    DRIVEALONEPAY  -999.000000\n",
        "@out_skims['SOVTOLL_TIME'] + in_skims['SOVTOLL_TIME']                 DRIVEALONEPAY    -0.017500\n",
        "2 * terminal_time                                                     DRIVEALONEPAY    -0.035000\n",
        "@costPerMile * (out_skims['SOVTOLL_DIST'] + in_skims['SOVTOLL_DIST']) DRIVEALONEPAY    -0.001313\n",
        "daily_parking_cost                                                    DRIVEALONEPAY    -0.001313\n",
        "@out_skims['SOVTOLL_BTOLL'] + in_skims['SOVTOLL_BTOLL']               DRIVEALONEPAY    -0.001313\n",
        "@out_skims['SOVTOLL_VTOLL'] + in_skims['SOVTOLL_VTOLL']               DRIVEALONEPAY    -0.001313\n",
        "age_16_to_19                                                          DRIVEALONEPAY     0.000000\n",
        "hov2_available == False                                               SHARED2FREE    -999.000000\n",
        "is_joint & (number_of_participants > 2)                               SHARED2FREE    -999.000000\n",
        "@out_skims['HOV2_TIME'] + in_skims['HOV2_TIME']                       SHARED2FREE      -0.017500\n",
        "2 * terminal_time                                                     SHARED2FREE      -0.035000\n",
        "@costPerMile * (out_skims['HOV2_DIST'] + in_skims['HOV2_DIST'])       SHARED2FREE      -0.001313\n",
        "@df.daily_parking_cost / costShareSr2                                 SHARED2FREE      -0.001313\n",
        "@(out_skims['HOV2_BTOLL'] + in_skims['HOV2_BTOLL']) / costShareSr2    SHARED2FREE      -0.001313\n",
        "hhsize == 1                                                           SHARED2FREE       0.000000\n",
        "hhsize == 2                                                           SHARED2FREE       0.000000\n",
        "age_16_p                                                              SHARED2FREE      -1.366000"
       ]
      },
      {
       "output_type": "stream",
       "stream": "stdout",
       "text": [
        "\n",
        "WARNING, skipping key:  DISTANCE\n",
        "WARNING, skipping key: "
       ]
      },
      {
       "output_type": "stream",
       "stream": "stdout",
       "text": [
        " DISTANCE\n",
        "WARNING: Some columns have no variability:\n"
       ]
      },
      {
       "output_type": "stream",
       "stream": "stdout",
       "text": [
        "['sov_available == False' 'is_joint' 'work_tour_is_drive'\n",
        " '2 * terminal_time' 'daily_parking_cost' 'sovtoll_available == False'\n",
        " 'is_joint' 'work_tour_is_drive' '2 * terminal_time' 'daily_parking_cost'\n",
        " 'hov2_available == False' 'is_joint & (number_of_participants > 2)'\n",
        " '2 * terminal_time' 'df.daily_parking_cost / costShareSr2   ']\n",
        "Choices:\n",
        "DRIVE_LOC         76\n",
        "SHARED3FREE       74\n",
        "BIKE              70\n",
        "DRIVEALONEPAY     68\n",
        "DRIVE_HVY         68\n",
        "DRIVE_LRF         64\n",
        "DRIVEALONEFREE    63\n",
        "WALK_LRF          62\n",
        "WALK              62\n",
        "SHARED2FREE       58\n",
        "WALK_HVY          57\n",
        "DRIVE_COM         57\n",
        "WALK_EXP          56\n",
        "WALK_COM          55\n",
        "SHARED2PAY        54\n",
        "WALK_LOC          54\n",
        "DRIVE_EXP         45\n",
        "SHARED3PAY        44\n",
        "dtype: int64\n",
        "Time to execute model 'mode_choice_simulate': 5.73s"
       ]
      },
      {
       "output_type": "stream",
       "stream": "stdout",
       "text": [
        "\n",
        "Total time to execute: 5.73s\n"
       ]
      }
     ],
     "prompt_number": 13
    },
    {
     "cell_type": "code",
     "collapsed": false,
     "input": [
      "sim.get_table(\"land_use\").to_frame().info()"
     ],
     "language": "python",
     "metadata": {},
     "outputs": [
      {
       "output_type": "stream",
       "stream": "stdout",
       "text": [
        "<class 'pandas.core.frame.DataFrame'>\n",
        "Int64Index: 1454 entries, 1 to 1454\n",
        "Data columns (total 49 columns):\n",
        "DISTRICT              1454 non-null int64\n",
        "SD                    1454 non-null int64\n",
        "COUNTY                1454 non-null int64\n",
        "TOTHH                 1454 non-null int64\n",
        "HHPOP                 1454 non-null int64\n",
        "TOTPOP                1454 non-null int64\n",
        "EMPRES                1454 non-null int64\n",
        "SFDU                  1454 non-null int64\n",
        "MFDU                  1454 non-null int64\n",
        "HHINCQ1               1454 non-null int64\n",
        "HHINCQ2               1454 non-null int64\n",
        "HHINCQ3               1454 non-null int64\n",
        "HHINCQ4               1454 non-null int64\n",
        "TOTACRE               1454 non-null float64\n",
        "RESACRE               1454 non-null int64\n",
        "CIACRE                1454 non-null int64\n",
        "SHPOP62P              1454 non-null float64\n",
        "TOTEMP                1454 non-null int64\n",
        "AGE0004               1454 non-null int64\n",
        "AGE0519               1454 non-null int64\n",
        "AGE2044               1454 non-null int64\n",
        "AGE4564               1454 non-null int64\n",
        "AGE65P                1454 non-null int64\n",
        "RETEMPN               1454 non-null int64\n",
        "FPSEMPN               1454 non-null int64\n",
        "HEREMPN               1454 non-null int64\n",
        "OTHEMPN               1454 non-null int64\n",
        "AGREMPN               1454 non-null int64\n",
        "MWTEMPN               1454 non-null int64\n",
        "PRKCST                1454 non-null float64\n",
        "OPRKCST               1454 non-null float64\n",
        "area_type             1454 non-null int64\n",
        "HSENROLL              1454 non-null float64\n",
        "COLLFTE               1454 non-null float64\n",
        "COLLPTE               1454 non-null float64\n",
        "TOPOLOGY              1454 non-null int64\n",
        "TERMINAL              1454 non-null float64\n",
        "ZERO                  1454 non-null int64\n",
        "hhlds                 1454 non-null int64\n",
        "sftaz                 1454 non-null int64\n",
        "gqpop                 1454 non-null int64\n",
        "employment_density    1454 non-null float64\n",
        "total_acres           1454 non-null float64\n",
        "county_id             1454 non-null int64\n",
        "density_index         1453 non-null float64\n",
        "county_name           1454 non-null object\n",
        "household_density     1454 non-null float64\n",
        "total_households      1454 non-null int64\n",
        "total_employment      1454 non-null int64\n",
        "dtypes: float64(12), int64(36), object(1)\n",
        "memory usage: 568.0 KB\n"
       ]
      }
     ],
     "prompt_number": 39
    },
    {
     "cell_type": "code",
     "collapsed": false,
     "input": [
      "sim.get_table(\"households\").to_frame().info()"
     ],
     "language": "python",
     "metadata": {},
     "outputs": [
      {
       "output_type": "stream",
       "stream": "stdout",
       "text": [
        "<class 'pandas.core.frame.DataFrame'>\n",
        "Int64Index: 1000 entries, 1479073 to 1510540\n",
        "Data columns (total 77 columns):\n",
        "TAZ                            1000 non-null int64\n",
        "SERIALNO                       1000 non-null int64\n",
        "PUMA5                          1000 non-null int64\n",
        "income                         1000 non-null int64\n",
        "PERSONS                        1000 non-null int64\n",
        "HHT                            1000 non-null int64\n",
        "UNITTYPE                       1000 non-null int64\n",
        "NOC                            1000 non-null int64\n",
        "BLDGSZ                         1000 non-null int64\n",
        "TENURE                         1000 non-null int64\n",
        "VEHICL                         1000 non-null int64\n",
        "hinccat1                       1000 non-null int64\n",
        "hinccat2                       1000 non-null int64\n",
        "hhagecat                       1000 non-null int64\n",
        "hsizecat                       1000 non-null int64\n",
        "hfamily                        1000 non-null int64\n",
        "hunittype                      1000 non-null int64\n",
        "hNOCcat                        1000 non-null int64\n",
        "hwrkrcat                       1000 non-null int64\n",
        "h0004                          1000 non-null int64\n",
        "h0511                          1000 non-null int64\n",
        "h1215                          1000 non-null int64\n",
        "h1617                          1000 non-null int64\n",
        "h1824                          1000 non-null int64\n",
        "h2534                          1000 non-null int64\n",
        "h3549                          1000 non-null int64\n",
        "h5064                          1000 non-null int64\n",
        "h6579                          1000 non-null int64\n",
        "h80up                          1000 non-null int64\n",
        "workers                        1000 non-null int64\n",
        "hwork_f                        1000 non-null int64\n",
        "hwork_p                        1000 non-null int64\n",
        "huniv                          1000 non-null int64\n",
        "hnwork                         1000 non-null int64\n",
        "hretire                        1000 non-null int64\n",
        "hpresch                        1000 non-null int64\n",
        "hschpred                       1000 non-null int64\n",
        "hschdriv                       1000 non-null int64\n",
        "htypdwel                       1000 non-null int64\n",
        "hownrent                       1000 non-null int64\n",
        "hadnwst                        1000 non-null int64\n",
        "hadwpst                        1000 non-null int64\n",
        "hadkids                        1000 non-null int64\n",
        "bucketBin                      1000 non-null int64\n",
        "originalPUMA                   1000 non-null int64\n",
        "hmultiunit                     1000 non-null int64\n",
        "has_preschool_kid              1000 non-null bool\n",
        "family                         1000 non-null bool\n",
        "num_young_adults               1000 non-null float64\n",
        "auto_ownership                 1000 non-null int64\n",
        "has_driving_kid                1000 non-null bool\n",
        "has_preschool_kid_at_home      1000 non-null bool\n",
        "home_taz                       1000 non-null int64\n",
        "has_retiree                    1000 non-null bool\n",
        "drivers                        1000 non-null float64\n",
        "hhsize                         1000 non-null int64\n",
        "num_under16_not_at_school      1000 non-null float64\n",
        "has_non_worker                 1000 non-null bool\n",
        "num_children                   1000 non-null float64\n",
        "car_sufficiency                1 non-null float64\n",
        "num_adolescents                1000 non-null float64\n",
        "income_in_thousands            1000 non-null float64\n",
        "has_school_kid                 1000 non-null bool\n",
        "num_college_age                1000 non-null float64\n",
        "non_workers                    1 non-null float64\n",
        "household_type                 966 non-null object\n",
        "home_is_rural                  1000 non-null bool\n",
        "work_tour_auto_time_savings    1000 non-null int64\n",
        "non_family                     1000 non-null bool\n",
        "has_university                 1000 non-null bool\n",
        "income_segment                 1000 non-null category\n",
        "has_full_time                  1000 non-null bool\n",
        "has_part_time                  1000 non-null bool\n",
        "has_school_kid_at_home         1000 non-null bool\n",
        "no_cars                        1000 non-null bool\n",
        "num_young_children             1000 non-null float64\n",
        "home_is_urban                  1000 non-null bool\n",
        "dtypes: bool(15), category(1), float64(10), int64(50), object(1)\n",
        "memory usage: 500.0 KB\n"
       ]
      }
     ],
     "prompt_number": 38
    },
    {
     "cell_type": "code",
     "collapsed": false,
     "input": [
      "sim.get_table(\"persons\").to_frame().info()"
     ],
     "language": "python",
     "metadata": {},
     "outputs": [
      {
       "output_type": "stream",
       "stream": "stdout",
       "text": [
        "<class 'pandas.core.frame.DataFrame'>\n",
        "Int64Index: 2583 entries, 8034 to 7050249\n",
        "Data columns (total 48 columns):\n",
        "household_id                     2583 non-null int64\n",
        "age                              2583 non-null int64\n",
        "RELATE                           2583 non-null int64\n",
        "ESR                              2583 non-null int64\n",
        "GRADE                            2583 non-null int64\n",
        "PNUM                             2583 non-null int64\n",
        "PAUG                             2583 non-null int64\n",
        "DDP                              2583 non-null int64\n",
        "sex                              2583 non-null int64\n",
        "WEEKS                            2583 non-null int64\n",
        "HOURS                            2583 non-null int64\n",
        "MSP                              2583 non-null int64\n",
        "POVERTY                          2583 non-null int64\n",
        "EARNS                            2583 non-null int64\n",
        "pagecat                          2583 non-null int64\n",
        "pemploy                          2583 non-null int64\n",
        "pstudent                         2583 non-null int64\n",
        "ptype                            2583 non-null int64\n",
        "padkid                           2583 non-null int64\n",
        "student_cat                      2583 non-null object\n",
        "num_eat_j                        2583 non-null int64\n",
        "distance_to_school               2583 non-null float64\n",
        "female                           2583 non-null bool\n",
        "non_mandatory_tour_frequency     3 non-null float64\n",
        "max_window                       2583 non-null int64\n",
        "employed_cat                     2583 non-null object\n",
        "student_is_employed              2583 non-null bool\n",
        "distance_to_work                 2583 non-null float64\n",
        "cdap_activity                    2583 non-null object\n",
        "num_main_j                       2583 non-null int64\n",
        "num_joint_tours                  2583 non-null int64\n",
        "home_taz                         2583 non-null int64\n",
        "ptype_cat                        2583 non-null object\n",
        "is_student                       2583 non-null bool\n",
        "under16_not_at_school            2583 non-null bool\n",
        "school_taz                       2583 non-null int64\n",
        "is_worker                        2583 non-null bool\n",
        "roundtrip_auto_time_to_school    2583 non-null float64\n",
        "workplace_taz                    2583 non-null int64\n",
        "workplace_in_cbd                 2583 non-null bool\n",
        "nonstudent_to_school             2583 non-null bool\n",
        "mandatory_tour_frequency         2 non-null object\n",
        "num_shop_j                       2583 non-null int64\n",
        "num_mand                         2 non-null float64\n",
        "num_visi_j                       2583 non-null int64\n",
        "roundtrip_auto_time_to_work      2583 non-null float64\n",
        "num_disc_j                       2583 non-null int64\n",
        "male                             2583 non-null bool\n",
        "dtypes: bool(8), float64(6), int64(29), object(5)\n",
        "memory usage: 847.5 KB\n"
       ]
      }
     ],
     "prompt_number": 40
    },
    {
     "cell_type": "heading",
     "level": 2,
     "metadata": {},
     "source": [
      "The cell below is used to create small a dataset for testing"
     ]
    },
    {
     "cell_type": "code",
     "collapsed": false,
     "input": [
      "import urbansim.sim.simulation as sim\n",
      "from activitysim import activitysim as asim\n",
      "from activitysim import defaults\n",
      "import pandas as pd\n",
      "old_store = sim.get_injectable('store')\n",
      "print old_store\n",
      "# subset of the whole store\n",
      "new_store = pd.HDFStore('test.h5', 'w')\n",
      "new_store[\"land_use/taz_data\"] = old_store[\"land_use/taz_data\"]\n",
      "new_store[\"skims/accessibility\"] = old_store[\"skims/accessibility\"]\n",
      "new_store[\"households\"] = asim.random_rows(old_store[\"households\"], 1000)\n",
      "new_store[\"persons\"] = old_store[\"persons\"][\n",
      "    old_store[\"persons\"].household_id.isin(new_store[\"households\"].index)\n",
      "]\n",
      "print new_store\n",
      "new_store.close()"
     ],
     "language": "python",
     "metadata": {},
     "outputs": []
    },
    {
     "cell_type": "code",
     "collapsed": false,
     "input": [],
     "language": "python",
     "metadata": {},
     "outputs": []
    }
   ],
   "metadata": {}
  }
 ]
}