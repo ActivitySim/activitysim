{
 "metadata": {
  "name": "",
  "signature": "sha256:297e31f6b2b6fcfa9c3e555719a1dd618a184aea8a5231f4cce01c6fa94f72d2"
 },
 "nbformat": 3,
 "nbformat_minor": 0,
 "worksheets": [
  {
   "cells": [
    {
     "cell_type": "code",
     "collapsed": false,
     "input": [
      "%load_ext autoreload\n",
      "%autoreload 2\n",
      "import urbansim.sim.simulation as sim\n",
      "from activitysim import defaults"
     ],
     "language": "python",
     "metadata": {},
     "outputs": [],
     "prompt_number": 1
    },
    {
     "cell_type": "code",
     "collapsed": false,
     "input": [
      "sim.run([\"school_location_simulate\"])"
     ],
     "language": "python",
     "metadata": {},
     "outputs": [
      {
       "output_type": "stream",
       "stream": "stdout",
       "text": [
        "Running model 'school_location_simulate'\n",
        "WARNING: Some columns have no variability:\n"
       ]
      },
      {
       "output_type": "stream",
       "stream": "stdout",
       "text": [
        "['mode_choice_logsums']\n",
        "WARNING: Some columns have no variability:\n"
       ]
      },
      {
       "output_type": "stream",
       "stream": "stdout",
       "text": [
        "['mode_choice_logsums']\n",
        "WARNING: Some columns have no variability:\n"
       ]
      },
      {
       "output_type": "stream",
       "stream": "stdout",
       "text": [
        "['mode_choice_logsums']\n",
        "Describe of choices:\n"
       ]
      },
      {
       "output_type": "stream",
       "stream": "stdout",
       "text": [
        "count    2537.000000\n",
        "mean      197.994876\n",
        "std       395.213046\n",
        "min        -1.000000\n",
        "25%        -1.000000\n",
        "50%        -1.000000\n",
        "75%       117.000000\n",
        "max      1450.000000\n",
        "Name: TAZ, dtype: float64\n",
        "Time to execute model 'school_location_simulate': 21.20s\n",
        "Total time to execute: 21.20s\n"
       ]
      }
     ],
     "prompt_number": 2
    },
    {
     "cell_type": "code",
     "collapsed": false,
     "input": [
      "sim.run([\"workplace_location_simulate\"])"
     ],
     "language": "python",
     "metadata": {},
     "outputs": [
      {
       "output_type": "stream",
       "stream": "stdout",
       "text": [
        "Running model 'workplace_location_simulate'\n",
        "WARNING: Some columns have no variability:\n"
       ]
      },
      {
       "output_type": "stream",
       "stream": "stdout",
       "text": [
        "['mode_choice_logsums']\n",
        "Describe of choices:\n"
       ]
      },
      {
       "output_type": "stream",
       "stream": "stdout",
       "text": [
        "count    2537.000000\n",
        "mean      330.899488\n",
        "std       463.456484\n",
        "min        -1.000000\n",
        "25%        -1.000000\n",
        "50%        -1.000000\n",
        "75%       665.000000\n",
        "max      1452.000000\n",
        "Name: TAZ, dtype: float64\n",
        "Time to execute model 'workplace_location_simulate': 11.85s\n",
        "Total time to execute: 11.85s\n"
       ]
      }
     ],
     "prompt_number": 3
    },
    {
     "cell_type": "code",
     "collapsed": false,
     "input": [
      "print sim.get_table(\"persons\").distance_to_work.describe()"
     ],
     "language": "python",
     "metadata": {},
     "outputs": [
      {
       "output_type": "stream",
       "stream": "stdout",
       "text": [
        "count    2537.000000\n",
        "mean       24.922901\n",
        "std        27.613780\n",
        "min         0.290000\n",
        "25%         2.060000\n",
        "50%        14.760000\n",
        "75%        44.440000\n",
        "max       135.050000\n",
        "dtype: float64\n"
       ]
      }
     ],
     "prompt_number": 4
    },
    {
     "cell_type": "code",
     "collapsed": false,
     "input": [
      "sim.run([\"auto_ownership_simulate\"])"
     ],
     "language": "python",
     "metadata": {},
     "outputs": [
      {
       "output_type": "stream",
       "stream": "stdout",
       "text": [
        "Running model 'auto_ownership_simulate'\n",
        "WARNING: Some columns have no variability:\n"
       ]
      },
      {
       "output_type": "stream",
       "stream": "stdout",
       "text": [
        "['@1' 'work_tour_auto_time_savings / (workers+1)']\n",
        "Choices:\n"
       ]
      },
      {
       "output_type": "stream",
       "stream": "stdout",
       "text": [
        "2    407\n",
        "1    315\n",
        "3    150\n",
        "0     93\n",
        "4     35\n",
        "dtype: int64\n",
        "Time to execute model 'auto_ownership_simulate': 0.36s\n",
        "Total time to execute: 0.36s\n"
       ]
      }
     ],
     "prompt_number": 5
    },
    {
     "cell_type": "code",
     "collapsed": false,
     "input": [
      "sim.run([\"cdap_simulate\"])"
     ],
     "language": "python",
     "metadata": {},
     "outputs": [
      {
       "output_type": "stream",
       "stream": "stdout",
       "text": [
        "Running model 'cdap_simulate'\n",
        "Choices:\n"
       ]
      },
      {
       "output_type": "stream",
       "stream": "stdout",
       "text": [
        "Home            980\n",
        "NonMandatory    791\n",
        "Mandatory       766\n",
        "dtype: int64\n",
        "Time to execute model 'cdap_simulate': 79.05s\n",
        "Total time to execute: 79.05s\n"
       ]
      }
     ],
     "prompt_number": 6
    },
    {
     "cell_type": "code",
     "collapsed": false,
     "input": [
      "sim.run(['mandatory_tour_frequency'])"
     ],
     "language": "python",
     "metadata": {},
     "outputs": [
      {
       "output_type": "stream",
       "stream": "stdout",
       "text": [
        "Running model 'mandatory_tour_frequency'\n",
        "766 persons run for mandatory tour model"
       ]
      },
      {
       "output_type": "stream",
       "stream": "stdout",
       "text": [
        "\n",
        "WARNING: Some columns have no variability:\n"
       ]
      },
      {
       "output_type": "stream",
       "stream": "stdout",
       "text": [
        "['(ptype == 4) & (distance_to_work < 3)'\n",
        " '(ptype == 5) & (distance_to_work < 3)'\n",
        " '(ptype == 2) & nonstudent_to_school'\n",
        " '(ptype == 4) & nonstudent_to_school'\n",
        " '(ptype == 5) & nonstudent_to_school' '(ptype == 7) & non_family']\n",
        "Choices:\n"
       ]
      },
      {
       "output_type": "stream",
       "stream": "stdout",
       "text": [
        "work1              542\n",
        "school1            169\n",
        "work2               32\n",
        "school2             12\n",
        "work_and_school     11\n",
        "dtype: int64\n",
        "Time to execute model 'mandatory_tour_frequency': 2.58s\n",
        "Total time to execute: 2.58s\n"
       ]
      }
     ],
     "prompt_number": 10
    },
    {
     "cell_type": "code",
     "collapsed": false,
     "input": [
      "sim.get_table(\"mandatory_tours\").tour_type.value_counts()"
     ],
     "language": "python",
     "metadata": {},
     "outputs": [
      {
       "metadata": {},
       "output_type": "pyout",
       "prompt_number": 11,
       "text": [
        "work      617\n",
        "school    204\n",
        "dtype: int64"
       ]
      }
     ],
     "prompt_number": 11
    },
    {
     "cell_type": "code",
     "collapsed": false,
     "input": [
      "sim.run([\"mandatory_scheduling\"])"
     ],
     "language": "python",
     "metadata": {},
     "outputs": [
      {
       "output_type": "stream",
       "stream": "stdout",
       "text": [
        "Running model 'mandatory_scheduling'\n",
        "Running 821 mandatory tour scheduling choices"
       ]
      },
      {
       "output_type": "stream",
       "stream": "stdout",
       "text": [
        "\n",
        "Running 766 #1 tour choices\n",
        "WARNING: Some columns have no variability:\n"
       ]
      },
      {
       "output_type": "stream",
       "stream": "stdout",
       "text": [
        "['(start <= end_previous) & (tour_num == 2)' '(tour_num == 2) * start'\n",
        " '(tour_num == 2) * duration' 'home_is_rural & (start < 6)'\n",
        " 'home_is_rural & (end > 22)' '(tour_num == 2) & (duration < 8)']\n",
        "Running 55 #2 tour choices"
       ]
      },
      {
       "output_type": "stream",
       "stream": "stdout",
       "text": [
        "\n",
        "WARNING: Some columns have no variability:\n"
       ]
      },
      {
       "output_type": "stream",
       "stream": "stdout",
       "text": [
        "['(ptype == 4) * duration' '(tour_num == 1) * start'\n",
        " '(tour_num == 1) * duration' 'home_is_rural & (start < 6)'\n",
        " 'home_is_rural & (end > 22)' '(tour_num == 1) & (duration < 8)']\n",
        "Choices:\n"
       ]
      },
      {
       "output_type": "stream",
       "stream": "stdout",
       "text": [
        "count    821.000000\n",
        "mean     169.792935\n",
        "std       45.827018\n",
        "min        0.000000\n",
        "25%      181.000000\n",
        "50%      187.000000\n",
        "75%      188.000000\n",
        "max      189.000000\n",
        "dtype: float64\n",
        "Time to execute model 'mandatory_scheduling': 5.90s\n",
        "Total time to execute: 5.90s\n"
       ]
      }
     ],
     "prompt_number": 12
    },
    {
     "cell_type": "code",
     "collapsed": false,
     "input": [
      "sim.run(['non_mandatory_tour_frequency'])"
     ],
     "language": "python",
     "metadata": {},
     "outputs": [
      {
       "output_type": "stream",
       "stream": "stdout",
       "text": [
        "Running model 'non_mandatory_tour_frequency'\n",
        "1557 persons run for non-mandatory tour model"
       ]
      },
      {
       "output_type": "stream",
       "stream": "stdout",
       "text": [
        "\n",
        "Running segment 'driving' of size 42\n",
        "WARNING: Some columns have no variability:\n"
       ]
      },
      {
       "output_type": "stream",
       "stream": "stdout",
       "text": [
        "['num_joint_tours*(tot_tours == 0)' 'num_joint_tours*(tot_tours == 1)'\n",
        " 'num_joint_tours*(tot_tours == 2)' 'num_joint_tours*(tot_tours == 3)'\n",
        " 'num_joint_tours*(tot_tours == 4)' 'num_joint_tours*(tot_tours >  4)'\n",
        " 'num_shop_j' 'num_main_j' 'num_eat_j' 'num_visi_j' 'num_disc_j'\n",
        " 'max_window*(tot_tours == 0)' 'max_window*(tot_tours == 1)'\n",
        " 'max_window*(tot_tours == 2)' 'max_window*(tot_tours == 3)'\n",
        " 'max_window*(tot_tours == 4)' 'max_window*(tot_tours >  4)'\n",
        " '(car_sufficiency > 0) & (tot_tours == 1)'\n",
        " '(car_sufficiency > 0) & (tot_tours == 2)'\n",
        " '(car_sufficiency > 0) & (tot_tours == 3)'\n",
        " '(car_sufficiency > 0) & (tot_tours == 4)'\n",
        " '(car_sufficiency > 0) & (tot_tours > 4)'\n",
        " 'has_school_kid_at_home * escort' 'has_preschool_kid_at_home * escort'\n",
        " 'has_school_kid_at_home * shopping' 'has_preschool_kid_at_home * shopping'\n",
        " 'has_school_kid_at_home * othmaint' 'has_preschool_kid_at_home * othmaint'\n",
        " 'has_school_kid_at_home * eatout' 'has_preschool_kid_at_home * eatout'\n",
        " 'has_school_kid_at_home * othdiscr' 'has_preschool_kid_at_home * othdiscr']\n",
        "Running segment 'full' of size 543"
       ]
      },
      {
       "output_type": "stream",
       "stream": "stdout",
       "text": [
        "\n",
        "WARNING: Some columns have no variability:\n"
       ]
      },
      {
       "output_type": "stream",
       "stream": "stdout",
       "text": [
        "['num_joint_tours*(tot_tours == 0)' 'num_joint_tours*(tot_tours == 1)'\n",
        " 'num_joint_tours*(tot_tours == 2)' 'num_joint_tours*(tot_tours == 3)'\n",
        " 'num_joint_tours*(tot_tours == 4)' 'num_joint_tours*(tot_tours >  4)'\n",
        " 'num_shop_j' 'num_main_j' 'num_eat_j' 'num_visi_j' 'num_disc_j'\n",
        " 'max_window*(tot_tours == 0)' 'max_window*(tot_tours == 1)'\n",
        " 'max_window*(tot_tours == 2)' 'max_window*(tot_tours == 3)'\n",
        " 'max_window*(tot_tours == 4)' 'max_window*(tot_tours >  4)'\n",
        " 'has_school_kid_at_home * escort' 'has_preschool_kid_at_home * escort'\n",
        " 'has_school_kid_at_home * shopping' 'has_preschool_kid_at_home * shopping'\n",
        " 'has_school_kid_at_home * othmaint' 'has_preschool_kid_at_home * othmaint'\n",
        " 'has_school_kid_at_home * eatout' 'has_preschool_kid_at_home * eatout'\n",
        " 'has_school_kid_at_home * othdiscr' 'has_preschool_kid_at_home * othdiscr']\n",
        "Running segment 'nonwork' of size 279"
       ]
      },
      {
       "output_type": "stream",
       "stream": "stdout",
       "text": [
        "\n",
        "WARNING: Some columns have no variability:\n"
       ]
      },
      {
       "output_type": "stream",
       "stream": "stdout",
       "text": [
        "['num_joint_tours*(tot_tours == 0)' 'num_joint_tours*(tot_tours == 1)'\n",
        " 'num_joint_tours*(tot_tours == 2)' 'num_joint_tours*(tot_tours == 3)'\n",
        " 'num_joint_tours*(tot_tours == 4)' 'num_joint_tours*(tot_tours >  4)'\n",
        " 'num_shop_j' 'num_main_j' 'num_eat_j' 'num_visi_j' 'num_disc_j'\n",
        " 'max_window*(tot_tours == 0)' 'max_window*(tot_tours == 1)'\n",
        " 'max_window*(tot_tours == 2)' 'max_window*(tot_tours == 3)'\n",
        " 'max_window*(tot_tours == 4)' 'max_window*(tot_tours >  4)'\n",
        " 'has_school_kid_at_home * escort' 'has_preschool_kid_at_home * escort'\n",
        " 'has_school_kid_at_home * shopping' 'has_preschool_kid_at_home * shopping'\n",
        " 'has_school_kid_at_home * othmaint' 'has_preschool_kid_at_home * othmaint'\n",
        " 'has_school_kid_at_home * eatout' 'has_preschool_kid_at_home * eatout'\n",
        " 'has_school_kid_at_home * othdiscr' 'has_preschool_kid_at_home * othdiscr']\n",
        "Running segment 'part' of size 129"
       ]
      },
      {
       "output_type": "stream",
       "stream": "stdout",
       "text": [
        "\n",
        "WARNING: Some columns have no variability:\n"
       ]
      },
      {
       "output_type": "stream",
       "stream": "stdout",
       "text": [
        "['num_joint_tours*(tot_tours == 0)' 'num_joint_tours*(tot_tours == 1)'\n",
        " 'num_joint_tours*(tot_tours == 2)' 'num_joint_tours*(tot_tours == 3)'\n",
        " 'num_joint_tours*(tot_tours == 4)' 'num_joint_tours*(tot_tours >  4)'\n",
        " 'num_shop_j' 'num_main_j' 'num_eat_j' 'num_visi_j' 'num_disc_j'\n",
        " 'max_window*(tot_tours == 0)' 'max_window*(tot_tours == 1)'\n",
        " 'max_window*(tot_tours == 2)' 'max_window*(tot_tours == 3)'\n",
        " 'max_window*(tot_tours == 4)' 'max_window*(tot_tours >  4)'\n",
        " 'has_school_kid_at_home * escort' 'has_preschool_kid_at_home * escort'\n",
        " 'has_school_kid_at_home * shopping' 'has_preschool_kid_at_home * shopping'\n",
        " 'has_school_kid_at_home * othmaint' 'has_preschool_kid_at_home * othmaint'\n",
        " 'has_school_kid_at_home * eatout' 'has_preschool_kid_at_home * eatout'\n",
        " 'has_school_kid_at_home * othdiscr' 'has_preschool_kid_at_home * othdiscr']\n",
        "Running segment 'preschool' of size 115"
       ]
      },
      {
       "output_type": "stream",
       "stream": "stdout",
       "text": [
        "\n",
        "WARNING: Some columns have no variability:\n"
       ]
      },
      {
       "output_type": "stream",
       "stream": "stdout",
       "text": [
        "['num_joint_tours*(tot_tours == 0)' 'num_joint_tours*(tot_tours == 1)'\n",
        " 'num_joint_tours*(tot_tours == 2)' 'num_joint_tours*(tot_tours == 3)'\n",
        " 'num_joint_tours*(tot_tours == 4)' 'num_joint_tours*(tot_tours >  4)'\n",
        " 'num_shop_j' 'num_main_j' 'num_eat_j' 'num_visi_j' 'num_disc_j'\n",
        " 'max_window*(tot_tours == 0)' 'max_window*(tot_tours == 1)'\n",
        " 'max_window*(tot_tours == 2)' 'max_window*(tot_tours == 3)'\n",
        " 'max_window*(tot_tours == 4)' 'max_window*(tot_tours >  4)'\n",
        " '(car_sufficiency > 0) & (tot_tours == 1)'\n",
        " '(car_sufficiency > 0) & (tot_tours == 2)'\n",
        " '(car_sufficiency > 0) & (tot_tours == 3)'\n",
        " '(car_sufficiency > 0) & (tot_tours == 4)'\n",
        " '(car_sufficiency > 0) & (tot_tours > 4)'\n",
        " 'has_school_kid_at_home * escort' 'has_preschool_kid_at_home * escort'\n",
        " 'has_school_kid_at_home * shopping' 'has_preschool_kid_at_home * shopping'\n",
        " 'has_school_kid_at_home * othmaint' 'has_preschool_kid_at_home * othmaint'\n",
        " 'has_school_kid_at_home * eatout' 'has_preschool_kid_at_home * eatout'\n",
        " 'has_school_kid_at_home * othdiscr' 'has_preschool_kid_at_home * othdiscr']\n",
        "Running segment 'retired' of size 180"
       ]
      },
      {
       "output_type": "stream",
       "stream": "stdout",
       "text": [
        "\n",
        "WARNING: Some columns have no variability:\n"
       ]
      },
      {
       "output_type": "stream",
       "stream": "stdout",
       "text": [
        "['num_joint_tours*(tot_tours == 0)' 'num_joint_tours*(tot_tours == 1)'\n",
        " 'num_joint_tours*(tot_tours == 2)' 'num_joint_tours*(tot_tours == 3)'\n",
        " 'num_joint_tours*(tot_tours == 4)' 'num_joint_tours*(tot_tours >  4)'\n",
        " 'num_shop_j' 'num_main_j' 'num_eat_j' 'num_visi_j' 'num_disc_j'\n",
        " 'max_window*(tot_tours == 0)' 'max_window*(tot_tours == 1)'\n",
        " 'max_window*(tot_tours == 2)' 'max_window*(tot_tours == 3)'\n",
        " 'max_window*(tot_tours == 4)' 'max_window*(tot_tours >  4)'\n",
        " 'has_school_kid_at_home * escort' 'has_preschool_kid_at_home * escort'\n",
        " 'has_school_kid_at_home * shopping' 'has_preschool_kid_at_home * shopping'\n",
        " 'has_school_kid_at_home * othmaint' 'has_preschool_kid_at_home * othmaint'\n",
        " 'has_school_kid_at_home * eatout' 'has_preschool_kid_at_home * eatout'\n",
        " 'has_school_kid_at_home * othdiscr' 'has_preschool_kid_at_home * othdiscr']\n",
        "Running segment 'school' of size 197"
       ]
      },
      {
       "output_type": "stream",
       "stream": "stdout",
       "text": [
        "\n",
        "WARNING: Some columns have no variability:\n"
       ]
      },
      {
       "output_type": "stream",
       "stream": "stdout",
       "text": [
        "['num_joint_tours*(tot_tours == 0)' 'num_joint_tours*(tot_tours == 1)'\n",
        " 'num_joint_tours*(tot_tours == 2)' 'num_joint_tours*(tot_tours == 3)'\n",
        " 'num_joint_tours*(tot_tours == 4)' 'num_joint_tours*(tot_tours >  4)'\n",
        " 'num_shop_j' 'num_main_j' 'num_eat_j' 'num_visi_j' 'num_disc_j'\n",
        " 'max_window*(tot_tours == 0)' 'max_window*(tot_tours == 1)'\n",
        " 'max_window*(tot_tours == 2)' 'max_window*(tot_tours == 3)'\n",
        " 'max_window*(tot_tours == 4)' 'max_window*(tot_tours >  4)'\n",
        " 'has_school_kid_at_home * escort' 'has_preschool_kid_at_home * escort'\n",
        " 'has_school_kid_at_home * shopping' 'has_preschool_kid_at_home * shopping'\n",
        " 'has_school_kid_at_home * othmaint' 'has_preschool_kid_at_home * othmaint'\n",
        " 'has_school_kid_at_home * eatout' 'has_preschool_kid_at_home * eatout'\n",
        " 'has_school_kid_at_home * othdiscr' 'has_preschool_kid_at_home * othdiscr']\n",
        "Running segment 'university' of size 72"
       ]
      },
      {
       "output_type": "stream",
       "stream": "stdout",
       "text": [
        "\n",
        "WARNING: Some columns have no variability:\n"
       ]
      },
      {
       "output_type": "stream",
       "stream": "stdout",
       "text": [
        "['num_joint_tours*(tot_tours == 0)' 'num_joint_tours*(tot_tours == 1)'\n",
        " 'num_joint_tours*(tot_tours == 2)' 'num_joint_tours*(tot_tours == 3)'\n",
        " 'num_joint_tours*(tot_tours == 4)' 'num_joint_tours*(tot_tours >  4)'\n",
        " 'num_shop_j' 'num_main_j' 'num_eat_j' 'num_visi_j' 'num_disc_j'\n",
        " 'max_window*(tot_tours == 0)' 'max_window*(tot_tours == 1)'\n",
        " 'max_window*(tot_tours == 2)' 'max_window*(tot_tours == 3)'\n",
        " 'max_window*(tot_tours == 4)' 'max_window*(tot_tours >  4)'\n",
        " '(car_sufficiency > 0) & (tot_tours == 1)'\n",
        " '(car_sufficiency > 0) & (tot_tours == 2)'\n",
        " '(car_sufficiency > 0) & (tot_tours == 3)'\n",
        " '(car_sufficiency > 0) & (tot_tours == 4)'\n",
        " '(car_sufficiency > 0) & (tot_tours > 4)'\n",
        " 'has_school_kid_at_home * escort' 'has_preschool_kid_at_home * escort'\n",
        " 'has_school_kid_at_home * shopping' 'has_preschool_kid_at_home * shopping'\n",
        " 'has_school_kid_at_home * othmaint' 'has_preschool_kid_at_home * othmaint'\n",
        " 'has_school_kid_at_home * eatout' 'has_preschool_kid_at_home * eatout'\n",
        " 'has_school_kid_at_home * othdiscr' 'has_preschool_kid_at_home * othdiscr']\n",
        "Choices:\n"
       ]
      },
      {
       "output_type": "stream",
       "stream": "stdout",
       "text": [
        "0     761\n",
        "16    179\n",
        "1     131\n",
        "8      95\n",
        "32     76\n",
        "4      65\n",
        "2      47\n",
        "64     25\n",
        "17     23\n",
        "24     18\n",
        "20     11\n",
        "5      11\n",
        "40     10\n",
        "9       9\n",
        "36      8\n",
        "33      8\n",
        "80      7\n",
        "48      7\n",
        "12      5\n",
        "10      5\n",
        "49      4\n",
        "6       4\n",
        "18      4\n",
        "3       3\n",
        "65      3\n",
        "21      3\n",
        "44      3\n",
        "34      3\n",
        "41      2\n",
        "25      2\n",
        "72      2\n",
        "57      2\n",
        "52      2\n",
        "13      2\n",
        "66      2\n",
        "7       1\n",
        "74      1\n",
        "11      1\n",
        "67      1\n",
        "69      1\n",
        "22      1\n",
        "29      1\n",
        "76      1\n",
        "35      1\n",
        "37      1\n",
        "51      1\n",
        "53      1\n",
        "56      1\n",
        "60      1\n",
        "26      1\n",
        "dtype: int64\n",
        "Time to execute model 'non_mandatory_tour_frequency': 16.53s\n",
        "Total time to execute: 16.53s\n"
       ]
      }
     ],
     "prompt_number": 13
    },
    {
     "cell_type": "code",
     "collapsed": false,
     "input": [
      "sim.get_table(\"non_mandatory_tours\").tour_type.value_counts()"
     ],
     "language": "python",
     "metadata": {},
     "outputs": [
      {
       "metadata": {},
       "output_type": "pyout",
       "prompt_number": 14,
       "text": [
        "shopping    269\n",
        "escort      217\n",
        "othdiscr    212\n",
        "othmaint    162\n",
        "eatout      122\n",
        "social       76\n",
        "dtype: int64"
       ]
      }
     ],
     "prompt_number": 14
    },
    {
     "cell_type": "code",
     "collapsed": false,
     "input": [
      "sim.run([\"destination_choice\"])"
     ],
     "language": "python",
     "metadata": {},
     "outputs": [
      {
       "output_type": "stream",
       "stream": "stdout",
       "text": [
        "Running model 'destination_choice'\n",
        "Running segment 'eatout' of size 122"
       ]
      },
      {
       "output_type": "stream",
       "stream": "stdout",
       "text": [
        "\n",
        "Running segment 'othdiscr' of size 212"
       ]
      },
      {
       "output_type": "stream",
       "stream": "stdout",
       "text": [
        "\n",
        "Running segment 'othmaint' of size 162"
       ]
      },
      {
       "output_type": "stream",
       "stream": "stdout",
       "text": [
        "\n",
        "Running segment 'shopping' of size 269"
       ]
      },
      {
       "output_type": "stream",
       "stream": "stdout",
       "text": [
        "\n",
        "Running segment 'social' of size 76"
       ]
      },
      {
       "output_type": "stream",
       "stream": "stdout",
       "text": [
        "\n",
        "Choices:\n"
       ]
      },
      {
       "output_type": "stream",
       "stream": "stdout",
       "text": [
        "count     841.000000\n",
        "mean      728.715815\n",
        "std       419.654156\n",
        "min         2.000000\n",
        "25%       400.000000\n",
        "50%       733.000000\n",
        "75%      1122.000000\n",
        "max      1450.000000\n",
        "Name: TAZ, dtype: float64\n",
        "Time to execute model 'destination_choice': 7.73s\n",
        "Total time to execute: 7.73s\n"
       ]
      }
     ],
     "prompt_number": 15
    },
    {
     "cell_type": "code",
     "collapsed": false,
     "input": [
      "sim.run([\"non_mandatory_scheduling\"])"
     ],
     "language": "python",
     "metadata": {},
     "outputs": [
      {
       "output_type": "stream",
       "stream": "stdout",
       "text": [
        "Running model 'non_mandatory_scheduling'\n",
        "Running 1058 non-mandatory tour scheduling choices"
       ]
      },
      {
       "output_type": "stream",
       "stream": "stdout",
       "text": [
        "\n",
        "Running 796 #1 tour choices\n",
        "WARNING: Some columns have no variability:\n"
       ]
      },
      {
       "output_type": "stream",
       "stream": "stdout",
       "text": [
        "['(tour_type == \"oth_maint\") * start']\n",
        "Running 203 #2 tour choices"
       ]
      },
      {
       "output_type": "stream",
       "stream": "stdout",
       "text": [
        "\n",
        "WARNING: Some columns have no variability:\n"
       ]
      },
      {
       "output_type": "stream",
       "stream": "stdout",
       "text": [
        "['(tour_type == \"oth_maint\") * start']\n",
        "Running 49 #3 tour choices\n",
        "WARNING: Some columns have no variability:\n"
       ]
      },
      {
       "output_type": "stream",
       "stream": "stdout",
       "text": [
        "['(tour_type == \"oth_maint\") * start']\n",
        "Running 10 #4 tour choices\n",
        "WARNING: Some columns have no variability:\n"
       ]
      },
      {
       "output_type": "stream",
       "stream": "stdout",
       "text": [
        "['(tour_type == \"shopping\") * start' '(tour_type == \"shopping\") * duration'\n",
        " '(tour_type == \"oth_maint\") * start']\n",
        "Choices:\n",
        "count    1058.000000\n",
        "mean       65.284499\n",
        "std        50.422260\n",
        "min         0.000000\n",
        "25%        18.000000\n",
        "50%        52.000000\n",
        "75%        96.750000\n",
        "max       189.000000\n",
        "dtype: float64\n",
        "Time to execute model 'non_mandatory_scheduling': 3.48s\n",
        "Total time to execute: 3.48s\n"
       ]
      }
     ],
     "prompt_number": 17
    },
    {
     "cell_type": "code",
     "collapsed": false,
     "input": [
      "sim.run(['mode_choice_simulate'])"
     ],
     "language": "python",
     "metadata": {},
     "outputs": [
      {
       "output_type": "stream",
       "stream": "stdout",
       "text": [
        "Running model 'mode_choice_simulate'\n",
        "                                                                                            work\n",
        "Expression                                                            Alternative               \n",
        "sov_available == False                                                DRIVEALONEFREE -999.000000\n",
        "auto_ownership == 0                                                   DRIVEALONEFREE -999.000000\n",
        "age < 16                                                              DRIVEALONEFREE -999.000000\n",
        "is_joint                                                              DRIVEALONEFREE -999.000000\n",
        "work_tour_is_drive                                                    DRIVEALONEFREE -999.000000\n",
        "@out_skims['SOV_TIME'] + in_skims['SOV_TIME']                         DRIVEALONEFREE   -0.017500\n",
        "2 * terminal_time                                                     DRIVEALONEFREE   -0.035000\n",
        "@costPerMile * (out_skims['SOV_DIST'] + in_skims['SOV_DIST'])         DRIVEALONEFREE   -0.001313\n",
        "daily_parking_cost                                                    DRIVEALONEFREE   -0.001313\n",
        "@out_skims['SOV_BTOLL'] + in_skims['SOV_BTOLL']                       DRIVEALONEFREE   -0.001313\n",
        "age_16_to_19                                                          DRIVEALONEFREE    0.000000\n",
        "sovtoll_available == False                                            DRIVEALONEPAY  -999.000000\n",
        "auto_ownership == 0                                                   DRIVEALONEPAY  -999.000000\n",
        "age < 16                                                              DRIVEALONEPAY  -999.000000\n",
        "is_joint                                                              DRIVEALONEPAY  -999.000000\n",
        "work_tour_is_drive                                                    DRIVEALONEPAY  -999.000000\n",
        "@out_skims['SOVTOLL_TIME'] + in_skims['SOVTOLL_TIME']                 DRIVEALONEPAY    -0.017500\n",
        "2 * terminal_time                                                     DRIVEALONEPAY    -0.035000\n",
        "@costPerMile * (out_skims['SOVTOLL_DIST'] + in_skims['SOVTOLL_DIST']) DRIVEALONEPAY    -0.001313\n",
        "daily_parking_cost                                                    DRIVEALONEPAY    -0.001313\n",
        "@out_skims['SOVTOLL_BTOLL'] + in_skims['SOVTOLL_BTOLL']               DRIVEALONEPAY    -0.001313\n",
        "@out_skims['SOVTOLL_VTOLL'] + in_skims['SOVTOLL_VTOLL']               DRIVEALONEPAY    -0.001313\n",
        "age_16_to_19                                                          DRIVEALONEPAY     0.000000\n",
        "hov2_available == False                                               SHARED2FREE    -999.000000\n",
        "is_joint & (number_of_participants > 2)                               SHARED2FREE    -999.000000\n",
        "@out_skims['HOV2_TIME'] + in_skims['HOV2_TIME']                       SHARED2FREE      -0.017500\n",
        "2 * terminal_time                                                     SHARED2FREE      -0.035000\n",
        "@costPerMile * (out_skims['HOV2_DIST'] + in_skims['HOV2_DIST'])       SHARED2FREE      -0.001313\n",
        "@df.daily_parking_cost / costShareSr2                                 SHARED2FREE      -0.001313\n",
        "@(out_skims['HOV2_BTOLL'] + in_skims['HOV2_BTOLL']) / costShareSr2    SHARED2FREE      -0.001313\n",
        "hhsize == 1                                                           SHARED2FREE       0.000000\n",
        "hhsize == 2                                                           SHARED2FREE       0.000000\n",
        "age_16_p                                                              SHARED2FREE      -1.366000"
       ]
      },
      {
       "output_type": "stream",
       "stream": "stdout",
       "text": [
        "\n",
        "WARNING, skipping key:  DISTANCE\n",
        "WARNING, skipping key: "
       ]
      },
      {
       "output_type": "stream",
       "stream": "stdout",
       "text": [
        " DISTANCE\n",
        "WARNING: Some columns have no variability:\n"
       ]
      },
      {
       "output_type": "stream",
       "stream": "stdout",
       "text": [
        "['2 * terminal_time' '@df.daily_parking_cost / costShareSr2   '\n",
        " 'daily_parking_cost' 'hov2_available == False' 'is_joint'\n",
        " 'is_joint & (number_of_participants > 2)' 'sov_available == False'\n",
        " 'sovtoll_available == False' 'work_tour_is_drive']\n",
        "Choices:\n"
       ]
      },
      {
       "output_type": "stream",
       "stream": "stdout",
       "text": [
        "2    711\n",
        "0    615\n",
        "1    553\n",
        "dtype: int64\n",
        "Time to execute model 'mode_choice_simulate': 5.89s\n",
        "Total time to execute: 5.89s\n"
       ]
      }
     ],
     "prompt_number": 18
    },
    {
     "cell_type": "code",
     "collapsed": false,
     "input": [
      "sim.get_table(\"land_use\").to_frame().info()"
     ],
     "language": "python",
     "metadata": {},
     "outputs": [
      {
       "output_type": "stream",
       "stream": "stdout",
       "text": [
        "<class 'pandas.core.frame.DataFrame'>\n",
        "Int64Index: 1454 entries, 1 to 1454\n",
        "Data columns (total 49 columns):\n",
        "DISTRICT              1454 non-null int64\n",
        "SD                    1454 non-null int64\n",
        "COUNTY                1454 non-null int64\n",
        "TOTHH                 1454 non-null int64\n",
        "HHPOP                 1454 non-null int64\n",
        "TOTPOP                1454 non-null int64\n",
        "EMPRES                1454 non-null int64\n",
        "SFDU                  1454 non-null int64\n",
        "MFDU                  1454 non-null int64\n",
        "HHINCQ1               1454 non-null int64\n",
        "HHINCQ2               1454 non-null int64\n",
        "HHINCQ3               1454 non-null int64\n",
        "HHINCQ4               1454 non-null int64\n",
        "TOTACRE               1454 non-null float64\n",
        "RESACRE               1454 non-null int64\n",
        "CIACRE                1454 non-null int64\n",
        "SHPOP62P              1454 non-null float64\n",
        "TOTEMP                1454 non-null int64\n",
        "AGE0004               1454 non-null int64\n",
        "AGE0519               1454 non-null int64\n",
        "AGE2044               1454 non-null int64\n",
        "AGE4564               1454 non-null int64\n",
        "AGE65P                1454 non-null int64\n",
        "RETEMPN               1454 non-null int64\n",
        "FPSEMPN               1454 non-null int64\n",
        "HEREMPN               1454 non-null int64\n",
        "OTHEMPN               1454 non-null int64\n",
        "AGREMPN               1454 non-null int64\n",
        "MWTEMPN               1454 non-null int64\n",
        "PRKCST                1454 non-null float64\n",
        "OPRKCST               1454 non-null float64\n",
        "area_type             1454 non-null int64\n",
        "HSENROLL              1454 non-null float64\n",
        "COLLFTE               1454 non-null float64\n",
        "COLLPTE               1454 non-null float64\n",
        "TOPOLOGY              1454 non-null int64\n",
        "TERMINAL              1454 non-null float64\n",
        "ZERO                  1454 non-null int64\n",
        "hhlds                 1454 non-null int64\n",
        "sftaz                 1454 non-null int64\n",
        "gqpop                 1454 non-null int64\n",
        "employment_density    1454 non-null float64\n",
        "total_acres           1454 non-null float64\n",
        "county_name           1454 non-null object\n",
        "density_index         1453 non-null float64\n",
        "household_density     1454 non-null float64\n",
        "county_id             1454 non-null int64\n",
        "total_households      1454 non-null int64\n",
        "total_employment      1454 non-null int64\n",
        "dtypes: float64(12), int64(36), object(1)\n",
        "memory usage: 568.0 KB\n"
       ]
      }
     ],
     "prompt_number": 13
    },
    {
     "cell_type": "code",
     "collapsed": false,
     "input": [
      "sim.get_table(\"households\").to_frame().info()"
     ],
     "language": "python",
     "metadata": {},
     "outputs": [
      {
       "output_type": "stream",
       "stream": "stdout",
       "text": [
        "<class 'pandas.core.frame.DataFrame'>\n",
        "Int64Index: 1000 entries, 1669190 to 1400683\n",
        "Data columns (total 77 columns):\n",
        "TAZ                            1000 non-null int64\n",
        "SERIALNO                       1000 non-null int64\n",
        "PUMA5                          1000 non-null int64\n",
        "income                         1000 non-null int64\n",
        "PERSONS                        1000 non-null int64\n",
        "HHT                            1000 non-null int64\n",
        "UNITTYPE                       1000 non-null int64\n",
        "NOC                            1000 non-null int64\n",
        "BLDGSZ                         1000 non-null int64\n",
        "TENURE                         1000 non-null int64\n",
        "VEHICL                         1000 non-null int64\n",
        "hinccat1                       1000 non-null int64\n",
        "hinccat2                       1000 non-null int64\n",
        "hhagecat                       1000 non-null int64\n",
        "hsizecat                       1000 non-null int64\n",
        "hfamily                        1000 non-null int64\n",
        "hunittype                      1000 non-null int64\n",
        "hNOCcat                        1000 non-null int64\n",
        "hwrkrcat                       1000 non-null int64\n",
        "h0004                          1000 non-null int64\n",
        "h0511                          1000 non-null int64\n",
        "h1215                          1000 non-null int64\n",
        "h1617                          1000 non-null int64\n",
        "h1824                          1000 non-null int64\n",
        "h2534                          1000 non-null int64\n",
        "h3549                          1000 non-null int64\n",
        "h5064                          1000 non-null int64\n",
        "h6579                          1000 non-null int64\n",
        "h80up                          1000 non-null int64\n",
        "workers                        1000 non-null int64\n",
        "hwork_f                        1000 non-null int64\n",
        "hwork_p                        1000 non-null int64\n",
        "huniv                          1000 non-null int64\n",
        "hnwork                         1000 non-null int64\n",
        "hretire                        1000 non-null int64\n",
        "hpresch                        1000 non-null int64\n",
        "hschpred                       1000 non-null int64\n",
        "hschdriv                       1000 non-null int64\n",
        "htypdwel                       1000 non-null int64\n",
        "hownrent                       1000 non-null int64\n",
        "hadnwst                        1000 non-null int64\n",
        "hadwpst                        1000 non-null int64\n",
        "hadkids                        1000 non-null int64\n",
        "bucketBin                      1000 non-null int64\n",
        "originalPUMA                   1000 non-null int64\n",
        "hmultiunit                     1000 non-null int64\n",
        "has_preschool_kid              1000 non-null bool\n",
        "family                         1000 non-null bool\n",
        "num_young_adults               1000 non-null float64\n",
        "auto_ownership                 1000 non-null int64\n",
        "has_driving_kid                1000 non-null bool\n",
        "has_preschool_kid_at_home      1000 non-null bool\n",
        "home_taz                       1000 non-null int64\n",
        "has_retiree                    1000 non-null bool\n",
        "drivers                        1000 non-null float64\n",
        "hhsize                         1000 non-null int64\n",
        "num_under16_not_at_school      1000 non-null int64\n",
        "has_non_worker                 1000 non-null bool\n",
        "num_children                   1000 non-null float64\n",
        "car_sufficiency                1000 non-null int64\n",
        "num_adolescents                1000 non-null float64\n",
        "income_in_thousands            1000 non-null float64\n",
        "has_school_kid                 1000 non-null bool\n",
        "num_college_age                1000 non-null float64\n",
        "non_workers                    1000 non-null int64\n",
        "household_type                 957 non-null object\n",
        "home_is_rural                  1000 non-null bool\n",
        "work_tour_auto_time_savings    1000 non-null int64\n",
        "non_family                     1000 non-null bool\n",
        "has_university                 1000 non-null bool\n",
        "income_segment                 1000 non-null category\n",
        "has_full_time                  1000 non-null bool\n",
        "has_part_time                  1000 non-null bool\n",
        "has_school_kid_at_home         1000 non-null bool\n",
        "no_cars                        1000 non-null bool\n",
        "num_young_children             1000 non-null float64\n",
        "home_is_urban                  1000 non-null bool\n",
        "dtypes: bool(15), category(1), float64(7), int64(53), object(1)\n",
        "memory usage: 500.0 KB\n"
       ]
      }
     ],
     "prompt_number": 14
    },
    {
     "cell_type": "code",
     "collapsed": false,
     "input": [
      "sim.get_table(\"persons\").to_frame().info()"
     ],
     "language": "python",
     "metadata": {},
     "outputs": [
      {
       "output_type": "stream",
       "stream": "stdout",
       "text": [
        "<class 'pandas.core.frame.DataFrame'>\n",
        "Int64Index: 2598 entries, 1394 to 7051868\n",
        "Data columns (total 50 columns):\n",
        "household_id                     2598 non-null int64\n",
        "age                              2598 non-null int64\n",
        "RELATE                           2598 non-null int64\n",
        "ESR                              2598 non-null int64\n",
        "GRADE                            2598 non-null int64\n",
        "PNUM                             2598 non-null int64\n",
        "PAUG                             2598 non-null int64\n",
        "DDP                              2598 non-null int64\n",
        "sex                              2598 non-null int64\n",
        "WEEKS                            2598 non-null int64\n",
        "HOURS                            2598 non-null int64\n",
        "MSP                              2598 non-null int64\n",
        "POVERTY                          2598 non-null int64\n",
        "EARNS                            2598 non-null int64\n",
        "pagecat                          2598 non-null int64\n",
        "pemploy                          2598 non-null int64\n",
        "pstudent                         2598 non-null int64\n",
        "ptype                            2598 non-null int64\n",
        "padkid                           2598 non-null int64\n",
        "student_cat                      2598 non-null object\n",
        "num_eat_j                        2598 non-null int64\n",
        "distance_to_school               2598 non-null float64\n",
        "female                           2598 non-null bool\n",
        "non_mandatory_tour_frequency     1744 non-null float64\n",
        "max_window                       2598 non-null int64\n",
        "employed_cat                     2598 non-null object\n",
        "student_is_employed              2598 non-null bool\n",
        "distance_to_work                 2598 non-null float64\n",
        "cdap_activity                    2598 non-null object\n",
        "num_main_j                       2598 non-null int64\n",
        "num_joint_tours                  2598 non-null int64\n",
        "home_taz                         2598 non-null int64\n",
        "ptype_cat                        2598 non-null object\n",
        "is_student                       2598 non-null bool\n",
        "under16_not_at_school            2598 non-null bool\n",
        "school_taz                       2598 non-null int64\n",
        "is_worker                        2598 non-null bool\n",
        "roundtrip_auto_time_to_school    2598 non-null float64\n",
        "age_16_p                         2598 non-null bool\n",
        "workplace_taz                    2598 non-null int64\n",
        "workplace_in_cbd                 2598 non-null bool\n",
        "mandatory_tour_frequency         856 non-null object\n",
        "age_16_to_19                     2598 non-null bool\n",
        "nonstudent_to_school             2598 non-null bool\n",
        "num_shop_j                       2598 non-null int64\n",
        "num_mand                         2598 non-null float64\n",
        "num_visi_j                       2598 non-null int64\n",
        "roundtrip_auto_time_to_work      2598 non-null float64\n",
        "num_disc_j                       2598 non-null int64\n",
        "male                             2598 non-null bool\n",
        "dtypes: bool(10), float64(6), int64(29), object(5)\n",
        "memory usage: 857.5 KB\n"
       ]
      }
     ],
     "prompt_number": 15
    },
    {
     "cell_type": "heading",
     "level": 2,
     "metadata": {},
     "source": [
      "The cell below is used to create small a dataset for testing"
     ]
    },
    {
     "cell_type": "raw",
     "metadata": {},
     "source": [
      "import urbansim.sim.simulation as sim\n",
      "from activitysim import activitysim as asim\n",
      "from activitysim import defaults\n",
      "import pandas as pd\n",
      "old_store = sim.get_injectable('store')\n",
      "print old_store\n",
      "# subset of the whole store\n",
      "new_store = pd.HDFStore('test.h5', 'w')\n",
      "new_store[\"land_use/taz_data\"] = old_store[\"land_use/taz_data\"]\n",
      "new_store[\"skims/accessibility\"] = old_store[\"skims/accessibility\"]\n",
      "new_store[\"households\"] = asim.random_rows(old_store[\"households\"], 1000)\n",
      "new_store[\"persons\"] = old_store[\"persons\"][\n",
      "    old_store[\"persons\"].household_id.isin(new_store[\"households\"].index)\n",
      "]\n",
      "print new_store\n",
      "new_store.close()"
     ]
    },
    {
     "cell_type": "code",
     "collapsed": false,
     "input": [],
     "language": "python",
     "metadata": {},
     "outputs": [],
     "prompt_number": 15
    }
   ],
   "metadata": {}
  }
 ]
}