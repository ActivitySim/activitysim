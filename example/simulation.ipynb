{
 "metadata": {
  "name": "",
  "signature": "sha256:1cbfbf8db4e969948889acbc5a7672f9b31bb1e19c2bfe7af98148be67947267"
 },
 "nbformat": 3,
 "nbformat_minor": 0,
 "worksheets": [
  {
   "cells": [
    {
     "cell_type": "code",
     "collapsed": false,
     "input": [
      "%load_ext autoreload\n",
      "%autoreload 2\n",
      "import urbansim.sim.simulation as sim\n",
      "from activitysim import defaults"
     ],
     "language": "python",
     "metadata": {},
     "outputs": [],
     "prompt_number": 1
    },
    {
     "cell_type": "heading",
     "level": 2,
     "metadata": {},
     "source": [
      "Run this cell to use the test data which comes with the repo"
     ]
    },
    {
     "cell_type": "code",
     "collapsed": false,
     "input": [
      "import pandas as pd\n",
      "import os\n",
      "sim.add_injectable(\"store\", pd.HDFStore(\n",
      "        os.path.join(\"..\", \"activitysim\", \"defaults\", \"test\", \"test.h5\"), \"r\"))\n",
      "sim.add_injectable(\"nonmotskm_matrix\", np.ones((1454, 1454)))"
     ],
     "language": "python",
     "metadata": {},
     "outputs": [],
     "prompt_number": 2
    },
    {
     "cell_type": "code",
     "collapsed": false,
     "input": [
      "sim.run([\"school_location_simulate\"])"
     ],
     "language": "python",
     "metadata": {},
     "outputs": [
      {
       "output_type": "stream",
       "stream": "stdout",
       "text": [
        "Running model 'school_location_simulate'\n",
        "WARNING: Some columns have no variability:\n"
       ]
      },
      {
       "output_type": "stream",
       "stream": "stdout",
       "text": [
        "['mode_choice_logsums']\n",
        "WARNING: Some columns have no variability:\n"
       ]
      },
      {
       "output_type": "stream",
       "stream": "stdout",
       "text": [
        "['mode_choice_logsums']\n",
        "WARNING: Some columns have no variability:\n"
       ]
      },
      {
       "output_type": "stream",
       "stream": "stdout",
       "text": [
        "['mode_choice_logsums']\n",
        "Describe of choices:\n"
       ]
      },
      {
       "output_type": "stream",
       "stream": "stdout",
       "text": [
        "count     245.000000\n",
        "mean      238.930612\n",
        "std       445.364760\n",
        "min        -1.000000\n",
        "25%        -1.000000\n",
        "50%        -1.000000\n",
        "75%        69.000000\n",
        "max      1434.000000\n",
        "Name: TAZ, dtype: float64\n",
        "Time to execute model 'school_location_simulate': 20.29s\n",
        "Total time to execute: 20.29s\n"
       ]
      }
     ],
     "prompt_number": 3
    },
    {
     "cell_type": "code",
     "collapsed": false,
     "input": [
      "sim.run([\"workplace_location_simulate\"])"
     ],
     "language": "python",
     "metadata": {},
     "outputs": [
      {
       "output_type": "stream",
       "stream": "stdout",
       "text": [
        "Running model 'workplace_location_simulate'\n",
        "WARNING: Some columns have no variability:\n"
       ]
      },
      {
       "output_type": "stream",
       "stream": "stdout",
       "text": [
        "['mode_choice_logsums']\n",
        "Describe of choices:\n"
       ]
      },
      {
       "output_type": "stream",
       "stream": "stdout",
       "text": [
        "count     245.000000\n",
        "mean      875.302041\n",
        "std       409.872059\n",
        "min         2.000000\n",
        "25%       583.000000\n",
        "50%       970.000000\n",
        "75%      1199.000000\n",
        "max      1452.000000\n",
        "Name: TAZ, dtype: float64\n",
        "Time to execute model 'workplace_location_simulate': 4.51s\n",
        "Total time to execute: 4.51s\n"
       ]
      }
     ],
     "prompt_number": 4
    },
    {
     "cell_type": "code",
     "collapsed": false,
     "input": [
      "print sim.get_table(\"persons\").distance_to_work.describe()"
     ],
     "language": "python",
     "metadata": {},
     "outputs": [
      {
       "output_type": "stream",
       "stream": "stdout",
       "text": [
        "count    245.000000\n",
        "mean       2.074041\n",
        "std        1.193102\n",
        "min        0.280000\n",
        "25%        1.090000\n",
        "50%        1.980000\n",
        "75%        2.790000\n",
        "max        8.880000\n",
        "dtype: float64\n"
       ]
      }
     ],
     "prompt_number": 5
    },
    {
     "cell_type": "code",
     "collapsed": false,
     "input": [
      "sim.run([\"auto_ownership_simulate\"])"
     ],
     "language": "python",
     "metadata": {},
     "outputs": [
      {
       "output_type": "stream",
       "stream": "stdout",
       "text": [
        "Running model 'auto_ownership_simulate'\n",
        "WARNING: Some columns have no variability:\n"
       ]
      },
      {
       "output_type": "stream",
       "stream": "stdout",
       "text": [
        "['@1' \"county_name == 'Napa'\" 'work_tour_auto_time_savings / (workers+1)']\n",
        "Choices:\n",
        "2    41\n",
        "1    36\n",
        "3    13\n",
        "0     9\n",
        "4     1\n",
        "dtype: int64\n",
        "Time to execute model 'auto_ownership_simulate': 0.25s\n",
        "Total time to execute: 0.25s\n"
       ]
      }
     ],
     "prompt_number": 6
    },
    {
     "cell_type": "code",
     "collapsed": false,
     "input": [
      "sim.run([\"cdap_simulate\"])"
     ],
     "language": "python",
     "metadata": {},
     "outputs": [
      {
       "output_type": "stream",
       "stream": "stdout",
       "text": [
        "Running model 'cdap_simulate'\n",
        "Choices:\n"
       ]
      },
      {
       "output_type": "stream",
       "stream": "stdout",
       "text": [
        "NonMandatory    92\n",
        "Home            83\n",
        "Mandatory       70\n",
        "dtype: int64\n",
        "Time to execute model 'cdap_simulate': 5.54s\n",
        "Total time to execute: 5.54s\n"
       ]
      }
     ],
     "prompt_number": 7
    },
    {
     "cell_type": "code",
     "collapsed": false,
     "input": [
      "sim.run(['mandatory_tour_frequency'])"
     ],
     "language": "python",
     "metadata": {},
     "outputs": [
      {
       "output_type": "stream",
       "stream": "stdout",
       "text": [
        "Running model 'mandatory_tour_frequency'\n",
        "70 persons run for mandatory tour model"
       ]
      },
      {
       "output_type": "stream",
       "stream": "stdout",
       "text": [
        "\n",
        "count      70.000000\n",
        "mean      840.771429\n",
        "std       377.661384\n",
        "min        16.000000\n",
        "25%       568.000000\n",
        "50%       927.500000\n",
        "75%      1125.000000\n",
        "max      1433.000000\n",
        "Name: workplace_taz, dtype: float64\n",
        "WARNING: Some columns have no variability:\n"
       ]
      },
      {
       "output_type": "stream",
       "stream": "stdout",
       "text": [
        "['(ptype == 3) & female' '(ptype == 6) & female'\n",
        " '(ptype == 2) & (age <= 35)' '(ptype == 3) & (age <= 35)'\n",
        " '(ptype == 3) & (distance_to_school < 3)'\n",
        " '(ptype == 6) & (distance_to_school < 3)'\n",
        " '(ptype == 3) & student_is_employed' '(ptype == 6) & student_is_employed'\n",
        " '(ptype == 1) & nonstudent_to_school'\n",
        " '(ptype == 2) & nonstudent_to_school'\n",
        " '(ptype == 4) & nonstudent_to_school'\n",
        " '(ptype == 5) & nonstudent_to_school'\n",
        " '(ptype == 1) & (auto_ownership == 0)'\n",
        " '(ptype == 2) & (auto_ownership == 0)'\n",
        " '(ptype == 3) & (auto_ownership == 0)'\n",
        " '(ptype == 6) & (auto_ownership == 0)'\n",
        " '(ptype == 7) & (auto_ownership == 0)'\n",
        " '(ptype == 3) & (auto_ownership < drivers)'\n",
        " '(ptype == 3) * (num_young_children)'\n",
        " '(ptype == 5) * (num_young_children)'\n",
        " '(ptype == 3) & (income_in_thousands > 50)' '(ptype == 2) & non_family'\n",
        " '(ptype == 3) & non_family' '(ptype == 6) & non_family'\n",
        " '(ptype == 7) & non_family' '(ptype == 2) & home_is_urban'\n",
        " '(ptype == 5) & home_is_urban' '(ptype == 6) & home_is_urban'\n",
        " '~(workplace_taz > -1)']\n",
        "Choices:\n",
        "work1              42\n",
        "work2              17\n",
        "school1             7\n",
        "work_and_school     2\n",
        "school2             2\n",
        "dtype: int64\n",
        "Time to execute model 'mandatory_tour_frequency': 2.90s\n",
        "Total time to execute: 2.90s\n"
       ]
      }
     ],
     "prompt_number": 8
    },
    {
     "cell_type": "code",
     "collapsed": false,
     "input": [
      "sim.get_table(\"mandatory_tours\").tour_type.value_counts()"
     ],
     "language": "python",
     "metadata": {},
     "outputs": [
      {
       "metadata": {},
       "output_type": "pyout",
       "prompt_number": 9,
       "text": [
        "work      78\n",
        "school    13\n",
        "dtype: int64"
       ]
      }
     ],
     "prompt_number": 9
    },
    {
     "cell_type": "code",
     "collapsed": false,
     "input": [
      "sim.run([\"mandatory_scheduling\"])"
     ],
     "language": "python",
     "metadata": {},
     "outputs": [
      {
       "output_type": "stream",
       "stream": "stdout",
       "text": [
        "Running model 'mandatory_scheduling'\n",
        "Running 13 school tour scheduling choices"
       ]
      },
      {
       "output_type": "stream",
       "stream": "stdout",
       "text": [
        "\n",
        "Running 11 #1 tour choices\n",
        "WARNING: Some columns have no variability:\n"
       ]
      },
      {
       "output_type": "stream",
       "stream": "stdout",
       "text": [
        "['(ptype == 4) * start' '(ptype == 3) * start' '(ptype == 3) * duration'\n",
        " '(workers == hhsize) * duration' '(tour_num > 1) & (start < end_previous)'\n",
        " '(tour_num > 1) * duration' '(tour_num > 1) & (duration < 6)'\n",
        " 'work_and_school_and_worker & (duration < 6)']\n",
        "Running 2 #2 tour choices\n",
        "WARNING: Some columns have no variability:\n"
       ]
      },
      {
       "output_type": "stream",
       "stream": "stdout",
       "text": [
        "['(ptype == 1) * start' '(ptype == 1) * duration' '(ptype == 4) * start'\n",
        " '(ptype == 3) * start' '(ptype == 3) * duration'\n",
        " '(workers == hhsize) * duration' '(tour_num == 1) * start'\n",
        " '(tour_num == 1) * duration' '(tour_num == 1) & (duration < 6)'\n",
        " 'work_and_school_and_worker & (duration < 6)'\n",
        " 'work_and_school_and_student & (duration < 6)']\n",
        "Running 78 work tour scheduling choices\n",
        "Running 61 #1 tour choices\n",
        "WARNING: Some columns have no variability:\n"
       ]
      },
      {
       "output_type": "stream",
       "stream": "stdout",
       "text": [
        "['home_is_rural & (start < 6)' 'home_is_rural & (end > 22)'\n",
        " \"(mandatory_tour_frequency == 'work_and_school') & is_worker & (duration < 8)\"]\n",
        "Running 17 #2 tour choices"
       ]
      },
      {
       "output_type": "stream",
       "stream": "stdout",
       "text": [
        "\n",
        "WARNING: Some columns have no variability:\n"
       ]
      },
      {
       "output_type": "stream",
       "stream": "stdout",
       "text": [
        "['(ptype == 2) * start' '(ptype == 3) * start' '(tour_num == 1) * start'\n",
        " '(tour_num == 1) * duration' 'home_is_rural & (start < 6)'\n",
        " 'home_is_rural & (end > 22)' '(ptype == 2) & (end > 12) & (end < 16)'\n",
        " '(tour_num == 1) & (duration < 8)'\n",
        " \"(mandatory_tour_frequency == 'work_and_school') & is_worker & (duration < 8)\"\n",
        " \"(mandatory_tour_frequency == 'work_and_school') & is_student & (duration < 8)\"]\n",
        "Choices:\n",
        "count     91.000000\n",
        "mean     163.131868\n",
        "std       59.405613\n",
        "min        0.000000\n",
        "25%      182.000000\n",
        "50%      187.000000\n",
        "75%      189.000000\n",
        "max      189.000000\n",
        "dtype: float64\n",
        "Time to execute model 'mandatory_scheduling': 3.31s\n",
        "Total time to execute: 3.31s\n"
       ]
      }
     ],
     "prompt_number": 10
    },
    {
     "cell_type": "code",
     "collapsed": false,
     "input": [
      "sim.run(['non_mandatory_tour_frequency'])"
     ],
     "language": "python",
     "metadata": {},
     "outputs": [
      {
       "output_type": "stream",
       "stream": "stdout",
       "text": [
        "Running model 'non_mandatory_tour_frequency'\n",
        "162 persons run for non-mandatory tour model"
       ]
      },
      {
       "output_type": "stream",
       "stream": "stdout",
       "text": [
        "\n",
        "Running segment 'driving' of size 4\n",
        "WARNING: Some columns have no variability:\n"
       ]
      },
      {
       "output_type": "stream",
       "stream": "stdout",
       "text": [
        "['num_joint_tours*(tot_tours == 0)' 'num_joint_tours*(tot_tours == 1)'\n",
        " 'num_joint_tours*(tot_tours == 2)' 'num_joint_tours*(tot_tours == 3)'\n",
        " 'num_joint_tours*(tot_tours == 4)' 'num_joint_tours*(tot_tours >  4)'\n",
        " 'num_shop_j' 'num_main_j' 'num_eat_j' 'num_visi_j' 'num_disc_j'\n",
        " 'max_window*(tot_tours == 0)' 'max_window*(tot_tours == 1)'\n",
        " 'max_window*(tot_tours == 2)' 'max_window*(tot_tours == 3)'\n",
        " 'max_window*(tot_tours == 4)' 'max_window*(tot_tours >  4)'\n",
        " '(100 < income_in_thousands) & (tot_tours == 1)'\n",
        " '(100 < income_in_thousands) & (tot_tours == 2)'\n",
        " '(100 < income_in_thousands) & (tot_tours == 3)'\n",
        " '(100 < income_in_thousands) & (tot_tours == 4)'\n",
        " '(100 < income_in_thousands) & (tot_tours >  4)'\n",
        " '(100 < income_in_thousands) * shopping'\n",
        " '(100 < income_in_thousands) * othmaint'\n",
        " '(100 < income_in_thousands) * eatout'\n",
        " '(100 < income_in_thousands) * othdiscr'\n",
        " '(100 < income_in_thousands) * social' 'no_cars & (tot_tours == 1)'\n",
        " 'no_cars & (tot_tours == 2)' 'no_cars & (tot_tours == 3)'\n",
        " 'no_cars & (tot_tours == 4)' 'no_cars & (tot_tours >  4)'\n",
        " '(car_sufficiency > 0) & (tot_tours == 1)'\n",
        " '(car_sufficiency > 0) & (tot_tours == 2)'\n",
        " '(car_sufficiency > 0) & (tot_tours == 3)'\n",
        " '(car_sufficiency > 0) & (tot_tours == 4)'\n",
        " '(car_sufficiency > 0) & (tot_tours > 4)' 'has_retiree & (tot_tours == 1)'\n",
        " 'has_retiree & (tot_tours == 2)' 'has_retiree & (tot_tours == 3)'\n",
        " 'has_retiree & (tot_tours == 4)' 'has_retiree & (tot_tours == 5)'\n",
        " 'has_retiree * escort' 'has_driving_kid * escort'\n",
        " 'has_school_kid_at_home * escort' 'has_preschool_kid_at_home * escort'\n",
        " 'has_retiree * shopping' 'has_driving_kid * shopping'\n",
        " 'has_school_kid_at_home * shopping' 'has_preschool_kid_at_home * shopping'\n",
        " 'has_retiree * othmaint' 'has_driving_kid * othmaint'\n",
        " 'has_school_kid_at_home * othmaint' 'has_preschool_kid_at_home * othmaint'\n",
        " 'has_retiree * eatout' 'has_driving_kid * eatout'\n",
        " 'has_school_kid_at_home * eatout' 'has_preschool_kid_at_home * eatout'\n",
        " 'has_retiree * othdiscr' 'has_driving_kid * othdiscr'\n",
        " 'has_school_kid_at_home * othdiscr' 'has_preschool_kid_at_home * othdiscr'\n",
        " 'escort * no_cars']\n",
        "Running segment 'full' of size 47\n",
        "WARNING: Some columns have no variability:\n"
       ]
      },
      {
       "output_type": "stream",
       "stream": "stdout",
       "text": [
        "['num_joint_tours*(tot_tours == 0)' 'num_joint_tours*(tot_tours == 1)'\n",
        " 'num_joint_tours*(tot_tours == 2)' 'num_joint_tours*(tot_tours == 3)'\n",
        " 'num_joint_tours*(tot_tours == 4)' 'num_joint_tours*(tot_tours >  4)'\n",
        " 'num_shop_j' 'num_main_j' 'num_eat_j' 'num_visi_j' 'num_disc_j'\n",
        " 'max_window*(tot_tours == 0)' 'max_window*(tot_tours == 1)'\n",
        " 'max_window*(tot_tours == 2)' 'max_window*(tot_tours == 3)'\n",
        " 'max_window*(tot_tours == 4)' 'max_window*(tot_tours >  4)'\n",
        " 'has_school_kid_at_home * escort' 'has_preschool_kid_at_home * escort'\n",
        " 'has_school_kid_at_home * shopping' 'has_preschool_kid_at_home * shopping'\n",
        " 'has_school_kid_at_home * othmaint' 'has_preschool_kid_at_home * othmaint'\n",
        " 'has_school_kid_at_home * eatout' 'has_preschool_kid_at_home * eatout'\n",
        " 'has_school_kid_at_home * othdiscr' 'has_preschool_kid_at_home * othdiscr']\n",
        "Running segment 'nonwork' of size 40"
       ]
      },
      {
       "output_type": "stream",
       "stream": "stdout",
       "text": [
        "\n",
        "WARNING: Some columns have no variability:\n"
       ]
      },
      {
       "output_type": "stream",
       "stream": "stdout",
       "text": [
        "['num_joint_tours*(tot_tours == 0)' 'num_joint_tours*(tot_tours == 1)'\n",
        " 'num_joint_tours*(tot_tours == 2)' 'num_joint_tours*(tot_tours == 3)'\n",
        " 'num_joint_tours*(tot_tours == 4)' 'num_joint_tours*(tot_tours >  4)'\n",
        " 'num_shop_j' 'num_main_j' 'num_eat_j' 'num_visi_j' 'num_disc_j'\n",
        " 'max_window*(tot_tours == 0)' 'max_window*(tot_tours == 1)'\n",
        " 'max_window*(tot_tours == 2)' 'max_window*(tot_tours == 3)'\n",
        " 'max_window*(tot_tours == 4)' 'max_window*(tot_tours >  4)'\n",
        " 'has_school_kid_at_home * escort' 'has_preschool_kid_at_home * escort'\n",
        " 'has_school_kid_at_home * shopping' 'has_preschool_kid_at_home * shopping'\n",
        " 'has_school_kid_at_home * othmaint' 'has_preschool_kid_at_home * othmaint'\n",
        " 'has_school_kid_at_home * eatout' 'has_preschool_kid_at_home * eatout'\n",
        " 'has_school_kid_at_home * othdiscr' 'has_preschool_kid_at_home * othdiscr']\n",
        "Running segment 'part' of size 10"
       ]
      },
      {
       "output_type": "stream",
       "stream": "stdout",
       "text": [
        "\n",
        "WARNING: Some columns have no variability:\n"
       ]
      },
      {
       "output_type": "stream",
       "stream": "stdout",
       "text": [
        "['num_joint_tours*(tot_tours == 0)' 'num_joint_tours*(tot_tours == 1)'\n",
        " 'num_joint_tours*(tot_tours == 2)' 'num_joint_tours*(tot_tours == 3)'\n",
        " 'num_joint_tours*(tot_tours == 4)' 'num_joint_tours*(tot_tours >  4)'\n",
        " 'num_shop_j' 'num_main_j' 'num_eat_j' 'num_visi_j' 'num_disc_j'\n",
        " 'max_window*(tot_tours == 0)' 'max_window*(tot_tours == 1)'\n",
        " 'max_window*(tot_tours == 2)' 'max_window*(tot_tours == 3)'\n",
        " 'max_window*(tot_tours == 4)' 'max_window*(tot_tours >  4)'\n",
        " 'no_cars & (tot_tours == 1)' 'no_cars & (tot_tours == 2)'\n",
        " 'no_cars & (tot_tours == 3)' 'no_cars & (tot_tours == 4)'\n",
        " 'no_cars & (tot_tours >  4)' '(car_sufficiency > 0) & (tot_tours == 1)'\n",
        " '(car_sufficiency > 0) & (tot_tours == 2)'\n",
        " '(car_sufficiency > 0) & (tot_tours == 3)'\n",
        " '(car_sufficiency > 0) & (tot_tours == 4)'\n",
        " '(car_sufficiency > 0) & (tot_tours > 4)' 'has_part_time * escort'\n",
        " 'has_university * escort' 'has_school_kid_at_home * escort'\n",
        " 'has_preschool_kid_at_home * escort' 'has_part_time * shopping'\n",
        " 'has_university * shopping' 'has_school_kid_at_home * shopping'\n",
        " 'has_preschool_kid_at_home * shopping' 'has_part_time * othmaint'\n",
        " 'has_university * othmaint' 'has_school_kid_at_home * othmaint'\n",
        " 'has_preschool_kid_at_home * othmaint' 'has_part_time * eatout'\n",
        " 'has_university * eatout' 'has_school_kid_at_home * eatout'\n",
        " 'has_preschool_kid_at_home * eatout' 'has_part_time * othdiscr'\n",
        " 'has_university * othdiscr' 'has_school_kid_at_home * othdiscr'\n",
        " 'has_preschool_kid_at_home * othdiscr' 'escort * no_cars']\n",
        "Running segment 'preschool' of size 13\n",
        "WARNING: Some columns have no variability:\n"
       ]
      },
      {
       "output_type": "stream",
       "stream": "stdout",
       "text": [
        "['num_joint_tours*(tot_tours == 0)' 'num_joint_tours*(tot_tours == 1)'\n",
        " 'num_joint_tours*(tot_tours == 2)' 'num_joint_tours*(tot_tours == 3)'\n",
        " 'num_joint_tours*(tot_tours == 4)' 'num_joint_tours*(tot_tours >  4)'\n",
        " 'num_shop_j' 'num_main_j' 'num_eat_j' 'num_visi_j' 'num_disc_j'\n",
        " 'max_window*(tot_tours == 0)' 'max_window*(tot_tours == 1)'\n",
        " 'max_window*(tot_tours == 2)' 'max_window*(tot_tours == 3)'\n",
        " 'max_window*(tot_tours == 4)' 'max_window*(tot_tours >  4)'\n",
        " 'no_cars & (tot_tours == 1)' 'no_cars & (tot_tours == 2)'\n",
        " 'no_cars & (tot_tours == 3)' 'no_cars & (tot_tours == 4)'\n",
        " 'no_cars & (tot_tours >  4)' '(car_sufficiency > 0) & (tot_tours == 1)'\n",
        " '(car_sufficiency > 0) & (tot_tours == 2)'\n",
        " '(car_sufficiency > 0) & (tot_tours == 3)'\n",
        " '(car_sufficiency > 0) & (tot_tours == 4)'\n",
        " '(car_sufficiency > 0) & (tot_tours > 4)' 'has_retiree & (tot_tours == 1)'\n",
        " 'has_retiree & (tot_tours == 2)' 'has_retiree & (tot_tours == 3)'\n",
        " 'has_retiree & (tot_tours == 4)' 'has_retiree & (tot_tours == 5)'\n",
        " 'has_retiree * escort' 'has_university * escort'\n",
        " 'has_school_kid_at_home * escort' 'has_preschool_kid_at_home * escort'\n",
        " 'has_retiree * shopping' 'has_university * shopping'\n",
        " 'has_school_kid_at_home * shopping' 'has_preschool_kid_at_home * shopping'\n",
        " 'has_retiree * othmaint' 'has_university * othmaint'\n",
        " 'has_school_kid_at_home * othmaint' 'has_preschool_kid_at_home * othmaint'\n",
        " 'has_retiree * eatout' 'has_university * eatout'\n",
        " 'has_school_kid_at_home * eatout' 'has_preschool_kid_at_home * eatout'\n",
        " 'has_retiree * othdiscr' 'has_university * othdiscr'\n",
        " 'has_school_kid_at_home * othdiscr' 'has_preschool_kid_at_home * othdiscr'\n",
        " 'escort * no_cars']\n",
        "Running segment 'retired' of size 18\n",
        "WARNING: Some columns have no variability:\n"
       ]
      },
      {
       "output_type": "stream",
       "stream": "stdout",
       "text": [
        "['num_joint_tours*(tot_tours == 0)' 'num_joint_tours*(tot_tours == 1)'\n",
        " 'num_joint_tours*(tot_tours == 2)' 'num_joint_tours*(tot_tours == 3)'\n",
        " 'num_joint_tours*(tot_tours == 4)' 'num_joint_tours*(tot_tours >  4)'\n",
        " 'num_shop_j' 'num_main_j' 'num_eat_j' 'num_visi_j' 'num_disc_j'\n",
        " 'max_window*(tot_tours == 0)' 'max_window*(tot_tours == 1)'\n",
        " 'max_window*(tot_tours == 2)' 'max_window*(tot_tours == 3)'\n",
        " 'max_window*(tot_tours == 4)' 'max_window*(tot_tours >  4)'\n",
        " '(car_sufficiency > 0) & (tot_tours == 1)'\n",
        " '(car_sufficiency > 0) & (tot_tours == 2)'\n",
        " '(car_sufficiency > 0) & (tot_tours == 3)'\n",
        " '(car_sufficiency > 0) & (tot_tours == 4)'\n",
        " '(car_sufficiency > 0) & (tot_tours > 4)'\n",
        " 'has_preschool_kid & (tot_tours == 1)'\n",
        " 'has_preschool_kid & (tot_tours == 2)'\n",
        " 'has_preschool_kid & (tot_tours == 3)'\n",
        " 'has_preschool_kid & (tot_tours == 4)'\n",
        " 'has_preschool_kid & (tot_tours == 5)' 'has_university * escort'\n",
        " 'has_preschool_kid * escort' 'has_school_kid_at_home * escort'\n",
        " 'has_preschool_kid_at_home * escort' 'has_university * shopping'\n",
        " 'has_preschool_kid * shopping' 'has_school_kid_at_home * shopping'\n",
        " 'has_preschool_kid_at_home * shopping' 'has_university * othmaint'\n",
        " 'has_preschool_kid * othmaint' 'has_school_kid_at_home * othmaint'\n",
        " 'has_preschool_kid_at_home * othmaint' 'has_university * eatout'\n",
        " 'has_preschool_kid * eatout' 'has_school_kid_at_home * eatout'\n",
        " 'has_preschool_kid_at_home * eatout' 'has_university * othdiscr'\n",
        " 'has_preschool_kid * othdiscr' 'has_school_kid_at_home * othdiscr'\n",
        " 'has_preschool_kid_at_home * othdiscr']\n",
        "Running segment 'school' of size 23\n",
        "WARNING: Some columns have no variability:\n"
       ]
      },
      {
       "output_type": "stream",
       "stream": "stdout",
       "text": [
        "['num_joint_tours*(tot_tours == 0)' 'num_joint_tours*(tot_tours == 1)'\n",
        " 'num_joint_tours*(tot_tours == 2)' 'num_joint_tours*(tot_tours == 3)'\n",
        " 'num_joint_tours*(tot_tours == 4)' 'num_joint_tours*(tot_tours >  4)'\n",
        " 'num_shop_j' 'num_main_j' 'num_eat_j' 'num_visi_j' 'num_disc_j'\n",
        " 'max_window*(tot_tours == 0)' 'max_window*(tot_tours == 1)'\n",
        " 'max_window*(tot_tours == 2)' 'max_window*(tot_tours == 3)'\n",
        " 'max_window*(tot_tours == 4)' 'max_window*(tot_tours >  4)'\n",
        " '(car_sufficiency > 0) & (tot_tours == 1)'\n",
        " '(car_sufficiency > 0) & (tot_tours == 2)'\n",
        " '(car_sufficiency > 0) & (tot_tours == 3)'\n",
        " '(car_sufficiency > 0) & (tot_tours == 4)'\n",
        " '(car_sufficiency > 0) & (tot_tours > 4)'\n",
        " 'has_school_kid_at_home * escort' 'has_preschool_kid_at_home * escort'\n",
        " 'has_school_kid_at_home * shopping' 'has_preschool_kid_at_home * shopping'\n",
        " 'has_school_kid_at_home * othmaint' 'has_preschool_kid_at_home * othmaint'\n",
        " 'has_school_kid_at_home * eatout' 'has_preschool_kid_at_home * eatout'\n",
        " 'has_school_kid_at_home * othdiscr' 'has_preschool_kid_at_home * othdiscr']\n",
        "Running segment 'university' of size 7"
       ]
      },
      {
       "output_type": "stream",
       "stream": "stdout",
       "text": [
        "\n",
        "WARNING: Some columns have no variability:\n"
       ]
      },
      {
       "output_type": "stream",
       "stream": "stdout",
       "text": [
        "['num_joint_tours*(tot_tours == 0)' 'num_joint_tours*(tot_tours == 1)'\n",
        " 'num_joint_tours*(tot_tours == 2)' 'num_joint_tours*(tot_tours == 3)'\n",
        " 'num_joint_tours*(tot_tours == 4)' 'num_joint_tours*(tot_tours >  4)'\n",
        " 'num_shop_j' 'num_main_j' 'num_eat_j' 'num_visi_j' 'num_disc_j'\n",
        " 'max_window*(tot_tours == 0)' 'max_window*(tot_tours == 1)'\n",
        " 'max_window*(tot_tours == 2)' 'max_window*(tot_tours == 3)'\n",
        " 'max_window*(tot_tours == 4)' 'max_window*(tot_tours >  4)'\n",
        " '(car_sufficiency > 0) & (tot_tours == 1)'\n",
        " '(car_sufficiency > 0) & (tot_tours == 2)'\n",
        " '(car_sufficiency > 0) & (tot_tours == 3)'\n",
        " '(car_sufficiency > 0) & (tot_tours == 4)'\n",
        " '(car_sufficiency > 0) & (tot_tours > 4)' 'has_retiree & (tot_tours == 1)'\n",
        " 'has_retiree & (tot_tours == 2)' 'has_retiree & (tot_tours == 3)'\n",
        " 'has_retiree & (tot_tours == 4)' 'has_retiree & (tot_tours == 5)'\n",
        " 'has_preschool_kid & (tot_tours == 1)'\n",
        " 'has_preschool_kid & (tot_tours == 2)'\n",
        " 'has_preschool_kid & (tot_tours == 3)'\n",
        " 'has_preschool_kid & (tot_tours == 4)'\n",
        " 'has_preschool_kid & (tot_tours == 5)' 'has_part_time * escort'\n",
        " 'has_retiree * escort' 'has_university * escort'\n",
        " 'has_preschool_kid * escort' 'has_school_kid_at_home * escort'\n",
        " 'has_preschool_kid_at_home * escort' 'has_part_time * shopping'\n",
        " 'has_retiree * shopping' 'has_university * shopping'\n",
        " 'has_preschool_kid * shopping' 'has_school_kid_at_home * shopping'\n",
        " 'has_preschool_kid_at_home * shopping' 'has_part_time * othmaint'\n",
        " 'has_retiree * othmaint' 'has_university * othmaint'\n",
        " 'has_preschool_kid * othmaint' 'has_school_kid_at_home * othmaint'\n",
        " 'has_preschool_kid_at_home * othmaint' 'has_part_time * eatout'\n",
        " 'has_retiree * eatout' 'has_university * eatout'\n",
        " 'has_preschool_kid * eatout' 'has_school_kid_at_home * eatout'\n",
        " 'has_preschool_kid_at_home * eatout' 'has_part_time * othdiscr'\n",
        " 'has_retiree * othdiscr' 'has_university * othdiscr'\n",
        " 'has_preschool_kid * othdiscr' 'has_school_kid_at_home * othdiscr'\n",
        " 'has_preschool_kid_at_home * othdiscr']\n",
        "Choices:\n",
        "0     70\n",
        "16    23\n",
        "1     16\n",
        "32    11\n",
        "8     11\n",
        "4      7\n",
        "2      5\n",
        "17     4\n",
        "13     2\n",
        "9      2\n",
        "10     2\n",
        "12     1\n",
        "80     1\n",
        "68     1\n",
        "82     1\n",
        "18     1\n",
        "20     1\n",
        "33     1\n",
        "40     1\n",
        "88     1\n",
        "dtype: int64\n",
        "Time to execute model 'non_mandatory_tour_frequency': 9.15s\n",
        "Total time to execute: 9.15s\n"
       ]
      }
     ],
     "prompt_number": 11
    },
    {
     "cell_type": "code",
     "collapsed": false,
     "input": [
      "sim.get_table(\"non_mandatory_tours\").tour_type.value_counts()"
     ],
     "language": "python",
     "metadata": {},
     "outputs": [
      {
       "metadata": {},
       "output_type": "pyout",
       "prompt_number": 12,
       "text": [
        "shopping    32\n",
        "othdiscr    25\n",
        "escort      21\n",
        "othmaint    20\n",
        "eatout      12\n",
        "social       9\n",
        "dtype: int64"
       ]
      }
     ],
     "prompt_number": 12
    },
    {
     "cell_type": "code",
     "collapsed": false,
     "input": [
      "sim.run([\"destination_choice\"])"
     ],
     "language": "python",
     "metadata": {},
     "outputs": [
      {
       "output_type": "stream",
       "stream": "stdout",
       "text": [
        "Running model 'destination_choice'\n",
        "Index([u'university', u'highschool', u'gradeschool', u'escortkids', u'escortnokids', u'shopping', u'eatout', u'othmaint', u'social', u'othdiscr', u'workbased'], dtype='object')"
       ]
      },
      {
       "output_type": "stream",
       "stream": "stdout",
       "text": [
        "\n",
        "eatout\n",
        "Running segment 'eatout' of size 12\n",
        "Index([u'university', u'highschool', u'gradeschool', u'escortkids', u'escortnokids', u'shopping', u'eatout', u'othmaint', u'social', u'othdiscr', u'workbased'], dtype='object')"
       ]
      },
      {
       "output_type": "stream",
       "stream": "stdout",
       "text": [
        "\n",
        "shopping\n",
        "Running segment 'shopping' of size 21\n",
        "Index([u'university', u'highschool', u'gradeschool', u'escortkids', u'escortnokids', u'shopping', u'eatout', u'othmaint', u'social', u'othdiscr', u'workbased'], dtype='object')"
       ]
      },
      {
       "output_type": "stream",
       "stream": "stdout",
       "text": [
        "\n",
        "othdiscr\n",
        "Running segment 'othdiscr' of size 25\n",
        "Index([u'university', u'highschool', u'gradeschool', u'escortkids', u'escortnokids', u'shopping', u'eatout', u'othmaint', u'social', u'othdiscr', u'workbased'], dtype='object')"
       ]
      },
      {
       "output_type": "stream",
       "stream": "stdout",
       "text": [
        "\n",
        "othmaint\n",
        "Running segment 'othmaint' of size 20\n",
        "Index([u'university', u'highschool', u'gradeschool', u'escortkids', u'escortnokids', u'shopping', u'eatout', u'othmaint', u'social', u'othdiscr', u'workbased'], dtype='object')"
       ]
      },
      {
       "output_type": "stream",
       "stream": "stdout",
       "text": [
        "\n",
        "shopping\n",
        "Running segment 'shopping' of size 32\n",
        "Index([u'university', u'highschool', u'gradeschool', u'escortkids', u'escortnokids', u'shopping', u'eatout', u'othmaint', u'social', u'othdiscr', u'workbased'], dtype='object')"
       ]
      },
      {
       "output_type": "stream",
       "stream": "stdout",
       "text": [
        "\n",
        "social\n",
        "Running segment 'social' of size 9\n",
        "Choices:\n"
       ]
      },
      {
       "output_type": "stream",
       "stream": "stdout",
       "text": [
        "count     119.000000\n",
        "mean      803.058824\n",
        "std       427.918282\n",
        "min         4.000000\n",
        "25%       469.500000\n",
        "50%       947.000000\n",
        "75%      1166.500000\n",
        "max      1441.000000\n",
        "Name: TAZ, dtype: float64\n",
        "Time to execute model 'destination_choice': 3.45s\n",
        "Total time to execute: 3.45s\n"
       ]
      }
     ],
     "prompt_number": 13
    },
    {
     "cell_type": "code",
     "collapsed": false,
     "input": [
      "sim.run([\"non_mandatory_scheduling\"])"
     ],
     "language": "python",
     "metadata": {},
     "outputs": [
      {
       "output_type": "stream",
       "stream": "stdout",
       "text": [
        "Running model 'non_mandatory_scheduling'\n",
        "Running 119 non-mandatory tour scheduling choices"
       ]
      },
      {
       "output_type": "stream",
       "stream": "stdout",
       "text": [
        "\n",
        "Running 92 #1 tour choices\n",
        "WARNING: Some columns have no variability:\n"
       ]
      },
      {
       "output_type": "stream",
       "stream": "stdout",
       "text": [
        "['(start <= end_previous) & (tour_num > 1)'\n",
        " '(tour_type == \"oth_maint\") * start'\n",
        " '(tour_type == \"oth_maint\") * duration' 'num_mand  * start'\n",
        " 'num_joint_tours * start' '(tour_num > 1) * duration'\n",
        " '(tour_type == \"oth_maint\") & (start < 7)'\n",
        " '(tour_type == \"othdisc\") & (duration < 2)']\n",
        "Running 19 #2 tour choices"
       ]
      },
      {
       "output_type": "stream",
       "stream": "stdout",
       "text": [
        "\n",
        "WARNING: Some columns have no variability:\n"
       ]
      },
      {
       "output_type": "stream",
       "stream": "stdout",
       "text": [
        "['(tour_type == \"shopping\") * start' '(tour_type == \"shopping\") * duration'\n",
        " '(tour_type == \"oth_maint\") * start'\n",
        " '(tour_type == \"oth_maint\") * duration' '(ptype == 6) * start'\n",
        " '(ptype == 6) * duration' '(ptype == 7) * start' '(ptype == 7) * duration'\n",
        " 'num_mand  * start' 'num_joint_tours * start' '(tour_num == 1) * start'\n",
        " '(tour_type == \"oth_maint\") & (start < 7)'\n",
        " '(tour_type == \"shopping\") & (start < 8)'\n",
        " '(tour_type == \"shopping\") & (end > 22)' '(ptype == 7) & (end > 22)'\n",
        " '(tour_type == \"shopping\") & (duration < 2)'\n",
        " '(tour_type == \"othdisc\") & (duration < 2)']\n",
        "Running 6 #3 tour choices\n",
        "WARNING: Some columns have no variability:\n"
       ]
      },
      {
       "output_type": "stream",
       "stream": "stdout",
       "text": [
        "['(tour_type == \"oth_maint\") * start'\n",
        " '(tour_type == \"oth_maint\") * duration' '(tour_type == \"social\") * start'\n",
        " '(tour_type == \"social\") * duration' '(ptype == 6) * start'\n",
        " '(ptype == 6) * duration' '(ptype == 7) * start' '(ptype == 7) * duration'\n",
        " 'destination_in_cbd * duration' 'num_mand  * start'\n",
        " 'num_joint_tours * start' '(tour_num == 1) * start'\n",
        " '(tour_type == \"oth_maint\") & (start < 7)' '(ptype == 7) & (end > 22)'\n",
        " '(tour_type == \"othdisc\") & (duration < 2)'\n",
        " '(tour_type == \"escort\") & (start < 6)'\n",
        " '(tour_type == \"escort\") & (start == 6)'\n",
        " '(tour_type == \"escort\") & (start == 7)'\n",
        " '(tour_type == \"escort\") & (start == 8)'\n",
        " '(tour_type == \"escort\") & (start == 9)'\n",
        " '(tour_type == \"escort\") & (start > 9) & (start < 13)'\n",
        " '(tour_type == \"escort\") & (start > 12) & (start < 16)'\n",
        " '(tour_type == \"escort\") & (start > 15) & (start < 19)'\n",
        " '(tour_type == \"escort\") & (start > 18) & (start < 22)'\n",
        " '(tour_type == \"escort\") & (start > 21)'\n",
        " '(tour_type == \"escort\") & (end < 7)'\n",
        " '(tour_type == \"escort\") & (end > 6) & (end < 10)'\n",
        " '(tour_type == \"escort\") & (end > 9) & (end < 13)'\n",
        " '(tour_type == \"escort\") & (end > 12) & (end < 15)'\n",
        " '(tour_type == \"escort\") & (end == 15)'\n",
        " '(tour_type == \"escort\") & (end == 16)'\n",
        " '(tour_type == \"escort\") & (end == 17)'\n",
        " '(tour_type == \"escort\") & (end == 18)'\n",
        " '(tour_type == \"escort\") & (end > 18) & (end < 22)'\n",
        " '(tour_type == \"escort\") & (end > 21)'\n",
        " '(tour_type == \"escort\") & (duration < 2)'\n",
        " '(tour_type == \"escort\") & (duration > 1) & (duration < 4)'\n",
        " '(tour_type == \"escort\") & (duration > 3) & (duration < 6)'\n",
        " '(tour_type == \"escort\") & (duration > 5) & (duration < 8)'\n",
        " '(tour_type == \"escort\") & (duration > 7) & (duration < 11)'\n",
        " '(tour_type == \"escort\") & (duration > 10) & (duration < 14)'\n",
        " '(tour_type == \"escort\") & (duration > 13) & (duration < 19)']\n",
        "Running 2 #4 tour choices\n",
        "WARNING: Some columns have no variability:\n"
       ]
      },
      {
       "output_type": "stream",
       "stream": "stdout",
       "text": [
        "['(tour_type == \"shopping\") * start' '(tour_type == \"shopping\") * duration'\n",
        " '(tour_type == \"oth_maint\") * start'\n",
        " '(tour_type == \"oth_maint\") * duration' '(tour_type == \"eatout\") * start'\n",
        " '(ptype == 6) * start' '(ptype == 6) * duration' '(ptype == 7) * start'\n",
        " '(ptype == 7) * duration' 'destination_in_cbd * duration'\n",
        " 'num_mand  * start' 'num_joint_tours * start' '(tour_num == 1) * start'\n",
        " '(tour_type == \"oth_maint\") & (start < 7)'\n",
        " '(tour_type == \"shopping\") & (start < 8)'\n",
        " '(tour_type == \"shopping\") & (end > 22)' '(ptype == 7) & (end > 22)'\n",
        " '(ptype == 3) & (end > 22)' '(tour_type == \"shopping\") & (duration < 2)'\n",
        " '(tour_type == \"othdisc\") & (duration < 2)'\n",
        " '(tour_type == \"escort\") & (start < 6)'\n",
        " '(tour_type == \"escort\") & (start == 6)'\n",
        " '(tour_type == \"escort\") & (start == 7)'\n",
        " '(tour_type == \"escort\") & (start == 8)'\n",
        " '(tour_type == \"escort\") & (start == 9)'\n",
        " '(tour_type == \"escort\") & (start > 9) & (start < 13)'\n",
        " '(tour_type == \"escort\") & (start > 12) & (start < 16)'\n",
        " '(tour_type == \"escort\") & (start > 15) & (start < 19)'\n",
        " '(tour_type == \"escort\") & (start > 18) & (start < 22)'\n",
        " '(tour_type == \"escort\") & (start > 21)'\n",
        " '(tour_type == \"escort\") & (end < 7)'\n",
        " '(tour_type == \"escort\") & (end > 6) & (end < 10)'\n",
        " '(tour_type == \"escort\") & (end > 9) & (end < 13)'\n",
        " '(tour_type == \"escort\") & (end > 12) & (end < 15)'\n",
        " '(tour_type == \"escort\") & (end == 15)'\n",
        " '(tour_type == \"escort\") & (end == 16)'\n",
        " '(tour_type == \"escort\") & (end == 17)'\n",
        " '(tour_type == \"escort\") & (end == 18)'\n",
        " '(tour_type == \"escort\") & (end > 18) & (end < 22)'\n",
        " '(tour_type == \"escort\") & (end > 21)'\n",
        " '(tour_type == \"escort\") & (duration < 2)'\n",
        " '(tour_type == \"escort\") & (duration > 1) & (duration < 4)'\n",
        " '(tour_type == \"escort\") & (duration > 3) & (duration < 6)'\n",
        " '(tour_type == \"escort\") & (duration > 5) & (duration < 8)'\n",
        " '(tour_type == \"escort\") & (duration > 7) & (duration < 11)'\n",
        " '(tour_type == \"escort\") & (duration > 10) & (duration < 14)'\n",
        " '(tour_type == \"escort\") & (duration > 13) & (duration < 19)']\n",
        "Choices:\n",
        "count    119.000000\n",
        "mean     160.117647\n",
        "std       66.806599\n",
        "min        0.000000\n",
        "25%      187.000000\n",
        "50%      188.000000\n",
        "75%      189.000000\n",
        "max      189.000000\n",
        "dtype: float64\n",
        "Time to execute model 'non_mandatory_scheduling': 4.70s\n",
        "Total time to execute: 4.70s\n"
       ]
      }
     ],
     "prompt_number": 14
    },
    {
     "cell_type": "code",
     "collapsed": false,
     "input": [
      "sim.run(['mode_choice_simulate'])"
     ],
     "language": "python",
     "metadata": {},
     "outputs": [
      {
       "output_type": "stream",
       "stream": "stdout",
       "text": [
        "Running model 'mode_choice_simulate'\n",
        "WARNING, skipping key: "
       ]
      },
      {
       "output_type": "stream",
       "stream": "stdout",
       "text": [
        " DISTANCE\n",
        "WARNING, skipping key: "
       ]
      },
      {
       "output_type": "stream",
       "stream": "stdout",
       "text": [
        " DISTANCE\n",
        "WARNING: Some columns have no variability:\n"
       ]
      },
      {
       "output_type": "stream",
       "stream": "stdout",
       "text": [
        "['2 * terminal_time' '@df.daily_parking_cost / costShareSr2   '\n",
        " 'daily_parking_cost' 'hov2_available == False' 'is_joint'\n",
        " 'is_joint & (number_of_participants > 2)' 'sov_available == False'\n",
        " 'sovtoll_available == False' 'work_tour_is_drive']\n",
        "Choices:\n",
        "1    28\n",
        "2    25\n",
        "0    25\n",
        "dtype: int64\n",
        "Time to execute model 'mode_choice_simulate': 4.63s\n",
        "Total time to execute: 4.63s\n"
       ]
      }
     ],
     "prompt_number": 15
    },
    {
     "cell_type": "code",
     "collapsed": false,
     "input": [
      "sim.get_table(\"land_use\").to_frame().info()"
     ],
     "language": "python",
     "metadata": {},
     "outputs": [
      {
       "output_type": "stream",
       "stream": "stdout",
       "text": [
        "<class 'pandas.core.frame.DataFrame'>\n",
        "Int64Index: 1454 entries, 1 to 1454\n",
        "Data columns (total 49 columns):\n",
        "DISTRICT              1454 non-null int64\n",
        "SD                    1454 non-null int64\n",
        "COUNTY                1454 non-null int64\n",
        "TOTHH                 1454 non-null int64\n",
        "HHPOP                 1454 non-null int64\n",
        "TOTPOP                1454 non-null int64\n",
        "EMPRES                1454 non-null int64\n",
        "SFDU                  1454 non-null int64\n",
        "MFDU                  1454 non-null int64\n",
        "HHINCQ1               1454 non-null int64\n",
        "HHINCQ2               1454 non-null int64\n",
        "HHINCQ3               1454 non-null int64\n",
        "HHINCQ4               1454 non-null int64\n",
        "TOTACRE               1454 non-null float64\n",
        "RESACRE               1454 non-null int64\n",
        "CIACRE                1454 non-null int64\n",
        "SHPOP62P              1454 non-null float64\n",
        "TOTEMP                1454 non-null int64\n",
        "AGE0004               1454 non-null int64\n",
        "AGE0519               1454 non-null int64\n",
        "AGE2044               1454 non-null int64\n",
        "AGE4564               1454 non-null int64\n",
        "AGE65P                1454 non-null int64\n",
        "RETEMPN               1454 non-null int64\n",
        "FPSEMPN               1454 non-null int64\n",
        "HEREMPN               1454 non-null int64\n",
        "OTHEMPN               1454 non-null int64\n",
        "AGREMPN               1454 non-null int64\n",
        "MWTEMPN               1454 non-null int64\n",
        "PRKCST                1454 non-null float64\n",
        "OPRKCST               1454 non-null float64\n",
        "area_type             1454 non-null int64\n",
        "HSENROLL              1454 non-null float64\n",
        "COLLFTE               1454 non-null float64\n",
        "COLLPTE               1454 non-null float64\n",
        "TOPOLOGY              1454 non-null int64\n",
        "TERMINAL              1454 non-null float64\n",
        "ZERO                  1454 non-null int64\n",
        "hhlds                 1454 non-null int64\n",
        "sftaz                 1454 non-null int64\n",
        "gqpop                 1454 non-null int64\n",
        "employment_density    1454 non-null float64\n",
        "total_acres           1454 non-null float64\n",
        "county_name           1454 non-null object\n",
        "density_index         1453 non-null float64\n",
        "household_density     1454 non-null float64\n",
        "county_id             1454 non-null int64\n",
        "total_households      1454 non-null int64\n",
        "total_employment      1454 non-null int64\n",
        "dtypes: float64(12), int64(36), object(1)\n",
        "memory usage: 568.0 KB\n"
       ]
      }
     ],
     "prompt_number": 16
    },
    {
     "cell_type": "code",
     "collapsed": false,
     "input": [
      "sim.get_table(\"households\").to_frame().info()"
     ],
     "language": "python",
     "metadata": {},
     "outputs": [
      {
       "output_type": "stream",
       "stream": "stdout",
       "text": [
        "<class 'pandas.core.frame.DataFrame'>\n",
        "Int64Index: 100 entries, 1012634 to 1307265\n",
        "Data columns (total 67 columns):\n",
        "TAZ                            100 non-null int64\n",
        "SERIALNO                       100 non-null int64\n",
        "PUMA5                          100 non-null int64\n",
        "income                         100 non-null int64\n",
        "PERSONS                        100 non-null int64\n",
        "HHT                            100 non-null int64\n",
        "UNITTYPE                       100 non-null int64\n",
        "NOC                            100 non-null int64\n",
        "BLDGSZ                         100 non-null int64\n",
        "TENURE                         100 non-null int64\n",
        "VEHICL                         100 non-null int64\n",
        "hinccat1                       100 non-null int64\n",
        "hinccat2                       100 non-null int64\n",
        "hhagecat                       100 non-null int64\n",
        "hsizecat                       100 non-null int64\n",
        "hfamily                        100 non-null int64\n",
        "hunittype                      100 non-null int64\n",
        "hNOCcat                        100 non-null int64\n",
        "hwrkrcat                       100 non-null int64\n",
        "h0004                          100 non-null int64\n",
        "h0511                          100 non-null int64\n",
        "h1215                          100 non-null int64\n",
        "h1617                          100 non-null int64\n",
        "h1824                          100 non-null int64\n",
        "h2534                          100 non-null int64\n",
        "h3549                          100 non-null int64\n",
        "h5064                          100 non-null int64\n",
        "h6579                          100 non-null int64\n",
        "h80up                          100 non-null int64\n",
        "workers                        100 non-null int64\n",
        "hwork_f                        100 non-null int64\n",
        "hwork_p                        100 non-null int64\n",
        "huniv                          100 non-null int64\n",
        "hnwork                         100 non-null int64\n",
        "hretire                        100 non-null int64\n",
        "hpresch                        100 non-null int64\n",
        "hschpred                       100 non-null int64\n",
        "hschdriv                       100 non-null int64\n",
        "htypdwel                       100 non-null int64\n",
        "hownrent                       100 non-null int64\n",
        "hadnwst                        100 non-null int64\n",
        "hadwpst                        100 non-null int64\n",
        "hadkids                        100 non-null int64\n",
        "bucketBin                      100 non-null int64\n",
        "originalPUMA                   100 non-null int64\n",
        "hmultiunit                     100 non-null int64\n",
        "num_college_age                100 non-null float64\n",
        "non_workers                    100 non-null int64\n",
        "income_segment                 100 non-null category\n",
        "family                         100 non-null bool\n",
        "num_young_adults               100 non-null float64\n",
        "household_type                 97 non-null object\n",
        "auto_ownership                 100 non-null int64\n",
        "drivers                        100 non-null int64\n",
        "income_in_thousands            100 non-null float64\n",
        "home_is_rural                  100 non-null bool\n",
        "work_tour_auto_time_savings    100 non-null int64\n",
        "num_under16_not_at_school      100 non-null int64\n",
        "hhsize                         100 non-null int64\n",
        "num_children                   100 non-null float64\n",
        "car_sufficiency                100 non-null int64\n",
        "non_family                     100 non-null bool\n",
        "num_adolescents                100 non-null float64\n",
        "no_cars                        100 non-null bool\n",
        "num_young_children             100 non-null float64\n",
        "home_is_urban                  100 non-null bool\n",
        "home_taz                       100 non-null int64\n",
        "dtypes: bool(5), category(1), float64(6), int64(54), object(1)\n",
        "memory usage: 49.1 KB\n"
       ]
      }
     ],
     "prompt_number": 17
    },
    {
     "cell_type": "code",
     "collapsed": false,
     "input": [
      "sim.get_table(\"persons\").to_frame().info()"
     ],
     "language": "python",
     "metadata": {},
     "outputs": [
      {
       "output_type": "stream",
       "stream": "stdout",
       "text": [
        "<class 'pandas.core.frame.DataFrame'>\n",
        "Int64Index: 245 entries, 7265 to 7010942\n",
        "Data columns (total 68 columns):\n",
        "household_id                     245 non-null int64\n",
        "age                              245 non-null int64\n",
        "RELATE                           245 non-null int64\n",
        "ESR                              245 non-null int64\n",
        "GRADE                            245 non-null int64\n",
        "PNUM                             245 non-null int64\n",
        "PAUG                             245 non-null int64\n",
        "DDP                              245 non-null int64\n",
        "sex                              245 non-null int64\n",
        "WEEKS                            245 non-null int64\n",
        "HOURS                            245 non-null int64\n",
        "MSP                              245 non-null int64\n",
        "POVERTY                          245 non-null int64\n",
        "EARNS                            245 non-null int64\n",
        "pagecat                          245 non-null int64\n",
        "pemploy                          245 non-null int64\n",
        "pstudent                         245 non-null int64\n",
        "ptype                            245 non-null int64\n",
        "padkid                           245 non-null int64\n",
        "has_preschool_kid                245 non-null bool\n",
        "student_cat                      245 non-null object\n",
        "num_eat_j                        245 non-null int64\n",
        "has_driving_kid                  245 non-null bool\n",
        "home_taz                         245 non-null int64\n",
        "work_and_school_and_worker       245 non-null bool\n",
        "work_and_school_and_student      245 non-null bool\n",
        "female                           245 non-null bool\n",
        "has_preschool_kid_at_home        245 non-null bool\n",
        "has_full_time                    245 non-null bool\n",
        "is_university                    245 non-null bool\n",
        "max_window                       245 non-null int64\n",
        "employed_cat                     245 non-null object\n",
        "student_is_employed              245 non-null bool\n",
        "is_gradeschool                   245 non-null bool\n",
        "is_highschool                    245 non-null bool\n",
        "has_retiree                      245 non-null bool\n",
        "cdap_activity                    245 non-null object\n",
        "num_main_j                       245 non-null int64\n",
        "num_joint_tours                  245 non-null int64\n",
        "has_non_worker                   245 non-null bool\n",
        "ptype_cat                        245 non-null object\n",
        "is_student                       245 non-null bool\n",
        "under16_not_at_school            245 non-null bool\n",
        "has_school_kid                   245 non-null bool\n",
        "school_taz                       245 non-null float64\n",
        "is_worker                        245 non-null bool\n",
        "roundtrip_auto_time_to_school    245 non-null float64\n",
        "distance_to_school               245 non-null float64\n",
        "age_16_p                         245 non-null bool\n",
        "workplace_taz                    245 non-null int64\n",
        "workplace_in_cbd                 245 non-null bool\n",
        "has_university                   245 non-null bool\n",
        "adult                            245 non-null bool\n",
        "non_mandatory_tour_frequency     162 non-null float64\n",
        "nonstudent_to_school             245 non-null bool\n",
        "age_16_to_19                     245 non-null bool\n",
        "num_non_escort_tours             245 non-null float64\n",
        "mandatory_tour_frequency         70 non-null object\n",
        "num_shop_j                       245 non-null int64\n",
        "num_mand                         245 non-null float64\n",
        "num_visi_j                       245 non-null int64\n",
        "num_escort_tours                 245 non-null float64\n",
        "roundtrip_auto_time_to_work      245 non-null float64\n",
        "num_disc_j                       245 non-null int64\n",
        "has_part_time                    245 non-null bool\n",
        "has_school_kid_at_home           245 non-null bool\n",
        "distance_to_work                 245 non-null float64\n",
        "male                             245 non-null bool\n",
        "dtypes: bool(26), float64(9), int64(28), object(5)\n",
        "memory usage: 88.5 KB\n"
       ]
      }
     ],
     "prompt_number": 18
    },
    {
     "cell_type": "heading",
     "level": 2,
     "metadata": {},
     "source": [
      "The cell below is used to create small a dataset for testing"
     ]
    },
    {
     "cell_type": "raw",
     "metadata": {},
     "source": [
      "import urbansim.sim.simulation as sim\n",
      "from activitysim import activitysim as asim\n",
      "from activitysim import defaults\n",
      "import pandas as pd\n",
      "old_store = sim.get_injectable('store')\n",
      "print old_store\n",
      "# subset of the whole store\n",
      "new_store = pd.HDFStore('test.h5', 'w')\n",
      "new_store[\"land_use/taz_data\"] = old_store[\"land_use/taz_data\"]\n",
      "new_store[\"skims/accessibility\"] = old_store[\"skims/accessibility\"]\n",
      "new_store[\"households\"] = asim.random_rows(old_store[\"households\"], 1000)\n",
      "new_store[\"persons\"] = old_store[\"persons\"][\n",
      "    old_store[\"persons\"].household_id.isin(new_store[\"households\"].index)\n",
      "]\n",
      "print new_store\n",
      "new_store.close()"
     ]
    },
    {
     "cell_type": "code",
     "collapsed": false,
     "input": [],
     "language": "python",
     "metadata": {},
     "outputs": []
    },
    {
     "cell_type": "code",
     "collapsed": false,
     "input": [],
     "language": "python",
     "metadata": {},
     "outputs": []
    }
   ],
   "metadata": {}
  }
 ]
}