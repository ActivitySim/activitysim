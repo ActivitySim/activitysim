{
 "metadata": {
  "name": "",
  "signature": "sha256:3b6141dac83941ab211bd19cd03017ef50b66420664e991b77f348b4fc1561b8"
 },
 "nbformat": 3,
 "nbformat_minor": 0,
 "worksheets": [
  {
   "cells": [
    {
     "cell_type": "code",
     "collapsed": false,
     "input": [
      "%load_ext autoreload\n",
      "%autoreload 2\n",
      "import urbansim.sim.simulation as sim\n",
      "from activitysim import defaults"
     ],
     "language": "python",
     "metadata": {},
     "outputs": [],
     "prompt_number": 1
    },
    {
     "cell_type": "code",
     "collapsed": false,
     "input": [
      "sim.run([\"workplace_location_simulate\"])"
     ],
     "language": "python",
     "metadata": {},
     "outputs": [
      {
       "output_type": "stream",
       "stream": "stdout",
       "text": [
        "Running model 'workplace_location_simulate'\n",
        "WARNING: Some columns have no variability:\n"
       ]
      },
      {
       "output_type": "stream",
       "stream": "stdout",
       "text": [
        "['mode_choice_logsums']\n",
        "Describe of choices:\n",
        "count    2523.000000\n",
        "mean      793.679746\n",
        "std       423.709572\n",
        "min         6.000000\n",
        "25%       471.000000\n",
        "50%       763.000000\n",
        "75%      1212.000000\n",
        "max      1446.000000\n",
        "Name: TAZ, dtype: float64\n",
        "Time to execute model 'workplace_location_simulate': 7.51s\n",
        "Total time to execute: 7.51s\n"
       ]
      }
     ],
     "prompt_number": 2
    },
    {
     "cell_type": "code",
     "collapsed": false,
     "input": [
      "print sim.get_table(\"persons\").distance_to_work.describe()"
     ],
     "language": "python",
     "metadata": {},
     "outputs": [
      {
       "output_type": "stream",
       "stream": "stdout",
       "text": [
        "count    2523.000000\n",
        "mean       40.900650\n",
        "std        23.294846\n",
        "min         0.330000\n",
        "25%        22.900000\n",
        "50%        38.880000\n",
        "75%        54.700000\n",
        "max       126.920000\n",
        "dtype: float64\n"
       ]
      }
     ],
     "prompt_number": 3
    },
    {
     "cell_type": "code",
     "collapsed": false,
     "input": [
      "sim.run([\"auto_ownership_simulate\"])"
     ],
     "language": "python",
     "metadata": {},
     "outputs": [
      {
       "output_type": "stream",
       "stream": "stdout",
       "text": [
        "Running model 'auto_ownership_simulate'\n",
        "WARNING: Some columns have no variability:\n"
       ]
      },
      {
       "output_type": "stream",
       "stream": "stdout",
       "text": [
        "['(work_tour_auto_time_savings / (workers+1)) * cars1'\n",
        " '(work_tour_auto_time_savings / (workers+1)) * cars2'\n",
        " '(work_tour_auto_time_savings / (workers+1)) * cars3'\n",
        " '(work_tour_auto_time_savings / (workers+1)) * cars4']\n",
        "Choices:\n",
        "2    388\n",
        "1    325\n",
        "3    133\n",
        "0    100\n",
        "4     54\n",
        "dtype: int64\n",
        "Time to execute model 'auto_ownership_simulate': 0.60s\n",
        "Total time to execute: 0.60s\n"
       ]
      }
     ],
     "prompt_number": 40
    },
    {
     "cell_type": "code",
     "collapsed": false,
     "input": [
      "sim.run(['mandatory_tour_frequency'])"
     ],
     "language": "python",
     "metadata": {},
     "outputs": [
      {
       "output_type": "stream",
       "stream": "stdout",
       "text": [
        "Running model 'mandatory_tour_frequency'\n",
        "804 persons run for mandatory tour model"
       ]
      },
      {
       "output_type": "stream",
       "stream": "stdout",
       "text": [
        "\n",
        "WARNING: Some columns have no variability:\n"
       ]
      },
      {
       "output_type": "stream",
       "stream": "stdout",
       "text": [
        "['((ptype == 2) & (distance_to_work < 3)) * work2'\n",
        " '((ptype == 3) & (distance_to_work < 3)) * work2'\n",
        " '((ptype == 3) & (distance_to_school < 3)) * school2'\n",
        " '((ptype == 7) & (distance_to_school < 3)) * school2'\n",
        " '((ptype == 2) & (distance_to_work < 3 | distance_to_school < 3)) * work_and_school'\n",
        " '((ptype == 3) & (distance_to_work < 3 | distance_to_school < 3)) * work_and_school'\n",
        " '((ptype == 2) & nonstudent_to_school) * school1'\n",
        " '((ptype == 2) & nonstudent_to_school) * work_and_school'\n",
        " '((ptype == 4) & nonstudent_to_school) * school1'\n",
        " '((ptype == 5) & nonstudent_to_school) * school1'\n",
        " '((ptype == 6) * (num_young_children)) * work1'\n",
        " '((ptype == 6) * (num_young_children)) * school1'\n",
        " '((ptype == 6) * (num_young_children)) * school2'\n",
        " '((ptype == 6) * (num_young_children)) * work_and_school'\n",
        " '(~(workplace_taz > -1)) * work1' '(~(workplace_taz > -1)) * work2'\n",
        " '(~(workplace_taz > -1)) * work_and_school'\n",
        " '(~(school_taz > -1)) * school1' '(~(school_taz > -1)) * school2'\n",
        " '(~(school_taz > -1)) * work_and_school']\n",
        "Choices:\n",
        "school1            340\n",
        "work1              283\n",
        "work2              102\n",
        "work_and_school     68\n",
        "school2             11\n",
        "dtype: int64\n",
        "Time to execute model 'mandatory_tour_frequency': 3.05s\n",
        "Total time to execute: 3.05s\n"
       ]
      }
     ],
     "prompt_number": 5
    },
    {
     "cell_type": "code",
     "collapsed": false,
     "input": [
      "sim.get_table(\"mandatory_tours\").tour_type.value_counts()"
     ],
     "language": "python",
     "metadata": {},
     "outputs": [
      {
       "metadata": {},
       "output_type": "pyout",
       "prompt_number": 6,
       "text": [
        "work      555\n",
        "school    430\n",
        "dtype: int64"
       ]
      }
     ],
     "prompt_number": 6
    },
    {
     "cell_type": "code",
     "collapsed": false,
     "input": [
      "sim.run(['non_mandatory_tour_frequency'])"
     ],
     "language": "python",
     "metadata": {},
     "outputs": [
      {
       "output_type": "stream",
       "stream": "stdout",
       "text": [
        "Running model 'non_mandatory_tour_frequency'\n",
        "1703 persons run for non-mandatory tour model"
       ]
      },
      {
       "output_type": "stream",
       "stream": "stdout",
       "text": [
        "\n",
        "Running segment 'driving' of size 55\n",
        "WARNING: Some columns have no variability:\n"
       ]
      },
      {
       "output_type": "stream",
       "stream": "stdout",
       "text": [
        "['(tot_tours == 0) & (num_mand == 0) & (num_joint_tours == 0)'\n",
        " 'num_joint_tours*(tot_tours == 0)' 'num_joint_tours*(tot_tours == 1)'\n",
        " 'num_joint_tours*(tot_tours == 2)' 'num_joint_tours*(tot_tours == 3)'\n",
        " 'num_joint_tours*(tot_tours == 4)' 'num_joint_tours*(tot_tours >  4)'\n",
        " 'num_shop_j' 'num_main_j' 'num_eat_j' 'num_visi_j' 'num_disc_j'\n",
        " 'max_window*(tot_tours == 0)' 'max_window*(tot_tours == 1)'\n",
        " 'max_window*(tot_tours == 2)' 'max_window*(tot_tours == 3)'\n",
        " 'max_window*(tot_tours == 4)' 'max_window*(tot_tours >  4)']\n",
        "Running segment 'full' of size 588\n",
        "WARNING: Some columns have no variability:\n"
       ]
      },
      {
       "output_type": "stream",
       "stream": "stdout",
       "text": [
        "['(tot_tours == 0) & (num_mand == 0) & (num_joint_tours == 0)'\n",
        " 'num_joint_tours*(tot_tours == 0)' 'num_joint_tours*(tot_tours == 1)'\n",
        " 'num_joint_tours*(tot_tours == 2)' 'num_joint_tours*(tot_tours == 3)'\n",
        " 'num_joint_tours*(tot_tours == 4)' 'num_joint_tours*(tot_tours >  4)'\n",
        " 'num_shop_j' 'num_main_j' 'num_eat_j' 'num_visi_j' 'num_disc_j'\n",
        " 'max_window*(tot_tours == 0)' 'max_window*(tot_tours == 1)'\n",
        " 'max_window*(tot_tours == 2)' 'max_window*(tot_tours == 3)'\n",
        " 'max_window*(tot_tours == 4)' 'max_window*(tot_tours >  4)']\n",
        "Running segment 'nonwork' of size 302\n",
        "WARNING: Some columns have no variability:\n"
       ]
      },
      {
       "output_type": "stream",
       "stream": "stdout",
       "text": [
        "['(tot_tours == 0) & (num_mand == 0) & (num_joint_tours == 0)'\n",
        " 'num_joint_tours*(tot_tours == 0)' 'num_joint_tours*(tot_tours == 1)'\n",
        " 'num_joint_tours*(tot_tours == 2)' 'num_joint_tours*(tot_tours == 3)'\n",
        " 'num_joint_tours*(tot_tours == 4)' 'num_joint_tours*(tot_tours >  4)'\n",
        " 'num_shop_j' 'num_main_j' 'num_eat_j' 'num_visi_j' 'num_disc_j'\n",
        " 'max_window*(tot_tours == 0)' 'max_window*(tot_tours == 1)'\n",
        " 'max_window*(tot_tours == 2)' 'max_window*(tot_tours == 3)'\n",
        " 'max_window*(tot_tours == 4)' 'max_window*(tot_tours >  4)']\n",
        "Running segment 'part' of size 137\n",
        "WARNING: Some columns have no variability:\n"
       ]
      },
      {
       "output_type": "stream",
       "stream": "stdout",
       "text": [
        "['(tot_tours == 0) & (num_mand == 0) & (num_joint_tours == 0)'\n",
        " 'num_joint_tours*(tot_tours == 0)' 'num_joint_tours*(tot_tours == 1)'\n",
        " 'num_joint_tours*(tot_tours == 2)' 'num_joint_tours*(tot_tours == 3)'\n",
        " 'num_joint_tours*(tot_tours == 4)' 'num_joint_tours*(tot_tours >  4)'\n",
        " 'num_shop_j' 'num_main_j' 'num_eat_j' 'num_visi_j' 'num_disc_j'\n",
        " 'max_window*(tot_tours == 0)' 'max_window*(tot_tours == 1)'\n",
        " 'max_window*(tot_tours == 2)' 'max_window*(tot_tours == 3)'\n",
        " 'max_window*(tot_tours == 4)' 'max_window*(tot_tours >  4)']\n",
        "Running segment 'preschool' of size 122\n",
        "WARNING: Some columns have no variability:\n"
       ]
      },
      {
       "output_type": "stream",
       "stream": "stdout",
       "text": [
        "['(tot_tours == 0) & (num_mand == 0) & (num_joint_tours == 0)'\n",
        " 'num_joint_tours*(tot_tours == 0)' 'num_joint_tours*(tot_tours == 1)'\n",
        " 'num_joint_tours*(tot_tours == 2)' 'num_joint_tours*(tot_tours == 3)'\n",
        " 'num_joint_tours*(tot_tours == 4)' 'num_joint_tours*(tot_tours >  4)'\n",
        " 'num_shop_j' 'num_main_j' 'num_eat_j' 'num_visi_j' 'num_disc_j'\n",
        " 'max_window*(tot_tours == 0)' 'max_window*(tot_tours == 1)'\n",
        " 'max_window*(tot_tours == 2)' 'max_window*(tot_tours == 3)'\n",
        " 'max_window*(tot_tours == 4)' 'max_window*(tot_tours >  4)']\n",
        "Running segment 'retired' of size 183\n",
        "WARNING: Some columns have no variability:\n"
       ]
      },
      {
       "output_type": "stream",
       "stream": "stdout",
       "text": [
        "['(tot_tours == 0) & (num_mand == 0) & (num_joint_tours == 0)'\n",
        " 'num_joint_tours*(tot_tours == 0)' 'num_joint_tours*(tot_tours == 1)'\n",
        " 'num_joint_tours*(tot_tours == 2)' 'num_joint_tours*(tot_tours == 3)'\n",
        " 'num_joint_tours*(tot_tours == 4)' 'num_joint_tours*(tot_tours >  4)'\n",
        " 'num_shop_j' 'num_main_j' 'num_eat_j' 'num_visi_j' 'num_disc_j'\n",
        " 'max_window*(tot_tours == 0)' 'max_window*(tot_tours == 1)'\n",
        " 'max_window*(tot_tours == 2)' 'max_window*(tot_tours == 3)'\n",
        " 'max_window*(tot_tours == 4)' 'max_window*(tot_tours >  4)'\n",
        " 'has_preschool_kid_at_home * escort'\n",
        " 'has_preschool_kid_at_home * shopping'\n",
        " 'has_preschool_kid_at_home * othmaint'\n",
        " 'has_preschool_kid_at_home * eatout'\n",
        " 'has_preschool_kid_at_home * othdiscr']\n",
        "Running segment 'school' of size 198\n",
        "WARNING: Some columns have no variability:\n"
       ]
      },
      {
       "output_type": "stream",
       "stream": "stdout",
       "text": [
        "['(tot_tours == 0) & (num_mand == 0) & (num_joint_tours == 0)'\n",
        " 'num_joint_tours*(tot_tours == 0)' 'num_joint_tours*(tot_tours == 1)'\n",
        " 'num_joint_tours*(tot_tours == 2)' 'num_joint_tours*(tot_tours == 3)'\n",
        " 'num_joint_tours*(tot_tours == 4)' 'num_joint_tours*(tot_tours >  4)'\n",
        " 'num_shop_j' 'num_main_j' 'num_eat_j' 'num_visi_j' 'num_disc_j'\n",
        " 'max_window*(tot_tours == 0)' 'max_window*(tot_tours == 1)'\n",
        " 'max_window*(tot_tours == 2)' 'max_window*(tot_tours == 3)'\n",
        " 'max_window*(tot_tours == 4)' 'max_window*(tot_tours >  4)'\n",
        " '(car_sufficiency > 0) & (tot_tours == 1)'\n",
        " '(car_sufficiency > 0) & (tot_tours == 2)'\n",
        " '(car_sufficiency > 0) & (tot_tours == 3)'\n",
        " '(car_sufficiency > 0) & (tot_tours == 4)'\n",
        " '(car_sufficiency > 0) & (tot_tours > 4)']\n",
        "Running segment 'university' of size 118\n",
        "WARNING: Some columns have no variability:\n"
       ]
      },
      {
       "output_type": "stream",
       "stream": "stdout",
       "text": [
        "['(tot_tours == 0) & (num_mand == 0) & (num_joint_tours == 0)'\n",
        " 'num_joint_tours*(tot_tours == 0)' 'num_joint_tours*(tot_tours == 1)'\n",
        " 'num_joint_tours*(tot_tours == 2)' 'num_joint_tours*(tot_tours == 3)'\n",
        " 'num_joint_tours*(tot_tours == 4)' 'num_joint_tours*(tot_tours >  4)'\n",
        " 'num_shop_j' 'num_main_j' 'num_eat_j' 'num_visi_j' 'num_disc_j'\n",
        " 'max_window*(tot_tours == 0)' 'max_window*(tot_tours == 1)'\n",
        " 'max_window*(tot_tours == 2)' 'max_window*(tot_tours == 3)'\n",
        " 'max_window*(tot_tours == 4)' 'max_window*(tot_tours >  4)'\n",
        " '(car_sufficiency > 0) & (tot_tours == 1)'\n",
        " '(car_sufficiency > 0) & (tot_tours == 2)'\n",
        " '(car_sufficiency > 0) & (tot_tours == 3)'\n",
        " '(car_sufficiency > 0) & (tot_tours == 4)'\n",
        " '(car_sufficiency > 0) & (tot_tours > 4)']\n",
        "Choices:\n",
        "0     1694\n",
        "4        3\n",
        "1        3\n",
        "20       1\n",
        "16       1\n",
        "2        1\n",
        "dtype: int64\n",
        "Time to execute model 'non_mandatory_tour_frequency': 12.39s\n",
        "Total time to execute: 12.39s\n"
       ]
      }
     ],
     "prompt_number": 7
    },
    {
     "cell_type": "code",
     "collapsed": false,
     "input": [
      "sim.get_table(\"non_mandatory_tours\").tour_type.value_counts()"
     ],
     "language": "python",
     "metadata": {},
     "outputs": [
      {
       "metadata": {},
       "output_type": "pyout",
       "prompt_number": 8,
       "text": [
        "eatout      4\n",
        "othdiscr    3\n",
        "shopping    2\n",
        "social      1\n",
        "dtype: int64"
       ]
      }
     ],
     "prompt_number": 8
    },
    {
     "cell_type": "code",
     "collapsed": false,
     "input": [
      "sim.run([\"destination_choice\"])"
     ],
     "language": "python",
     "metadata": {},
     "outputs": [
      {
       "output_type": "stream",
       "stream": "stdout",
       "text": [
        "Running model 'destination_choice'\n",
        "Running segment 'eatout' of size 4"
       ]
      },
      {
       "output_type": "stream",
       "stream": "stdout",
       "text": [
        "\n",
        "WARNING: Some columns have no variability:\n",
        "['(df.distance-1).clip(0,1)']\n",
        "Running segment 'othdiscr' of size 3\n",
        "Running segment 'shopping' of size 2"
       ]
      },
      {
       "output_type": "stream",
       "stream": "stdout",
       "text": [
        "\n",
        "WARNING: Some columns have no variability:\n",
        "['(df.distance-1).clip(0,1)']\n",
        "Running segment 'social' of size 1\n",
        "WARNING: Some columns have no variability:\n"
       ]
      },
      {
       "output_type": "stream",
       "stream": "stdout",
       "text": [
        "['(df.distance-1).clip(0,1)' '(df.distance-2).clip(0,3)'\n",
        " '(df.distance-5).clip(0,10)']\n",
        "Choices:\n",
        "count      10.000000\n",
        "mean      684.400000\n",
        "std       447.998313\n",
        "min        71.000000\n",
        "25%       407.250000\n",
        "50%       546.500000\n",
        "75%      1100.500000\n",
        "max      1334.000000\n",
        "Name: TAZ, dtype: float64\n",
        "Time to execute model 'destination_choice': 2.92s\n",
        "Total time to execute: 2.93s\n"
       ]
      }
     ],
     "prompt_number": 9
    },
    {
     "cell_type": "code",
     "collapsed": false,
     "input": [
      "sim.run([\"mandatory_scheduling\"])"
     ],
     "language": "python",
     "metadata": {},
     "outputs": [
      {
       "output_type": "stream",
       "stream": "stdout",
       "text": [
        "Running model 'mandatory_scheduling'\n",
        "Running 1011 mandatory tour scheduling choices"
       ]
      },
      {
       "output_type": "stream",
       "stream": "stdout",
       "text": [
        "\n",
        "Running 833 non-mandatory #1 tour choices\n",
        "WARNING: Some columns have no variability:\n"
       ]
      },
      {
       "output_type": "stream",
       "stream": "stdout",
       "text": [
        "['(start < end_of_previous_tour) & (tour_num == 2)'\n",
        " '(tour_num == 2) * start' '(tour_num == 2) * duration'\n",
        " 'home_is_rural & (start < 6)' 'home_is_rural & (end > 22)'\n",
        " '(tour_num == 2) & (duration < 8)' 'mode_choice_logsum']\n",
        "Running 178 non-mandatory #2 tour choices"
       ]
      },
      {
       "output_type": "stream",
       "stream": "stdout",
       "text": [
        "\n",
        "WARNING: Some columns have no variability:\n"
       ]
      },
      {
       "output_type": "stream",
       "stream": "stdout",
       "text": [
        "['(start < end_of_previous_tour) & (tour_num == 2)'\n",
        " '(tour_num == 1) * start' '(tour_num == 1) * duration'\n",
        " 'home_is_rural & (start < 6)' 'home_is_rural & (end > 22)'\n",
        " '(tour_num == 1) & (duration < 8)' 'mode_choice_logsum']\n",
        "Choices:\n",
        "count    1011.000000\n",
        "mean      159.245302\n",
        "std        36.926649\n",
        "min         3.000000\n",
        "25%       152.000000\n",
        "50%       172.000000\n",
        "75%       183.000000\n",
        "max       189.000000\n",
        "dtype: float64\n",
        "Time to execute model 'mandatory_scheduling': 3.29s\n",
        "Total time to execute: 3.29s\n"
       ]
      }
     ],
     "prompt_number": 10
    },
    {
     "cell_type": "code",
     "collapsed": false,
     "input": [
      "sim.run([\"non_mandatory_scheduling\"])"
     ],
     "language": "python",
     "metadata": {},
     "outputs": [
      {
       "output_type": "stream",
       "stream": "stdout",
       "text": [
        "Running model 'non_mandatory_scheduling'\n",
        "Running 6 non-mandatory tour scheduling choices"
       ]
      },
      {
       "output_type": "stream",
       "stream": "stdout",
       "text": [
        "\n",
        "Running 5 non-mandatory #1 tour choices\n",
        "WARNING: Some columns have no variability:\n"
       ]
      },
      {
       "output_type": "stream",
       "stream": "stdout",
       "text": [
        "['start < end_of_previous_tour']\n",
        "Running 1 non-mandatory #2 tour choices\n",
        "WARNING: Some columns have no variability:\n"
       ]
      },
      {
       "output_type": "stream",
       "stream": "stdout",
       "text": [
        "['start < end_of_previous_tour' '(tour_type == \"shopping\") * start'\n",
        " '(tour_type == \"shopping\") * duration']\n",
        "Choices:\n",
        "count      6.000000\n",
        "mean      54.833333\n",
        "std       40.641932\n",
        "min       17.000000\n",
        "25%       36.000000\n",
        "50%       44.000000\n",
        "75%       54.250000\n",
        "max      133.000000\n",
        "dtype: float64\n",
        "Time to execute model 'non_mandatory_scheduling': 5.01s\n",
        "Total time to execute: 5.01s\n"
       ]
      }
     ],
     "prompt_number": 11
    },
    {
     "cell_type": "code",
     "collapsed": false,
     "input": [
      "sim.run(['mode_choice_simulate'])"
     ],
     "language": "python",
     "metadata": {},
     "outputs": [
      {
       "output_type": "stream",
       "stream": "stdout",
       "text": [
        "Running model 'mode_choice_simulate'\n",
        "[[-999]]"
       ]
      },
      {
       "output_type": "stream",
       "stream": "stdout",
       "text": [
        "\n",
        "WARNING: Some columns have no variability:\n"
       ]
      },
      {
       "output_type": "stream",
       "stream": "stdout",
       "text": [
        "['sov_available == False']\n",
        "                sov_available == False\n",
        "DRIVEALONEFREE                       0\n",
        "DRIVEALONEPAY                        0\n",
        "SHARED2FREE                          0\n",
        "SHARED2PAY                           0\n",
        "SHARED3FREE                          0\n",
        "SHARED3PAY                           0\n",
        "WALK                                 0\n",
        "BIKE                                 0\n",
        "DRIVE_LOC                            0\n",
        "DRIVE_LRF                            0\n",
        "DRIVE_EXP                            0\n",
        "DRIVE_HVY                            0\n",
        "DRIVE_COM                            0\n",
        "WALK_LOC                             0\n",
        "WALK_LRF                             0\n",
        "WALK_EXP                             0\n",
        "WALK_HVY                             0\n",
        "WALK_COM                             0\n",
        "DRIVEALONEFREE                       0\n",
        "DRIVEALONEPAY                        0\n",
        "SHARED2FREE                          0\n",
        "SHARED2PAY                           0\n",
        "SHARED3FREE                          0\n",
        "SHARED3PAY                           0\n",
        "WALK                                 0\n",
        "BIKE                                 0\n",
        "DRIVE_LOC                            0\n",
        "DRIVE_LRF                            0\n",
        "DRIVE_EXP                            0\n",
        "DRIVE_HVY                            0\n",
        "...                                ...\n",
        "WALK                                 0\n",
        "BIKE                                 0\n",
        "DRIVE_LOC                            0\n",
        "DRIVE_LRF                            0\n",
        "DRIVE_EXP                            0\n",
        "DRIVE_HVY                            0\n",
        "DRIVE_COM                            0\n",
        "WALK_LOC                             0\n",
        "WALK_LRF                             0\n",
        "WALK_EXP                             0\n",
        "WALK_HVY                             0\n",
        "WALK_COM                             0\n",
        "DRIVEALONEFREE                       0\n",
        "DRIVEALONEPAY                        0\n",
        "SHARED2FREE                          0\n",
        "SHARED2PAY                           0\n",
        "SHARED3FREE                          0\n",
        "SHARED3PAY                           0\n",
        "WALK                                 0\n",
        "BIKE                                 0\n",
        "DRIVE_LOC                            0\n",
        "DRIVE_LRF                            0\n",
        "DRIVE_EXP                            0\n",
        "DRIVE_HVY                            0\n",
        "DRIVE_COM                            0\n",
        "WALK_LOC                             0\n",
        "WALK_LRF                             0\n",
        "WALK_EXP                             0\n",
        "WALK_HVY                             0\n",
        "WALK_COM                             0\n",
        "\n",
        "[17910 rows x 1 columns]\n",
        "[[-999]]\n",
        "                sov_available == False\n",
        "DRIVEALONEFREE                       0\n",
        "DRIVEALONEPAY                        0\n",
        "SHARED2FREE                          0\n",
        "SHARED2PAY                           0\n",
        "SHARED3FREE                          0\n",
        "SHARED3PAY                           0\n",
        "WALK                                 0\n",
        "BIKE                                 0\n",
        "DRIVE_LOC                            0\n",
        "DRIVE_LRF                            0\n",
        "DRIVE_EXP                            0\n",
        "DRIVE_HVY                            0\n",
        "DRIVE_COM                            0\n",
        "WALK_LOC                             0\n",
        "WALK_LRF                             0\n",
        "WALK_EXP                             0\n",
        "WALK_HVY                             0\n",
        "WALK_COM                             0\n",
        "DRIVEALONEFREE                       0\n",
        "DRIVEALONEPAY                        0\n",
        "SHARED2FREE                          0\n",
        "SHARED2PAY                           0\n",
        "SHARED3FREE                          0\n",
        "SHARED3PAY                           0\n",
        "WALK                                 0\n",
        "BIKE                                 0\n",
        "DRIVE_LOC                            0\n",
        "DRIVE_LRF                            0\n",
        "DRIVE_EXP                            0\n",
        "DRIVE_HVY                            0\n",
        "...                                ...\n",
        "WALK                                 0\n",
        "BIKE                                 0\n",
        "DRIVE_LOC                            0\n",
        "DRIVE_LRF                            0\n",
        "DRIVE_EXP                            0\n",
        "DRIVE_HVY                            0\n",
        "DRIVE_COM                            0\n",
        "WALK_LOC                             0\n",
        "WALK_LRF                             0\n",
        "WALK_EXP                             0\n",
        "WALK_HVY                             0\n",
        "WALK_COM                             0\n",
        "DRIVEALONEFREE                       0\n",
        "DRIVEALONEPAY                        0\n",
        "SHARED2FREE                          0\n",
        "SHARED2PAY                           0\n",
        "SHARED3FREE                          0\n",
        "SHARED3PAY                           0\n",
        "WALK                                 0\n",
        "BIKE                                 0\n",
        "DRIVE_LOC                            0\n",
        "DRIVE_LRF                            0\n",
        "DRIVE_EXP                            0\n",
        "DRIVE_HVY                            0\n",
        "DRIVE_COM                            0\n",
        "WALK_LOC                             0\n",
        "WALK_LRF                             0\n",
        "WALK_EXP                             0\n",
        "WALK_HVY                             0\n",
        "WALK_COM                             0\n",
        "\n",
        "[17910 rows x 1 columns]\n",
        "Choices:\n",
        "SHARED2FREE       67\n",
        "BIKE              63\n",
        "DRIVE_LOC         62\n",
        "DRIVEALONEPAY     62\n",
        "DRIVE_COM         61\n",
        "WALK              61\n",
        "DRIVEALONEFREE    59\n",
        "DRIVE_HVY         59\n",
        "DRIVE_EXP         58\n",
        "SHARED3FREE       56\n",
        "WALK_EXP          54\n",
        "WALK_COM          49\n",
        "SHARED3PAY        49\n",
        "DRIVE_LRF         48\n",
        "WALK_LOC          48\n",
        "WALK_HVY          47\n",
        "WALK_LRF          46\n",
        "SHARED2PAY        46\n",
        "dtype: int64\n",
        "Time to execute model 'mode_choice_simulate': 0.24s\n",
        "Total time to execute: 0.24s\n"
       ]
      }
     ],
     "prompt_number": 49
    },
    {
     "cell_type": "code",
     "collapsed": false,
     "input": [
      "sim.get_table(\"land_use\").to_frame().info()"
     ],
     "language": "python",
     "metadata": {},
     "outputs": []
    },
    {
     "cell_type": "code",
     "collapsed": false,
     "input": [
      "sim.get_table(\"households\").to_frame().info()"
     ],
     "language": "python",
     "metadata": {},
     "outputs": []
    },
    {
     "cell_type": "code",
     "collapsed": false,
     "input": [
      "sim.get_table(\"persons\").to_frame().info()"
     ],
     "language": "python",
     "metadata": {},
     "outputs": []
    },
    {
     "cell_type": "heading",
     "level": 2,
     "metadata": {},
     "source": [
      "The cell below is used to create small a dataset for testing"
     ]
    },
    {
     "cell_type": "code",
     "collapsed": false,
     "input": [
      "import urbansim.sim.simulation as sim\n",
      "from activitysim import activitysim as asim\n",
      "from activitysim import defaults\n",
      "import pandas as pd\n",
      "old_store = sim.get_injectable('store')\n",
      "print old_store\n",
      "# subset of the whole store\n",
      "new_store = pd.HDFStore('test.h5', 'w')\n",
      "new_store[\"land_use/taz_data\"] = old_store[\"land_use/taz_data\"]\n",
      "new_store[\"skims/accessibility\"] = old_store[\"skims/accessibility\"]\n",
      "new_store[\"households\"] = asim.random_rows(old_store[\"households\"], 1000)\n",
      "new_store[\"persons\"] = old_store[\"persons\"][\n",
      "    old_store[\"persons\"].household_id.isin(new_store[\"households\"].index)\n",
      "]\n",
      "print new_store\n",
      "new_store.close()"
     ],
     "language": "python",
     "metadata": {},
     "outputs": []
    },
    {
     "cell_type": "code",
     "collapsed": false,
     "input": [],
     "language": "python",
     "metadata": {},
     "outputs": []
    }
   ],
   "metadata": {}
  }
 ]
}