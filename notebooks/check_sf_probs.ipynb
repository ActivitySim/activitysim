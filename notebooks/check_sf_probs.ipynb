{
 "cells": [
  {
   "cell_type": "markdown",
   "id": "7ece3567-e4b1-4c3f-a264-20625abb6ad7",
   "metadata": {},
   "source": [
    "# Compare results against larch\n",
    "\n",
    "We use estimation data as prepared by larch and draw the Asim way and our way, then compare to larch probabilities.\n"
   ]
  },
  {
   "cell_type": "code",
   "execution_count": 1,
   "id": "bd74ba44-0dfb-439a-a6ab-7ceedfc5f523",
   "metadata": {
    "execution": {
     "iopub.execute_input": "2022-05-01T10:17:57.385153Z",
     "iopub.status.busy": "2022-05-01T10:17:57.384881Z",
     "iopub.status.idle": "2022-05-01T10:17:57.534433Z",
     "shell.execute_reply": "2022-05-01T10:17:57.533096Z",
     "shell.execute_reply.started": "2022-05-01T10:17:57.385047Z"
    },
    "tags": []
   },
   "outputs": [],
   "source": [
    "%load_ext autoreload"
   ]
  },
  {
   "cell_type": "code",
   "execution_count": 2,
   "id": "c3dba451-1e10-403e-8614-35d57e6577f4",
   "metadata": {
    "execution": {
     "iopub.execute_input": "2022-05-01T10:17:57.536623Z",
     "iopub.status.busy": "2022-05-01T10:17:57.536012Z",
     "iopub.status.idle": "2022-05-01T10:17:57.542755Z",
     "shell.execute_reply": "2022-05-01T10:17:57.541685Z",
     "shell.execute_reply.started": "2022-05-01T10:17:57.536567Z"
    },
    "tags": []
   },
   "outputs": [],
   "source": [
    "%autoreload 2"
   ]
  },
  {
   "cell_type": "code",
   "execution_count": 10,
   "id": "73deaac4-e7ac-4aff-b086-4980dc6dd903",
   "metadata": {
    "execution": {
     "iopub.execute_input": "2022-05-01T10:18:00.350944Z",
     "iopub.status.busy": "2022-05-01T10:18:00.350730Z",
     "iopub.status.idle": "2022-05-01T10:18:12.760977Z",
     "shell.execute_reply": "2022-05-01T10:18:12.760013Z",
     "shell.execute_reply.started": "2022-05-01T10:18:00.350919Z"
    },
    "tags": []
   },
   "outputs": [],
   "source": [
    "import os\n",
    "import argparse\n",
    "\n",
    "import numpy as np\n",
    "import pandas as pd\n",
    "\n",
    "from activitysim.cli import run\n",
    "from activitysim.core import inject\n",
    "\n",
    "from fru_utils import mode_choice_for_trip\n",
    "\n",
    "pd.set_option(\"max_columns\", 500)"
   ]
  },
  {
   "cell_type": "code",
   "execution_count": 5,
   "id": "41fec4e8-a174-4e66-87d2-1e8c7979de90",
   "metadata": {
    "execution": {
     "iopub.execute_input": "2022-05-01T10:18:17.839947Z",
     "iopub.status.busy": "2022-05-01T10:18:17.839070Z",
     "iopub.status.idle": "2022-05-01T10:18:18.019676Z",
     "shell.execute_reply": "2022-05-01T10:18:18.018689Z",
     "shell.execute_reply.started": "2022-05-01T10:18:17.839911Z"
    },
    "tags": []
   },
   "outputs": [],
   "source": [
    "root_dir = \"/mnt/c/Users/jan.zill/code/activitysim\"\n",
    "example_dir = os.path.join(root_dir, \"test_example_sf\")\n",
    "os.chdir(example_dir)"
   ]
  },
  {
   "cell_type": "code",
   "execution_count": 7,
   "outputs": [],
   "source": [
    "#!activitysim run -c configs -o output -d data_sf"
   ],
   "metadata": {
    "collapsed": false,
    "pycharm": {
     "name": "#%%\n"
    }
   }
  },
  {
   "cell_type": "code",
   "execution_count": 8,
   "id": "730be239-8704-4483-bbb8-ffae0f17c5d4",
   "metadata": {
    "execution": {
     "iopub.execute_input": "2022-05-01T10:18:22.111723Z",
     "iopub.status.busy": "2022-05-01T10:18:22.111490Z",
     "iopub.status.idle": "2022-05-01T10:18:22.297437Z",
     "shell.execute_reply": "2022-05-01T10:18:22.296501Z",
     "shell.execute_reply.started": "2022-05-01T10:18:22.111697Z"
    },
    "tags": []
   },
   "outputs": [],
   "source": [
    "parser = argparse.ArgumentParser()\n",
    "run.add_run_args(parser)\n",
    "args = parser.parse_args(['-c', 'configs', '-o', 'output', '-d', 'data_sf'])\n",
    "if not inject.is_injectable('preload_injectables'):\n",
    "    from activitysim import abm  # register abm steps and other abm-specific injectables\n",
    "run.handle_standard_args(args)  # possibly update injectables"
   ]
  },
  {
   "cell_type": "code",
   "execution_count": 68,
   "outputs": [],
   "source": [
    "larch_chooser_data = pd.read_csv(os.path.join(root_dir, \"test_estimation_sf\", \"choosers_larch.csv\"))\n",
    "larch_probs = pd.read_csv(os.path.join(root_dir, \"test_estimation_sf\", \"probabilities_larch.csv\"), index_col=0)\n",
    "# __caseids__ are tour ids, with trips in same order\n",
    "assert (larch_probs.index.values ==  larch_chooser_data.tour_id).all()\n",
    "larch_probs.index = larch_chooser_data.trip_id"
   ],
   "metadata": {
    "collapsed": false,
    "pycharm": {
     "name": "#%%\n"
    }
   }
  },
  {
   "cell_type": "code",
   "execution_count": 50,
   "outputs": [],
   "source": [
    "larch_tours = pd.read_csv(os.path.join(root_dir, \"test_estimation_sf\", \"output\", \"estimation_data_bundle\",\n",
    "                                       \"trip_mode_choice\", \"trip_mode_choice_values_combined.csv\"))\n",
    "trips_merged_cols = ['person_id', 'household_id', 'primary_purpose', 'trip_num', 'outbound',\n",
    "                     'trip_count', 'destination', 'origin', 'tour_id', 'purpose',\n",
    "                     'destination_logsum', 'depart', 'hhsize', 'age', 'auto_ownership',\n",
    "                     'number_of_participants', 'tour_category', 'parent_tour_id',\n",
    "                     'tour_mode', 'duration', 'value_of_time', 'tour_type',\n",
    "                     'free_parking_at_work', 'trip_period', \"trip_id\"]\n",
    "\n",
    "larch_trips_merged = larch_tours[trips_merged_cols].set_index(\"trip_id\")"
   ],
   "metadata": {
    "collapsed": false,
    "pycharm": {
     "name": "#%%\n"
    }
   }
  },
  {
   "cell_type": "code",
   "execution_count": 87,
   "outputs": [],
   "source": [
    "def compare_mode_share_simulation(trip_id_to_check, num_samples, larch_trips_merged, larch_probs):\n",
    "    t_, c_, ns_ = mode_choice_for_trip(choose_individual_max_utility=True, trip_id_to_check=trip_id_to_check,\n",
    "                                       num_samples=num_samples, trips_merged=larch_trips_merged)\n",
    "    sim_mode_shares = c_.trip_mode.value_counts() / c_.shape[0]\n",
    "\n",
    "    t_asim, c_asim, _ = mode_choice_for_trip(choose_individual_max_utility=False, trip_id_to_check=trip_id_to_check,\n",
    "                                             num_samples=num_samples, trips_merged=larch_trips_merged)\n",
    "    asim_mode_shares = c_asim.trip_mode.value_counts() / c_asim.shape[0]\n",
    "\n",
    "    larch_mode_shares = larch_probs.loc[larch_probs.index == trip_id_to_check].T\n",
    "    larch_mode_shares.columns = [\"larch\"]\n",
    "\n",
    "    comp = sim_mode_shares.to_frame(\"me\")\\\n",
    "        .merge(asim_mode_shares.to_frame(\"asim\"), left_index=True, right_index=True,how=\"outer\")\\\n",
    "        .merge(larch_mode_shares,left_index=True, right_index=True, how=\"outer\").fillna(0)\n",
    "\n",
    "    return comp"
   ],
   "metadata": {
    "collapsed": false,
    "pycharm": {
     "name": "#%%\n"
    }
   }
  },
  {
   "cell_type": "code",
   "execution_count": 124,
   "outputs": [
    {
     "data": {
      "text/plain": "            DRIVEALONEFREE  DRIVEALONEPAY   SHARED2FREE  SHARED2PAY  \\\ntrip_id                                                               \n23695361          0.000000            0.0  2.027363e-06         0.0   \n23695365          0.000000            0.0  2.943297e-09         0.0   \n23760961          0.999664            0.0  0.000000e+00         0.0   \n23760962          0.998934            0.0  0.000000e+00         0.0   \n23760963          0.997988            0.0  0.000000e+00         0.0   \n...                    ...            ...           ...         ...   \n2464724829        0.000000            0.0  3.268925e-05         0.0   \n2464847169        0.000000            0.0  2.321209e-03         0.0   \n2464847173        0.000000            0.0  1.269812e-03         0.0   \n2464980993        0.000000            0.0  8.280461e-05         0.0   \n2464980997        0.000000            0.0  6.298188e-05         0.0   \n\n             SHARED3FREE  SHARED3PAY      WALK  BIKE  WALK_LOC  WALK_LRF  \\\ntrip_id                                                                    \n23695361    1.061530e-06         0.0  0.111823   0.0  0.263130  0.625043   \n23695365    1.967559e-08         0.0  0.119603   0.0  0.272258  0.608139   \n23760961    0.000000e+00         0.0  0.000010   0.0  0.000000  0.000000   \n23760962    0.000000e+00         0.0  0.000579   0.0  0.000000  0.000000   \n23760963    0.000000e+00         0.0  0.001509   0.0  0.000000  0.000000   \n...                  ...         ...       ...   ...       ...       ...   \n2464724829  3.022226e-05         0.0  0.691838   0.0  0.308044  0.000000   \n2464847169  1.213314e-03         0.0  0.249261   0.0  0.745641  0.000000   \n2464847173  7.535248e-04         0.0  0.186394   0.0  0.810411  0.000000   \n2464980993  4.326905e-05         0.0  0.003217   0.0  0.996572  0.000000   \n2464980997  3.791076e-05         0.0  0.003749   0.0  0.996046  0.000000   \n\n            WALK_EXP  WALK_HVY  WALK_COM  DRIVE_LOC  DRIVE_LRF  DRIVE_EXP  \\\ntrip_id                                                                     \n23695361         0.0       0.0       0.0        0.0        0.0        0.0   \n23695365         0.0       0.0       0.0        0.0        0.0        0.0   \n23760961         0.0       0.0       0.0        0.0        0.0        0.0   \n23760962         0.0       0.0       0.0        0.0        0.0        0.0   \n23760963         0.0       0.0       0.0        0.0        0.0        0.0   \n...              ...       ...       ...        ...        ...        ...   \n2464724829       0.0       0.0       0.0        0.0        0.0        0.0   \n2464847169       0.0       0.0       0.0        0.0        0.0        0.0   \n2464847173       0.0       0.0       0.0        0.0        0.0        0.0   \n2464980993       0.0       0.0       0.0        0.0        0.0        0.0   \n2464980997       0.0       0.0       0.0        0.0        0.0        0.0   \n\n            DRIVE_HVY  DRIVE_COM          TAXI    TNC_SINGLE    TNC_SHARED  \ntrip_id                                                                     \n23695361          0.0        0.0  2.489336e-08  4.965881e-08  4.072015e-07  \n23695365          0.0        0.0  2.435815e-08  4.996681e-08  4.311721e-07  \n23760961          0.0        0.0  4.724941e-05  1.754653e-04  1.035425e-04  \n23760962          0.0        0.0  1.066593e-04  2.780937e-04  1.021060e-04  \n23760963          0.0        0.0  1.039326e-04  2.850044e-04  1.143830e-04  \n...               ...        ...           ...           ...           ...  \n2464724829        0.0        0.0  3.606576e-05  4.836729e-07  1.874068e-05  \n2464847169        0.0        0.0  4.274883e-04  5.407950e-04  5.947334e-04  \n2464847173        0.0        0.0  3.063342e-04  4.098183e-04  4.563525e-04  \n2464980993        0.0        0.0  1.593300e-05  4.967854e-05  1.954461e-05  \n2464980997        0.0        0.0  2.239090e-05  6.033135e-05  2.206105e-05  \n\n[5428 rows x 21 columns]",
      "text/html": "<div>\n<style scoped>\n    .dataframe tbody tr th:only-of-type {\n        vertical-align: middle;\n    }\n\n    .dataframe tbody tr th {\n        vertical-align: top;\n    }\n\n    .dataframe thead th {\n        text-align: right;\n    }\n</style>\n<table border=\"1\" class=\"dataframe\">\n  <thead>\n    <tr style=\"text-align: right;\">\n      <th></th>\n      <th>DRIVEALONEFREE</th>\n      <th>DRIVEALONEPAY</th>\n      <th>SHARED2FREE</th>\n      <th>SHARED2PAY</th>\n      <th>SHARED3FREE</th>\n      <th>SHARED3PAY</th>\n      <th>WALK</th>\n      <th>BIKE</th>\n      <th>WALK_LOC</th>\n      <th>WALK_LRF</th>\n      <th>WALK_EXP</th>\n      <th>WALK_HVY</th>\n      <th>WALK_COM</th>\n      <th>DRIVE_LOC</th>\n      <th>DRIVE_LRF</th>\n      <th>DRIVE_EXP</th>\n      <th>DRIVE_HVY</th>\n      <th>DRIVE_COM</th>\n      <th>TAXI</th>\n      <th>TNC_SINGLE</th>\n      <th>TNC_SHARED</th>\n    </tr>\n    <tr>\n      <th>trip_id</th>\n      <th></th>\n      <th></th>\n      <th></th>\n      <th></th>\n      <th></th>\n      <th></th>\n      <th></th>\n      <th></th>\n      <th></th>\n      <th></th>\n      <th></th>\n      <th></th>\n      <th></th>\n      <th></th>\n      <th></th>\n      <th></th>\n      <th></th>\n      <th></th>\n      <th></th>\n      <th></th>\n      <th></th>\n    </tr>\n  </thead>\n  <tbody>\n    <tr>\n      <th>23695361</th>\n      <td>0.000000</td>\n      <td>0.0</td>\n      <td>2.027363e-06</td>\n      <td>0.0</td>\n      <td>1.061530e-06</td>\n      <td>0.0</td>\n      <td>0.111823</td>\n      <td>0.0</td>\n      <td>0.263130</td>\n      <td>0.625043</td>\n      <td>0.0</td>\n      <td>0.0</td>\n      <td>0.0</td>\n      <td>0.0</td>\n      <td>0.0</td>\n      <td>0.0</td>\n      <td>0.0</td>\n      <td>0.0</td>\n      <td>2.489336e-08</td>\n      <td>4.965881e-08</td>\n      <td>4.072015e-07</td>\n    </tr>\n    <tr>\n      <th>23695365</th>\n      <td>0.000000</td>\n      <td>0.0</td>\n      <td>2.943297e-09</td>\n      <td>0.0</td>\n      <td>1.967559e-08</td>\n      <td>0.0</td>\n      <td>0.119603</td>\n      <td>0.0</td>\n      <td>0.272258</td>\n      <td>0.608139</td>\n      <td>0.0</td>\n      <td>0.0</td>\n      <td>0.0</td>\n      <td>0.0</td>\n      <td>0.0</td>\n      <td>0.0</td>\n      <td>0.0</td>\n      <td>0.0</td>\n      <td>2.435815e-08</td>\n      <td>4.996681e-08</td>\n      <td>4.311721e-07</td>\n    </tr>\n    <tr>\n      <th>23760961</th>\n      <td>0.999664</td>\n      <td>0.0</td>\n      <td>0.000000e+00</td>\n      <td>0.0</td>\n      <td>0.000000e+00</td>\n      <td>0.0</td>\n      <td>0.000010</td>\n      <td>0.0</td>\n      <td>0.000000</td>\n      <td>0.000000</td>\n      <td>0.0</td>\n      <td>0.0</td>\n      <td>0.0</td>\n      <td>0.0</td>\n      <td>0.0</td>\n      <td>0.0</td>\n      <td>0.0</td>\n      <td>0.0</td>\n      <td>4.724941e-05</td>\n      <td>1.754653e-04</td>\n      <td>1.035425e-04</td>\n    </tr>\n    <tr>\n      <th>23760962</th>\n      <td>0.998934</td>\n      <td>0.0</td>\n      <td>0.000000e+00</td>\n      <td>0.0</td>\n      <td>0.000000e+00</td>\n      <td>0.0</td>\n      <td>0.000579</td>\n      <td>0.0</td>\n      <td>0.000000</td>\n      <td>0.000000</td>\n      <td>0.0</td>\n      <td>0.0</td>\n      <td>0.0</td>\n      <td>0.0</td>\n      <td>0.0</td>\n      <td>0.0</td>\n      <td>0.0</td>\n      <td>0.0</td>\n      <td>1.066593e-04</td>\n      <td>2.780937e-04</td>\n      <td>1.021060e-04</td>\n    </tr>\n    <tr>\n      <th>23760963</th>\n      <td>0.997988</td>\n      <td>0.0</td>\n      <td>0.000000e+00</td>\n      <td>0.0</td>\n      <td>0.000000e+00</td>\n      <td>0.0</td>\n      <td>0.001509</td>\n      <td>0.0</td>\n      <td>0.000000</td>\n      <td>0.000000</td>\n      <td>0.0</td>\n      <td>0.0</td>\n      <td>0.0</td>\n      <td>0.0</td>\n      <td>0.0</td>\n      <td>0.0</td>\n      <td>0.0</td>\n      <td>0.0</td>\n      <td>1.039326e-04</td>\n      <td>2.850044e-04</td>\n      <td>1.143830e-04</td>\n    </tr>\n    <tr>\n      <th>...</th>\n      <td>...</td>\n      <td>...</td>\n      <td>...</td>\n      <td>...</td>\n      <td>...</td>\n      <td>...</td>\n      <td>...</td>\n      <td>...</td>\n      <td>...</td>\n      <td>...</td>\n      <td>...</td>\n      <td>...</td>\n      <td>...</td>\n      <td>...</td>\n      <td>...</td>\n      <td>...</td>\n      <td>...</td>\n      <td>...</td>\n      <td>...</td>\n      <td>...</td>\n      <td>...</td>\n    </tr>\n    <tr>\n      <th>2464724829</th>\n      <td>0.000000</td>\n      <td>0.0</td>\n      <td>3.268925e-05</td>\n      <td>0.0</td>\n      <td>3.022226e-05</td>\n      <td>0.0</td>\n      <td>0.691838</td>\n      <td>0.0</td>\n      <td>0.308044</td>\n      <td>0.000000</td>\n      <td>0.0</td>\n      <td>0.0</td>\n      <td>0.0</td>\n      <td>0.0</td>\n      <td>0.0</td>\n      <td>0.0</td>\n      <td>0.0</td>\n      <td>0.0</td>\n      <td>3.606576e-05</td>\n      <td>4.836729e-07</td>\n      <td>1.874068e-05</td>\n    </tr>\n    <tr>\n      <th>2464847169</th>\n      <td>0.000000</td>\n      <td>0.0</td>\n      <td>2.321209e-03</td>\n      <td>0.0</td>\n      <td>1.213314e-03</td>\n      <td>0.0</td>\n      <td>0.249261</td>\n      <td>0.0</td>\n      <td>0.745641</td>\n      <td>0.000000</td>\n      <td>0.0</td>\n      <td>0.0</td>\n      <td>0.0</td>\n      <td>0.0</td>\n      <td>0.0</td>\n      <td>0.0</td>\n      <td>0.0</td>\n      <td>0.0</td>\n      <td>4.274883e-04</td>\n      <td>5.407950e-04</td>\n      <td>5.947334e-04</td>\n    </tr>\n    <tr>\n      <th>2464847173</th>\n      <td>0.000000</td>\n      <td>0.0</td>\n      <td>1.269812e-03</td>\n      <td>0.0</td>\n      <td>7.535248e-04</td>\n      <td>0.0</td>\n      <td>0.186394</td>\n      <td>0.0</td>\n      <td>0.810411</td>\n      <td>0.000000</td>\n      <td>0.0</td>\n      <td>0.0</td>\n      <td>0.0</td>\n      <td>0.0</td>\n      <td>0.0</td>\n      <td>0.0</td>\n      <td>0.0</td>\n      <td>0.0</td>\n      <td>3.063342e-04</td>\n      <td>4.098183e-04</td>\n      <td>4.563525e-04</td>\n    </tr>\n    <tr>\n      <th>2464980993</th>\n      <td>0.000000</td>\n      <td>0.0</td>\n      <td>8.280461e-05</td>\n      <td>0.0</td>\n      <td>4.326905e-05</td>\n      <td>0.0</td>\n      <td>0.003217</td>\n      <td>0.0</td>\n      <td>0.996572</td>\n      <td>0.000000</td>\n      <td>0.0</td>\n      <td>0.0</td>\n      <td>0.0</td>\n      <td>0.0</td>\n      <td>0.0</td>\n      <td>0.0</td>\n      <td>0.0</td>\n      <td>0.0</td>\n      <td>1.593300e-05</td>\n      <td>4.967854e-05</td>\n      <td>1.954461e-05</td>\n    </tr>\n    <tr>\n      <th>2464980997</th>\n      <td>0.000000</td>\n      <td>0.0</td>\n      <td>6.298188e-05</td>\n      <td>0.0</td>\n      <td>3.791076e-05</td>\n      <td>0.0</td>\n      <td>0.003749</td>\n      <td>0.0</td>\n      <td>0.996046</td>\n      <td>0.000000</td>\n      <td>0.0</td>\n      <td>0.0</td>\n      <td>0.0</td>\n      <td>0.0</td>\n      <td>0.0</td>\n      <td>0.0</td>\n      <td>0.0</td>\n      <td>0.0</td>\n      <td>2.239090e-05</td>\n      <td>6.033135e-05</td>\n      <td>2.206105e-05</td>\n    </tr>\n  </tbody>\n</table>\n<p>5428 rows × 21 columns</p>\n</div>"
     },
     "execution_count": 124,
     "metadata": {},
     "output_type": "execute_result"
    }
   ],
   "source": [
    "larch_probs"
   ],
   "metadata": {
    "collapsed": false,
    "pycharm": {
     "name": "#%%\n"
    }
   }
  },
  {
   "cell_type": "code",
   "execution_count": 144,
   "outputs": [
    {
     "name": "stderr",
     "output_type": "stream",
     "text": [
      "estimation bundle trip_mode_choice not in settings file estimation.yaml\n"
     ]
    },
    {
     "name": "stdout",
     "output_type": "stream",
     "text": [
      "trip_mode_choice tour_type 'work' (100000 trips)\n",
      "Done\n"
     ]
    },
    {
     "name": "stderr",
     "output_type": "stream",
     "text": [
      "estimation bundle trip_mode_choice not in settings file estimation.yaml\n"
     ]
    },
    {
     "name": "stdout",
     "output_type": "stream",
     "text": [
      "trip_mode_choice tour_type 'work' (100000 trips)\n",
      "Done\n",
      "CPU times: user 1min 10s, sys: 3.98 s, total: 1min 14s\n",
      "Wall time: 1min 9s\n"
     ]
    },
    {
     "data": {
      "text/plain": "                  me     asim    larch\nSHARED2FREE   0.395%   0.420%   0.359%\nSHARED3FREE   0.214%   0.226%   0.188%\nTNC_SINGLE    0.212%   0.231%   0.202%\nWALK          0.488%   0.466%   0.435%\nWALK_HVY     69.439%  69.422%  60.165%\nWALK_LOC      9.697%   9.596%  14.513%\nWALK_LRF     19.390%  19.469%  23.977%",
      "text/html": "<div>\n<style scoped>\n    .dataframe tbody tr th:only-of-type {\n        vertical-align: middle;\n    }\n\n    .dataframe tbody tr th {\n        vertical-align: top;\n    }\n\n    .dataframe thead th {\n        text-align: right;\n    }\n</style>\n<table border=\"1\" class=\"dataframe\">\n  <thead>\n    <tr style=\"text-align: right;\">\n      <th></th>\n      <th>me</th>\n      <th>asim</th>\n      <th>larch</th>\n    </tr>\n  </thead>\n  <tbody>\n    <tr>\n      <th>SHARED2FREE</th>\n      <td>0.395%</td>\n      <td>0.420%</td>\n      <td>0.359%</td>\n    </tr>\n    <tr>\n      <th>SHARED3FREE</th>\n      <td>0.214%</td>\n      <td>0.226%</td>\n      <td>0.188%</td>\n    </tr>\n    <tr>\n      <th>TNC_SINGLE</th>\n      <td>0.212%</td>\n      <td>0.231%</td>\n      <td>0.202%</td>\n    </tr>\n    <tr>\n      <th>WALK</th>\n      <td>0.488%</td>\n      <td>0.466%</td>\n      <td>0.435%</td>\n    </tr>\n    <tr>\n      <th>WALK_HVY</th>\n      <td>69.439%</td>\n      <td>69.422%</td>\n      <td>60.165%</td>\n    </tr>\n    <tr>\n      <th>WALK_LOC</th>\n      <td>9.697%</td>\n      <td>9.596%</td>\n      <td>14.513%</td>\n    </tr>\n    <tr>\n      <th>WALK_LRF</th>\n      <td>19.390%</td>\n      <td>19.469%</td>\n      <td>23.977%</td>\n    </tr>\n  </tbody>\n</table>\n</div>"
     },
     "execution_count": 144,
     "metadata": {},
     "output_type": "execute_result"
    }
   ],
   "source": [
    "%%time\n",
    "\n",
    "trip_id_to_check = 24106017 # obvious results with 1e4 samples: 23695361 24106017\n",
    "# better with 1e5 samples: 1932588125\n",
    "# requires higher precision, check when time: 38280865\n",
    "num_samples = 100000  # 1e5 takes about 80s\n",
    "\n",
    "comp = compare_mode_share_simulation(trip_id_to_check, num_samples, larch_trips_merged, larch_probs)\n",
    "comp.loc[(comp > 1e-3).any(axis=1), :].applymap(lambda x: f\"{x:.3%}\")"
   ],
   "metadata": {
    "collapsed": false,
    "pycharm": {
     "name": "#%%\n"
    }
   }
  },
  {
   "cell_type": "code",
   "execution_count": null,
   "outputs": [],
   "source": [],
   "metadata": {
    "collapsed": false,
    "pycharm": {
     "name": "#%%\n"
    }
   }
  },
  {
   "cell_type": "code",
   "execution_count": null,
   "outputs": [],
   "source": [],
   "metadata": {
    "collapsed": false,
    "pycharm": {
     "name": "#%%\n"
    }
   }
  },
  {
   "cell_type": "code",
   "execution_count": 139,
   "outputs": [],
   "source": [
    "#comp.loc[(comp > 0).any(axis=1), :]"
   ],
   "metadata": {
    "collapsed": false,
    "pycharm": {
     "name": "#%%\n"
    }
   }
  },
  {
   "cell_type": "code",
   "execution_count": 140,
   "outputs": [
    {
     "data": {
      "text/plain": "0.252"
     },
     "execution_count": 140,
     "metadata": {},
     "output_type": "execute_result"
    }
   ],
   "source": [
    "0.72 * 0.35"
   ],
   "metadata": {
    "collapsed": false,
    "pycharm": {
     "name": "#%%\n"
    }
   }
  },
  {
   "cell_type": "code",
   "execution_count": null,
   "outputs": [],
   "source": [
    "# check what happens if you multiply them - like Train at the lower level? but then 0<scale<1 for both"
   ],
   "metadata": {
    "collapsed": false,
    "pycharm": {
     "name": "#%%\n"
    }
   }
  }
 ],
 "metadata": {
  "kernelspec": {
   "display_name": "Python 3",
   "language": "python",
   "name": "python3"
  },
  "language_info": {
   "codemirror_mode": {
    "name": "ipython",
    "version": 3
   },
   "file_extension": ".py",
   "mimetype": "text/x-python",
   "name": "python",
   "nbconvert_exporter": "python",
   "pygments_lexer": "ipython3",
   "version": "3.8.2"
  }
 },
 "nbformat": 4,
 "nbformat_minor": 5
}