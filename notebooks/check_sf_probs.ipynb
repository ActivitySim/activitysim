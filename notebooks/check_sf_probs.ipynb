{
 "cells": [
  {
   "cell_type": "markdown",
   "id": "7ece3567-e4b1-4c3f-a264-20625abb6ad7",
   "metadata": {},
   "source": [
    "# Compare results against larch\n",
    "\n",
    "We use estimation data as prepared by larch and draw the Asim way and our way, then compare to larch probabilities.\n"
   ]
  },
  {
   "cell_type": "code",
   "execution_count": 1,
   "id": "bd74ba44-0dfb-439a-a6ab-7ceedfc5f523",
   "metadata": {
    "execution": {
     "iopub.execute_input": "2022-05-01T10:17:57.385153Z",
     "iopub.status.busy": "2022-05-01T10:17:57.384881Z",
     "iopub.status.idle": "2022-05-01T10:17:57.534433Z",
     "shell.execute_reply": "2022-05-01T10:17:57.533096Z",
     "shell.execute_reply.started": "2022-05-01T10:17:57.385047Z"
    },
    "tags": []
   },
   "outputs": [],
   "source": [
    "%load_ext autoreload"
   ]
  },
  {
   "cell_type": "code",
   "execution_count": 2,
   "id": "c3dba451-1e10-403e-8614-35d57e6577f4",
   "metadata": {
    "execution": {
     "iopub.execute_input": "2022-05-01T10:17:57.536623Z",
     "iopub.status.busy": "2022-05-01T10:17:57.536012Z",
     "iopub.status.idle": "2022-05-01T10:17:57.542755Z",
     "shell.execute_reply": "2022-05-01T10:17:57.541685Z",
     "shell.execute_reply.started": "2022-05-01T10:17:57.536567Z"
    },
    "tags": []
   },
   "outputs": [],
   "source": [
    "%autoreload 2"
   ]
  },
  {
   "cell_type": "code",
   "execution_count": 10,
   "id": "73deaac4-e7ac-4aff-b086-4980dc6dd903",
   "metadata": {
    "execution": {
     "iopub.execute_input": "2022-05-01T10:18:00.350944Z",
     "iopub.status.busy": "2022-05-01T10:18:00.350730Z",
     "iopub.status.idle": "2022-05-01T10:18:12.760977Z",
     "shell.execute_reply": "2022-05-01T10:18:12.760013Z",
     "shell.execute_reply.started": "2022-05-01T10:18:00.350919Z"
    },
    "tags": []
   },
   "outputs": [],
   "source": [
    "import os\n",
    "import argparse\n",
    "\n",
    "import numpy as np\n",
    "import pandas as pd\n",
    "\n",
    "from activitysim.cli import run\n",
    "from activitysim.core import inject\n",
    "\n",
    "from fru_utils import mode_choice_for_trip\n",
    "\n",
    "pd.set_option(\"max_columns\", 500)"
   ]
  },
  {
   "cell_type": "code",
   "execution_count": 5,
   "id": "41fec4e8-a174-4e66-87d2-1e8c7979de90",
   "metadata": {
    "execution": {
     "iopub.execute_input": "2022-05-01T10:18:17.839947Z",
     "iopub.status.busy": "2022-05-01T10:18:17.839070Z",
     "iopub.status.idle": "2022-05-01T10:18:18.019676Z",
     "shell.execute_reply": "2022-05-01T10:18:18.018689Z",
     "shell.execute_reply.started": "2022-05-01T10:18:17.839911Z"
    },
    "tags": []
   },
   "outputs": [],
   "source": [
    "root_dir = \"/mnt/c/Users/jan.zill/code/activitysim\"\n",
    "example_dir = os.path.join(root_dir, \"test_example_sf\")\n",
    "os.chdir(example_dir)"
   ]
  },
  {
   "cell_type": "code",
   "execution_count": 7,
   "outputs": [],
   "source": [
    "#!activitysim run -c configs -o output -d data_sf"
   ],
   "metadata": {
    "collapsed": false,
    "pycharm": {
     "name": "#%%\n"
    }
   }
  },
  {
   "cell_type": "code",
   "execution_count": 8,
   "id": "730be239-8704-4483-bbb8-ffae0f17c5d4",
   "metadata": {
    "execution": {
     "iopub.execute_input": "2022-05-01T10:18:22.111723Z",
     "iopub.status.busy": "2022-05-01T10:18:22.111490Z",
     "iopub.status.idle": "2022-05-01T10:18:22.297437Z",
     "shell.execute_reply": "2022-05-01T10:18:22.296501Z",
     "shell.execute_reply.started": "2022-05-01T10:18:22.111697Z"
    },
    "tags": []
   },
   "outputs": [],
   "source": [
    "parser = argparse.ArgumentParser()\n",
    "run.add_run_args(parser)\n",
    "args = parser.parse_args(['-c', 'configs', '-o', 'output', '-d', 'data_sf'])\n",
    "if not inject.is_injectable('preload_injectables'):\n",
    "    from activitysim import abm  # register abm steps and other abm-specific injectables\n",
    "run.handle_standard_args(args)  # possibly update injectables"
   ]
  },
  {
   "cell_type": "code",
   "execution_count": 68,
   "outputs": [],
   "source": [
    "larch_chooser_data = pd.read_csv(os.path.join(root_dir, \"test_estimation_sf\", \"choosers_larch.csv\"))\n",
    "larch_probs = pd.read_csv(os.path.join(root_dir, \"test_estimation_sf\", \"probabilities_larch.csv\"), index_col=0)\n",
    "# __caseids__ are tour ids, with trips in same order\n",
    "assert (larch_probs.index.values ==  larch_chooser_data.tour_id).all()\n",
    "larch_probs.index = larch_chooser_data.trip_id"
   ],
   "metadata": {
    "collapsed": false,
    "pycharm": {
     "name": "#%%\n"
    }
   }
  },
  {
   "cell_type": "code",
   "execution_count": 50,
   "outputs": [],
   "source": [
    "larch_tours = pd.read_csv(os.path.join(root_dir, \"test_estimation_sf\", \"output\", \"estimation_data_bundle\",\n",
    "                                       \"trip_mode_choice\", \"trip_mode_choice_values_combined.csv\"))\n",
    "trips_merged_cols = ['person_id', 'household_id', 'primary_purpose', 'trip_num', 'outbound',\n",
    "                     'trip_count', 'destination', 'origin', 'tour_id', 'purpose',\n",
    "                     'destination_logsum', 'depart', 'hhsize', 'age', 'auto_ownership',\n",
    "                     'number_of_participants', 'tour_category', 'parent_tour_id',\n",
    "                     'tour_mode', 'duration', 'value_of_time', 'tour_type',\n",
    "                     'free_parking_at_work', 'trip_period', \"trip_id\"]\n",
    "\n",
    "larch_trips_merged = larch_tours[trips_merged_cols].set_index(\"trip_id\")"
   ],
   "metadata": {
    "collapsed": false,
    "pycharm": {
     "name": "#%%\n"
    }
   }
  },
  {
   "cell_type": "code",
   "execution_count": 87,
   "outputs": [],
   "source": [
    "def compare_mode_share_simulation(trip_id_to_check, num_samples, larch_trips_merged, larch_probs):\n",
    "    t_, c_, ns_ = mode_choice_for_trip(choose_individual_max_utility=True, trip_id_to_check=trip_id_to_check,\n",
    "                                       num_samples=num_samples, trips_merged=larch_trips_merged)\n",
    "    sim_mode_shares = c_.trip_mode.value_counts() / c_.shape[0]\n",
    "\n",
    "    t_asim, c_asim, _ = mode_choice_for_trip(choose_individual_max_utility=False, trip_id_to_check=trip_id_to_check,\n",
    "                                             num_samples=num_samples, trips_merged=larch_trips_merged)\n",
    "    asim_mode_shares = c_asim.trip_mode.value_counts() / c_asim.shape[0]\n",
    "\n",
    "    larch_mode_shares = larch_probs.loc[larch_probs.index == trip_id_to_check].T\n",
    "    larch_mode_shares.columns = [\"larch\"]\n",
    "\n",
    "    comp = sim_mode_shares.to_frame(\"me\")\\\n",
    "        .merge(asim_mode_shares.to_frame(\"asim\"), left_index=True, right_index=True,how=\"outer\")\\\n",
    "        .merge(larch_mode_shares,left_index=True, right_index=True, how=\"outer\").fillna(0)\n",
    "\n",
    "    return comp"
   ],
   "metadata": {
    "collapsed": false,
    "pycharm": {
     "name": "#%%\n"
    }
   }
  },
  {
   "cell_type": "code",
   "execution_count": null,
   "outputs": [
    {
     "name": "stderr",
     "output_type": "stream",
     "text": [
      "estimation bundle trip_mode_choice not in settings file estimation.yaml\n"
     ]
    },
    {
     "name": "stdout",
     "output_type": "stream",
     "text": [
      "trip_mode_choice tour_type 'work' (10000 trips)\n"
     ]
    }
   ],
   "source": [
    "%%time\n",
    "\n",
    "trip_id_to_check = 23695361\n",
    "num_samples = 10000\n",
    "\n",
    "comp = compare_mode_share_simulation(trip_id_to_check, num_samples, larch_trips_merged, larch_probs)\n",
    "comp.loc[(comp > 1e-3).any(axis=1), :].applymap(lambda x: f\"{x:.3%}\")"
   ],
   "metadata": {
    "collapsed": false,
    "pycharm": {
     "name": "#%%\n",
     "is_executing": true
    }
   }
  },
  {
   "cell_type": "code",
   "execution_count": 95,
   "outputs": [
    {
     "data": {
      "text/plain": "                 me    asim         larch\nSHARED2FREE  0.0000  0.0000  2.027363e-06\nSHARED3FREE  0.0000  0.0000  1.061530e-06\nTAXI         0.0000  0.0000  2.489336e-08\nTNC_SHARED   0.0000  0.0000  4.072015e-07\nTNC_SINGLE   0.0000  0.0000  4.965881e-08\nWALK         0.1085  0.1166  1.118235e-01\nWALK_LOC     0.2615  0.2015  2.631296e-01\nWALK_LRF     0.6300  0.6819  6.250434e-01",
      "text/html": "<div>\n<style scoped>\n    .dataframe tbody tr th:only-of-type {\n        vertical-align: middle;\n    }\n\n    .dataframe tbody tr th {\n        vertical-align: top;\n    }\n\n    .dataframe thead th {\n        text-align: right;\n    }\n</style>\n<table border=\"1\" class=\"dataframe\">\n  <thead>\n    <tr style=\"text-align: right;\">\n      <th></th>\n      <th>me</th>\n      <th>asim</th>\n      <th>larch</th>\n    </tr>\n  </thead>\n  <tbody>\n    <tr>\n      <th>SHARED2FREE</th>\n      <td>0.0000</td>\n      <td>0.0000</td>\n      <td>2.027363e-06</td>\n    </tr>\n    <tr>\n      <th>SHARED3FREE</th>\n      <td>0.0000</td>\n      <td>0.0000</td>\n      <td>1.061530e-06</td>\n    </tr>\n    <tr>\n      <th>TAXI</th>\n      <td>0.0000</td>\n      <td>0.0000</td>\n      <td>2.489336e-08</td>\n    </tr>\n    <tr>\n      <th>TNC_SHARED</th>\n      <td>0.0000</td>\n      <td>0.0000</td>\n      <td>4.072015e-07</td>\n    </tr>\n    <tr>\n      <th>TNC_SINGLE</th>\n      <td>0.0000</td>\n      <td>0.0000</td>\n      <td>4.965881e-08</td>\n    </tr>\n    <tr>\n      <th>WALK</th>\n      <td>0.1085</td>\n      <td>0.1166</td>\n      <td>1.118235e-01</td>\n    </tr>\n    <tr>\n      <th>WALK_LOC</th>\n      <td>0.2615</td>\n      <td>0.2015</td>\n      <td>2.631296e-01</td>\n    </tr>\n    <tr>\n      <th>WALK_LRF</th>\n      <td>0.6300</td>\n      <td>0.6819</td>\n      <td>6.250434e-01</td>\n    </tr>\n  </tbody>\n</table>\n</div>"
     },
     "execution_count": 95,
     "metadata": {},
     "output_type": "execute_result"
    }
   ],
   "source": [
    "comp.loc[(comp > 0).any(axis=1), :]"
   ],
   "metadata": {
    "collapsed": false,
    "pycharm": {
     "name": "#%%\n"
    }
   }
  },
  {
   "cell_type": "code",
   "execution_count": null,
   "outputs": [],
   "source": [],
   "metadata": {
    "collapsed": false,
    "pycharm": {
     "name": "#%%\n"
    }
   }
  }
 ],
 "metadata": {
  "kernelspec": {
   "display_name": "Python 3",
   "language": "python",
   "name": "python3"
  },
  "language_info": {
   "codemirror_mode": {
    "name": "ipython",
    "version": 3
   },
   "file_extension": ".py",
   "mimetype": "text/x-python",
   "name": "python",
   "nbconvert_exporter": "python",
   "pygments_lexer": "ipython3",
   "version": "3.8.2"
  }
 },
 "nbformat": 4,
 "nbformat_minor": 5
}