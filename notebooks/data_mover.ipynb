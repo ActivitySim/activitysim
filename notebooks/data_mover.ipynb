{
 "metadata": {
  "name": "",
  "signature": "sha256:42ad8a2d396c95f5a0908ef4573c367e796539873eb37e25368303c840ce8144"
 },
 "nbformat": 3,
 "nbformat_minor": 0,
 "worksheets": [
  {
   "cells": [
    {
     "cell_type": "code",
     "collapsed": false,
     "input": [
      "import pandas as pd\n",
      "import os\n",
      "from activitysim import activitysim as asim\n",
      "# this is where I unzipped the MTC data\n",
      "SRCDIR = \"/Users/ffoti/data/activitysim\"\n",
      "# and where it's going to\n",
      "TGTFILE = \"../example/data/mtc_asim.h5\""
     ],
     "language": "python",
     "metadata": {},
     "outputs": [],
     "prompt_number": 8
    },
    {
     "cell_type": "code",
     "collapsed": false,
     "input": [
      "store = pd.HDFStore(TGTFILE, \"w\")"
     ],
     "language": "python",
     "metadata": {},
     "outputs": [],
     "prompt_number": 9
    },
    {
     "cell_type": "code",
     "collapsed": false,
     "input": [
      "col_map = {\n",
      "    \"HHID\": \"household_id\",\n",
      "    \"AGE\": \"age\",\n",
      "    \"hworkers\": \"workers\",\n",
      "    \"HINC\": \"income\"\n",
      "}"
     ],
     "language": "python",
     "metadata": {},
     "outputs": [],
     "prompt_number": 10
    },
    {
     "cell_type": "code",
     "collapsed": false,
     "input": [
      "df = pd.read_csv(os.path.join(SRCDIR, \"landuse\", \"tazData.csv\"), index_col=\"ZONE\")\n",
      "df.columns = [col_map.get(s, s) for s in df.columns]\n",
      "store[\"land_use/taz_data\"] = df"
     ],
     "language": "python",
     "metadata": {},
     "outputs": [],
     "prompt_number": 11
    },
    {
     "cell_type": "code",
     "collapsed": false,
     "input": [
      "df = pd.read_csv(os.path.join(SRCDIR, \"skims\", \"accessibility.csv\"), index_col=\"taz\")\n",
      "df.columns = [col_map.get(s, s) for s in df.columns]\n",
      "store[\"skims/accessibility\"] = df"
     ],
     "language": "python",
     "metadata": {},
     "outputs": [],
     "prompt_number": 12
    },
    {
     "cell_type": "code",
     "collapsed": false,
     "input": [
      "df = pd.read_csv(os.path.join(SRCDIR, \"popsyn\", \"hhFile.p2011s3a1.2010.csv\"), index_col=\"HHID\")\n",
      "df.columns = [col_map.get(s, s) for s in df.columns]\n",
      "store[\"households\"] = df"
     ],
     "language": "python",
     "metadata": {},
     "outputs": [],
     "prompt_number": 13
    },
    {
     "cell_type": "code",
     "collapsed": false,
     "input": [
      "df = pd.read_csv(os.path.join(SRCDIR, \"popsyn\", \"personFile.p2011s3a1.2010.csv\"), index_col=\"PERID\")\n",
      "df.columns = [col_map.get(s, s) for s in df.columns]\n",
      "store[\"persons\"] = df"
     ],
     "language": "python",
     "metadata": {},
     "outputs": [],
     "prompt_number": 14
    },
    {
     "cell_type": "code",
     "collapsed": false,
     "input": [
      "store.close()"
     ],
     "language": "python",
     "metadata": {},
     "outputs": [],
     "prompt_number": 15
    },
    {
     "cell_type": "code",
     "collapsed": false,
     "input": [],
     "language": "python",
     "metadata": {},
     "outputs": [],
     "prompt_number": 15
    }
   ],
   "metadata": {}
  }
 ]
}