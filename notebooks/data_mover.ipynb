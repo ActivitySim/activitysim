{
 "metadata": {
  "name": "",
  "signature": "sha256:b9b5094000883a97d7687aa911926f2d0f45c0546957b83f82fc449cce6edc6c"
 },
 "nbformat": 3,
 "nbformat_minor": 0,
 "worksheets": [
  {
   "cells": [
    {
     "cell_type": "code",
     "collapsed": false,
     "input": [
      "import pandas as pd\n",
      "import os\n",
      "# this is where I unzipped the MTC data\n",
      "SRCDIR = \"/Users/ffoti/data/activitysim\"\n",
      "# and where it's going to\n",
      "TGTFILE = \"../example/data/mtc_asim.h5\""
     ],
     "language": "python",
     "metadata": {},
     "outputs": [],
     "prompt_number": 17
    },
    {
     "cell_type": "code",
     "collapsed": false,
     "input": [
      "store = pd.HDFStore(TGTFILE, \"w\")"
     ],
     "language": "python",
     "metadata": {},
     "outputs": [],
     "prompt_number": 18
    },
    {
     "cell_type": "code",
     "collapsed": false,
     "input": [
      "col_map = {\n",
      "    \"HHID\": \"household_id\",\n",
      "    \"AGE\": \"age\",\n",
      "    \"TOTHH\": \"total_households\",\n",
      "    \"TOTEMP\": \"total_employment\",\n",
      "    \"TOTACRE\": \"total_acres\",\n",
      "    \"COUNTY\": \"county_id\",\n",
      "    \"hworkers\": \"workers\",\n",
      "    \"HINC\": \"income\"\n",
      "}"
     ],
     "language": "python",
     "metadata": {},
     "outputs": [],
     "prompt_number": 19
    },
    {
     "cell_type": "code",
     "collapsed": false,
     "input": [
      "df = pd.read_csv(os.path.join(SRCDIR, \"landuse\", \"tazData.csv\"), index_col=\"ZONE\")\n",
      "df.columns = [col_map.get(s, s) for s in df.columns]\n",
      "store[\"land_use/taz_data\"] = df"
     ],
     "language": "python",
     "metadata": {},
     "outputs": [],
     "prompt_number": 20
    },
    {
     "cell_type": "code",
     "collapsed": false,
     "input": [
      "df = pd.read_csv(os.path.join(SRCDIR, \"skims\", \"accessibility.csv\"), index_col=\"taz\")\n",
      "df.columns = [col_map.get(s, s) for s in df.columns]\n",
      "store[\"skims/accessibility\"] = df"
     ],
     "language": "python",
     "metadata": {},
     "outputs": [],
     "prompt_number": 21
    },
    {
     "cell_type": "code",
     "collapsed": false,
     "input": [
      "df = pd.read_csv(os.path.join(SRCDIR, \"popsyn\", \"hhFile.p2011s3a1.2010.csv\"), index_col=\"HHID\")\n",
      "df.columns = [col_map.get(s, s) for s in df.columns]\n",
      "store[\"households\"] = df"
     ],
     "language": "python",
     "metadata": {},
     "outputs": [],
     "prompt_number": 22
    },
    {
     "cell_type": "code",
     "collapsed": false,
     "input": [
      "df = pd.read_csv(os.path.join(SRCDIR, \"popsyn\", \"personFile.p2011s3a1.2010.csv\"), index_col=\"PERID\")\n",
      "df.columns = [col_map.get(s, s) for s in df.columns]\n",
      "store[\"persons\"] = df"
     ],
     "language": "python",
     "metadata": {},
     "outputs": [],
     "prompt_number": 23
    },
    {
     "cell_type": "code",
     "collapsed": false,
     "input": [
      "store.close()"
     ],
     "language": "python",
     "metadata": {},
     "outputs": [],
     "prompt_number": 24
    },
    {
     "cell_type": "code",
     "collapsed": false,
     "input": [],
     "language": "python",
     "metadata": {},
     "outputs": [],
     "prompt_number": 24
    }
   ],
   "metadata": {}
  }
 ]
}