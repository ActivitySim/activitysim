{
 "cells": [
  {
   "cell_type": "markdown",
   "id": "7ece3567-e4b1-4c3f-a264-20625abb6ad7",
   "metadata": {},
   "source": [
    "# validate results\n",
    "\n",
    "## TODO\n",
    "what happened to tracing when I fixed probability calcs - it seems like all trip ids are attached when I add one by\n",
    "hand below - why?"
   ]
  },
  {
   "cell_type": "code",
   "execution_count": 1,
   "id": "bd74ba44-0dfb-439a-a6ab-7ceedfc5f523",
   "metadata": {
    "execution": {
     "iopub.execute_input": "2022-05-01T10:17:57.385153Z",
     "iopub.status.busy": "2022-05-01T10:17:57.384881Z",
     "iopub.status.idle": "2022-05-01T10:17:57.534433Z",
     "shell.execute_reply": "2022-05-01T10:17:57.533096Z",
     "shell.execute_reply.started": "2022-05-01T10:17:57.385047Z"
    },
    "tags": []
   },
   "outputs": [],
   "source": [
    "%load_ext autoreload"
   ]
  },
  {
   "cell_type": "code",
   "execution_count": 2,
   "id": "c3dba451-1e10-403e-8614-35d57e6577f4",
   "metadata": {
    "execution": {
     "iopub.execute_input": "2022-05-01T10:17:57.536623Z",
     "iopub.status.busy": "2022-05-01T10:17:57.536012Z",
     "iopub.status.idle": "2022-05-01T10:17:57.542755Z",
     "shell.execute_reply": "2022-05-01T10:17:57.541685Z",
     "shell.execute_reply.started": "2022-05-01T10:17:57.536567Z"
    },
    "tags": []
   },
   "outputs": [],
   "source": [
    "%autoreload 2"
   ]
  },
  {
   "cell_type": "code",
   "execution_count": 36,
   "id": "73deaac4-e7ac-4aff-b086-4980dc6dd903",
   "metadata": {
    "execution": {
     "iopub.execute_input": "2022-05-01T10:18:00.350944Z",
     "iopub.status.busy": "2022-05-01T10:18:00.350730Z",
     "iopub.status.idle": "2022-05-01T10:18:12.760977Z",
     "shell.execute_reply": "2022-05-01T10:18:12.760013Z",
     "shell.execute_reply.started": "2022-05-01T10:18:00.350919Z"
    },
    "tags": []
   },
   "outputs": [],
   "source": [
    "import os\n",
    "import argparse\n",
    "from datetime import datetime\n",
    "\n",
    "import numpy as np\n",
    "import pandas as pd\n",
    "from numpy.random import default_rng\n",
    "from statsmodels.stats.gof import powerdiscrepancy\n",
    "from statsmodels.stats.proportion import multinomial_proportions_confint\n",
    "import numba\n",
    "import matplotlib.pyplot as plt\n",
    "\n",
    "from activitysim.cli import run\n",
    "from activitysim.core import inject\n",
    "\n",
    "from fru_utils import run_trip_mode_choice, comp_mode_shares, mode_choice_for_trip"
   ]
  },
  {
   "cell_type": "code",
   "execution_count": 37,
   "id": "7e553abd-fe0d-4cdc-aeb1-9dc80cb2757f",
   "metadata": {
    "execution": {
     "iopub.execute_input": "2022-05-01T10:18:16.944537Z",
     "iopub.status.busy": "2022-05-01T10:18:16.944291Z",
     "iopub.status.idle": "2022-05-01T10:18:17.124764Z",
     "shell.execute_reply": "2022-05-01T10:18:17.123725Z",
     "shell.execute_reply.started": "2022-05-01T10:18:16.944501Z"
    },
    "tags": []
   },
   "outputs": [],
   "source": [
    "pd.set_option(\"max_columns\", 500)"
   ]
  },
  {
   "cell_type": "code",
   "execution_count": 35,
   "outputs": [
    {
     "data": {
      "text/plain": "array([2, 1, 2])"
     },
     "execution_count": 35,
     "metadata": {},
     "output_type": "execute_result"
    }
   ],
   "source": [
    "np.argmax(np.array([[1,2,3],[4,6,5],[7,8,9]]), axis=1)"
   ],
   "metadata": {
    "collapsed": false,
    "pycharm": {
     "name": "#%%\n"
    }
   }
  },
  {
   "cell_type": "code",
   "execution_count": 34,
   "outputs": [
    {
     "data": {
      "text/plain": "   a  b  c\n0  1  2  3\n1  4  6  5\n2  7  8  9",
      "text/html": "<div>\n<style scoped>\n    .dataframe tbody tr th:only-of-type {\n        vertical-align: middle;\n    }\n\n    .dataframe tbody tr th {\n        vertical-align: top;\n    }\n\n    .dataframe thead th {\n        text-align: right;\n    }\n</style>\n<table border=\"1\" class=\"dataframe\">\n  <thead>\n    <tr style=\"text-align: right;\">\n      <th></th>\n      <th>a</th>\n      <th>b</th>\n      <th>c</th>\n    </tr>\n  </thead>\n  <tbody>\n    <tr>\n      <th>0</th>\n      <td>1</td>\n      <td>2</td>\n      <td>3</td>\n    </tr>\n    <tr>\n      <th>1</th>\n      <td>4</td>\n      <td>6</td>\n      <td>5</td>\n    </tr>\n    <tr>\n      <th>2</th>\n      <td>7</td>\n      <td>8</td>\n      <td>9</td>\n    </tr>\n  </tbody>\n</table>\n</div>"
     },
     "metadata": {},
     "output_type": "display_data"
    },
    {
     "data": {
      "text/plain": "0    c\n1    b\n2    c\ndtype: object"
     },
     "metadata": {},
     "output_type": "display_data"
    }
   ],
   "source": [
    "df_ = pd.DataFrame([[1,2,3],[4,6,5],[7,8,9]], columns=[\"a\", \"b\", \"c\"])\n",
    "display(df_)\n",
    "ch_ = df_.idxmax(1)\n",
    "display(ch_)"
   ],
   "metadata": {
    "collapsed": false,
    "pycharm": {
     "name": "#%%\n"
    }
   }
  },
  {
   "cell_type": "code",
   "execution_count": null,
   "outputs": [],
   "source": [],
   "metadata": {
    "collapsed": false,
    "pycharm": {
     "name": "#%%\n"
    }
   }
  },
  {
   "cell_type": "code",
   "execution_count": 5,
   "id": "41fec4e8-a174-4e66-87d2-1e8c7979de90",
   "metadata": {
    "execution": {
     "iopub.execute_input": "2022-05-01T10:18:17.839947Z",
     "iopub.status.busy": "2022-05-01T10:18:17.839070Z",
     "iopub.status.idle": "2022-05-01T10:18:18.019676Z",
     "shell.execute_reply": "2022-05-01T10:18:18.018689Z",
     "shell.execute_reply.started": "2022-05-01T10:18:17.839911Z"
    },
    "tags": []
   },
   "outputs": [],
   "source": [
    "root_dir = \"/mnt/c/Users/jan.zill/code/activitysim\"\n",
    "example_dir = os.path.join(root_dir, \"test_example_mtc\")"
   ]
  },
  {
   "cell_type": "code",
   "execution_count": 6,
   "id": "2de710a2-d292-42f9-9d4a-4dcef1365506",
   "metadata": {
    "execution": {
     "iopub.execute_input": "2022-05-01T10:18:18.894533Z",
     "iopub.status.busy": "2022-05-01T10:18:18.894303Z",
     "iopub.status.idle": "2022-05-01T10:18:19.078807Z",
     "shell.execute_reply": "2022-05-01T10:18:19.077951Z",
     "shell.execute_reply.started": "2022-05-01T10:18:18.894508Z"
    },
    "tags": []
   },
   "outputs": [],
   "source": [
    "os.chdir(example_dir)"
   ]
  },
  {
   "cell_type": "code",
   "execution_count": 7,
   "id": "730be239-8704-4483-bbb8-ffae0f17c5d4",
   "metadata": {
    "execution": {
     "iopub.execute_input": "2022-05-01T10:18:22.111723Z",
     "iopub.status.busy": "2022-05-01T10:18:22.111490Z",
     "iopub.status.idle": "2022-05-01T10:18:22.297437Z",
     "shell.execute_reply": "2022-05-01T10:18:22.296501Z",
     "shell.execute_reply.started": "2022-05-01T10:18:22.111697Z"
    },
    "tags": []
   },
   "outputs": [],
   "source": [
    "parser = argparse.ArgumentParser()\n",
    "run.add_run_args(parser)\n",
    "args = parser.parse_args(['-c', 'configs', '-o', 'output', '-d', 'data'])\n",
    "#run.run(args)  # 2mins full example run\n",
    "if not inject.is_injectable('preload_injectables'):\n",
    "    from activitysim import abm  # register abm steps and other abm-specific injectables\n",
    "run.handle_standard_args(args)  # possibly update injectables"
   ]
  },
  {
   "cell_type": "code",
   "execution_count": 69,
   "outputs": [],
   "source": [
    "from activitysim.core import inject\n",
    "from activitysim.core import pipeline\n",
    "from activitysim.core import config\n",
    "from activitysim.core import expressions\n",
    "from activitysim.core import simulate\n",
    "from activitysim.abm.models.util import estimation\n",
    "\n",
    "def run_mandatory_tour_frequency(choose_individual_max_utility=False):\n",
    "    resume_after = \"cdap_simulate\"\n",
    "    model_name = \"mandatory_tour_frequency\"\n",
    "    chunk_size = 0  # test_mtc means no chunking\n",
    "\n",
    "    pipeline.open_pipeline(resume_after)\n",
    "    # preload any bulky injectables (e.g. skims) not in pipeline\n",
    "    inject.get_injectable('preload_injectables', None)\n",
    "    pipeline._PIPELINE.rng().begin_step(model_name)\n",
    "    #step_name = model_name\n",
    "    args = {}\n",
    "    #checkpoint = pipeline.intermediate_checkpoint(model_name)\n",
    "    inject.set_step_args(args)\n",
    "\n",
    "    #network_los = inject.get_injectable('network_los')\n",
    "    persons_merged = inject.get_table('persons_merged')\n",
    "\n",
    "    trace_label = 'mandatory_tour_frequency'\n",
    "    model_settings_file_name = 'mandatory_tour_frequency.yaml'\n",
    "    model_settings = config.read_model_settings(model_settings_file_name)\n",
    "    choosers = persons_merged.to_frame()\n",
    "    # filter based on results of CDAP\n",
    "    choosers = choosers[choosers.cdap_activity == 'M']\n",
    "    print(\"Running mandatory_tour_frequency with %d persons\", len(choosers))\n",
    "    preprocessor_settings = model_settings.get('preprocessor', None)\n",
    "    if preprocessor_settings:\n",
    "        locals_dict = {}\n",
    "        expressions.assign_columns(\n",
    "            df=choosers,\n",
    "            model_settings=preprocessor_settings,\n",
    "            locals_dict=locals_dict,\n",
    "            trace_label=trace_label)\n",
    "\n",
    "    estimator = estimation.manager.begin_estimation('mandatory_tour_frequency')\n",
    "    model_spec = simulate.read_model_spec(file_name=model_settings['SPEC'])\n",
    "    coefficients_df = simulate.read_model_coefficients(model_settings)\n",
    "    model_spec = simulate.eval_coefficients(model_spec, coefficients_df, estimator)\n",
    "    nest_spec = config.get_logit_model_settings(model_settings)\n",
    "    constants = config.get_model_constants(model_settings)\n",
    "    choices = simulate.simple_simulate(\n",
    "        choosers=choosers,\n",
    "        spec=model_spec,\n",
    "        nest_spec=nest_spec,\n",
    "        locals_d=constants,\n",
    "        chunk_size=chunk_size,\n",
    "        trace_label=trace_label,\n",
    "        trace_choice_name='mandatory_tour_frequency',\n",
    "        estimator=estimator,\n",
    "        choose_individual_max_utility=choose_individual_max_utility)\n",
    "\n",
    "    # convert indexes to alternative names\n",
    "    choices = pd.Series(model_spec.columns[choices.values], index=choices.index)\n",
    "\n",
    "    finalise = True\n",
    "    if finalise:\n",
    "        inject.set_step_args(None)\n",
    "        #\n",
    "        pipeline._PIPELINE.rng().end_step(model_name)\n",
    "        pipeline.add_checkpoint(model_name)\n",
    "        if not pipeline.intermediate_checkpoint():\n",
    "            pipeline.add_checkpoint(pipeline.FINAL_CHECKPOINT_NAME)\n",
    "\n",
    "        pipeline.close_pipeline()\n",
    "\n",
    "    return choices"
   ],
   "metadata": {
    "collapsed": false,
    "pycharm": {
     "name": "#%%\n"
    }
   }
  },
  {
   "cell_type": "code",
   "execution_count": 70,
   "outputs": [],
   "source": [
    "#pipeline.close_pipeline()"
   ],
   "metadata": {
    "collapsed": false,
    "pycharm": {
     "name": "#%%\n"
    }
   }
  },
  {
   "cell_type": "code",
   "execution_count": 71,
   "outputs": [
    {
     "name": "stderr",
     "output_type": "stream",
     "text": [
      "estimation bundle mandatory_tour_frequency not in settings file estimation.yaml\n"
     ]
    },
    {
     "name": "stdout",
     "output_type": "stream",
     "text": [
      "Running mandatory_tour_frequency with %d persons 89\n"
     ]
    },
    {
     "name": "stderr",
     "output_type": "stream",
     "text": [
      "estimation bundle mandatory_tour_frequency not in settings file estimation.yaml\n"
     ]
    },
    {
     "name": "stdout",
     "output_type": "stream",
     "text": [
      "Running mandatory_tour_frequency with %d persons 89\n"
     ]
    }
   ],
   "source": [
    "ch_prev = run_mandatory_tour_frequency(choose_individual_max_utility=False)\n",
    "ch_new = run_mandatory_tour_frequency(choose_individual_max_utility=True)"
   ],
   "metadata": {
    "collapsed": false,
    "pycharm": {
     "name": "#%%\n"
    }
   }
  },
  {
   "cell_type": "code",
   "execution_count": 72,
   "outputs": [
    {
     "data": {
      "text/plain": "                 count_prev  count_new\nschool1                  22       22.0\nwork1                    61       65.0\nwork2                     2        2.0\nwork_and_school           4        0.0",
      "text/html": "<div>\n<style scoped>\n    .dataframe tbody tr th:only-of-type {\n        vertical-align: middle;\n    }\n\n    .dataframe tbody tr th {\n        vertical-align: top;\n    }\n\n    .dataframe thead th {\n        text-align: right;\n    }\n</style>\n<table border=\"1\" class=\"dataframe\">\n  <thead>\n    <tr style=\"text-align: right;\">\n      <th></th>\n      <th>count_prev</th>\n      <th>count_new</th>\n    </tr>\n  </thead>\n  <tbody>\n    <tr>\n      <th>school1</th>\n      <td>22</td>\n      <td>22.0</td>\n    </tr>\n    <tr>\n      <th>work1</th>\n      <td>61</td>\n      <td>65.0</td>\n    </tr>\n    <tr>\n      <th>work2</th>\n      <td>2</td>\n      <td>2.0</td>\n    </tr>\n    <tr>\n      <th>work_and_school</th>\n      <td>4</td>\n      <td>0.0</td>\n    </tr>\n  </tbody>\n</table>\n</div>"
     },
     "execution_count": 72,
     "metadata": {},
     "output_type": "execute_result"
    }
   ],
   "source": [
    "ch_prev.value_counts().to_frame(\"count_prev\").merge(\n",
    "    ch_new.value_counts().to_frame(\"count_new\"), how=\"outer\", left_index=True, right_index=True\n",
    ").fillna(0)"
   ],
   "metadata": {
    "collapsed": false,
    "pycharm": {
     "name": "#%%\n"
    }
   }
  },
  {
   "cell_type": "code",
   "execution_count": 73,
   "outputs": [
    {
     "data": {
      "text/plain": "{'input_table_list': [{'tablename': 'households',\n   'filename': 'households.csv',\n   'index_col': 'household_id',\n   'rename_columns': {'HHID': 'household_id',\n    'PERSONS': 'hhsize',\n    'workers': 'num_workers',\n    'VEHICL': 'auto_ownership',\n    'TAZ': 'home_zone_id'},\n   'keep_columns': ['home_zone_id',\n    'income',\n    'hhsize',\n    'HHT',\n    'auto_ownership',\n    'num_workers']},\n  {'tablename': 'persons',\n   'filename': 'persons.csv',\n   'index_col': 'person_id',\n   'rename_columns': {'PERID': 'person_id'},\n   'keep_columns': ['household_id',\n    'age',\n    'PNUM',\n    'sex',\n    'pemploy',\n    'pstudent',\n    'ptype']},\n  {'tablename': 'land_use',\n   'filename': 'land_use.csv',\n   'index_col': 'zone_id',\n   'rename_columns': {'TAZ': 'zone_id', 'COUNTY': 'county_id'},\n   'keep_columns': ['DISTRICT',\n    'SD',\n    'county_id',\n    'TOTHH',\n    'TOTPOP',\n    'TOTACRE',\n    'RESACRE',\n    'CIACRE',\n    'TOTEMP',\n    'AGE0519',\n    'RETEMPN',\n    'FPSEMPN',\n    'HEREMPN',\n    'OTHEMPN',\n    'AGREMPN',\n    'MWTEMPN',\n    'PRKCST',\n    'OPRKCST',\n    'area_type',\n    'HSENROLL',\n    'COLLFTE',\n    'COLLPTE',\n    'TOPOLOGY',\n    'TERMINAL']}],\n 'households_sample_size': 100,\n 'check_for_variability': False,\n 'use_shadow_pricing': False,\n 'want_dest_choice_sample_tables': False,\n 'log_alt_losers': False,\n 'chunk_size': 0,\n 'min_available_chunk_ratio': 0.05,\n 'default_initial_rows_per_chunk': 500,\n 'chunk_method': 'hybrid_uss',\n 'chunk_training_mode': 'disabled',\n 'keep_chunk_logs': True,\n 'keep_mem_logs': True,\n 'trace_hh_id': [982875],\n 'trace_od': None,\n 'resume_after': None,\n 'checkpoints': True,\n 'models': ['initialize_landuse',\n  'initialize_households',\n  'compute_accessibility',\n  'school_location',\n  'workplace_location',\n  'auto_ownership_simulate',\n  'free_parking',\n  'cdap_simulate',\n  'mandatory_tour_frequency',\n  'mandatory_tour_scheduling',\n  'joint_tour_frequency',\n  'joint_tour_composition',\n  'joint_tour_participation',\n  'joint_tour_destination',\n  'joint_tour_scheduling',\n  'non_mandatory_tour_frequency',\n  'non_mandatory_tour_destination',\n  'non_mandatory_tour_scheduling',\n  'tour_mode_choice_simulate',\n  'atwork_subtour_frequency',\n  'atwork_subtour_destination',\n  'atwork_subtour_scheduling',\n  'atwork_subtour_mode_choice',\n  'stop_frequency',\n  'trip_purpose',\n  'trip_destination',\n  'trip_purpose_and_destination',\n  'trip_scheduling',\n  'trip_mode_choice',\n  'write_data_dictionary',\n  'track_skim_usage',\n  'write_trip_matrices',\n  'write_tables'],\n 'output_tables': {'h5_store': False,\n  'action': 'include',\n  'prefix': 'final_',\n  'tables': ['checkpoints',\n   'accessibility',\n   'land_use',\n   'households',\n   'persons',\n   'tours',\n   'trips',\n   'joint_tour_participants']},\n 'urban_threshold': 4,\n 'cbd_threshold': 2,\n 'rural_threshold': 6,\n 'min_value_of_time': 1,\n 'max_value_of_time': 50,\n 'distributed_vot_mu': 0.684,\n 'distributed_vot_sigma': 0.85,\n 'household_median_value_of_time': {1: 6.01, 2: 8.81, 3: 10.44, 4: 12.86},\n 'source_file_paths': ['configs/settings.yaml']}"
     },
     "execution_count": 73,
     "metadata": {},
     "output_type": "execute_result"
    }
   ],
   "source": [
    "inject.get_injectable('settings')"
   ],
   "metadata": {
    "collapsed": false,
    "pycharm": {
     "name": "#%%\n"
    }
   }
  },
  {
   "cell_type": "code",
   "execution_count": null,
   "outputs": [],
   "source": [],
   "metadata": {
    "collapsed": false,
    "pycharm": {
     "name": "#%%\n"
    }
   }
  },
  {
   "cell_type": "code",
   "execution_count": 74,
   "outputs": [
    {
     "name": "stderr",
     "output_type": "stream",
     "text": [
      "estimation bundle mandatory_tour_frequency not in settings file estimation.yaml\n"
     ]
    },
    {
     "name": "stdout",
     "output_type": "stream",
     "text": [
      "Running mandatory_tour_frequency with %d persons 89\n"
     ]
    }
   ],
   "source": [
    "resume_after = \"cdap_simulate\"\n",
    "model_name = \"mandatory_tour_frequency\"\n",
    "chunk_size = 0  # test_mtc means no chunking\n",
    "\n",
    "pipeline.open_pipeline(resume_after)\n",
    "# preload any bulky injectables (e.g. skims) not in pipeline\n",
    "inject.get_injectable('preload_injectables', None)\n",
    "pipeline._PIPELINE.rng().begin_step(model_name)\n",
    "#step_name = model_name\n",
    "args = {}\n",
    "#checkpoint = pipeline.intermediate_checkpoint(model_name)\n",
    "inject.set_step_args(args)\n",
    "\n",
    "#network_los = inject.get_injectable('network_los')\n",
    "persons_merged = inject.get_table('persons_merged')\n",
    "\n",
    "trace_label = 'mandatory_tour_frequency'\n",
    "model_settings_file_name = 'mandatory_tour_frequency.yaml'\n",
    "model_settings = config.read_model_settings(model_settings_file_name)\n",
    "choosers = persons_merged.to_frame()\n",
    "# filter based on results of CDAP\n",
    "choosers = choosers[choosers.cdap_activity == 'M']\n",
    "print(\"Running mandatory_tour_frequency with %d persons\", len(choosers))\n",
    "preprocessor_settings = model_settings.get('preprocessor', None)\n",
    "if preprocessor_settings:\n",
    "    locals_dict = {}\n",
    "    expressions.assign_columns(\n",
    "        df=choosers,\n",
    "        model_settings=preprocessor_settings,\n",
    "        locals_dict=locals_dict,\n",
    "        trace_label=trace_label)\n",
    "\n",
    "estimator = estimation.manager.begin_estimation('mandatory_tour_frequency')\n",
    "model_spec = simulate.read_model_spec(file_name=model_settings['SPEC'])\n",
    "coefficients_df = simulate.read_model_coefficients(model_settings)\n",
    "model_spec = simulate.eval_coefficients(model_spec, coefficients_df, estimator)\n",
    "nest_spec = config.get_logit_model_settings(model_settings)\n",
    "constants = config.get_model_constants(model_settings)\n",
    "choices = simulate.simple_simulate(\n",
    "    choosers=choosers,\n",
    "    spec=model_spec,\n",
    "    nest_spec=nest_spec,\n",
    "    locals_d=constants,\n",
    "    chunk_size=chunk_size,\n",
    "    trace_label=trace_label,\n",
    "    trace_choice_name='mandatory_tour_frequency',\n",
    "    estimator=estimator,\n",
    "    choose_individual_max_utility=True)\n",
    "\n",
    "# convert indexes to alternative names\n",
    "choices = pd.Series(model_spec.columns[choices.values], index=choices.index)\n",
    "\n",
    "finalise = True\n",
    "if finalise:\n",
    "    inject.set_step_args(None)\n",
    "    #\n",
    "    pipeline._PIPELINE.rng().end_step(model_name)\n",
    "    pipeline.add_checkpoint(model_name)\n",
    "    if not pipeline.intermediate_checkpoint():\n",
    "        pipeline.add_checkpoint(pipeline.FINAL_CHECKPOINT_NAME)\n",
    "\n",
    "    pipeline.close_pipeline()\n"
   ],
   "metadata": {
    "collapsed": false,
    "pycharm": {
     "name": "#%%\n"
    }
   }
  },
  {
   "cell_type": "code",
   "execution_count": null,
   "outputs": [],
   "source": [],
   "metadata": {
    "collapsed": false,
    "pycharm": {
     "name": "#%%\n"
    }
   }
  },
  {
   "cell_type": "code",
   "execution_count": null,
   "outputs": [],
   "source": [],
   "metadata": {
    "collapsed": false,
    "pycharm": {
     "name": "#%%\n"
    }
   }
  },
  {
   "cell_type": "code",
   "execution_count": null,
   "outputs": [],
   "source": [],
   "metadata": {
    "collapsed": false,
    "pycharm": {
     "name": "#%%\n"
    }
   }
  },
  {
   "cell_type": "code",
   "execution_count": null,
   "outputs": [],
   "source": [],
   "metadata": {
    "collapsed": false,
    "pycharm": {
     "name": "#%%\n"
    }
   }
  },
  {
   "cell_type": "code",
   "execution_count": 58,
   "outputs": [
    {
     "data": {
      "text/plain": "   a  b  c\n0  1  2  3\n1  4  6  5\n2  7  8  9",
      "text/html": "<div>\n<style scoped>\n    .dataframe tbody tr th:only-of-type {\n        vertical-align: middle;\n    }\n\n    .dataframe tbody tr th {\n        vertical-align: top;\n    }\n\n    .dataframe thead th {\n        text-align: right;\n    }\n</style>\n<table border=\"1\" class=\"dataframe\">\n  <thead>\n    <tr style=\"text-align: right;\">\n      <th></th>\n      <th>a</th>\n      <th>b</th>\n      <th>c</th>\n    </tr>\n  </thead>\n  <tbody>\n    <tr>\n      <th>0</th>\n      <td>1</td>\n      <td>2</td>\n      <td>3</td>\n    </tr>\n    <tr>\n      <th>1</th>\n      <td>4</td>\n      <td>6</td>\n      <td>5</td>\n    </tr>\n    <tr>\n      <th>2</th>\n      <td>7</td>\n      <td>8</td>\n      <td>9</td>\n    </tr>\n  </tbody>\n</table>\n</div>"
     },
     "metadata": {},
     "output_type": "display_data"
    }
   ],
   "source": [
    "df_ = pd.DataFrame([[1,2,3],[4,6,5],[7,8,9]], columns=[\"a\", \"b\", \"c\"])\n",
    "display(df_)"
   ],
   "metadata": {
    "collapsed": false,
    "pycharm": {
     "name": "#%%\n"
    }
   }
  },
  {
   "cell_type": "code",
   "execution_count": 64,
   "outputs": [
    {
     "data": {
      "text/plain": "{'a': 0, 'b': 1, 'c': 2}"
     },
     "execution_count": 64,
     "metadata": {},
     "output_type": "execute_result"
    }
   ],
   "source": [
    "{v: k for k,v in enumerate(df_.columns)}"
   ],
   "metadata": {
    "collapsed": false,
    "pycharm": {
     "name": "#%%\n"
    }
   }
  },
  {
   "cell_type": "code",
   "execution_count": null,
   "outputs": [],
   "source": [],
   "metadata": {
    "collapsed": false,
    "pycharm": {
     "name": "#%%\n"
    }
   }
  }
 ],
 "metadata": {
  "kernelspec": {
   "display_name": "Python 3",
   "language": "python",
   "name": "python3"
  },
  "language_info": {
   "codemirror_mode": {
    "name": "ipython",
    "version": 3
   },
   "file_extension": ".py",
   "mimetype": "text/x-python",
   "name": "python",
   "nbconvert_exporter": "python",
   "pygments_lexer": "ipython3",
   "version": "3.8.2"
  }
 },
 "nbformat": 4,
 "nbformat_minor": 5
}