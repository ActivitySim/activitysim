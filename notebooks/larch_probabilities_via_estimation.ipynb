{
 "cells": [
  {
   "cell_type": "markdown",
   "metadata": {
    "collapsed": true,
    "pycharm": {
     "name": "#%% md\n"
    }
   },
   "source": [
    "# Probabilities for three level nests differ\n",
    "\n",
    "Asim scales nested utilties differently, for two level and RU2 it's identical to what we do (which agrees with the\n",
    "larch paper and Zenith), but for three levels there are small differences of probabilities and logsums. I\n",
    "quadruple-checked the scaling and leaf and note utility calculation, let's use larch to see if we get the same as\n",
    "Asim or if the results agree with my implementation. The idea is to use estimation mode to load a small data set, and\n",
    " then use my Asim setup in validate_frozen_impl.ipynb to calculate Asim's and my probabilities by sampling, and check\n",
    "  what larch has to say by using m.probabilities() (no need to estimate, use parameters as given by asim model).\n"
   ]
  },
  {
   "cell_type": "code",
   "execution_count": 1,
   "outputs": [],
   "source": [
    "import os\n",
    "import sys\n",
    "\n",
    "import numpy as np\n",
    "import pandas as pd\n",
    "\n",
    "# I installed larch deps (which I collected in a requirements file, xmle and sharrow are not on pypi)\n",
    "# python -m pip install -r ../larch/requirements.txt\n",
    "\n",
    "larch_path = \"/mnt/c/Users/jan.zill/code/larch\"\n",
    "if larch_path not in sys.path:\n",
    "    sys.path.append(larch_path)\n",
    "import larch"
   ],
   "metadata": {
    "collapsed": false,
    "pycharm": {
     "name": "#%%\n"
    }
   }
  },
  {
   "cell_type": "code",
   "execution_count": 2,
   "outputs": [],
   "source": [
    "root_dir = \"/mnt/c/Users/jan.zill/code/activitysim\"\n",
    "example_dir = os.path.join(root_dir, \"test_estimation_sf\")\n",
    "os.chdir(example_dir)"
   ],
   "metadata": {
    "collapsed": false,
    "pycharm": {
     "name": "#%%\n"
    }
   }
  },
  {
   "cell_type": "code",
   "execution_count": 3,
   "outputs": [],
   "source": [
    "# create estimation test example\n",
    "#!activitysim create -e example_estimation_sf -d test_estimation_sf"
   ],
   "metadata": {
    "collapsed": false,
    "pycharm": {
     "name": "#%%\n"
    }
   }
  },
  {
   "cell_type": "code",
   "execution_count": 4,
   "outputs": [],
   "source": [
    "# run estimation mode\n",
    "#!activitysim run -c configs_estimation/configs -c configs -o output_sf -d data_sf"
   ],
   "metadata": {
    "collapsed": false,
    "pycharm": {
     "name": "#%%\n"
    }
   }
  },
  {
   "cell_type": "code",
   "execution_count": 5,
   "outputs": [
    {
     "name": "stderr",
     "output_type": "stream",
     "text": [
      "/mnt/c/Users/jan.zill/code/activitysim/activitysim/estimation/larch/simple_simulate.py:92: DtypeWarning: Columns (411) have mixed types.Specify dtype option on import or set low_memory=False.\n",
      "  chooser_data = _read_csv(chooser_data_file, index_col=values_index_col,)\n",
      "req_data does not request avail_ca or avail_co but it is set and being provided\n",
      "req_data does not request avail_ca or avail_co but it is set and being provided\n",
      "req_data does not request avail_ca or avail_co but it is set and being provided\n",
      "req_data does not request avail_ca or avail_co but it is set and being provided\n",
      "req_data does not request avail_ca or avail_co but it is set and being provided\n",
      "req_data does not request avail_ca or avail_co but it is set and being provided\n",
      "req_data does not request avail_ca or avail_co but it is set and being provided\n",
      "req_data does not request avail_ca or avail_co but it is set and being provided\n",
      "req_data does not request avail_ca or avail_co but it is set and being provided\n",
      "problem: chosen-but-not-available (2 issues)\n",
      "problem: low-variance-data-co (1 issues)\n",
      "problem: chosen-but-not-available (2 issues)\n",
      "problem: low-variance-data-co (1 issues)\n",
      "problem: chosen-but-not-available (1 issues)\n",
      "problem: low-variance-data-co (1 issues)\n",
      "problem: chosen-but-not-available (2 issues)\n",
      "problem: low-variance-data-co (1 issues)\n",
      "problem: chosen-but-not-available (1 issues)\n",
      "problem: low-variance-data-co (1 issues)\n",
      "problem: chosen-but-not-available (2 issues)\n",
      "problem: low-variance-data-co (1 issues)\n",
      "problem: chosen-but-not-available (1 issues)\n",
      "problem: low-variance-data-co (1 issues)\n",
      "problem: chosen-but-not-available (2 issues)\n",
      "problem: low-variance-data-co (1 issues)\n"
     ]
    }
   ],
   "source": [
    "modelname = \"trip_mode_choice\"\n",
    "\n",
    "from activitysim.estimation.larch import component_model\n",
    "model, data = component_model(modelname, return_data=True)\n",
    "# data.coefficients\n",
    "# data.spec\n",
    "# data.chooser_data\n",
    "model.load_data()\n",
    "model.doctor(repair_ch_av='-')\n",
    "model.loglike()\n",
    "# DO NOT ESTIMATE just apply probs\n",
    "# model.maximize_loglike(method='SLSQP', options={\"maxiter\": 1000})\n",
    "probs = [m.probability() for m in model._k_models]"
   ],
   "metadata": {
    "collapsed": false,
    "pycharm": {
     "name": "#%%\n"
    }
   }
  },
  {
   "cell_type": "code",
   "execution_count": 16,
   "outputs": [],
   "source": [
    "probs_0 = pd.DataFrame(probs[0])\n",
    "m_0 = model._k_models[0]\n",
    "\n",
    "probs_0.index = m_0.dataframes.data_ch.index\n",
    "\n",
    "probs_0 = probs_0.rename(columns={v-1: k for k,v in data.settings[\"CONSTANTS\"][\"I_MODE_MAP\"].items()})"
   ],
   "metadata": {
    "collapsed": false,
    "pycharm": {
     "name": "#%%\n"
    }
   }
  },
  {
   "cell_type": "code",
   "execution_count": 17,
   "outputs": [
    {
     "data": {
      "text/plain": "(2124,)"
     },
     "metadata": {},
     "output_type": "display_data"
    },
    {
     "data": {
      "text/plain": "(2124,)"
     },
     "metadata": {},
     "output_type": "display_data"
    }
   ],
   "source": [
    "display(m_0.dataframes.data_ch.index.unique().shape)\n",
    "display(np.intersect1d(data.chooser_data.index.values, m_0.dataframes.data_ch.index.values).shape)"
   ],
   "metadata": {
    "collapsed": false,
    "pycharm": {
     "name": "#%%\n"
    }
   }
  },
  {
   "cell_type": "code",
   "execution_count": 18,
   "outputs": [],
   "source": [
    "#data.chooser_data[['override_choice', 'override_choice_code']].drop_duplicates().reset_index(drop=True).set_index\\\n",
    "#    ('override_choice_code').to_dict()['override_choice']\n",
    "#mode_map = pd.DataFrame.from_dict(data.settings[\"CONSTANTS\"][\"I_MODE_MAP\"], orient='index', columns=[\"mode_code\"])\\\n",
    "#    .reset_index().rename(columns={\"index\": \"mode_name\"})"
   ],
   "metadata": {
    "collapsed": false,
    "pycharm": {
     "name": "#%%\n"
    }
   }
  },
  {
   "cell_type": "code",
   "execution_count": 19,
   "outputs": [
    {
     "data": {
      "text/plain": "Int64Index([  2961920,   2970120,   2998943,   3013252,   3015794,   3021985,\n              3022354,   3025019,   3055523,   3060361,\n            ...\n            308028857, 308037836, 308057680, 308057681, 308070308, 308070309,\n            308073875, 308090603, 308105896, 308122624],\n           dtype='int64', name='_caseid_', length=2124)"
     },
     "execution_count": 19,
     "metadata": {},
     "output_type": "execute_result"
    }
   ],
   "source": [
    "m_0.dataframes.data_ch.index.unique()"
   ],
   "metadata": {
    "collapsed": false,
    "pycharm": {
     "name": "#%%\n"
    }
   }
  },
  {
   "cell_type": "code",
   "execution_count": 34,
   "outputs": [
    {
     "data": {
      "text/plain": "          trip_id model_choice override_choice  \\\ntour_id                                          \n2961920  23695361     WALK_LRF        WALK_LRF   \n2961920  23695365         WALK        WALK_LRF   \n\n         util_DRIVEALONEFREE_Unavailable  \\\ntour_id                                    \n2961920                              0.0   \n2961920                              0.0   \n\n         util_DRIVEALONEFREE_Unavailable_for_zero_auto_households  \\\ntour_id                                                             \n2961920                                                0.0          \n2961920                                                0.0          \n\n         util_DRIVEALONEFREE_Unavailable_for_persons_less_than_16  \\\ntour_id                                                             \n2961920                                                0.0          \n2961920                                                0.0          \n\n         util_DRIVEALONEFREE_Unavailable_for_joint_tours  \\\ntour_id                                                    \n2961920                                              0.0   \n2961920                                              0.0   \n\n         util_DRIVEALONEFREE_Unavailable_if_didnt_drive_to_work  \\\ntour_id                                                           \n2961920                                                0.0        \n2961920                                                0.0        \n\n         util_DRIVEALONEFREE_In_vehicle_time  \\\ntour_id                                        \n2961920                                 5.36   \n2961920                                 4.91   \n\n         util_DRIVEALONEFREE_Terminal_time  ...  \\\ntour_id                                     ...   \n2961920                           10.45084  ...   \n2961920                           10.45084  ...   \n\n         drive_heavyrail_available_outbound  \\\ntour_id                                       \n2961920                               False   \n2961920                               False   \n\n         drive_heavyrail_available_inbound  drive_commuter_available_outbound  \\\ntour_id                                                                         \n2961920                              False                              False   \n2961920                              False                              False   \n\n         drive_commuter_available_inbound  walk_ferry_available  \\\ntour_id                                                           \n2961920                             False                 False   \n2961920                             False                 False   \n\n         drive_ferry_available  distance  distance_walk_od  distance_bike_od  \\\ntour_id                                                                        \n2961920                  False      1.98              1.98              1.98   \n2961920                  False      1.96              1.96              1.96   \n\n         override_choice_code  \ntour_id                        \n2961920                    10  \n2961920                    10  \n\n[2 rows x 478 columns]",
      "text/html": "<div>\n<style scoped>\n    .dataframe tbody tr th:only-of-type {\n        vertical-align: middle;\n    }\n\n    .dataframe tbody tr th {\n        vertical-align: top;\n    }\n\n    .dataframe thead th {\n        text-align: right;\n    }\n</style>\n<table border=\"1\" class=\"dataframe\">\n  <thead>\n    <tr style=\"text-align: right;\">\n      <th></th>\n      <th>trip_id</th>\n      <th>model_choice</th>\n      <th>override_choice</th>\n      <th>util_DRIVEALONEFREE_Unavailable</th>\n      <th>util_DRIVEALONEFREE_Unavailable_for_zero_auto_households</th>\n      <th>util_DRIVEALONEFREE_Unavailable_for_persons_less_than_16</th>\n      <th>util_DRIVEALONEFREE_Unavailable_for_joint_tours</th>\n      <th>util_DRIVEALONEFREE_Unavailable_if_didnt_drive_to_work</th>\n      <th>util_DRIVEALONEFREE_In_vehicle_time</th>\n      <th>util_DRIVEALONEFREE_Terminal_time</th>\n      <th>...</th>\n      <th>drive_heavyrail_available_outbound</th>\n      <th>drive_heavyrail_available_inbound</th>\n      <th>drive_commuter_available_outbound</th>\n      <th>drive_commuter_available_inbound</th>\n      <th>walk_ferry_available</th>\n      <th>drive_ferry_available</th>\n      <th>distance</th>\n      <th>distance_walk_od</th>\n      <th>distance_bike_od</th>\n      <th>override_choice_code</th>\n    </tr>\n    <tr>\n      <th>tour_id</th>\n      <th></th>\n      <th></th>\n      <th></th>\n      <th></th>\n      <th></th>\n      <th></th>\n      <th></th>\n      <th></th>\n      <th></th>\n      <th></th>\n      <th></th>\n      <th></th>\n      <th></th>\n      <th></th>\n      <th></th>\n      <th></th>\n      <th></th>\n      <th></th>\n      <th></th>\n      <th></th>\n      <th></th>\n    </tr>\n  </thead>\n  <tbody>\n    <tr>\n      <th>2961920</th>\n      <td>23695361</td>\n      <td>WALK_LRF</td>\n      <td>WALK_LRF</td>\n      <td>0.0</td>\n      <td>0.0</td>\n      <td>0.0</td>\n      <td>0.0</td>\n      <td>0.0</td>\n      <td>5.36</td>\n      <td>10.45084</td>\n      <td>...</td>\n      <td>False</td>\n      <td>False</td>\n      <td>False</td>\n      <td>False</td>\n      <td>False</td>\n      <td>False</td>\n      <td>1.98</td>\n      <td>1.98</td>\n      <td>1.98</td>\n      <td>10</td>\n    </tr>\n    <tr>\n      <th>2961920</th>\n      <td>23695365</td>\n      <td>WALK</td>\n      <td>WALK_LRF</td>\n      <td>0.0</td>\n      <td>0.0</td>\n      <td>0.0</td>\n      <td>0.0</td>\n      <td>0.0</td>\n      <td>4.91</td>\n      <td>10.45084</td>\n      <td>...</td>\n      <td>False</td>\n      <td>False</td>\n      <td>False</td>\n      <td>False</td>\n      <td>False</td>\n      <td>False</td>\n      <td>1.96</td>\n      <td>1.96</td>\n      <td>1.96</td>\n      <td>10</td>\n    </tr>\n  </tbody>\n</table>\n<p>2 rows × 478 columns</p>\n</div>"
     },
     "metadata": {},
     "output_type": "display_data"
    },
    {
     "data": {
      "text/plain": "           1    2    3    4    5    6    7    8    9    10  ...   12   13  \\\n_caseid_                                                    ...             \n2961920   0.0  0.0  0.0  0.0  0.0  0.0  0.0  0.0  0.0  1.0  ...  0.0  0.0   \n2961920   0.0  0.0  0.0  0.0  0.0  0.0  0.0  0.0  0.0  1.0  ...  0.0  0.0   \n\n           14   15   16   17   18   19   20   21  \n_caseid_                                          \n2961920   0.0  0.0  0.0  0.0  0.0  0.0  0.0  0.0  \n2961920   0.0  0.0  0.0  0.0  0.0  0.0  0.0  0.0  \n\n[2 rows x 21 columns]",
      "text/html": "<div>\n<style scoped>\n    .dataframe tbody tr th:only-of-type {\n        vertical-align: middle;\n    }\n\n    .dataframe tbody tr th {\n        vertical-align: top;\n    }\n\n    .dataframe thead th {\n        text-align: right;\n    }\n</style>\n<table border=\"1\" class=\"dataframe\">\n  <thead>\n    <tr style=\"text-align: right;\">\n      <th></th>\n      <th>1</th>\n      <th>2</th>\n      <th>3</th>\n      <th>4</th>\n      <th>5</th>\n      <th>6</th>\n      <th>7</th>\n      <th>8</th>\n      <th>9</th>\n      <th>10</th>\n      <th>...</th>\n      <th>12</th>\n      <th>13</th>\n      <th>14</th>\n      <th>15</th>\n      <th>16</th>\n      <th>17</th>\n      <th>18</th>\n      <th>19</th>\n      <th>20</th>\n      <th>21</th>\n    </tr>\n    <tr>\n      <th>_caseid_</th>\n      <th></th>\n      <th></th>\n      <th></th>\n      <th></th>\n      <th></th>\n      <th></th>\n      <th></th>\n      <th></th>\n      <th></th>\n      <th></th>\n      <th></th>\n      <th></th>\n      <th></th>\n      <th></th>\n      <th></th>\n      <th></th>\n      <th></th>\n      <th></th>\n      <th></th>\n      <th></th>\n      <th></th>\n    </tr>\n  </thead>\n  <tbody>\n    <tr>\n      <th>2961920</th>\n      <td>0.0</td>\n      <td>0.0</td>\n      <td>0.0</td>\n      <td>0.0</td>\n      <td>0.0</td>\n      <td>0.0</td>\n      <td>0.0</td>\n      <td>0.0</td>\n      <td>0.0</td>\n      <td>1.0</td>\n      <td>...</td>\n      <td>0.0</td>\n      <td>0.0</td>\n      <td>0.0</td>\n      <td>0.0</td>\n      <td>0.0</td>\n      <td>0.0</td>\n      <td>0.0</td>\n      <td>0.0</td>\n      <td>0.0</td>\n      <td>0.0</td>\n    </tr>\n    <tr>\n      <th>2961920</th>\n      <td>0.0</td>\n      <td>0.0</td>\n      <td>0.0</td>\n      <td>0.0</td>\n      <td>0.0</td>\n      <td>0.0</td>\n      <td>0.0</td>\n      <td>0.0</td>\n      <td>0.0</td>\n      <td>1.0</td>\n      <td>...</td>\n      <td>0.0</td>\n      <td>0.0</td>\n      <td>0.0</td>\n      <td>0.0</td>\n      <td>0.0</td>\n      <td>0.0</td>\n      <td>0.0</td>\n      <td>0.0</td>\n      <td>0.0</td>\n      <td>0.0</td>\n    </tr>\n  </tbody>\n</table>\n<p>2 rows × 21 columns</p>\n</div>"
     },
     "metadata": {},
     "output_type": "display_data"
    },
    {
     "data": {
      "text/plain": "          DRIVEALONEFREE  DRIVEALONEPAY   SHARED2FREE  SHARED2PAY  \\\n_caseid_                                                            \n2961920              0.0            0.0  2.027363e-06         0.0   \n2961920              0.0            0.0  2.943297e-09         0.0   \n\n           SHARED3FREE  SHARED3PAY      WALK  BIKE  WALK_LOC  WALK_LRF  ...  \\\n_caseid_                                                                ...   \n2961920   1.061530e-06         0.0  0.111823   0.0  0.263130  0.625043  ...   \n2961920   1.967559e-08         0.0  0.119603   0.0  0.272258  0.608139  ...   \n\n          WALK_HVY  WALK_COM  DRIVE_LOC  DRIVE_LRF  DRIVE_EXP  DRIVE_HVY  \\\n_caseid_                                                                   \n2961920        0.0       0.0        0.0        0.0        0.0        0.0   \n2961920        0.0       0.0        0.0        0.0        0.0        0.0   \n\n          DRIVE_COM          TAXI    TNC_SINGLE    TNC_SHARED  \n_caseid_                                                       \n2961920         0.0  2.489336e-08  4.965881e-08  4.072015e-07  \n2961920         0.0  2.435815e-08  4.996681e-08  4.311721e-07  \n\n[2 rows x 21 columns]",
      "text/html": "<div>\n<style scoped>\n    .dataframe tbody tr th:only-of-type {\n        vertical-align: middle;\n    }\n\n    .dataframe tbody tr th {\n        vertical-align: top;\n    }\n\n    .dataframe thead th {\n        text-align: right;\n    }\n</style>\n<table border=\"1\" class=\"dataframe\">\n  <thead>\n    <tr style=\"text-align: right;\">\n      <th></th>\n      <th>DRIVEALONEFREE</th>\n      <th>DRIVEALONEPAY</th>\n      <th>SHARED2FREE</th>\n      <th>SHARED2PAY</th>\n      <th>SHARED3FREE</th>\n      <th>SHARED3PAY</th>\n      <th>WALK</th>\n      <th>BIKE</th>\n      <th>WALK_LOC</th>\n      <th>WALK_LRF</th>\n      <th>...</th>\n      <th>WALK_HVY</th>\n      <th>WALK_COM</th>\n      <th>DRIVE_LOC</th>\n      <th>DRIVE_LRF</th>\n      <th>DRIVE_EXP</th>\n      <th>DRIVE_HVY</th>\n      <th>DRIVE_COM</th>\n      <th>TAXI</th>\n      <th>TNC_SINGLE</th>\n      <th>TNC_SHARED</th>\n    </tr>\n    <tr>\n      <th>_caseid_</th>\n      <th></th>\n      <th></th>\n      <th></th>\n      <th></th>\n      <th></th>\n      <th></th>\n      <th></th>\n      <th></th>\n      <th></th>\n      <th></th>\n      <th></th>\n      <th></th>\n      <th></th>\n      <th></th>\n      <th></th>\n      <th></th>\n      <th></th>\n      <th></th>\n      <th></th>\n      <th></th>\n      <th></th>\n    </tr>\n  </thead>\n  <tbody>\n    <tr>\n      <th>2961920</th>\n      <td>0.0</td>\n      <td>0.0</td>\n      <td>2.027363e-06</td>\n      <td>0.0</td>\n      <td>1.061530e-06</td>\n      <td>0.0</td>\n      <td>0.111823</td>\n      <td>0.0</td>\n      <td>0.263130</td>\n      <td>0.625043</td>\n      <td>...</td>\n      <td>0.0</td>\n      <td>0.0</td>\n      <td>0.0</td>\n      <td>0.0</td>\n      <td>0.0</td>\n      <td>0.0</td>\n      <td>0.0</td>\n      <td>2.489336e-08</td>\n      <td>4.965881e-08</td>\n      <td>4.072015e-07</td>\n    </tr>\n    <tr>\n      <th>2961920</th>\n      <td>0.0</td>\n      <td>0.0</td>\n      <td>2.943297e-09</td>\n      <td>0.0</td>\n      <td>1.967559e-08</td>\n      <td>0.0</td>\n      <td>0.119603</td>\n      <td>0.0</td>\n      <td>0.272258</td>\n      <td>0.608139</td>\n      <td>...</td>\n      <td>0.0</td>\n      <td>0.0</td>\n      <td>0.0</td>\n      <td>0.0</td>\n      <td>0.0</td>\n      <td>0.0</td>\n      <td>0.0</td>\n      <td>2.435815e-08</td>\n      <td>4.996681e-08</td>\n      <td>4.311721e-07</td>\n    </tr>\n  </tbody>\n</table>\n<p>2 rows × 21 columns</p>\n</div>"
     },
     "metadata": {},
     "output_type": "display_data"
    },
    {
     "name": "stdout",
     "output_type": "stream",
     "text": [
      "23695361\n"
     ]
    },
    {
     "data": {
      "text/plain": "           SHARED2FREE   SHARED3FREE      WALK  WALK_LOC  WALK_LRF  \\\n_caseid_                                                             \n2961920   2.027363e-06  1.061530e-06  0.111823  0.263130  0.625043   \n2961920   2.943297e-09  1.967559e-08  0.119603  0.272258  0.608139   \n\n                  TAXI    TNC_SINGLE    TNC_SHARED  \n_caseid_                                            \n2961920   2.489336e-08  4.965881e-08  4.072015e-07  \n2961920   2.435815e-08  4.996681e-08  4.311721e-07  ",
      "text/html": "<div>\n<style scoped>\n    .dataframe tbody tr th:only-of-type {\n        vertical-align: middle;\n    }\n\n    .dataframe tbody tr th {\n        vertical-align: top;\n    }\n\n    .dataframe thead th {\n        text-align: right;\n    }\n</style>\n<table border=\"1\" class=\"dataframe\">\n  <thead>\n    <tr style=\"text-align: right;\">\n      <th></th>\n      <th>SHARED2FREE</th>\n      <th>SHARED3FREE</th>\n      <th>WALK</th>\n      <th>WALK_LOC</th>\n      <th>WALK_LRF</th>\n      <th>TAXI</th>\n      <th>TNC_SINGLE</th>\n      <th>TNC_SHARED</th>\n    </tr>\n    <tr>\n      <th>_caseid_</th>\n      <th></th>\n      <th></th>\n      <th></th>\n      <th></th>\n      <th></th>\n      <th></th>\n      <th></th>\n      <th></th>\n    </tr>\n  </thead>\n  <tbody>\n    <tr>\n      <th>2961920</th>\n      <td>2.027363e-06</td>\n      <td>1.061530e-06</td>\n      <td>0.111823</td>\n      <td>0.263130</td>\n      <td>0.625043</td>\n      <td>2.489336e-08</td>\n      <td>4.965881e-08</td>\n      <td>4.072015e-07</td>\n    </tr>\n    <tr>\n      <th>2961920</th>\n      <td>2.943297e-09</td>\n      <td>1.967559e-08</td>\n      <td>0.119603</td>\n      <td>0.272258</td>\n      <td>0.608139</td>\n      <td>2.435815e-08</td>\n      <td>4.996681e-08</td>\n      <td>4.311721e-07</td>\n    </tr>\n  </tbody>\n</table>\n</div>"
     },
     "metadata": {},
     "output_type": "display_data"
    }
   ],
   "source": [
    "tour_id_to_check = 2961920\n",
    "\n",
    "display(data.chooser_data.loc[data.chooser_data.index == tour_id_to_check])\n",
    "display(m_0.dataframes.data_ch.loc[m_0.dataframes.data_ch.index == tour_id_to_check])\n",
    "display(probs_0.loc[probs_0.index == tour_id_to_check])\n",
    "\n",
    "# choose the first trip to look into probabilities below\n",
    "trip_id_to_check = data.chooser_data.loc[data.chooser_data.index == tour_id_to_check].trip_id.values[0]\n",
    "print(trip_id_to_check)\n",
    "res_ = probs_0.loc[(probs_0.index == tour_id_to_check)]\n",
    "display(res_.loc[:, (res_ != 0).any(axis=0)])"
   ],
   "metadata": {
    "collapsed": false,
    "pycharm": {
     "name": "#%%\n"
    }
   }
  },
  {
   "cell_type": "code",
   "execution_count": 46,
   "outputs": [],
   "source": [
    "data.chooser_data.loc[data.chooser_data.index.isin(m_0.dataframes.data_ch.index)].to_csv(os.path.join(example_dir, \"choosers_larch.csv\"))\n",
    "probs_0.to_csv(os.path.join(example_dir, \"probabilities_larch.csv\"))"
   ],
   "metadata": {
    "collapsed": false,
    "pycharm": {
     "name": "#%%\n"
    }
   }
  },
  {
   "cell_type": "code",
   "execution_count": null,
   "outputs": [],
   "source": [],
   "metadata": {
    "collapsed": false,
    "pycharm": {
     "name": "#%%\n"
    }
   }
  }
 ],
 "metadata": {
  "kernelspec": {
   "display_name": "Python 3",
   "language": "python",
   "name": "python3"
  },
  "language_info": {
   "codemirror_mode": {
    "name": "ipython",
    "version": 2
   },
   "file_extension": ".py",
   "mimetype": "text/x-python",
   "name": "python",
   "nbconvert_exporter": "python",
   "pygments_lexer": "ipython2",
   "version": "2.7.6"
  }
 },
 "nbformat": 4,
 "nbformat_minor": 0
}