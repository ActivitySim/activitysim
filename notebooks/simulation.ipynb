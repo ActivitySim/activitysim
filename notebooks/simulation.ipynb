{
 "metadata": {
  "name": "",
  "signature": "sha256:e219793e47070764c2e22fb7b8b8378d0e57a8839fc66ff0b64d103221ce85bb"
 },
 "nbformat": 3,
 "nbformat_minor": 0,
 "worksheets": [
  {
   "cells": [
    {
     "cell_type": "code",
     "collapsed": false,
     "input": [
      "%load_ext autoreload\n",
      "%autoreload 2\n",
      "if 'sim' not in globals():\n",
      "    import os; os.chdir('../example')\n",
      "import urbansim.sim.simulation as sim\n",
      "from activitysim.defaults import variables\n",
      "import models"
     ],
     "language": "python",
     "metadata": {},
     "outputs": [],
     "prompt_number": 1
    },
    {
     "cell_type": "code",
     "collapsed": false,
     "input": [
      "sim.run([\"workplace_location_simulate\"])"
     ],
     "language": "python",
     "metadata": {},
     "outputs": [
      {
       "output_type": "stream",
       "stream": "stdout",
       "text": [
        "Running model 'workplace_location_simulate'\n",
        "Describe of choices:\n"
       ]
      },
      {
       "output_type": "stream",
       "stream": "stdout",
       "text": [
        "count    2615.000000\n",
        "mean      728.864627\n",
        "std       420.466036\n",
        "min         1.000000\n",
        "25%       363.000000\n",
        "50%       733.000000\n",
        "75%      1086.500000\n",
        "max      1452.000000\n",
        "Name: TAZ, dtype: float64\n",
        "Time to execute model 'workplace_location_simulate': 7.18s\n",
        "Total time to execute: 7.18s\n"
       ]
      }
     ],
     "prompt_number": 2
    },
    {
     "cell_type": "code",
     "collapsed": false,
     "input": [
      "print sim.get_table(\"persons\").distance_to_work.describe()"
     ],
     "language": "python",
     "metadata": {},
     "outputs": [
      {
       "output_type": "stream",
       "stream": "stdout",
       "text": [
        "count    2615.000000\n",
        "mean       38.995996\n",
        "std        23.708640\n",
        "min         0.220000\n",
        "25%        21.030000\n",
        "50%        36.630000\n",
        "75%        52.640000\n",
        "max       155.990000\n",
        "dtype: float64\n"
       ]
      }
     ],
     "prompt_number": 3
    },
    {
     "cell_type": "code",
     "collapsed": false,
     "input": [
      "sim.run([\"auto_ownership_simulate\"])"
     ],
     "language": "python",
     "metadata": {},
     "outputs": [
      {
       "output_type": "stream",
       "stream": "stdout",
       "text": [
        "Running model 'auto_ownership_simulate'\n",
        "Choices:\n"
       ]
      },
      {
       "output_type": "stream",
       "stream": "stdout",
       "text": [
        "2    489\n",
        "3    378\n",
        "1     68\n",
        "4     54\n",
        "0     11\n",
        "dtype: int64\n",
        "Time to execute model 'auto_ownership_simulate': 0.65s\n",
        "Total time to execute: 0.65s\n"
       ]
      }
     ],
     "prompt_number": 4
    },
    {
     "cell_type": "code",
     "collapsed": false,
     "input": [
      "sim.run(['mandatory_tour_frequency'])"
     ],
     "language": "python",
     "metadata": {},
     "outputs": [
      {
       "output_type": "stream",
       "stream": "stdout",
       "text": [
        "Running model 'mandatory_tour_frequency'\n",
        "891 persons run for mandatory tour model"
       ]
      },
      {
       "output_type": "stream",
       "stream": "stdout",
       "text": [
        "\n",
        "WARNING: Describe of columns with no variability:\n"
       ]
      },
      {
       "output_type": "stream",
       "stream": "stdout",
       "text": [
        "                                                          count  mean  std  \\\n",
        "((ptype == 2) & nonstudent_to_school) * school1            4455     0    0   \n",
        "((ptype == 2) & nonstudent_to_school) * work_and_school    4455     0    0   \n",
        "((ptype == 4) & (auto_ownership == 0)) * work2             4455     0    0   \n",
        "((ptype == 4) & nonstudent_to_school) * school1            4455     0    0   \n",
        "((ptype == 5) & nonstudent_to_school) * school1            4455     0    0   \n",
        "((ptype == 6) & (auto_ownership == 0)) * school2           4455     0    0   \n",
        "((ptype == 6) & (auto_ownership == 0)) * work_and_school   4455     0    0   \n",
        "((ptype == 6) & non_family) * school1                      4455     0    0   \n",
        "((ptype == 6) & non_family) * work1                        4455     0    0   \n",
        "((ptype == 6) & non_family) * work_and_school              4455     0    0   \n",
        "((ptype == 7) & (auto_ownership == 0)) * school2           4455     0    0   \n",
        "(~(school_taz > -1)) * school1                             4455     0    0   \n",
        "(~(school_taz > -1)) * school2                             4455     0    0   \n",
        "(~(school_taz > -1)) * work_and_school                     4455     0    0   \n",
        "(~(workplace_taz > -1)) * work1                            4455     0    0   \n",
        "(~(workplace_taz > -1)) * work2                            4455     0    0   \n",
        "(~(workplace_taz > -1)) * work_and_school                  4455     0    0   \n",
        "\n",
        "                                                          min  25%  50%  75%  \\\n",
        "((ptype == 2) & nonstudent_to_school) * school1             0    0    0    0   \n",
        "((ptype == 2) & nonstudent_to_school) * work_and_school     0    0    0    0   \n",
        "((ptype == 4) & (auto_ownership == 0)) * work2              0    0    0    0   \n",
        "((ptype == 4) & nonstudent_to_school) * school1             0    0    0    0   \n",
        "((ptype == 5) & nonstudent_to_school) * school1             0    0    0    0   \n",
        "((ptype == 6) & (auto_ownership == 0)) * school2            0    0    0    0   \n",
        "((ptype == 6) & (auto_ownership == 0)) * work_and_school    0    0    0    0   \n",
        "((ptype == 6) & non_family) * school1                       0    0    0    0   \n",
        "((ptype == 6) & non_family) * work1                         0    0    0    0   \n",
        "((ptype == 6) & non_family) * work_and_school               0    0    0    0   \n",
        "((ptype == 7) & (auto_ownership == 0)) * school2            0    0    0    0   \n",
        "(~(school_taz > -1)) * school1                              0    0    0    0   \n",
        "(~(school_taz > -1)) * school2                              0    0    0    0   \n",
        "(~(school_taz > -1)) * work_and_school                      0    0    0    0   \n",
        "(~(workplace_taz > -1)) * work1                             0    0    0    0   \n",
        "(~(workplace_taz > -1)) * work2                             0    0    0    0   \n",
        "(~(workplace_taz > -1)) * work_and_school                   0    0    0    0   \n",
        "\n",
        "                                                          max  \n",
        "((ptype == 2) & nonstudent_to_school) * school1             0  \n",
        "((ptype == 2) & nonstudent_to_school) * work_and_school     0  \n",
        "((ptype == 4) & (auto_ownership == 0)) * work2              0  \n",
        "((ptype == 4) & nonstudent_to_school) * school1             0  \n",
        "((ptype == 5) & nonstudent_to_school) * school1             0  \n",
        "((ptype == 6) & (auto_ownership == 0)) * school2            0  \n",
        "((ptype == 6) & (auto_ownership == 0)) * work_and_school    0  \n",
        "((ptype == 6) & non_family) * school1                       0  \n",
        "((ptype == 6) & non_family) * work1                         0  \n",
        "((ptype == 6) & non_family) * work_and_school               0  \n",
        "((ptype == 7) & (auto_ownership == 0)) * school2            0  \n",
        "(~(school_taz > -1)) * school1                              0  \n",
        "(~(school_taz > -1)) * school2                              0  \n",
        "(~(school_taz > -1)) * work_and_school                      0  \n",
        "(~(workplace_taz > -1)) * work1                             0  \n",
        "(~(workplace_taz > -1)) * work2                             0  \n",
        "(~(workplace_taz > -1)) * work_and_school                   0  \n",
        "Choices:\n",
        "work_and_school    321\n",
        "work2              273\n",
        "work1              165\n",
        "school1             75\n",
        "school2             57\n",
        "dtype: int64\n",
        "Time to execute model 'mandatory_tour_frequency': 3.45s\n",
        "Total time to execute: 3.45s\n"
       ]
      }
     ],
     "prompt_number": 5
    },
    {
     "cell_type": "code",
     "collapsed": false,
     "input": [
      "sim.run(['non_mandatory_tour_frequency'])"
     ],
     "language": "python",
     "metadata": {},
     "outputs": [
      {
       "output_type": "stream",
       "stream": "stdout",
       "text": [
        "Running model 'non_mandatory_tour_frequency'\n",
        "Expression           \n",
        "othmaint >= 1     Alt    0.1202\n",
        "eatout >= 1       Alt    0.0097\n",
        "social >= 1       Alt    0.0522\n",
        "othdiscr >= 1     Alt    0.7412\n",
        "escort * no_cars  Alt   -2.0000\n",
        "dtype: float64\n",
        "1769 persons run for non-mandatory tour model"
       ]
      },
      {
       "output_type": "stream",
       "stream": "stdout",
       "text": [
        "\n",
        "WARNING: Describe of columns with no variability:\n"
       ]
      },
      {
       "output_type": "stream",
       "stream": "stdout",
       "text": [
        "                                                              count  mean  \\\n",
        "(car_sufficiency > 0) & (tot_tours == 1)                     100000     0   \n",
        "(car_sufficiency > 0) & (tot_tours == 2)                     100000     0   \n",
        "(car_sufficiency > 0) & (tot_tours == 3)                     100000     0   \n",
        "(car_sufficiency > 0) & (tot_tours == 4)                     100000     0   \n",
        "(car_sufficiency > 0) & (tot_tours > 4)                      100000     0   \n",
        "(tot_tours == 0) & (num_mand == 0) & (num_joint_tours == 0)  100000     0   \n",
        "max_window*(tot_tours == 0)                                  100000     0   \n",
        "max_window*(tot_tours == 1)                                  100000     0   \n",
        "max_window*(tot_tours == 2)                                  100000     0   \n",
        "max_window*(tot_tours == 3)                                  100000     0   \n",
        "max_window*(tot_tours == 4)                                  100000     0   \n",
        "max_window*(tot_tours >  4)                                  100000     0   \n",
        "num_disc_j                                                   100000     0   \n",
        "num_eat_j                                                    100000     0   \n",
        "num_joint_tours*(tot_tours == 0)                             100000     0   \n",
        "num_joint_tours*(tot_tours == 1)                             100000     0   \n",
        "num_joint_tours*(tot_tours == 2)                             100000     0   \n",
        "num_joint_tours*(tot_tours == 3)                             100000     0   \n",
        "num_joint_tours*(tot_tours == 4)                             100000     0   \n",
        "num_joint_tours*(tot_tours >  4)                             100000     0   \n",
        "num_main_j                                                   100000     0   \n",
        "num_shop_j                                                   100000     0   \n",
        "num_visi_j                                                   100000     0   \n",
        "\n",
        "                                                             std  min  25%  \\\n",
        "(car_sufficiency > 0) & (tot_tours == 1)                       0    0    0   \n",
        "(car_sufficiency > 0) & (tot_tours == 2)                       0    0    0   \n",
        "(car_sufficiency > 0) & (tot_tours == 3)                       0    0    0   \n",
        "(car_sufficiency > 0) & (tot_tours == 4)                       0    0    0   \n",
        "(car_sufficiency > 0) & (tot_tours > 4)                        0    0    0   \n",
        "(tot_tours == 0) & (num_mand == 0) & (num_joint_tours == 0)    0    0    0   \n",
        "max_window*(tot_tours == 0)                                    0    0    0   \n",
        "max_window*(tot_tours == 1)                                    0    0    0   \n",
        "max_window*(tot_tours == 2)                                    0    0    0   \n",
        "max_window*(tot_tours == 3)                                    0    0    0   \n",
        "max_window*(tot_tours == 4)                                    0    0    0   \n",
        "max_window*(tot_tours >  4)                                    0    0    0   \n",
        "num_disc_j                                                     0    0    0   \n",
        "num_eat_j                                                      0    0    0   \n",
        "num_joint_tours*(tot_tours == 0)                               0    0    0   \n",
        "num_joint_tours*(tot_tours == 1)                               0    0    0   \n",
        "num_joint_tours*(tot_tours == 2)                               0    0    0   \n",
        "num_joint_tours*(tot_tours == 3)                               0    0    0   \n",
        "num_joint_tours*(tot_tours == 4)                               0    0    0   \n",
        "num_joint_tours*(tot_tours >  4)                               0    0    0   \n",
        "num_main_j                                                     0    0    0   \n",
        "num_shop_j                                                     0    0    0   \n",
        "num_visi_j                                                     0    0    0   \n",
        "\n",
        "                                                             50%  75%  max  \n",
        "(car_sufficiency > 0) & (tot_tours == 1)                       0    0    0  \n",
        "(car_sufficiency > 0) & (tot_tours == 2)                       0    0    0  \n",
        "(car_sufficiency > 0) & (tot_tours == 3)                       0    0    0  \n",
        "(car_sufficiency > 0) & (tot_tours == 4)                       0    0    0  \n",
        "(car_sufficiency > 0) & (tot_tours > 4)                        0    0    0  \n",
        "(tot_tours == 0) & (num_mand == 0) & (num_joint_tours == 0)    0    0    0  \n",
        "max_window*(tot_tours == 0)                                    0    0    0  \n",
        "max_window*(tot_tours == 1)                                    0    0    0  \n",
        "max_window*(tot_tours == 2)                                    0    0    0  \n",
        "max_window*(tot_tours == 3)                                    0    0    0  \n",
        "max_window*(tot_tours == 4)                                    0    0    0  \n",
        "max_window*(tot_tours >  4)                                    0    0    0  \n",
        "num_disc_j                                                     0    0    0  \n",
        "num_eat_j                                                      0    0    0  \n",
        "num_joint_tours*(tot_tours == 0)                               0    0    0  \n",
        "num_joint_tours*(tot_tours == 1)                               0    0    0  \n",
        "num_joint_tours*(tot_tours == 2)                               0    0    0  \n",
        "num_joint_tours*(tot_tours == 3)                               0    0    0  \n",
        "num_joint_tours*(tot_tours == 4)                               0    0    0  \n",
        "num_joint_tours*(tot_tours >  4)                               0    0    0  \n",
        "num_main_j                                                     0    0    0  \n",
        "num_shop_j                                                     0    0    0  \n",
        "num_visi_j                                                     0    0    0  \n",
        "Choices:\n"
       ]
      },
      {
       "output_type": "stream",
       "stream": "stdout",
       "text": [
        "0     1165\n",
        "34     109\n",
        "6       76\n",
        "18      75\n",
        "38      35\n",
        "64      33\n",
        "22      28\n",
        "7       22\n",
        "14      21\n",
        "10      16\n",
        "48      15\n",
        "3       13\n",
        "26      13\n",
        "36      12\n",
        "20      11\n",
        "66       9\n",
        "42       9\n",
        "12       8\n",
        "11       7\n",
        "19       7\n",
        "68       6\n",
        "17       5\n",
        "2        5\n",
        "30       5\n",
        "5        5\n",
        "23       5\n",
        "27       4\n",
        "4        4\n",
        "21       4\n",
        "13       4\n",
        "50       4\n",
        "37       3\n",
        "28       3\n",
        "43       3\n",
        "15       2\n",
        "32       2\n",
        "56       2\n",
        "35       2\n",
        "51       2\n",
        "9        1\n",
        "74       1\n",
        "73       1\n",
        "70       1\n",
        "67       1\n",
        "65       1\n",
        "58       1\n",
        "29       1\n",
        "76       1\n",
        "46       1\n",
        "45       1\n",
        "40       1\n",
        "39       1\n",
        "33       1\n",
        "82       1\n",
        "Length: 54, dtype: int64\n",
        "Time to execute model 'non_mandatory_tour_frequency': 5.63s\n",
        "Total time to execute: 5.63s\n"
       ]
      }
     ],
     "prompt_number": 20
    },
    {
     "cell_type": "code",
     "collapsed": false,
     "input": [
      "sim.get_table(\"land_use\").to_frame().info()"
     ],
     "language": "python",
     "metadata": {},
     "outputs": [
      {
       "output_type": "stream",
       "stream": "stdout",
       "text": [
        "<class 'pandas.core.frame.DataFrame'>\n",
        "Int64Index: 1454 entries, 1 to 1454\n",
        "Data columns (total 49 columns):\n",
        "DISTRICT              1454 non-null int64\n",
        "SD                    1454 non-null int64\n",
        "COUNTY                1454 non-null int64\n",
        "TOTHH                 1454 non-null int64\n",
        "HHPOP                 1454 non-null int64\n",
        "TOTPOP                1454 non-null int64\n",
        "EMPRES                1454 non-null int64\n",
        "SFDU                  1454 non-null int64\n",
        "MFDU                  1454 non-null int64\n",
        "HHINCQ1               1454 non-null int64\n",
        "HHINCQ2               1454 non-null int64\n",
        "HHINCQ3               1454 non-null int64\n",
        "HHINCQ4               1454 non-null int64\n",
        "TOTACRE               1454 non-null float64\n",
        "RESACRE               1454 non-null int64\n",
        "CIACRE                1454 non-null int64\n",
        "SHPOP62P              1454 non-null float64\n",
        "TOTEMP                1454 non-null int64\n",
        "AGE0004               1454 non-null int64\n",
        "AGE0519               1454 non-null int64\n",
        "AGE2044               1454 non-null int64\n",
        "AGE4564               1454 non-null int64\n",
        "AGE65P                1454 non-null int64\n",
        "RETEMPN               1454 non-null int64\n",
        "FPSEMPN               1454 non-null int64\n",
        "HEREMPN               1454 non-null int64\n",
        "OTHEMPN               1454 non-null int64\n",
        "AGREMPN               1454 non-null int64\n",
        "MWTEMPN               1454 non-null int64\n",
        "PRKCST                1454 non-null float64\n",
        "OPRKCST               1454 non-null float64\n",
        "area_type             1454 non-null int64\n",
        "HSENROLL              1454 non-null float64\n",
        "COLLFTE               1454 non-null float64\n",
        "COLLPTE               1454 non-null float64\n",
        "TOPOLOGY              1454 non-null int64\n",
        "TERMINAL              1454 non-null float64\n",
        "ZERO                  1454 non-null int64\n",
        "hhlds                 1454 non-null int64\n",
        "sftaz                 1454 non-null int64\n",
        "gqpop                 1454 non-null int64\n",
        "employment_density    1454 non-null float64\n",
        "total_acres           1454 non-null float64\n",
        "county_id             1454 non-null int64\n",
        "density_index         1453 non-null float64\n",
        "county_name           1454 non-null object\n",
        "household_density     1454 non-null float64\n",
        "total_households      1454 non-null int64\n",
        "total_employment      1454 non-null int64\n",
        "dtypes: float64(12), int64(36), object(1)\n",
        "memory usage: 568.0 KB\n"
       ]
      }
     ],
     "prompt_number": 6
    },
    {
     "cell_type": "code",
     "collapsed": false,
     "input": [
      "sim.get_table(\"households\").to_frame().info()"
     ],
     "language": "python",
     "metadata": {},
     "outputs": [
      {
       "output_type": "stream",
       "stream": "stdout",
       "text": [
        "<class 'pandas.core.frame.DataFrame'>\n",
        "Int64Index: 10000 entries, 688607 to 2424588\n",
        "Data columns (total 61 columns):\n",
        "TAZ                          10000 non-null int64\n",
        "SERIALNO                     10000 non-null int64\n",
        "PUMA5                        10000 non-null int64\n",
        "income                       10000 non-null int64\n",
        "PERSONS                      10000 non-null int64\n",
        "HHT                          10000 non-null int64\n",
        "UNITTYPE                     10000 non-null int64\n",
        "NOC                          10000 non-null int64\n",
        "BLDGSZ                       10000 non-null int64\n",
        "TENURE                       10000 non-null int64\n",
        "VEHICL                       10000 non-null int64\n",
        "hinccat1                     10000 non-null int64\n",
        "hinccat2                     10000 non-null int64\n",
        "hhagecat                     10000 non-null int64\n",
        "hsizecat                     10000 non-null int64\n",
        "hfamily                      10000 non-null int64\n",
        "hunittype                    10000 non-null int64\n",
        "hNOCcat                      10000 non-null int64\n",
        "hwrkrcat                     10000 non-null int64\n",
        "h0004                        10000 non-null int64\n",
        "h0511                        10000 non-null int64\n",
        "h1215                        10000 non-null int64\n",
        "h1617                        10000 non-null int64\n",
        "h1824                        10000 non-null int64\n",
        "h2534                        10000 non-null int64\n",
        "h3549                        10000 non-null int64\n",
        "h5064                        10000 non-null int64\n",
        "h6579                        10000 non-null int64\n",
        "h80up                        10000 non-null int64\n",
        "workers                      10000 non-null int64\n",
        "hwork_f                      10000 non-null int64\n",
        "hwork_p                      10000 non-null int64\n",
        "huniv                        10000 non-null int64\n",
        "hnwork                       10000 non-null int64\n",
        "hretire                      10000 non-null int64\n",
        "hpresch                      10000 non-null int64\n",
        "hschpred                     10000 non-null int64\n",
        "hschdriv                     10000 non-null int64\n",
        "htypdwel                     10000 non-null int64\n",
        "hownrent                     10000 non-null int64\n",
        "hadnwst                      10000 non-null int64\n",
        "hadwpst                      10000 non-null int64\n",
        "hadkids                      10000 non-null int64\n",
        "bucketBin                    10000 non-null int64\n",
        "originalPUMA                 10000 non-null int64\n",
        "hmultiunit                   10000 non-null int64\n",
        "income_segment               10000 non-null category\n",
        "non_workers                  10000 non-null int64\n",
        "family                       10000 non-null bool\n",
        "num_young_adults             10000 non-null float64\n",
        "household_type               10000 non-null object\n",
        "auto_ownership               10000 non-null int64\n",
        "drivers                      10000 non-null float64\n",
        "num_under16_not_at_school    10000 non-null int64\n",
        "home_taz                     10000 non-null int64\n",
        "num_children                 10000 non-null float64\n",
        "non_family                   10000 non-null bool\n",
        "num_adolescents              10000 non-null float64\n",
        "income_in_thousands          10000 non-null float64\n",
        "num_young_children           10000 non-null float64\n",
        "num_college_age              10000 non-null float64\n",
        "dtypes: bool(2), category(1), float64(7), int64(50), object(1)\n",
        "memory usage: 4.5 MB\n"
       ]
      }
     ],
     "prompt_number": 7
    },
    {
     "cell_type": "code",
     "collapsed": false,
     "input": [
      "sim.get_table(\"persons\").to_frame().info()"
     ],
     "language": "python",
     "metadata": {},
     "outputs": [
      {
       "output_type": "stream",
       "stream": "stdout",
       "text": [
        "<class 'pandas.core.frame.DataFrame'>\n",
        "Int64Index: 25495 entries, 29 to 7053105\n",
        "Data columns (total 34 columns):\n",
        "household_id                     25495 non-null int64\n",
        "age                              25495 non-null int64\n",
        "RELATE                           25495 non-null int64\n",
        "ESR                              25495 non-null int64\n",
        "GRADE                            25495 non-null int64\n",
        "PNUM                             25495 non-null int64\n",
        "PAUG                             25495 non-null int64\n",
        "DDP                              25495 non-null int64\n",
        "sex                              25495 non-null int64\n",
        "WEEKS                            25495 non-null int64\n",
        "HOURS                            25495 non-null int64\n",
        "MSP                              25495 non-null int64\n",
        "POVERTY                          25495 non-null int64\n",
        "EARNS                            25495 non-null int64\n",
        "pagecat                          25495 non-null int64\n",
        "pemploy                          25495 non-null int64\n",
        "pstudent                         25495 non-null int64\n",
        "ptype                            25495 non-null int64\n",
        "padkid                           25495 non-null int64\n",
        "school_taz                       25495 non-null int64\n",
        "mandatory_tour_frequency         25495 non-null object\n",
        "employed_cat                     25495 non-null object\n",
        "student_is_employed              25495 non-null bool\n",
        "roundtrip_auto_time_to_school    25495 non-null float64\n",
        "cdap_activity                    25495 non-null object\n",
        "distance_to_school               25495 non-null float64\n",
        "workplace_taz                    25495 non-null int64\n",
        "roundtrip_auto_time_to_work      25495 non-null float64\n",
        "distance_to_work                 25495 non-null float64\n",
        "student_cat                      25495 non-null object\n",
        "ptype_cat                        25495 non-null object\n",
        "under16_not_at_school            25495 non-null bool\n",
        "home_taz                         25495 non-null int64\n",
        "nonstudent_to_school             25495 non-null bool\n",
        "dtypes: bool(3), float64(4), int64(22), object(5)\n",
        "memory usage: 6.3 MB\n"
       ]
      }
     ],
     "prompt_number": 8
    },
    {
     "cell_type": "code",
     "collapsed": false,
     "input": [],
     "language": "python",
     "metadata": {},
     "outputs": []
    }
   ],
   "metadata": {}
  }
 ]
}