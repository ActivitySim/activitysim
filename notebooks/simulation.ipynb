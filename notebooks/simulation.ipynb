{
 "metadata": {
  "name": "",
  "signature": "sha256:aacfa5279ec5c371bfe8b33278574f7f5d21d71c652fcd6ed5c3f843dce5a23d"
 },
 "nbformat": 3,
 "nbformat_minor": 0,
 "worksheets": [
  {
   "cells": [
    {
     "cell_type": "code",
     "collapsed": false,
     "input": [
      "%load_ext autoreload\n",
      "%autoreload 2\n",
      "if 'sim' not in globals():\n",
      "    import os; os.chdir('../example')\n",
      "import urbansim.sim.simulation as sim\n",
      "from activitysim.defaults import variables\n",
      "import models"
     ],
     "language": "python",
     "metadata": {},
     "outputs": [],
     "prompt_number": 1
    },
    {
     "cell_type": "code",
     "collapsed": false,
     "input": [
      "sim.run([\"workplace_location_simulate\"])"
     ],
     "language": "python",
     "metadata": {},
     "outputs": [
      {
       "output_type": "stream",
       "stream": "stdout",
       "text": [
        "Running model 'workplace_location_simulate'\n",
        "Describe of choices:\n"
       ]
      },
      {
       "output_type": "stream",
       "stream": "stdout",
       "text": [
        "count    2485.000000\n",
        "mean      709.607243\n",
        "std       428.414945\n",
        "min         1.000000\n",
        "25%       338.000000\n",
        "50%       699.000000\n",
        "75%      1081.000000\n",
        "max      1454.000000\n",
        "Name: TAZ, dtype: float64\n",
        "Time to execute model 'workplace_location_simulate': 7.18s\n",
        "Total time to execute: 7.18s\n"
       ]
      }
     ],
     "prompt_number": 2
    },
    {
     "cell_type": "code",
     "collapsed": false,
     "input": [
      "print sim.get_table(\"persons\").distance_to_work.describe()"
     ],
     "language": "python",
     "metadata": {},
     "outputs": [
      {
       "output_type": "stream",
       "stream": "stdout",
       "text": [
        "count    2485.000000\n",
        "mean       38.207243\n",
        "std        23.209170\n",
        "min         0.150000\n",
        "25%        21.390000\n",
        "50%        35.570000\n",
        "75%        51.630000\n",
        "max       143.270000\n",
        "dtype: float64\n"
       ]
      }
     ],
     "prompt_number": 3
    },
    {
     "cell_type": "code",
     "collapsed": false,
     "input": [
      "sim.run([\"auto_ownership_simulate\"])"
     ],
     "language": "python",
     "metadata": {},
     "outputs": [
      {
       "output_type": "stream",
       "stream": "stdout",
       "text": [
        "Running model 'auto_ownership_simulate'\n",
        "Choices:\n"
       ]
      },
      {
       "output_type": "stream",
       "stream": "stdout",
       "text": [
        "2    469\n",
        "3    396\n",
        "1     73\n",
        "4     56\n",
        "0      6\n",
        "dtype: int64\n",
        "Time to execute model 'auto_ownership_simulate': 0.69s\n",
        "Total time to execute: 0.69s\n"
       ]
      }
     ],
     "prompt_number": 4
    },
    {
     "cell_type": "code",
     "collapsed": false,
     "input": [
      "sim.run(['mandatory_tour_frequency'])"
     ],
     "language": "python",
     "metadata": {},
     "outputs": [
      {
       "output_type": "stream",
       "stream": "stdout",
       "text": [
        "Running model 'mandatory_tour_frequency'\n",
        "833 persons run for mandatory tour model"
       ]
      },
      {
       "output_type": "stream",
       "stream": "stdout",
       "text": [
        "\n",
        "WARNING: Describe of columns with no variability:\n"
       ]
      },
      {
       "output_type": "stream",
       "stream": "stdout",
       "text": [
        "                                                                                    count  \\\n",
        "((ptype == 2) & (auto_ownership == 0)) * work2                                       4165   \n",
        "((ptype == 2) & (auto_ownership == 0)) * work_and_school                             4165   \n",
        "((ptype == 2) & nonstudent_to_school) * school1                                      4165   \n",
        "((ptype == 2) & nonstudent_to_school) * work_and_school                              4165   \n",
        "((ptype == 3) & (distance_to_school < 3)) * school2                                  4165   \n",
        "((ptype == 3) & (distance_to_work < 3 | distance_to_school < 3)) * work_and_school   4165   \n",
        "((ptype == 3) & (distance_to_work < 3)) * work2                                      4165   \n",
        "((ptype == 4) & (auto_ownership == 0)) * work2                                       4165   \n",
        "((ptype == 4) & nonstudent_to_school) * school1                                      4165   \n",
        "((ptype == 5) & (auto_ownership == 0)) * work2                                       4165   \n",
        "((ptype == 5) & nonstudent_to_school) * school1                                      4165   \n",
        "((ptype == 6) & (auto_ownership == 0)) * school2                                     4165   \n",
        "((ptype == 6) & (auto_ownership == 0)) * work_and_school                             4165   \n",
        "((ptype == 6) & (distance_to_school < 3)) * school2                                  4165   \n",
        "((ptype == 6) & (distance_to_work < 3 | distance_to_school < 3)) * work_and_school   4165   \n",
        "((ptype == 6) & non_family) * school1                                                4165   \n",
        "((ptype == 6) & non_family) * work1                                                  4165   \n",
        "((ptype == 6) & non_family) * work_and_school                                        4165   \n",
        "((ptype == 7) & (auto_ownership == 0)) * school2                                     4165   \n",
        "(~(school_taz > -1)) * school1                                                       4165   \n",
        "(~(school_taz > -1)) * school2                                                       4165   \n",
        "(~(school_taz > -1)) * work_and_school                                               4165   \n",
        "(~(workplace_taz > -1)) * work1                                                      4165   \n",
        "(~(workplace_taz > -1)) * work2                                                      4165   \n",
        "(~(workplace_taz > -1)) * work_and_school                                            4165   \n",
        "\n",
        "                                                                                    mean  \\\n",
        "((ptype == 2) & (auto_ownership == 0)) * work2                                         0   \n",
        "((ptype == 2) & (auto_ownership == 0)) * work_and_school                               0   \n",
        "((ptype == 2) & nonstudent_to_school) * school1                                        0   \n",
        "((ptype == 2) & nonstudent_to_school) * work_and_school                                0   \n",
        "((ptype == 3) & (distance_to_school < 3)) * school2                                    0   \n",
        "((ptype == 3) & (distance_to_work < 3 | distance_to_school < 3)) * work_and_school     0   \n",
        "((ptype == 3) & (distance_to_work < 3)) * work2                                        0   \n",
        "((ptype == 4) & (auto_ownership == 0)) * work2                                         0   \n",
        "((ptype == 4) & nonstudent_to_school) * school1                                        0   \n",
        "((ptype == 5) & (auto_ownership == 0)) * work2                                         0   \n",
        "((ptype == 5) & nonstudent_to_school) * school1                                        0   \n",
        "((ptype == 6) & (auto_ownership == 0)) * school2                                       0   \n",
        "((ptype == 6) & (auto_ownership == 0)) * work_and_school                               0   \n",
        "((ptype == 6) & (distance_to_school < 3)) * school2                                    0   \n",
        "((ptype == 6) & (distance_to_work < 3 | distance_to_school < 3)) * work_and_school     0   \n",
        "((ptype == 6) & non_family) * school1                                                  0   \n",
        "((ptype == 6) & non_family) * work1                                                    0   \n",
        "((ptype == 6) & non_family) * work_and_school                                          0   \n",
        "((ptype == 7) & (auto_ownership == 0)) * school2                                       0   \n",
        "(~(school_taz > -1)) * school1                                                         0   \n",
        "(~(school_taz > -1)) * school2                                                         0   \n",
        "(~(school_taz > -1)) * work_and_school                                                 0   \n",
        "(~(workplace_taz > -1)) * work1                                                        0   \n",
        "(~(workplace_taz > -1)) * work2                                                        0   \n",
        "(~(workplace_taz > -1)) * work_and_school                                              0   \n",
        "\n",
        "                                                                                    std  \\\n",
        "((ptype == 2) & (auto_ownership == 0)) * work2                                        0   \n",
        "((ptype == 2) & (auto_ownership == 0)) * work_and_school                              0   \n",
        "((ptype == 2) & nonstudent_to_school) * school1                                       0   \n",
        "((ptype == 2) & nonstudent_to_school) * work_and_school                               0   \n",
        "((ptype == 3) & (distance_to_school < 3)) * school2                                   0   \n",
        "((ptype == 3) & (distance_to_work < 3 | distance_to_school < 3)) * work_and_school    0   \n",
        "((ptype == 3) & (distance_to_work < 3)) * work2                                       0   \n",
        "((ptype == 4) & (auto_ownership == 0)) * work2                                        0   \n",
        "((ptype == 4) & nonstudent_to_school) * school1                                       0   \n",
        "((ptype == 5) & (auto_ownership == 0)) * work2                                        0   \n",
        "((ptype == 5) & nonstudent_to_school) * school1                                       0   \n",
        "((ptype == 6) & (auto_ownership == 0)) * school2                                      0   \n",
        "((ptype == 6) & (auto_ownership == 0)) * work_and_school                              0   \n",
        "((ptype == 6) & (distance_to_school < 3)) * school2                                   0   \n",
        "((ptype == 6) & (distance_to_work < 3 | distance_to_school < 3)) * work_and_school    0   \n",
        "((ptype == 6) & non_family) * school1                                                 0   \n",
        "((ptype == 6) & non_family) * work1                                                   0   \n",
        "((ptype == 6) & non_family) * work_and_school                                         0   \n",
        "((ptype == 7) & (auto_ownership == 0)) * school2                                      0   \n",
        "(~(school_taz > -1)) * school1                                                        0   \n",
        "(~(school_taz > -1)) * school2                                                        0   \n",
        "(~(school_taz > -1)) * work_and_school                                                0   \n",
        "(~(workplace_taz > -1)) * work1                                                       0   \n",
        "(~(workplace_taz > -1)) * work2                                                       0   \n",
        "(~(workplace_taz > -1)) * work_and_school                                             0   \n",
        "\n",
        "                                                                                    min  \\\n",
        "((ptype == 2) & (auto_ownership == 0)) * work2                                        0   \n",
        "((ptype == 2) & (auto_ownership == 0)) * work_and_school                              0   \n",
        "((ptype == 2) & nonstudent_to_school) * school1                                       0   \n",
        "((ptype == 2) & nonstudent_to_school) * work_and_school                               0   \n",
        "((ptype == 3) & (distance_to_school < 3)) * school2                                   0   \n",
        "((ptype == 3) & (distance_to_work < 3 | distance_to_school < 3)) * work_and_school    0   \n",
        "((ptype == 3) & (distance_to_work < 3)) * work2                                       0   \n",
        "((ptype == 4) & (auto_ownership == 0)) * work2                                        0   \n",
        "((ptype == 4) & nonstudent_to_school) * school1                                       0   \n",
        "((ptype == 5) & (auto_ownership == 0)) * work2                                        0   \n",
        "((ptype == 5) & nonstudent_to_school) * school1                                       0   \n",
        "((ptype == 6) & (auto_ownership == 0)) * school2                                      0   \n",
        "((ptype == 6) & (auto_ownership == 0)) * work_and_school                              0   \n",
        "((ptype == 6) & (distance_to_school < 3)) * school2                                   0   \n",
        "((ptype == 6) & (distance_to_work < 3 | distance_to_school < 3)) * work_and_school    0   \n",
        "((ptype == 6) & non_family) * school1                                                 0   \n",
        "((ptype == 6) & non_family) * work1                                                   0   \n",
        "((ptype == 6) & non_family) * work_and_school                                         0   \n",
        "((ptype == 7) & (auto_ownership == 0)) * school2                                      0   \n",
        "(~(school_taz > -1)) * school1                                                        0   \n",
        "(~(school_taz > -1)) * school2                                                        0   \n",
        "(~(school_taz > -1)) * work_and_school                                                0   \n",
        "(~(workplace_taz > -1)) * work1                                                       0   \n",
        "(~(workplace_taz > -1)) * work2                                                       0   \n",
        "(~(workplace_taz > -1)) * work_and_school                                             0   \n",
        "\n",
        "                                                                                    25%  \\\n",
        "((ptype == 2) & (auto_ownership == 0)) * work2                                        0   \n",
        "((ptype == 2) & (auto_ownership == 0)) * work_and_school                              0   \n",
        "((ptype == 2) & nonstudent_to_school) * school1                                       0   \n",
        "((ptype == 2) & nonstudent_to_school) * work_and_school                               0   \n",
        "((ptype == 3) & (distance_to_school < 3)) * school2                                   0   \n",
        "((ptype == 3) & (distance_to_work < 3 | distance_to_school < 3)) * work_and_school    0   \n",
        "((ptype == 3) & (distance_to_work < 3)) * work2                                       0   \n",
        "((ptype == 4) & (auto_ownership == 0)) * work2                                        0   \n",
        "((ptype == 4) & nonstudent_to_school) * school1                                       0   \n",
        "((ptype == 5) & (auto_ownership == 0)) * work2                                        0   \n",
        "((ptype == 5) & nonstudent_to_school) * school1                                       0   \n",
        "((ptype == 6) & (auto_ownership == 0)) * school2                                      0   \n",
        "((ptype == 6) & (auto_ownership == 0)) * work_and_school                              0   \n",
        "((ptype == 6) & (distance_to_school < 3)) * school2                                   0   \n",
        "((ptype == 6) & (distance_to_work < 3 | distance_to_school < 3)) * work_and_school    0   \n",
        "((ptype == 6) & non_family) * school1                                                 0   \n",
        "((ptype == 6) & non_family) * work1                                                   0   \n",
        "((ptype == 6) & non_family) * work_and_school                                         0   \n",
        "((ptype == 7) & (auto_ownership == 0)) * school2                                      0   \n",
        "(~(school_taz > -1)) * school1                                                        0   \n",
        "(~(school_taz > -1)) * school2                                                        0   \n",
        "(~(school_taz > -1)) * work_and_school                                                0   \n",
        "(~(workplace_taz > -1)) * work1                                                       0   \n",
        "(~(workplace_taz > -1)) * work2                                                       0   \n",
        "(~(workplace_taz > -1)) * work_and_school                                             0   \n",
        "\n",
        "                                                                                    50%  \\\n",
        "((ptype == 2) & (auto_ownership == 0)) * work2                                        0   \n",
        "((ptype == 2) & (auto_ownership == 0)) * work_and_school                              0   \n",
        "((ptype == 2) & nonstudent_to_school) * school1                                       0   \n",
        "((ptype == 2) & nonstudent_to_school) * work_and_school                               0   \n",
        "((ptype == 3) & (distance_to_school < 3)) * school2                                   0   \n",
        "((ptype == 3) & (distance_to_work < 3 | distance_to_school < 3)) * work_and_school    0   \n",
        "((ptype == 3) & (distance_to_work < 3)) * work2                                       0   \n",
        "((ptype == 4) & (auto_ownership == 0)) * work2                                        0   \n",
        "((ptype == 4) & nonstudent_to_school) * school1                                       0   \n",
        "((ptype == 5) & (auto_ownership == 0)) * work2                                        0   \n",
        "((ptype == 5) & nonstudent_to_school) * school1                                       0   \n",
        "((ptype == 6) & (auto_ownership == 0)) * school2                                      0   \n",
        "((ptype == 6) & (auto_ownership == 0)) * work_and_school                              0   \n",
        "((ptype == 6) & (distance_to_school < 3)) * school2                                   0   \n",
        "((ptype == 6) & (distance_to_work < 3 | distance_to_school < 3)) * work_and_school    0   \n",
        "((ptype == 6) & non_family) * school1                                                 0   \n",
        "((ptype == 6) & non_family) * work1                                                   0   \n",
        "((ptype == 6) & non_family) * work_and_school                                         0   \n",
        "((ptype == 7) & (auto_ownership == 0)) * school2                                      0   \n",
        "(~(school_taz > -1)) * school1                                                        0   \n",
        "(~(school_taz > -1)) * school2                                                        0   \n",
        "(~(school_taz > -1)) * work_and_school                                                0   \n",
        "(~(workplace_taz > -1)) * work1                                                       0   \n",
        "(~(workplace_taz > -1)) * work2                                                       0   \n",
        "(~(workplace_taz > -1)) * work_and_school                                             0   \n",
        "\n",
        "                                                                                    75%  \\\n",
        "((ptype == 2) & (auto_ownership == 0)) * work2                                        0   \n",
        "((ptype == 2) & (auto_ownership == 0)) * work_and_school                              0   \n",
        "((ptype == 2) & nonstudent_to_school) * school1                                       0   \n",
        "((ptype == 2) & nonstudent_to_school) * work_and_school                               0   \n",
        "((ptype == 3) & (distance_to_school < 3)) * school2                                   0   \n",
        "((ptype == 3) & (distance_to_work < 3 | distance_to_school < 3)) * work_and_school    0   \n",
        "((ptype == 3) & (distance_to_work < 3)) * work2                                       0   \n",
        "((ptype == 4) & (auto_ownership == 0)) * work2                                        0   \n",
        "((ptype == 4) & nonstudent_to_school) * school1                                       0   \n",
        "((ptype == 5) & (auto_ownership == 0)) * work2                                        0   \n",
        "((ptype == 5) & nonstudent_to_school) * school1                                       0   \n",
        "((ptype == 6) & (auto_ownership == 0)) * school2                                      0   \n",
        "((ptype == 6) & (auto_ownership == 0)) * work_and_school                              0   \n",
        "((ptype == 6) & (distance_to_school < 3)) * school2                                   0   \n",
        "((ptype == 6) & (distance_to_work < 3 | distance_to_school < 3)) * work_and_school    0   \n",
        "((ptype == 6) & non_family) * school1                                                 0   \n",
        "((ptype == 6) & non_family) * work1                                                   0   \n",
        "((ptype == 6) & non_family) * work_and_school                                         0   \n",
        "((ptype == 7) & (auto_ownership == 0)) * school2                                      0   \n",
        "(~(school_taz > -1)) * school1                                                        0   \n",
        "(~(school_taz > -1)) * school2                                                        0   \n",
        "(~(school_taz > -1)) * work_and_school                                                0   \n",
        "(~(workplace_taz > -1)) * work1                                                       0   \n",
        "(~(workplace_taz > -1)) * work2                                                       0   \n",
        "(~(workplace_taz > -1)) * work_and_school                                             0   \n",
        "\n",
        "                                                                                    max  \n",
        "((ptype == 2) & (auto_ownership == 0)) * work2                                        0  \n",
        "((ptype == 2) & (auto_ownership == 0)) * work_and_school                              0  \n",
        "((ptype == 2) & nonstudent_to_school) * school1                                       0  \n",
        "((ptype == 2) & nonstudent_to_school) * work_and_school                               0  \n",
        "((ptype == 3) & (distance_to_school < 3)) * school2                                   0  \n",
        "((ptype == 3) & (distance_to_work < 3 | distance_to_school < 3)) * work_and_school    0  \n",
        "((ptype == 3) & (distance_to_work < 3)) * work2                                       0  \n",
        "((ptype == 4) & (auto_ownership == 0)) * work2                                        0  \n",
        "((ptype == 4) & nonstudent_to_school) * school1                                       0  \n",
        "((ptype == 5) & (auto_ownership == 0)) * work2                                        0  \n",
        "((ptype == 5) & nonstudent_to_school) * school1                                       0  \n",
        "((ptype == 6) & (auto_ownership == 0)) * school2                                      0  \n",
        "((ptype == 6) & (auto_ownership == 0)) * work_and_school                              0  \n",
        "((ptype == 6) & (distance_to_school < 3)) * school2                                   0  \n",
        "((ptype == 6) & (distance_to_work < 3 | distance_to_school < 3)) * work_and_school    0  \n",
        "((ptype == 6) & non_family) * school1                                                 0  \n",
        "((ptype == 6) & non_family) * work1                                                   0  \n",
        "((ptype == 6) & non_family) * work_and_school                                         0  \n",
        "((ptype == 7) & (auto_ownership == 0)) * school2                                      0  \n",
        "(~(school_taz > -1)) * school1                                                        0  \n",
        "(~(school_taz > -1)) * school2                                                        0  \n",
        "(~(school_taz > -1)) * work_and_school                                                0  \n",
        "(~(workplace_taz > -1)) * work1                                                       0  \n",
        "(~(workplace_taz > -1)) * work2                                                       0  \n",
        "(~(workplace_taz > -1)) * work_and_school                                             0  \n",
        "Choices:\n",
        "work_and_school    311\n",
        "work2              253\n",
        "work1              148\n",
        "school2             64\n",
        "school1             57\n",
        "dtype: int64\n",
        "Time to execute model 'mandatory_tour_frequency': 3.09s\n",
        "Total time to execute: 3.10s\n"
       ]
      }
     ],
     "prompt_number": 5
    },
    {
     "cell_type": "code",
     "collapsed": false,
     "input": [
      "sim.run(['non_mandatory_tour_frequency'])"
     ],
     "language": "python",
     "metadata": {},
     "outputs": [
      {
       "output_type": "stream",
       "stream": "stdout",
       "text": [
        "Running model 'non_mandatory_tour_frequency'\n",
        "1660 persons run for non-mandatory tour model"
       ]
      },
      {
       "output_type": "stream",
       "stream": "stdout",
       "text": [
        "\n",
        "Running segment 'driving' of size 43\n"
       ]
      },
      {
       "ename": "KeyError",
       "evalue": "'sum'",
       "output_type": "pyerr",
       "traceback": [
        "\u001b[0;31m---------------------------------------------------------------------------\u001b[0m\n\u001b[0;31mKeyError\u001b[0m                                  Traceback (most recent call last)",
        "\u001b[0;32m<ipython-input-6-966f5555a468>\u001b[0m in \u001b[0;36m<module>\u001b[0;34m()\u001b[0m\n\u001b[0;32m----> 1\u001b[0;31m \u001b[0msim\u001b[0m\u001b[0;34m.\u001b[0m\u001b[0mrun\u001b[0m\u001b[0;34m(\u001b[0m\u001b[0;34m[\u001b[0m\u001b[0;34m'non_mandatory_tour_frequency'\u001b[0m\u001b[0;34m]\u001b[0m\u001b[0;34m)\u001b[0m\u001b[0;34m\u001b[0m\u001b[0m\n\u001b[0m",
        "\u001b[0;32m/Users/ffoti/src/urbansim/urbansim/sim/simulation.pyc\u001b[0m in \u001b[0;36mrun\u001b[0;34m(models, years, data_out, out_interval)\u001b[0m\n\u001b[1;32m   1458\u001b[0m                 \u001b[0mmodel\u001b[0m \u001b[0;34m=\u001b[0m \u001b[0mget_model\u001b[0m\u001b[0;34m(\u001b[0m\u001b[0mmodel_name\u001b[0m\u001b[0;34m)\u001b[0m\u001b[0;34m\u001b[0m\u001b[0m\n\u001b[1;32m   1459\u001b[0m                 \u001b[0mt2\u001b[0m \u001b[0;34m=\u001b[0m \u001b[0mtime\u001b[0m\u001b[0;34m.\u001b[0m\u001b[0mtime\u001b[0m\u001b[0;34m(\u001b[0m\u001b[0;34m)\u001b[0m\u001b[0;34m\u001b[0m\u001b[0m\n\u001b[0;32m-> 1460\u001b[0;31m                 \u001b[0mmodel\u001b[0m\u001b[0;34m(\u001b[0m\u001b[0;34m)\u001b[0m\u001b[0;34m\u001b[0m\u001b[0m\n\u001b[0m\u001b[1;32m   1461\u001b[0m                 print(\"Time to execute model '{}': {:.2f}s\".format(\n\u001b[1;32m   1462\u001b[0m                       model_name, time.time()-t2))\n",
        "\u001b[0;32m/Users/ffoti/src/urbansim/urbansim/sim/simulation.pyc\u001b[0m in \u001b[0;36m__call__\u001b[0;34m(self)\u001b[0m\n\u001b[1;32m    670\u001b[0m             kwargs = _collect_variables(names=self._argspec.args,\n\u001b[1;32m    671\u001b[0m                                         expressions=self._argspec.defaults)\n\u001b[0;32m--> 672\u001b[0;31m             \u001b[0;32mreturn\u001b[0m \u001b[0mself\u001b[0m\u001b[0;34m.\u001b[0m\u001b[0m_func\u001b[0m\u001b[0;34m(\u001b[0m\u001b[0;34m**\u001b[0m\u001b[0mkwargs\u001b[0m\u001b[0;34m)\u001b[0m\u001b[0;34m\u001b[0m\u001b[0m\n\u001b[0m\u001b[1;32m    673\u001b[0m \u001b[0;34m\u001b[0m\u001b[0m\n\u001b[1;32m    674\u001b[0m     \u001b[0;32mdef\u001b[0m \u001b[0m_tables_used\u001b[0m\u001b[0;34m(\u001b[0m\u001b[0mself\u001b[0m\u001b[0;34m)\u001b[0m\u001b[0;34m:\u001b[0m\u001b[0;34m\u001b[0m\u001b[0m\n",
        "\u001b[0;32m/Users/ffoti/src/activitysim/example/models.pyc\u001b[0m in \u001b[0;36mnon_mandatory_tour_frequency\u001b[0;34m(persons, households, land_use, accessibility, non_mandatory_tour_frequency_alts, non_mandatory_tour_frequency_spec)\u001b[0m\n\u001b[1;32m    294\u001b[0m         \u001b[0mchoices\u001b[0m\u001b[0;34m,\u001b[0m \u001b[0m_\u001b[0m \u001b[0;34m=\u001b[0m\u001b[0;31m \u001b[0m\u001b[0;31m\\\u001b[0m\u001b[0;34m\u001b[0m\u001b[0m\n\u001b[1;32m    295\u001b[0m             asim.simple_simulate(segment,\n\u001b[0;32m--> 296\u001b[0;31m                                  \u001b[0mnon_mandatory_tour_frequency_alts\u001b[0m\u001b[0;34m.\u001b[0m\u001b[0mto_frame\u001b[0m\u001b[0;34m(\u001b[0m\u001b[0;34m)\u001b[0m\u001b[0;34m,\u001b[0m\u001b[0;34m\u001b[0m\u001b[0m\n\u001b[0m\u001b[1;32m    297\u001b[0m                                  \u001b[0;31m# notice that we pick the column for the\u001b[0m\u001b[0;34m\u001b[0m\u001b[0;34m\u001b[0m\u001b[0m\n\u001b[1;32m    298\u001b[0m                                  \u001b[0;31m# segment for each segment we run\u001b[0m\u001b[0;34m\u001b[0m\u001b[0;34m\u001b[0m\u001b[0m\n",
        "\u001b[0;32m/Users/ffoti/src/urbansim/urbansim/sim/simulation.pyc\u001b[0m in \u001b[0;36mto_frame\u001b[0;34m(self, columns)\u001b[0m\n\u001b[1;32m    213\u001b[0m                             name, self.name),\n\u001b[1;32m    214\u001b[0m                         logger):\n\u001b[0;32m--> 215\u001b[0;31m                     \u001b[0mdf\u001b[0m\u001b[0;34m[\u001b[0m\u001b[0mname\u001b[0m\u001b[0;34m]\u001b[0m \u001b[0;34m=\u001b[0m \u001b[0mcol\u001b[0m\u001b[0;34m(\u001b[0m\u001b[0;34m)\u001b[0m\u001b[0;34m\u001b[0m\u001b[0m\n\u001b[0m\u001b[1;32m    216\u001b[0m \u001b[0;34m\u001b[0m\u001b[0m\n\u001b[1;32m    217\u001b[0m         \u001b[0;32mreturn\u001b[0m \u001b[0mdf\u001b[0m\u001b[0;34m\u001b[0m\u001b[0m\n",
        "\u001b[0;32m/Users/ffoti/src/urbansim/urbansim/sim/simulation.pyc\u001b[0m in \u001b[0;36m__call__\u001b[0;34m(self)\u001b[0m\n\u001b[1;32m    527\u001b[0m             kwargs = _collect_variables(names=self._argspec.args,\n\u001b[1;32m    528\u001b[0m                                         expressions=self._argspec.defaults)\n\u001b[0;32m--> 529\u001b[0;31m             \u001b[0mcol\u001b[0m \u001b[0;34m=\u001b[0m \u001b[0mself\u001b[0m\u001b[0;34m.\u001b[0m\u001b[0m_func\u001b[0m\u001b[0;34m(\u001b[0m\u001b[0;34m**\u001b[0m\u001b[0mkwargs\u001b[0m\u001b[0;34m)\u001b[0m\u001b[0;34m\u001b[0m\u001b[0m\n\u001b[0m\u001b[1;32m    530\u001b[0m \u001b[0;34m\u001b[0m\u001b[0m\n\u001b[1;32m    531\u001b[0m         \u001b[0;32mif\u001b[0m \u001b[0mself\u001b[0m\u001b[0;34m.\u001b[0m\u001b[0mcache\u001b[0m\u001b[0;34m:\u001b[0m\u001b[0;34m\u001b[0m\u001b[0m\n",
        "\u001b[0;32m/Users/ffoti/src/activitysim/example/models.pyc\u001b[0m in \u001b[0;36mtot_tours\u001b[0;34m(non_mandatory_tour_frequency_alts)\u001b[0m\n\u001b[1;32m     47\u001b[0m \u001b[0;32mdef\u001b[0m \u001b[0mtot_tours\u001b[0m\u001b[0;34m(\u001b[0m\u001b[0mnon_mandatory_tour_frequency_alts\u001b[0m\u001b[0;34m)\u001b[0m\u001b[0;34m:\u001b[0m\u001b[0;34m\u001b[0m\u001b[0m\n\u001b[1;32m     48\u001b[0m     \u001b[0;31m# this assumes that the alt dataframe is only counts of trip types\u001b[0m\u001b[0;34m\u001b[0m\u001b[0;34m\u001b[0m\u001b[0m\n\u001b[0;32m---> 49\u001b[0;31m     \u001b[0;32mreturn\u001b[0m \u001b[0mnon_mandatory_tour_frequency_alts\u001b[0m\u001b[0;34m.\u001b[0m\u001b[0msum\u001b[0m\u001b[0;34m(\u001b[0m\u001b[0maxis\u001b[0m\u001b[0;34m=\u001b[0m\u001b[0;36m1\u001b[0m\u001b[0;34m)\u001b[0m\u001b[0;34m\u001b[0m\u001b[0m\n\u001b[0m\u001b[1;32m     50\u001b[0m \u001b[0;34m\u001b[0m\u001b[0m\n\u001b[1;32m     51\u001b[0m \u001b[0;34m\u001b[0m\u001b[0m\n",
        "\u001b[0;32m/Users/ffoti/src/urbansim/urbansim/sim/simulation.pyc\u001b[0m in \u001b[0;36m__getattr__\u001b[0;34m(self, key)\u001b[0m\n\u001b[1;32m    271\u001b[0m \u001b[0;34m\u001b[0m\u001b[0m\n\u001b[1;32m    272\u001b[0m     \u001b[0;32mdef\u001b[0m \u001b[0m__getattr__\u001b[0m\u001b[0;34m(\u001b[0m\u001b[0mself\u001b[0m\u001b[0;34m,\u001b[0m \u001b[0mkey\u001b[0m\u001b[0;34m)\u001b[0m\u001b[0;34m:\u001b[0m\u001b[0;34m\u001b[0m\u001b[0m\n\u001b[0;32m--> 273\u001b[0;31m         \u001b[0;32mreturn\u001b[0m \u001b[0mself\u001b[0m\u001b[0;34m.\u001b[0m\u001b[0mget_column\u001b[0m\u001b[0;34m(\u001b[0m\u001b[0mkey\u001b[0m\u001b[0;34m)\u001b[0m\u001b[0;34m\u001b[0m\u001b[0m\n\u001b[0m\u001b[1;32m    274\u001b[0m \u001b[0;34m\u001b[0m\u001b[0m\n\u001b[1;32m    275\u001b[0m     \u001b[0;32mdef\u001b[0m \u001b[0mupdate_col_from_series\u001b[0m\u001b[0;34m(\u001b[0m\u001b[0mself\u001b[0m\u001b[0;34m,\u001b[0m \u001b[0mcolumn_name\u001b[0m\u001b[0;34m,\u001b[0m \u001b[0mseries\u001b[0m\u001b[0;34m)\u001b[0m\u001b[0;34m:\u001b[0m\u001b[0;34m\u001b[0m\u001b[0m\n",
        "\u001b[0;32m/Users/ffoti/src/urbansim/urbansim/sim/simulation.pyc\u001b[0m in \u001b[0;36mget_column\u001b[0;34m(self, column_name)\u001b[0m\n\u001b[1;32m    261\u001b[0m                     \u001b[0mcolumn\u001b[0m \u001b[0;34m=\u001b[0m \u001b[0mextra_cols\u001b[0m\u001b[0;34m[\u001b[0m\u001b[0mcolumn_name\u001b[0m\u001b[0;34m]\u001b[0m\u001b[0;34m(\u001b[0m\u001b[0;34m)\u001b[0m\u001b[0;34m\u001b[0m\u001b[0m\n\u001b[1;32m    262\u001b[0m             \u001b[0;32melse\u001b[0m\u001b[0;34m:\u001b[0m\u001b[0;34m\u001b[0m\u001b[0m\n\u001b[0;32m--> 263\u001b[0;31m                 \u001b[0mcolumn\u001b[0m \u001b[0;34m=\u001b[0m \u001b[0mself\u001b[0m\u001b[0;34m.\u001b[0m\u001b[0mlocal\u001b[0m\u001b[0;34m[\u001b[0m\u001b[0mcolumn_name\u001b[0m\u001b[0;34m]\u001b[0m\u001b[0;34m\u001b[0m\u001b[0m\n\u001b[0m\u001b[1;32m    264\u001b[0m             \u001b[0;32mif\u001b[0m \u001b[0mself\u001b[0m\u001b[0;34m.\u001b[0m\u001b[0mcopy_col\u001b[0m\u001b[0;34m:\u001b[0m\u001b[0;34m\u001b[0m\u001b[0m\n\u001b[1;32m    265\u001b[0m                 \u001b[0;32mreturn\u001b[0m \u001b[0mcolumn\u001b[0m\u001b[0;34m.\u001b[0m\u001b[0mcopy\u001b[0m\u001b[0;34m(\u001b[0m\u001b[0;34m)\u001b[0m\u001b[0;34m\u001b[0m\u001b[0m\n",
        "\u001b[0;32m/Users/ffoti/anaconda/lib/python2.7/site-packages/pandas/core/frame.pyc\u001b[0m in \u001b[0;36m__getitem__\u001b[0;34m(self, key)\u001b[0m\n\u001b[1;32m   1741\u001b[0m             \u001b[0;32mreturn\u001b[0m \u001b[0mself\u001b[0m\u001b[0;34m.\u001b[0m\u001b[0m_getitem_multilevel\u001b[0m\u001b[0;34m(\u001b[0m\u001b[0mkey\u001b[0m\u001b[0;34m)\u001b[0m\u001b[0;34m\u001b[0m\u001b[0m\n\u001b[1;32m   1742\u001b[0m         \u001b[0;32melse\u001b[0m\u001b[0;34m:\u001b[0m\u001b[0;34m\u001b[0m\u001b[0m\n\u001b[0;32m-> 1743\u001b[0;31m             \u001b[0;32mreturn\u001b[0m \u001b[0mself\u001b[0m\u001b[0;34m.\u001b[0m\u001b[0m_getitem_column\u001b[0m\u001b[0;34m(\u001b[0m\u001b[0mkey\u001b[0m\u001b[0;34m)\u001b[0m\u001b[0;34m\u001b[0m\u001b[0m\n\u001b[0m\u001b[1;32m   1744\u001b[0m \u001b[0;34m\u001b[0m\u001b[0m\n\u001b[1;32m   1745\u001b[0m     \u001b[0;32mdef\u001b[0m \u001b[0m_getitem_column\u001b[0m\u001b[0;34m(\u001b[0m\u001b[0mself\u001b[0m\u001b[0;34m,\u001b[0m \u001b[0mkey\u001b[0m\u001b[0;34m)\u001b[0m\u001b[0;34m:\u001b[0m\u001b[0;34m\u001b[0m\u001b[0m\n",
        "\u001b[0;32m/Users/ffoti/anaconda/lib/python2.7/site-packages/pandas/core/frame.pyc\u001b[0m in \u001b[0;36m_getitem_column\u001b[0;34m(self, key)\u001b[0m\n\u001b[1;32m   1748\u001b[0m         \u001b[0;31m# get column\u001b[0m\u001b[0;34m\u001b[0m\u001b[0;34m\u001b[0m\u001b[0m\n\u001b[1;32m   1749\u001b[0m         \u001b[0;32mif\u001b[0m \u001b[0mself\u001b[0m\u001b[0;34m.\u001b[0m\u001b[0mcolumns\u001b[0m\u001b[0;34m.\u001b[0m\u001b[0mis_unique\u001b[0m\u001b[0;34m:\u001b[0m\u001b[0;34m\u001b[0m\u001b[0m\n\u001b[0;32m-> 1750\u001b[0;31m             \u001b[0;32mreturn\u001b[0m \u001b[0mself\u001b[0m\u001b[0;34m.\u001b[0m\u001b[0m_get_item_cache\u001b[0m\u001b[0;34m(\u001b[0m\u001b[0mkey\u001b[0m\u001b[0;34m)\u001b[0m\u001b[0;34m\u001b[0m\u001b[0m\n\u001b[0m\u001b[1;32m   1751\u001b[0m \u001b[0;34m\u001b[0m\u001b[0m\n\u001b[1;32m   1752\u001b[0m         \u001b[0;31m# duplicate columns & possible reduce dimensionaility\u001b[0m\u001b[0;34m\u001b[0m\u001b[0;34m\u001b[0m\u001b[0m\n",
        "\u001b[0;32m/Users/ffoti/anaconda/lib/python2.7/site-packages/pandas/core/generic.pyc\u001b[0m in \u001b[0;36m_get_item_cache\u001b[0;34m(self, item)\u001b[0m\n\u001b[1;32m   1056\u001b[0m         \u001b[0mres\u001b[0m \u001b[0;34m=\u001b[0m \u001b[0mcache\u001b[0m\u001b[0;34m.\u001b[0m\u001b[0mget\u001b[0m\u001b[0;34m(\u001b[0m\u001b[0mitem\u001b[0m\u001b[0;34m)\u001b[0m\u001b[0;34m\u001b[0m\u001b[0m\n\u001b[1;32m   1057\u001b[0m         \u001b[0;32mif\u001b[0m \u001b[0mres\u001b[0m \u001b[0;32mis\u001b[0m \u001b[0mNone\u001b[0m\u001b[0;34m:\u001b[0m\u001b[0;34m\u001b[0m\u001b[0m\n\u001b[0;32m-> 1058\u001b[0;31m             \u001b[0mvalues\u001b[0m \u001b[0;34m=\u001b[0m \u001b[0mself\u001b[0m\u001b[0;34m.\u001b[0m\u001b[0m_data\u001b[0m\u001b[0;34m.\u001b[0m\u001b[0mget\u001b[0m\u001b[0;34m(\u001b[0m\u001b[0mitem\u001b[0m\u001b[0;34m)\u001b[0m\u001b[0;34m\u001b[0m\u001b[0m\n\u001b[0m\u001b[1;32m   1059\u001b[0m             \u001b[0mres\u001b[0m \u001b[0;34m=\u001b[0m \u001b[0mself\u001b[0m\u001b[0;34m.\u001b[0m\u001b[0m_box_item_values\u001b[0m\u001b[0;34m(\u001b[0m\u001b[0mitem\u001b[0m\u001b[0;34m,\u001b[0m \u001b[0mvalues\u001b[0m\u001b[0;34m)\u001b[0m\u001b[0;34m\u001b[0m\u001b[0m\n\u001b[1;32m   1060\u001b[0m             \u001b[0mcache\u001b[0m\u001b[0;34m[\u001b[0m\u001b[0mitem\u001b[0m\u001b[0;34m]\u001b[0m \u001b[0;34m=\u001b[0m \u001b[0mres\u001b[0m\u001b[0;34m\u001b[0m\u001b[0m\n",
        "\u001b[0;32m/Users/ffoti/anaconda/lib/python2.7/site-packages/pandas/core/internals.pyc\u001b[0m in \u001b[0;36mget\u001b[0;34m(self, item, fastpath)\u001b[0m\n\u001b[1;32m   2804\u001b[0m \u001b[0;34m\u001b[0m\u001b[0m\n\u001b[1;32m   2805\u001b[0m             \u001b[0;32mif\u001b[0m \u001b[0;32mnot\u001b[0m \u001b[0misnull\u001b[0m\u001b[0;34m(\u001b[0m\u001b[0mitem\u001b[0m\u001b[0;34m)\u001b[0m\u001b[0;34m:\u001b[0m\u001b[0;34m\u001b[0m\u001b[0m\n\u001b[0;32m-> 2806\u001b[0;31m                 \u001b[0mloc\u001b[0m \u001b[0;34m=\u001b[0m \u001b[0mself\u001b[0m\u001b[0;34m.\u001b[0m\u001b[0mitems\u001b[0m\u001b[0;34m.\u001b[0m\u001b[0mget_loc\u001b[0m\u001b[0;34m(\u001b[0m\u001b[0mitem\u001b[0m\u001b[0;34m)\u001b[0m\u001b[0;34m\u001b[0m\u001b[0m\n\u001b[0m\u001b[1;32m   2807\u001b[0m             \u001b[0;32melse\u001b[0m\u001b[0;34m:\u001b[0m\u001b[0;34m\u001b[0m\u001b[0m\n\u001b[1;32m   2808\u001b[0m                 \u001b[0mindexer\u001b[0m \u001b[0;34m=\u001b[0m \u001b[0mnp\u001b[0m\u001b[0;34m.\u001b[0m\u001b[0marange\u001b[0m\u001b[0;34m(\u001b[0m\u001b[0mlen\u001b[0m\u001b[0;34m(\u001b[0m\u001b[0mself\u001b[0m\u001b[0;34m.\u001b[0m\u001b[0mitems\u001b[0m\u001b[0;34m)\u001b[0m\u001b[0;34m)\u001b[0m\u001b[0;34m[\u001b[0m\u001b[0misnull\u001b[0m\u001b[0;34m(\u001b[0m\u001b[0mself\u001b[0m\u001b[0;34m.\u001b[0m\u001b[0mitems\u001b[0m\u001b[0;34m)\u001b[0m\u001b[0;34m]\u001b[0m\u001b[0;34m\u001b[0m\u001b[0m\n",
        "\u001b[0;32m/Users/ffoti/anaconda/lib/python2.7/site-packages/pandas/core/index.pyc\u001b[0m in \u001b[0;36mget_loc\u001b[0;34m(self, key)\u001b[0m\n\u001b[1;32m   1383\u001b[0m         \u001b[0mloc\u001b[0m \u001b[0;34m:\u001b[0m \u001b[0mint\u001b[0m \u001b[0;32mif\u001b[0m \u001b[0munique\u001b[0m \u001b[0mindex\u001b[0m\u001b[0;34m,\u001b[0m \u001b[0mpossibly\u001b[0m \u001b[0mslice\u001b[0m \u001b[0;32mor\u001b[0m \u001b[0mmask\u001b[0m \u001b[0;32mif\u001b[0m \u001b[0;32mnot\u001b[0m\u001b[0;34m\u001b[0m\u001b[0m\n\u001b[1;32m   1384\u001b[0m         \"\"\"\n\u001b[0;32m-> 1385\u001b[0;31m         \u001b[0;32mreturn\u001b[0m \u001b[0mself\u001b[0m\u001b[0;34m.\u001b[0m\u001b[0m_engine\u001b[0m\u001b[0;34m.\u001b[0m\u001b[0mget_loc\u001b[0m\u001b[0;34m(\u001b[0m\u001b[0m_values_from_object\u001b[0m\u001b[0;34m(\u001b[0m\u001b[0mkey\u001b[0m\u001b[0;34m)\u001b[0m\u001b[0;34m)\u001b[0m\u001b[0;34m\u001b[0m\u001b[0m\n\u001b[0m\u001b[1;32m   1386\u001b[0m \u001b[0;34m\u001b[0m\u001b[0m\n\u001b[1;32m   1387\u001b[0m     \u001b[0;32mdef\u001b[0m \u001b[0mget_value\u001b[0m\u001b[0;34m(\u001b[0m\u001b[0mself\u001b[0m\u001b[0;34m,\u001b[0m \u001b[0mseries\u001b[0m\u001b[0;34m,\u001b[0m \u001b[0mkey\u001b[0m\u001b[0;34m)\u001b[0m\u001b[0;34m:\u001b[0m\u001b[0;34m\u001b[0m\u001b[0m\n",
        "\u001b[0;32m/Users/ffoti/anaconda/lib/python2.7/site-packages/pandas/index.so\u001b[0m in \u001b[0;36mpandas.index.IndexEngine.get_loc (pandas/index.c:3795)\u001b[0;34m()\u001b[0m\n",
        "\u001b[0;32m/Users/ffoti/anaconda/lib/python2.7/site-packages/pandas/index.so\u001b[0m in \u001b[0;36mpandas.index.IndexEngine.get_loc (pandas/index.c:3675)\u001b[0;34m()\u001b[0m\n",
        "\u001b[0;32m/Users/ffoti/anaconda/lib/python2.7/site-packages/pandas/hashtable.so\u001b[0m in \u001b[0;36mpandas.hashtable.PyObjectHashTable.get_item (pandas/hashtable.c:12299)\u001b[0;34m()\u001b[0m\n",
        "\u001b[0;32m/Users/ffoti/anaconda/lib/python2.7/site-packages/pandas/hashtable.so\u001b[0m in \u001b[0;36mpandas.hashtable.PyObjectHashTable.get_item (pandas/hashtable.c:12250)\u001b[0;34m()\u001b[0m\n",
        "\u001b[0;31mKeyError\u001b[0m: 'sum'"
       ]
      }
     ],
     "prompt_number": 6
    },
    {
     "cell_type": "code",
     "collapsed": false,
     "input": [
      "sim.get_table(\"non_mandatory_tours\").trip_type.value_counts()"
     ],
     "language": "python",
     "metadata": {},
     "outputs": [
      {
       "metadata": {},
       "output_type": "pyout",
       "prompt_number": 33,
       "text": [
        "escort      1994\n",
        "social      1037\n",
        "eatout       988\n",
        "shopping     846\n",
        "othmaint     551\n",
        "othdiscr     551\n",
        "dtype: int64"
       ]
      }
     ],
     "prompt_number": 33
    },
    {
     "cell_type": "code",
     "collapsed": false,
     "input": [
      "sim.run([\"destination_choice\"])"
     ],
     "language": "python",
     "metadata": {},
     "outputs": [
      {
       "output_type": "stream",
       "stream": "stdout",
       "text": [
        "Running model 'destination_choice'\n"
       ]
      },
      {
       "ename": "ValueError",
       "evalue": "cannot reindex from a duplicate axis",
       "output_type": "pyerr",
       "traceback": [
        "\u001b[0;31m---------------------------------------------------------------------------\u001b[0m\n\u001b[0;31mValueError\u001b[0m                                Traceback (most recent call last)",
        "\u001b[0;32m<ipython-input-46-b7ef98e1006c>\u001b[0m in \u001b[0;36m<module>\u001b[0;34m()\u001b[0m\n\u001b[0;32m----> 1\u001b[0;31m \u001b[0msim\u001b[0m\u001b[0;34m.\u001b[0m\u001b[0mrun\u001b[0m\u001b[0;34m(\u001b[0m\u001b[0;34m[\u001b[0m\u001b[0;34m\"destination_choice\"\u001b[0m\u001b[0;34m]\u001b[0m\u001b[0;34m)\u001b[0m\u001b[0;34m\u001b[0m\u001b[0m\n\u001b[0m",
        "\u001b[0;32m/Users/ffoti/src/urbansim/urbansim/sim/simulation.pyc\u001b[0m in \u001b[0;36mrun\u001b[0;34m(models, years, data_out, out_interval)\u001b[0m\n\u001b[1;32m   1458\u001b[0m                 \u001b[0mmodel\u001b[0m \u001b[0;34m=\u001b[0m \u001b[0mget_model\u001b[0m\u001b[0;34m(\u001b[0m\u001b[0mmodel_name\u001b[0m\u001b[0;34m)\u001b[0m\u001b[0;34m\u001b[0m\u001b[0m\n\u001b[1;32m   1459\u001b[0m                 \u001b[0mt2\u001b[0m \u001b[0;34m=\u001b[0m \u001b[0mtime\u001b[0m\u001b[0;34m.\u001b[0m\u001b[0mtime\u001b[0m\u001b[0;34m(\u001b[0m\u001b[0;34m)\u001b[0m\u001b[0;34m\u001b[0m\u001b[0m\n\u001b[0;32m-> 1460\u001b[0;31m                 \u001b[0mmodel\u001b[0m\u001b[0;34m(\u001b[0m\u001b[0;34m)\u001b[0m\u001b[0;34m\u001b[0m\u001b[0m\n\u001b[0m\u001b[1;32m   1461\u001b[0m                 print(\"Time to execute model '{}': {:.2f}s\".format(\n\u001b[1;32m   1462\u001b[0m                       model_name, time.time()-t2))\n",
        "\u001b[0;32m/Users/ffoti/src/urbansim/urbansim/sim/simulation.pyc\u001b[0m in \u001b[0;36m__call__\u001b[0;34m(self)\u001b[0m\n\u001b[1;32m    670\u001b[0m             kwargs = _collect_variables(names=self._argspec.args,\n\u001b[1;32m    671\u001b[0m                                         expressions=self._argspec.defaults)\n\u001b[0;32m--> 672\u001b[0;31m             \u001b[0;32mreturn\u001b[0m \u001b[0mself\u001b[0m\u001b[0;34m.\u001b[0m\u001b[0m_func\u001b[0m\u001b[0;34m(\u001b[0m\u001b[0;34m**\u001b[0m\u001b[0mkwargs\u001b[0m\u001b[0;34m)\u001b[0m\u001b[0;34m\u001b[0m\u001b[0m\n\u001b[0m\u001b[1;32m    673\u001b[0m \u001b[0;34m\u001b[0m\u001b[0m\n\u001b[1;32m    674\u001b[0m     \u001b[0;32mdef\u001b[0m \u001b[0m_tables_used\u001b[0m\u001b[0;34m(\u001b[0m\u001b[0mself\u001b[0m\u001b[0;34m)\u001b[0m\u001b[0;34m:\u001b[0m\u001b[0;34m\u001b[0m\u001b[0m\n",
        "\u001b[0;32m/Users/ffoti/src/activitysim/example/models.py\u001b[0m in \u001b[0;36mdestination_choice\u001b[0;34m(non_mandatory_tours, persons, households, land_use, zones, distance_skim, destination_choice_spec)\u001b[0m\n\u001b[1;32m    388\u001b[0m     choosers = sim.merge_tables(tours.name, tables=[tours,\n\u001b[1;32m    389\u001b[0m                                                     \u001b[0mpersons\u001b[0m\u001b[0;34m,\u001b[0m\u001b[0;34m\u001b[0m\u001b[0m\n\u001b[0;32m--> 390\u001b[0;31m                                                     households])\n\u001b[0m\u001b[1;32m    391\u001b[0m \u001b[0;34m\u001b[0m\u001b[0m\n\u001b[1;32m    392\u001b[0m     skims = {\n",
        "\u001b[0;32m/Users/ffoti/src/urbansim/urbansim/sim/simulation.pyc\u001b[0m in \u001b[0;36mmerge_tables\u001b[0;34m(target, tables, columns)\u001b[0m\n\u001b[1;32m   1350\u001b[0m     \u001b[0;31m# get frames\u001b[0m\u001b[0;34m\u001b[0m\u001b[0;34m\u001b[0m\u001b[0m\n\u001b[1;32m   1351\u001b[0m     frames = {name: t.to_frame(columns=colmap[name])\n\u001b[0;32m-> 1352\u001b[0;31m               for name, t in tables.items()}\n\u001b[0m\u001b[1;32m   1353\u001b[0m \u001b[0;34m\u001b[0m\u001b[0m\n\u001b[1;32m   1354\u001b[0m     \u001b[0;31m# perform merges until there's only one table left\u001b[0m\u001b[0;34m\u001b[0m\u001b[0;34m\u001b[0m\u001b[0m\n",
        "\u001b[0;32m/Users/ffoti/src/urbansim/urbansim/sim/simulation.pyc\u001b[0m in \u001b[0;36m<dictcomp>\u001b[0;34m((name, t))\u001b[0m\n\u001b[1;32m   1350\u001b[0m     \u001b[0;31m# get frames\u001b[0m\u001b[0;34m\u001b[0m\u001b[0;34m\u001b[0m\u001b[0m\n\u001b[1;32m   1351\u001b[0m     frames = {name: t.to_frame(columns=colmap[name])\n\u001b[0;32m-> 1352\u001b[0;31m               for name, t in tables.items()}\n\u001b[0m\u001b[1;32m   1353\u001b[0m \u001b[0;34m\u001b[0m\u001b[0m\n\u001b[1;32m   1354\u001b[0m     \u001b[0;31m# perform merges until there's only one table left\u001b[0m\u001b[0;34m\u001b[0m\u001b[0;34m\u001b[0m\u001b[0m\n",
        "\u001b[0;32m/Users/ffoti/src/urbansim/urbansim/sim/simulation.pyc\u001b[0m in \u001b[0;36mto_frame\u001b[0;34m(self, columns)\u001b[0m\n\u001b[1;32m    213\u001b[0m                             name, self.name),\n\u001b[1;32m    214\u001b[0m                         logger):\n\u001b[0;32m--> 215\u001b[0;31m                     \u001b[0mdf\u001b[0m\u001b[0;34m[\u001b[0m\u001b[0mname\u001b[0m\u001b[0;34m]\u001b[0m \u001b[0;34m=\u001b[0m \u001b[0mcol\u001b[0m\u001b[0;34m(\u001b[0m\u001b[0;34m)\u001b[0m\u001b[0;34m\u001b[0m\u001b[0m\n\u001b[0m\u001b[1;32m    216\u001b[0m \u001b[0;34m\u001b[0m\u001b[0m\n\u001b[1;32m    217\u001b[0m         \u001b[0;32mreturn\u001b[0m \u001b[0mdf\u001b[0m\u001b[0;34m\u001b[0m\u001b[0m\n",
        "\u001b[0;32m/Users/ffoti/anaconda/lib/python2.7/site-packages/pandas/core/frame.pyc\u001b[0m in \u001b[0;36m__setitem__\u001b[0;34m(self, key, value)\u001b[0m\n\u001b[1;32m   2071\u001b[0m         \u001b[0;32melse\u001b[0m\u001b[0;34m:\u001b[0m\u001b[0;34m\u001b[0m\u001b[0m\n\u001b[1;32m   2072\u001b[0m             \u001b[0;31m# set column\u001b[0m\u001b[0;34m\u001b[0m\u001b[0;34m\u001b[0m\u001b[0m\n\u001b[0;32m-> 2073\u001b[0;31m             \u001b[0mself\u001b[0m\u001b[0;34m.\u001b[0m\u001b[0m_set_item\u001b[0m\u001b[0;34m(\u001b[0m\u001b[0mkey\u001b[0m\u001b[0;34m,\u001b[0m \u001b[0mvalue\u001b[0m\u001b[0;34m)\u001b[0m\u001b[0;34m\u001b[0m\u001b[0m\n\u001b[0m\u001b[1;32m   2074\u001b[0m \u001b[0;34m\u001b[0m\u001b[0m\n\u001b[1;32m   2075\u001b[0m     \u001b[0;32mdef\u001b[0m \u001b[0m_setitem_slice\u001b[0m\u001b[0;34m(\u001b[0m\u001b[0mself\u001b[0m\u001b[0;34m,\u001b[0m \u001b[0mkey\u001b[0m\u001b[0;34m,\u001b[0m \u001b[0mvalue\u001b[0m\u001b[0;34m)\u001b[0m\u001b[0;34m:\u001b[0m\u001b[0;34m\u001b[0m\u001b[0m\n",
        "\u001b[0;32m/Users/ffoti/anaconda/lib/python2.7/site-packages/pandas/core/frame.pyc\u001b[0m in \u001b[0;36m_set_item\u001b[0;34m(self, key, value)\u001b[0m\n\u001b[1;32m   2148\u001b[0m \u001b[0;34m\u001b[0m\u001b[0m\n\u001b[1;32m   2149\u001b[0m         \u001b[0mself\u001b[0m\u001b[0;34m.\u001b[0m\u001b[0m_ensure_valid_index\u001b[0m\u001b[0;34m(\u001b[0m\u001b[0mvalue\u001b[0m\u001b[0;34m)\u001b[0m\u001b[0;34m\u001b[0m\u001b[0m\n\u001b[0;32m-> 2150\u001b[0;31m         \u001b[0mvalue\u001b[0m \u001b[0;34m=\u001b[0m \u001b[0mself\u001b[0m\u001b[0;34m.\u001b[0m\u001b[0m_sanitize_column\u001b[0m\u001b[0;34m(\u001b[0m\u001b[0mkey\u001b[0m\u001b[0;34m,\u001b[0m \u001b[0mvalue\u001b[0m\u001b[0;34m)\u001b[0m\u001b[0;34m\u001b[0m\u001b[0m\n\u001b[0m\u001b[1;32m   2151\u001b[0m         \u001b[0mNDFrame\u001b[0m\u001b[0;34m.\u001b[0m\u001b[0m_set_item\u001b[0m\u001b[0;34m(\u001b[0m\u001b[0mself\u001b[0m\u001b[0;34m,\u001b[0m \u001b[0mkey\u001b[0m\u001b[0;34m,\u001b[0m \u001b[0mvalue\u001b[0m\u001b[0;34m)\u001b[0m\u001b[0;34m\u001b[0m\u001b[0m\n\u001b[1;32m   2152\u001b[0m \u001b[0;34m\u001b[0m\u001b[0m\n",
        "\u001b[0;32m/Users/ffoti/anaconda/lib/python2.7/site-packages/pandas/core/frame.pyc\u001b[0m in \u001b[0;36m_sanitize_column\u001b[0;34m(self, key, value)\u001b[0m\n\u001b[1;32m   2202\u001b[0m \u001b[0;34m\u001b[0m\u001b[0m\n\u001b[1;32m   2203\u001b[0m         \u001b[0;32mif\u001b[0m \u001b[0misinstance\u001b[0m\u001b[0;34m(\u001b[0m\u001b[0mvalue\u001b[0m\u001b[0;34m,\u001b[0m \u001b[0mSeries\u001b[0m\u001b[0;34m)\u001b[0m\u001b[0;34m:\u001b[0m\u001b[0;34m\u001b[0m\u001b[0m\n\u001b[0;32m-> 2204\u001b[0;31m             \u001b[0mvalue\u001b[0m \u001b[0;34m=\u001b[0m \u001b[0mreindexer\u001b[0m\u001b[0;34m(\u001b[0m\u001b[0mvalue\u001b[0m\u001b[0;34m)\u001b[0m\u001b[0;34m\u001b[0m\u001b[0m\n\u001b[0m\u001b[1;32m   2205\u001b[0m \u001b[0;34m\u001b[0m\u001b[0m\n\u001b[1;32m   2206\u001b[0m         \u001b[0;32melif\u001b[0m \u001b[0misinstance\u001b[0m\u001b[0;34m(\u001b[0m\u001b[0mvalue\u001b[0m\u001b[0;34m,\u001b[0m \u001b[0mDataFrame\u001b[0m\u001b[0;34m)\u001b[0m\u001b[0;34m:\u001b[0m\u001b[0;34m\u001b[0m\u001b[0m\n",
        "\u001b[0;32m/Users/ffoti/anaconda/lib/python2.7/site-packages/pandas/core/frame.pyc\u001b[0m in \u001b[0;36mreindexer\u001b[0;34m(value)\u001b[0m\n\u001b[1;32m   2194\u001b[0m                     \u001b[0;31m# duplicate axis\u001b[0m\u001b[0;34m\u001b[0m\u001b[0;34m\u001b[0m\u001b[0m\n\u001b[1;32m   2195\u001b[0m                     \u001b[0;32mif\u001b[0m \u001b[0;32mnot\u001b[0m \u001b[0mvalue\u001b[0m\u001b[0;34m.\u001b[0m\u001b[0mindex\u001b[0m\u001b[0;34m.\u001b[0m\u001b[0mis_unique\u001b[0m\u001b[0;34m:\u001b[0m\u001b[0;34m\u001b[0m\u001b[0m\n\u001b[0;32m-> 2196\u001b[0;31m                         \u001b[0;32mraise\u001b[0m \u001b[0me\u001b[0m\u001b[0;34m\u001b[0m\u001b[0m\n\u001b[0m\u001b[1;32m   2197\u001b[0m \u001b[0;34m\u001b[0m\u001b[0m\n\u001b[1;32m   2198\u001b[0m                     \u001b[0;31m# other\u001b[0m\u001b[0;34m\u001b[0m\u001b[0;34m\u001b[0m\u001b[0m\n",
        "\u001b[0;31mValueError\u001b[0m: cannot reindex from a duplicate axis"
       ]
      }
     ],
     "prompt_number": 46
    },
    {
     "cell_type": "code",
     "collapsed": false,
     "input": [
      "sim.get_table(\"land_use\").to_frame().info()"
     ],
     "language": "python",
     "metadata": {},
     "outputs": [
      {
       "output_type": "stream",
       "stream": "stdout",
       "text": [
        "<class 'pandas.core.frame.DataFrame'>\n",
        "Int64Index: 1454 entries, 1 to 1454\n",
        "Data columns (total 49 columns):\n",
        "DISTRICT              1454 non-null int64\n",
        "SD                    1454 non-null int64\n",
        "COUNTY                1454 non-null int64\n",
        "TOTHH                 1454 non-null int64\n",
        "HHPOP                 1454 non-null int64\n",
        "TOTPOP                1454 non-null int64\n",
        "EMPRES                1454 non-null int64\n",
        "SFDU                  1454 non-null int64\n",
        "MFDU                  1454 non-null int64\n",
        "HHINCQ1               1454 non-null int64\n",
        "HHINCQ2               1454 non-null int64\n",
        "HHINCQ3               1454 non-null int64\n",
        "HHINCQ4               1454 non-null int64\n",
        "TOTACRE               1454 non-null float64\n",
        "RESACRE               1454 non-null int64\n",
        "CIACRE                1454 non-null int64\n",
        "SHPOP62P              1454 non-null float64\n",
        "TOTEMP                1454 non-null int64\n",
        "AGE0004               1454 non-null int64\n",
        "AGE0519               1454 non-null int64\n",
        "AGE2044               1454 non-null int64\n",
        "AGE4564               1454 non-null int64\n",
        "AGE65P                1454 non-null int64\n",
        "RETEMPN               1454 non-null int64\n",
        "FPSEMPN               1454 non-null int64\n",
        "HEREMPN               1454 non-null int64\n",
        "OTHEMPN               1454 non-null int64\n",
        "AGREMPN               1454 non-null int64\n",
        "MWTEMPN               1454 non-null int64\n",
        "PRKCST                1454 non-null float64\n",
        "OPRKCST               1454 non-null float64\n",
        "area_type             1454 non-null int64\n",
        "HSENROLL              1454 non-null float64\n",
        "COLLFTE               1454 non-null float64\n",
        "COLLPTE               1454 non-null float64\n",
        "TOPOLOGY              1454 non-null int64\n",
        "TERMINAL              1454 non-null float64\n",
        "ZERO                  1454 non-null int64\n",
        "hhlds                 1454 non-null int64\n",
        "sftaz                 1454 non-null int64\n",
        "gqpop                 1454 non-null int64\n",
        "employment_density    1454 non-null float64\n",
        "total_acres           1454 non-null float64\n",
        "county_id             1454 non-null int64\n",
        "density_index         1453 non-null float64\n",
        "county_name           1454 non-null object\n",
        "household_density     1454 non-null float64\n",
        "total_households      1454 non-null int64\n",
        "total_employment      1454 non-null int64\n",
        "dtypes: float64(12), int64(36), object(1)\n",
        "memory usage: 568.0 KB\n"
       ]
      }
     ],
     "prompt_number": 16
    },
    {
     "cell_type": "code",
     "collapsed": false,
     "input": [
      "sim.get_table(\"households\").to_frame().info()"
     ],
     "language": "python",
     "metadata": {},
     "outputs": [
      {
       "output_type": "stream",
       "stream": "stdout",
       "text": [
        "<class 'pandas.core.frame.DataFrame'>\n",
        "Int64Index: 10000 entries, 688607 to 2424588\n",
        "Data columns (total 61 columns):\n",
        "TAZ                          10000 non-null int64\n",
        "SERIALNO                     10000 non-null int64\n",
        "PUMA5                        10000 non-null int64\n",
        "income                       10000 non-null int64\n",
        "PERSONS                      10000 non-null int64\n",
        "HHT                          10000 non-null int64\n",
        "UNITTYPE                     10000 non-null int64\n",
        "NOC                          10000 non-null int64\n",
        "BLDGSZ                       10000 non-null int64\n",
        "TENURE                       10000 non-null int64\n",
        "VEHICL                       10000 non-null int64\n",
        "hinccat1                     10000 non-null int64\n",
        "hinccat2                     10000 non-null int64\n",
        "hhagecat                     10000 non-null int64\n",
        "hsizecat                     10000 non-null int64\n",
        "hfamily                      10000 non-null int64\n",
        "hunittype                    10000 non-null int64\n",
        "hNOCcat                      10000 non-null int64\n",
        "hwrkrcat                     10000 non-null int64\n",
        "h0004                        10000 non-null int64\n",
        "h0511                        10000 non-null int64\n",
        "h1215                        10000 non-null int64\n",
        "h1617                        10000 non-null int64\n",
        "h1824                        10000 non-null int64\n",
        "h2534                        10000 non-null int64\n",
        "h3549                        10000 non-null int64\n",
        "h5064                        10000 non-null int64\n",
        "h6579                        10000 non-null int64\n",
        "h80up                        10000 non-null int64\n",
        "workers                      10000 non-null int64\n",
        "hwork_f                      10000 non-null int64\n",
        "hwork_p                      10000 non-null int64\n",
        "huniv                        10000 non-null int64\n",
        "hnwork                       10000 non-null int64\n",
        "hretire                      10000 non-null int64\n",
        "hpresch                      10000 non-null int64\n",
        "hschpred                     10000 non-null int64\n",
        "hschdriv                     10000 non-null int64\n",
        "htypdwel                     10000 non-null int64\n",
        "hownrent                     10000 non-null int64\n",
        "hadnwst                      10000 non-null int64\n",
        "hadwpst                      10000 non-null int64\n",
        "hadkids                      10000 non-null int64\n",
        "bucketBin                    10000 non-null int64\n",
        "originalPUMA                 10000 non-null int64\n",
        "hmultiunit                   10000 non-null int64\n",
        "income_segment               10000 non-null category\n",
        "non_workers                  10000 non-null int64\n",
        "family                       10000 non-null bool\n",
        "num_young_adults             10000 non-null float64\n",
        "household_type               10000 non-null object\n",
        "auto_ownership               10000 non-null int64\n",
        "drivers                      10000 non-null float64\n",
        "num_under16_not_at_school    10000 non-null int64\n",
        "home_taz                     10000 non-null int64\n",
        "num_children                 10000 non-null float64\n",
        "non_family                   10000 non-null bool\n",
        "num_adolescents              10000 non-null float64\n",
        "income_in_thousands          10000 non-null float64\n",
        "num_young_children           10000 non-null float64\n",
        "num_college_age              10000 non-null float64\n",
        "dtypes: bool(2), category(1), float64(7), int64(50), object(1)\n",
        "memory usage: 4.5 MB\n"
       ]
      }
     ],
     "prompt_number": 7
    },
    {
     "cell_type": "code",
     "collapsed": false,
     "input": [
      "sim.get_table(\"persons\").to_frame().info()"
     ],
     "language": "python",
     "metadata": {},
     "outputs": [
      {
       "output_type": "stream",
       "stream": "stdout",
       "text": [
        "<class 'pandas.core.frame.DataFrame'>\n",
        "Int64Index: 25495 entries, 29 to 7053105\n",
        "Data columns (total 34 columns):\n",
        "household_id                     25495 non-null int64\n",
        "age                              25495 non-null int64\n",
        "RELATE                           25495 non-null int64\n",
        "ESR                              25495 non-null int64\n",
        "GRADE                            25495 non-null int64\n",
        "PNUM                             25495 non-null int64\n",
        "PAUG                             25495 non-null int64\n",
        "DDP                              25495 non-null int64\n",
        "sex                              25495 non-null int64\n",
        "WEEKS                            25495 non-null int64\n",
        "HOURS                            25495 non-null int64\n",
        "MSP                              25495 non-null int64\n",
        "POVERTY                          25495 non-null int64\n",
        "EARNS                            25495 non-null int64\n",
        "pagecat                          25495 non-null int64\n",
        "pemploy                          25495 non-null int64\n",
        "pstudent                         25495 non-null int64\n",
        "ptype                            25495 non-null int64\n",
        "padkid                           25495 non-null int64\n",
        "school_taz                       25495 non-null int64\n",
        "mandatory_tour_frequency         25495 non-null object\n",
        "employed_cat                     25495 non-null object\n",
        "student_is_employed              25495 non-null bool\n",
        "roundtrip_auto_time_to_school    25495 non-null float64\n",
        "cdap_activity                    25495 non-null object\n",
        "distance_to_school               25495 non-null float64\n",
        "workplace_taz                    25495 non-null int64\n",
        "roundtrip_auto_time_to_work      25495 non-null float64\n",
        "distance_to_work                 25495 non-null float64\n",
        "student_cat                      25495 non-null object\n",
        "ptype_cat                        25495 non-null object\n",
        "under16_not_at_school            25495 non-null bool\n",
        "home_taz                         25495 non-null int64\n",
        "nonstudent_to_school             25495 non-null bool\n",
        "dtypes: bool(3), float64(4), int64(22), object(5)\n",
        "memory usage: 6.3 MB\n"
       ]
      }
     ],
     "prompt_number": 8
    },
    {
     "cell_type": "code",
     "collapsed": false,
     "input": [],
     "language": "python",
     "metadata": {},
     "outputs": []
    }
   ],
   "metadata": {}
  }
 ]
}