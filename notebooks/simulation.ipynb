{
 "metadata": {
  "name": "",
  "signature": "sha256:b4df2e4e1d86ed61d4c7e0cf0b7b110a07059fa2ae06498dd811fd75c82d60a5"
 },
 "nbformat": 3,
 "nbformat_minor": 0,
 "worksheets": [
  {
   "cells": [
    {
     "cell_type": "code",
     "collapsed": false,
     "input": [
      "%load_ext autoreload\n",
      "%autoreload 2\n",
      "if 'sim' not in globals():\n",
      "    import os; os.chdir('../example')\n",
      "import urbansim.sim.simulation as sim\n",
      "from activitysim.defaults import variables\n",
      "import models"
     ],
     "language": "python",
     "metadata": {},
     "outputs": [],
     "prompt_number": 1
    },
    {
     "cell_type": "code",
     "collapsed": false,
     "input": [
      "sim.run([\"workplace_location_simulate\"])"
     ],
     "language": "python",
     "metadata": {},
     "outputs": [
      {
       "output_type": "stream",
       "stream": "stdout",
       "text": [
        "Running model 'workplace_location_simulate'\n",
        "Describe of choices:\n"
       ]
      },
      {
       "output_type": "stream",
       "stream": "stdout",
       "text": [
        "count    2615.000000\n",
        "mean      728.864627\n",
        "std       420.466036\n",
        "min         1.000000\n",
        "25%       363.000000\n",
        "50%       733.000000\n",
        "75%      1086.500000\n",
        "max      1452.000000\n",
        "Name: TAZ, dtype: float64\n",
        "Time to execute model 'workplace_location_simulate': 7.18s\n",
        "Total time to execute: 7.18s\n"
       ]
      }
     ],
     "prompt_number": 2
    },
    {
     "cell_type": "code",
     "collapsed": false,
     "input": [
      "print sim.get_table(\"persons\").distance_to_work.describe()"
     ],
     "language": "python",
     "metadata": {},
     "outputs": [
      {
       "output_type": "stream",
       "stream": "stdout",
       "text": [
        "count    2615.000000\n",
        "mean       38.995996\n",
        "std        23.708640\n",
        "min         0.220000\n",
        "25%        21.030000\n",
        "50%        36.630000\n",
        "75%        52.640000\n",
        "max       155.990000\n",
        "dtype: float64\n"
       ]
      }
     ],
     "prompt_number": 3
    },
    {
     "cell_type": "code",
     "collapsed": false,
     "input": [
      "sim.run([\"auto_ownership_simulate\"])"
     ],
     "language": "python",
     "metadata": {},
     "outputs": [
      {
       "output_type": "stream",
       "stream": "stdout",
       "text": [
        "Running model 'auto_ownership_simulate'\n",
        "Choices:\n"
       ]
      },
      {
       "output_type": "stream",
       "stream": "stdout",
       "text": [
        "2    489\n",
        "3    378\n",
        "1     68\n",
        "4     54\n",
        "0     11\n",
        "dtype: int64\n",
        "Time to execute model 'auto_ownership_simulate': 0.65s\n",
        "Total time to execute: 0.65s\n"
       ]
      }
     ],
     "prompt_number": 4
    },
    {
     "cell_type": "code",
     "collapsed": false,
     "input": [
      "sim.run(['mandatory_tour_frequency'])"
     ],
     "language": "python",
     "metadata": {},
     "outputs": [
      {
       "output_type": "stream",
       "stream": "stdout",
       "text": [
        "Running model 'mandatory_tour_frequency'\n",
        "891 persons run for mandatory tour model"
       ]
      },
      {
       "output_type": "stream",
       "stream": "stdout",
       "text": [
        "\n",
        "WARNING: Describe of columns with no variability:\n"
       ]
      },
      {
       "output_type": "stream",
       "stream": "stdout",
       "text": [
        "                                                          count  mean  std  \\\n",
        "((ptype == 2) & nonstudent_to_school) * school1            4455     0    0   \n",
        "((ptype == 2) & nonstudent_to_school) * work_and_school    4455     0    0   \n",
        "((ptype == 4) & (auto_ownership == 0)) * work2             4455     0    0   \n",
        "((ptype == 4) & nonstudent_to_school) * school1            4455     0    0   \n",
        "((ptype == 5) & nonstudent_to_school) * school1            4455     0    0   \n",
        "((ptype == 6) & (auto_ownership == 0)) * school2           4455     0    0   \n",
        "((ptype == 6) & (auto_ownership == 0)) * work_and_school   4455     0    0   \n",
        "((ptype == 6) & non_family) * school1                      4455     0    0   \n",
        "((ptype == 6) & non_family) * work1                        4455     0    0   \n",
        "((ptype == 6) & non_family) * work_and_school              4455     0    0   \n",
        "((ptype == 7) & (auto_ownership == 0)) * school2           4455     0    0   \n",
        "(~(school_taz > -1)) * school1                             4455     0    0   \n",
        "(~(school_taz > -1)) * school2                             4455     0    0   \n",
        "(~(school_taz > -1)) * work_and_school                     4455     0    0   \n",
        "(~(workplace_taz > -1)) * work1                            4455     0    0   \n",
        "(~(workplace_taz > -1)) * work2                            4455     0    0   \n",
        "(~(workplace_taz > -1)) * work_and_school                  4455     0    0   \n",
        "\n",
        "                                                          min  25%  50%  75%  \\\n",
        "((ptype == 2) & nonstudent_to_school) * school1             0    0    0    0   \n",
        "((ptype == 2) & nonstudent_to_school) * work_and_school     0    0    0    0   \n",
        "((ptype == 4) & (auto_ownership == 0)) * work2              0    0    0    0   \n",
        "((ptype == 4) & nonstudent_to_school) * school1             0    0    0    0   \n",
        "((ptype == 5) & nonstudent_to_school) * school1             0    0    0    0   \n",
        "((ptype == 6) & (auto_ownership == 0)) * school2            0    0    0    0   \n",
        "((ptype == 6) & (auto_ownership == 0)) * work_and_school    0    0    0    0   \n",
        "((ptype == 6) & non_family) * school1                       0    0    0    0   \n",
        "((ptype == 6) & non_family) * work1                         0    0    0    0   \n",
        "((ptype == 6) & non_family) * work_and_school               0    0    0    0   \n",
        "((ptype == 7) & (auto_ownership == 0)) * school2            0    0    0    0   \n",
        "(~(school_taz > -1)) * school1                              0    0    0    0   \n",
        "(~(school_taz > -1)) * school2                              0    0    0    0   \n",
        "(~(school_taz > -1)) * work_and_school                      0    0    0    0   \n",
        "(~(workplace_taz > -1)) * work1                             0    0    0    0   \n",
        "(~(workplace_taz > -1)) * work2                             0    0    0    0   \n",
        "(~(workplace_taz > -1)) * work_and_school                   0    0    0    0   \n",
        "\n",
        "                                                          max  \n",
        "((ptype == 2) & nonstudent_to_school) * school1             0  \n",
        "((ptype == 2) & nonstudent_to_school) * work_and_school     0  \n",
        "((ptype == 4) & (auto_ownership == 0)) * work2              0  \n",
        "((ptype == 4) & nonstudent_to_school) * school1             0  \n",
        "((ptype == 5) & nonstudent_to_school) * school1             0  \n",
        "((ptype == 6) & (auto_ownership == 0)) * school2            0  \n",
        "((ptype == 6) & (auto_ownership == 0)) * work_and_school    0  \n",
        "((ptype == 6) & non_family) * school1                       0  \n",
        "((ptype == 6) & non_family) * work1                         0  \n",
        "((ptype == 6) & non_family) * work_and_school               0  \n",
        "((ptype == 7) & (auto_ownership == 0)) * school2            0  \n",
        "(~(school_taz > -1)) * school1                              0  \n",
        "(~(school_taz > -1)) * school2                              0  \n",
        "(~(school_taz > -1)) * work_and_school                      0  \n",
        "(~(workplace_taz > -1)) * work1                             0  \n",
        "(~(workplace_taz > -1)) * work2                             0  \n",
        "(~(workplace_taz > -1)) * work_and_school                   0  \n",
        "Choices:\n",
        "work_and_school    321\n",
        "work2              273\n",
        "work1              165\n",
        "school1             75\n",
        "school2             57\n",
        "dtype: int64\n",
        "Time to execute model 'mandatory_tour_frequency': 3.45s\n",
        "Total time to execute: 3.45s\n"
       ]
      }
     ],
     "prompt_number": 5
    },
    {
     "cell_type": "code",
     "collapsed": false,
     "input": [
      "sim.run(['non_mandatory_tour_frequency'])"
     ],
     "language": "python",
     "metadata": {},
     "outputs": [
      {
       "output_type": "stream",
       "stream": "stdout",
       "text": [
        "Running model 'non_mandatory_tour_frequency'\n",
        "Expression           \n",
        "othmaint >= 1     Alt    0.1202\n",
        "eatout >= 1       Alt    0.0097\n",
        "social >= 1       Alt    0.0522\n",
        "othdiscr >= 1     Alt    0.7412\n",
        "escort & no_auto  Alt   -2.0000\n",
        "dtype: float64\n",
        "1750 persons run for non-mandatory tour model"
       ]
      },
      {
       "output_type": "stream",
       "stream": "stdout",
       "text": [
        "\n"
       ]
      },
      {
       "ename": "TypeError",
       "evalue": "'float' object has no attribute '__getitem__'",
       "output_type": "pyerr",
       "traceback": [
        "\u001b[0;31m---------------------------------------------------------------------------\u001b[0m\n\u001b[0;31mTypeError\u001b[0m                                 Traceback (most recent call last)",
        "\u001b[0;32m<ipython-input-12-966f5555a468>\u001b[0m in \u001b[0;36m<module>\u001b[0;34m()\u001b[0m\n\u001b[0;32m----> 1\u001b[0;31m \u001b[0msim\u001b[0m\u001b[0;34m.\u001b[0m\u001b[0mrun\u001b[0m\u001b[0;34m(\u001b[0m\u001b[0;34m[\u001b[0m\u001b[0;34m'non_mandatory_tour_frequency'\u001b[0m\u001b[0;34m]\u001b[0m\u001b[0;34m)\u001b[0m\u001b[0;34m\u001b[0m\u001b[0m\n\u001b[0m",
        "\u001b[0;32m/Users/ffoti/src/urbansim/urbansim/sim/simulation.pyc\u001b[0m in \u001b[0;36mrun\u001b[0;34m(models, years, data_out, out_interval)\u001b[0m\n\u001b[1;32m   1458\u001b[0m                 \u001b[0mmodel\u001b[0m \u001b[0;34m=\u001b[0m \u001b[0mget_model\u001b[0m\u001b[0;34m(\u001b[0m\u001b[0mmodel_name\u001b[0m\u001b[0;34m)\u001b[0m\u001b[0;34m\u001b[0m\u001b[0m\n\u001b[1;32m   1459\u001b[0m                 \u001b[0mt2\u001b[0m \u001b[0;34m=\u001b[0m \u001b[0mtime\u001b[0m\u001b[0;34m.\u001b[0m\u001b[0mtime\u001b[0m\u001b[0;34m(\u001b[0m\u001b[0;34m)\u001b[0m\u001b[0;34m\u001b[0m\u001b[0m\n\u001b[0;32m-> 1460\u001b[0;31m                 \u001b[0mmodel\u001b[0m\u001b[0;34m(\u001b[0m\u001b[0;34m)\u001b[0m\u001b[0;34m\u001b[0m\u001b[0m\n\u001b[0m\u001b[1;32m   1461\u001b[0m                 print(\"Time to execute model '{}': {:.2f}s\".format(\n\u001b[1;32m   1462\u001b[0m                       model_name, time.time()-t2))\n",
        "\u001b[0;32m/Users/ffoti/src/urbansim/urbansim/sim/simulation.pyc\u001b[0m in \u001b[0;36m__call__\u001b[0;34m(self)\u001b[0m\n\u001b[1;32m    670\u001b[0m             kwargs = _collect_variables(names=self._argspec.args,\n\u001b[1;32m    671\u001b[0m                                         expressions=self._argspec.defaults)\n\u001b[0;32m--> 672\u001b[0;31m             \u001b[0;32mreturn\u001b[0m \u001b[0mself\u001b[0m\u001b[0;34m.\u001b[0m\u001b[0m_func\u001b[0m\u001b[0;34m(\u001b[0m\u001b[0;34m**\u001b[0m\u001b[0mkwargs\u001b[0m\u001b[0;34m)\u001b[0m\u001b[0;34m\u001b[0m\u001b[0m\n\u001b[0m\u001b[1;32m    673\u001b[0m \u001b[0;34m\u001b[0m\u001b[0m\n\u001b[1;32m    674\u001b[0m     \u001b[0;32mdef\u001b[0m \u001b[0m_tables_used\u001b[0m\u001b[0;34m(\u001b[0m\u001b[0mself\u001b[0m\u001b[0;34m)\u001b[0m\u001b[0;34m:\u001b[0m\u001b[0;34m\u001b[0m\u001b[0m\n",
        "\u001b[0;32m/Users/ffoti/src/activitysim/example/models.py\u001b[0m in \u001b[0;36mnon_mandatory_tour_frequency\u001b[0;34m(persons, households, land_use, non_mandatory_tour_frequency_alts, non_mandatory_tour_frequency_spec)\u001b[0m\n\u001b[1;32m    281\u001b[0m                              \u001b[0mnon_mandatory_tour_frequency_alts\u001b[0m\u001b[0;34m.\u001b[0m\u001b[0mto_frame\u001b[0m\u001b[0;34m(\u001b[0m\u001b[0;34m)\u001b[0m\u001b[0;34m,\u001b[0m\u001b[0;34m\u001b[0m\u001b[0m\n\u001b[1;32m    282\u001b[0m                              \u001b[0mnon_mandatory_tour_frequency_spec\u001b[0m\u001b[0;34m,\u001b[0m\u001b[0;34m\u001b[0m\u001b[0m\n\u001b[0;32m--> 283\u001b[0;31m                              mult_by_alt_col=False)\n\u001b[0m\u001b[1;32m    284\u001b[0m \u001b[0;34m\u001b[0m\u001b[0m\n\u001b[1;32m    285\u001b[0m     \u001b[0;32mprint\u001b[0m \u001b[0;34m\"Choices:\\n\"\u001b[0m\u001b[0;34m,\u001b[0m \u001b[0mchoices\u001b[0m\u001b[0;34m.\u001b[0m\u001b[0mvalue_counts\u001b[0m\u001b[0;34m(\u001b[0m\u001b[0;34m)\u001b[0m\u001b[0;34m\u001b[0m\u001b[0m\n",
        "\u001b[0;32m/Users/ffoti/src/activitysim/activitysim/activitysim.pyc\u001b[0m in \u001b[0;36msimple_simulate\u001b[0;34m(choosers, alternatives, spec, skims, skim_join_name, mult_by_alt_col, sample_size)\u001b[0m\n\u001b[1;32m     90\u001b[0m     \u001b[0mvars\u001b[0m \u001b[0;34m=\u001b[0m \u001b[0;34m{\u001b[0m\u001b[0;34m}\u001b[0m\u001b[0;34m\u001b[0m\u001b[0m\n\u001b[1;32m     91\u001b[0m     \u001b[0;32mfor\u001b[0m \u001b[0mexpr\u001b[0m \u001b[0;32min\u001b[0m \u001b[0mexprs\u001b[0m\u001b[0;34m:\u001b[0m\u001b[0;34m\u001b[0m\u001b[0m\n\u001b[0;32m---> 92\u001b[0;31m         \u001b[0;32mif\u001b[0m \u001b[0mexpr\u001b[0m\u001b[0;34m[\u001b[0m\u001b[0;36m0\u001b[0m\u001b[0;34m]\u001b[0m\u001b[0;34m[\u001b[0m\u001b[0;36m0\u001b[0m\u001b[0;34m]\u001b[0m \u001b[0;34m==\u001b[0m \u001b[0;34m\"@\"\u001b[0m\u001b[0;34m:\u001b[0m\u001b[0;34m\u001b[0m\u001b[0m\n\u001b[0m\u001b[1;32m     93\u001b[0m             \u001b[0;32mif\u001b[0m \u001b[0mmult_by_alt_col\u001b[0m\u001b[0;34m:\u001b[0m\u001b[0;34m\u001b[0m\u001b[0m\n\u001b[1;32m     94\u001b[0m                 \u001b[0mexpr\u001b[0m \u001b[0;34m=\u001b[0m \u001b[0;34m\"({}) * df.{}\"\u001b[0m\u001b[0;34m.\u001b[0m\u001b[0mformat\u001b[0m\u001b[0;34m(\u001b[0m\u001b[0mexpr\u001b[0m\u001b[0;34m[\u001b[0m\u001b[0;36m0\u001b[0m\u001b[0;34m]\u001b[0m\u001b[0;34m[\u001b[0m\u001b[0;36m1\u001b[0m\u001b[0;34m:\u001b[0m\u001b[0;34m]\u001b[0m\u001b[0;34m,\u001b[0m \u001b[0mexpr\u001b[0m\u001b[0;34m[\u001b[0m\u001b[0;36m1\u001b[0m\u001b[0;34m]\u001b[0m\u001b[0;34m)\u001b[0m\u001b[0;34m\u001b[0m\u001b[0m\n",
        "\u001b[0;31mTypeError\u001b[0m: 'float' object has no attribute '__getitem__'"
       ]
      }
     ],
     "prompt_number": 12
    },
    {
     "cell_type": "code",
     "collapsed": false,
     "input": [
      "sim.get_table(\"land_use\").to_frame().info()"
     ],
     "language": "python",
     "metadata": {},
     "outputs": [
      {
       "output_type": "stream",
       "stream": "stdout",
       "text": [
        "<class 'pandas.core.frame.DataFrame'>\n",
        "Int64Index: 1454 entries, 1 to 1454\n",
        "Data columns (total 49 columns):\n",
        "DISTRICT              1454 non-null int64\n",
        "SD                    1454 non-null int64\n",
        "COUNTY                1454 non-null int64\n",
        "TOTHH                 1454 non-null int64\n",
        "HHPOP                 1454 non-null int64\n",
        "TOTPOP                1454 non-null int64\n",
        "EMPRES                1454 non-null int64\n",
        "SFDU                  1454 non-null int64\n",
        "MFDU                  1454 non-null int64\n",
        "HHINCQ1               1454 non-null int64\n",
        "HHINCQ2               1454 non-null int64\n",
        "HHINCQ3               1454 non-null int64\n",
        "HHINCQ4               1454 non-null int64\n",
        "TOTACRE               1454 non-null float64\n",
        "RESACRE               1454 non-null int64\n",
        "CIACRE                1454 non-null int64\n",
        "SHPOP62P              1454 non-null float64\n",
        "TOTEMP                1454 non-null int64\n",
        "AGE0004               1454 non-null int64\n",
        "AGE0519               1454 non-null int64\n",
        "AGE2044               1454 non-null int64\n",
        "AGE4564               1454 non-null int64\n",
        "AGE65P                1454 non-null int64\n",
        "RETEMPN               1454 non-null int64\n",
        "FPSEMPN               1454 non-null int64\n",
        "HEREMPN               1454 non-null int64\n",
        "OTHEMPN               1454 non-null int64\n",
        "AGREMPN               1454 non-null int64\n",
        "MWTEMPN               1454 non-null int64\n",
        "PRKCST                1454 non-null float64\n",
        "OPRKCST               1454 non-null float64\n",
        "area_type             1454 non-null int64\n",
        "HSENROLL              1454 non-null float64\n",
        "COLLFTE               1454 non-null float64\n",
        "COLLPTE               1454 non-null float64\n",
        "TOPOLOGY              1454 non-null int64\n",
        "TERMINAL              1454 non-null float64\n",
        "ZERO                  1454 non-null int64\n",
        "hhlds                 1454 non-null int64\n",
        "sftaz                 1454 non-null int64\n",
        "gqpop                 1454 non-null int64\n",
        "employment_density    1454 non-null float64\n",
        "total_acres           1454 non-null float64\n",
        "county_id             1454 non-null int64\n",
        "density_index         1453 non-null float64\n",
        "county_name           1454 non-null object\n",
        "household_density     1454 non-null float64\n",
        "total_households      1454 non-null int64\n",
        "total_employment      1454 non-null int64\n",
        "dtypes: float64(12), int64(36), object(1)\n",
        "memory usage: 568.0 KB\n"
       ]
      }
     ],
     "prompt_number": 6
    },
    {
     "cell_type": "code",
     "collapsed": false,
     "input": [
      "sim.get_table(\"households\").to_frame().info()"
     ],
     "language": "python",
     "metadata": {},
     "outputs": [
      {
       "output_type": "stream",
       "stream": "stdout",
       "text": [
        "<class 'pandas.core.frame.DataFrame'>\n",
        "Int64Index: 10000 entries, 688607 to 2424588\n",
        "Data columns (total 61 columns):\n",
        "TAZ                          10000 non-null int64\n",
        "SERIALNO                     10000 non-null int64\n",
        "PUMA5                        10000 non-null int64\n",
        "income                       10000 non-null int64\n",
        "PERSONS                      10000 non-null int64\n",
        "HHT                          10000 non-null int64\n",
        "UNITTYPE                     10000 non-null int64\n",
        "NOC                          10000 non-null int64\n",
        "BLDGSZ                       10000 non-null int64\n",
        "TENURE                       10000 non-null int64\n",
        "VEHICL                       10000 non-null int64\n",
        "hinccat1                     10000 non-null int64\n",
        "hinccat2                     10000 non-null int64\n",
        "hhagecat                     10000 non-null int64\n",
        "hsizecat                     10000 non-null int64\n",
        "hfamily                      10000 non-null int64\n",
        "hunittype                    10000 non-null int64\n",
        "hNOCcat                      10000 non-null int64\n",
        "hwrkrcat                     10000 non-null int64\n",
        "h0004                        10000 non-null int64\n",
        "h0511                        10000 non-null int64\n",
        "h1215                        10000 non-null int64\n",
        "h1617                        10000 non-null int64\n",
        "h1824                        10000 non-null int64\n",
        "h2534                        10000 non-null int64\n",
        "h3549                        10000 non-null int64\n",
        "h5064                        10000 non-null int64\n",
        "h6579                        10000 non-null int64\n",
        "h80up                        10000 non-null int64\n",
        "workers                      10000 non-null int64\n",
        "hwork_f                      10000 non-null int64\n",
        "hwork_p                      10000 non-null int64\n",
        "huniv                        10000 non-null int64\n",
        "hnwork                       10000 non-null int64\n",
        "hretire                      10000 non-null int64\n",
        "hpresch                      10000 non-null int64\n",
        "hschpred                     10000 non-null int64\n",
        "hschdriv                     10000 non-null int64\n",
        "htypdwel                     10000 non-null int64\n",
        "hownrent                     10000 non-null int64\n",
        "hadnwst                      10000 non-null int64\n",
        "hadwpst                      10000 non-null int64\n",
        "hadkids                      10000 non-null int64\n",
        "bucketBin                    10000 non-null int64\n",
        "originalPUMA                 10000 non-null int64\n",
        "hmultiunit                   10000 non-null int64\n",
        "income_segment               10000 non-null category\n",
        "non_workers                  10000 non-null int64\n",
        "family                       10000 non-null bool\n",
        "num_young_adults             10000 non-null float64\n",
        "household_type               10000 non-null object\n",
        "auto_ownership               10000 non-null int64\n",
        "drivers                      10000 non-null float64\n",
        "num_under16_not_at_school    10000 non-null int64\n",
        "home_taz                     10000 non-null int64\n",
        "num_children                 10000 non-null float64\n",
        "non_family                   10000 non-null bool\n",
        "num_adolescents              10000 non-null float64\n",
        "income_in_thousands          10000 non-null float64\n",
        "num_young_children           10000 non-null float64\n",
        "num_college_age              10000 non-null float64\n",
        "dtypes: bool(2), category(1), float64(7), int64(50), object(1)\n",
        "memory usage: 4.5 MB\n"
       ]
      }
     ],
     "prompt_number": 7
    },
    {
     "cell_type": "code",
     "collapsed": false,
     "input": [
      "sim.get_table(\"persons\").to_frame().info()"
     ],
     "language": "python",
     "metadata": {},
     "outputs": [
      {
       "output_type": "stream",
       "stream": "stdout",
       "text": [
        "<class 'pandas.core.frame.DataFrame'>\n",
        "Int64Index: 25495 entries, 29 to 7053105\n",
        "Data columns (total 34 columns):\n",
        "household_id                     25495 non-null int64\n",
        "age                              25495 non-null int64\n",
        "RELATE                           25495 non-null int64\n",
        "ESR                              25495 non-null int64\n",
        "GRADE                            25495 non-null int64\n",
        "PNUM                             25495 non-null int64\n",
        "PAUG                             25495 non-null int64\n",
        "DDP                              25495 non-null int64\n",
        "sex                              25495 non-null int64\n",
        "WEEKS                            25495 non-null int64\n",
        "HOURS                            25495 non-null int64\n",
        "MSP                              25495 non-null int64\n",
        "POVERTY                          25495 non-null int64\n",
        "EARNS                            25495 non-null int64\n",
        "pagecat                          25495 non-null int64\n",
        "pemploy                          25495 non-null int64\n",
        "pstudent                         25495 non-null int64\n",
        "ptype                            25495 non-null int64\n",
        "padkid                           25495 non-null int64\n",
        "school_taz                       25495 non-null int64\n",
        "mandatory_tour_frequency         25495 non-null object\n",
        "employed_cat                     25495 non-null object\n",
        "student_is_employed              25495 non-null bool\n",
        "roundtrip_auto_time_to_school    25495 non-null float64\n",
        "cdap_activity                    25495 non-null object\n",
        "distance_to_school               25495 non-null float64\n",
        "workplace_taz                    25495 non-null int64\n",
        "roundtrip_auto_time_to_work      25495 non-null float64\n",
        "distance_to_work                 25495 non-null float64\n",
        "student_cat                      25495 non-null object\n",
        "ptype_cat                        25495 non-null object\n",
        "under16_not_at_school            25495 non-null bool\n",
        "home_taz                         25495 non-null int64\n",
        "nonstudent_to_school             25495 non-null bool\n",
        "dtypes: bool(3), float64(4), int64(22), object(5)\n",
        "memory usage: 6.3 MB\n"
       ]
      }
     ],
     "prompt_number": 8
    },
    {
     "cell_type": "code",
     "collapsed": false,
     "input": [],
     "language": "python",
     "metadata": {},
     "outputs": []
    }
   ],
   "metadata": {}
  }
 ]
}