{
 "cells": [
  {
   "cell_type": "markdown",
   "metadata": {},
   "source": [
    "# Trips in time and space order\n",
    "Sorts output trips in time and space order, which is useful for disaggregate (individual) dynamic traffic assignment and person time/space visualization.  Trips in time and space order means the trip origin, destination, and depart period from one trip to the next makes sense."
   ]
  },
  {
   "cell_type": "markdown",
   "metadata": {},
   "source": [
    "# Input and output filenames"
   ]
  },
  {
   "cell_type": "code",
   "execution_count": 1,
   "metadata": {},
   "outputs": [],
   "source": [
    "pipeline_filename = '../test_example_mtc/output/pipeline.h5'\n",
    "output_trip_filename = \"../test_example_mtc/output/final_trips_time_space_order.csv\""
   ]
  },
  {
   "cell_type": "markdown",
   "metadata": {},
   "source": [
    "# Libraries"
   ]
  },
  {
   "cell_type": "code",
   "execution_count": 3,
   "metadata": {},
   "outputs": [],
   "source": [
    "import pandas as pd\n",
    "import numpy as np\n",
    "import itertools"
   ]
  },
  {
   "cell_type": "markdown",
   "metadata": {},
   "source": [
    "# Read tables directly from the pipeline"
   ]
  },
  {
   "cell_type": "code",
   "execution_count": 4,
   "metadata": {
    "scrolled": true
   },
   "outputs": [],
   "source": [
    "# get tables (if run as mp then trip_mode_choice is final state of the tables) \n",
    "pipeline = pd.io.pytables.HDFStore(pipeline_filename)\n",
    "tours = pipeline['/tours/stop_frequency']\n",
    "trips = pipeline['/trips/trip_mode_choice']\n",
    "jtp = pipeline['/joint_tour_participants/joint_tour_participation']"
   ]
  },
  {
   "cell_type": "markdown",
   "metadata": {},
   "source": [
    "# Add related fields, including joint trip participant ids"
   ]
  },
  {
   "cell_type": "code",
   "execution_count": 5,
   "metadata": {},
   "outputs": [],
   "source": [
    "trips[\"tour_participants\"] = trips.tour_id.map(tours.number_of_participants)\n",
    "trips[\"tour_category\"] = trips.tour_id.map(tours.tour_category)\n",
    "trips[\"parent_tour_id\"] = trips.tour_id.map(tours.index.to_series()).map(tours.parent_tour_id)\n",
    "trips[\"tour_start\"] = trips.tour_id.map(tours.start)\n",
    "trips[\"tour_end\"] = trips.tour_id.map(tours.end)\n",
    "trips[\"parent_tour_start\"] = trips.parent_tour_id.map(tours.start)\n",
    "trips[\"parent_tour_end\"] = trips.parent_tour_id.map(tours.end)\n",
    "trips[\"inbound\"] = ~trips.outbound"
   ]
  },
  {
   "cell_type": "markdown",
   "metadata": {},
   "source": [
    "# Create additional trips records for other persons on joint trips"
   ]
  },
  {
   "cell_type": "code",
   "execution_count": 6,
   "metadata": {},
   "outputs": [],
   "source": [
    "tour_person_ids = jtp.groupby(\"tour_id\").apply(lambda x: pd.Series({\"person_ids\": \" \".join(x[\"person_id\"].astype(\"str\"))}))\n",
    "trips = trips.join(tour_person_ids, \"tour_id\")\n",
    "trips[\"person_ids\"] = trips[\"person_ids\"].fillna(\"\")\n",
    "trips.person_ids = trips.person_ids.where(trips.person_ids!=\"\", trips.person_id)\n",
    "trips[\"person_ids\"] = trips[\"person_ids\"].astype(str)\n",
    "\n",
    "person_ids = [*map(lambda x: x.split(\" \"),trips.person_ids.tolist())]\n",
    "person_ids = list(itertools.chain.from_iterable(person_ids))\n",
    "\n",
    "trips_expanded = trips.loc[np.repeat(trips.index, trips['tour_participants'])]\n",
    "trips_expanded.person_id = person_ids\n",
    "\n",
    "trips_expanded[\"trip_id\"] = trips_expanded.index\n",
    "trips_expanded[\"trip_id\"] = trips_expanded[\"trip_id\"].astype('complex128') #for larger ids\n",
    "\n",
    "while trips_expanded[\"trip_id\"].duplicated().any():\n",
    "  trips_expanded[\"trip_id\"] = trips_expanded[\"trip_id\"].where(~trips_expanded[\"trip_id\"].duplicated(), trips_expanded[\"trip_id\"] + 0.1)\n",
    "\n",
    "trips_expanded = trips_expanded.sort_values(['person_id','tour_start','tour_id','inbound','trip_num'])"
   ]
  },
  {
   "cell_type": "markdown",
   "metadata": {},
   "source": [
    "# Pull out at-work trips and put back in at the right spot"
   ]
  },
  {
   "cell_type": "code",
   "execution_count": 7,
   "metadata": {},
   "outputs": [],
   "source": [
    "atwork_trips = trips_expanded[trips_expanded.tour_category == \"atwork\"]\n",
    "\n",
    "trips_expanded_last_trips = trips_expanded[trips_expanded.trip_num == trips_expanded.trip_count]\n",
    "parent_tour_trips_with_atwork_trips = trips_expanded_last_trips.merge(atwork_trips, left_on=\"tour_id\", right_on=\"parent_tour_id\")\n",
    "parent_tour_trips_with_atwork_trips[\"atwork_depart_after\"] = parent_tour_trips_with_atwork_trips.eval(\"depart_y >= depart_x\")\n",
    "\n",
    "parent_trip_id = parent_tour_trips_with_atwork_trips[parent_tour_trips_with_atwork_trips[\"atwork_depart_after\"]]\n",
    "parent_trip_id.index = parent_trip_id[\"trip_id_y\"]\n",
    "\n",
    "for person in parent_trip_id[\"person_id_x\"].unique():\n",
    "    \n",
    "    person_all_trips = trips_expanded[(trips_expanded[\"person_id\"].astype(\"str\") == person) & (trips_expanded.tour_category != \"atwork\")]\n",
    "    \n",
    "    person_atwork_trips = parent_trip_id[parent_trip_id[\"person_id_x\"].astype(\"str\") == person]\n",
    "    parent_trip_index = person_all_trips.index.astype('complex128').get_loc(person_atwork_trips.trip_id_x[0]) \n",
    "    \n",
    "    before_trips = person_all_trips.iloc[0:(parent_trip_index+1)]\n",
    "    after_trips = person_all_trips.iloc[(parent_trip_index+1):]\n",
    "\n",
    "    person_actual_atwork_trips = atwork_trips[(atwork_trips[\"person_id\"].astype(\"str\") == person)]\n",
    "    \n",
    "    new_person_trips = before_trips.append(person_actual_atwork_trips).append(after_trips)\n",
    "    \n",
    "    trips_expanded = trips_expanded[~(trips_expanded[\"person_id\"].astype(\"str\") == person)] #remove and add back due to indexing\n",
    "    trips_expanded = trips_expanded.append(new_person_trips)"
   ]
  },
  {
   "cell_type": "markdown",
   "metadata": {},
   "source": [
    "# Add fields to verify sorting"
   ]
  },
  {
   "cell_type": "code",
   "execution_count": 8,
   "metadata": {},
   "outputs": [
    {
     "name": "stdout",
     "output_type": "stream",
     "text": [
      "True    489\n",
      "Name: spatial_consistent, dtype: int64\n",
      "\n",
      "True    489\n",
      "Name: time_consistent, dtype: int64\n"
     ]
    },
    {
     "name": "stderr",
     "output_type": "stream",
     "text": [
      "c:\\programdata\\anaconda3\\envs\\asimtest\\lib\\site-packages\\pandas\\core\\indexing.py:671: SettingWithCopyWarning: \n",
      "A value is trying to be set on a copy of a slice from a DataFrame\n",
      "\n",
      "See the caveats in the documentation: https://pandas.pydata.org/pandas-docs/stable/user_guide/indexing.html#returning-a-view-versus-a-copy\n",
      "  self._setitem_with_indexer(indexer, value)\n"
     ]
    }
   ],
   "source": [
    "trips_expanded[\"next_person_id\"] = trips_expanded[\"person_id\"].shift(-1)\n",
    "trips_expanded[\"next_origin\"] = trips_expanded[\"origin\"].shift(-1)\n",
    "trips_expanded[\"next_depart\"] = trips_expanded[\"depart\"].shift(-1)\n",
    "trips_expanded[\"spatial_consistent\"] = trips_expanded[\"destination\"] == trips_expanded[\"next_origin\"]\n",
    "trips_expanded[\"time_consistent\"] = trips_expanded[\"next_depart\"] >= trips_expanded[\"depart\"]\n",
    "trips_expanded[\"spatial_consistent\"].loc[trips_expanded[\"next_person_id\"] != trips_expanded[\"person_id\"]] = True\n",
    "trips_expanded[\"time_consistent\"].loc[trips_expanded[\"next_person_id\"] != trips_expanded[\"person_id\"]] = True\n",
    "\n",
    "print(\"{}\\n\\n{}\".format(trips_expanded[\"spatial_consistent\"].value_counts(), trips_expanded[\"time_consistent\"].value_counts()))\n"
   ]
  },
  {
   "cell_type": "markdown",
   "metadata": {},
   "source": [
    "# Write all trips"
   ]
  },
  {
   "cell_type": "code",
   "execution_count": 9,
   "metadata": {},
   "outputs": [],
   "source": [
    "trips_expanded.to_csv(output_trip_filename)"
   ]
  },
  {
   "cell_type": "code",
   "execution_count": null,
   "metadata": {},
   "outputs": [],
   "source": []
  }
 ],
 "metadata": {
  "colab": {
   "name": "asim_tutorial.ipynb",
   "provenance": [],
   "toc_visible": true
  },
  "kernelspec": {
   "display_name": "Python 3",
   "language": "python",
   "name": "python3"
  },
  "language_info": {
   "codemirror_mode": {
    "name": "ipython",
    "version": 3
   },
   "file_extension": ".py",
   "mimetype": "text/x-python",
   "name": "python",
   "nbconvert_exporter": "python",
   "pygments_lexer": "ipython3",
   "version": "3.7.6"
  }
 },
 "nbformat": 4,
 "nbformat_minor": 1
}
