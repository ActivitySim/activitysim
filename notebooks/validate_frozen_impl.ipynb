{
 "cells": [
  {
   "cell_type": "markdown",
   "id": "7ece3567-e4b1-4c3f-a264-20625abb6ad7",
   "metadata": {},
   "source": [
    "# validate results"
   ]
  },
  {
   "cell_type": "code",
   "execution_count": 1,
   "id": "bd74ba44-0dfb-439a-a6ab-7ceedfc5f523",
   "metadata": {
    "execution": {
     "iopub.execute_input": "2022-05-01T10:17:57.385153Z",
     "iopub.status.busy": "2022-05-01T10:17:57.384881Z",
     "iopub.status.idle": "2022-05-01T10:17:57.534433Z",
     "shell.execute_reply": "2022-05-01T10:17:57.533096Z",
     "shell.execute_reply.started": "2022-05-01T10:17:57.385047Z"
    },
    "tags": []
   },
   "outputs": [],
   "source": [
    "%load_ext autoreload"
   ]
  },
  {
   "cell_type": "code",
   "execution_count": 2,
   "id": "c3dba451-1e10-403e-8614-35d57e6577f4",
   "metadata": {
    "execution": {
     "iopub.execute_input": "2022-05-01T10:17:57.536623Z",
     "iopub.status.busy": "2022-05-01T10:17:57.536012Z",
     "iopub.status.idle": "2022-05-01T10:17:57.542755Z",
     "shell.execute_reply": "2022-05-01T10:17:57.541685Z",
     "shell.execute_reply.started": "2022-05-01T10:17:57.536567Z"
    },
    "tags": []
   },
   "outputs": [],
   "source": [
    "%autoreload 2"
   ]
  },
  {
   "cell_type": "code",
   "execution_count": 3,
   "id": "73deaac4-e7ac-4aff-b086-4980dc6dd903",
   "metadata": {
    "execution": {
     "iopub.execute_input": "2022-05-01T10:18:00.350944Z",
     "iopub.status.busy": "2022-05-01T10:18:00.350730Z",
     "iopub.status.idle": "2022-05-01T10:18:12.760977Z",
     "shell.execute_reply": "2022-05-01T10:18:12.760013Z",
     "shell.execute_reply.started": "2022-05-01T10:18:00.350919Z"
    },
    "tags": []
   },
   "outputs": [],
   "source": [
    "import os\n",
    "import argparse\n",
    "from datetime import datetime\n",
    "\n",
    "import numpy as np\n",
    "import pandas as pd\n",
    "from numpy.random import default_rng\n",
    "\n",
    "from activitysim.cli import run\n",
    "from activitysim.core import inject\n",
    "from activitysim.core import tracing\n",
    "from activitysim.core import config\n",
    "from activitysim.core import pipeline\n",
    "from activitysim.core import chunk\n",
    "from activitysim.core import simulate\n",
    "from activitysim.core import logit\n",
    "from activitysim.abm.models.util import estimation\n",
    "from activitysim.core import expressions\n",
    "from activitysim.core.util import assign_in_place"
   ]
  },
  {
   "cell_type": "code",
   "execution_count": 4,
   "id": "7e553abd-fe0d-4cdc-aeb1-9dc80cb2757f",
   "metadata": {
    "execution": {
     "iopub.execute_input": "2022-05-01T10:18:16.944537Z",
     "iopub.status.busy": "2022-05-01T10:18:16.944291Z",
     "iopub.status.idle": "2022-05-01T10:18:17.124764Z",
     "shell.execute_reply": "2022-05-01T10:18:17.123725Z",
     "shell.execute_reply.started": "2022-05-01T10:18:16.944501Z"
    },
    "tags": []
   },
   "outputs": [],
   "source": [
    "pd.set_option(\"max_columns\", 500)"
   ]
  },
  {
   "cell_type": "code",
   "execution_count": 5,
   "id": "41fec4e8-a174-4e66-87d2-1e8c7979de90",
   "metadata": {
    "execution": {
     "iopub.execute_input": "2022-05-01T10:18:17.839947Z",
     "iopub.status.busy": "2022-05-01T10:18:17.839070Z",
     "iopub.status.idle": "2022-05-01T10:18:18.019676Z",
     "shell.execute_reply": "2022-05-01T10:18:18.018689Z",
     "shell.execute_reply.started": "2022-05-01T10:18:17.839911Z"
    },
    "tags": []
   },
   "outputs": [],
   "source": [
    "root_dir = \"/mnt/c/Users/jan.zill/code/activitysim\"\n",
    "example_dir = os.path.join(root_dir, \"test_example_mtc\")"
   ]
  },
  {
   "cell_type": "code",
   "execution_count": 6,
   "id": "2de710a2-d292-42f9-9d4a-4dcef1365506",
   "metadata": {
    "execution": {
     "iopub.execute_input": "2022-05-01T10:18:18.894533Z",
     "iopub.status.busy": "2022-05-01T10:18:18.894303Z",
     "iopub.status.idle": "2022-05-01T10:18:19.078807Z",
     "shell.execute_reply": "2022-05-01T10:18:19.077951Z",
     "shell.execute_reply.started": "2022-05-01T10:18:18.894508Z"
    },
    "tags": []
   },
   "outputs": [],
   "source": [
    "os.chdir(example_dir)"
   ]
  },
  {
   "cell_type": "code",
   "execution_count": 7,
   "id": "730be239-8704-4483-bbb8-ffae0f17c5d4",
   "metadata": {
    "execution": {
     "iopub.execute_input": "2022-05-01T10:18:22.111723Z",
     "iopub.status.busy": "2022-05-01T10:18:22.111490Z",
     "iopub.status.idle": "2022-05-01T10:18:22.297437Z",
     "shell.execute_reply": "2022-05-01T10:18:22.296501Z",
     "shell.execute_reply.started": "2022-05-01T10:18:22.111697Z"
    },
    "tags": []
   },
   "outputs": [],
   "source": [
    "parser = argparse.ArgumentParser()\n",
    "run.add_run_args(parser)\n",
    "# args = parser.parse_args()\n",
    "# parser.parse_args(['--sum', '7', '-1', '42'])\n",
    "args = parser.parse_args(['-c', 'configs', '-o', 'output', '-d', 'data'])\n",
    "#run.run(args)  # 2mins full example run\n",
    "if not inject.is_injectable('preload_injectables'):\n",
    "    from activitysim import abm  # register abm steps and other abm-specific injectables\n",
    "run.handle_standard_args(args)  # possibly update injectables"
   ]
  },
  {
   "cell_type": "code",
   "execution_count": 8,
   "id": "3ed520e9-75ef-4eec-ab86-6aaf1fe453fc",
   "metadata": {
    "execution": {
     "iopub.execute_input": "2021-09-01T02:28:53.643404Z",
     "iopub.status.busy": "2021-09-01T02:28:53.643055Z",
     "iopub.status.idle": "2021-09-01T02:29:01.223951Z",
     "shell.execute_reply": "2021-09-01T02:29:01.222865Z",
     "shell.execute_reply.started": "2021-09-01T02:28:53.643367Z"
    },
    "tags": []
   },
   "outputs": [
    {
     "name": "stderr",
     "output_type": "stream",
     "text": [
      "register joint_tour_participants: no rows with household_id in [982875].\n",
      "estimation bundle trip_mode_choice not in settings file estimation.yaml\n"
     ]
    },
    {
     "name": "stdout",
     "output_type": "stream",
     "text": [
      "Running with %d trips 482\n",
      "trip_mode_choice tour_type 'atwork' (27 trips)\n",
      "trip_mode_choice tour_type 'eatout' (33 trips)\n",
      "trip_mode_choice tour_type 'escort' (6 trips)\n",
      "trip_mode_choice tour_type 'othdiscr' (43 trips)\n",
      "trip_mode_choice tour_type 'othmaint' (46 trips)\n",
      "trip_mode_choice tour_type 'school' (37 trips)\n",
      "trip_mode_choice tour_type 'shopping' (77 trips)\n",
      "trip_mode_choice tour_type 'social' (19 trips)\n",
      "trip_mode_choice tour_type 'univ' (26 trips)\n",
      "trip_mode_choice tour_type 'work' (168 trips)\n",
      "Done\n"
     ]
    },
    {
     "name": "stderr",
     "output_type": "stream",
     "text": [
      "register joint_tour_participants: no rows with household_id in [982875].\n",
      "estimation bundle trip_mode_choice not in settings file estimation.yaml\n"
     ]
    },
    {
     "name": "stdout",
     "output_type": "stream",
     "text": [
      "Running with %d trips 482\n",
      "trip_mode_choice tour_type 'atwork' (27 trips)\n",
      "trip_mode_choice tour_type 'eatout' (33 trips)\n",
      "trip_mode_choice tour_type 'escort' (6 trips)\n",
      "trip_mode_choice tour_type 'othdiscr' (43 trips)\n",
      "trip_mode_choice tour_type 'othmaint' (46 trips)\n",
      "trip_mode_choice tour_type 'school' (37 trips)\n",
      "trip_mode_choice tour_type 'shopping' (77 trips)\n",
      "trip_mode_choice tour_type 'social' (19 trips)\n",
      "trip_mode_choice tour_type 'univ' (26 trips)\n",
      "trip_mode_choice tour_type 'work' (168 trips)\n",
      "Done\n"
     ]
    }
   ],
   "source": [
    "from fru_utils import run_trip_mode_choice\n",
    "trips_df_ru = run_trip_mode_choice()\n",
    "trips_df = run_trip_mode_choice(choose_individual_max_utility=False)"
   ]
  },
  {
   "cell_type": "code",
   "execution_count": 9,
   "outputs": [
    {
     "data": {
      "text/plain": "                trip_mode_fru  trip_mode_asim\nWALK                      299             304\nWALK_LOC                   92              85\nWALK_LRF                   61              53\nBIKE                       17              17\nDRIVEALONEFREE              6               4\nSHARED2FREE                 3               4\nTNC_SINGLE                  2               4\nWALK_HVY                    2               4",
      "text/html": "<div>\n<style scoped>\n    .dataframe tbody tr th:only-of-type {\n        vertical-align: middle;\n    }\n\n    .dataframe tbody tr th {\n        vertical-align: top;\n    }\n\n    .dataframe thead th {\n        text-align: right;\n    }\n</style>\n<table border=\"1\" class=\"dataframe\">\n  <thead>\n    <tr style=\"text-align: right;\">\n      <th></th>\n      <th>trip_mode_fru</th>\n      <th>trip_mode_asim</th>\n    </tr>\n  </thead>\n  <tbody>\n    <tr>\n      <th>WALK</th>\n      <td>299</td>\n      <td>304</td>\n    </tr>\n    <tr>\n      <th>WALK_LOC</th>\n      <td>92</td>\n      <td>85</td>\n    </tr>\n    <tr>\n      <th>WALK_LRF</th>\n      <td>61</td>\n      <td>53</td>\n    </tr>\n    <tr>\n      <th>BIKE</th>\n      <td>17</td>\n      <td>17</td>\n    </tr>\n    <tr>\n      <th>DRIVEALONEFREE</th>\n      <td>6</td>\n      <td>4</td>\n    </tr>\n    <tr>\n      <th>SHARED2FREE</th>\n      <td>3</td>\n      <td>4</td>\n    </tr>\n    <tr>\n      <th>TNC_SINGLE</th>\n      <td>2</td>\n      <td>4</td>\n    </tr>\n    <tr>\n      <th>WALK_HVY</th>\n      <td>2</td>\n      <td>4</td>\n    </tr>\n  </tbody>\n</table>\n</div>"
     },
     "execution_count": 9,
     "metadata": {},
     "output_type": "execute_result"
    }
   ],
   "source": [
    "c_ = [\"trip_mode\", \"mode_choice_logsum\"]\n",
    "trips = trips_df_ru[c_].merge(trips_df[c_], left_index=True, right_index=True, how=\"outer\", suffixes=[\"_fru\", \"_asim\"])\n",
    "pd.merge(trips_df_ru.trip_mode.value_counts(), trips_df.trip_mode.value_counts(), left_index=True, right_index=True,\n",
    "         suffixes=[\"_fru\", \"_asim\"])"
   ],
   "metadata": {
    "collapsed": false,
    "pycharm": {
     "name": "#%%\n"
    }
   }
  },
  {
   "cell_type": "code",
   "execution_count": 62,
   "outputs": [
    {
     "name": "stdout",
     "output_type": "stream",
     "text": [
      "Logsums agree\n"
     ]
    }
   ],
   "source": [
    "if np.allclose(trips.mode_choice_logsum_fru, trips.mode_choice_logsum_asim):\n",
    "    print(\"Logsums agree\")\n",
    "else:\n",
    "    ((trips.mode_choice_logsum_fru - trips.mode_choice_logsum_asim) / trips.mode_choice_logsum_fru).hist(bins=50)"
   ],
   "metadata": {
    "collapsed": false,
    "pycharm": {
     "name": "#%%\n"
    }
   }
  },
  {
   "cell_type": "markdown",
   "source": [
    "# Run MC validation\n",
    "\n",
    "see logit._each_nest parent_nest_scale for leaf node, and simulate.compute_nested_utilities for discussion of scales\n",
    "of alternatives\n",
    "\n",
    "easiest way is to run a simulation"
   ],
   "metadata": {
    "collapsed": false,
    "pycharm": {
     "name": "#%% md\n"
    }
   }
  },
  {
   "cell_type": "code",
   "execution_count": null,
   "outputs": [],
   "source": [],
   "metadata": {
    "collapsed": false,
    "pycharm": {
     "name": "#%%\n"
    }
   }
  },
  {
   "cell_type": "code",
   "execution_count": 14,
   "outputs": [
    {
     "name": "stderr",
     "output_type": "stream",
     "text": [
      "register joint_tour_participants: no rows with household_id in [982875].\n",
      "estimation bundle trip_mode_choice not in settings file estimation.yaml\n"
     ]
    },
    {
     "name": "stdout",
     "output_type": "stream",
     "text": [
      "Running with %d trips 482\n",
      "trip_mode_choice tour_type 'social' (19 trips)\n",
      "Done\n"
     ]
    }
   ],
   "source": [
    "from fru_utils import get_stuff\n",
    "t, ru, neu, nu, ns, nested_probs, base_probs = get_stuff(do_these_purposes=[\"social\"])"
   ],
   "metadata": {
    "collapsed": false,
    "pycharm": {
     "name": "#%%\n"
    }
   }
  },
  {
   "cell_type": "code",
   "execution_count": 15,
   "outputs": [
    {
     "data": {
      "text/plain": "                    AUTO  NONMOTORIZED   TRANSIT      RIDEHAIL  DRIVEALONE  \\\ntrip_id                                                                      \n8805121     0.000000e+00      1.000000  0.000000  1.418229e-07         0.0   \n8805125     0.000000e+00      1.000000  0.000000  1.333383e-07         0.0   \n8805126     0.000000e+00      1.000000  0.000000  1.666869e-07         0.0   \n468119921   0.000000e+00      1.000000  0.000000  5.175690e-08         0.0   \n468119922   0.000000e+00      0.999874  0.000000  1.255768e-04         0.0   \n468119925   0.000000e+00      0.999875  0.000000  1.254853e-04         0.0   \n468119926   0.000000e+00      1.000000  0.000000  5.207466e-08         0.0   \n468119927   0.000000e+00      1.000000  0.000000  7.363066e-08         0.0   \n468119928   0.000000e+00      1.000000  0.000000  2.191280e-08         0.0   \n642446345   4.882838e-03      0.044905  0.949699  5.136180e-04         0.0   \n642446349   3.622165e-03      0.043359  0.952506  5.131357e-04         0.0   \n1179608009  7.537428e-05      0.969538  0.000000  3.038711e-02         0.0   \n1179608013  1.855034e-05      0.969598  0.000000  3.038345e-02         0.0   \n1658807153  5.751672e-07      0.048044  0.951445  5.107302e-04         0.0   \n1658807157  6.945596e-07      0.065847  0.933430  7.226819e-04         0.0   \n1767182945  1.610090e-02      0.046835  0.931353  5.711349e-03         0.0   \n1767182949  1.540381e-02      0.041767  0.937130  5.699151e-03         0.0   \n2464104881  2.228876e-05      0.646947  0.353030  4.902454e-07         0.0   \n2464104885  2.163505e-05      0.627973  0.372005  4.758670e-07         0.0   \n\n            SHAREDRIDE2   SHAREDRIDE3  DRIVEALONEFREE  DRIVEALONEPAY  \\\ntrip_id                                                                \n8805121        0.000000  0.000000e+00             0.0            0.0   \n8805125        0.000000  0.000000e+00             0.0            0.0   \n8805126        0.000000  0.000000e+00             0.0            0.0   \n468119921      0.000000  0.000000e+00             0.0            0.0   \n468119922      0.000000  0.000000e+00             0.0            0.0   \n468119925      0.000000  0.000000e+00             0.0            0.0   \n468119926      0.000000  0.000000e+00             0.0            0.0   \n468119927      0.000000  0.000000e+00             0.0            0.0   \n468119928      0.000000  0.000000e+00             0.0            0.0   \n642446345      1.000000  9.628424e-12             0.0            0.0   \n642446349      1.000000  1.090669e-11             0.0            0.0   \n1179608009     0.739343  2.606568e-01             0.0            0.0   \n1179608013     0.597359  4.026407e-01             0.0            0.0   \n1658807153     0.739335  2.606646e-01             0.0            0.0   \n1658807157     0.725355  2.746454e-01             0.0            0.0   \n1767182945     1.000000  9.618359e-12             0.0            0.0   \n1767182949     1.000000  9.798594e-12             0.0            0.0   \n2464104881     1.000000  9.634468e-12             0.0            0.0   \n2464104885     1.000000  9.634468e-12             0.0            0.0   \n\n            SHARED2FREE  SHARED2PAY  SHARED3FREE  SHARED3PAY  WALK  BIKE  \\\ntrip_id                                                                    \n8805121             0.0         0.0          0.0         0.0   1.0   0.0   \n8805125             0.0         0.0          0.0         0.0   1.0   0.0   \n8805126             0.0         0.0          0.0         0.0   1.0   0.0   \n468119921           0.0         0.0          0.0         0.0   1.0   0.0   \n468119922           0.0         0.0          0.0         0.0   1.0   0.0   \n468119925           0.0         0.0          0.0         0.0   1.0   0.0   \n468119926           0.0         0.0          0.0         0.0   1.0   0.0   \n468119927           0.0         0.0          0.0         0.0   1.0   0.0   \n468119928           0.0         0.0          0.0         0.0   1.0   0.0   \n642446345           1.0         0.0          1.0         0.0   1.0   0.0   \n642446349           1.0         0.0          1.0         0.0   1.0   0.0   \n1179608009          1.0         0.0          1.0         0.0   1.0   0.0   \n1179608013          1.0         0.0          1.0         0.0   1.0   0.0   \n1658807153          1.0         0.0          1.0         0.0   1.0   0.0   \n1658807157          1.0         0.0          1.0         0.0   1.0   0.0   \n1767182945          1.0         0.0          1.0         0.0   1.0   0.0   \n1767182949          1.0         0.0          1.0         0.0   1.0   0.0   \n2464104881          1.0         0.0          1.0         0.0   1.0   0.0   \n2464104885          1.0         0.0          1.0         0.0   1.0   0.0   \n\n            WALKACCESS  DRIVEACCESS  WALK_LOC  WALK_LRF  WALK_EXP  WALK_HVY  \\\ntrip_id                                                                       \n8805121            0.0          0.0  0.000000  0.000000       0.0       0.0   \n8805125            0.0          0.0  0.000000  0.000000       0.0       0.0   \n8805126            0.0          0.0  0.000000  0.000000       0.0       0.0   \n468119921          0.0          0.0  0.000000  0.000000       0.0       0.0   \n468119922          0.0          0.0  0.000000  0.000000       0.0       0.0   \n468119925          0.0          0.0  0.000000  0.000000       0.0       0.0   \n468119926          0.0          0.0  0.000000  0.000000       0.0       0.0   \n468119927          0.0          0.0  0.000000  0.000000       0.0       0.0   \n468119928          0.0          0.0  0.000000  0.000000       0.0       0.0   \n642446345          1.0          0.0  0.063138  0.936862       0.0       0.0   \n642446349          1.0          0.0  0.071770  0.928230       0.0       0.0   \n1179608009         0.0          0.0  0.000000  0.000000       0.0       0.0   \n1179608013         0.0          0.0  0.000000  0.000000       0.0       0.0   \n1658807153         1.0          0.0  1.000000  0.000000       0.0       0.0   \n1658807157         1.0          0.0  1.000000  0.000000       0.0       0.0   \n1767182945         1.0          0.0  0.154889  0.845111       0.0       0.0   \n1767182949         1.0          0.0  0.150707  0.849293       0.0       0.0   \n2464104881         1.0          0.0  1.000000  0.000000       0.0       0.0   \n2464104885         1.0          0.0  1.000000  0.000000       0.0       0.0   \n\n            WALK_COM  DRIVE_LOC  DRIVE_LRF  DRIVE_EXP  DRIVE_HVY  DRIVE_COM  \\\ntrip_id                                                                       \n8805121          0.0        0.0        0.0        0.0        0.0        0.0   \n8805125          0.0        0.0        0.0        0.0        0.0        0.0   \n8805126          0.0        0.0        0.0        0.0        0.0        0.0   \n468119921        0.0        0.0        0.0        0.0        0.0        0.0   \n468119922        0.0        0.0        0.0        0.0        0.0        0.0   \n468119925        0.0        0.0        0.0        0.0        0.0        0.0   \n468119926        0.0        0.0        0.0        0.0        0.0        0.0   \n468119927        0.0        0.0        0.0        0.0        0.0        0.0   \n468119928        0.0        0.0        0.0        0.0        0.0        0.0   \n642446345        0.0        0.0        0.0        0.0        0.0        0.0   \n642446349        0.0        0.0        0.0        0.0        0.0        0.0   \n1179608009       0.0        0.0        0.0        0.0        0.0        0.0   \n1179608013       0.0        0.0        0.0        0.0        0.0        0.0   \n1658807153       0.0        0.0        0.0        0.0        0.0        0.0   \n1658807157       0.0        0.0        0.0        0.0        0.0        0.0   \n1767182945       0.0        0.0        0.0        0.0        0.0        0.0   \n1767182949       0.0        0.0        0.0        0.0        0.0        0.0   \n2464104881       0.0        0.0        0.0        0.0        0.0        0.0   \n2464104885       0.0        0.0        0.0        0.0        0.0        0.0   \n\n                TAXI  TNC_SINGLE  TNC_SHARED  \ntrip_id                                       \n8805121     0.300854    0.553048    0.146098  \n8805125     0.304288    0.549407    0.146304  \n8805126     0.291815    0.562518    0.145667  \n468119921   0.211883    0.005323    0.782795  \n468119922   0.211720    0.005255    0.783024  \n468119925   0.211271    0.005261    0.783468  \n468119926   0.301114    0.004624    0.694262  \n468119927   0.720964    0.001787    0.277249  \n468119928   0.108040    0.006816    0.885144  \n642446345   0.187119    0.254576    0.558305  \n642446349   0.181108    0.256588    0.562305  \n1179608009  0.000172    0.910435    0.089393  \n1179608013  0.000172    0.910454    0.089374  \n1658807153  0.000139    0.919273    0.080588  \n1658807157  0.000132    0.919585    0.080283  \n1767182945  0.262451    0.588087    0.149462  \n1767182949  0.259083    0.592884    0.148034  \n2464104881  0.278497    0.000018    0.721485  \n2464104885  0.278497    0.000018    0.721485  ",
      "text/html": "<div>\n<style scoped>\n    .dataframe tbody tr th:only-of-type {\n        vertical-align: middle;\n    }\n\n    .dataframe tbody tr th {\n        vertical-align: top;\n    }\n\n    .dataframe thead th {\n        text-align: right;\n    }\n</style>\n<table border=\"1\" class=\"dataframe\">\n  <thead>\n    <tr style=\"text-align: right;\">\n      <th></th>\n      <th>AUTO</th>\n      <th>NONMOTORIZED</th>\n      <th>TRANSIT</th>\n      <th>RIDEHAIL</th>\n      <th>DRIVEALONE</th>\n      <th>SHAREDRIDE2</th>\n      <th>SHAREDRIDE3</th>\n      <th>DRIVEALONEFREE</th>\n      <th>DRIVEALONEPAY</th>\n      <th>SHARED2FREE</th>\n      <th>SHARED2PAY</th>\n      <th>SHARED3FREE</th>\n      <th>SHARED3PAY</th>\n      <th>WALK</th>\n      <th>BIKE</th>\n      <th>WALKACCESS</th>\n      <th>DRIVEACCESS</th>\n      <th>WALK_LOC</th>\n      <th>WALK_LRF</th>\n      <th>WALK_EXP</th>\n      <th>WALK_HVY</th>\n      <th>WALK_COM</th>\n      <th>DRIVE_LOC</th>\n      <th>DRIVE_LRF</th>\n      <th>DRIVE_EXP</th>\n      <th>DRIVE_HVY</th>\n      <th>DRIVE_COM</th>\n      <th>TAXI</th>\n      <th>TNC_SINGLE</th>\n      <th>TNC_SHARED</th>\n    </tr>\n    <tr>\n      <th>trip_id</th>\n      <th></th>\n      <th></th>\n      <th></th>\n      <th></th>\n      <th></th>\n      <th></th>\n      <th></th>\n      <th></th>\n      <th></th>\n      <th></th>\n      <th></th>\n      <th></th>\n      <th></th>\n      <th></th>\n      <th></th>\n      <th></th>\n      <th></th>\n      <th></th>\n      <th></th>\n      <th></th>\n      <th></th>\n      <th></th>\n      <th></th>\n      <th></th>\n      <th></th>\n      <th></th>\n      <th></th>\n      <th></th>\n      <th></th>\n      <th></th>\n    </tr>\n  </thead>\n  <tbody>\n    <tr>\n      <th>8805121</th>\n      <td>0.000000e+00</td>\n      <td>1.000000</td>\n      <td>0.000000</td>\n      <td>1.418229e-07</td>\n      <td>0.0</td>\n      <td>0.000000</td>\n      <td>0.000000e+00</td>\n      <td>0.0</td>\n      <td>0.0</td>\n      <td>0.0</td>\n      <td>0.0</td>\n      <td>0.0</td>\n      <td>0.0</td>\n      <td>1.0</td>\n      <td>0.0</td>\n      <td>0.0</td>\n      <td>0.0</td>\n      <td>0.000000</td>\n      <td>0.000000</td>\n      <td>0.0</td>\n      <td>0.0</td>\n      <td>0.0</td>\n      <td>0.0</td>\n      <td>0.0</td>\n      <td>0.0</td>\n      <td>0.0</td>\n      <td>0.0</td>\n      <td>0.300854</td>\n      <td>0.553048</td>\n      <td>0.146098</td>\n    </tr>\n    <tr>\n      <th>8805125</th>\n      <td>0.000000e+00</td>\n      <td>1.000000</td>\n      <td>0.000000</td>\n      <td>1.333383e-07</td>\n      <td>0.0</td>\n      <td>0.000000</td>\n      <td>0.000000e+00</td>\n      <td>0.0</td>\n      <td>0.0</td>\n      <td>0.0</td>\n      <td>0.0</td>\n      <td>0.0</td>\n      <td>0.0</td>\n      <td>1.0</td>\n      <td>0.0</td>\n      <td>0.0</td>\n      <td>0.0</td>\n      <td>0.000000</td>\n      <td>0.000000</td>\n      <td>0.0</td>\n      <td>0.0</td>\n      <td>0.0</td>\n      <td>0.0</td>\n      <td>0.0</td>\n      <td>0.0</td>\n      <td>0.0</td>\n      <td>0.0</td>\n      <td>0.304288</td>\n      <td>0.549407</td>\n      <td>0.146304</td>\n    </tr>\n    <tr>\n      <th>8805126</th>\n      <td>0.000000e+00</td>\n      <td>1.000000</td>\n      <td>0.000000</td>\n      <td>1.666869e-07</td>\n      <td>0.0</td>\n      <td>0.000000</td>\n      <td>0.000000e+00</td>\n      <td>0.0</td>\n      <td>0.0</td>\n      <td>0.0</td>\n      <td>0.0</td>\n      <td>0.0</td>\n      <td>0.0</td>\n      <td>1.0</td>\n      <td>0.0</td>\n      <td>0.0</td>\n      <td>0.0</td>\n      <td>0.000000</td>\n      <td>0.000000</td>\n      <td>0.0</td>\n      <td>0.0</td>\n      <td>0.0</td>\n      <td>0.0</td>\n      <td>0.0</td>\n      <td>0.0</td>\n      <td>0.0</td>\n      <td>0.0</td>\n      <td>0.291815</td>\n      <td>0.562518</td>\n      <td>0.145667</td>\n    </tr>\n    <tr>\n      <th>468119921</th>\n      <td>0.000000e+00</td>\n      <td>1.000000</td>\n      <td>0.000000</td>\n      <td>5.175690e-08</td>\n      <td>0.0</td>\n      <td>0.000000</td>\n      <td>0.000000e+00</td>\n      <td>0.0</td>\n      <td>0.0</td>\n      <td>0.0</td>\n      <td>0.0</td>\n      <td>0.0</td>\n      <td>0.0</td>\n      <td>1.0</td>\n      <td>0.0</td>\n      <td>0.0</td>\n      <td>0.0</td>\n      <td>0.000000</td>\n      <td>0.000000</td>\n      <td>0.0</td>\n      <td>0.0</td>\n      <td>0.0</td>\n      <td>0.0</td>\n      <td>0.0</td>\n      <td>0.0</td>\n      <td>0.0</td>\n      <td>0.0</td>\n      <td>0.211883</td>\n      <td>0.005323</td>\n      <td>0.782795</td>\n    </tr>\n    <tr>\n      <th>468119922</th>\n      <td>0.000000e+00</td>\n      <td>0.999874</td>\n      <td>0.000000</td>\n      <td>1.255768e-04</td>\n      <td>0.0</td>\n      <td>0.000000</td>\n      <td>0.000000e+00</td>\n      <td>0.0</td>\n      <td>0.0</td>\n      <td>0.0</td>\n      <td>0.0</td>\n      <td>0.0</td>\n      <td>0.0</td>\n      <td>1.0</td>\n      <td>0.0</td>\n      <td>0.0</td>\n      <td>0.0</td>\n      <td>0.000000</td>\n      <td>0.000000</td>\n      <td>0.0</td>\n      <td>0.0</td>\n      <td>0.0</td>\n      <td>0.0</td>\n      <td>0.0</td>\n      <td>0.0</td>\n      <td>0.0</td>\n      <td>0.0</td>\n      <td>0.211720</td>\n      <td>0.005255</td>\n      <td>0.783024</td>\n    </tr>\n    <tr>\n      <th>468119925</th>\n      <td>0.000000e+00</td>\n      <td>0.999875</td>\n      <td>0.000000</td>\n      <td>1.254853e-04</td>\n      <td>0.0</td>\n      <td>0.000000</td>\n      <td>0.000000e+00</td>\n      <td>0.0</td>\n      <td>0.0</td>\n      <td>0.0</td>\n      <td>0.0</td>\n      <td>0.0</td>\n      <td>0.0</td>\n      <td>1.0</td>\n      <td>0.0</td>\n      <td>0.0</td>\n      <td>0.0</td>\n      <td>0.000000</td>\n      <td>0.000000</td>\n      <td>0.0</td>\n      <td>0.0</td>\n      <td>0.0</td>\n      <td>0.0</td>\n      <td>0.0</td>\n      <td>0.0</td>\n      <td>0.0</td>\n      <td>0.0</td>\n      <td>0.211271</td>\n      <td>0.005261</td>\n      <td>0.783468</td>\n    </tr>\n    <tr>\n      <th>468119926</th>\n      <td>0.000000e+00</td>\n      <td>1.000000</td>\n      <td>0.000000</td>\n      <td>5.207466e-08</td>\n      <td>0.0</td>\n      <td>0.000000</td>\n      <td>0.000000e+00</td>\n      <td>0.0</td>\n      <td>0.0</td>\n      <td>0.0</td>\n      <td>0.0</td>\n      <td>0.0</td>\n      <td>0.0</td>\n      <td>1.0</td>\n      <td>0.0</td>\n      <td>0.0</td>\n      <td>0.0</td>\n      <td>0.000000</td>\n      <td>0.000000</td>\n      <td>0.0</td>\n      <td>0.0</td>\n      <td>0.0</td>\n      <td>0.0</td>\n      <td>0.0</td>\n      <td>0.0</td>\n      <td>0.0</td>\n      <td>0.0</td>\n      <td>0.301114</td>\n      <td>0.004624</td>\n      <td>0.694262</td>\n    </tr>\n    <tr>\n      <th>468119927</th>\n      <td>0.000000e+00</td>\n      <td>1.000000</td>\n      <td>0.000000</td>\n      <td>7.363066e-08</td>\n      <td>0.0</td>\n      <td>0.000000</td>\n      <td>0.000000e+00</td>\n      <td>0.0</td>\n      <td>0.0</td>\n      <td>0.0</td>\n      <td>0.0</td>\n      <td>0.0</td>\n      <td>0.0</td>\n      <td>1.0</td>\n      <td>0.0</td>\n      <td>0.0</td>\n      <td>0.0</td>\n      <td>0.000000</td>\n      <td>0.000000</td>\n      <td>0.0</td>\n      <td>0.0</td>\n      <td>0.0</td>\n      <td>0.0</td>\n      <td>0.0</td>\n      <td>0.0</td>\n      <td>0.0</td>\n      <td>0.0</td>\n      <td>0.720964</td>\n      <td>0.001787</td>\n      <td>0.277249</td>\n    </tr>\n    <tr>\n      <th>468119928</th>\n      <td>0.000000e+00</td>\n      <td>1.000000</td>\n      <td>0.000000</td>\n      <td>2.191280e-08</td>\n      <td>0.0</td>\n      <td>0.000000</td>\n      <td>0.000000e+00</td>\n      <td>0.0</td>\n      <td>0.0</td>\n      <td>0.0</td>\n      <td>0.0</td>\n      <td>0.0</td>\n      <td>0.0</td>\n      <td>1.0</td>\n      <td>0.0</td>\n      <td>0.0</td>\n      <td>0.0</td>\n      <td>0.000000</td>\n      <td>0.000000</td>\n      <td>0.0</td>\n      <td>0.0</td>\n      <td>0.0</td>\n      <td>0.0</td>\n      <td>0.0</td>\n      <td>0.0</td>\n      <td>0.0</td>\n      <td>0.0</td>\n      <td>0.108040</td>\n      <td>0.006816</td>\n      <td>0.885144</td>\n    </tr>\n    <tr>\n      <th>642446345</th>\n      <td>4.882838e-03</td>\n      <td>0.044905</td>\n      <td>0.949699</td>\n      <td>5.136180e-04</td>\n      <td>0.0</td>\n      <td>1.000000</td>\n      <td>9.628424e-12</td>\n      <td>0.0</td>\n      <td>0.0</td>\n      <td>1.0</td>\n      <td>0.0</td>\n      <td>1.0</td>\n      <td>0.0</td>\n      <td>1.0</td>\n      <td>0.0</td>\n      <td>1.0</td>\n      <td>0.0</td>\n      <td>0.063138</td>\n      <td>0.936862</td>\n      <td>0.0</td>\n      <td>0.0</td>\n      <td>0.0</td>\n      <td>0.0</td>\n      <td>0.0</td>\n      <td>0.0</td>\n      <td>0.0</td>\n      <td>0.0</td>\n      <td>0.187119</td>\n      <td>0.254576</td>\n      <td>0.558305</td>\n    </tr>\n    <tr>\n      <th>642446349</th>\n      <td>3.622165e-03</td>\n      <td>0.043359</td>\n      <td>0.952506</td>\n      <td>5.131357e-04</td>\n      <td>0.0</td>\n      <td>1.000000</td>\n      <td>1.090669e-11</td>\n      <td>0.0</td>\n      <td>0.0</td>\n      <td>1.0</td>\n      <td>0.0</td>\n      <td>1.0</td>\n      <td>0.0</td>\n      <td>1.0</td>\n      <td>0.0</td>\n      <td>1.0</td>\n      <td>0.0</td>\n      <td>0.071770</td>\n      <td>0.928230</td>\n      <td>0.0</td>\n      <td>0.0</td>\n      <td>0.0</td>\n      <td>0.0</td>\n      <td>0.0</td>\n      <td>0.0</td>\n      <td>0.0</td>\n      <td>0.0</td>\n      <td>0.181108</td>\n      <td>0.256588</td>\n      <td>0.562305</td>\n    </tr>\n    <tr>\n      <th>1179608009</th>\n      <td>7.537428e-05</td>\n      <td>0.969538</td>\n      <td>0.000000</td>\n      <td>3.038711e-02</td>\n      <td>0.0</td>\n      <td>0.739343</td>\n      <td>2.606568e-01</td>\n      <td>0.0</td>\n      <td>0.0</td>\n      <td>1.0</td>\n      <td>0.0</td>\n      <td>1.0</td>\n      <td>0.0</td>\n      <td>1.0</td>\n      <td>0.0</td>\n      <td>0.0</td>\n      <td>0.0</td>\n      <td>0.000000</td>\n      <td>0.000000</td>\n      <td>0.0</td>\n      <td>0.0</td>\n      <td>0.0</td>\n      <td>0.0</td>\n      <td>0.0</td>\n      <td>0.0</td>\n      <td>0.0</td>\n      <td>0.0</td>\n      <td>0.000172</td>\n      <td>0.910435</td>\n      <td>0.089393</td>\n    </tr>\n    <tr>\n      <th>1179608013</th>\n      <td>1.855034e-05</td>\n      <td>0.969598</td>\n      <td>0.000000</td>\n      <td>3.038345e-02</td>\n      <td>0.0</td>\n      <td>0.597359</td>\n      <td>4.026407e-01</td>\n      <td>0.0</td>\n      <td>0.0</td>\n      <td>1.0</td>\n      <td>0.0</td>\n      <td>1.0</td>\n      <td>0.0</td>\n      <td>1.0</td>\n      <td>0.0</td>\n      <td>0.0</td>\n      <td>0.0</td>\n      <td>0.000000</td>\n      <td>0.000000</td>\n      <td>0.0</td>\n      <td>0.0</td>\n      <td>0.0</td>\n      <td>0.0</td>\n      <td>0.0</td>\n      <td>0.0</td>\n      <td>0.0</td>\n      <td>0.0</td>\n      <td>0.000172</td>\n      <td>0.910454</td>\n      <td>0.089374</td>\n    </tr>\n    <tr>\n      <th>1658807153</th>\n      <td>5.751672e-07</td>\n      <td>0.048044</td>\n      <td>0.951445</td>\n      <td>5.107302e-04</td>\n      <td>0.0</td>\n      <td>0.739335</td>\n      <td>2.606646e-01</td>\n      <td>0.0</td>\n      <td>0.0</td>\n      <td>1.0</td>\n      <td>0.0</td>\n      <td>1.0</td>\n      <td>0.0</td>\n      <td>1.0</td>\n      <td>0.0</td>\n      <td>1.0</td>\n      <td>0.0</td>\n      <td>1.000000</td>\n      <td>0.000000</td>\n      <td>0.0</td>\n      <td>0.0</td>\n      <td>0.0</td>\n      <td>0.0</td>\n      <td>0.0</td>\n      <td>0.0</td>\n      <td>0.0</td>\n      <td>0.0</td>\n      <td>0.000139</td>\n      <td>0.919273</td>\n      <td>0.080588</td>\n    </tr>\n    <tr>\n      <th>1658807157</th>\n      <td>6.945596e-07</td>\n      <td>0.065847</td>\n      <td>0.933430</td>\n      <td>7.226819e-04</td>\n      <td>0.0</td>\n      <td>0.725355</td>\n      <td>2.746454e-01</td>\n      <td>0.0</td>\n      <td>0.0</td>\n      <td>1.0</td>\n      <td>0.0</td>\n      <td>1.0</td>\n      <td>0.0</td>\n      <td>1.0</td>\n      <td>0.0</td>\n      <td>1.0</td>\n      <td>0.0</td>\n      <td>1.000000</td>\n      <td>0.000000</td>\n      <td>0.0</td>\n      <td>0.0</td>\n      <td>0.0</td>\n      <td>0.0</td>\n      <td>0.0</td>\n      <td>0.0</td>\n      <td>0.0</td>\n      <td>0.0</td>\n      <td>0.000132</td>\n      <td>0.919585</td>\n      <td>0.080283</td>\n    </tr>\n    <tr>\n      <th>1767182945</th>\n      <td>1.610090e-02</td>\n      <td>0.046835</td>\n      <td>0.931353</td>\n      <td>5.711349e-03</td>\n      <td>0.0</td>\n      <td>1.000000</td>\n      <td>9.618359e-12</td>\n      <td>0.0</td>\n      <td>0.0</td>\n      <td>1.0</td>\n      <td>0.0</td>\n      <td>1.0</td>\n      <td>0.0</td>\n      <td>1.0</td>\n      <td>0.0</td>\n      <td>1.0</td>\n      <td>0.0</td>\n      <td>0.154889</td>\n      <td>0.845111</td>\n      <td>0.0</td>\n      <td>0.0</td>\n      <td>0.0</td>\n      <td>0.0</td>\n      <td>0.0</td>\n      <td>0.0</td>\n      <td>0.0</td>\n      <td>0.0</td>\n      <td>0.262451</td>\n      <td>0.588087</td>\n      <td>0.149462</td>\n    </tr>\n    <tr>\n      <th>1767182949</th>\n      <td>1.540381e-02</td>\n      <td>0.041767</td>\n      <td>0.937130</td>\n      <td>5.699151e-03</td>\n      <td>0.0</td>\n      <td>1.000000</td>\n      <td>9.798594e-12</td>\n      <td>0.0</td>\n      <td>0.0</td>\n      <td>1.0</td>\n      <td>0.0</td>\n      <td>1.0</td>\n      <td>0.0</td>\n      <td>1.0</td>\n      <td>0.0</td>\n      <td>1.0</td>\n      <td>0.0</td>\n      <td>0.150707</td>\n      <td>0.849293</td>\n      <td>0.0</td>\n      <td>0.0</td>\n      <td>0.0</td>\n      <td>0.0</td>\n      <td>0.0</td>\n      <td>0.0</td>\n      <td>0.0</td>\n      <td>0.0</td>\n      <td>0.259083</td>\n      <td>0.592884</td>\n      <td>0.148034</td>\n    </tr>\n    <tr>\n      <th>2464104881</th>\n      <td>2.228876e-05</td>\n      <td>0.646947</td>\n      <td>0.353030</td>\n      <td>4.902454e-07</td>\n      <td>0.0</td>\n      <td>1.000000</td>\n      <td>9.634468e-12</td>\n      <td>0.0</td>\n      <td>0.0</td>\n      <td>1.0</td>\n      <td>0.0</td>\n      <td>1.0</td>\n      <td>0.0</td>\n      <td>1.0</td>\n      <td>0.0</td>\n      <td>1.0</td>\n      <td>0.0</td>\n      <td>1.000000</td>\n      <td>0.000000</td>\n      <td>0.0</td>\n      <td>0.0</td>\n      <td>0.0</td>\n      <td>0.0</td>\n      <td>0.0</td>\n      <td>0.0</td>\n      <td>0.0</td>\n      <td>0.0</td>\n      <td>0.278497</td>\n      <td>0.000018</td>\n      <td>0.721485</td>\n    </tr>\n    <tr>\n      <th>2464104885</th>\n      <td>2.163505e-05</td>\n      <td>0.627973</td>\n      <td>0.372005</td>\n      <td>4.758670e-07</td>\n      <td>0.0</td>\n      <td>1.000000</td>\n      <td>9.634468e-12</td>\n      <td>0.0</td>\n      <td>0.0</td>\n      <td>1.0</td>\n      <td>0.0</td>\n      <td>1.0</td>\n      <td>0.0</td>\n      <td>1.0</td>\n      <td>0.0</td>\n      <td>1.0</td>\n      <td>0.0</td>\n      <td>1.000000</td>\n      <td>0.000000</td>\n      <td>0.0</td>\n      <td>0.0</td>\n      <td>0.0</td>\n      <td>0.0</td>\n      <td>0.0</td>\n      <td>0.0</td>\n      <td>0.0</td>\n      <td>0.0</td>\n      <td>0.278497</td>\n      <td>0.000018</td>\n      <td>0.721485</td>\n    </tr>\n  </tbody>\n</table>\n</div>"
     },
     "execution_count": 15,
     "metadata": {},
     "output_type": "execute_result"
    }
   ],
   "source": [
    "nested_probs[0]"
   ],
   "metadata": {
    "collapsed": false,
    "pycharm": {
     "name": "#%%\n"
    }
   }
  },
  {
   "cell_type": "code",
   "execution_count": 16,
   "outputs": [
    {
     "data": {
      "text/plain": "            DRIVEALONEFREE  DRIVEALONEPAY   SHARED2FREE  SHARED2PAY  \\\ntrip_id                                                               \n8805121                0.0            0.0  0.000000e+00         0.0   \n8805125                0.0            0.0  0.000000e+00         0.0   \n8805126                0.0            0.0  0.000000e+00         0.0   \n468119921              0.0            0.0  0.000000e+00         0.0   \n468119922              0.0            0.0  0.000000e+00         0.0   \n468119925              0.0            0.0  0.000000e+00         0.0   \n468119926              0.0            0.0  0.000000e+00         0.0   \n468119927              0.0            0.0  0.000000e+00         0.0   \n468119928              0.0            0.0  0.000000e+00         0.0   \n642446345              0.0            0.0  4.882838e-03         0.0   \n642446349              0.0            0.0  3.622165e-03         0.0   \n1179608009             0.0            0.0  5.572746e-05         0.0   \n1179608013             0.0            0.0  1.108122e-05         0.0   \n1658807153             0.0            0.0  4.252415e-07         0.0   \n1658807157             0.0            0.0  5.038020e-07         0.0   \n1767182945             0.0            0.0  1.610090e-02         0.0   \n1767182949             0.0            0.0  1.540381e-02         0.0   \n2464104881             0.0            0.0  2.228876e-05         0.0   \n2464104885             0.0            0.0  2.163505e-05         0.0   \n\n             SHARED3FREE  SHARED3PAY      WALK  BIKE  WALK_LOC  WALK_LRF  \\\ntrip_id                                                                    \n8805121     0.000000e+00         0.0  1.000000   0.0  0.000000  0.000000   \n8805125     0.000000e+00         0.0  1.000000   0.0  0.000000  0.000000   \n8805126     0.000000e+00         0.0  1.000000   0.0  0.000000  0.000000   \n468119921   0.000000e+00         0.0  1.000000   0.0  0.000000  0.000000   \n468119922   0.000000e+00         0.0  0.999874   0.0  0.000000  0.000000   \n468119925   0.000000e+00         0.0  0.999875   0.0  0.000000  0.000000   \n468119926   0.000000e+00         0.0  1.000000   0.0  0.000000  0.000000   \n468119927   0.000000e+00         0.0  1.000000   0.0  0.000000  0.000000   \n468119928   0.000000e+00         0.0  1.000000   0.0  0.000000  0.000000   \n642446345   4.701403e-14         0.0  0.044905   0.0  0.059962  0.889736   \n642446349   3.950582e-14         0.0  0.043359   0.0  0.068362  0.884144   \n1179608009  1.964682e-05         0.0  0.969538   0.0  0.000000  0.000000   \n1179608013  7.469124e-06         0.0  0.969598   0.0  0.000000  0.000000   \n1658807153  1.499257e-07         0.0  0.048044   0.0  0.951445  0.000000   \n1658807157  1.907576e-07         0.0  0.065847   0.0  0.933430  0.000000   \n1767182945  1.548643e-13         0.0  0.046835   0.0  0.144256  0.787096   \n1767182949  1.509357e-13         0.0  0.041767   0.0  0.141232  0.795898   \n2464104881  2.147403e-16         0.0  0.646947   0.0  0.353030  0.000000   \n2464104885  2.084422e-16         0.0  0.627973   0.0  0.372005  0.000000   \n\n            WALK_EXP  WALK_HVY  WALK_COM  DRIVE_LOC  DRIVE_LRF  DRIVE_EXP  \\\ntrip_id                                                                     \n8805121          0.0       0.0       0.0        0.0        0.0        0.0   \n8805125          0.0       0.0       0.0        0.0        0.0        0.0   \n8805126          0.0       0.0       0.0        0.0        0.0        0.0   \n468119921        0.0       0.0       0.0        0.0        0.0        0.0   \n468119922        0.0       0.0       0.0        0.0        0.0        0.0   \n468119925        0.0       0.0       0.0        0.0        0.0        0.0   \n468119926        0.0       0.0       0.0        0.0        0.0        0.0   \n468119927        0.0       0.0       0.0        0.0        0.0        0.0   \n468119928        0.0       0.0       0.0        0.0        0.0        0.0   \n642446345        0.0       0.0       0.0        0.0        0.0        0.0   \n642446349        0.0       0.0       0.0        0.0        0.0        0.0   \n1179608009       0.0       0.0       0.0        0.0        0.0        0.0   \n1179608013       0.0       0.0       0.0        0.0        0.0        0.0   \n1658807153       0.0       0.0       0.0        0.0        0.0        0.0   \n1658807157       0.0       0.0       0.0        0.0        0.0        0.0   \n1767182945       0.0       0.0       0.0        0.0        0.0        0.0   \n1767182949       0.0       0.0       0.0        0.0        0.0        0.0   \n2464104881       0.0       0.0       0.0        0.0        0.0        0.0   \n2464104885       0.0       0.0       0.0        0.0        0.0        0.0   \n\n            DRIVE_HVY  DRIVE_COM          TAXI    TNC_SINGLE    TNC_SHARED  \ntrip_id                                                                     \n8805121           0.0        0.0  4.266799e-08  7.843494e-08  2.071998e-08  \n8805125           0.0        0.0  4.057327e-08  7.325707e-08  1.950799e-08  \n8805126           0.0        0.0  4.864169e-08  9.376443e-08  2.428075e-08  \n468119921         0.0        0.0  1.096638e-08  2.754998e-10  4.051502e-08  \n468119922         0.0        0.0  2.658716e-05  6.599176e-07  9.832967e-05  \n468119925         0.0        0.0  2.651144e-05  6.601311e-07  9.831370e-05  \n468119926         0.0        0.0  1.568041e-08  2.408144e-10  3.615344e-08  \n468119927         0.0        0.0  5.308505e-08  1.315547e-10  2.041405e-08  \n468119928         0.0        0.0  2.367465e-09  1.493582e-10  1.939597e-08  \n642446345         0.0        0.0  9.610763e-05  1.307549e-04  2.867554e-04  \n642446349         0.0        0.0  9.293281e-05  1.316643e-04  2.885385e-04  \n1179608009        0.0        0.0  5.225133e-06  2.766547e-02  2.716407e-03  \n1179608013        0.0        0.0  5.222635e-06  2.766274e-02  2.715479e-03  \n1658807153        0.0        0.0  7.091296e-08  4.695006e-04  4.115873e-05  \n1658807157        0.0        0.0  9.574501e-08  6.645671e-04  5.801899e-05  \n1767182945        0.0        0.0  1.498950e-03  3.358768e-03  8.536317e-04  \n1767182949        0.0        0.0  1.476552e-03  3.378934e-03  8.436653e-04  \n2464104881        0.0        0.0  1.365321e-07  8.764695e-12  3.537046e-07  \n2464104885        0.0        0.0  1.325277e-07  8.507634e-12  3.433307e-07  ",
      "text/html": "<div>\n<style scoped>\n    .dataframe tbody tr th:only-of-type {\n        vertical-align: middle;\n    }\n\n    .dataframe tbody tr th {\n        vertical-align: top;\n    }\n\n    .dataframe thead th {\n        text-align: right;\n    }\n</style>\n<table border=\"1\" class=\"dataframe\">\n  <thead>\n    <tr style=\"text-align: right;\">\n      <th></th>\n      <th>DRIVEALONEFREE</th>\n      <th>DRIVEALONEPAY</th>\n      <th>SHARED2FREE</th>\n      <th>SHARED2PAY</th>\n      <th>SHARED3FREE</th>\n      <th>SHARED3PAY</th>\n      <th>WALK</th>\n      <th>BIKE</th>\n      <th>WALK_LOC</th>\n      <th>WALK_LRF</th>\n      <th>WALK_EXP</th>\n      <th>WALK_HVY</th>\n      <th>WALK_COM</th>\n      <th>DRIVE_LOC</th>\n      <th>DRIVE_LRF</th>\n      <th>DRIVE_EXP</th>\n      <th>DRIVE_HVY</th>\n      <th>DRIVE_COM</th>\n      <th>TAXI</th>\n      <th>TNC_SINGLE</th>\n      <th>TNC_SHARED</th>\n    </tr>\n    <tr>\n      <th>trip_id</th>\n      <th></th>\n      <th></th>\n      <th></th>\n      <th></th>\n      <th></th>\n      <th></th>\n      <th></th>\n      <th></th>\n      <th></th>\n      <th></th>\n      <th></th>\n      <th></th>\n      <th></th>\n      <th></th>\n      <th></th>\n      <th></th>\n      <th></th>\n      <th></th>\n      <th></th>\n      <th></th>\n      <th></th>\n    </tr>\n  </thead>\n  <tbody>\n    <tr>\n      <th>8805121</th>\n      <td>0.0</td>\n      <td>0.0</td>\n      <td>0.000000e+00</td>\n      <td>0.0</td>\n      <td>0.000000e+00</td>\n      <td>0.0</td>\n      <td>1.000000</td>\n      <td>0.0</td>\n      <td>0.000000</td>\n      <td>0.000000</td>\n      <td>0.0</td>\n      <td>0.0</td>\n      <td>0.0</td>\n      <td>0.0</td>\n      <td>0.0</td>\n      <td>0.0</td>\n      <td>0.0</td>\n      <td>0.0</td>\n      <td>4.266799e-08</td>\n      <td>7.843494e-08</td>\n      <td>2.071998e-08</td>\n    </tr>\n    <tr>\n      <th>8805125</th>\n      <td>0.0</td>\n      <td>0.0</td>\n      <td>0.000000e+00</td>\n      <td>0.0</td>\n      <td>0.000000e+00</td>\n      <td>0.0</td>\n      <td>1.000000</td>\n      <td>0.0</td>\n      <td>0.000000</td>\n      <td>0.000000</td>\n      <td>0.0</td>\n      <td>0.0</td>\n      <td>0.0</td>\n      <td>0.0</td>\n      <td>0.0</td>\n      <td>0.0</td>\n      <td>0.0</td>\n      <td>0.0</td>\n      <td>4.057327e-08</td>\n      <td>7.325707e-08</td>\n      <td>1.950799e-08</td>\n    </tr>\n    <tr>\n      <th>8805126</th>\n      <td>0.0</td>\n      <td>0.0</td>\n      <td>0.000000e+00</td>\n      <td>0.0</td>\n      <td>0.000000e+00</td>\n      <td>0.0</td>\n      <td>1.000000</td>\n      <td>0.0</td>\n      <td>0.000000</td>\n      <td>0.000000</td>\n      <td>0.0</td>\n      <td>0.0</td>\n      <td>0.0</td>\n      <td>0.0</td>\n      <td>0.0</td>\n      <td>0.0</td>\n      <td>0.0</td>\n      <td>0.0</td>\n      <td>4.864169e-08</td>\n      <td>9.376443e-08</td>\n      <td>2.428075e-08</td>\n    </tr>\n    <tr>\n      <th>468119921</th>\n      <td>0.0</td>\n      <td>0.0</td>\n      <td>0.000000e+00</td>\n      <td>0.0</td>\n      <td>0.000000e+00</td>\n      <td>0.0</td>\n      <td>1.000000</td>\n      <td>0.0</td>\n      <td>0.000000</td>\n      <td>0.000000</td>\n      <td>0.0</td>\n      <td>0.0</td>\n      <td>0.0</td>\n      <td>0.0</td>\n      <td>0.0</td>\n      <td>0.0</td>\n      <td>0.0</td>\n      <td>0.0</td>\n      <td>1.096638e-08</td>\n      <td>2.754998e-10</td>\n      <td>4.051502e-08</td>\n    </tr>\n    <tr>\n      <th>468119922</th>\n      <td>0.0</td>\n      <td>0.0</td>\n      <td>0.000000e+00</td>\n      <td>0.0</td>\n      <td>0.000000e+00</td>\n      <td>0.0</td>\n      <td>0.999874</td>\n      <td>0.0</td>\n      <td>0.000000</td>\n      <td>0.000000</td>\n      <td>0.0</td>\n      <td>0.0</td>\n      <td>0.0</td>\n      <td>0.0</td>\n      <td>0.0</td>\n      <td>0.0</td>\n      <td>0.0</td>\n      <td>0.0</td>\n      <td>2.658716e-05</td>\n      <td>6.599176e-07</td>\n      <td>9.832967e-05</td>\n    </tr>\n    <tr>\n      <th>468119925</th>\n      <td>0.0</td>\n      <td>0.0</td>\n      <td>0.000000e+00</td>\n      <td>0.0</td>\n      <td>0.000000e+00</td>\n      <td>0.0</td>\n      <td>0.999875</td>\n      <td>0.0</td>\n      <td>0.000000</td>\n      <td>0.000000</td>\n      <td>0.0</td>\n      <td>0.0</td>\n      <td>0.0</td>\n      <td>0.0</td>\n      <td>0.0</td>\n      <td>0.0</td>\n      <td>0.0</td>\n      <td>0.0</td>\n      <td>2.651144e-05</td>\n      <td>6.601311e-07</td>\n      <td>9.831370e-05</td>\n    </tr>\n    <tr>\n      <th>468119926</th>\n      <td>0.0</td>\n      <td>0.0</td>\n      <td>0.000000e+00</td>\n      <td>0.0</td>\n      <td>0.000000e+00</td>\n      <td>0.0</td>\n      <td>1.000000</td>\n      <td>0.0</td>\n      <td>0.000000</td>\n      <td>0.000000</td>\n      <td>0.0</td>\n      <td>0.0</td>\n      <td>0.0</td>\n      <td>0.0</td>\n      <td>0.0</td>\n      <td>0.0</td>\n      <td>0.0</td>\n      <td>0.0</td>\n      <td>1.568041e-08</td>\n      <td>2.408144e-10</td>\n      <td>3.615344e-08</td>\n    </tr>\n    <tr>\n      <th>468119927</th>\n      <td>0.0</td>\n      <td>0.0</td>\n      <td>0.000000e+00</td>\n      <td>0.0</td>\n      <td>0.000000e+00</td>\n      <td>0.0</td>\n      <td>1.000000</td>\n      <td>0.0</td>\n      <td>0.000000</td>\n      <td>0.000000</td>\n      <td>0.0</td>\n      <td>0.0</td>\n      <td>0.0</td>\n      <td>0.0</td>\n      <td>0.0</td>\n      <td>0.0</td>\n      <td>0.0</td>\n      <td>0.0</td>\n      <td>5.308505e-08</td>\n      <td>1.315547e-10</td>\n      <td>2.041405e-08</td>\n    </tr>\n    <tr>\n      <th>468119928</th>\n      <td>0.0</td>\n      <td>0.0</td>\n      <td>0.000000e+00</td>\n      <td>0.0</td>\n      <td>0.000000e+00</td>\n      <td>0.0</td>\n      <td>1.000000</td>\n      <td>0.0</td>\n      <td>0.000000</td>\n      <td>0.000000</td>\n      <td>0.0</td>\n      <td>0.0</td>\n      <td>0.0</td>\n      <td>0.0</td>\n      <td>0.0</td>\n      <td>0.0</td>\n      <td>0.0</td>\n      <td>0.0</td>\n      <td>2.367465e-09</td>\n      <td>1.493582e-10</td>\n      <td>1.939597e-08</td>\n    </tr>\n    <tr>\n      <th>642446345</th>\n      <td>0.0</td>\n      <td>0.0</td>\n      <td>4.882838e-03</td>\n      <td>0.0</td>\n      <td>4.701403e-14</td>\n      <td>0.0</td>\n      <td>0.044905</td>\n      <td>0.0</td>\n      <td>0.059962</td>\n      <td>0.889736</td>\n      <td>0.0</td>\n      <td>0.0</td>\n      <td>0.0</td>\n      <td>0.0</td>\n      <td>0.0</td>\n      <td>0.0</td>\n      <td>0.0</td>\n      <td>0.0</td>\n      <td>9.610763e-05</td>\n      <td>1.307549e-04</td>\n      <td>2.867554e-04</td>\n    </tr>\n    <tr>\n      <th>642446349</th>\n      <td>0.0</td>\n      <td>0.0</td>\n      <td>3.622165e-03</td>\n      <td>0.0</td>\n      <td>3.950582e-14</td>\n      <td>0.0</td>\n      <td>0.043359</td>\n      <td>0.0</td>\n      <td>0.068362</td>\n      <td>0.884144</td>\n      <td>0.0</td>\n      <td>0.0</td>\n      <td>0.0</td>\n      <td>0.0</td>\n      <td>0.0</td>\n      <td>0.0</td>\n      <td>0.0</td>\n      <td>0.0</td>\n      <td>9.293281e-05</td>\n      <td>1.316643e-04</td>\n      <td>2.885385e-04</td>\n    </tr>\n    <tr>\n      <th>1179608009</th>\n      <td>0.0</td>\n      <td>0.0</td>\n      <td>5.572746e-05</td>\n      <td>0.0</td>\n      <td>1.964682e-05</td>\n      <td>0.0</td>\n      <td>0.969538</td>\n      <td>0.0</td>\n      <td>0.000000</td>\n      <td>0.000000</td>\n      <td>0.0</td>\n      <td>0.0</td>\n      <td>0.0</td>\n      <td>0.0</td>\n      <td>0.0</td>\n      <td>0.0</td>\n      <td>0.0</td>\n      <td>0.0</td>\n      <td>5.225133e-06</td>\n      <td>2.766547e-02</td>\n      <td>2.716407e-03</td>\n    </tr>\n    <tr>\n      <th>1179608013</th>\n      <td>0.0</td>\n      <td>0.0</td>\n      <td>1.108122e-05</td>\n      <td>0.0</td>\n      <td>7.469124e-06</td>\n      <td>0.0</td>\n      <td>0.969598</td>\n      <td>0.0</td>\n      <td>0.000000</td>\n      <td>0.000000</td>\n      <td>0.0</td>\n      <td>0.0</td>\n      <td>0.0</td>\n      <td>0.0</td>\n      <td>0.0</td>\n      <td>0.0</td>\n      <td>0.0</td>\n      <td>0.0</td>\n      <td>5.222635e-06</td>\n      <td>2.766274e-02</td>\n      <td>2.715479e-03</td>\n    </tr>\n    <tr>\n      <th>1658807153</th>\n      <td>0.0</td>\n      <td>0.0</td>\n      <td>4.252415e-07</td>\n      <td>0.0</td>\n      <td>1.499257e-07</td>\n      <td>0.0</td>\n      <td>0.048044</td>\n      <td>0.0</td>\n      <td>0.951445</td>\n      <td>0.000000</td>\n      <td>0.0</td>\n      <td>0.0</td>\n      <td>0.0</td>\n      <td>0.0</td>\n      <td>0.0</td>\n      <td>0.0</td>\n      <td>0.0</td>\n      <td>0.0</td>\n      <td>7.091296e-08</td>\n      <td>4.695006e-04</td>\n      <td>4.115873e-05</td>\n    </tr>\n    <tr>\n      <th>1658807157</th>\n      <td>0.0</td>\n      <td>0.0</td>\n      <td>5.038020e-07</td>\n      <td>0.0</td>\n      <td>1.907576e-07</td>\n      <td>0.0</td>\n      <td>0.065847</td>\n      <td>0.0</td>\n      <td>0.933430</td>\n      <td>0.000000</td>\n      <td>0.0</td>\n      <td>0.0</td>\n      <td>0.0</td>\n      <td>0.0</td>\n      <td>0.0</td>\n      <td>0.0</td>\n      <td>0.0</td>\n      <td>0.0</td>\n      <td>9.574501e-08</td>\n      <td>6.645671e-04</td>\n      <td>5.801899e-05</td>\n    </tr>\n    <tr>\n      <th>1767182945</th>\n      <td>0.0</td>\n      <td>0.0</td>\n      <td>1.610090e-02</td>\n      <td>0.0</td>\n      <td>1.548643e-13</td>\n      <td>0.0</td>\n      <td>0.046835</td>\n      <td>0.0</td>\n      <td>0.144256</td>\n      <td>0.787096</td>\n      <td>0.0</td>\n      <td>0.0</td>\n      <td>0.0</td>\n      <td>0.0</td>\n      <td>0.0</td>\n      <td>0.0</td>\n      <td>0.0</td>\n      <td>0.0</td>\n      <td>1.498950e-03</td>\n      <td>3.358768e-03</td>\n      <td>8.536317e-04</td>\n    </tr>\n    <tr>\n      <th>1767182949</th>\n      <td>0.0</td>\n      <td>0.0</td>\n      <td>1.540381e-02</td>\n      <td>0.0</td>\n      <td>1.509357e-13</td>\n      <td>0.0</td>\n      <td>0.041767</td>\n      <td>0.0</td>\n      <td>0.141232</td>\n      <td>0.795898</td>\n      <td>0.0</td>\n      <td>0.0</td>\n      <td>0.0</td>\n      <td>0.0</td>\n      <td>0.0</td>\n      <td>0.0</td>\n      <td>0.0</td>\n      <td>0.0</td>\n      <td>1.476552e-03</td>\n      <td>3.378934e-03</td>\n      <td>8.436653e-04</td>\n    </tr>\n    <tr>\n      <th>2464104881</th>\n      <td>0.0</td>\n      <td>0.0</td>\n      <td>2.228876e-05</td>\n      <td>0.0</td>\n      <td>2.147403e-16</td>\n      <td>0.0</td>\n      <td>0.646947</td>\n      <td>0.0</td>\n      <td>0.353030</td>\n      <td>0.000000</td>\n      <td>0.0</td>\n      <td>0.0</td>\n      <td>0.0</td>\n      <td>0.0</td>\n      <td>0.0</td>\n      <td>0.0</td>\n      <td>0.0</td>\n      <td>0.0</td>\n      <td>1.365321e-07</td>\n      <td>8.764695e-12</td>\n      <td>3.537046e-07</td>\n    </tr>\n    <tr>\n      <th>2464104885</th>\n      <td>0.0</td>\n      <td>0.0</td>\n      <td>2.163505e-05</td>\n      <td>0.0</td>\n      <td>2.084422e-16</td>\n      <td>0.0</td>\n      <td>0.627973</td>\n      <td>0.0</td>\n      <td>0.372005</td>\n      <td>0.000000</td>\n      <td>0.0</td>\n      <td>0.0</td>\n      <td>0.0</td>\n      <td>0.0</td>\n      <td>0.0</td>\n      <td>0.0</td>\n      <td>0.0</td>\n      <td>0.0</td>\n      <td>1.325277e-07</td>\n      <td>8.507634e-12</td>\n      <td>3.433307e-07</td>\n    </tr>\n  </tbody>\n</table>\n</div>"
     },
     "execution_count": 16,
     "metadata": {},
     "output_type": "execute_result"
    }
   ],
   "source": [
    "base_probs[0]"
   ],
   "metadata": {
    "collapsed": false,
    "pycharm": {
     "name": "#%%\n"
    }
   }
  },
  {
   "cell_type": "code",
   "execution_count": null,
   "outputs": [],
   "source": [
    "# for later: this seems to be a non-driving segment - grab workers or something later?\n",
    "# for now: implement a run with seeding so I can reproduce these counts"
   ],
   "metadata": {
    "collapsed": false,
    "pycharm": {
     "name": "#%%\n"
    }
   }
  },
  {
   "cell_type": "markdown",
   "source": [],
   "metadata": {
    "collapsed": false
   }
  },
  {
   "cell_type": "code",
   "execution_count": null,
   "outputs": [],
   "source": [],
   "metadata": {
    "collapsed": false,
    "pycharm": {
     "name": "#%%\n"
    }
   }
  },
  {
   "cell_type": "code",
   "execution_count": null,
   "outputs": [],
   "source": [],
   "metadata": {
    "collapsed": false,
    "pycharm": {
     "name": "#%%\n"
    }
   }
  },
  {
   "cell_type": "code",
   "execution_count": null,
   "outputs": [],
   "source": [],
   "metadata": {
    "collapsed": false,
    "pycharm": {
     "name": "#%%\n"
    }
   }
  },
  {
   "cell_type": "code",
   "execution_count": null,
   "outputs": [],
   "source": [],
   "metadata": {
    "collapsed": false,
    "pycharm": {
     "name": "#%%\n"
    }
   }
  },
  {
   "cell_type": "code",
   "execution_count": 453,
   "id": "806ce752-0927-4d5b-a6cc-68d6c9b8a05e",
   "metadata": {
    "execution": {
     "iopub.execute_input": "2021-09-01T04:55:59.542669Z",
     "iopub.status.busy": "2021-09-01T04:55:59.542360Z",
     "iopub.status.idle": "2021-09-01T04:55:59.771722Z",
     "shell.execute_reply": "2021-09-01T04:55:59.770801Z",
     "shell.execute_reply.started": "2021-09-01T04:55:59.542615Z"
    },
    "tags": []
   },
   "outputs": [],
   "source": [
    "def simple_simulate_probabilities(trips_segment, spec, nest_spec, locals_d, estimator, tr_label, log_alt_losers, trace_column_names):\n",
    "    trace_label = tracing.extend_trace_label(tr_label, 'eval_nl')\n",
    "    logit.validate_nest_spec(nest_spec, trace_label)\n",
    "    raw_utilities = simulate.eval_utilities(spec, trips_segment, locals_d,\n",
    "                                   log_alt_losers=log_alt_losers,\n",
    "                                   trace_label=trace_label, have_trace_targets=False,\n",
    "                                   estimator=estimator, trace_column_names=trace_column_names)\n",
    "    nested_exp_utilities = simulate.compute_nested_exp_utilities(raw_utilities, nest_spec)\n",
    "    nested_probabilities = \\\n",
    "        simulate.compute_nested_probabilities(nested_exp_utilities, nest_spec, trace_label=trace_label)\n",
    "    # global (flattened) leaf probabilities based on relative nest coefficients (in spec order)\n",
    "    base_probabilities = simulate.compute_base_probabilities(nested_probabilities, nest_spec, spec)    \n",
    "    return base_probabilities\n",
    "#simple_simulate_probabilities(trips_segment, spec, nest_spec, locals_dict, estimator, tr_label, log_alt_losers, trace_column_names)"
   ]
  },
  {
   "cell_type": "code",
   "execution_count": 454,
   "id": "74eeedd3-4ade-4729-8170-79fa9dcf11f8",
   "metadata": {
    "execution": {
     "iopub.execute_input": "2021-09-01T04:58:52.825042Z",
     "iopub.status.busy": "2021-09-01T04:58:52.824768Z",
     "iopub.status.idle": "2021-09-01T04:58:53.042884Z",
     "shell.execute_reply": "2021-09-01T04:58:53.042061Z",
     "shell.execute_reply.started": "2021-09-01T04:58:52.825004Z"
    }
   },
   "outputs": [],
   "source": [
    "## caculate probabilities with Asim methodology, should be correct\n",
    "def gimme_probabilities(trips_merged, model_settings, constants, skims, model_spec, nest_spec, estimator, logsum_column_name, mode_column_name, \n",
    "          trace_label=None, log_alt_losers=None, trace_column_names=None):\n",
    "    full_probs = []  # analytical probs\n",
    "\n",
    "    for primary_purpose, trips_segment in trips_merged.groupby('primary_purpose'):\n",
    "        #print(\"trip_mode_choice tour_type '%s' (%s trips)\" %\n",
    "        #            (primary_purpose, len(trips_segment.index), ))\n",
    "        # name index so tracing knows how to slice\n",
    "        assert trips_segment.index.name == 'trip_id'\n",
    "\n",
    "        coefficients = simulate.get_segment_coefficients(model_settings, primary_purpose)\n",
    "\n",
    "        locals_dict = {}\n",
    "        locals_dict.update(constants)\n",
    "        locals_dict.update(coefficients)\n",
    "\n",
    "        segment_trace_label = tracing.extend_trace_label(trace_label, primary_purpose)\n",
    "\n",
    "        expressions.annotate_preprocessors(\n",
    "            trips_segment, locals_dict, skims,\n",
    "            model_settings, segment_trace_label)\n",
    "\n",
    "        locals_dict.update(skims)\n",
    "\n",
    "        spec=simulate.eval_coefficients(model_spec, coefficients, estimator)\n",
    "        nest_spec = simulate.eval_nest_coefficients(nest_spec, coefficients, segment_trace_label)\n",
    "        #choices = simple_simulate_rum(trips_segment, spec, nest_spec, locals_dict, estimator, \n",
    "        #                              segment_trace_label, log_alt_losers=log_alt_losers, \n",
    "        #                              trace_column_names=trace_column_names, seed=seed)\n",
    "        probs = simple_simulate_probabilities(trips_segment, spec, nest_spec, locals_dict, \n",
    "                                              estimator, segment_trace_label, log_alt_losers, \n",
    "                                              trace_column_names)\n",
    "        full_probs.append(probs)\n",
    "    probs_df = pd.concat(full_probs)\n",
    "    return probs_df\n"
   ]
  },
  {
   "cell_type": "code",
   "execution_count": 455,
   "id": "295a4fd1-8e85-47e2-af82-9f1beac31d63",
   "metadata": {
    "execution": {
     "iopub.execute_input": "2021-09-01T04:59:46.126555Z",
     "iopub.status.busy": "2021-09-01T04:59:46.126262Z",
     "iopub.status.idle": "2021-09-01T04:59:52.979908Z",
     "shell.execute_reply": "2021-09-01T04:59:52.979043Z",
     "shell.execute_reply.started": "2021-09-01T04:59:46.126522Z"
    },
    "tags": []
   },
   "outputs": [
    {
     "name": "stderr",
     "output_type": "stream",
     "text": [
      "register joint_tour_participants: no rows with household_id in [982875].\n",
      "estimation bundle trip_mode_choice not in settings file estimation.yaml\n"
     ]
    },
    {
     "name": "stdout",
     "output_type": "stream",
     "text": [
      "2021-09-01 14:59:46.353007 Start\n",
      "2021-09-01 14:59:52.976736 End\n"
     ]
    }
   ],
   "source": [
    "print(f\"{datetime.now()} Start\")\n",
    "pipeline.open_pipeline(resume_after)\n",
    "inject.get_injectable('preload_injectables', None)\n",
    "model_name = \"trip_mode_choice\"\n",
    "pipeline._PIPELINE.rng().begin_step(model_name)\n",
    "\n",
    "step_name = model_name\n",
    "args = {}\n",
    "checkpoint = pipeline.intermediate_checkpoint(model_name)\n",
    "inject.set_step_args(args)\n",
    "\n",
    "trips = inject.get_table('trips')\n",
    "tours_merged = inject.get_table('tours_merged')\n",
    "network_los = inject.get_injectable('network_los')\n",
    "chunk_size = 0\n",
    "\n",
    "trace_label = 'trip_mode_choice'\n",
    "model_settings_file_name = 'trip_mode_choice.yaml'\n",
    "model_settings = config.read_model_settings(model_settings_file_name)\n",
    "\n",
    "logsum_column_name = model_settings.get('MODE_CHOICE_LOGSUM_COLUMN_NAME')\n",
    "mode_column_name = 'trip_mode'\n",
    "trips_df = trips.to_frame()\n",
    "#print(\"Running with %d trips\", trips_df.shape[0])\n",
    "tours_merged = tours_merged.to_frame()\n",
    "tours_merged = tours_merged[model_settings['TOURS_MERGED_CHOOSER_COLUMNS']]\n",
    "# - trips_merged - merge trips and tours_merged\n",
    "trips_merged = pd.merge(\n",
    "    trips_df,\n",
    "    tours_merged,\n",
    "    left_on='tour_id',\n",
    "    right_index=True,\n",
    "    how=\"left\")\n",
    "assert trips_merged.index.equals(trips.index)\n",
    "\n",
    "# setup skim keys\n",
    "assert ('trip_period' not in trips_merged)\n",
    "trips_merged['trip_period'] = network_los.skim_time_period_label(trips_merged.depart)\n",
    "\n",
    "orig_col = 'origin'\n",
    "dest_col = 'destination'\n",
    "\n",
    "constants = {}\n",
    "constants.update(config.get_model_constants(model_settings))\n",
    "constants.update({\n",
    "    'ORIGIN': orig_col,\n",
    "    'DESTINATION': dest_col\n",
    "})\n",
    "\n",
    "skim_dict = network_los.get_default_skim_dict()\n",
    "\n",
    "odt_skim_stack_wrapper = skim_dict.wrap_3d(orig_key=orig_col, dest_key=dest_col,\n",
    "                                           dim3_key='trip_period')\n",
    "dot_skim_stack_wrapper = skim_dict.wrap_3d(orig_key=dest_col, dest_key=orig_col,\n",
    "                                           dim3_key='trip_period')\n",
    "od_skim_wrapper = skim_dict.wrap('origin', 'destination')\n",
    "\n",
    "skims = {\n",
    "    \"odt_skims\": odt_skim_stack_wrapper,\n",
    "    \"dot_skims\": dot_skim_stack_wrapper,\n",
    "    \"od_skims\": od_skim_wrapper,\n",
    "}\n",
    "\n",
    "model_spec = simulate.read_model_spec(file_name=model_settings['SPEC'])\n",
    "nest_spec = config.get_logit_model_settings(model_settings)\n",
    "\n",
    "estimator = estimation.manager.begin_estimation('trip_mode_choice')\n",
    "\n",
    "\n",
    "all_choices = []\n",
    "for i in range(100):\n",
    "    if i % 10 == 0:\n",
    "        print(f\"{datetime.now()} iteration {i}\")\n",
    "    choices_df = stuff(trips_merged, model_settings, constants, skims, model_spec, nest_spec, estimator, logsum_column_name, mode_column_name, \n",
    "              trace_label=trace_label, log_alt_losers=None, trace_column_names=None, seed=None)\n",
    "    all_choices.append(choices_df)\n",
    "all_choices = pd.concat(all_choices, axis=1)\n",
    "\n",
    "probs_nl = gimme_probabilities(trips_merged, model_settings, constants, skims, model_spec, nest_spec,\n",
    "                               estimator, logsum_column_name, mode_column_name,trace_label=trace_label, \n",
    "                               log_alt_losers=None, trace_column_names=None)\n",
    "\n",
    "# update trips table with choices (and potionally logssums)\n",
    "#trips_df = trips.to_frame()\n",
    "#\n",
    "#assign_in_place(trips_df, choices_df)\n",
    "#assert not trips_df[mode_column_name].isnull().any()\n",
    "\n",
    "\n",
    "finalise = True\n",
    "if finalise:\n",
    "    inject.set_step_args(None)\n",
    "    #\n",
    "    pipeline._PIPELINE.rng().end_step(model_name)\n",
    "    pipeline.add_checkpoint(model_name)\n",
    "    if not pipeline.intermediate_checkpoint():\n",
    "        pipeline.add_checkpoint(pipeline.FINAL_CHECKPOINT_NAME)\n",
    "\n",
    "    pipeline.close_pipeline()\n",
    "\n",
    "print(f\"{datetime.now()} End\")"
   ]
  },
  {
   "cell_type": "code",
   "execution_count": 463,
   "id": "dc87e904-16d1-44d4-81b7-cafbe4e223c3",
   "metadata": {
    "execution": {
     "iopub.execute_input": "2021-09-01T05:01:40.901982Z",
     "iopub.status.busy": "2021-09-01T05:01:40.901759Z",
     "iopub.status.idle": "2021-09-01T05:01:41.337758Z",
     "shell.execute_reply": "2021-09-01T05:01:41.336757Z",
     "shell.execute_reply.started": "2021-09-01T05:01:40.901946Z"
    },
    "tags": []
   },
   "outputs": [],
   "source": [
    "#all_choices.merge(choices_df_asim[['trip_mode']].rename(columns={'trip_mode': 'asim'}), left_index=True, right_index=True)\n",
    "val_counts = all_choices.apply(lambda x: x.value_counts(), axis=1).fillna(0)\n",
    "val_counts = val_counts / all_choices.shape[1]\n",
    "#val_counts = val_counts.merge(choices_df_asim[['trip_mode']].rename(columns={'trip_mode': 'asim'}), left_index=True, right_index=True)\n",
    "#val_counts['prob_of_asim_choice'] = val_counts.apply(lambda x: x[x.asim], axis=1)  # this is what our simulation says w.r.t. to asim choice\n",
    "# for 100% and many samples should mostly agree"
   ]
  },
  {
   "cell_type": "code",
   "execution_count": 464,
   "id": "09bf151c-a39a-4823-acfd-9c8ae747c338",
   "metadata": {
    "execution": {
     "iopub.execute_input": "2021-09-01T05:01:46.119117Z",
     "iopub.status.busy": "2021-09-01T05:01:46.118849Z",
     "iopub.status.idle": "2021-09-01T05:01:46.354114Z",
     "shell.execute_reply": "2021-09-01T05:01:46.353248Z",
     "shell.execute_reply.started": "2021-09-01T05:01:46.119092Z"
    },
    "tags": []
   },
   "outputs": [],
   "source": [
    "#val_counts['prob_of_asim_choice'].hist(bins=100);"
   ]
  },
  {
   "cell_type": "code",
   "execution_count": 490,
   "id": "f3b6ade9-d875-4104-b438-b53ef42e342c",
   "metadata": {
    "execution": {
     "iopub.execute_input": "2021-09-01T05:10:08.653227Z",
     "iopub.status.busy": "2021-09-01T05:10:08.652978Z",
     "iopub.status.idle": "2021-09-01T05:10:08.915620Z",
     "shell.execute_reply": "2021-09-01T05:10:08.914513Z",
     "shell.execute_reply.started": "2021-09-01T05:10:08.653189Z"
    },
    "tags": []
   },
   "outputs": [
    {
     "data": {
      "text/html": [
       "<div>\n",
       "<style scoped>\n",
       "    .dataframe tbody tr th:only-of-type {\n",
       "        vertical-align: middle;\n",
       "    }\n",
       "\n",
       "    .dataframe tbody tr th {\n",
       "        vertical-align: top;\n",
       "    }\n",
       "\n",
       "    .dataframe thead th {\n",
       "        text-align: right;\n",
       "    }\n",
       "</style>\n",
       "<table border=\"1\" class=\"dataframe\">\n",
       "  <thead>\n",
       "    <tr style=\"text-align: right;\">\n",
       "      <th></th>\n",
       "      <th>BIKE</th>\n",
       "      <th>DRIVEALONEFREE</th>\n",
       "      <th>DRIVEALONEPAY</th>\n",
       "      <th>DRIVE_COM</th>\n",
       "      <th>DRIVE_EXP</th>\n",
       "      <th>DRIVE_HVY</th>\n",
       "      <th>DRIVE_LOC</th>\n",
       "      <th>DRIVE_LRF</th>\n",
       "      <th>SHARED2FREE</th>\n",
       "      <th>SHARED2PAY</th>\n",
       "      <th>SHARED3FREE</th>\n",
       "      <th>SHARED3PAY</th>\n",
       "      <th>TAXI</th>\n",
       "      <th>TNC_SHARED</th>\n",
       "      <th>TNC_SINGLE</th>\n",
       "      <th>WALK</th>\n",
       "      <th>WALK_COM</th>\n",
       "      <th>WALK_EXP</th>\n",
       "      <th>WALK_HVY</th>\n",
       "      <th>WALK_LOC</th>\n",
       "      <th>WALK_LRF</th>\n",
       "    </tr>\n",
       "  </thead>\n",
       "  <tbody>\n",
       "    <tr>\n",
       "      <th>analytical</th>\n",
       "      <td>3.152</td>\n",
       "      <td>0.852</td>\n",
       "      <td>0.0</td>\n",
       "      <td>0.0</td>\n",
       "      <td>0.0</td>\n",
       "      <td>0.0</td>\n",
       "      <td>0.0</td>\n",
       "      <td>0.0</td>\n",
       "      <td>0.685</td>\n",
       "      <td>0.0</td>\n",
       "      <td>0.129</td>\n",
       "      <td>0.0</td>\n",
       "      <td>0.182</td>\n",
       "      <td>0.260</td>\n",
       "      <td>1.334</td>\n",
       "      <td>63.708</td>\n",
       "      <td>0.0</td>\n",
       "      <td>0.0</td>\n",
       "      <td>0.455</td>\n",
       "      <td>18.355</td>\n",
       "      <td>10.887</td>\n",
       "    </tr>\n",
       "    <tr>\n",
       "      <th>experiment</th>\n",
       "      <td>3.243</td>\n",
       "      <td>0.880</td>\n",
       "      <td>0.0</td>\n",
       "      <td>0.0</td>\n",
       "      <td>0.0</td>\n",
       "      <td>0.0</td>\n",
       "      <td>0.0</td>\n",
       "      <td>0.0</td>\n",
       "      <td>0.772</td>\n",
       "      <td>0.0</td>\n",
       "      <td>0.156</td>\n",
       "      <td>0.0</td>\n",
       "      <td>0.174</td>\n",
       "      <td>0.259</td>\n",
       "      <td>1.434</td>\n",
       "      <td>63.243</td>\n",
       "      <td>0.0</td>\n",
       "      <td>0.0</td>\n",
       "      <td>0.394</td>\n",
       "      <td>18.639</td>\n",
       "      <td>10.807</td>\n",
       "    </tr>\n",
       "  </tbody>\n",
       "</table>\n",
       "</div>"
      ],
      "text/plain": [
       "             BIKE  DRIVEALONEFREE  DRIVEALONEPAY  DRIVE_COM  DRIVE_EXP  \\\n",
       "analytical  3.152           0.852            0.0        0.0        0.0   \n",
       "experiment  3.243           0.880            0.0        0.0        0.0   \n",
       "\n",
       "            DRIVE_HVY  DRIVE_LOC  DRIVE_LRF  SHARED2FREE  SHARED2PAY  \\\n",
       "analytical        0.0        0.0        0.0        0.685         0.0   \n",
       "experiment        0.0        0.0        0.0        0.772         0.0   \n",
       "\n",
       "            SHARED3FREE  SHARED3PAY   TAXI  TNC_SHARED  TNC_SINGLE    WALK  \\\n",
       "analytical        0.129         0.0  0.182       0.260       1.334  63.708   \n",
       "experiment        0.156         0.0  0.174       0.259       1.434  63.243   \n",
       "\n",
       "            WALK_COM  WALK_EXP  WALK_HVY  WALK_LOC  WALK_LRF  \n",
       "analytical       0.0       0.0     0.455    18.355    10.887  \n",
       "experiment       0.0       0.0     0.394    18.639    10.807  "
      ]
     },
     "metadata": {},
     "output_type": "display_data"
    }
   ],
   "source": [
    "mode_share_analytical = (probs_nl.sum(axis=0) / probs_nl.shape[0]).to_frame('analytical')\n",
    "assert np.allclose(mode_share_analytical.sum(), 1)\n",
    "mode_share_rum = (val_counts.sum(axis=0) / val_counts.shape[0]).to_frame('experiment')\n",
    "assert np.allclose(mode_share_rum.sum(), 1)\n",
    "full_share = mode_share_analytical.join(mode_share_rum, how='outer').fillna(0)\n",
    "with pd.option_context(\"precision\", 3):\n",
    "    display((100.0 * full_share).T)"
   ]
  },
  {
   "cell_type": "code",
   "execution_count": null,
   "id": "7e48a56e-d613-4dfd-bef6-62bee524f12f",
   "metadata": {},
   "outputs": [],
   "source": []
  },
  {
   "cell_type": "code",
   "execution_count": null,
   "id": "50914e1d-750d-440c-9617-f96bd2a46c56",
   "metadata": {},
   "outputs": [],
   "source": []
  },
  {
   "cell_type": "code",
   "execution_count": null,
   "id": "f2d70e0e-520e-49a6-8024-ae31345f6ead",
   "metadata": {},
   "outputs": [],
   "source": []
  },
  {
   "cell_type": "markdown",
   "id": "f9e8ef02-1d57-4b21-8aef-25a6e1095c02",
   "metadata": {},
   "source": [
    "### try zenith normalisation of simple_simulate_rum"
   ]
  },
  {
   "cell_type": "code",
   "execution_count": 629,
   "id": "db235e90-d2e5-4e90-b41c-6d90a670e41d",
   "metadata": {
    "execution": {
     "iopub.execute_input": "2021-09-01T11:37:24.045881Z",
     "iopub.status.busy": "2021-09-01T11:37:24.045637Z",
     "iopub.status.idle": "2021-09-01T11:37:24.276488Z",
     "shell.execute_reply": "2021-09-01T11:37:24.274898Z",
     "shell.execute_reply.started": "2021-09-01T11:37:24.045844Z"
    },
    "tags": []
   },
   "outputs": [],
   "source": [
    "# TODO: work out if our formulation and formulation belowi s equivalent.\n",
    "def compute_nested_utilities_zenith(raw_utilities, nest_spec):\n",
    "    nested_utilities = pd.DataFrame(index=raw_utilities.index)\n",
    "    for nest in logit.each_nest(nest_spec, post_order=True):\n",
    "        name = nest.name\n",
    "        if nest.is_leaf:\n",
    "            nested_utilities[name] = \\\n",
    "                raw_utilities[name].astype(float) # / nest.product_of_coefficients  #coefficient\n",
    "        else:\n",
    "            with np.errstate(divide='ignore'):\n",
    "                nested_utilities[name] = \\\n",
    "                    nest.coefficient * np.log(np.exp(nested_utilities[nest.alternatives] / nest.coefficient).sum(axis=1))\n",
    "                \n",
    "    # now go over all leaves and correct for scale\n",
    "    for nest in logit.each_nest(nest_spec, post_order=True):\n",
    "        name = nest.name\n",
    "        if nest.is_leaf:\n",
    "            nested_utilities[name] /= nest.coefficient\n",
    "    \n",
    "    return nested_utilities\n",
    "\n",
    "\n",
    "def simple_simulate_rum_zenith(trips_segment, spec, nest_spec, locals_d, estimator, tr_label, log_alt_losers, trace_column_names, custom_chooser=None, seed=None):\n",
    "    trace_label = tracing.extend_trace_label(tr_label, 'eval_nl')\n",
    "    logit.validate_nest_spec(nest_spec, trace_label)\n",
    "    raw_utilities = simulate.eval_utilities(spec, trips_segment, locals_d,\n",
    "                                   log_alt_losers=log_alt_losers,\n",
    "                                   trace_label=trace_label, have_trace_targets=False,\n",
    "                                   estimator=estimator, trace_column_names=trace_column_names)\n",
    "\n",
    "    utils_df = compute_nested_utilities_zenith(raw_utilities, nest_spec)\n",
    "\n",
    "    nests_ = list(logit.each_nest(nest_spec))\n",
    "    # group nests by level:\n",
    "    depth = np.max([x.level for x in nests_])\n",
    "    nest_levels = {x: [] for x in range(1, depth+1)}\n",
    "    for n in nests_:\n",
    "        nest_levels[n.level].append(n.name)\n",
    "    assert len(nest_levels[1]) == 1\n",
    "    assert nest_levels[1][0] == 'root'\n",
    "    # make choices\n",
    "    choices = make_choice(utils_df, nests_, nest_levels, seed)\n",
    "\n",
    "    return choices\n",
    "\n",
    "#simple_simulate_rum_zenith(trips_segment, spec, nest_spec, locals_dict, estimator, tr_label, log_alt_losers, trace_column_names, seed=1233974)"
   ]
  },
  {
   "cell_type": "code",
   "execution_count": 630,
   "id": "f69bc3dc-84e4-4dd5-9a57-c053cadba4b5",
   "metadata": {
    "execution": {
     "iopub.execute_input": "2021-09-01T11:37:24.828926Z",
     "iopub.status.busy": "2021-09-01T11:37:24.828707Z",
     "iopub.status.idle": "2021-09-01T11:37:25.046409Z",
     "shell.execute_reply": "2021-09-01T11:37:25.045399Z",
     "shell.execute_reply.started": "2021-09-01T11:37:24.828902Z"
    },
    "tags": []
   },
   "outputs": [],
   "source": [
    "def stuff_zenith(trips_merged, model_settings, constants, skims, model_spec, nest_spec, estimator, logsum_column_name, mode_column_name, \n",
    "          trace_label=None, log_alt_losers=None, trace_column_names=None, seed=None):\n",
    "    choices_list = []\n",
    "    for primary_purpose, trips_segment in trips_merged.groupby('primary_purpose'):\n",
    "        #print(\"trip_mode_choice tour_type '%s' (%s trips)\" %\n",
    "        #            (primary_purpose, len(trips_segment.index), ))\n",
    "        # name index so tracing knows how to slice\n",
    "        assert trips_segment.index.name == 'trip_id'\n",
    "\n",
    "        coefficients = simulate.get_segment_coefficients(model_settings, primary_purpose)\n",
    "\n",
    "        locals_dict = {}\n",
    "        locals_dict.update(constants)\n",
    "        locals_dict.update(coefficients)\n",
    "\n",
    "        segment_trace_label = tracing.extend_trace_label(trace_label, primary_purpose)\n",
    "\n",
    "        expressions.annotate_preprocessors(\n",
    "            trips_segment, locals_dict, skims,\n",
    "            model_settings, segment_trace_label)\n",
    "\n",
    "        locals_dict.update(skims)\n",
    "\n",
    "        spec=simulate.eval_coefficients(model_spec, coefficients, estimator)\n",
    "        nest_spec = simulate.eval_nest_coefficients(nest_spec, coefficients, segment_trace_label)\n",
    "        choices = simple_simulate_rum_zenith(trips_segment, spec, nest_spec, locals_dict, estimator, \n",
    "                                      segment_trace_label, log_alt_losers=log_alt_losers, \n",
    "                                      trace_column_names=trace_column_names, seed=seed)\n",
    "\n",
    "        # for consistency, always return dataframe, whether or not logsums were requested\n",
    "        if isinstance(choices, pd.Series):\n",
    "            choices = choices.to_frame('choice')\n",
    "        choices.rename(columns={'logsum': logsum_column_name,\n",
    "                                'choice': mode_column_name},\n",
    "                       inplace=True)\n",
    "        choices_list.append(choices)\n",
    "\n",
    "    choices_df = pd.concat(choices_list)\n",
    "    return choices_df"
   ]
  },
  {
   "cell_type": "code",
   "execution_count": 631,
   "id": "8c4f4fb1-c4fb-4a05-9be4-8b9d7f25d1e6",
   "metadata": {
    "execution": {
     "iopub.execute_input": "2021-09-01T11:37:32.250808Z",
     "iopub.status.busy": "2021-09-01T11:37:32.250548Z",
     "iopub.status.idle": "2021-09-01T20:20:35.257463Z",
     "shell.execute_reply": "2021-09-01T20:20:35.255964Z",
     "shell.execute_reply.started": "2021-09-01T11:37:32.250782Z"
    },
    "tags": []
   },
   "outputs": [],
   "source": [
    "num_samples = 10\n",
    "\n",
    "rng_test = default_rng(23423)\n",
    "\n",
    "print(f\"{datetime.now()} Start\")\n",
    "pipeline.open_pipeline(resume_after)\n",
    "inject.get_injectable('preload_injectables', None)\n",
    "model_name = \"trip_mode_choice\"\n",
    "pipeline._PIPELINE.rng().begin_step(model_name)\n",
    "\n",
    "step_name = model_name\n",
    "args = {}\n",
    "checkpoint = pipeline.intermediate_checkpoint(model_name)\n",
    "inject.set_step_args(args)\n",
    "\n",
    "trips = inject.get_table('trips')\n",
    "tours_merged = inject.get_table('tours_merged')\n",
    "network_los = inject.get_injectable('network_los')\n",
    "chunk_size = 0\n",
    "\n",
    "trace_label = 'trip_mode_choice'\n",
    "model_settings_file_name = 'trip_mode_choice.yaml'\n",
    "model_settings = config.read_model_settings(model_settings_file_name)\n",
    "\n",
    "logsum_column_name = model_settings.get('MODE_CHOICE_LOGSUM_COLUMN_NAME')\n",
    "mode_column_name = 'trip_mode'\n",
    "trips_df = trips.to_frame()\n",
    "#print(\"Running with %d trips\", trips_df.shape[0])\n",
    "tours_merged = tours_merged.to_frame()\n",
    "tours_merged = tours_merged[model_settings['TOURS_MERGED_CHOOSER_COLUMNS']]\n",
    "# - trips_merged - merge trips and tours_merged\n",
    "trips_merged = pd.merge(\n",
    "    trips_df,\n",
    "    tours_merged,\n",
    "    left_on='tour_id',\n",
    "    right_index=True,\n",
    "    how=\"left\")\n",
    "assert trips_merged.index.equals(trips.index)\n",
    "\n",
    "# setup skim keys\n",
    "assert ('trip_period' not in trips_merged)\n",
    "trips_merged['trip_period'] = network_los.skim_time_period_label(trips_merged.depart)\n",
    "\n",
    "orig_col = 'origin'\n",
    "dest_col = 'destination'\n",
    "\n",
    "constants = {}\n",
    "constants.update(config.get_model_constants(model_settings))\n",
    "constants.update({\n",
    "    'ORIGIN': orig_col,\n",
    "    'DESTINATION': dest_col\n",
    "})\n",
    "\n",
    "skim_dict = network_los.get_default_skim_dict()\n",
    "odt_skim_stack_wrapper = skim_dict.wrap_3d(orig_key=orig_col, dest_key=dest_col,\n",
    "                                           dim3_key='trip_period')\n",
    "dot_skim_stack_wrapper = skim_dict.wrap_3d(orig_key=dest_col, dest_key=orig_col,\n",
    "                                           dim3_key='trip_period')\n",
    "od_skim_wrapper = skim_dict.wrap('origin', 'destination')\n",
    "skims = {\n",
    "    \"odt_skims\": odt_skim_stack_wrapper,\n",
    "    \"dot_skims\": dot_skim_stack_wrapper,\n",
    "    \"od_skims\": od_skim_wrapper,\n",
    "}\n",
    "model_spec = simulate.read_model_spec(file_name=model_settings['SPEC'])\n",
    "nest_spec = config.get_logit_model_settings(model_settings)\n",
    "estimator = estimation.manager.begin_estimation('trip_mode_choice')\n",
    "\n",
    "all_choices_zenith = []\n",
    "all_choices = []\n",
    "for i in range(num_samples):\n",
    "    \n",
    "    seed = rng_test.integers(0, 100000) #int(9.3 * (i+1)**3)  # why not\n",
    "    \n",
    "    if i % 50 == 0:\n",
    "        print(f\"{datetime.now()} iteration {i}\")\n",
    "    choices_df_zenith = stuff_zenith(trips_merged, model_settings, constants, skims, model_spec, nest_spec, estimator, logsum_column_name, mode_column_name, \n",
    "              trace_label=trace_label, log_alt_losers=None, trace_column_names=None, seed=seed)\n",
    "    all_choices_zenith.append(choices_df_zenith)\n",
    "\n",
    "    choices_df = stuff(trips_merged, model_settings, constants, skims, model_spec, nest_spec, estimator, logsum_column_name, mode_column_name, \n",
    "          trace_label=trace_label, log_alt_losers=None, trace_column_names=None, seed=seed)\n",
    "    all_choices.append(choices_df)\n",
    "    \n",
    "    t_ = choices_df_zenith.merge(choices_df, left_index=True, right_index=True, suffixes=['_zenith', '_asim'])\n",
    "    diffs = t_.loc[t_.trip_mode_zenith != t_.trip_mode_asim]\n",
    "    \n",
    "    #print(f\"seed {seed} leads to {diffs.shape[0]} differences. tripids {diffs.index}\")\n",
    "\n",
    "all_choices_zenith = pd.concat(all_choices_zenith, axis=1)\n",
    "all_choices = pd.concat(all_choices, axis=1)\n",
    "\n",
    "probs_nl = gimme_probabilities(trips_merged, model_settings, constants, skims, model_spec, nest_spec,\n",
    "                               estimator, logsum_column_name, mode_column_name,trace_label=trace_label, \n",
    "                               log_alt_losers=None, trace_column_names=None)\n",
    "\n",
    "finalise = True\n",
    "if finalise:\n",
    "    inject.set_step_args(None)\n",
    "    #\n",
    "    pipeline._PIPELINE.rng().end_step(model_name)\n",
    "    pipeline.add_checkpoint(model_name)\n",
    "    if not pipeline.intermediate_checkpoint():\n",
    "        pipeline.add_checkpoint(pipeline.FINAL_CHECKPOINT_NAME)\n",
    "\n",
    "    pipeline.close_pipeline()\n",
    "\n",
    "print(f\"{datetime.now()} End\")"
   ]
  },
  {
   "cell_type": "code",
   "execution_count": 643,
   "id": "3abd7949-dc9c-469b-845e-26c17741f70e",
   "metadata": {
    "execution": {
     "iopub.execute_input": "2021-09-01T20:33:21.533110Z",
     "iopub.status.busy": "2021-09-01T20:33:21.531915Z",
     "iopub.status.idle": "2021-09-01T20:33:21.740946Z",
     "shell.execute_reply": "2021-09-01T20:33:21.739713Z",
     "shell.execute_reply.started": "2021-09-01T20:33:21.533074Z"
    },
    "tags": []
   },
   "outputs": [
    {
     "name": "stdout",
     "output_type": "stream",
     "text": [
      "Have 2038 samples\n"
     ]
    }
   ],
   "source": [
    "print(f\"Have {all_choices_zenith.shape[1]} samples\")"
   ]
  },
  {
   "cell_type": "code",
   "execution_count": 633,
   "id": "8762bd6d-ac04-458c-869f-be86d8297351",
   "metadata": {
    "execution": {
     "iopub.execute_input": "2021-09-01T20:21:27.778803Z",
     "iopub.status.busy": "2021-09-01T20:21:27.778531Z",
     "iopub.status.idle": "2021-09-01T20:21:28.675645Z",
     "shell.execute_reply": "2021-09-01T20:21:28.674734Z",
     "shell.execute_reply.started": "2021-09-01T20:21:27.778754Z"
    },
    "tags": []
   },
   "outputs": [],
   "source": [
    "val_counts_zenith = all_choices_zenith.apply(lambda x: x.value_counts(), axis=1).fillna(0)\n",
    "val_counts_zenith = val_counts_zenith / all_choices_zenith.shape[1]\n",
    "\n",
    "val_counts = all_choices.apply(lambda x: x.value_counts(), axis=1).fillna(0)\n",
    "val_counts = val_counts / all_choices.shape[1]"
   ]
  },
  {
   "cell_type": "code",
   "execution_count": 634,
   "id": "0f566105-9424-457b-86f5-d60c1d63aac5",
   "metadata": {
    "execution": {
     "iopub.execute_input": "2021-09-01T20:21:30.954894Z",
     "iopub.status.busy": "2021-09-01T20:21:30.954654Z",
     "iopub.status.idle": "2021-09-01T20:21:31.179689Z",
     "shell.execute_reply": "2021-09-01T20:21:31.178304Z",
     "shell.execute_reply.started": "2021-09-01T20:21:30.954867Z"
    },
    "tags": []
   },
   "outputs": [
    {
     "data": {
      "text/html": [
       "<div>\n",
       "<style scoped>\n",
       "    .dataframe tbody tr th:only-of-type {\n",
       "        vertical-align: middle;\n",
       "    }\n",
       "\n",
       "    .dataframe tbody tr th {\n",
       "        vertical-align: top;\n",
       "    }\n",
       "\n",
       "    .dataframe thead th {\n",
       "        text-align: right;\n",
       "    }\n",
       "</style>\n",
       "<table border=\"1\" class=\"dataframe\">\n",
       "  <thead>\n",
       "    <tr style=\"text-align: right;\">\n",
       "      <th></th>\n",
       "      <th>BIKE</th>\n",
       "      <th>DRIVEALONEFREE</th>\n",
       "      <th>DRIVEALONEPAY</th>\n",
       "      <th>DRIVE_COM</th>\n",
       "      <th>DRIVE_EXP</th>\n",
       "      <th>DRIVE_HVY</th>\n",
       "      <th>DRIVE_LOC</th>\n",
       "      <th>DRIVE_LRF</th>\n",
       "      <th>SHARED2FREE</th>\n",
       "      <th>SHARED2PAY</th>\n",
       "      <th>SHARED3FREE</th>\n",
       "      <th>SHARED3PAY</th>\n",
       "      <th>TAXI</th>\n",
       "      <th>TNC_SHARED</th>\n",
       "      <th>TNC_SINGLE</th>\n",
       "      <th>WALK</th>\n",
       "      <th>WALK_COM</th>\n",
       "      <th>WALK_EXP</th>\n",
       "      <th>WALK_HVY</th>\n",
       "      <th>WALK_LOC</th>\n",
       "      <th>WALK_LRF</th>\n",
       "    </tr>\n",
       "  </thead>\n",
       "  <tbody>\n",
       "    <tr>\n",
       "      <th>analytical</th>\n",
       "      <td>3.152</td>\n",
       "      <td>0.852</td>\n",
       "      <td>0.0</td>\n",
       "      <td>0.0</td>\n",
       "      <td>0.0</td>\n",
       "      <td>0.0</td>\n",
       "      <td>0.0</td>\n",
       "      <td>0.0</td>\n",
       "      <td>0.685</td>\n",
       "      <td>0.0</td>\n",
       "      <td>0.129</td>\n",
       "      <td>0.0</td>\n",
       "      <td>0.182</td>\n",
       "      <td>0.260</td>\n",
       "      <td>1.334</td>\n",
       "      <td>63.708</td>\n",
       "      <td>0.0</td>\n",
       "      <td>0.0</td>\n",
       "      <td>0.455</td>\n",
       "      <td>18.355</td>\n",
       "      <td>10.887</td>\n",
       "    </tr>\n",
       "    <tr>\n",
       "      <th>experiment</th>\n",
       "      <td>3.243</td>\n",
       "      <td>0.880</td>\n",
       "      <td>0.0</td>\n",
       "      <td>0.0</td>\n",
       "      <td>0.0</td>\n",
       "      <td>0.0</td>\n",
       "      <td>0.0</td>\n",
       "      <td>0.0</td>\n",
       "      <td>0.772</td>\n",
       "      <td>0.0</td>\n",
       "      <td>0.156</td>\n",
       "      <td>0.0</td>\n",
       "      <td>0.174</td>\n",
       "      <td>0.259</td>\n",
       "      <td>1.434</td>\n",
       "      <td>63.243</td>\n",
       "      <td>0.0</td>\n",
       "      <td>0.0</td>\n",
       "      <td>0.394</td>\n",
       "      <td>18.639</td>\n",
       "      <td>10.807</td>\n",
       "    </tr>\n",
       "    <tr>\n",
       "      <th>experiment_zenith</th>\n",
       "      <td>3.150</td>\n",
       "      <td>0.874</td>\n",
       "      <td>0.0</td>\n",
       "      <td>0.0</td>\n",
       "      <td>0.0</td>\n",
       "      <td>0.0</td>\n",
       "      <td>0.0</td>\n",
       "      <td>0.0</td>\n",
       "      <td>0.680</td>\n",
       "      <td>0.0</td>\n",
       "      <td>0.136</td>\n",
       "      <td>0.0</td>\n",
       "      <td>0.154</td>\n",
       "      <td>0.236</td>\n",
       "      <td>1.285</td>\n",
       "      <td>63.767</td>\n",
       "      <td>0.0</td>\n",
       "      <td>0.0</td>\n",
       "      <td>0.515</td>\n",
       "      <td>18.824</td>\n",
       "      <td>10.379</td>\n",
       "    </tr>\n",
       "  </tbody>\n",
       "</table>\n",
       "</div>"
      ],
      "text/plain": [
       "                    BIKE  DRIVEALONEFREE  DRIVEALONEPAY  DRIVE_COM  DRIVE_EXP  \\\n",
       "analytical         3.152           0.852            0.0        0.0        0.0   \n",
       "experiment         3.243           0.880            0.0        0.0        0.0   \n",
       "experiment_zenith  3.150           0.874            0.0        0.0        0.0   \n",
       "\n",
       "                   DRIVE_HVY  DRIVE_LOC  DRIVE_LRF  SHARED2FREE  SHARED2PAY  \\\n",
       "analytical               0.0        0.0        0.0        0.685         0.0   \n",
       "experiment               0.0        0.0        0.0        0.772         0.0   \n",
       "experiment_zenith        0.0        0.0        0.0        0.680         0.0   \n",
       "\n",
       "                   SHARED3FREE  SHARED3PAY   TAXI  TNC_SHARED  TNC_SINGLE  \\\n",
       "analytical               0.129         0.0  0.182       0.260       1.334   \n",
       "experiment               0.156         0.0  0.174       0.259       1.434   \n",
       "experiment_zenith        0.136         0.0  0.154       0.236       1.285   \n",
       "\n",
       "                     WALK  WALK_COM  WALK_EXP  WALK_HVY  WALK_LOC  WALK_LRF  \n",
       "analytical         63.708       0.0       0.0     0.455    18.355    10.887  \n",
       "experiment         63.243       0.0       0.0     0.394    18.639    10.807  \n",
       "experiment_zenith  63.767       0.0       0.0     0.515    18.824    10.379  "
      ]
     },
     "metadata": {},
     "output_type": "display_data"
    }
   ],
   "source": [
    "mode_share_rum_zenith = (val_counts_zenith.sum(axis=0) / val_counts_zenith.shape[0]).to_frame('experiment_zenith')\n",
    "assert np.allclose(mode_share_rum_zenith.sum(), 1)\n",
    "full_share_incl_zenith = full_share.merge(mode_share_rum_zenith, left_index=True, right_index=True, how='outer').fillna(0)\n",
    "with pd.option_context(\"precision\", 3):\n",
    "    display((100.0 * full_share_incl_zenith).T)"
   ]
  },
  {
   "cell_type": "code",
   "execution_count": null,
   "id": "5c0d3081-b45b-4573-9246-e4a9d39591dd",
   "metadata": {},
   "outputs": [],
   "source": []
  },
  {
   "cell_type": "markdown",
   "id": "612b2f04-45e2-4eb2-b52a-9f753427877f",
   "metadata": {},
   "source": [
    "## investigate diverging seed and look at diff in formulation"
   ]
  },
  {
   "cell_type": "code",
   "execution_count": 619,
   "id": "ac09dc75-a92f-43fb-a0cd-fe7de1f8b66d",
   "metadata": {
    "execution": {
     "iopub.execute_input": "2021-09-01T11:12:02.988141Z",
     "iopub.status.busy": "2021-09-01T11:12:02.987900Z",
     "iopub.status.idle": "2021-09-01T11:12:03.212179Z",
     "shell.execute_reply": "2021-09-01T11:12:03.210993Z",
     "shell.execute_reply.started": "2021-09-01T11:12:02.988102Z"
    },
    "tags": []
   },
   "outputs": [],
   "source": [
    "# TODO: work out if our formulation and formulation based on asim probabilities is equivalent\n",
    "def compute_nested_utilities_asim(raw_utilities, nest_spec):\n",
    "    nested_utilities = pd.DataFrame(index=raw_utilities.index)\n",
    "    for nest in logit.each_nest(nest_spec, post_order=True):\n",
    "        name = nest.name\n",
    "        if nest.is_leaf:\n",
    "            nested_utilities[name] = \\\n",
    "                raw_utilities[name].astype(float) / nest.product_of_coefficients\n",
    "        else:\n",
    "            with np.errstate(divide='ignore'):\n",
    "                nested_utilities[name] = \\\n",
    "                    nest.coefficient * np.log(np.exp(nested_utilities[nest.alternatives]).sum(axis=1))\n",
    "    return nested_utilities\n",
    "\n",
    "def compute_nested_utilities_zenith_check(raw_utilities, nest_spec):\n",
    "    nested_utilities = pd.DataFrame(index=raw_utilities.index)\n",
    "    for nest in logit.each_nest(nest_spec, post_order=True):\n",
    "        name = nest.name\n",
    "        if nest.is_leaf:\n",
    "            nested_utilities[name] = \\\n",
    "                raw_utilities[name].astype(float)  # scale correction is below\n",
    "        else:\n",
    "            with np.errstate(divide='ignore'):\n",
    "                nested_utilities[name] = \\\n",
    "                    nest.coefficient * np.log(np.exp(nested_utilities[nest.alternatives] / nest.coefficient).sum(axis=1))\n",
    "                \n",
    "    # now go over all leaves and correct for scale\n",
    "    for nest in logit.each_nest(nest_spec):\n",
    "        name = nest.name\n",
    "        if nest.is_leaf:\n",
    "            nested_utilities[name] /= nest.coefficient\n",
    "    \n",
    "    return nested_utilities"
   ]
  },
  {
   "cell_type": "code",
   "execution_count": 688,
   "id": "4b7c6368-21ca-4442-969e-f2f8ff868842",
   "metadata": {
    "execution": {
     "iopub.execute_input": "2021-09-01T20:49:56.958862Z",
     "iopub.status.busy": "2021-09-01T20:49:56.958623Z",
     "iopub.status.idle": "2021-09-01T20:49:57.191884Z",
     "shell.execute_reply": "2021-09-01T20:49:57.190975Z",
     "shell.execute_reply.started": "2021-09-01T20:49:56.958827Z"
    },
    "tags": []
   },
   "outputs": [],
   "source": [
    "def simple_simulate_rum_zenith_check(trips_segment, spec, nest_spec, locals_d, estimator, tr_label, log_alt_losers, trace_column_names, custom_chooser=None, seed=None, use_zenith=True, raw_utilities=None):\n",
    "    trace_label = tracing.extend_trace_label(tr_label, 'eval_nl')\n",
    "    logit.validate_nest_spec(nest_spec, trace_label)\n",
    "    \n",
    "    if raw_utilities is None:\n",
    "        raw_utilities = simulate.eval_utilities(spec, trips_segment, locals_d,\n",
    "                                       log_alt_losers=log_alt_losers,\n",
    "                                       trace_label=trace_label, have_trace_targets=False,\n",
    "                                       estimator=estimator, trace_column_names=trace_column_names)\n",
    "\n",
    "    if use_zenith:\n",
    "        utils_df = compute_nested_utilities_zenith_check(raw_utilities, nest_spec)\n",
    "    else:\n",
    "        utils_df = compute_nested_utilities_asim(raw_utilities, nest_spec)\n",
    "\n",
    "    # test\n",
    "    #return compute_nested_utilities_zenith_check(raw_utilities, nest_spec), compute_nested_utilities_asim(raw_utilities, nest_spec)\n",
    "        \n",
    "    nests_ = list(logit.each_nest(nest_spec))\n",
    "    # group nests by level:\n",
    "    depth = np.max([x.level for x in nests_])\n",
    "    nest_levels = {x: [] for x in range(1, depth+1)}\n",
    "    for n in nests_:\n",
    "        nest_levels[n.level].append(n.name)\n",
    "    assert len(nest_levels[1]) == 1\n",
    "    assert nest_levels[1][0] == 'root'\n",
    "    # make choices\n",
    "    choices = make_choice(utils_df, nests_, nest_levels, seed)\n",
    "\n",
    "    return choices"
   ]
  },
  {
   "cell_type": "code",
   "execution_count": 626,
   "id": "bd6cadc3-79f5-4824-b55e-639c39d5ab18",
   "metadata": {
    "execution": {
     "iopub.execute_input": "2021-09-01T11:13:12.077886Z",
     "iopub.status.busy": "2021-09-01T11:13:12.077652Z",
     "iopub.status.idle": "2021-09-01T11:13:12.290222Z",
     "shell.execute_reply": "2021-09-01T11:13:12.288861Z",
     "shell.execute_reply.started": "2021-09-01T11:13:12.077863Z"
    },
    "tags": []
   },
   "outputs": [],
   "source": [
    "# t_z, t_a = simple_simulate_rum_zenith_check(trips_segment, spec, nest_spec, locals_dict, estimator, tr_label, log_alt_losers, trace_column_names, seed=seed)\n",
    "# tr_id = 86673661\n",
    "# display(t_z.loc[t_z.index==tr_id])\n",
    "# display(t_a.loc[t_a.index==tr_id])"
   ]
  },
  {
   "cell_type": "code",
   "execution_count": 625,
   "id": "42e6da62-58e8-4b16-9169-9faa1fc8a162",
   "metadata": {
    "execution": {
     "iopub.execute_input": "2021-09-01T11:13:06.847583Z",
     "iopub.status.busy": "2021-09-01T11:13:06.847204Z",
     "iopub.status.idle": "2021-09-01T11:13:08.401700Z",
     "shell.execute_reply": "2021-09-01T11:13:08.400711Z",
     "shell.execute_reply.started": "2021-09-01T11:13:06.847554Z"
    },
    "tags": []
   },
   "outputs": [
    {
     "name": "stdout",
     "output_type": "stream",
     "text": [
      "seed 51006 leads to 34 differences out of 168. tripids Int64Index([  86673657,   86673661,  106741681,  106741682,  106741685,\n",
      "             106741686,  106741687,  106741688,  211327433,  211327437,\n",
      "             444793574,  484173905,  484173909,  535170694,  535620053,\n",
      "             708171014,  943749470,  943749471, 1060575853, 1091770617,\n",
      "            1146472489, 1146472493, 1276281769, 1276281773, 1658748793,\n",
      "            1658748797, 1767013726, 1767186577, 1767186578, 1768237161,\n",
      "            1768237165, 1768237166, 2463663417, 2463663421],\n",
      "           dtype='int64', name='trip_id')\n"
     ]
    }
   ],
   "source": [
    "seed = 51006\n",
    "x_ = simple_simulate_rum_zenith_check(trips_segment, spec, nest_spec, locals_dict, estimator, tr_label, log_alt_losers, trace_column_names, seed=seed, use_zenith=True)\n",
    "y_ = simple_simulate_rum_zenith_check(trips_segment, spec, nest_spec, locals_dict, estimator, tr_label, log_alt_losers, trace_column_names, seed=seed, use_zenith=False)\n",
    "t_ = x_.to_frame('trip_mode_zenith').merge(y_.to_frame('trip_mode_asim'), left_index=True, right_index=True)\n",
    "diffs = t_.loc[t_.trip_mode_zenith != t_.trip_mode_asim]\n",
    "print(f\"seed {seed} leads to {diffs.shape[0]} differences out of {t_.shape[0]}. tripids {diffs.index}\")"
   ]
  },
  {
   "cell_type": "code",
   "execution_count": null,
   "id": "2f3c0506-a79d-4a31-9d56-71b9966d0a92",
   "metadata": {},
   "outputs": [],
   "source": [
    "seed 51006 leads to 3 differences. tripids Int64Index([86673661, 535170689, 1060575849], dtype='int64', name='trip_id')\n"
   ]
  },
  {
   "cell_type": "code",
   "execution_count": null,
   "id": "1a5f332a-b1d7-4a80-bb21-d37a1611cf9f",
   "metadata": {},
   "outputs": [],
   "source": []
  },
  {
   "cell_type": "code",
   "execution_count": null,
   "id": "24c5e4a1-6142-49d4-8da8-a1e266b3cb9b",
   "metadata": {},
   "outputs": [],
   "source": []
  },
  {
   "cell_type": "code",
   "execution_count": 753,
   "id": "2098907f-28af-4f53-af74-6aaee8a6c53c",
   "metadata": {
    "execution": {
     "iopub.execute_input": "2021-09-01T23:04:23.861048Z",
     "iopub.status.busy": "2021-09-01T23:04:23.860748Z",
     "iopub.status.idle": "2021-09-01T23:04:24.069307Z",
     "shell.execute_reply": "2021-09-01T23:04:24.068434Z",
     "shell.execute_reply.started": "2021-09-01T23:04:23.861024Z"
    },
    "tags": []
   },
   "outputs": [],
   "source": [
    "rng_ = default_rng(seed=100)\n",
    "new_utils = pd.DataFrame(0.1 * -np.log(-np.log(rng_.uniform(0,1,raw_utilities.shape))), columns=raw_utilities.columns)\n",
    "new_utils.index = raw_utilities.index"
   ]
  },
  {
   "cell_type": "code",
   "execution_count": 767,
   "id": "da48a178-82b2-44a5-b45a-e9de3bb5e5c2",
   "metadata": {
    "execution": {
     "iopub.execute_input": "2021-09-01T23:17:20.369675Z",
     "iopub.status.busy": "2021-09-01T23:17:20.369424Z",
     "iopub.status.idle": "2021-09-01T23:17:20.666506Z",
     "shell.execute_reply": "2021-09-01T23:17:20.665626Z",
     "shell.execute_reply.started": "2021-09-01T23:17:20.369637Z"
    },
    "tags": []
   },
   "outputs": [
    {
     "data": {
      "text/html": [
       "<div>\n",
       "<style scoped>\n",
       "    .dataframe tbody tr th:only-of-type {\n",
       "        vertical-align: middle;\n",
       "    }\n",
       "\n",
       "    .dataframe tbody tr th {\n",
       "        vertical-align: top;\n",
       "    }\n",
       "\n",
       "    .dataframe thead th {\n",
       "        text-align: right;\n",
       "    }\n",
       "</style>\n",
       "<table border=\"1\" class=\"dataframe\">\n",
       "  <thead>\n",
       "    <tr style=\"text-align: right;\">\n",
       "      <th></th>\n",
       "      <th>DRIVEALONEFREE</th>\n",
       "      <th>DRIVEALONEPAY</th>\n",
       "      <th>SHARED2FREE</th>\n",
       "      <th>SHARED2PAY</th>\n",
       "      <th>SHARED3FREE</th>\n",
       "      <th>SHARED3PAY</th>\n",
       "      <th>WALK</th>\n",
       "      <th>BIKE</th>\n",
       "      <th>WALK_LOC</th>\n",
       "      <th>WALK_LRF</th>\n",
       "      <th>WALK_EXP</th>\n",
       "      <th>WALK_HVY</th>\n",
       "      <th>WALK_COM</th>\n",
       "      <th>DRIVE_LOC</th>\n",
       "      <th>DRIVE_LRF</th>\n",
       "      <th>DRIVE_EXP</th>\n",
       "      <th>DRIVE_HVY</th>\n",
       "      <th>DRIVE_COM</th>\n",
       "      <th>TAXI</th>\n",
       "      <th>TNC_SINGLE</th>\n",
       "      <th>TNC_SHARED</th>\n",
       "    </tr>\n",
       "    <tr>\n",
       "      <th>trip_id</th>\n",
       "      <th></th>\n",
       "      <th></th>\n",
       "      <th></th>\n",
       "      <th></th>\n",
       "      <th></th>\n",
       "      <th></th>\n",
       "      <th></th>\n",
       "      <th></th>\n",
       "      <th></th>\n",
       "      <th></th>\n",
       "      <th></th>\n",
       "      <th></th>\n",
       "      <th></th>\n",
       "      <th></th>\n",
       "      <th></th>\n",
       "      <th></th>\n",
       "      <th></th>\n",
       "      <th></th>\n",
       "      <th></th>\n",
       "      <th></th>\n",
       "      <th></th>\n",
       "    </tr>\n",
       "  </thead>\n",
       "  <tbody>\n",
       "    <tr>\n",
       "      <th>137248721</th>\n",
       "      <td>0.056642</td>\n",
       "      <td>0.037305</td>\n",
       "      <td>0.042780</td>\n",
       "      <td>0.029576</td>\n",
       "      <td>0.086154</td>\n",
       "      <td>0.026586</td>\n",
       "      <td>0.088313</td>\n",
       "      <td>0.100331</td>\n",
       "      <td>0.028021</td>\n",
       "      <td>0.018516</td>\n",
       "      <td>0.064391</td>\n",
       "      <td>0.020009</td>\n",
       "      <td>0.026399</td>\n",
       "      <td>0.022622</td>\n",
       "      <td>0.023007</td>\n",
       "      <td>0.021754</td>\n",
       "      <td>0.087126</td>\n",
       "      <td>0.021171</td>\n",
       "      <td>0.036475</td>\n",
       "      <td>0.027650</td>\n",
       "      <td>0.135171</td>\n",
       "    </tr>\n",
       "    <tr>\n",
       "      <th>137248725</th>\n",
       "      <td>0.101902</td>\n",
       "      <td>0.022876</td>\n",
       "      <td>0.031227</td>\n",
       "      <td>0.069990</td>\n",
       "      <td>0.056913</td>\n",
       "      <td>0.046685</td>\n",
       "      <td>0.088411</td>\n",
       "      <td>0.087785</td>\n",
       "      <td>0.025414</td>\n",
       "      <td>0.038162</td>\n",
       "      <td>0.023988</td>\n",
       "      <td>0.028800</td>\n",
       "      <td>0.039318</td>\n",
       "      <td>0.020160</td>\n",
       "      <td>0.048364</td>\n",
       "      <td>0.023003</td>\n",
       "      <td>0.033959</td>\n",
       "      <td>0.034597</td>\n",
       "      <td>0.037708</td>\n",
       "      <td>0.099523</td>\n",
       "      <td>0.041213</td>\n",
       "    </tr>\n",
       "    <tr>\n",
       "      <th>211388201</th>\n",
       "      <td>0.037562</td>\n",
       "      <td>0.070033</td>\n",
       "      <td>0.055951</td>\n",
       "      <td>0.040389</td>\n",
       "      <td>0.020041</td>\n",
       "      <td>0.095974</td>\n",
       "      <td>0.094678</td>\n",
       "      <td>0.094368</td>\n",
       "      <td>0.036014</td>\n",
       "      <td>0.025051</td>\n",
       "      <td>0.034860</td>\n",
       "      <td>0.034953</td>\n",
       "      <td>0.035499</td>\n",
       "      <td>0.028040</td>\n",
       "      <td>0.043650</td>\n",
       "      <td>0.024713</td>\n",
       "      <td>0.031388</td>\n",
       "      <td>0.025931</td>\n",
       "      <td>0.066999</td>\n",
       "      <td>0.052678</td>\n",
       "      <td>0.051228</td>\n",
       "    </tr>\n",
       "    <tr>\n",
       "      <th>211388205</th>\n",
       "      <td>0.035480</td>\n",
       "      <td>0.056256</td>\n",
       "      <td>0.043944</td>\n",
       "      <td>0.048085</td>\n",
       "      <td>0.042078</td>\n",
       "      <td>0.062221</td>\n",
       "      <td>0.106819</td>\n",
       "      <td>0.087265</td>\n",
       "      <td>0.035117</td>\n",
       "      <td>0.030399</td>\n",
       "      <td>0.035154</td>\n",
       "      <td>0.026469</td>\n",
       "      <td>0.050646</td>\n",
       "      <td>0.035727</td>\n",
       "      <td>0.024284</td>\n",
       "      <td>0.032905</td>\n",
       "      <td>0.039427</td>\n",
       "      <td>0.041092</td>\n",
       "      <td>0.054714</td>\n",
       "      <td>0.048459</td>\n",
       "      <td>0.063458</td>\n",
       "    </tr>\n",
       "    <tr>\n",
       "      <th>806388401</th>\n",
       "      <td>0.054918</td>\n",
       "      <td>0.040488</td>\n",
       "      <td>0.033149</td>\n",
       "      <td>0.054294</td>\n",
       "      <td>0.043477</td>\n",
       "      <td>0.067982</td>\n",
       "      <td>0.152465</td>\n",
       "      <td>0.074152</td>\n",
       "      <td>0.033404</td>\n",
       "      <td>0.028735</td>\n",
       "      <td>0.059269</td>\n",
       "      <td>0.024339</td>\n",
       "      <td>0.036968</td>\n",
       "      <td>0.027760</td>\n",
       "      <td>0.023522</td>\n",
       "      <td>0.060932</td>\n",
       "      <td>0.023445</td>\n",
       "      <td>0.023931</td>\n",
       "      <td>0.044643</td>\n",
       "      <td>0.033773</td>\n",
       "      <td>0.058353</td>\n",
       "    </tr>\n",
       "    <tr>\n",
       "      <th>806388405</th>\n",
       "      <td>0.032764</td>\n",
       "      <td>0.057301</td>\n",
       "      <td>0.018437</td>\n",
       "      <td>0.077099</td>\n",
       "      <td>0.046963</td>\n",
       "      <td>0.063521</td>\n",
       "      <td>0.094951</td>\n",
       "      <td>0.089072</td>\n",
       "      <td>0.030826</td>\n",
       "      <td>0.037896</td>\n",
       "      <td>0.035752</td>\n",
       "      <td>0.019878</td>\n",
       "      <td>0.049536</td>\n",
       "      <td>0.079610</td>\n",
       "      <td>0.026922</td>\n",
       "      <td>0.024833</td>\n",
       "      <td>0.024840</td>\n",
       "      <td>0.026695</td>\n",
       "      <td>0.079936</td>\n",
       "      <td>0.040146</td>\n",
       "      <td>0.043022</td>\n",
       "    </tr>\n",
       "  </tbody>\n",
       "</table>\n",
       "</div>"
      ],
      "text/plain": [
       "           DRIVEALONEFREE  DRIVEALONEPAY  SHARED2FREE  SHARED2PAY  \\\n",
       "trip_id                                                             \n",
       "137248721        0.056642       0.037305     0.042780    0.029576   \n",
       "137248725        0.101902       0.022876     0.031227    0.069990   \n",
       "211388201        0.037562       0.070033     0.055951    0.040389   \n",
       "211388205        0.035480       0.056256     0.043944    0.048085   \n",
       "806388401        0.054918       0.040488     0.033149    0.054294   \n",
       "806388405        0.032764       0.057301     0.018437    0.077099   \n",
       "\n",
       "           SHARED3FREE  SHARED3PAY      WALK      BIKE  WALK_LOC  WALK_LRF  \\\n",
       "trip_id                                                                      \n",
       "137248721     0.086154    0.026586  0.088313  0.100331  0.028021  0.018516   \n",
       "137248725     0.056913    0.046685  0.088411  0.087785  0.025414  0.038162   \n",
       "211388201     0.020041    0.095974  0.094678  0.094368  0.036014  0.025051   \n",
       "211388205     0.042078    0.062221  0.106819  0.087265  0.035117  0.030399   \n",
       "806388401     0.043477    0.067982  0.152465  0.074152  0.033404  0.028735   \n",
       "806388405     0.046963    0.063521  0.094951  0.089072  0.030826  0.037896   \n",
       "\n",
       "           WALK_EXP  WALK_HVY  WALK_COM  DRIVE_LOC  DRIVE_LRF  DRIVE_EXP  \\\n",
       "trip_id                                                                    \n",
       "137248721  0.064391  0.020009  0.026399   0.022622   0.023007   0.021754   \n",
       "137248725  0.023988  0.028800  0.039318   0.020160   0.048364   0.023003   \n",
       "211388201  0.034860  0.034953  0.035499   0.028040   0.043650   0.024713   \n",
       "211388205  0.035154  0.026469  0.050646   0.035727   0.024284   0.032905   \n",
       "806388401  0.059269  0.024339  0.036968   0.027760   0.023522   0.060932   \n",
       "806388405  0.035752  0.019878  0.049536   0.079610   0.026922   0.024833   \n",
       "\n",
       "           DRIVE_HVY  DRIVE_COM      TAXI  TNC_SINGLE  TNC_SHARED  \n",
       "trip_id                                                            \n",
       "137248721   0.087126   0.021171  0.036475    0.027650    0.135171  \n",
       "137248725   0.033959   0.034597  0.037708    0.099523    0.041213  \n",
       "211388201   0.031388   0.025931  0.066999    0.052678    0.051228  \n",
       "211388205   0.039427   0.041092  0.054714    0.048459    0.063458  \n",
       "806388401   0.023445   0.023931  0.044643    0.033773    0.058353  \n",
       "806388405   0.024840   0.026695  0.079936    0.040146    0.043022  "
      ]
     },
     "execution_count": 767,
     "metadata": {},
     "output_type": "execute_result"
    }
   ],
   "source": [
    "nested_exp_utilities_cf = simulate.compute_nested_exp_utilities(new_utils, nest_spec)\n",
    "nested_probabilities_cf = simulate.compute_nested_probabilities(nested_exp_utilities_cf, nest_spec, trace_label=None)\n",
    "base_probabilities_cf = simulate.compute_base_probabilities(nested_probabilities_cf, nest_spec, spec)\n",
    "base_probabilities_cf"
   ]
  },
  {
   "cell_type": "code",
   "execution_count": 799,
   "id": "50dfd1ae-10c3-475c-94be-de783c2fa5c2",
   "metadata": {
    "execution": {
     "iopub.execute_input": "2021-09-02T00:15:29.056902Z",
     "iopub.status.busy": "2021-09-02T00:15:29.056683Z",
     "iopub.status.idle": "2021-09-02T00:27:21.965206Z",
     "shell.execute_reply": "2021-09-02T00:27:21.964340Z",
     "shell.execute_reply.started": "2021-09-02T00:15:29.056877Z"
    },
    "tags": []
   },
   "outputs": [
    {
     "name": "stdout",
     "output_type": "stream",
     "text": [
      "CPU times: user 11min 49s, sys: 766 ms, total: 11min 50s\n",
      "Wall time: 11min 52s\n"
     ]
    }
   ],
   "source": [
    "%%time\n",
    "\n",
    "num_samples = 10000 # 7.5s per 100\n",
    "\n",
    "data_zenith = []\n",
    "data_asim = []\n",
    "for i in range(num_samples):\n",
    "    seed = rng_.integers(0, 100000)\n",
    "    x_ = simple_simulate_rum_zenith_check(trips_segment, spec, nest_spec, locals_dict, estimator, tr_label, log_alt_losers, trace_column_names, seed=seed, use_zenith=True, raw_utilities=new_utils)\n",
    "    y_ = simple_simulate_rum_zenith_check(trips_segment, spec, nest_spec, locals_dict, estimator, tr_label, log_alt_losers, trace_column_names, seed=seed, use_zenith=False, raw_utilities=new_utils)\n",
    "    data_zenith.append(x_)\n",
    "    data_asim.append(y_)\n",
    "    \n",
    "data_asim = pd.concat(data_asim, axis=1)\n",
    "data_zenith = pd.concat(data_zenith, axis=1)\n",
    "# counts_zenith = data_zenith.apply(lambda x: x.value_counts(), axis=1).fillna(0)\n",
    "# counts_zenith = counts_zenith / data_zenith.shape[1]\n",
    "# counts_asim = data_asim.apply(lambda x: x.value_counts(), axis=1).fillna(0)\n",
    "# counts_asim = counts_asim / data_asim.shape[1]\n",
    "\n",
    "# mode_share_zenith = (counts_zenith.sum(axis=0) / counts_zenith.shape[0]).to_frame('zenith')\n",
    "# mode_share_asim = (counts_asim.sum(axis=0) / counts_asim.shape[0]).to_frame('asim')\n",
    "# mode_share_base_prob = (base_probabilities_cf.sum(axis=0) / base_probabilities_cf.shape[0]).to_frame('probs')\n",
    "# assert np.allclose(mode_share_zenith.sum(), 1)\n",
    "# assert np.allclose(mode_share_asim.sum(), 1)\n",
    "# assert np.allclose(mode_share_base_prob.sum(), 1)\n",
    "# mode_share_comp = mode_share_zenith.join(mode_share_asim, how='outer').join(mode_share_base_prob, how='outer').fillna(0)"
   ]
  },
  {
   "cell_type": "code",
   "execution_count": 796,
   "id": "bb16f9d7-44f5-4316-b981-d65216a5e217",
   "metadata": {
    "execution": {
     "iopub.execute_input": "2021-09-02T00:14:11.772592Z",
     "iopub.status.busy": "2021-09-02T00:14:11.772347Z",
     "iopub.status.idle": "2021-09-02T00:14:12.001077Z",
     "shell.execute_reply": "2021-09-02T00:14:12.000166Z",
     "shell.execute_reply.started": "2021-09-02T00:14:11.772556Z"
    }
   },
   "outputs": [],
   "source": [
    "#temp_z = data_zenith.copy()\n",
    "#temp_a = data_asim.copy()\n",
    "#data_asim = data_asim.join(temp_a, lsuffix=\"_o\", rsuffix=\"_n\")\n",
    "#data_zenith = data_zenith.join(temp_z, lsuffix=\"_o\", rsuffix=\"_n\")\n",
    "# counts_zenith = data_zenith.apply(lambda x: x.value_counts(), axis=1).fillna(0)\n",
    "# counts_zenith = counts_zenith / data_zenith.shape[1]\n",
    "# counts_asim = data_asim.apply(lambda x: x.value_counts(), axis=1).fillna(0)\n",
    "# counts_asim = counts_asim / data_asim.shape[1]\n",
    "\n",
    "# mode_share_zenith = (counts_zenith.sum(axis=0) / counts_zenith.shape[0]).to_frame('zenith')\n",
    "# mode_share_asim = (counts_asim.sum(axis=0) / counts_asim.shape[0]).to_frame('asim')\n",
    "# mode_share_base_prob = (base_probabilities_cf.sum(axis=0) / base_probabilities_cf.shape[0]).to_frame('probs')\n",
    "# assert np.allclose(mode_share_zenith.sum(), 1)\n",
    "# assert np.allclose(mode_share_asim.sum(), 1)\n",
    "# assert np.allclose(mode_share_base_prob.sum(), 1)\n",
    "# mode_share_comp = mode_share_zenith.join(mode_share_asim, how='outer').join(mode_share_base_prob, how='outer').fillna(0)"
   ]
  },
  {
   "cell_type": "code",
   "execution_count": 805,
   "id": "031d8340-0af0-4608-8a83-ed2af4aaa3b2",
   "metadata": {
    "execution": {
     "iopub.execute_input": "2021-09-02T00:41:01.948669Z",
     "iopub.status.busy": "2021-09-02T00:41:01.948422Z",
     "iopub.status.idle": "2021-09-02T00:41:02.175972Z",
     "shell.execute_reply": "2021-09-02T00:41:02.174759Z",
     "shell.execute_reply.started": "2021-09-02T00:41:01.948633Z"
    },
    "tags": []
   },
   "outputs": [
    {
     "data": {
      "text/html": [
       "<div>\n",
       "<style scoped>\n",
       "    .dataframe tbody tr th:only-of-type {\n",
       "        vertical-align: middle;\n",
       "    }\n",
       "\n",
       "    .dataframe tbody tr th {\n",
       "        vertical-align: top;\n",
       "    }\n",
       "\n",
       "    .dataframe thead th {\n",
       "        text-align: right;\n",
       "    }\n",
       "</style>\n",
       "<table border=\"1\" class=\"dataframe\">\n",
       "  <thead>\n",
       "    <tr style=\"text-align: right;\">\n",
       "      <th></th>\n",
       "      <th>BIKE</th>\n",
       "      <th>DRIVEALONEFREE</th>\n",
       "      <th>DRIVEALONEPAY</th>\n",
       "      <th>DRIVE_COM</th>\n",
       "      <th>DRIVE_EXP</th>\n",
       "      <th>DRIVE_HVY</th>\n",
       "      <th>DRIVE_LOC</th>\n",
       "      <th>DRIVE_LRF</th>\n",
       "      <th>SHARED2FREE</th>\n",
       "      <th>SHARED2PAY</th>\n",
       "      <th>SHARED3FREE</th>\n",
       "      <th>SHARED3PAY</th>\n",
       "      <th>TAXI</th>\n",
       "      <th>TNC_SHARED</th>\n",
       "      <th>TNC_SINGLE</th>\n",
       "      <th>WALK</th>\n",
       "      <th>WALK_COM</th>\n",
       "      <th>WALK_EXP</th>\n",
       "      <th>WALK_HVY</th>\n",
       "      <th>WALK_LOC</th>\n",
       "      <th>WALK_LRF</th>\n",
       "    </tr>\n",
       "  </thead>\n",
       "  <tbody>\n",
       "    <tr>\n",
       "      <th>zenith</th>\n",
       "      <td>8.055</td>\n",
       "      <td>5.167</td>\n",
       "      <td>4.631</td>\n",
       "      <td>3.502</td>\n",
       "      <td>3.606</td>\n",
       "      <td>4.266</td>\n",
       "      <td>3.963</td>\n",
       "      <td>3.498</td>\n",
       "      <td>3.895</td>\n",
       "      <td>5.176</td>\n",
       "      <td>4.799</td>\n",
       "      <td>5.851</td>\n",
       "      <td>4.999</td>\n",
       "      <td>6.121</td>\n",
       "      <td>4.668</td>\n",
       "      <td>9.486</td>\n",
       "      <td>4.228</td>\n",
       "      <td>4.125</td>\n",
       "      <td>2.977</td>\n",
       "      <td>3.671</td>\n",
       "      <td>3.317</td>\n",
       "    </tr>\n",
       "    <tr>\n",
       "      <th>asim</th>\n",
       "      <td>6.096</td>\n",
       "      <td>6.698</td>\n",
       "      <td>4.977</td>\n",
       "      <td>3.202</td>\n",
       "      <td>3.522</td>\n",
       "      <td>4.334</td>\n",
       "      <td>4.129</td>\n",
       "      <td>3.184</td>\n",
       "      <td>3.224</td>\n",
       "      <td>5.149</td>\n",
       "      <td>6.283</td>\n",
       "      <td>8.296</td>\n",
       "      <td>4.793</td>\n",
       "      <td>6.584</td>\n",
       "      <td>4.532</td>\n",
       "      <td>7.484</td>\n",
       "      <td>4.152</td>\n",
       "      <td>4.273</td>\n",
       "      <td>2.629</td>\n",
       "      <td>3.433</td>\n",
       "      <td>3.023</td>\n",
       "    </tr>\n",
       "    <tr>\n",
       "      <th>probs</th>\n",
       "      <td>8.883</td>\n",
       "      <td>5.321</td>\n",
       "      <td>4.738</td>\n",
       "      <td>2.890</td>\n",
       "      <td>3.136</td>\n",
       "      <td>4.003</td>\n",
       "      <td>3.565</td>\n",
       "      <td>3.162</td>\n",
       "      <td>3.758</td>\n",
       "      <td>5.324</td>\n",
       "      <td>4.927</td>\n",
       "      <td>6.049</td>\n",
       "      <td>5.341</td>\n",
       "      <td>6.541</td>\n",
       "      <td>5.037</td>\n",
       "      <td>10.427</td>\n",
       "      <td>3.973</td>\n",
       "      <td>4.224</td>\n",
       "      <td>2.574</td>\n",
       "      <td>3.147</td>\n",
       "      <td>2.979</td>\n",
       "    </tr>\n",
       "  </tbody>\n",
       "</table>\n",
       "</div>"
      ],
      "text/plain": [
       "         BIKE  DRIVEALONEFREE  DRIVEALONEPAY  DRIVE_COM  DRIVE_EXP  DRIVE_HVY  \\\n",
       "zenith  8.055           5.167          4.631      3.502      3.606      4.266   \n",
       "asim    6.096           6.698          4.977      3.202      3.522      4.334   \n",
       "probs   8.883           5.321          4.738      2.890      3.136      4.003   \n",
       "\n",
       "        DRIVE_LOC  DRIVE_LRF  SHARED2FREE  SHARED2PAY  SHARED3FREE  \\\n",
       "zenith      3.963      3.498        3.895       5.176        4.799   \n",
       "asim        4.129      3.184        3.224       5.149        6.283   \n",
       "probs       3.565      3.162        3.758       5.324        4.927   \n",
       "\n",
       "        SHARED3PAY   TAXI  TNC_SHARED  TNC_SINGLE    WALK  WALK_COM  WALK_EXP  \\\n",
       "zenith       5.851  4.999       6.121       4.668   9.486     4.228     4.125   \n",
       "asim         8.296  4.793       6.584       4.532   7.484     4.152     4.273   \n",
       "probs        6.049  5.341       6.541       5.037  10.427     3.973     4.224   \n",
       "\n",
       "        WALK_HVY  WALK_LOC  WALK_LRF  \n",
       "zenith     2.977     3.671     3.317  \n",
       "asim       2.629     3.433     3.023  \n",
       "probs      2.574     3.147     2.979  "
      ]
     },
     "metadata": {},
     "output_type": "display_data"
    }
   ],
   "source": [
    "# sample of 20000\n",
    "with pd.option_context(\"precision\", 3):\n",
    "    display((100.0 * mode_share_comp).T)"
   ]
  },
  {
   "cell_type": "code",
   "execution_count": 806,
   "id": "aece448f-4055-4d2a-b90d-8530caec9cb9",
   "metadata": {
    "execution": {
     "iopub.execute_input": "2021-09-02T00:43:32.971972Z",
     "iopub.status.busy": "2021-09-02T00:43:32.971684Z",
     "iopub.status.idle": "2021-09-02T00:43:33.223345Z",
     "shell.execute_reply": "2021-09-02T00:43:33.222488Z",
     "shell.execute_reply.started": "2021-09-02T00:43:32.971932Z"
    },
    "tags": []
   },
   "outputs": [
    {
     "data": {
      "text/html": [
       "<div>\n",
       "<style scoped>\n",
       "    .dataframe tbody tr th:only-of-type {\n",
       "        vertical-align: middle;\n",
       "    }\n",
       "\n",
       "    .dataframe tbody tr th {\n",
       "        vertical-align: top;\n",
       "    }\n",
       "\n",
       "    .dataframe thead th {\n",
       "        text-align: right;\n",
       "    }\n",
       "</style>\n",
       "<table border=\"1\" class=\"dataframe\">\n",
       "  <thead>\n",
       "    <tr style=\"text-align: right;\">\n",
       "      <th>trip_id</th>\n",
       "      <th>137248721_z</th>\n",
       "      <th>137248721_a</th>\n",
       "      <th>137248721</th>\n",
       "    </tr>\n",
       "  </thead>\n",
       "  <tbody>\n",
       "    <tr>\n",
       "      <th>BIKE</th>\n",
       "      <td>0.09270</td>\n",
       "      <td>0.05435</td>\n",
       "      <td>0.100331</td>\n",
       "    </tr>\n",
       "    <tr>\n",
       "      <th>DRIVEALONEFREE</th>\n",
       "      <td>0.05365</td>\n",
       "      <td>0.05005</td>\n",
       "      <td>0.056642</td>\n",
       "    </tr>\n",
       "    <tr>\n",
       "      <th>DRIVEALONEPAY</th>\n",
       "      <td>0.03880</td>\n",
       "      <td>0.03155</td>\n",
       "      <td>0.037305</td>\n",
       "    </tr>\n",
       "    <tr>\n",
       "      <th>DRIVE_COM</th>\n",
       "      <td>0.02870</td>\n",
       "      <td>0.02470</td>\n",
       "      <td>0.021171</td>\n",
       "    </tr>\n",
       "    <tr>\n",
       "      <th>DRIVE_EXP</th>\n",
       "      <td>0.02880</td>\n",
       "      <td>0.02605</td>\n",
       "      <td>0.021754</td>\n",
       "    </tr>\n",
       "    <tr>\n",
       "      <th>DRIVE_HVY</th>\n",
       "      <td>0.07815</td>\n",
       "      <td>0.09970</td>\n",
       "      <td>0.087126</td>\n",
       "    </tr>\n",
       "    <tr>\n",
       "      <th>DRIVE_LOC</th>\n",
       "      <td>0.02875</td>\n",
       "      <td>0.02700</td>\n",
       "      <td>0.022622</td>\n",
       "    </tr>\n",
       "    <tr>\n",
       "      <th>DRIVE_LRF</th>\n",
       "      <td>0.02780</td>\n",
       "      <td>0.02445</td>\n",
       "      <td>0.023007</td>\n",
       "    </tr>\n",
       "    <tr>\n",
       "      <th>SHARED2FREE</th>\n",
       "      <td>0.04325</td>\n",
       "      <td>0.02300</td>\n",
       "      <td>0.042780</td>\n",
       "    </tr>\n",
       "    <tr>\n",
       "      <th>SHARED2PAY</th>\n",
       "      <td>0.03360</td>\n",
       "      <td>0.01585</td>\n",
       "      <td>0.029576</td>\n",
       "    </tr>\n",
       "    <tr>\n",
       "      <th>SHARED3FREE</th>\n",
       "      <td>0.07365</td>\n",
       "      <td>0.11920</td>\n",
       "      <td>0.086154</td>\n",
       "    </tr>\n",
       "    <tr>\n",
       "      <th>SHARED3PAY</th>\n",
       "      <td>0.03260</td>\n",
       "      <td>0.03960</td>\n",
       "      <td>0.026586</td>\n",
       "    </tr>\n",
       "    <tr>\n",
       "      <th>TAXI</th>\n",
       "      <td>0.03510</td>\n",
       "      <td>0.05030</td>\n",
       "      <td>0.036475</td>\n",
       "    </tr>\n",
       "    <tr>\n",
       "      <th>TNC_SHARED</th>\n",
       "      <td>0.12620</td>\n",
       "      <td>0.18115</td>\n",
       "      <td>0.135171</td>\n",
       "    </tr>\n",
       "    <tr>\n",
       "      <th>TNC_SINGLE</th>\n",
       "      <td>0.02625</td>\n",
       "      <td>0.03845</td>\n",
       "      <td>0.027650</td>\n",
       "    </tr>\n",
       "    <tr>\n",
       "      <th>WALK</th>\n",
       "      <td>0.07940</td>\n",
       "      <td>0.04825</td>\n",
       "      <td>0.088313</td>\n",
       "    </tr>\n",
       "    <tr>\n",
       "      <th>WALK_COM</th>\n",
       "      <td>0.03185</td>\n",
       "      <td>0.02460</td>\n",
       "      <td>0.026399</td>\n",
       "    </tr>\n",
       "    <tr>\n",
       "      <th>WALK_EXP</th>\n",
       "      <td>0.05705</td>\n",
       "      <td>0.05895</td>\n",
       "      <td>0.064391</td>\n",
       "    </tr>\n",
       "    <tr>\n",
       "      <th>WALK_HVY</th>\n",
       "      <td>0.02520</td>\n",
       "      <td>0.01840</td>\n",
       "      <td>0.020009</td>\n",
       "    </tr>\n",
       "    <tr>\n",
       "      <th>WALK_LOC</th>\n",
       "      <td>0.03455</td>\n",
       "      <td>0.02740</td>\n",
       "      <td>0.028021</td>\n",
       "    </tr>\n",
       "    <tr>\n",
       "      <th>WALK_LRF</th>\n",
       "      <td>0.02395</td>\n",
       "      <td>0.01700</td>\n",
       "      <td>0.018516</td>\n",
       "    </tr>\n",
       "  </tbody>\n",
       "</table>\n",
       "</div>"
      ],
      "text/plain": [
       "trip_id         137248721_z  137248721_a  137248721\n",
       "BIKE                0.09270      0.05435   0.100331\n",
       "DRIVEALONEFREE      0.05365      0.05005   0.056642\n",
       "DRIVEALONEPAY       0.03880      0.03155   0.037305\n",
       "DRIVE_COM           0.02870      0.02470   0.021171\n",
       "DRIVE_EXP           0.02880      0.02605   0.021754\n",
       "DRIVE_HVY           0.07815      0.09970   0.087126\n",
       "DRIVE_LOC           0.02875      0.02700   0.022622\n",
       "DRIVE_LRF           0.02780      0.02445   0.023007\n",
       "SHARED2FREE         0.04325      0.02300   0.042780\n",
       "SHARED2PAY          0.03360      0.01585   0.029576\n",
       "SHARED3FREE         0.07365      0.11920   0.086154\n",
       "SHARED3PAY          0.03260      0.03960   0.026586\n",
       "TAXI                0.03510      0.05030   0.036475\n",
       "TNC_SHARED          0.12620      0.18115   0.135171\n",
       "TNC_SINGLE          0.02625      0.03845   0.027650\n",
       "WALK                0.07940      0.04825   0.088313\n",
       "WALK_COM            0.03185      0.02460   0.026399\n",
       "WALK_EXP            0.05705      0.05895   0.064391\n",
       "WALK_HVY            0.02520      0.01840   0.020009\n",
       "WALK_LOC            0.03455      0.02740   0.028021\n",
       "WALK_LRF            0.02395      0.01700   0.018516"
      ]
     },
     "execution_count": 806,
     "metadata": {},
     "output_type": "execute_result"
    }
   ],
   "source": [
    "# TODO: look at probs per trip, i.e. do not sum across trips\n",
    "trip_id = 137248721\n",
    "\n",
    "counts_zenith.loc[counts_zenith.index == trip_id].T.merge(\n",
    "    counts_asim.loc[counts_asim.index == trip_id].T, suffixes=['_z', '_a'], left_index=True, right_index=True, how='outer').merge(\n",
    "    base_probabilities_cf.loc[base_probabilities_cf.index == trip_id].T, suffixes=['', '_probs'], left_index=True, right_index=True, how='outer').fillna(0)"
   ]
  },
  {
   "cell_type": "code",
   "execution_count": null,
   "id": "5ef84f10-d616-40e4-87e5-425499027ff3",
   "metadata": {},
   "outputs": [],
   "source": []
  },
  {
   "cell_type": "code",
   "execution_count": null,
   "id": "431cee49-40a9-4dc7-93a5-75308fb302dd",
   "metadata": {},
   "outputs": [],
   "source": []
  },
  {
   "cell_type": "code",
   "execution_count": null,
   "id": "1fcdc0ff-c510-4878-8672-8365e046442c",
   "metadata": {},
   "outputs": [],
   "source": []
  }
 ],
 "metadata": {
  "kernelspec": {
   "display_name": "Python 3",
   "language": "python",
   "name": "python3"
  },
  "language_info": {
   "codemirror_mode": {
    "name": "ipython",
    "version": 3
   },
   "file_extension": ".py",
   "mimetype": "text/x-python",
   "name": "python",
   "nbconvert_exporter": "python",
   "pygments_lexer": "ipython3",
   "version": "3.8.2"
  }
 },
 "nbformat": 4,
 "nbformat_minor": 5
}