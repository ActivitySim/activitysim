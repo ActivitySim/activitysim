{
 "cells": [
  {
   "cell_type": "markdown",
   "id": "7ece3567-e4b1-4c3f-a264-20625abb6ad7",
   "metadata": {},
   "source": [
    "# validate results"
   ]
  },
  {
   "cell_type": "code",
   "execution_count": 1,
   "id": "bd74ba44-0dfb-439a-a6ab-7ceedfc5f523",
   "metadata": {
    "execution": {
     "iopub.execute_input": "2022-05-01T10:17:57.385153Z",
     "iopub.status.busy": "2022-05-01T10:17:57.384881Z",
     "iopub.status.idle": "2022-05-01T10:17:57.534433Z",
     "shell.execute_reply": "2022-05-01T10:17:57.533096Z",
     "shell.execute_reply.started": "2022-05-01T10:17:57.385047Z"
    },
    "tags": []
   },
   "outputs": [],
   "source": [
    "%load_ext autoreload"
   ]
  },
  {
   "cell_type": "code",
   "execution_count": 2,
   "id": "c3dba451-1e10-403e-8614-35d57e6577f4",
   "metadata": {
    "execution": {
     "iopub.execute_input": "2022-05-01T10:17:57.536623Z",
     "iopub.status.busy": "2022-05-01T10:17:57.536012Z",
     "iopub.status.idle": "2022-05-01T10:17:57.542755Z",
     "shell.execute_reply": "2022-05-01T10:17:57.541685Z",
     "shell.execute_reply.started": "2022-05-01T10:17:57.536567Z"
    },
    "tags": []
   },
   "outputs": [],
   "source": [
    "%autoreload 2"
   ]
  },
  {
   "cell_type": "code",
   "execution_count": 3,
   "id": "73deaac4-e7ac-4aff-b086-4980dc6dd903",
   "metadata": {
    "execution": {
     "iopub.execute_input": "2022-05-01T10:18:00.350944Z",
     "iopub.status.busy": "2022-05-01T10:18:00.350730Z",
     "iopub.status.idle": "2022-05-01T10:18:12.760977Z",
     "shell.execute_reply": "2022-05-01T10:18:12.760013Z",
     "shell.execute_reply.started": "2022-05-01T10:18:00.350919Z"
    },
    "tags": []
   },
   "outputs": [],
   "source": [
    "import os\n",
    "import argparse\n",
    "from datetime import datetime\n",
    "\n",
    "import numpy as np\n",
    "import pandas as pd\n",
    "from numpy.random import default_rng\n",
    "\n",
    "from activitysim.cli import run\n",
    "from activitysim.core import inject\n",
    "from activitysim.core import tracing\n",
    "from activitysim.core import config\n",
    "from activitysim.core import pipeline\n",
    "from activitysim.core import chunk\n",
    "from activitysim.core import simulate\n",
    "from activitysim.core import logit\n",
    "from activitysim.abm.models.util import estimation\n",
    "from activitysim.core import expressions\n",
    "from activitysim.core.util import assign_in_place"
   ]
  },
  {
   "cell_type": "code",
   "execution_count": 4,
   "id": "7e553abd-fe0d-4cdc-aeb1-9dc80cb2757f",
   "metadata": {
    "execution": {
     "iopub.execute_input": "2022-05-01T10:18:16.944537Z",
     "iopub.status.busy": "2022-05-01T10:18:16.944291Z",
     "iopub.status.idle": "2022-05-01T10:18:17.124764Z",
     "shell.execute_reply": "2022-05-01T10:18:17.123725Z",
     "shell.execute_reply.started": "2022-05-01T10:18:16.944501Z"
    },
    "tags": []
   },
   "outputs": [],
   "source": [
    "pd.set_option(\"max_columns\", 500)"
   ]
  },
  {
   "cell_type": "code",
   "execution_count": 5,
   "id": "41fec4e8-a174-4e66-87d2-1e8c7979de90",
   "metadata": {
    "execution": {
     "iopub.execute_input": "2022-05-01T10:18:17.839947Z",
     "iopub.status.busy": "2022-05-01T10:18:17.839070Z",
     "iopub.status.idle": "2022-05-01T10:18:18.019676Z",
     "shell.execute_reply": "2022-05-01T10:18:18.018689Z",
     "shell.execute_reply.started": "2022-05-01T10:18:17.839911Z"
    },
    "tags": []
   },
   "outputs": [],
   "source": [
    "root_dir = \"/mnt/c/Users/jan.zill/code/activitysim\"\n",
    "example_dir = os.path.join(root_dir, \"test_example_mtc\")"
   ]
  },
  {
   "cell_type": "code",
   "execution_count": 6,
   "id": "2de710a2-d292-42f9-9d4a-4dcef1365506",
   "metadata": {
    "execution": {
     "iopub.execute_input": "2022-05-01T10:18:18.894533Z",
     "iopub.status.busy": "2022-05-01T10:18:18.894303Z",
     "iopub.status.idle": "2022-05-01T10:18:19.078807Z",
     "shell.execute_reply": "2022-05-01T10:18:19.077951Z",
     "shell.execute_reply.started": "2022-05-01T10:18:18.894508Z"
    },
    "tags": []
   },
   "outputs": [],
   "source": [
    "os.chdir(example_dir)"
   ]
  },
  {
   "cell_type": "code",
   "execution_count": 7,
   "id": "730be239-8704-4483-bbb8-ffae0f17c5d4",
   "metadata": {
    "execution": {
     "iopub.execute_input": "2022-05-01T10:18:22.111723Z",
     "iopub.status.busy": "2022-05-01T10:18:22.111490Z",
     "iopub.status.idle": "2022-05-01T10:18:22.297437Z",
     "shell.execute_reply": "2022-05-01T10:18:22.296501Z",
     "shell.execute_reply.started": "2022-05-01T10:18:22.111697Z"
    },
    "tags": []
   },
   "outputs": [],
   "source": [
    "parser = argparse.ArgumentParser()\n",
    "run.add_run_args(parser)\n",
    "# args = parser.parse_args()\n",
    "# parser.parse_args(['--sum', '7', '-1', '42'])\n",
    "args = parser.parse_args(['-c', 'configs', '-o', 'output', '-d', 'data'])\n",
    "#run.run(args)  # 2mins full example run\n",
    "if not inject.is_injectable('preload_injectables'):\n",
    "    from activitysim import abm  # register abm steps and other abm-specific injectables\n",
    "run.handle_standard_args(args)  # possibly update injectables"
   ]
  },
  {
   "cell_type": "code",
   "execution_count": 188,
   "id": "3ed520e9-75ef-4eec-ab86-6aaf1fe453fc",
   "metadata": {
    "execution": {
     "iopub.execute_input": "2021-09-01T02:28:53.643404Z",
     "iopub.status.busy": "2021-09-01T02:28:53.643055Z",
     "iopub.status.idle": "2021-09-01T02:29:01.223951Z",
     "shell.execute_reply": "2021-09-01T02:29:01.222865Z",
     "shell.execute_reply.started": "2021-09-01T02:28:53.643367Z"
    },
    "tags": []
   },
   "outputs": [
    {
     "name": "stderr",
     "output_type": "stream",
     "text": [
      "register joint_tour_participants: no rows with household_id in [982875].\n",
      "estimation bundle trip_mode_choice not in settings file estimation.yaml\n"
     ]
    },
    {
     "name": "stdout",
     "output_type": "stream",
     "text": [
      "Running with %d trips 482\n",
      "trip_mode_choice tour_type 'atwork' (27 trips)\n",
      "trip_mode_choice tour_type 'eatout' (33 trips)\n",
      "trip_mode_choice tour_type 'escort' (6 trips)\n",
      "trip_mode_choice tour_type 'othdiscr' (43 trips)\n",
      "trip_mode_choice tour_type 'othmaint' (46 trips)\n",
      "trip_mode_choice tour_type 'school' (37 trips)\n",
      "trip_mode_choice tour_type 'shopping' (77 trips)\n",
      "trip_mode_choice tour_type 'social' (19 trips)\n",
      "trip_mode_choice tour_type 'univ' (26 trips)\n",
      "trip_mode_choice tour_type 'work' (168 trips)\n"
     ]
    },
    {
     "name": "stderr",
     "output_type": "stream",
     "text": [
      "register joint_tour_participants: no rows with household_id in [982875].\n"
     ]
    },
    {
     "name": "stdout",
     "output_type": "stream",
     "text": [
      "Done\n"
     ]
    },
    {
     "name": "stderr",
     "output_type": "stream",
     "text": [
      "estimation bundle trip_mode_choice not in settings file estimation.yaml\n"
     ]
    },
    {
     "name": "stdout",
     "output_type": "stream",
     "text": [
      "Running with %d trips 482\n",
      "trip_mode_choice tour_type 'atwork' (27 trips)\n"
     ]
    },
    {
     "name": "stderr",
     "output_type": "stream",
     "text": [
      "numpy: Warning: underflow encountered in exp expression: origTaxiWaitTime = rng.lognormal_for_df(df, mu=origin_zone_taxi_wait_time_mean, sigma=origin_zone_taxi_wait_time_sd, broadcast=True, scale=True).clip(min_waitTime, max_waitTime)\n",
      "numpy: Warning: underflow encountered in exp expression: origTaxiWaitTime = rng.lognormal_for_df(df, mu=origin_zone_taxi_wait_time_mean, sigma=origin_zone_taxi_wait_time_sd, broadcast=True, scale=True).clip(min_waitTime, max_waitTime)\n",
      "numpy: Warning: underflow encountered in exp expression: origTaxiWaitTime = rng.lognormal_for_df(df, mu=origin_zone_taxi_wait_time_mean, sigma=origin_zone_taxi_wait_time_sd, broadcast=True, scale=True).clip(min_waitTime, max_waitTime)\n",
      "numpy: Warning: underflow encountered in exp expression: origTaxiWaitTime = rng.lognormal_for_df(df, mu=origin_zone_taxi_wait_time_mean, sigma=origin_zone_taxi_wait_time_sd, broadcast=True, scale=True).clip(min_waitTime, max_waitTime)\n",
      "numpy: Warning: underflow encountered in exp expression: origTaxiWaitTime = rng.lognormal_for_df(df, mu=origin_zone_taxi_wait_time_mean, sigma=origin_zone_taxi_wait_time_sd, broadcast=True, scale=True).clip(min_waitTime, max_waitTime)\n",
      "numpy: Warning: underflow encountered in exp expression: origTaxiWaitTime = rng.lognormal_for_df(df, mu=origin_zone_taxi_wait_time_mean, sigma=origin_zone_taxi_wait_time_sd, broadcast=True, scale=True).clip(min_waitTime, max_waitTime)\n",
      "numpy: Warning: underflow encountered in exp expression: origTaxiWaitTime = rng.lognormal_for_df(df, mu=origin_zone_taxi_wait_time_mean, sigma=origin_zone_taxi_wait_time_sd, broadcast=True, scale=True).clip(min_waitTime, max_waitTime)\n",
      "numpy: Warning: underflow encountered in exp expression: origTaxiWaitTime = rng.lognormal_for_df(df, mu=origin_zone_taxi_wait_time_mean, sigma=origin_zone_taxi_wait_time_sd, broadcast=True, scale=True).clip(min_waitTime, max_waitTime)\n",
      "numpy: Warning: underflow encountered in exp expression: origTaxiWaitTime = rng.lognormal_for_df(df, mu=origin_zone_taxi_wait_time_mean, sigma=origin_zone_taxi_wait_time_sd, broadcast=True, scale=True).clip(min_waitTime, max_waitTime)\n",
      "numpy: Warning: underflow encountered in exp expression: origTaxiWaitTime = rng.lognormal_for_df(df, mu=origin_zone_taxi_wait_time_mean, sigma=origin_zone_taxi_wait_time_sd, broadcast=True, scale=True).clip(min_waitTime, max_waitTime)\n",
      "numpy: Warning: underflow encountered in exp expression: origTaxiWaitTime = rng.lognormal_for_df(df, mu=origin_zone_taxi_wait_time_mean, sigma=origin_zone_taxi_wait_time_sd, broadcast=True, scale=True).clip(min_waitTime, max_waitTime)\n",
      "numpy: Warning: underflow encountered in exp expression: origTaxiWaitTime = rng.lognormal_for_df(df, mu=origin_zone_taxi_wait_time_mean, sigma=origin_zone_taxi_wait_time_sd, broadcast=True, scale=True).clip(min_waitTime, max_waitTime)\n",
      "numpy: Warning: underflow encountered in exp expression: origTaxiWaitTime = rng.lognormal_for_df(df, mu=origin_zone_taxi_wait_time_mean, sigma=origin_zone_taxi_wait_time_sd, broadcast=True, scale=True).clip(min_waitTime, max_waitTime)\n",
      "numpy: Warning: underflow encountered in exp expression: origTaxiWaitTime = rng.lognormal_for_df(df, mu=origin_zone_taxi_wait_time_mean, sigma=origin_zone_taxi_wait_time_sd, broadcast=True, scale=True).clip(min_waitTime, max_waitTime)\n",
      "numpy: Warning: underflow encountered in exp expression: origTaxiWaitTime = rng.lognormal_for_df(df, mu=origin_zone_taxi_wait_time_mean, sigma=origin_zone_taxi_wait_time_sd, broadcast=True, scale=True).clip(min_waitTime, max_waitTime)\n",
      "numpy: Warning: underflow encountered in exp expression: origTaxiWaitTime = rng.lognormal_for_df(df, mu=origin_zone_taxi_wait_time_mean, sigma=origin_zone_taxi_wait_time_sd, broadcast=True, scale=True).clip(min_waitTime, max_waitTime)\n",
      "numpy: Warning: underflow encountered in exp expression: origTaxiWaitTime = rng.lognormal_for_df(df, mu=origin_zone_taxi_wait_time_mean, sigma=origin_zone_taxi_wait_time_sd, broadcast=True, scale=True).clip(min_waitTime, max_waitTime)\n"
     ]
    },
    {
     "name": "stdout",
     "output_type": "stream",
     "text": [
      "trip_mode_choice tour_type 'eatout' (33 trips)\n"
     ]
    },
    {
     "name": "stderr",
     "output_type": "stream",
     "text": [
      "numpy: Warning: underflow encountered in exp expression: origTaxiWaitTime = rng.lognormal_for_df(df, mu=origin_zone_taxi_wait_time_mean, sigma=origin_zone_taxi_wait_time_sd, broadcast=True, scale=True).clip(min_waitTime, max_waitTime)\n",
      "numpy: Warning: underflow encountered in exp expression: origTaxiWaitTime = rng.lognormal_for_df(df, mu=origin_zone_taxi_wait_time_mean, sigma=origin_zone_taxi_wait_time_sd, broadcast=True, scale=True).clip(min_waitTime, max_waitTime)\n",
      "numpy: Warning: underflow encountered in exp expression: origTaxiWaitTime = rng.lognormal_for_df(df, mu=origin_zone_taxi_wait_time_mean, sigma=origin_zone_taxi_wait_time_sd, broadcast=True, scale=True).clip(min_waitTime, max_waitTime)\n",
      "numpy: Warning: underflow encountered in exp expression: origTaxiWaitTime = rng.lognormal_for_df(df, mu=origin_zone_taxi_wait_time_mean, sigma=origin_zone_taxi_wait_time_sd, broadcast=True, scale=True).clip(min_waitTime, max_waitTime)\n",
      "numpy: Warning: underflow encountered in exp expression: origTaxiWaitTime = rng.lognormal_for_df(df, mu=origin_zone_taxi_wait_time_mean, sigma=origin_zone_taxi_wait_time_sd, broadcast=True, scale=True).clip(min_waitTime, max_waitTime)\n",
      "numpy: Warning: underflow encountered in exp expression: origTaxiWaitTime = rng.lognormal_for_df(df, mu=origin_zone_taxi_wait_time_mean, sigma=origin_zone_taxi_wait_time_sd, broadcast=True, scale=True).clip(min_waitTime, max_waitTime)\n",
      "numpy: Warning: underflow encountered in exp expression: origTaxiWaitTime = rng.lognormal_for_df(df, mu=origin_zone_taxi_wait_time_mean, sigma=origin_zone_taxi_wait_time_sd, broadcast=True, scale=True).clip(min_waitTime, max_waitTime)\n",
      "numpy: Warning: underflow encountered in exp expression: origTaxiWaitTime = rng.lognormal_for_df(df, mu=origin_zone_taxi_wait_time_mean, sigma=origin_zone_taxi_wait_time_sd, broadcast=True, scale=True).clip(min_waitTime, max_waitTime)\n",
      "numpy: Warning: underflow encountered in exp expression: origTaxiWaitTime = rng.lognormal_for_df(df, mu=origin_zone_taxi_wait_time_mean, sigma=origin_zone_taxi_wait_time_sd, broadcast=True, scale=True).clip(min_waitTime, max_waitTime)\n",
      "numpy: Warning: underflow encountered in exp expression: origTaxiWaitTime = rng.lognormal_for_df(df, mu=origin_zone_taxi_wait_time_mean, sigma=origin_zone_taxi_wait_time_sd, broadcast=True, scale=True).clip(min_waitTime, max_waitTime)\n",
      "numpy: Warning: underflow encountered in exp expression: origTaxiWaitTime = rng.lognormal_for_df(df, mu=origin_zone_taxi_wait_time_mean, sigma=origin_zone_taxi_wait_time_sd, broadcast=True, scale=True).clip(min_waitTime, max_waitTime)\n",
      "numpy: Warning: underflow encountered in exp expression: origTaxiWaitTime = rng.lognormal_for_df(df, mu=origin_zone_taxi_wait_time_mean, sigma=origin_zone_taxi_wait_time_sd, broadcast=True, scale=True).clip(min_waitTime, max_waitTime)\n",
      "numpy: Warning: underflow encountered in exp expression: origTaxiWaitTime = rng.lognormal_for_df(df, mu=origin_zone_taxi_wait_time_mean, sigma=origin_zone_taxi_wait_time_sd, broadcast=True, scale=True).clip(min_waitTime, max_waitTime)\n",
      "numpy: Warning: underflow encountered in exp expression: origTaxiWaitTime = rng.lognormal_for_df(df, mu=origin_zone_taxi_wait_time_mean, sigma=origin_zone_taxi_wait_time_sd, broadcast=True, scale=True).clip(min_waitTime, max_waitTime)\n",
      "numpy: Warning: underflow encountered in exp expression: origTaxiWaitTime = rng.lognormal_for_df(df, mu=origin_zone_taxi_wait_time_mean, sigma=origin_zone_taxi_wait_time_sd, broadcast=True, scale=True).clip(min_waitTime, max_waitTime)\n",
      "numpy: Warning: underflow encountered in exp expression: origTaxiWaitTime = rng.lognormal_for_df(df, mu=origin_zone_taxi_wait_time_mean, sigma=origin_zone_taxi_wait_time_sd, broadcast=True, scale=True).clip(min_waitTime, max_waitTime)\n",
      "numpy: Warning: underflow encountered in exp expression: origTaxiWaitTime = rng.lognormal_for_df(df, mu=origin_zone_taxi_wait_time_mean, sigma=origin_zone_taxi_wait_time_sd, broadcast=True, scale=True).clip(min_waitTime, max_waitTime)\n"
     ]
    },
    {
     "name": "stdout",
     "output_type": "stream",
     "text": [
      "trip_mode_choice tour_type 'escort' (6 trips)\n"
     ]
    },
    {
     "name": "stderr",
     "output_type": "stream",
     "text": [
      "numpy: Warning: underflow encountered in exp expression: origTaxiWaitTime = rng.lognormal_for_df(df, mu=origin_zone_taxi_wait_time_mean, sigma=origin_zone_taxi_wait_time_sd, broadcast=True, scale=True).clip(min_waitTime, max_waitTime)\n",
      "numpy: Warning: underflow encountered in exp expression: origTaxiWaitTime = rng.lognormal_for_df(df, mu=origin_zone_taxi_wait_time_mean, sigma=origin_zone_taxi_wait_time_sd, broadcast=True, scale=True).clip(min_waitTime, max_waitTime)\n",
      "numpy: Warning: underflow encountered in exp expression: origTaxiWaitTime = rng.lognormal_for_df(df, mu=origin_zone_taxi_wait_time_mean, sigma=origin_zone_taxi_wait_time_sd, broadcast=True, scale=True).clip(min_waitTime, max_waitTime)\n",
      "numpy: Warning: underflow encountered in exp expression: origTaxiWaitTime = rng.lognormal_for_df(df, mu=origin_zone_taxi_wait_time_mean, sigma=origin_zone_taxi_wait_time_sd, broadcast=True, scale=True).clip(min_waitTime, max_waitTime)\n",
      "numpy: Warning: underflow encountered in exp expression: origTaxiWaitTime = rng.lognormal_for_df(df, mu=origin_zone_taxi_wait_time_mean, sigma=origin_zone_taxi_wait_time_sd, broadcast=True, scale=True).clip(min_waitTime, max_waitTime)\n",
      "numpy: Warning: underflow encountered in exp expression: origTaxiWaitTime = rng.lognormal_for_df(df, mu=origin_zone_taxi_wait_time_mean, sigma=origin_zone_taxi_wait_time_sd, broadcast=True, scale=True).clip(min_waitTime, max_waitTime)\n",
      "numpy: Warning: underflow encountered in exp expression: origTaxiWaitTime = rng.lognormal_for_df(df, mu=origin_zone_taxi_wait_time_mean, sigma=origin_zone_taxi_wait_time_sd, broadcast=True, scale=True).clip(min_waitTime, max_waitTime)\n",
      "numpy: Warning: underflow encountered in exp expression: origTaxiWaitTime = rng.lognormal_for_df(df, mu=origin_zone_taxi_wait_time_mean, sigma=origin_zone_taxi_wait_time_sd, broadcast=True, scale=True).clip(min_waitTime, max_waitTime)\n",
      "numpy: Warning: underflow encountered in exp expression: origTaxiWaitTime = rng.lognormal_for_df(df, mu=origin_zone_taxi_wait_time_mean, sigma=origin_zone_taxi_wait_time_sd, broadcast=True, scale=True).clip(min_waitTime, max_waitTime)\n",
      "numpy: Warning: underflow encountered in exp expression: origTaxiWaitTime = rng.lognormal_for_df(df, mu=origin_zone_taxi_wait_time_mean, sigma=origin_zone_taxi_wait_time_sd, broadcast=True, scale=True).clip(min_waitTime, max_waitTime)\n",
      "numpy: Warning: underflow encountered in exp expression: origTaxiWaitTime = rng.lognormal_for_df(df, mu=origin_zone_taxi_wait_time_mean, sigma=origin_zone_taxi_wait_time_sd, broadcast=True, scale=True).clip(min_waitTime, max_waitTime)\n",
      "numpy: Warning: underflow encountered in exp expression: origTaxiWaitTime = rng.lognormal_for_df(df, mu=origin_zone_taxi_wait_time_mean, sigma=origin_zone_taxi_wait_time_sd, broadcast=True, scale=True).clip(min_waitTime, max_waitTime)\n",
      "numpy: Warning: underflow encountered in exp expression: origTaxiWaitTime = rng.lognormal_for_df(df, mu=origin_zone_taxi_wait_time_mean, sigma=origin_zone_taxi_wait_time_sd, broadcast=True, scale=True).clip(min_waitTime, max_waitTime)\n",
      "numpy: Warning: underflow encountered in exp expression: origTaxiWaitTime = rng.lognormal_for_df(df, mu=origin_zone_taxi_wait_time_mean, sigma=origin_zone_taxi_wait_time_sd, broadcast=True, scale=True).clip(min_waitTime, max_waitTime)\n",
      "numpy: Warning: underflow encountered in exp expression: origTaxiWaitTime = rng.lognormal_for_df(df, mu=origin_zone_taxi_wait_time_mean, sigma=origin_zone_taxi_wait_time_sd, broadcast=True, scale=True).clip(min_waitTime, max_waitTime)\n",
      "numpy: Warning: underflow encountered in exp expression: origTaxiWaitTime = rng.lognormal_for_df(df, mu=origin_zone_taxi_wait_time_mean, sigma=origin_zone_taxi_wait_time_sd, broadcast=True, scale=True).clip(min_waitTime, max_waitTime)\n"
     ]
    },
    {
     "name": "stdout",
     "output_type": "stream",
     "text": [
      "trip_mode_choice tour_type 'othdiscr' (43 trips)\n"
     ]
    },
    {
     "name": "stderr",
     "output_type": "stream",
     "text": [
      "numpy: Warning: underflow encountered in exp expression: origTaxiWaitTime = rng.lognormal_for_df(df, mu=origin_zone_taxi_wait_time_mean, sigma=origin_zone_taxi_wait_time_sd, broadcast=True, scale=True).clip(min_waitTime, max_waitTime)\n",
      "numpy: Warning: underflow encountered in exp expression: origTaxiWaitTime = rng.lognormal_for_df(df, mu=origin_zone_taxi_wait_time_mean, sigma=origin_zone_taxi_wait_time_sd, broadcast=True, scale=True).clip(min_waitTime, max_waitTime)\n",
      "numpy: Warning: underflow encountered in exp expression: origTaxiWaitTime = rng.lognormal_for_df(df, mu=origin_zone_taxi_wait_time_mean, sigma=origin_zone_taxi_wait_time_sd, broadcast=True, scale=True).clip(min_waitTime, max_waitTime)\n",
      "numpy: Warning: underflow encountered in exp expression: origTaxiWaitTime = rng.lognormal_for_df(df, mu=origin_zone_taxi_wait_time_mean, sigma=origin_zone_taxi_wait_time_sd, broadcast=True, scale=True).clip(min_waitTime, max_waitTime)\n",
      "numpy: Warning: underflow encountered in exp expression: origTaxiWaitTime = rng.lognormal_for_df(df, mu=origin_zone_taxi_wait_time_mean, sigma=origin_zone_taxi_wait_time_sd, broadcast=True, scale=True).clip(min_waitTime, max_waitTime)\n",
      "numpy: Warning: underflow encountered in exp expression: origTaxiWaitTime = rng.lognormal_for_df(df, mu=origin_zone_taxi_wait_time_mean, sigma=origin_zone_taxi_wait_time_sd, broadcast=True, scale=True).clip(min_waitTime, max_waitTime)\n",
      "numpy: Warning: underflow encountered in exp expression: origTaxiWaitTime = rng.lognormal_for_df(df, mu=origin_zone_taxi_wait_time_mean, sigma=origin_zone_taxi_wait_time_sd, broadcast=True, scale=True).clip(min_waitTime, max_waitTime)\n",
      "numpy: Warning: underflow encountered in exp expression: origTaxiWaitTime = rng.lognormal_for_df(df, mu=origin_zone_taxi_wait_time_mean, sigma=origin_zone_taxi_wait_time_sd, broadcast=True, scale=True).clip(min_waitTime, max_waitTime)\n",
      "numpy: Warning: underflow encountered in exp expression: origTaxiWaitTime = rng.lognormal_for_df(df, mu=origin_zone_taxi_wait_time_mean, sigma=origin_zone_taxi_wait_time_sd, broadcast=True, scale=True).clip(min_waitTime, max_waitTime)\n",
      "numpy: Warning: underflow encountered in exp expression: origTaxiWaitTime = rng.lognormal_for_df(df, mu=origin_zone_taxi_wait_time_mean, sigma=origin_zone_taxi_wait_time_sd, broadcast=True, scale=True).clip(min_waitTime, max_waitTime)\n",
      "numpy: Warning: underflow encountered in exp expression: origTaxiWaitTime = rng.lognormal_for_df(df, mu=origin_zone_taxi_wait_time_mean, sigma=origin_zone_taxi_wait_time_sd, broadcast=True, scale=True).clip(min_waitTime, max_waitTime)\n",
      "numpy: Warning: underflow encountered in exp expression: origTaxiWaitTime = rng.lognormal_for_df(df, mu=origin_zone_taxi_wait_time_mean, sigma=origin_zone_taxi_wait_time_sd, broadcast=True, scale=True).clip(min_waitTime, max_waitTime)\n",
      "numpy: Warning: underflow encountered in exp expression: origTaxiWaitTime = rng.lognormal_for_df(df, mu=origin_zone_taxi_wait_time_mean, sigma=origin_zone_taxi_wait_time_sd, broadcast=True, scale=True).clip(min_waitTime, max_waitTime)\n",
      "numpy: Warning: underflow encountered in exp expression: origTaxiWaitTime = rng.lognormal_for_df(df, mu=origin_zone_taxi_wait_time_mean, sigma=origin_zone_taxi_wait_time_sd, broadcast=True, scale=True).clip(min_waitTime, max_waitTime)\n",
      "numpy: Warning: underflow encountered in exp expression: origTaxiWaitTime = rng.lognormal_for_df(df, mu=origin_zone_taxi_wait_time_mean, sigma=origin_zone_taxi_wait_time_sd, broadcast=True, scale=True).clip(min_waitTime, max_waitTime)\n",
      "numpy: Warning: underflow encountered in exp expression: origTaxiWaitTime = rng.lognormal_for_df(df, mu=origin_zone_taxi_wait_time_mean, sigma=origin_zone_taxi_wait_time_sd, broadcast=True, scale=True).clip(min_waitTime, max_waitTime)\n",
      "numpy: Warning: underflow encountered in exp expression: origTaxiWaitTime = rng.lognormal_for_df(df, mu=origin_zone_taxi_wait_time_mean, sigma=origin_zone_taxi_wait_time_sd, broadcast=True, scale=True).clip(min_waitTime, max_waitTime)\n"
     ]
    },
    {
     "name": "stdout",
     "output_type": "stream",
     "text": [
      "trip_mode_choice tour_type 'othmaint' (46 trips)\n"
     ]
    },
    {
     "name": "stderr",
     "output_type": "stream",
     "text": [
      "numpy: Warning: underflow encountered in exp expression: origTaxiWaitTime = rng.lognormal_for_df(df, mu=origin_zone_taxi_wait_time_mean, sigma=origin_zone_taxi_wait_time_sd, broadcast=True, scale=True).clip(min_waitTime, max_waitTime)\n",
      "numpy: Warning: underflow encountered in exp expression: origTaxiWaitTime = rng.lognormal_for_df(df, mu=origin_zone_taxi_wait_time_mean, sigma=origin_zone_taxi_wait_time_sd, broadcast=True, scale=True).clip(min_waitTime, max_waitTime)\n",
      "numpy: Warning: underflow encountered in exp expression: origTaxiWaitTime = rng.lognormal_for_df(df, mu=origin_zone_taxi_wait_time_mean, sigma=origin_zone_taxi_wait_time_sd, broadcast=True, scale=True).clip(min_waitTime, max_waitTime)\n",
      "numpy: Warning: underflow encountered in exp expression: origTaxiWaitTime = rng.lognormal_for_df(df, mu=origin_zone_taxi_wait_time_mean, sigma=origin_zone_taxi_wait_time_sd, broadcast=True, scale=True).clip(min_waitTime, max_waitTime)\n",
      "numpy: Warning: underflow encountered in exp expression: origTaxiWaitTime = rng.lognormal_for_df(df, mu=origin_zone_taxi_wait_time_mean, sigma=origin_zone_taxi_wait_time_sd, broadcast=True, scale=True).clip(min_waitTime, max_waitTime)\n",
      "numpy: Warning: underflow encountered in exp expression: origTaxiWaitTime = rng.lognormal_for_df(df, mu=origin_zone_taxi_wait_time_mean, sigma=origin_zone_taxi_wait_time_sd, broadcast=True, scale=True).clip(min_waitTime, max_waitTime)\n",
      "numpy: Warning: underflow encountered in exp expression: origTaxiWaitTime = rng.lognormal_for_df(df, mu=origin_zone_taxi_wait_time_mean, sigma=origin_zone_taxi_wait_time_sd, broadcast=True, scale=True).clip(min_waitTime, max_waitTime)\n",
      "numpy: Warning: underflow encountered in exp expression: origTaxiWaitTime = rng.lognormal_for_df(df, mu=origin_zone_taxi_wait_time_mean, sigma=origin_zone_taxi_wait_time_sd, broadcast=True, scale=True).clip(min_waitTime, max_waitTime)\n",
      "numpy: Warning: underflow encountered in exp expression: origTaxiWaitTime = rng.lognormal_for_df(df, mu=origin_zone_taxi_wait_time_mean, sigma=origin_zone_taxi_wait_time_sd, broadcast=True, scale=True).clip(min_waitTime, max_waitTime)\n",
      "numpy: Warning: underflow encountered in exp expression: origTaxiWaitTime = rng.lognormal_for_df(df, mu=origin_zone_taxi_wait_time_mean, sigma=origin_zone_taxi_wait_time_sd, broadcast=True, scale=True).clip(min_waitTime, max_waitTime)\n",
      "numpy: Warning: underflow encountered in exp expression: origTaxiWaitTime = rng.lognormal_for_df(df, mu=origin_zone_taxi_wait_time_mean, sigma=origin_zone_taxi_wait_time_sd, broadcast=True, scale=True).clip(min_waitTime, max_waitTime)\n",
      "numpy: Warning: underflow encountered in exp expression: origTaxiWaitTime = rng.lognormal_for_df(df, mu=origin_zone_taxi_wait_time_mean, sigma=origin_zone_taxi_wait_time_sd, broadcast=True, scale=True).clip(min_waitTime, max_waitTime)\n",
      "numpy: Warning: underflow encountered in exp expression: origTaxiWaitTime = rng.lognormal_for_df(df, mu=origin_zone_taxi_wait_time_mean, sigma=origin_zone_taxi_wait_time_sd, broadcast=True, scale=True).clip(min_waitTime, max_waitTime)\n",
      "numpy: Warning: underflow encountered in exp expression: origTaxiWaitTime = rng.lognormal_for_df(df, mu=origin_zone_taxi_wait_time_mean, sigma=origin_zone_taxi_wait_time_sd, broadcast=True, scale=True).clip(min_waitTime, max_waitTime)\n",
      "numpy: Warning: underflow encountered in exp expression: origTaxiWaitTime = rng.lognormal_for_df(df, mu=origin_zone_taxi_wait_time_mean, sigma=origin_zone_taxi_wait_time_sd, broadcast=True, scale=True).clip(min_waitTime, max_waitTime)\n",
      "numpy: Warning: underflow encountered in exp expression: origTaxiWaitTime = rng.lognormal_for_df(df, mu=origin_zone_taxi_wait_time_mean, sigma=origin_zone_taxi_wait_time_sd, broadcast=True, scale=True).clip(min_waitTime, max_waitTime)\n",
      "numpy: Warning: underflow encountered in exp expression: origTaxiWaitTime = rng.lognormal_for_df(df, mu=origin_zone_taxi_wait_time_mean, sigma=origin_zone_taxi_wait_time_sd, broadcast=True, scale=True).clip(min_waitTime, max_waitTime)\n"
     ]
    },
    {
     "name": "stdout",
     "output_type": "stream",
     "text": [
      "trip_mode_choice tour_type 'school' (37 trips)\n"
     ]
    },
    {
     "name": "stderr",
     "output_type": "stream",
     "text": [
      "numpy: Warning: underflow encountered in exp expression: origTaxiWaitTime = rng.lognormal_for_df(df, mu=origin_zone_taxi_wait_time_mean, sigma=origin_zone_taxi_wait_time_sd, broadcast=True, scale=True).clip(min_waitTime, max_waitTime)\n",
      "numpy: Warning: underflow encountered in exp expression: origTaxiWaitTime = rng.lognormal_for_df(df, mu=origin_zone_taxi_wait_time_mean, sigma=origin_zone_taxi_wait_time_sd, broadcast=True, scale=True).clip(min_waitTime, max_waitTime)\n",
      "numpy: Warning: underflow encountered in exp expression: origTaxiWaitTime = rng.lognormal_for_df(df, mu=origin_zone_taxi_wait_time_mean, sigma=origin_zone_taxi_wait_time_sd, broadcast=True, scale=True).clip(min_waitTime, max_waitTime)\n",
      "numpy: Warning: underflow encountered in exp expression: origTaxiWaitTime = rng.lognormal_for_df(df, mu=origin_zone_taxi_wait_time_mean, sigma=origin_zone_taxi_wait_time_sd, broadcast=True, scale=True).clip(min_waitTime, max_waitTime)\n",
      "numpy: Warning: underflow encountered in exp expression: origTaxiWaitTime = rng.lognormal_for_df(df, mu=origin_zone_taxi_wait_time_mean, sigma=origin_zone_taxi_wait_time_sd, broadcast=True, scale=True).clip(min_waitTime, max_waitTime)\n",
      "numpy: Warning: underflow encountered in exp expression: origTaxiWaitTime = rng.lognormal_for_df(df, mu=origin_zone_taxi_wait_time_mean, sigma=origin_zone_taxi_wait_time_sd, broadcast=True, scale=True).clip(min_waitTime, max_waitTime)\n",
      "numpy: Warning: underflow encountered in exp expression: origTaxiWaitTime = rng.lognormal_for_df(df, mu=origin_zone_taxi_wait_time_mean, sigma=origin_zone_taxi_wait_time_sd, broadcast=True, scale=True).clip(min_waitTime, max_waitTime)\n",
      "numpy: Warning: underflow encountered in exp expression: origTaxiWaitTime = rng.lognormal_for_df(df, mu=origin_zone_taxi_wait_time_mean, sigma=origin_zone_taxi_wait_time_sd, broadcast=True, scale=True).clip(min_waitTime, max_waitTime)\n",
      "numpy: Warning: underflow encountered in exp expression: origTaxiWaitTime = rng.lognormal_for_df(df, mu=origin_zone_taxi_wait_time_mean, sigma=origin_zone_taxi_wait_time_sd, broadcast=True, scale=True).clip(min_waitTime, max_waitTime)\n",
      "numpy: Warning: underflow encountered in exp expression: origTaxiWaitTime = rng.lognormal_for_df(df, mu=origin_zone_taxi_wait_time_mean, sigma=origin_zone_taxi_wait_time_sd, broadcast=True, scale=True).clip(min_waitTime, max_waitTime)\n",
      "numpy: Warning: underflow encountered in exp expression: origTaxiWaitTime = rng.lognormal_for_df(df, mu=origin_zone_taxi_wait_time_mean, sigma=origin_zone_taxi_wait_time_sd, broadcast=True, scale=True).clip(min_waitTime, max_waitTime)\n",
      "numpy: Warning: underflow encountered in exp expression: origTaxiWaitTime = rng.lognormal_for_df(df, mu=origin_zone_taxi_wait_time_mean, sigma=origin_zone_taxi_wait_time_sd, broadcast=True, scale=True).clip(min_waitTime, max_waitTime)\n",
      "numpy: Warning: underflow encountered in exp expression: origTaxiWaitTime = rng.lognormal_for_df(df, mu=origin_zone_taxi_wait_time_mean, sigma=origin_zone_taxi_wait_time_sd, broadcast=True, scale=True).clip(min_waitTime, max_waitTime)\n",
      "numpy: Warning: underflow encountered in exp expression: origTaxiWaitTime = rng.lognormal_for_df(df, mu=origin_zone_taxi_wait_time_mean, sigma=origin_zone_taxi_wait_time_sd, broadcast=True, scale=True).clip(min_waitTime, max_waitTime)\n",
      "numpy: Warning: underflow encountered in exp expression: origTaxiWaitTime = rng.lognormal_for_df(df, mu=origin_zone_taxi_wait_time_mean, sigma=origin_zone_taxi_wait_time_sd, broadcast=True, scale=True).clip(min_waitTime, max_waitTime)\n",
      "numpy: Warning: underflow encountered in exp expression: origTaxiWaitTime = rng.lognormal_for_df(df, mu=origin_zone_taxi_wait_time_mean, sigma=origin_zone_taxi_wait_time_sd, broadcast=True, scale=True).clip(min_waitTime, max_waitTime)\n",
      "numpy: Warning: underflow encountered in exp expression: origTaxiWaitTime = rng.lognormal_for_df(df, mu=origin_zone_taxi_wait_time_mean, sigma=origin_zone_taxi_wait_time_sd, broadcast=True, scale=True).clip(min_waitTime, max_waitTime)\n"
     ]
    },
    {
     "name": "stdout",
     "output_type": "stream",
     "text": [
      "trip_mode_choice tour_type 'shopping' (77 trips)\n"
     ]
    },
    {
     "name": "stderr",
     "output_type": "stream",
     "text": [
      "numpy: Warning: underflow encountered in exp expression: origTaxiWaitTime = rng.lognormal_for_df(df, mu=origin_zone_taxi_wait_time_mean, sigma=origin_zone_taxi_wait_time_sd, broadcast=True, scale=True).clip(min_waitTime, max_waitTime)\n",
      "numpy: Warning: underflow encountered in exp expression: origTaxiWaitTime = rng.lognormal_for_df(df, mu=origin_zone_taxi_wait_time_mean, sigma=origin_zone_taxi_wait_time_sd, broadcast=True, scale=True).clip(min_waitTime, max_waitTime)\n",
      "numpy: Warning: underflow encountered in exp expression: origTaxiWaitTime = rng.lognormal_for_df(df, mu=origin_zone_taxi_wait_time_mean, sigma=origin_zone_taxi_wait_time_sd, broadcast=True, scale=True).clip(min_waitTime, max_waitTime)\n",
      "numpy: Warning: underflow encountered in exp expression: origTaxiWaitTime = rng.lognormal_for_df(df, mu=origin_zone_taxi_wait_time_mean, sigma=origin_zone_taxi_wait_time_sd, broadcast=True, scale=True).clip(min_waitTime, max_waitTime)\n",
      "numpy: Warning: underflow encountered in exp expression: origTaxiWaitTime = rng.lognormal_for_df(df, mu=origin_zone_taxi_wait_time_mean, sigma=origin_zone_taxi_wait_time_sd, broadcast=True, scale=True).clip(min_waitTime, max_waitTime)\n",
      "numpy: Warning: underflow encountered in exp expression: origTaxiWaitTime = rng.lognormal_for_df(df, mu=origin_zone_taxi_wait_time_mean, sigma=origin_zone_taxi_wait_time_sd, broadcast=True, scale=True).clip(min_waitTime, max_waitTime)\n",
      "numpy: Warning: underflow encountered in exp expression: origTaxiWaitTime = rng.lognormal_for_df(df, mu=origin_zone_taxi_wait_time_mean, sigma=origin_zone_taxi_wait_time_sd, broadcast=True, scale=True).clip(min_waitTime, max_waitTime)\n",
      "numpy: Warning: underflow encountered in exp expression: origTaxiWaitTime = rng.lognormal_for_df(df, mu=origin_zone_taxi_wait_time_mean, sigma=origin_zone_taxi_wait_time_sd, broadcast=True, scale=True).clip(min_waitTime, max_waitTime)\n",
      "numpy: Warning: underflow encountered in exp expression: origTaxiWaitTime = rng.lognormal_for_df(df, mu=origin_zone_taxi_wait_time_mean, sigma=origin_zone_taxi_wait_time_sd, broadcast=True, scale=True).clip(min_waitTime, max_waitTime)\n",
      "numpy: Warning: underflow encountered in exp expression: origTaxiWaitTime = rng.lognormal_for_df(df, mu=origin_zone_taxi_wait_time_mean, sigma=origin_zone_taxi_wait_time_sd, broadcast=True, scale=True).clip(min_waitTime, max_waitTime)\n",
      "numpy: Warning: underflow encountered in exp expression: origTaxiWaitTime = rng.lognormal_for_df(df, mu=origin_zone_taxi_wait_time_mean, sigma=origin_zone_taxi_wait_time_sd, broadcast=True, scale=True).clip(min_waitTime, max_waitTime)\n",
      "numpy: Warning: underflow encountered in exp expression: origTaxiWaitTime = rng.lognormal_for_df(df, mu=origin_zone_taxi_wait_time_mean, sigma=origin_zone_taxi_wait_time_sd, broadcast=True, scale=True).clip(min_waitTime, max_waitTime)\n",
      "numpy: Warning: underflow encountered in exp expression: origTaxiWaitTime = rng.lognormal_for_df(df, mu=origin_zone_taxi_wait_time_mean, sigma=origin_zone_taxi_wait_time_sd, broadcast=True, scale=True).clip(min_waitTime, max_waitTime)\n",
      "numpy: Warning: underflow encountered in exp expression: origTaxiWaitTime = rng.lognormal_for_df(df, mu=origin_zone_taxi_wait_time_mean, sigma=origin_zone_taxi_wait_time_sd, broadcast=True, scale=True).clip(min_waitTime, max_waitTime)\n",
      "numpy: Warning: underflow encountered in exp expression: origTaxiWaitTime = rng.lognormal_for_df(df, mu=origin_zone_taxi_wait_time_mean, sigma=origin_zone_taxi_wait_time_sd, broadcast=True, scale=True).clip(min_waitTime, max_waitTime)\n",
      "numpy: Warning: underflow encountered in exp expression: origTaxiWaitTime = rng.lognormal_for_df(df, mu=origin_zone_taxi_wait_time_mean, sigma=origin_zone_taxi_wait_time_sd, broadcast=True, scale=True).clip(min_waitTime, max_waitTime)\n",
      "numpy: Warning: underflow encountered in exp expression: origTaxiWaitTime = rng.lognormal_for_df(df, mu=origin_zone_taxi_wait_time_mean, sigma=origin_zone_taxi_wait_time_sd, broadcast=True, scale=True).clip(min_waitTime, max_waitTime)\n"
     ]
    },
    {
     "name": "stdout",
     "output_type": "stream",
     "text": [
      "trip_mode_choice tour_type 'social' (19 trips)\n"
     ]
    },
    {
     "name": "stderr",
     "output_type": "stream",
     "text": [
      "numpy: Warning: underflow encountered in exp expression: origTaxiWaitTime = rng.lognormal_for_df(df, mu=origin_zone_taxi_wait_time_mean, sigma=origin_zone_taxi_wait_time_sd, broadcast=True, scale=True).clip(min_waitTime, max_waitTime)\n",
      "numpy: Warning: underflow encountered in exp expression: origTaxiWaitTime = rng.lognormal_for_df(df, mu=origin_zone_taxi_wait_time_mean, sigma=origin_zone_taxi_wait_time_sd, broadcast=True, scale=True).clip(min_waitTime, max_waitTime)\n",
      "numpy: Warning: underflow encountered in exp expression: origTaxiWaitTime = rng.lognormal_for_df(df, mu=origin_zone_taxi_wait_time_mean, sigma=origin_zone_taxi_wait_time_sd, broadcast=True, scale=True).clip(min_waitTime, max_waitTime)\n",
      "numpy: Warning: underflow encountered in exp expression: origTaxiWaitTime = rng.lognormal_for_df(df, mu=origin_zone_taxi_wait_time_mean, sigma=origin_zone_taxi_wait_time_sd, broadcast=True, scale=True).clip(min_waitTime, max_waitTime)\n",
      "numpy: Warning: underflow encountered in exp expression: origTaxiWaitTime = rng.lognormal_for_df(df, mu=origin_zone_taxi_wait_time_mean, sigma=origin_zone_taxi_wait_time_sd, broadcast=True, scale=True).clip(min_waitTime, max_waitTime)\n",
      "numpy: Warning: underflow encountered in exp expression: origTaxiWaitTime = rng.lognormal_for_df(df, mu=origin_zone_taxi_wait_time_mean, sigma=origin_zone_taxi_wait_time_sd, broadcast=True, scale=True).clip(min_waitTime, max_waitTime)\n",
      "numpy: Warning: underflow encountered in exp expression: origTaxiWaitTime = rng.lognormal_for_df(df, mu=origin_zone_taxi_wait_time_mean, sigma=origin_zone_taxi_wait_time_sd, broadcast=True, scale=True).clip(min_waitTime, max_waitTime)\n",
      "numpy: Warning: underflow encountered in exp expression: origTaxiWaitTime = rng.lognormal_for_df(df, mu=origin_zone_taxi_wait_time_mean, sigma=origin_zone_taxi_wait_time_sd, broadcast=True, scale=True).clip(min_waitTime, max_waitTime)\n",
      "numpy: Warning: underflow encountered in exp expression: origTaxiWaitTime = rng.lognormal_for_df(df, mu=origin_zone_taxi_wait_time_mean, sigma=origin_zone_taxi_wait_time_sd, broadcast=True, scale=True).clip(min_waitTime, max_waitTime)\n",
      "numpy: Warning: underflow encountered in exp expression: origTaxiWaitTime = rng.lognormal_for_df(df, mu=origin_zone_taxi_wait_time_mean, sigma=origin_zone_taxi_wait_time_sd, broadcast=True, scale=True).clip(min_waitTime, max_waitTime)\n",
      "numpy: Warning: underflow encountered in exp expression: origTaxiWaitTime = rng.lognormal_for_df(df, mu=origin_zone_taxi_wait_time_mean, sigma=origin_zone_taxi_wait_time_sd, broadcast=True, scale=True).clip(min_waitTime, max_waitTime)\n",
      "numpy: Warning: underflow encountered in exp expression: origTaxiWaitTime = rng.lognormal_for_df(df, mu=origin_zone_taxi_wait_time_mean, sigma=origin_zone_taxi_wait_time_sd, broadcast=True, scale=True).clip(min_waitTime, max_waitTime)\n",
      "numpy: Warning: underflow encountered in exp expression: origTaxiWaitTime = rng.lognormal_for_df(df, mu=origin_zone_taxi_wait_time_mean, sigma=origin_zone_taxi_wait_time_sd, broadcast=True, scale=True).clip(min_waitTime, max_waitTime)\n",
      "numpy: Warning: underflow encountered in exp expression: origTaxiWaitTime = rng.lognormal_for_df(df, mu=origin_zone_taxi_wait_time_mean, sigma=origin_zone_taxi_wait_time_sd, broadcast=True, scale=True).clip(min_waitTime, max_waitTime)\n",
      "numpy: Warning: underflow encountered in exp expression: origTaxiWaitTime = rng.lognormal_for_df(df, mu=origin_zone_taxi_wait_time_mean, sigma=origin_zone_taxi_wait_time_sd, broadcast=True, scale=True).clip(min_waitTime, max_waitTime)\n",
      "numpy: Warning: underflow encountered in exp expression: origTaxiWaitTime = rng.lognormal_for_df(df, mu=origin_zone_taxi_wait_time_mean, sigma=origin_zone_taxi_wait_time_sd, broadcast=True, scale=True).clip(min_waitTime, max_waitTime)\n",
      "numpy: Warning: underflow encountered in exp expression: origTaxiWaitTime = rng.lognormal_for_df(df, mu=origin_zone_taxi_wait_time_mean, sigma=origin_zone_taxi_wait_time_sd, broadcast=True, scale=True).clip(min_waitTime, max_waitTime)\n"
     ]
    },
    {
     "name": "stdout",
     "output_type": "stream",
     "text": [
      "trip_mode_choice tour_type 'univ' (26 trips)\n"
     ]
    },
    {
     "name": "stderr",
     "output_type": "stream",
     "text": [
      "numpy: Warning: underflow encountered in exp expression: origTaxiWaitTime = rng.lognormal_for_df(df, mu=origin_zone_taxi_wait_time_mean, sigma=origin_zone_taxi_wait_time_sd, broadcast=True, scale=True).clip(min_waitTime, max_waitTime)\n",
      "numpy: Warning: underflow encountered in exp expression: origTaxiWaitTime = rng.lognormal_for_df(df, mu=origin_zone_taxi_wait_time_mean, sigma=origin_zone_taxi_wait_time_sd, broadcast=True, scale=True).clip(min_waitTime, max_waitTime)\n",
      "numpy: Warning: underflow encountered in exp expression: origTaxiWaitTime = rng.lognormal_for_df(df, mu=origin_zone_taxi_wait_time_mean, sigma=origin_zone_taxi_wait_time_sd, broadcast=True, scale=True).clip(min_waitTime, max_waitTime)\n",
      "numpy: Warning: underflow encountered in exp expression: origTaxiWaitTime = rng.lognormal_for_df(df, mu=origin_zone_taxi_wait_time_mean, sigma=origin_zone_taxi_wait_time_sd, broadcast=True, scale=True).clip(min_waitTime, max_waitTime)\n",
      "numpy: Warning: underflow encountered in exp expression: origTaxiWaitTime = rng.lognormal_for_df(df, mu=origin_zone_taxi_wait_time_mean, sigma=origin_zone_taxi_wait_time_sd, broadcast=True, scale=True).clip(min_waitTime, max_waitTime)\n",
      "numpy: Warning: underflow encountered in exp expression: origTaxiWaitTime = rng.lognormal_for_df(df, mu=origin_zone_taxi_wait_time_mean, sigma=origin_zone_taxi_wait_time_sd, broadcast=True, scale=True).clip(min_waitTime, max_waitTime)\n",
      "numpy: Warning: underflow encountered in exp expression: origTaxiWaitTime = rng.lognormal_for_df(df, mu=origin_zone_taxi_wait_time_mean, sigma=origin_zone_taxi_wait_time_sd, broadcast=True, scale=True).clip(min_waitTime, max_waitTime)\n",
      "numpy: Warning: underflow encountered in exp expression: origTaxiWaitTime = rng.lognormal_for_df(df, mu=origin_zone_taxi_wait_time_mean, sigma=origin_zone_taxi_wait_time_sd, broadcast=True, scale=True).clip(min_waitTime, max_waitTime)\n",
      "numpy: Warning: underflow encountered in exp expression: origTaxiWaitTime = rng.lognormal_for_df(df, mu=origin_zone_taxi_wait_time_mean, sigma=origin_zone_taxi_wait_time_sd, broadcast=True, scale=True).clip(min_waitTime, max_waitTime)\n",
      "numpy: Warning: underflow encountered in exp expression: origTaxiWaitTime = rng.lognormal_for_df(df, mu=origin_zone_taxi_wait_time_mean, sigma=origin_zone_taxi_wait_time_sd, broadcast=True, scale=True).clip(min_waitTime, max_waitTime)\n",
      "numpy: Warning: underflow encountered in exp expression: origTaxiWaitTime = rng.lognormal_for_df(df, mu=origin_zone_taxi_wait_time_mean, sigma=origin_zone_taxi_wait_time_sd, broadcast=True, scale=True).clip(min_waitTime, max_waitTime)\n",
      "numpy: Warning: underflow encountered in exp expression: origTaxiWaitTime = rng.lognormal_for_df(df, mu=origin_zone_taxi_wait_time_mean, sigma=origin_zone_taxi_wait_time_sd, broadcast=True, scale=True).clip(min_waitTime, max_waitTime)\n",
      "numpy: Warning: underflow encountered in exp expression: origTaxiWaitTime = rng.lognormal_for_df(df, mu=origin_zone_taxi_wait_time_mean, sigma=origin_zone_taxi_wait_time_sd, broadcast=True, scale=True).clip(min_waitTime, max_waitTime)\n",
      "numpy: Warning: underflow encountered in exp expression: origTaxiWaitTime = rng.lognormal_for_df(df, mu=origin_zone_taxi_wait_time_mean, sigma=origin_zone_taxi_wait_time_sd, broadcast=True, scale=True).clip(min_waitTime, max_waitTime)\n",
      "numpy: Warning: underflow encountered in exp expression: origTaxiWaitTime = rng.lognormal_for_df(df, mu=origin_zone_taxi_wait_time_mean, sigma=origin_zone_taxi_wait_time_sd, broadcast=True, scale=True).clip(min_waitTime, max_waitTime)\n",
      "numpy: Warning: underflow encountered in exp expression: origTaxiWaitTime = rng.lognormal_for_df(df, mu=origin_zone_taxi_wait_time_mean, sigma=origin_zone_taxi_wait_time_sd, broadcast=True, scale=True).clip(min_waitTime, max_waitTime)\n",
      "numpy: Warning: underflow encountered in exp expression: origTaxiWaitTime = rng.lognormal_for_df(df, mu=origin_zone_taxi_wait_time_mean, sigma=origin_zone_taxi_wait_time_sd, broadcast=True, scale=True).clip(min_waitTime, max_waitTime)\n"
     ]
    },
    {
     "name": "stdout",
     "output_type": "stream",
     "text": [
      "trip_mode_choice tour_type 'work' (168 trips)\n"
     ]
    },
    {
     "name": "stderr",
     "output_type": "stream",
     "text": [
      "numpy: Warning: underflow encountered in exp expression: origTaxiWaitTime = rng.lognormal_for_df(df, mu=origin_zone_taxi_wait_time_mean, sigma=origin_zone_taxi_wait_time_sd, broadcast=True, scale=True).clip(min_waitTime, max_waitTime)\n",
      "numpy: Warning: underflow encountered in exp expression: origTaxiWaitTime = rng.lognormal_for_df(df, mu=origin_zone_taxi_wait_time_mean, sigma=origin_zone_taxi_wait_time_sd, broadcast=True, scale=True).clip(min_waitTime, max_waitTime)\n",
      "numpy: Warning: underflow encountered in exp expression: origTaxiWaitTime = rng.lognormal_for_df(df, mu=origin_zone_taxi_wait_time_mean, sigma=origin_zone_taxi_wait_time_sd, broadcast=True, scale=True).clip(min_waitTime, max_waitTime)\n",
      "numpy: Warning: underflow encountered in exp expression: origTaxiWaitTime = rng.lognormal_for_df(df, mu=origin_zone_taxi_wait_time_mean, sigma=origin_zone_taxi_wait_time_sd, broadcast=True, scale=True).clip(min_waitTime, max_waitTime)\n",
      "numpy: Warning: underflow encountered in exp expression: origTaxiWaitTime = rng.lognormal_for_df(df, mu=origin_zone_taxi_wait_time_mean, sigma=origin_zone_taxi_wait_time_sd, broadcast=True, scale=True).clip(min_waitTime, max_waitTime)\n",
      "numpy: Warning: underflow encountered in exp expression: origTaxiWaitTime = rng.lognormal_for_df(df, mu=origin_zone_taxi_wait_time_mean, sigma=origin_zone_taxi_wait_time_sd, broadcast=True, scale=True).clip(min_waitTime, max_waitTime)\n",
      "numpy: Warning: underflow encountered in exp expression: origTaxiWaitTime = rng.lognormal_for_df(df, mu=origin_zone_taxi_wait_time_mean, sigma=origin_zone_taxi_wait_time_sd, broadcast=True, scale=True).clip(min_waitTime, max_waitTime)\n",
      "numpy: Warning: underflow encountered in exp expression: origTaxiWaitTime = rng.lognormal_for_df(df, mu=origin_zone_taxi_wait_time_mean, sigma=origin_zone_taxi_wait_time_sd, broadcast=True, scale=True).clip(min_waitTime, max_waitTime)\n",
      "numpy: Warning: underflow encountered in exp expression: origTaxiWaitTime = rng.lognormal_for_df(df, mu=origin_zone_taxi_wait_time_mean, sigma=origin_zone_taxi_wait_time_sd, broadcast=True, scale=True).clip(min_waitTime, max_waitTime)\n",
      "numpy: Warning: underflow encountered in exp expression: origTaxiWaitTime = rng.lognormal_for_df(df, mu=origin_zone_taxi_wait_time_mean, sigma=origin_zone_taxi_wait_time_sd, broadcast=True, scale=True).clip(min_waitTime, max_waitTime)\n",
      "numpy: Warning: underflow encountered in exp expression: origTaxiWaitTime = rng.lognormal_for_df(df, mu=origin_zone_taxi_wait_time_mean, sigma=origin_zone_taxi_wait_time_sd, broadcast=True, scale=True).clip(min_waitTime, max_waitTime)\n",
      "numpy: Warning: underflow encountered in exp expression: origTaxiWaitTime = rng.lognormal_for_df(df, mu=origin_zone_taxi_wait_time_mean, sigma=origin_zone_taxi_wait_time_sd, broadcast=True, scale=True).clip(min_waitTime, max_waitTime)\n",
      "numpy: Warning: underflow encountered in exp expression: origTaxiWaitTime = rng.lognormal_for_df(df, mu=origin_zone_taxi_wait_time_mean, sigma=origin_zone_taxi_wait_time_sd, broadcast=True, scale=True).clip(min_waitTime, max_waitTime)\n",
      "numpy: Warning: underflow encountered in exp expression: origTaxiWaitTime = rng.lognormal_for_df(df, mu=origin_zone_taxi_wait_time_mean, sigma=origin_zone_taxi_wait_time_sd, broadcast=True, scale=True).clip(min_waitTime, max_waitTime)\n",
      "numpy: Warning: underflow encountered in exp expression: origTaxiWaitTime = rng.lognormal_for_df(df, mu=origin_zone_taxi_wait_time_mean, sigma=origin_zone_taxi_wait_time_sd, broadcast=True, scale=True).clip(min_waitTime, max_waitTime)\n",
      "numpy: Warning: underflow encountered in exp expression: origTaxiWaitTime = rng.lognormal_for_df(df, mu=origin_zone_taxi_wait_time_mean, sigma=origin_zone_taxi_wait_time_sd, broadcast=True, scale=True).clip(min_waitTime, max_waitTime)\n",
      "numpy: Warning: underflow encountered in exp expression: origTaxiWaitTime = rng.lognormal_for_df(df, mu=origin_zone_taxi_wait_time_mean, sigma=origin_zone_taxi_wait_time_sd, broadcast=True, scale=True).clip(min_waitTime, max_waitTime)\n"
     ]
    },
    {
     "name": "stdout",
     "output_type": "stream",
     "text": [
      "Done\n"
     ]
    }
   ],
   "source": [
    "from fru_utils import run_trip_mode_choice\n",
    "trips_df_ru = run_trip_mode_choice()\n",
    "trips_df = run_trip_mode_choice(choose_individual_max_utility=False)"
   ]
  },
  {
   "cell_type": "code",
   "execution_count": 189,
   "outputs": [
    {
     "data": {
      "text/plain": "                trip_mode_fru  trip_mode_asim\nWALK                      299             304\nWALK_LOC                   94              85\nWALK_LRF                   57              53\nBIKE                       17              17\nDRIVEALONEFREE              6               4\nWALK_HVY                    4               4\nSHARED2FREE                 3               4\nTNC_SINGLE                  2               4",
      "text/html": "<div>\n<style scoped>\n    .dataframe tbody tr th:only-of-type {\n        vertical-align: middle;\n    }\n\n    .dataframe tbody tr th {\n        vertical-align: top;\n    }\n\n    .dataframe thead th {\n        text-align: right;\n    }\n</style>\n<table border=\"1\" class=\"dataframe\">\n  <thead>\n    <tr style=\"text-align: right;\">\n      <th></th>\n      <th>trip_mode_fru</th>\n      <th>trip_mode_asim</th>\n    </tr>\n  </thead>\n  <tbody>\n    <tr>\n      <th>WALK</th>\n      <td>299</td>\n      <td>304</td>\n    </tr>\n    <tr>\n      <th>WALK_LOC</th>\n      <td>94</td>\n      <td>85</td>\n    </tr>\n    <tr>\n      <th>WALK_LRF</th>\n      <td>57</td>\n      <td>53</td>\n    </tr>\n    <tr>\n      <th>BIKE</th>\n      <td>17</td>\n      <td>17</td>\n    </tr>\n    <tr>\n      <th>DRIVEALONEFREE</th>\n      <td>6</td>\n      <td>4</td>\n    </tr>\n    <tr>\n      <th>WALK_HVY</th>\n      <td>4</td>\n      <td>4</td>\n    </tr>\n    <tr>\n      <th>SHARED2FREE</th>\n      <td>3</td>\n      <td>4</td>\n    </tr>\n    <tr>\n      <th>TNC_SINGLE</th>\n      <td>2</td>\n      <td>4</td>\n    </tr>\n  </tbody>\n</table>\n</div>"
     },
     "execution_count": 189,
     "metadata": {},
     "output_type": "execute_result"
    }
   ],
   "source": [
    "c_ = [\"trip_mode\", \"mode_choice_logsum\"]\n",
    "trips = trips_df_ru[c_].merge(trips_df[c_], left_index=True, right_index=True, how=\"outer\", suffixes=[\"_fru\", \"_asim\"])\n",
    "pd.merge(trips_df_ru.trip_mode.value_counts(), trips_df.trip_mode.value_counts(), left_index=True, right_index=True,\n",
    "         suffixes=[\"_fru\", \"_asim\"])"
   ],
   "metadata": {
    "collapsed": false,
    "pycharm": {
     "name": "#%%\n"
    }
   }
  },
  {
   "cell_type": "code",
   "execution_count": 190,
   "outputs": [
    {
     "name": "stdout",
     "output_type": "stream",
     "text": [
      "Logsums agree\n"
     ]
    }
   ],
   "source": [
    "if np.allclose(trips.mode_choice_logsum_fru, trips.mode_choice_logsum_asim):\n",
    "    print(\"Logsums agree\")\n",
    "else:\n",
    "    ((trips.mode_choice_logsum_fru - trips.mode_choice_logsum_asim) / trips.mode_choice_logsum_fru).hist(bins=50)"
   ],
   "metadata": {
    "collapsed": false,
    "pycharm": {
     "name": "#%%\n"
    }
   }
  },
  {
   "cell_type": "code",
   "execution_count": 187,
   "outputs": [
    {
     "data": {
      "text/plain": "            DRIVEALONEFREE  DRIVEALONEPAY  DRIVEALONE  SHARED2FREE  \\\ntrip_id                                                              \n8805121       -5709.149390   -8563.435105        -inf -2856.962423   \n8805125       -5710.236852   -8564.522566        -inf -2857.805670   \n8805126       -5709.506304   -8563.792018        -inf -2857.185402   \n468119921     -2856.413143   -5710.698857        -inf -2855.880864   \n468119922     -2856.976497   -5711.262211        -inf -2856.444428   \n468119925     -2870.186517   -5724.472231        -inf -2863.993439   \n468119926     -2857.935513   -5712.221227        -inf -2856.918910   \n468119927     -2859.140866   -5713.426580        -inf -2857.537407   \n468119928     -2869.283122   -5723.568836        -inf -2863.287255   \n642446345     -5709.613741   -8563.899455        -inf   -10.654154   \n642446349     -5711.108042   -8565.393757        -inf   -11.507365   \n1179608009    -8563.419303  -11417.705017        -inf   -17.616599   \n1179608013    -8571.196804  -11425.482519        -inf   -22.061100   \n1658807153    -5709.137752   -8563.423466        -inf   -19.719413   \n1658807157    -5710.005638   -8564.291352        -inf   -20.220421   \n1767182945    -5709.423410   -8563.709124        -inf   -10.469202   \n1767182949    -5709.668094   -8563.953808        -inf   -10.618407   \n2464104881    -5709.489682   -8563.775396        -inf   -12.625725   \n2464104885    -5709.489682   -8563.775396        -inf   -12.625725   \n\n             SHARED2PAY  SHAREDRIDE2  SHARED3FREE   SHARED3PAY  SHAREDRIDE3  \\\ntrip_id                                                                       \n8805121    -5711.248137         -inf -2856.962379 -5711.248093         -inf   \n8805125    -5712.091384         -inf -2857.707940 -5711.993654         -inf   \n8805126    -5711.471116         -inf -2857.131784 -5711.417498         -inf   \n468119921  -5710.166578         -inf -2855.667952 -5709.953666         -inf   \n468119922  -5710.730142         -inf -2856.231600 -5710.517314         -inf   \n468119925  -5718.279154         -inf -2861.516208 -5715.801922         -inf   \n468119926  -5711.204625         -inf -2856.512269 -5710.797984         -inf   \n468119927  -5711.823121         -inf -2856.896023 -5711.181738         -inf   \n468119928  -5717.572969         -inf -2860.888909 -5715.174623         -inf   \n642446345  -2864.939868    -5.179103   -62.836260 -2917.121974   -30.545404   \n642446349  -2865.793079    -5.593858   -63.433034 -2917.718749   -30.835503   \n1179608009 -2871.902313    -8.563624   -19.761289 -2874.047003    -9.606182   \n1179608013 -2876.346814   -10.724146   -22.872589 -2877.158304   -11.118620   \n1658807153 -2874.005127    -9.585826   -21.864019 -2876.149734   -10.628343   \n1658807157 -2874.506135    -9.829371   -22.218276 -2876.503991   -10.800551   \n1767182945 -2864.754916    -5.089195   -62.653459 -2916.939174   -30.456543   \n1767182949 -2864.904122    -5.161726   -62.764474 -2917.050188   -30.510508   \n2464104881 -2866.911439    -6.137505   -64.806540 -2919.092254   -31.503179   \n2464104885 -2866.911439    -6.137505   -64.806540 -2919.092254   -31.503179   \n\n                AUTO       WALK         BIKE  NONMOTORIZED     WALK_LOC  \\\ntrip_id                                                                   \n8805121         -inf  12.460532 -1375.039468      8.971583 -1980.409272   \n8805125         -inf  12.557754 -1374.990857      9.041583 -3978.191234   \n8805126         -inf  12.207754 -1375.165857      8.789583 -1980.441864   \n468119921       -inf  10.647096 -1376.595265      7.665909 -1984.028282   \n468119922       -inf  -0.158141 -1387.385919     -0.113862 -2003.585155   \n468119925       -inf  -0.158141 -1387.385919     -0.113862 -2003.585155   \n468119926       -inf  10.734596 -1376.551515      7.728909 -1987.731834   \n468119927       -inf  10.765788 -1376.855740      7.751367 -1987.818125   \n468119928       -inf  11.707060 -1375.408912      8.429083 -1985.936364   \n642446345  -3.728954  -2.097408 -1387.343797     -1.510134     1.093980   \n642446349  -4.027578  -2.146019 -1387.353519     -1.545134     1.192207   \n1179608009 -5.948375   4.880186 -1378.113147      3.513734 -1984.050332   \n1179608013 -7.350415   4.880186 -1378.113147      3.513734 -1984.050332   \n1658807153 -6.684352   6.456402 -1376.357071      4.648609    15.268960   \n1658807157 -6.845959   6.407790 -1376.381376      4.613609    14.530278   \n1767182945 -3.664221  -3.606195 -1388.969251     -2.596460    -0.555751   \n1767182949 -3.716443  -3.776334 -1389.003278     -2.718960    -0.579012   \n2464104881 -4.419004   8.134630 -1378.288147      5.856934    10.502444   \n2464104885 -4.419004   8.134630 -1378.288147      5.856934    10.666689   \n\n               WALK_LRF     WALK_EXP     WALK_HVY     WALK_COM  WALKACCESS  \\\ntrip_id                                                                      \n8805121    -3978.409272 -3978.409272 -3978.409272 -3978.409272        -inf   \n8805125    -3978.191234 -3978.191234 -3978.191234 -3978.191234        -inf   \n8805126    -3978.441864 -3978.791864 -3978.441864 -3978.441864        -inf   \n468119921  -3982.028282 -3982.028282 -3982.028282 -3982.028282        -inf   \n468119922  -4001.585155 -4001.935155 -4001.585155 -4001.585155        -inf   \n468119925  -4001.585155 -4001.585155 -4001.585155 -4001.585155        -inf   \n468119926  -3985.731834 -3986.081834 -3985.731834 -3985.731834        -inf   \n468119927  -3985.818125 -3986.168125 -3985.818125 -3985.818125        -inf   \n468119928  -3983.936364 -3984.286364 -3983.936364 -3983.936364        -inf   \n642446345      3.035970 -1995.576420 -1995.597276 -1995.880220    2.140923   \n642446349      3.035270 -1994.736869 -1995.597276 -1995.040669    2.145065   \n1179608009 -1984.050332 -1984.050332 -1984.050332 -1984.050332        -inf   \n1179608013 -1984.050332 -1984.050332 -1984.050332 -1984.050332        -inf   \n1658807153 -1982.731040 -1982.731040 -1982.731040 -1982.731040   10.603444   \n1658807157 -1983.469722 -1983.469722 -1983.469722 -1983.469722   10.090471   \n1767182945     0.665917 -1997.106222 -1997.397020 -1997.410022    0.546586   \n1767182949     0.665917 -1997.106222 -1997.408920 -1997.410022    0.544118   \n2464104881 -1986.419156 -1986.167956 -1986.416956 -1986.471756    7.293364   \n2464104885 -1986.254911 -1986.003711 -1986.252711 -1986.307511    7.407423   \n\n              DRIVE_LOC    DRIVE_LRF    DRIVE_EXP    DRIVE_HVY    DRIVE_COM  \\\ntrip_id                                                                       \n8805121    -5976.701052 -5979.008301 -5979.008301 -5979.622112 -5980.000155   \n8805125    -5976.250034 -5976.250034 -5976.250034 -5976.250034 -5976.250034   \n8805126    -5976.561059 -5980.066360 -5980.066360 -5977.489912 -5981.139291   \n468119921  -1987.917275 -3986.634667 -3986.634667 -3988.159653 -3989.540253   \n468119922  -1999.781073 -4002.350822 -4002.350822 -4003.314328 -4005.292790   \n468119925  -1999.856900 -4003.785211 -4003.785211 -4001.364128 -4006.015621   \n468119926  -1987.922393 -3991.085771 -3991.085771 -3985.679774 -3991.883814   \n468119927  -1984.330401 -3988.035744 -3988.035744 -3985.888572 -3992.028453   \n468119928  -1986.084720 -3989.542402 -3989.542402 -3984.015305 -3990.339045   \n642446345  -5993.059741 -5996.236057 -5996.236057 -5996.847988 -5998.040211   \n642446349  -5993.114899 -5996.745065 -5996.745065 -5994.750788 -5998.886171   \n1179608009 -7978.109132 -7978.109132 -7978.109132 -7978.109132 -7978.109132   \n1179608013 -7978.109132 -7978.109132 -7978.109132 -7978.109132 -7978.109132   \n1658807153 -5978.797090 -5981.645926 -5981.645926 -5982.436880 -5983.088374   \n1658807157 -5979.569178 -5984.301635 -5984.301635 -5980.452579 -5984.874558   \n1767182945 -5994.656309 -5997.269370 -5997.269370 -5997.769890 -5998.629581   \n1767182949 -5994.664265 -5997.497589 -5997.497589 -5995.576790 -5998.540328   \n2464104881 -5983.483693 -5989.023319 -5989.023319 -5991.399546 -5994.064540   \n2464104885 -5983.469343 -5991.354620 -5991.354620 -5989.123846 -5997.222704   \n\n            DRIVEACCESS   TRANSIT       TAXI  TNC_SINGLE  TNC_SHARED  \\\ntrip_id                                                                \n8805121            -inf      -inf -20.081973  -19.473153  -20.804324   \n8805125            -inf      -inf -20.047538  -19.456673  -20.779823   \n8805126            -inf      -inf -20.169318  -19.513014  -20.864116   \n468119921          -inf      -inf -26.859498  -30.543501  -25.552660   \n468119922          -inf      -inf -26.820071  -30.516140  -25.512174   \n468119925          -inf      -inf -26.824219  -30.517112  -25.513632   \n468119926          -inf      -inf -26.316039  -30.492180  -25.480679   \n468119927          -inf      -inf -24.418379  -30.418607  -25.374051   \n468119928          -inf      -inf -27.800562  -30.563790  -25.697316   \n642446345          -inf  1.541464 -18.289778  -17.981922  -17.196617   \n642446349          -inf  1.544447 -18.324954  -17.976575  -17.192002   \n1179608009         -inf      -inf  -8.526813    0.047647   -2.273228   \n1179608013         -inf      -inf  -8.527679    0.047161   -2.273957   \n1658807153         -inf  7.634480  -8.591632    0.206340   -2.227894   \n1658807157         -inf  7.265139  -8.647127    0.198076   -2.240290   \n1767182945         -inf  0.393542 -14.395026  -13.588217  -14.958046   \n1767182949         -inf  0.391765 -14.435998  -13.608147  -14.995707   \n2464104881         -inf  5.251222 -24.155944  -33.809528  -23.204042   \n2464104885         -inf  5.333344 -24.155944  -33.809528  -23.204042   \n\n            RIDEHAIL      root  \ntrip_id                         \n8805121    -6.797103  8.971583  \n8805125    -6.788793  9.041583  \n8805126    -6.817566  8.789583  \n468119921  -9.110799  7.665909  \n468119922  -9.096330 -0.113736  \n468119925  -9.097058 -0.113736  \n468119926  -9.041678  7.728909  \n468119927  -8.672837  7.751368  \n468119928  -9.207112  8.429083  \n642446345  -5.980956  1.593075  \n642446349  -5.981865  1.593106  \n1179608009  0.050933  3.544670  \n1179608013  0.050750  3.544608  \n1658807153  0.104584  7.684253  \n1658807157  0.101487  7.334029  \n1767182945 -4.700641  0.464659  \n1767182949 -4.710741  0.456698  \n2464104881 -8.235935  6.292424  \n2464104885 -8.235935  6.322192  ",
      "text/html": "<div>\n<style scoped>\n    .dataframe tbody tr th:only-of-type {\n        vertical-align: middle;\n    }\n\n    .dataframe tbody tr th {\n        vertical-align: top;\n    }\n\n    .dataframe thead th {\n        text-align: right;\n    }\n</style>\n<table border=\"1\" class=\"dataframe\">\n  <thead>\n    <tr style=\"text-align: right;\">\n      <th></th>\n      <th>DRIVEALONEFREE</th>\n      <th>DRIVEALONEPAY</th>\n      <th>DRIVEALONE</th>\n      <th>SHARED2FREE</th>\n      <th>SHARED2PAY</th>\n      <th>SHAREDRIDE2</th>\n      <th>SHARED3FREE</th>\n      <th>SHARED3PAY</th>\n      <th>SHAREDRIDE3</th>\n      <th>AUTO</th>\n      <th>WALK</th>\n      <th>BIKE</th>\n      <th>NONMOTORIZED</th>\n      <th>WALK_LOC</th>\n      <th>WALK_LRF</th>\n      <th>WALK_EXP</th>\n      <th>WALK_HVY</th>\n      <th>WALK_COM</th>\n      <th>WALKACCESS</th>\n      <th>DRIVE_LOC</th>\n      <th>DRIVE_LRF</th>\n      <th>DRIVE_EXP</th>\n      <th>DRIVE_HVY</th>\n      <th>DRIVE_COM</th>\n      <th>DRIVEACCESS</th>\n      <th>TRANSIT</th>\n      <th>TAXI</th>\n      <th>TNC_SINGLE</th>\n      <th>TNC_SHARED</th>\n      <th>RIDEHAIL</th>\n      <th>root</th>\n    </tr>\n    <tr>\n      <th>trip_id</th>\n      <th></th>\n      <th></th>\n      <th></th>\n      <th></th>\n      <th></th>\n      <th></th>\n      <th></th>\n      <th></th>\n      <th></th>\n      <th></th>\n      <th></th>\n      <th></th>\n      <th></th>\n      <th></th>\n      <th></th>\n      <th></th>\n      <th></th>\n      <th></th>\n      <th></th>\n      <th></th>\n      <th></th>\n      <th></th>\n      <th></th>\n      <th></th>\n      <th></th>\n      <th></th>\n      <th></th>\n      <th></th>\n      <th></th>\n      <th></th>\n      <th></th>\n    </tr>\n  </thead>\n  <tbody>\n    <tr>\n      <th>8805121</th>\n      <td>-5709.149390</td>\n      <td>-8563.435105</td>\n      <td>-inf</td>\n      <td>-2856.962423</td>\n      <td>-5711.248137</td>\n      <td>-inf</td>\n      <td>-2856.962379</td>\n      <td>-5711.248093</td>\n      <td>-inf</td>\n      <td>-inf</td>\n      <td>12.460532</td>\n      <td>-1375.039468</td>\n      <td>8.971583</td>\n      <td>-1980.409272</td>\n      <td>-3978.409272</td>\n      <td>-3978.409272</td>\n      <td>-3978.409272</td>\n      <td>-3978.409272</td>\n      <td>-inf</td>\n      <td>-5976.701052</td>\n      <td>-5979.008301</td>\n      <td>-5979.008301</td>\n      <td>-5979.622112</td>\n      <td>-5980.000155</td>\n      <td>-inf</td>\n      <td>-inf</td>\n      <td>-20.081973</td>\n      <td>-19.473153</td>\n      <td>-20.804324</td>\n      <td>-6.797103</td>\n      <td>8.971583</td>\n    </tr>\n    <tr>\n      <th>8805125</th>\n      <td>-5710.236852</td>\n      <td>-8564.522566</td>\n      <td>-inf</td>\n      <td>-2857.805670</td>\n      <td>-5712.091384</td>\n      <td>-inf</td>\n      <td>-2857.707940</td>\n      <td>-5711.993654</td>\n      <td>-inf</td>\n      <td>-inf</td>\n      <td>12.557754</td>\n      <td>-1374.990857</td>\n      <td>9.041583</td>\n      <td>-3978.191234</td>\n      <td>-3978.191234</td>\n      <td>-3978.191234</td>\n      <td>-3978.191234</td>\n      <td>-3978.191234</td>\n      <td>-inf</td>\n      <td>-5976.250034</td>\n      <td>-5976.250034</td>\n      <td>-5976.250034</td>\n      <td>-5976.250034</td>\n      <td>-5976.250034</td>\n      <td>-inf</td>\n      <td>-inf</td>\n      <td>-20.047538</td>\n      <td>-19.456673</td>\n      <td>-20.779823</td>\n      <td>-6.788793</td>\n      <td>9.041583</td>\n    </tr>\n    <tr>\n      <th>8805126</th>\n      <td>-5709.506304</td>\n      <td>-8563.792018</td>\n      <td>-inf</td>\n      <td>-2857.185402</td>\n      <td>-5711.471116</td>\n      <td>-inf</td>\n      <td>-2857.131784</td>\n      <td>-5711.417498</td>\n      <td>-inf</td>\n      <td>-inf</td>\n      <td>12.207754</td>\n      <td>-1375.165857</td>\n      <td>8.789583</td>\n      <td>-1980.441864</td>\n      <td>-3978.441864</td>\n      <td>-3978.791864</td>\n      <td>-3978.441864</td>\n      <td>-3978.441864</td>\n      <td>-inf</td>\n      <td>-5976.561059</td>\n      <td>-5980.066360</td>\n      <td>-5980.066360</td>\n      <td>-5977.489912</td>\n      <td>-5981.139291</td>\n      <td>-inf</td>\n      <td>-inf</td>\n      <td>-20.169318</td>\n      <td>-19.513014</td>\n      <td>-20.864116</td>\n      <td>-6.817566</td>\n      <td>8.789583</td>\n    </tr>\n    <tr>\n      <th>468119921</th>\n      <td>-2856.413143</td>\n      <td>-5710.698857</td>\n      <td>-inf</td>\n      <td>-2855.880864</td>\n      <td>-5710.166578</td>\n      <td>-inf</td>\n      <td>-2855.667952</td>\n      <td>-5709.953666</td>\n      <td>-inf</td>\n      <td>-inf</td>\n      <td>10.647096</td>\n      <td>-1376.595265</td>\n      <td>7.665909</td>\n      <td>-1984.028282</td>\n      <td>-3982.028282</td>\n      <td>-3982.028282</td>\n      <td>-3982.028282</td>\n      <td>-3982.028282</td>\n      <td>-inf</td>\n      <td>-1987.917275</td>\n      <td>-3986.634667</td>\n      <td>-3986.634667</td>\n      <td>-3988.159653</td>\n      <td>-3989.540253</td>\n      <td>-inf</td>\n      <td>-inf</td>\n      <td>-26.859498</td>\n      <td>-30.543501</td>\n      <td>-25.552660</td>\n      <td>-9.110799</td>\n      <td>7.665909</td>\n    </tr>\n    <tr>\n      <th>468119922</th>\n      <td>-2856.976497</td>\n      <td>-5711.262211</td>\n      <td>-inf</td>\n      <td>-2856.444428</td>\n      <td>-5710.730142</td>\n      <td>-inf</td>\n      <td>-2856.231600</td>\n      <td>-5710.517314</td>\n      <td>-inf</td>\n      <td>-inf</td>\n      <td>-0.158141</td>\n      <td>-1387.385919</td>\n      <td>-0.113862</td>\n      <td>-2003.585155</td>\n      <td>-4001.585155</td>\n      <td>-4001.935155</td>\n      <td>-4001.585155</td>\n      <td>-4001.585155</td>\n      <td>-inf</td>\n      <td>-1999.781073</td>\n      <td>-4002.350822</td>\n      <td>-4002.350822</td>\n      <td>-4003.314328</td>\n      <td>-4005.292790</td>\n      <td>-inf</td>\n      <td>-inf</td>\n      <td>-26.820071</td>\n      <td>-30.516140</td>\n      <td>-25.512174</td>\n      <td>-9.096330</td>\n      <td>-0.113736</td>\n    </tr>\n    <tr>\n      <th>468119925</th>\n      <td>-2870.186517</td>\n      <td>-5724.472231</td>\n      <td>-inf</td>\n      <td>-2863.993439</td>\n      <td>-5718.279154</td>\n      <td>-inf</td>\n      <td>-2861.516208</td>\n      <td>-5715.801922</td>\n      <td>-inf</td>\n      <td>-inf</td>\n      <td>-0.158141</td>\n      <td>-1387.385919</td>\n      <td>-0.113862</td>\n      <td>-2003.585155</td>\n      <td>-4001.585155</td>\n      <td>-4001.585155</td>\n      <td>-4001.585155</td>\n      <td>-4001.585155</td>\n      <td>-inf</td>\n      <td>-1999.856900</td>\n      <td>-4003.785211</td>\n      <td>-4003.785211</td>\n      <td>-4001.364128</td>\n      <td>-4006.015621</td>\n      <td>-inf</td>\n      <td>-inf</td>\n      <td>-26.824219</td>\n      <td>-30.517112</td>\n      <td>-25.513632</td>\n      <td>-9.097058</td>\n      <td>-0.113736</td>\n    </tr>\n    <tr>\n      <th>468119926</th>\n      <td>-2857.935513</td>\n      <td>-5712.221227</td>\n      <td>-inf</td>\n      <td>-2856.918910</td>\n      <td>-5711.204625</td>\n      <td>-inf</td>\n      <td>-2856.512269</td>\n      <td>-5710.797984</td>\n      <td>-inf</td>\n      <td>-inf</td>\n      <td>10.734596</td>\n      <td>-1376.551515</td>\n      <td>7.728909</td>\n      <td>-1987.731834</td>\n      <td>-3985.731834</td>\n      <td>-3986.081834</td>\n      <td>-3985.731834</td>\n      <td>-3985.731834</td>\n      <td>-inf</td>\n      <td>-1987.922393</td>\n      <td>-3991.085771</td>\n      <td>-3991.085771</td>\n      <td>-3985.679774</td>\n      <td>-3991.883814</td>\n      <td>-inf</td>\n      <td>-inf</td>\n      <td>-26.316039</td>\n      <td>-30.492180</td>\n      <td>-25.480679</td>\n      <td>-9.041678</td>\n      <td>7.728909</td>\n    </tr>\n    <tr>\n      <th>468119927</th>\n      <td>-2859.140866</td>\n      <td>-5713.426580</td>\n      <td>-inf</td>\n      <td>-2857.537407</td>\n      <td>-5711.823121</td>\n      <td>-inf</td>\n      <td>-2856.896023</td>\n      <td>-5711.181738</td>\n      <td>-inf</td>\n      <td>-inf</td>\n      <td>10.765788</td>\n      <td>-1376.855740</td>\n      <td>7.751367</td>\n      <td>-1987.818125</td>\n      <td>-3985.818125</td>\n      <td>-3986.168125</td>\n      <td>-3985.818125</td>\n      <td>-3985.818125</td>\n      <td>-inf</td>\n      <td>-1984.330401</td>\n      <td>-3988.035744</td>\n      <td>-3988.035744</td>\n      <td>-3985.888572</td>\n      <td>-3992.028453</td>\n      <td>-inf</td>\n      <td>-inf</td>\n      <td>-24.418379</td>\n      <td>-30.418607</td>\n      <td>-25.374051</td>\n      <td>-8.672837</td>\n      <td>7.751368</td>\n    </tr>\n    <tr>\n      <th>468119928</th>\n      <td>-2869.283122</td>\n      <td>-5723.568836</td>\n      <td>-inf</td>\n      <td>-2863.287255</td>\n      <td>-5717.572969</td>\n      <td>-inf</td>\n      <td>-2860.888909</td>\n      <td>-5715.174623</td>\n      <td>-inf</td>\n      <td>-inf</td>\n      <td>11.707060</td>\n      <td>-1375.408912</td>\n      <td>8.429083</td>\n      <td>-1985.936364</td>\n      <td>-3983.936364</td>\n      <td>-3984.286364</td>\n      <td>-3983.936364</td>\n      <td>-3983.936364</td>\n      <td>-inf</td>\n      <td>-1986.084720</td>\n      <td>-3989.542402</td>\n      <td>-3989.542402</td>\n      <td>-3984.015305</td>\n      <td>-3990.339045</td>\n      <td>-inf</td>\n      <td>-inf</td>\n      <td>-27.800562</td>\n      <td>-30.563790</td>\n      <td>-25.697316</td>\n      <td>-9.207112</td>\n      <td>8.429083</td>\n    </tr>\n    <tr>\n      <th>642446345</th>\n      <td>-5709.613741</td>\n      <td>-8563.899455</td>\n      <td>-inf</td>\n      <td>-10.654154</td>\n      <td>-2864.939868</td>\n      <td>-5.179103</td>\n      <td>-62.836260</td>\n      <td>-2917.121974</td>\n      <td>-30.545404</td>\n      <td>-3.728954</td>\n      <td>-2.097408</td>\n      <td>-1387.343797</td>\n      <td>-1.510134</td>\n      <td>1.093980</td>\n      <td>3.035970</td>\n      <td>-1995.576420</td>\n      <td>-1995.597276</td>\n      <td>-1995.880220</td>\n      <td>2.140923</td>\n      <td>-5993.059741</td>\n      <td>-5996.236057</td>\n      <td>-5996.236057</td>\n      <td>-5996.847988</td>\n      <td>-5998.040211</td>\n      <td>-inf</td>\n      <td>1.541464</td>\n      <td>-18.289778</td>\n      <td>-17.981922</td>\n      <td>-17.196617</td>\n      <td>-5.980956</td>\n      <td>1.593075</td>\n    </tr>\n    <tr>\n      <th>642446349</th>\n      <td>-5711.108042</td>\n      <td>-8565.393757</td>\n      <td>-inf</td>\n      <td>-11.507365</td>\n      <td>-2865.793079</td>\n      <td>-5.593858</td>\n      <td>-63.433034</td>\n      <td>-2917.718749</td>\n      <td>-30.835503</td>\n      <td>-4.027578</td>\n      <td>-2.146019</td>\n      <td>-1387.353519</td>\n      <td>-1.545134</td>\n      <td>1.192207</td>\n      <td>3.035270</td>\n      <td>-1994.736869</td>\n      <td>-1995.597276</td>\n      <td>-1995.040669</td>\n      <td>2.145065</td>\n      <td>-5993.114899</td>\n      <td>-5996.745065</td>\n      <td>-5996.745065</td>\n      <td>-5994.750788</td>\n      <td>-5998.886171</td>\n      <td>-inf</td>\n      <td>1.544447</td>\n      <td>-18.324954</td>\n      <td>-17.976575</td>\n      <td>-17.192002</td>\n      <td>-5.981865</td>\n      <td>1.593106</td>\n    </tr>\n    <tr>\n      <th>1179608009</th>\n      <td>-8563.419303</td>\n      <td>-11417.705017</td>\n      <td>-inf</td>\n      <td>-17.616599</td>\n      <td>-2871.902313</td>\n      <td>-8.563624</td>\n      <td>-19.761289</td>\n      <td>-2874.047003</td>\n      <td>-9.606182</td>\n      <td>-5.948375</td>\n      <td>4.880186</td>\n      <td>-1378.113147</td>\n      <td>3.513734</td>\n      <td>-1984.050332</td>\n      <td>-1984.050332</td>\n      <td>-1984.050332</td>\n      <td>-1984.050332</td>\n      <td>-1984.050332</td>\n      <td>-inf</td>\n      <td>-7978.109132</td>\n      <td>-7978.109132</td>\n      <td>-7978.109132</td>\n      <td>-7978.109132</td>\n      <td>-7978.109132</td>\n      <td>-inf</td>\n      <td>-inf</td>\n      <td>-8.526813</td>\n      <td>0.047647</td>\n      <td>-2.273228</td>\n      <td>0.050933</td>\n      <td>3.544670</td>\n    </tr>\n    <tr>\n      <th>1179608013</th>\n      <td>-8571.196804</td>\n      <td>-11425.482519</td>\n      <td>-inf</td>\n      <td>-22.061100</td>\n      <td>-2876.346814</td>\n      <td>-10.724146</td>\n      <td>-22.872589</td>\n      <td>-2877.158304</td>\n      <td>-11.118620</td>\n      <td>-7.350415</td>\n      <td>4.880186</td>\n      <td>-1378.113147</td>\n      <td>3.513734</td>\n      <td>-1984.050332</td>\n      <td>-1984.050332</td>\n      <td>-1984.050332</td>\n      <td>-1984.050332</td>\n      <td>-1984.050332</td>\n      <td>-inf</td>\n      <td>-7978.109132</td>\n      <td>-7978.109132</td>\n      <td>-7978.109132</td>\n      <td>-7978.109132</td>\n      <td>-7978.109132</td>\n      <td>-inf</td>\n      <td>-inf</td>\n      <td>-8.527679</td>\n      <td>0.047161</td>\n      <td>-2.273957</td>\n      <td>0.050750</td>\n      <td>3.544608</td>\n    </tr>\n    <tr>\n      <th>1658807153</th>\n      <td>-5709.137752</td>\n      <td>-8563.423466</td>\n      <td>-inf</td>\n      <td>-19.719413</td>\n      <td>-2874.005127</td>\n      <td>-9.585826</td>\n      <td>-21.864019</td>\n      <td>-2876.149734</td>\n      <td>-10.628343</td>\n      <td>-6.684352</td>\n      <td>6.456402</td>\n      <td>-1376.357071</td>\n      <td>4.648609</td>\n      <td>15.268960</td>\n      <td>-1982.731040</td>\n      <td>-1982.731040</td>\n      <td>-1982.731040</td>\n      <td>-1982.731040</td>\n      <td>10.603444</td>\n      <td>-5978.797090</td>\n      <td>-5981.645926</td>\n      <td>-5981.645926</td>\n      <td>-5982.436880</td>\n      <td>-5983.088374</td>\n      <td>-inf</td>\n      <td>7.634480</td>\n      <td>-8.591632</td>\n      <td>0.206340</td>\n      <td>-2.227894</td>\n      <td>0.104584</td>\n      <td>7.684253</td>\n    </tr>\n    <tr>\n      <th>1658807157</th>\n      <td>-5710.005638</td>\n      <td>-8564.291352</td>\n      <td>-inf</td>\n      <td>-20.220421</td>\n      <td>-2874.506135</td>\n      <td>-9.829371</td>\n      <td>-22.218276</td>\n      <td>-2876.503991</td>\n      <td>-10.800551</td>\n      <td>-6.845959</td>\n      <td>6.407790</td>\n      <td>-1376.381376</td>\n      <td>4.613609</td>\n      <td>14.530278</td>\n      <td>-1983.469722</td>\n      <td>-1983.469722</td>\n      <td>-1983.469722</td>\n      <td>-1983.469722</td>\n      <td>10.090471</td>\n      <td>-5979.569178</td>\n      <td>-5984.301635</td>\n      <td>-5984.301635</td>\n      <td>-5980.452579</td>\n      <td>-5984.874558</td>\n      <td>-inf</td>\n      <td>7.265139</td>\n      <td>-8.647127</td>\n      <td>0.198076</td>\n      <td>-2.240290</td>\n      <td>0.101487</td>\n      <td>7.334029</td>\n    </tr>\n    <tr>\n      <th>1767182945</th>\n      <td>-5709.423410</td>\n      <td>-8563.709124</td>\n      <td>-inf</td>\n      <td>-10.469202</td>\n      <td>-2864.754916</td>\n      <td>-5.089195</td>\n      <td>-62.653459</td>\n      <td>-2916.939174</td>\n      <td>-30.456543</td>\n      <td>-3.664221</td>\n      <td>-3.606195</td>\n      <td>-1388.969251</td>\n      <td>-2.596460</td>\n      <td>-0.555751</td>\n      <td>0.665917</td>\n      <td>-1997.106222</td>\n      <td>-1997.397020</td>\n      <td>-1997.410022</td>\n      <td>0.546586</td>\n      <td>-5994.656309</td>\n      <td>-5997.269370</td>\n      <td>-5997.269370</td>\n      <td>-5997.769890</td>\n      <td>-5998.629581</td>\n      <td>-inf</td>\n      <td>0.393542</td>\n      <td>-14.395026</td>\n      <td>-13.588217</td>\n      <td>-14.958046</td>\n      <td>-4.700641</td>\n      <td>0.464659</td>\n    </tr>\n    <tr>\n      <th>1767182949</th>\n      <td>-5709.668094</td>\n      <td>-8563.953808</td>\n      <td>-inf</td>\n      <td>-10.618407</td>\n      <td>-2864.904122</td>\n      <td>-5.161726</td>\n      <td>-62.764474</td>\n      <td>-2917.050188</td>\n      <td>-30.510508</td>\n      <td>-3.716443</td>\n      <td>-3.776334</td>\n      <td>-1389.003278</td>\n      <td>-2.718960</td>\n      <td>-0.579012</td>\n      <td>0.665917</td>\n      <td>-1997.106222</td>\n      <td>-1997.408920</td>\n      <td>-1997.410022</td>\n      <td>0.544118</td>\n      <td>-5994.664265</td>\n      <td>-5997.497589</td>\n      <td>-5997.497589</td>\n      <td>-5995.576790</td>\n      <td>-5998.540328</td>\n      <td>-inf</td>\n      <td>0.391765</td>\n      <td>-14.435998</td>\n      <td>-13.608147</td>\n      <td>-14.995707</td>\n      <td>-4.710741</td>\n      <td>0.456698</td>\n    </tr>\n    <tr>\n      <th>2464104881</th>\n      <td>-5709.489682</td>\n      <td>-8563.775396</td>\n      <td>-inf</td>\n      <td>-12.625725</td>\n      <td>-2866.911439</td>\n      <td>-6.137505</td>\n      <td>-64.806540</td>\n      <td>-2919.092254</td>\n      <td>-31.503179</td>\n      <td>-4.419004</td>\n      <td>8.134630</td>\n      <td>-1378.288147</td>\n      <td>5.856934</td>\n      <td>10.502444</td>\n      <td>-1986.419156</td>\n      <td>-1986.167956</td>\n      <td>-1986.416956</td>\n      <td>-1986.471756</td>\n      <td>7.293364</td>\n      <td>-5983.483693</td>\n      <td>-5989.023319</td>\n      <td>-5989.023319</td>\n      <td>-5991.399546</td>\n      <td>-5994.064540</td>\n      <td>-inf</td>\n      <td>5.251222</td>\n      <td>-24.155944</td>\n      <td>-33.809528</td>\n      <td>-23.204042</td>\n      <td>-8.235935</td>\n      <td>6.292424</td>\n    </tr>\n    <tr>\n      <th>2464104885</th>\n      <td>-5709.489682</td>\n      <td>-8563.775396</td>\n      <td>-inf</td>\n      <td>-12.625725</td>\n      <td>-2866.911439</td>\n      <td>-6.137505</td>\n      <td>-64.806540</td>\n      <td>-2919.092254</td>\n      <td>-31.503179</td>\n      <td>-4.419004</td>\n      <td>8.134630</td>\n      <td>-1378.288147</td>\n      <td>5.856934</td>\n      <td>10.666689</td>\n      <td>-1986.254911</td>\n      <td>-1986.003711</td>\n      <td>-1986.252711</td>\n      <td>-1986.307511</td>\n      <td>7.407423</td>\n      <td>-5983.469343</td>\n      <td>-5991.354620</td>\n      <td>-5991.354620</td>\n      <td>-5989.123846</td>\n      <td>-5997.222704</td>\n      <td>-inf</td>\n      <td>5.333344</td>\n      <td>-24.155944</td>\n      <td>-33.809528</td>\n      <td>-23.204042</td>\n      <td>-8.235935</td>\n      <td>6.322192</td>\n    </tr>\n  </tbody>\n</table>\n</div>"
     },
     "execution_count": 187,
     "metadata": {},
     "output_type": "execute_result"
    }
   ],
   "source": [
    "simulate.compute_nested_utilities(ru[0], ns[0])"
   ],
   "metadata": {
    "collapsed": false,
    "pycharm": {
     "name": "#%%\n"
    }
   }
  },
  {
   "cell_type": "markdown",
   "source": [
    "# Run MC validation\n",
    "\n",
    "see logit._each_nest parent_nest_scale for leaf node, and simulate.compute_nested_utilities for discussion of scales\n",
    "of alternatives\n",
    "\n",
    "easiest way is to run a simulation"
   ],
   "metadata": {
    "collapsed": false,
    "pycharm": {
     "name": "#%% md\n"
    }
   }
  },
  {
   "cell_type": "code",
   "execution_count": 192,
   "outputs": [
    {
     "name": "stderr",
     "output_type": "stream",
     "text": [
      "register joint_tour_participants: no rows with household_id in [982875].\n",
      "estimation bundle trip_mode_choice not in settings file estimation.yaml\n"
     ]
    },
    {
     "name": "stdout",
     "output_type": "stream",
     "text": [
      "Running with %d trips 482\n",
      "trip_mode_choice tour_type 'social' (19 trips)\n"
     ]
    },
    {
     "name": "stderr",
     "output_type": "stream",
     "text": [
      "numpy: Warning: underflow encountered in exp expression: origTaxiWaitTime = rng.lognormal_for_df(df, mu=origin_zone_taxi_wait_time_mean, sigma=origin_zone_taxi_wait_time_sd, broadcast=True, scale=True).clip(min_waitTime, max_waitTime)\n",
      "numpy: Warning: underflow encountered in exp expression: origTaxiWaitTime = rng.lognormal_for_df(df, mu=origin_zone_taxi_wait_time_mean, sigma=origin_zone_taxi_wait_time_sd, broadcast=True, scale=True).clip(min_waitTime, max_waitTime)\n",
      "numpy: Warning: underflow encountered in exp expression: origTaxiWaitTime = rng.lognormal_for_df(df, mu=origin_zone_taxi_wait_time_mean, sigma=origin_zone_taxi_wait_time_sd, broadcast=True, scale=True).clip(min_waitTime, max_waitTime)\n",
      "numpy: Warning: underflow encountered in exp expression: origTaxiWaitTime = rng.lognormal_for_df(df, mu=origin_zone_taxi_wait_time_mean, sigma=origin_zone_taxi_wait_time_sd, broadcast=True, scale=True).clip(min_waitTime, max_waitTime)\n",
      "numpy: Warning: underflow encountered in exp expression: origTaxiWaitTime = rng.lognormal_for_df(df, mu=origin_zone_taxi_wait_time_mean, sigma=origin_zone_taxi_wait_time_sd, broadcast=True, scale=True).clip(min_waitTime, max_waitTime)\n",
      "numpy: Warning: underflow encountered in exp expression: origTaxiWaitTime = rng.lognormal_for_df(df, mu=origin_zone_taxi_wait_time_mean, sigma=origin_zone_taxi_wait_time_sd, broadcast=True, scale=True).clip(min_waitTime, max_waitTime)\n",
      "numpy: Warning: underflow encountered in exp expression: origTaxiWaitTime = rng.lognormal_for_df(df, mu=origin_zone_taxi_wait_time_mean, sigma=origin_zone_taxi_wait_time_sd, broadcast=True, scale=True).clip(min_waitTime, max_waitTime)\n",
      "numpy: Warning: underflow encountered in exp expression: origTaxiWaitTime = rng.lognormal_for_df(df, mu=origin_zone_taxi_wait_time_mean, sigma=origin_zone_taxi_wait_time_sd, broadcast=True, scale=True).clip(min_waitTime, max_waitTime)\n",
      "numpy: Warning: underflow encountered in exp expression: origTaxiWaitTime = rng.lognormal_for_df(df, mu=origin_zone_taxi_wait_time_mean, sigma=origin_zone_taxi_wait_time_sd, broadcast=True, scale=True).clip(min_waitTime, max_waitTime)\n",
      "numpy: Warning: underflow encountered in exp expression: origTaxiWaitTime = rng.lognormal_for_df(df, mu=origin_zone_taxi_wait_time_mean, sigma=origin_zone_taxi_wait_time_sd, broadcast=True, scale=True).clip(min_waitTime, max_waitTime)\n",
      "numpy: Warning: underflow encountered in exp expression: origTaxiWaitTime = rng.lognormal_for_df(df, mu=origin_zone_taxi_wait_time_mean, sigma=origin_zone_taxi_wait_time_sd, broadcast=True, scale=True).clip(min_waitTime, max_waitTime)\n",
      "numpy: Warning: underflow encountered in exp expression: origTaxiWaitTime = rng.lognormal_for_df(df, mu=origin_zone_taxi_wait_time_mean, sigma=origin_zone_taxi_wait_time_sd, broadcast=True, scale=True).clip(min_waitTime, max_waitTime)\n",
      "numpy: Warning: underflow encountered in exp expression: origTaxiWaitTime = rng.lognormal_for_df(df, mu=origin_zone_taxi_wait_time_mean, sigma=origin_zone_taxi_wait_time_sd, broadcast=True, scale=True).clip(min_waitTime, max_waitTime)\n",
      "numpy: Warning: underflow encountered in exp expression: origTaxiWaitTime = rng.lognormal_for_df(df, mu=origin_zone_taxi_wait_time_mean, sigma=origin_zone_taxi_wait_time_sd, broadcast=True, scale=True).clip(min_waitTime, max_waitTime)\n",
      "numpy: Warning: underflow encountered in exp expression: origTaxiWaitTime = rng.lognormal_for_df(df, mu=origin_zone_taxi_wait_time_mean, sigma=origin_zone_taxi_wait_time_sd, broadcast=True, scale=True).clip(min_waitTime, max_waitTime)\n",
      "numpy: Warning: underflow encountered in exp expression: origTaxiWaitTime = rng.lognormal_for_df(df, mu=origin_zone_taxi_wait_time_mean, sigma=origin_zone_taxi_wait_time_sd, broadcast=True, scale=True).clip(min_waitTime, max_waitTime)\n",
      "numpy: Warning: underflow encountered in exp expression: origTaxiWaitTime = rng.lognormal_for_df(df, mu=origin_zone_taxi_wait_time_mean, sigma=origin_zone_taxi_wait_time_sd, broadcast=True, scale=True).clip(min_waitTime, max_waitTime)\n"
     ]
    },
    {
     "name": "stdout",
     "output_type": "stream",
     "text": [
      "Done\n"
     ]
    }
   ],
   "source": [
    "from fru_utils import get_stuff\n",
    "t, ru, neu, nu, ns, nested_probs, base_probs = get_stuff(do_these_purposes=[\"social\"])"
   ],
   "metadata": {
    "collapsed": false,
    "pycharm": {
     "name": "#%%\n"
    }
   }
  },
  {
   "cell_type": "code",
   "execution_count": 194,
   "outputs": [
    {
     "name": "stdout",
     "output_type": "stream",
     "text": [
      "Nest name: root level: 1 coefficient: 1.0 product_of_coefficients: 1.0 ancestors: ['root'] parent nest scale: 0\n",
      "Nest name: AUTO level: 2 coefficient: 0.72 product_of_coefficients: 0.72 ancestors: ['root', 'AUTO'] parent nest scale: 1.0\n",
      "Nest name: DRIVEALONE level: 3 coefficient: 0.35 product_of_coefficients: 0.252 ancestors: ['root', 'AUTO', 'DRIVEALONE'] parent nest scale: 0.72\n",
      "Nest name: SHAREDRIDE2 level: 3 coefficient: 0.35 product_of_coefficients: 0.252 ancestors: ['root', 'AUTO', 'SHAREDRIDE2'] parent nest scale: 0.72\n",
      "Nest name: SHAREDRIDE3 level: 3 coefficient: 0.35 product_of_coefficients: 0.252 ancestors: ['root', 'AUTO', 'SHAREDRIDE3'] parent nest scale: 0.72\n",
      "Nest name: NONMOTORIZED level: 2 coefficient: 0.72 product_of_coefficients: 0.72 ancestors: ['root', 'NONMOTORIZED'] parent nest scale: 1.0\n",
      "Nest name: TRANSIT level: 2 coefficient: 0.72 product_of_coefficients: 0.72 ancestors: ['root', 'TRANSIT'] parent nest scale: 1.0\n",
      "Nest name: WALKACCESS level: 3 coefficient: 0.5 product_of_coefficients: 0.36 ancestors: ['root', 'TRANSIT', 'WALKACCESS'] parent nest scale: 0.72\n",
      "Nest name: DRIVEACCESS level: 3 coefficient: 0.5 product_of_coefficients: 0.36 ancestors: ['root', 'TRANSIT', 'DRIVEACCESS'] parent nest scale: 0.72\n",
      "Nest name: RIDEHAIL level: 2 coefficient: 0.36 product_of_coefficients: 0.36 ancestors: ['root', 'RIDEHAIL'] parent nest scale: 1.0\n"
     ]
    }
   ],
   "source": [
    "nest_spec = ns[0]\n",
    "for nest in logit.each_nest(nest_spec, type='node', post_order=False):\n",
    "    nest.print()"
   ],
   "metadata": {
    "collapsed": false,
    "pycharm": {
     "name": "#%%\n"
    }
   }
  },
  {
   "cell_type": "code",
   "execution_count": 195,
   "outputs": [
    {
     "name": "stdout",
     "output_type": "stream",
     "text": [
      "leaf DRIVEALONEFREE with 0.252, 0.35\n",
      "leaf DRIVEALONEPAY with 0.252, 0.35\n",
      "node DRIVEALONE with 0.35, 0.72\n",
      "leaf SHARED2FREE with 0.252, 0.35\n",
      "leaf SHARED2PAY with 0.252, 0.35\n",
      "node SHAREDRIDE2 with 0.35, 0.72\n",
      "leaf SHARED3FREE with 0.252, 0.35\n",
      "leaf SHARED3PAY with 0.252, 0.35\n",
      "node SHAREDRIDE3 with 0.35, 0.72\n",
      "node AUTO with 0.72, 1.0\n",
      "leaf WALK with 0.72, 0.72\n",
      "leaf BIKE with 0.72, 0.72\n",
      "node NONMOTORIZED with 0.72, 1.0\n",
      "leaf WALK_LOC with 0.36, 0.5\n",
      "leaf WALK_LRF with 0.36, 0.5\n",
      "leaf WALK_EXP with 0.36, 0.5\n",
      "leaf WALK_HVY with 0.36, 0.5\n",
      "leaf WALK_COM with 0.36, 0.5\n",
      "node WALKACCESS with 0.5, 0.72\n",
      "leaf DRIVE_LOC with 0.36, 0.5\n",
      "leaf DRIVE_LRF with 0.36, 0.5\n",
      "leaf DRIVE_EXP with 0.36, 0.5\n",
      "leaf DRIVE_HVY with 0.36, 0.5\n",
      "leaf DRIVE_COM with 0.36, 0.5\n",
      "node DRIVEACCESS with 0.5, 0.72\n",
      "node TRANSIT with 0.72, 1.0\n",
      "leaf TAXI with 0.36, 0.36\n",
      "leaf TNC_SINGLE with 0.36, 0.36\n",
      "leaf TNC_SHARED with 0.36, 0.36\n",
      "node RIDEHAIL with 0.36, 1.0\n",
      "node root with 1.0, 0\n"
     ]
    }
   ],
   "source": [
    "for nest in logit.each_nest(nest_spec, post_order=True):\n",
    "    name = nest.name\n",
    "    if nest.is_leaf:\n",
    "        print(f\"leaf {name} with {nest.product_of_coefficients}, {nest.parent_nest_scale}\")\n",
    "    else:\n",
    "        print(f\"node {name} with {nest.coefficient}, {nest.parent_nest_scale}\")"
   ],
   "metadata": {
    "collapsed": false,
    "pycharm": {
     "name": "#%%\n"
    }
   }
  },
  {
   "cell_type": "code",
   "execution_count": null,
   "outputs": [],
   "source": [],
   "metadata": {
    "collapsed": false,
    "pycharm": {
     "name": "#%%\n"
    }
   }
  },
  {
   "cell_type": "code",
   "execution_count": null,
   "outputs": [],
   "source": [],
   "metadata": {
    "collapsed": false,
    "pycharm": {
     "name": "#%%\n"
    }
   }
  },
  {
   "cell_type": "code",
   "execution_count": null,
   "outputs": [],
   "source": [],
   "metadata": {
    "collapsed": false,
    "pycharm": {
     "name": "#%%\n"
    }
   }
  },
  {
   "cell_type": "code",
   "execution_count": 196,
   "outputs": [
    {
     "data": {
      "text/plain": "            DRIVEALONEFREE  DRIVEALONEPAY   SHARED2FREE  SHARED2PAY  \\\ntrip_id                                                               \n8805121                0.0            0.0  0.000000e+00         0.0   \n8805125                0.0            0.0  0.000000e+00         0.0   \n8805126                0.0            0.0  0.000000e+00         0.0   \n468119921              0.0            0.0  0.000000e+00         0.0   \n468119922              0.0            0.0  0.000000e+00         0.0   \n468119925              0.0            0.0  0.000000e+00         0.0   \n468119926              0.0            0.0  0.000000e+00         0.0   \n468119927              0.0            0.0  0.000000e+00         0.0   \n468119928              0.0            0.0  0.000000e+00         0.0   \n642446345              0.0            0.0  4.882838e-03         0.0   \n642446349              0.0            0.0  3.622165e-03         0.0   \n1179608009             0.0            0.0  5.572746e-05         0.0   \n1179608013             0.0            0.0  1.108122e-05         0.0   \n1658807153             0.0            0.0  4.252415e-07         0.0   \n1658807157             0.0            0.0  5.038020e-07         0.0   \n1767182945             0.0            0.0  1.610090e-02         0.0   \n1767182949             0.0            0.0  1.540381e-02         0.0   \n2464104881             0.0            0.0  2.228876e-05         0.0   \n2464104885             0.0            0.0  2.163505e-05         0.0   \n\n             SHARED3FREE  SHARED3PAY      WALK  BIKE  WALK_LOC  WALK_LRF  \\\ntrip_id                                                                    \n8805121     0.000000e+00         0.0  1.000000   0.0  0.000000  0.000000   \n8805125     0.000000e+00         0.0  1.000000   0.0  0.000000  0.000000   \n8805126     0.000000e+00         0.0  1.000000   0.0  0.000000  0.000000   \n468119921   0.000000e+00         0.0  1.000000   0.0  0.000000  0.000000   \n468119922   0.000000e+00         0.0  0.999874   0.0  0.000000  0.000000   \n468119925   0.000000e+00         0.0  0.999875   0.0  0.000000  0.000000   \n468119926   0.000000e+00         0.0  1.000000   0.0  0.000000  0.000000   \n468119927   0.000000e+00         0.0  1.000000   0.0  0.000000  0.000000   \n468119928   0.000000e+00         0.0  1.000000   0.0  0.000000  0.000000   \n642446345   4.701403e-14         0.0  0.044905   0.0  0.059962  0.889736   \n642446349   3.950582e-14         0.0  0.043359   0.0  0.068362  0.884144   \n1179608009  1.964682e-05         0.0  0.969538   0.0  0.000000  0.000000   \n1179608013  7.469124e-06         0.0  0.969598   0.0  0.000000  0.000000   \n1658807153  1.499257e-07         0.0  0.048044   0.0  0.951445  0.000000   \n1658807157  1.907576e-07         0.0  0.065847   0.0  0.933430  0.000000   \n1767182945  1.548643e-13         0.0  0.046835   0.0  0.144256  0.787096   \n1767182949  1.509357e-13         0.0  0.041767   0.0  0.141232  0.795898   \n2464104881  2.147403e-16         0.0  0.646947   0.0  0.353030  0.000000   \n2464104885  2.084422e-16         0.0  0.627973   0.0  0.372005  0.000000   \n\n            WALK_EXP  WALK_HVY  WALK_COM  DRIVE_LOC  DRIVE_LRF  DRIVE_EXP  \\\ntrip_id                                                                     \n8805121          0.0       0.0       0.0        0.0        0.0        0.0   \n8805125          0.0       0.0       0.0        0.0        0.0        0.0   \n8805126          0.0       0.0       0.0        0.0        0.0        0.0   \n468119921        0.0       0.0       0.0        0.0        0.0        0.0   \n468119922        0.0       0.0       0.0        0.0        0.0        0.0   \n468119925        0.0       0.0       0.0        0.0        0.0        0.0   \n468119926        0.0       0.0       0.0        0.0        0.0        0.0   \n468119927        0.0       0.0       0.0        0.0        0.0        0.0   \n468119928        0.0       0.0       0.0        0.0        0.0        0.0   \n642446345        0.0       0.0       0.0        0.0        0.0        0.0   \n642446349        0.0       0.0       0.0        0.0        0.0        0.0   \n1179608009       0.0       0.0       0.0        0.0        0.0        0.0   \n1179608013       0.0       0.0       0.0        0.0        0.0        0.0   \n1658807153       0.0       0.0       0.0        0.0        0.0        0.0   \n1658807157       0.0       0.0       0.0        0.0        0.0        0.0   \n1767182945       0.0       0.0       0.0        0.0        0.0        0.0   \n1767182949       0.0       0.0       0.0        0.0        0.0        0.0   \n2464104881       0.0       0.0       0.0        0.0        0.0        0.0   \n2464104885       0.0       0.0       0.0        0.0        0.0        0.0   \n\n            DRIVE_HVY  DRIVE_COM          TAXI    TNC_SINGLE    TNC_SHARED  \ntrip_id                                                                     \n8805121           0.0        0.0  4.266799e-08  7.843494e-08  2.071998e-08  \n8805125           0.0        0.0  4.057327e-08  7.325707e-08  1.950799e-08  \n8805126           0.0        0.0  4.864169e-08  9.376443e-08  2.428075e-08  \n468119921         0.0        0.0  1.096638e-08  2.754998e-10  4.051502e-08  \n468119922         0.0        0.0  2.658716e-05  6.599176e-07  9.832967e-05  \n468119925         0.0        0.0  2.651144e-05  6.601311e-07  9.831370e-05  \n468119926         0.0        0.0  1.568041e-08  2.408144e-10  3.615344e-08  \n468119927         0.0        0.0  5.308505e-08  1.315547e-10  2.041405e-08  \n468119928         0.0        0.0  2.367465e-09  1.493582e-10  1.939597e-08  \n642446345         0.0        0.0  9.610763e-05  1.307549e-04  2.867554e-04  \n642446349         0.0        0.0  9.293281e-05  1.316643e-04  2.885385e-04  \n1179608009        0.0        0.0  5.225133e-06  2.766547e-02  2.716407e-03  \n1179608013        0.0        0.0  5.222635e-06  2.766274e-02  2.715479e-03  \n1658807153        0.0        0.0  7.091296e-08  4.695006e-04  4.115873e-05  \n1658807157        0.0        0.0  9.574501e-08  6.645671e-04  5.801899e-05  \n1767182945        0.0        0.0  1.498950e-03  3.358768e-03  8.536317e-04  \n1767182949        0.0        0.0  1.476552e-03  3.378934e-03  8.436653e-04  \n2464104881        0.0        0.0  1.365321e-07  8.764695e-12  3.537046e-07  \n2464104885        0.0        0.0  1.325277e-07  8.507634e-12  3.433307e-07  ",
      "text/html": "<div>\n<style scoped>\n    .dataframe tbody tr th:only-of-type {\n        vertical-align: middle;\n    }\n\n    .dataframe tbody tr th {\n        vertical-align: top;\n    }\n\n    .dataframe thead th {\n        text-align: right;\n    }\n</style>\n<table border=\"1\" class=\"dataframe\">\n  <thead>\n    <tr style=\"text-align: right;\">\n      <th></th>\n      <th>DRIVEALONEFREE</th>\n      <th>DRIVEALONEPAY</th>\n      <th>SHARED2FREE</th>\n      <th>SHARED2PAY</th>\n      <th>SHARED3FREE</th>\n      <th>SHARED3PAY</th>\n      <th>WALK</th>\n      <th>BIKE</th>\n      <th>WALK_LOC</th>\n      <th>WALK_LRF</th>\n      <th>WALK_EXP</th>\n      <th>WALK_HVY</th>\n      <th>WALK_COM</th>\n      <th>DRIVE_LOC</th>\n      <th>DRIVE_LRF</th>\n      <th>DRIVE_EXP</th>\n      <th>DRIVE_HVY</th>\n      <th>DRIVE_COM</th>\n      <th>TAXI</th>\n      <th>TNC_SINGLE</th>\n      <th>TNC_SHARED</th>\n    </tr>\n    <tr>\n      <th>trip_id</th>\n      <th></th>\n      <th></th>\n      <th></th>\n      <th></th>\n      <th></th>\n      <th></th>\n      <th></th>\n      <th></th>\n      <th></th>\n      <th></th>\n      <th></th>\n      <th></th>\n      <th></th>\n      <th></th>\n      <th></th>\n      <th></th>\n      <th></th>\n      <th></th>\n      <th></th>\n      <th></th>\n      <th></th>\n    </tr>\n  </thead>\n  <tbody>\n    <tr>\n      <th>8805121</th>\n      <td>0.0</td>\n      <td>0.0</td>\n      <td>0.000000e+00</td>\n      <td>0.0</td>\n      <td>0.000000e+00</td>\n      <td>0.0</td>\n      <td>1.000000</td>\n      <td>0.0</td>\n      <td>0.000000</td>\n      <td>0.000000</td>\n      <td>0.0</td>\n      <td>0.0</td>\n      <td>0.0</td>\n      <td>0.0</td>\n      <td>0.0</td>\n      <td>0.0</td>\n      <td>0.0</td>\n      <td>0.0</td>\n      <td>4.266799e-08</td>\n      <td>7.843494e-08</td>\n      <td>2.071998e-08</td>\n    </tr>\n    <tr>\n      <th>8805125</th>\n      <td>0.0</td>\n      <td>0.0</td>\n      <td>0.000000e+00</td>\n      <td>0.0</td>\n      <td>0.000000e+00</td>\n      <td>0.0</td>\n      <td>1.000000</td>\n      <td>0.0</td>\n      <td>0.000000</td>\n      <td>0.000000</td>\n      <td>0.0</td>\n      <td>0.0</td>\n      <td>0.0</td>\n      <td>0.0</td>\n      <td>0.0</td>\n      <td>0.0</td>\n      <td>0.0</td>\n      <td>0.0</td>\n      <td>4.057327e-08</td>\n      <td>7.325707e-08</td>\n      <td>1.950799e-08</td>\n    </tr>\n    <tr>\n      <th>8805126</th>\n      <td>0.0</td>\n      <td>0.0</td>\n      <td>0.000000e+00</td>\n      <td>0.0</td>\n      <td>0.000000e+00</td>\n      <td>0.0</td>\n      <td>1.000000</td>\n      <td>0.0</td>\n      <td>0.000000</td>\n      <td>0.000000</td>\n      <td>0.0</td>\n      <td>0.0</td>\n      <td>0.0</td>\n      <td>0.0</td>\n      <td>0.0</td>\n      <td>0.0</td>\n      <td>0.0</td>\n      <td>0.0</td>\n      <td>4.864169e-08</td>\n      <td>9.376443e-08</td>\n      <td>2.428075e-08</td>\n    </tr>\n    <tr>\n      <th>468119921</th>\n      <td>0.0</td>\n      <td>0.0</td>\n      <td>0.000000e+00</td>\n      <td>0.0</td>\n      <td>0.000000e+00</td>\n      <td>0.0</td>\n      <td>1.000000</td>\n      <td>0.0</td>\n      <td>0.000000</td>\n      <td>0.000000</td>\n      <td>0.0</td>\n      <td>0.0</td>\n      <td>0.0</td>\n      <td>0.0</td>\n      <td>0.0</td>\n      <td>0.0</td>\n      <td>0.0</td>\n      <td>0.0</td>\n      <td>1.096638e-08</td>\n      <td>2.754998e-10</td>\n      <td>4.051502e-08</td>\n    </tr>\n    <tr>\n      <th>468119922</th>\n      <td>0.0</td>\n      <td>0.0</td>\n      <td>0.000000e+00</td>\n      <td>0.0</td>\n      <td>0.000000e+00</td>\n      <td>0.0</td>\n      <td>0.999874</td>\n      <td>0.0</td>\n      <td>0.000000</td>\n      <td>0.000000</td>\n      <td>0.0</td>\n      <td>0.0</td>\n      <td>0.0</td>\n      <td>0.0</td>\n      <td>0.0</td>\n      <td>0.0</td>\n      <td>0.0</td>\n      <td>0.0</td>\n      <td>2.658716e-05</td>\n      <td>6.599176e-07</td>\n      <td>9.832967e-05</td>\n    </tr>\n    <tr>\n      <th>468119925</th>\n      <td>0.0</td>\n      <td>0.0</td>\n      <td>0.000000e+00</td>\n      <td>0.0</td>\n      <td>0.000000e+00</td>\n      <td>0.0</td>\n      <td>0.999875</td>\n      <td>0.0</td>\n      <td>0.000000</td>\n      <td>0.000000</td>\n      <td>0.0</td>\n      <td>0.0</td>\n      <td>0.0</td>\n      <td>0.0</td>\n      <td>0.0</td>\n      <td>0.0</td>\n      <td>0.0</td>\n      <td>0.0</td>\n      <td>2.651144e-05</td>\n      <td>6.601311e-07</td>\n      <td>9.831370e-05</td>\n    </tr>\n    <tr>\n      <th>468119926</th>\n      <td>0.0</td>\n      <td>0.0</td>\n      <td>0.000000e+00</td>\n      <td>0.0</td>\n      <td>0.000000e+00</td>\n      <td>0.0</td>\n      <td>1.000000</td>\n      <td>0.0</td>\n      <td>0.000000</td>\n      <td>0.000000</td>\n      <td>0.0</td>\n      <td>0.0</td>\n      <td>0.0</td>\n      <td>0.0</td>\n      <td>0.0</td>\n      <td>0.0</td>\n      <td>0.0</td>\n      <td>0.0</td>\n      <td>1.568041e-08</td>\n      <td>2.408144e-10</td>\n      <td>3.615344e-08</td>\n    </tr>\n    <tr>\n      <th>468119927</th>\n      <td>0.0</td>\n      <td>0.0</td>\n      <td>0.000000e+00</td>\n      <td>0.0</td>\n      <td>0.000000e+00</td>\n      <td>0.0</td>\n      <td>1.000000</td>\n      <td>0.0</td>\n      <td>0.000000</td>\n      <td>0.000000</td>\n      <td>0.0</td>\n      <td>0.0</td>\n      <td>0.0</td>\n      <td>0.0</td>\n      <td>0.0</td>\n      <td>0.0</td>\n      <td>0.0</td>\n      <td>0.0</td>\n      <td>5.308505e-08</td>\n      <td>1.315547e-10</td>\n      <td>2.041405e-08</td>\n    </tr>\n    <tr>\n      <th>468119928</th>\n      <td>0.0</td>\n      <td>0.0</td>\n      <td>0.000000e+00</td>\n      <td>0.0</td>\n      <td>0.000000e+00</td>\n      <td>0.0</td>\n      <td>1.000000</td>\n      <td>0.0</td>\n      <td>0.000000</td>\n      <td>0.000000</td>\n      <td>0.0</td>\n      <td>0.0</td>\n      <td>0.0</td>\n      <td>0.0</td>\n      <td>0.0</td>\n      <td>0.0</td>\n      <td>0.0</td>\n      <td>0.0</td>\n      <td>2.367465e-09</td>\n      <td>1.493582e-10</td>\n      <td>1.939597e-08</td>\n    </tr>\n    <tr>\n      <th>642446345</th>\n      <td>0.0</td>\n      <td>0.0</td>\n      <td>4.882838e-03</td>\n      <td>0.0</td>\n      <td>4.701403e-14</td>\n      <td>0.0</td>\n      <td>0.044905</td>\n      <td>0.0</td>\n      <td>0.059962</td>\n      <td>0.889736</td>\n      <td>0.0</td>\n      <td>0.0</td>\n      <td>0.0</td>\n      <td>0.0</td>\n      <td>0.0</td>\n      <td>0.0</td>\n      <td>0.0</td>\n      <td>0.0</td>\n      <td>9.610763e-05</td>\n      <td>1.307549e-04</td>\n      <td>2.867554e-04</td>\n    </tr>\n    <tr>\n      <th>642446349</th>\n      <td>0.0</td>\n      <td>0.0</td>\n      <td>3.622165e-03</td>\n      <td>0.0</td>\n      <td>3.950582e-14</td>\n      <td>0.0</td>\n      <td>0.043359</td>\n      <td>0.0</td>\n      <td>0.068362</td>\n      <td>0.884144</td>\n      <td>0.0</td>\n      <td>0.0</td>\n      <td>0.0</td>\n      <td>0.0</td>\n      <td>0.0</td>\n      <td>0.0</td>\n      <td>0.0</td>\n      <td>0.0</td>\n      <td>9.293281e-05</td>\n      <td>1.316643e-04</td>\n      <td>2.885385e-04</td>\n    </tr>\n    <tr>\n      <th>1179608009</th>\n      <td>0.0</td>\n      <td>0.0</td>\n      <td>5.572746e-05</td>\n      <td>0.0</td>\n      <td>1.964682e-05</td>\n      <td>0.0</td>\n      <td>0.969538</td>\n      <td>0.0</td>\n      <td>0.000000</td>\n      <td>0.000000</td>\n      <td>0.0</td>\n      <td>0.0</td>\n      <td>0.0</td>\n      <td>0.0</td>\n      <td>0.0</td>\n      <td>0.0</td>\n      <td>0.0</td>\n      <td>0.0</td>\n      <td>5.225133e-06</td>\n      <td>2.766547e-02</td>\n      <td>2.716407e-03</td>\n    </tr>\n    <tr>\n      <th>1179608013</th>\n      <td>0.0</td>\n      <td>0.0</td>\n      <td>1.108122e-05</td>\n      <td>0.0</td>\n      <td>7.469124e-06</td>\n      <td>0.0</td>\n      <td>0.969598</td>\n      <td>0.0</td>\n      <td>0.000000</td>\n      <td>0.000000</td>\n      <td>0.0</td>\n      <td>0.0</td>\n      <td>0.0</td>\n      <td>0.0</td>\n      <td>0.0</td>\n      <td>0.0</td>\n      <td>0.0</td>\n      <td>0.0</td>\n      <td>5.222635e-06</td>\n      <td>2.766274e-02</td>\n      <td>2.715479e-03</td>\n    </tr>\n    <tr>\n      <th>1658807153</th>\n      <td>0.0</td>\n      <td>0.0</td>\n      <td>4.252415e-07</td>\n      <td>0.0</td>\n      <td>1.499257e-07</td>\n      <td>0.0</td>\n      <td>0.048044</td>\n      <td>0.0</td>\n      <td>0.951445</td>\n      <td>0.000000</td>\n      <td>0.0</td>\n      <td>0.0</td>\n      <td>0.0</td>\n      <td>0.0</td>\n      <td>0.0</td>\n      <td>0.0</td>\n      <td>0.0</td>\n      <td>0.0</td>\n      <td>7.091296e-08</td>\n      <td>4.695006e-04</td>\n      <td>4.115873e-05</td>\n    </tr>\n    <tr>\n      <th>1658807157</th>\n      <td>0.0</td>\n      <td>0.0</td>\n      <td>5.038020e-07</td>\n      <td>0.0</td>\n      <td>1.907576e-07</td>\n      <td>0.0</td>\n      <td>0.065847</td>\n      <td>0.0</td>\n      <td>0.933430</td>\n      <td>0.000000</td>\n      <td>0.0</td>\n      <td>0.0</td>\n      <td>0.0</td>\n      <td>0.0</td>\n      <td>0.0</td>\n      <td>0.0</td>\n      <td>0.0</td>\n      <td>0.0</td>\n      <td>9.574501e-08</td>\n      <td>6.645671e-04</td>\n      <td>5.801899e-05</td>\n    </tr>\n    <tr>\n      <th>1767182945</th>\n      <td>0.0</td>\n      <td>0.0</td>\n      <td>1.610090e-02</td>\n      <td>0.0</td>\n      <td>1.548643e-13</td>\n      <td>0.0</td>\n      <td>0.046835</td>\n      <td>0.0</td>\n      <td>0.144256</td>\n      <td>0.787096</td>\n      <td>0.0</td>\n      <td>0.0</td>\n      <td>0.0</td>\n      <td>0.0</td>\n      <td>0.0</td>\n      <td>0.0</td>\n      <td>0.0</td>\n      <td>0.0</td>\n      <td>1.498950e-03</td>\n      <td>3.358768e-03</td>\n      <td>8.536317e-04</td>\n    </tr>\n    <tr>\n      <th>1767182949</th>\n      <td>0.0</td>\n      <td>0.0</td>\n      <td>1.540381e-02</td>\n      <td>0.0</td>\n      <td>1.509357e-13</td>\n      <td>0.0</td>\n      <td>0.041767</td>\n      <td>0.0</td>\n      <td>0.141232</td>\n      <td>0.795898</td>\n      <td>0.0</td>\n      <td>0.0</td>\n      <td>0.0</td>\n      <td>0.0</td>\n      <td>0.0</td>\n      <td>0.0</td>\n      <td>0.0</td>\n      <td>0.0</td>\n      <td>1.476552e-03</td>\n      <td>3.378934e-03</td>\n      <td>8.436653e-04</td>\n    </tr>\n    <tr>\n      <th>2464104881</th>\n      <td>0.0</td>\n      <td>0.0</td>\n      <td>2.228876e-05</td>\n      <td>0.0</td>\n      <td>2.147403e-16</td>\n      <td>0.0</td>\n      <td>0.646947</td>\n      <td>0.0</td>\n      <td>0.353030</td>\n      <td>0.000000</td>\n      <td>0.0</td>\n      <td>0.0</td>\n      <td>0.0</td>\n      <td>0.0</td>\n      <td>0.0</td>\n      <td>0.0</td>\n      <td>0.0</td>\n      <td>0.0</td>\n      <td>1.365321e-07</td>\n      <td>8.764695e-12</td>\n      <td>3.537046e-07</td>\n    </tr>\n    <tr>\n      <th>2464104885</th>\n      <td>0.0</td>\n      <td>0.0</td>\n      <td>2.163505e-05</td>\n      <td>0.0</td>\n      <td>2.084422e-16</td>\n      <td>0.0</td>\n      <td>0.627973</td>\n      <td>0.0</td>\n      <td>0.372005</td>\n      <td>0.000000</td>\n      <td>0.0</td>\n      <td>0.0</td>\n      <td>0.0</td>\n      <td>0.0</td>\n      <td>0.0</td>\n      <td>0.0</td>\n      <td>0.0</td>\n      <td>0.0</td>\n      <td>1.325277e-07</td>\n      <td>8.507634e-12</td>\n      <td>3.433307e-07</td>\n    </tr>\n  </tbody>\n</table>\n</div>"
     },
     "execution_count": 196,
     "metadata": {},
     "output_type": "execute_result"
    }
   ],
   "source": [
    "# nested_probs[0] - these are relative in each nest, so the full probs are potentially just the product of these\n",
    "base_probs[0]"
   ],
   "metadata": {
    "collapsed": false,
    "pycharm": {
     "name": "#%%\n"
    }
   }
  },
  {
   "cell_type": "code",
   "execution_count": 13,
   "outputs": [],
   "source": [
    "# for later: this seems to be a non-driving segment - grab workers or something later?\n",
    "# for now: implement a run with seeding so I can reproduce these counts\n",
    "\n",
    "# actually, can I manipulate pipeline OR inject table dynamically? If I reproduce a single observation many times we\n",
    "# can check mode shares\n",
    "# 1) check tests\n",
    "# 2) check code in mode choice, maybe duplicate here, see old code below"
   ],
   "metadata": {
    "collapsed": false,
    "pycharm": {
     "name": "#%%\n"
    }
   }
  },
  {
   "cell_type": "markdown",
   "source": [],
   "metadata": {
    "collapsed": false
   }
  },
  {
   "cell_type": "code",
   "execution_count": 197,
   "outputs": [],
   "source": [
    "def mode_choice_for_trip(choose_individual_max_utility, trip_id_to_check, num_samples):\n",
    "    \"\"\"open pipeline and load stuff for mode choice dev assuming model has been run and pipeline.h5 exists\"\"\"\n",
    "    resume_after = \"trip_scheduling\"\n",
    "    model_name = \"trip_mode_choice\"\n",
    "    chunk_size = 0  # test_mtc means no chunking\n",
    "\n",
    "    pipeline.open_pipeline(resume_after)\n",
    "    # preload any bulky injectables (e.g. skims) not in pipeline\n",
    "    inject.get_injectable('preload_injectables', None)\n",
    "    pipeline._PIPELINE.rng().begin_step(model_name)\n",
    "    #step_name = model_name\n",
    "    args = {}\n",
    "    #checkpoint = pipeline.intermediate_checkpoint(model_name)\n",
    "    inject.set_step_args(args)\n",
    "\n",
    "    trips = inject.get_table('trips')\n",
    "    tours_merged = inject.get_table('tours_merged')\n",
    "    network_los = inject.get_injectable('network_los')\n",
    "\n",
    "    trace_label = 'trip_mode_choice'\n",
    "    model_settings_file_name = 'trip_mode_choice.yaml'\n",
    "    model_settings = config.read_model_settings(model_settings_file_name)\n",
    "\n",
    "    logsum_column_name = model_settings.get('MODE_CHOICE_LOGSUM_COLUMN_NAME')\n",
    "    mode_column_name = 'trip_mode'\n",
    "\n",
    "    trips_df = trips.to_frame()\n",
    "    print(\"Running with %d trips\", trips_df.shape[0])\n",
    "\n",
    "    tours_merged = tours_merged.to_frame()\n",
    "    tours_merged = tours_merged[model_settings['TOURS_MERGED_CHOOSER_COLUMNS']]\n",
    "\n",
    "    # - trips_merged - merge trips and tours_merged\n",
    "    trips_merged = pd.merge(\n",
    "        trips_df,\n",
    "        tours_merged,\n",
    "        left_on='tour_id',\n",
    "        right_index=True,\n",
    "        how=\"left\")\n",
    "    assert trips_merged.index.equals(trips.index)\n",
    "\n",
    "    # setup skim keys\n",
    "    assert ('trip_period' not in trips_merged)\n",
    "    trips_merged['trip_period'] = network_los.skim_time_period_label(trips_merged.depart)\n",
    "\n",
    "    orig_col = 'origin'\n",
    "    dest_col = 'destination'\n",
    "\n",
    "    constants = {}\n",
    "    constants.update(config.get_model_constants(model_settings))\n",
    "    constants.update({\n",
    "        'ORIGIN': orig_col,\n",
    "        'DESTINATION': dest_col\n",
    "    })\n",
    "\n",
    "    skim_dict = network_los.get_default_skim_dict()\n",
    "\n",
    "    odt_skim_stack_wrapper = skim_dict.wrap_3d(orig_key=orig_col, dest_key=dest_col,\n",
    "                                               dim3_key='trip_period')\n",
    "    dot_skim_stack_wrapper = skim_dict.wrap_3d(orig_key=dest_col, dest_key=orig_col,\n",
    "                                               dim3_key='trip_period')\n",
    "    od_skim_wrapper = skim_dict.wrap('origin', 'destination')\n",
    "\n",
    "    skims = {\n",
    "        \"odt_skims\": odt_skim_stack_wrapper,\n",
    "        \"dot_skims\": dot_skim_stack_wrapper,\n",
    "        \"od_skims\": od_skim_wrapper,\n",
    "    }\n",
    "\n",
    "    model_spec = simulate.read_model_spec(file_name=model_settings['SPEC'])\n",
    "    nest_specs = config.get_logit_model_settings(model_settings)\n",
    "\n",
    "    estimator = estimation.manager.begin_estimation('trip_mode_choice')\n",
    "\n",
    "    #choices_list = []\n",
    "\n",
    "\n",
    "    # grab one, duplicate num_samples times\n",
    "    trips_segment = trips_merged.loc[trips_merged.index == trip_id_to_check].copy()\n",
    "    primary_purpose = trips_segment['primary_purpose'].values[0]\n",
    "    trips_segment = trips_segment.loc[trips_segment.index.repeat(num_samples)]\n",
    "\n",
    "    # need to add new row_states for rng here, need to ensure there are no collisions with existing keys\n",
    "    existing_indexes = pipeline._PIPELINE.rng().get_channel_for_df(trips_merged).row_states.index.values\n",
    "    num_new_indexes = trips_segment.shape[0]\n",
    "    new_indexes = np.arange(existing_indexes.max()+1, existing_indexes.max() + num_new_indexes + 1)\n",
    "\n",
    "    trips_segment.index = new_indexes #+= np.arange(num_samples)\n",
    "    # name index so tracing knows how to slice\n",
    "    trips_segment.index.name = 'trip_id'\n",
    "\n",
    "\n",
    "    # #logger.warning(\"Change seeding back when done with testing\")\n",
    "    # pipeline._PIPELINE.rng.row_states = pd.DataFrame(columns=['row_seed', 'offset'], index=trips_segment.index)\n",
    "    # pipeline._PIPELINE.rng.row_states[\"row_seed\"] = trips_segment.index.values\n",
    "    # pipeline._PIPELINE.rng.row_states[\"offset\"] = 0\n",
    "    pipeline._PIPELINE.rng().add_channel(\"trips\", trips_segment)\n",
    "\n",
    "\n",
    "    #for primary_purpose, trips_segment in trips_merged.groupby('primary_purpose'):\n",
    "    #if (do_these_purposes is not None) and (primary_purpose not in do_these_purposes):\n",
    "    #    continue\n",
    "\n",
    "    print(\"trip_mode_choice tour_type '%s' (%s trips)\" %\n",
    "          (primary_purpose, len(trips_segment.index), ))\n",
    "\n",
    "    coefficients = simulate.get_segment_coefficients(model_settings, primary_purpose)\n",
    "\n",
    "    locals_dict = {}\n",
    "    locals_dict.update(constants)\n",
    "    locals_dict.update(coefficients)\n",
    "\n",
    "    segment_trace_label = tracing.extend_trace_label(trace_label, primary_purpose)\n",
    "\n",
    "    expressions.annotate_preprocessors(\n",
    "        trips_segment, locals_dict, skims,\n",
    "        model_settings, segment_trace_label)\n",
    "\n",
    "    locals_dict.update(skims)\n",
    "\n",
    "    ################ Replace wrapper function\n",
    "    #     choices = mode_choice_simulate(...)\n",
    "    spec=simulate.eval_coefficients(model_spec, coefficients, estimator)\n",
    "    nest_spec = simulate.eval_nest_coefficients(nest_specs, coefficients, segment_trace_label)\n",
    "    choices = simulate.simple_simulate(\n",
    "        choosers=trips_segment,\n",
    "        spec=spec,\n",
    "        nest_spec=nest_spec,\n",
    "        skims=skims,\n",
    "        locals_d=locals_dict,\n",
    "        chunk_size=chunk_size,\n",
    "        want_logsums=logsum_column_name is not None,\n",
    "        trace_label=segment_trace_label,\n",
    "        trace_choice_name='trip_mode_choice',\n",
    "        estimator=estimator,\n",
    "        trace_column_names=None,\n",
    "        choose_individual_max_utility=choose_individual_max_utility)\n",
    "    # for consistency, always return dataframe, whether or not logsums were requested\n",
    "    if isinstance(choices, pd.Series):\n",
    "        choices = choices.to_frame('choice')\n",
    "    choices.rename(columns={'logsum': logsum_column_name,\n",
    "                            'choice': mode_column_name},\n",
    "                   inplace=True)\n",
    "    if not choose_individual_max_utility:\n",
    "        alts = spec.columns\n",
    "        choices[mode_column_name] = choices[mode_column_name].map(dict(list(zip(list(range(len(alts))), alts))))\n",
    "    ################\n",
    "    #choices_list.append(choices)\n",
    "    #choices_df_asim = pd.concat(choices_list)\n",
    "\n",
    "    # update trips table with choices (and potionally logssums)\n",
    "    #trips_df = trips_merged.copy() # trips.to_frame()\n",
    "\n",
    "    #if (do_these_purposes is not None):\n",
    "    #    trips_df  = trips_df.loc[trips_df.primary_purpose.isin(do_these_purposes)]\n",
    "\n",
    "    #assign_in_place(trips_df, choices)\n",
    "    #assert not trips_df[mode_column_name].isnull().any()\n",
    "\n",
    "    finalise = True\n",
    "    if finalise:\n",
    "        inject.set_step_args(None)\n",
    "        #\n",
    "        pipeline._PIPELINE.rng().end_step(model_name)\n",
    "        pipeline.add_checkpoint(model_name)\n",
    "        if not pipeline.intermediate_checkpoint():\n",
    "            pipeline.add_checkpoint(pipeline.FINAL_CHECKPOINT_NAME)\n",
    "\n",
    "        pipeline.close_pipeline()\n",
    "\n",
    "    print(\"Done\")\n",
    "    return trips_merged, choices\n",
    "\n",
    "\n",
    "def comp_mode_shares(base_probs, choose_individual_max_utility, num_samples, trip_id_to_check):\n",
    "    t_, c_ = mode_choice_for_trip(choose_individual_max_utility=choose_individual_max_utility,\n",
    "                                  trip_id_to_check=trip_id_to_check, num_samples=num_samples)\n",
    "\n",
    "    sim_mode_shares = c_.trip_mode.value_counts() / c_.shape[0]\n",
    "    #sim_mode_shares.columns = [\"mode_share_sim\"]\n",
    "    obs_probs = base_probs[0].loc[base_probs[0].index == trip_id_to_check].T\n",
    "    obs_probs.columns = [\"mode_share_obs\"]\n",
    "    ms_comp = obs_probs.merge(sim_mode_shares, left_index=True, right_index=True, how=\"outer\").fillna(0)\n",
    "    ms_comp[\"diff\"] = ms_comp[\"trip_mode\"] - ms_comp[\"mode_share_obs\"]\n",
    "    ms_comp[\"rel_diff\"] = ms_comp[\"diff\"] / ms_comp[\"mode_share_obs\"]\n",
    "    #ms_comp.style.format('{:.2}')\n",
    "    #with pd.option_context(\"precision\", 3):\n",
    "    #    display(ms_comp)\n",
    "    display(ms_comp.loc[((ms_comp.mode_share_obs != 0) | (ms_comp.trip_mode != 0)), [\"mode_share_obs\", \"trip_mode\"]].T)\n",
    "    return ms_comp"
   ],
   "metadata": {
    "collapsed": false,
    "pycharm": {
     "name": "#%%\n"
    }
   }
  },
  {
   "cell_type": "code",
   "execution_count": 198,
   "outputs": [
    {
     "name": "stderr",
     "output_type": "stream",
     "text": [
      "register joint_tour_participants: no rows with household_id in [982875].\n",
      "estimation bundle trip_mode_choice not in settings file estimation.yaml\n"
     ]
    },
    {
     "name": "stdout",
     "output_type": "stream",
     "text": [
      "Running with %d trips 482\n",
      "trip_mode_choice tour_type 'social' (100000 trips)\n"
     ]
    },
    {
     "name": "stderr",
     "output_type": "stream",
     "text": [
      "numpy: Warning: underflow encountered in exp expression: origTaxiWaitTime = rng.lognormal_for_df(df, mu=origin_zone_taxi_wait_time_mean, sigma=origin_zone_taxi_wait_time_sd, broadcast=True, scale=True).clip(min_waitTime, max_waitTime)\n",
      "numpy: Warning: underflow encountered in exp expression: origTaxiWaitTime = rng.lognormal_for_df(df, mu=origin_zone_taxi_wait_time_mean, sigma=origin_zone_taxi_wait_time_sd, broadcast=True, scale=True).clip(min_waitTime, max_waitTime)\n",
      "numpy: Warning: underflow encountered in exp expression: origTaxiWaitTime = rng.lognormal_for_df(df, mu=origin_zone_taxi_wait_time_mean, sigma=origin_zone_taxi_wait_time_sd, broadcast=True, scale=True).clip(min_waitTime, max_waitTime)\n",
      "numpy: Warning: underflow encountered in exp expression: origTaxiWaitTime = rng.lognormal_for_df(df, mu=origin_zone_taxi_wait_time_mean, sigma=origin_zone_taxi_wait_time_sd, broadcast=True, scale=True).clip(min_waitTime, max_waitTime)\n",
      "numpy: Warning: underflow encountered in exp expression: origTaxiWaitTime = rng.lognormal_for_df(df, mu=origin_zone_taxi_wait_time_mean, sigma=origin_zone_taxi_wait_time_sd, broadcast=True, scale=True).clip(min_waitTime, max_waitTime)\n",
      "numpy: Warning: underflow encountered in exp expression: origTaxiWaitTime = rng.lognormal_for_df(df, mu=origin_zone_taxi_wait_time_mean, sigma=origin_zone_taxi_wait_time_sd, broadcast=True, scale=True).clip(min_waitTime, max_waitTime)\n",
      "numpy: Warning: underflow encountered in exp expression: origTaxiWaitTime = rng.lognormal_for_df(df, mu=origin_zone_taxi_wait_time_mean, sigma=origin_zone_taxi_wait_time_sd, broadcast=True, scale=True).clip(min_waitTime, max_waitTime)\n",
      "numpy: Warning: underflow encountered in exp expression: origTaxiWaitTime = rng.lognormal_for_df(df, mu=origin_zone_taxi_wait_time_mean, sigma=origin_zone_taxi_wait_time_sd, broadcast=True, scale=True).clip(min_waitTime, max_waitTime)\n",
      "numpy: Warning: underflow encountered in exp expression: origTaxiWaitTime = rng.lognormal_for_df(df, mu=origin_zone_taxi_wait_time_mean, sigma=origin_zone_taxi_wait_time_sd, broadcast=True, scale=True).clip(min_waitTime, max_waitTime)\n",
      "numpy: Warning: underflow encountered in exp expression: origTaxiWaitTime = rng.lognormal_for_df(df, mu=origin_zone_taxi_wait_time_mean, sigma=origin_zone_taxi_wait_time_sd, broadcast=True, scale=True).clip(min_waitTime, max_waitTime)\n",
      "numpy: Warning: underflow encountered in exp expression: origTaxiWaitTime = rng.lognormal_for_df(df, mu=origin_zone_taxi_wait_time_mean, sigma=origin_zone_taxi_wait_time_sd, broadcast=True, scale=True).clip(min_waitTime, max_waitTime)\n",
      "numpy: Warning: underflow encountered in exp expression: origTaxiWaitTime = rng.lognormal_for_df(df, mu=origin_zone_taxi_wait_time_mean, sigma=origin_zone_taxi_wait_time_sd, broadcast=True, scale=True).clip(min_waitTime, max_waitTime)\n",
      "numpy: Warning: underflow encountered in exp expression: origTaxiWaitTime = rng.lognormal_for_df(df, mu=origin_zone_taxi_wait_time_mean, sigma=origin_zone_taxi_wait_time_sd, broadcast=True, scale=True).clip(min_waitTime, max_waitTime)\n"
     ]
    },
    {
     "name": "stdout",
     "output_type": "stream",
     "text": [
      "Done\n"
     ]
    },
    {
     "data": {
      "text/plain": "                SHARED2FREE   SHARED3FREE      TAXI  TNC_SHARED  TNC_SINGLE  \\\nmode_share_obs     0.004883  4.701403e-14  0.000096    0.000287    0.000131   \ntrip_mode          0.005210  0.000000e+00  0.000130    0.000280    0.000100   \n\n                    WALK  WALK_LOC  WALK_LRF  \nmode_share_obs  0.044905  0.059962  0.889736  \ntrip_mode       0.045410  0.061630  0.887240  ",
      "text/html": "<div>\n<style scoped>\n    .dataframe tbody tr th:only-of-type {\n        vertical-align: middle;\n    }\n\n    .dataframe tbody tr th {\n        vertical-align: top;\n    }\n\n    .dataframe thead th {\n        text-align: right;\n    }\n</style>\n<table border=\"1\" class=\"dataframe\">\n  <thead>\n    <tr style=\"text-align: right;\">\n      <th></th>\n      <th>SHARED2FREE</th>\n      <th>SHARED3FREE</th>\n      <th>TAXI</th>\n      <th>TNC_SHARED</th>\n      <th>TNC_SINGLE</th>\n      <th>WALK</th>\n      <th>WALK_LOC</th>\n      <th>WALK_LRF</th>\n    </tr>\n  </thead>\n  <tbody>\n    <tr>\n      <th>mode_share_obs</th>\n      <td>0.004883</td>\n      <td>4.701403e-14</td>\n      <td>0.000096</td>\n      <td>0.000287</td>\n      <td>0.000131</td>\n      <td>0.044905</td>\n      <td>0.059962</td>\n      <td>0.889736</td>\n    </tr>\n    <tr>\n      <th>trip_mode</th>\n      <td>0.005210</td>\n      <td>0.000000e+00</td>\n      <td>0.000130</td>\n      <td>0.000280</td>\n      <td>0.000100</td>\n      <td>0.045410</td>\n      <td>0.061630</td>\n      <td>0.887240</td>\n    </tr>\n  </tbody>\n</table>\n</div>"
     },
     "metadata": {},
     "output_type": "display_data"
    }
   ],
   "source": [
    "choose_individual_max_utility = False\n",
    "num_samples = 100000\n",
    "trip_id_to_check = 642446345\n",
    "ms_comp = comp_mode_shares(base_probs, choose_individual_max_utility, num_samples, trip_id_to_check)"
   ],
   "metadata": {
    "collapsed": false,
    "pycharm": {
     "name": "#%%\n"
    }
   }
  },
  {
   "cell_type": "code",
   "execution_count": 199,
   "id": "1fcdc0ff-c510-4878-8672-8365e046442c",
   "metadata": {},
   "outputs": [
    {
     "name": "stderr",
     "output_type": "stream",
     "text": [
      "register joint_tour_participants: no rows with household_id in [982875].\n",
      "estimation bundle trip_mode_choice not in settings file estimation.yaml\n"
     ]
    },
    {
     "name": "stdout",
     "output_type": "stream",
     "text": [
      "Running with %d trips 482\n",
      "trip_mode_choice tour_type 'social' (100000 trips)\n",
      "Done\n"
     ]
    },
    {
     "data": {
      "text/plain": "                SHARED2FREE   SHARED3FREE      TAXI  TNC_SHARED  TNC_SINGLE  \\\nmode_share_obs     0.004883  4.701403e-14  0.000096    0.000287    0.000131   \ntrip_mode          0.000000  0.000000e+00  0.000000    0.000000    0.000000   \n\n                    WALK  WALK_LOC  WALK_LRF  \nmode_share_obs  0.044905  0.059962  0.889736  \ntrip_mode       0.002600  0.020660  0.976740  ",
      "text/html": "<div>\n<style scoped>\n    .dataframe tbody tr th:only-of-type {\n        vertical-align: middle;\n    }\n\n    .dataframe tbody tr th {\n        vertical-align: top;\n    }\n\n    .dataframe thead th {\n        text-align: right;\n    }\n</style>\n<table border=\"1\" class=\"dataframe\">\n  <thead>\n    <tr style=\"text-align: right;\">\n      <th></th>\n      <th>SHARED2FREE</th>\n      <th>SHARED3FREE</th>\n      <th>TAXI</th>\n      <th>TNC_SHARED</th>\n      <th>TNC_SINGLE</th>\n      <th>WALK</th>\n      <th>WALK_LOC</th>\n      <th>WALK_LRF</th>\n    </tr>\n  </thead>\n  <tbody>\n    <tr>\n      <th>mode_share_obs</th>\n      <td>0.004883</td>\n      <td>4.701403e-14</td>\n      <td>0.000096</td>\n      <td>0.000287</td>\n      <td>0.000131</td>\n      <td>0.044905</td>\n      <td>0.059962</td>\n      <td>0.889736</td>\n    </tr>\n    <tr>\n      <th>trip_mode</th>\n      <td>0.000000</td>\n      <td>0.000000e+00</td>\n      <td>0.000000</td>\n      <td>0.000000</td>\n      <td>0.000000</td>\n      <td>0.002600</td>\n      <td>0.020660</td>\n      <td>0.976740</td>\n    </tr>\n  </tbody>\n</table>\n</div>"
     },
     "metadata": {},
     "output_type": "display_data"
    }
   ],
   "source": [
    "choose_individual_max_utility = True\n",
    "num_samples = 100000  # 1e5 takes about 25s\n",
    "trip_id_to_check = 642446345\n",
    "ms_comp = comp_mode_shares(base_probs, choose_individual_max_utility, num_samples, trip_id_to_check)"
   ]
  },
  {
   "cell_type": "code",
   "execution_count": null,
   "outputs": [],
   "source": [],
   "metadata": {
    "collapsed": false,
    "pycharm": {
     "name": "#%%\n"
    }
   }
  }
 ],
 "metadata": {
  "kernelspec": {
   "display_name": "Python 3",
   "language": "python",
   "name": "python3"
  },
  "language_info": {
   "codemirror_mode": {
    "name": "ipython",
    "version": 3
   },
   "file_extension": ".py",
   "mimetype": "text/x-python",
   "name": "python",
   "nbconvert_exporter": "python",
   "pygments_lexer": "ipython3",
   "version": "3.8.2"
  }
 },
 "nbformat": 4,
 "nbformat_minor": 5
}