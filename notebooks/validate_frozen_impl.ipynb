{
 "cells": [
  {
   "cell_type": "markdown",
   "id": "7ece3567-e4b1-4c3f-a264-20625abb6ad7",
   "metadata": {},
   "source": [
    "# validate results"
   ]
  },
  {
   "cell_type": "code",
   "execution_count": 1,
   "id": "bd74ba44-0dfb-439a-a6ab-7ceedfc5f523",
   "metadata": {
    "execution": {
     "iopub.execute_input": "2022-05-01T10:17:57.385153Z",
     "iopub.status.busy": "2022-05-01T10:17:57.384881Z",
     "iopub.status.idle": "2022-05-01T10:17:57.534433Z",
     "shell.execute_reply": "2022-05-01T10:17:57.533096Z",
     "shell.execute_reply.started": "2022-05-01T10:17:57.385047Z"
    },
    "tags": []
   },
   "outputs": [],
   "source": [
    "%load_ext autoreload"
   ]
  },
  {
   "cell_type": "code",
   "execution_count": 2,
   "id": "c3dba451-1e10-403e-8614-35d57e6577f4",
   "metadata": {
    "execution": {
     "iopub.execute_input": "2022-05-01T10:17:57.536623Z",
     "iopub.status.busy": "2022-05-01T10:17:57.536012Z",
     "iopub.status.idle": "2022-05-01T10:17:57.542755Z",
     "shell.execute_reply": "2022-05-01T10:17:57.541685Z",
     "shell.execute_reply.started": "2022-05-01T10:17:57.536567Z"
    },
    "tags": []
   },
   "outputs": [],
   "source": [
    "%autoreload 2"
   ]
  },
  {
   "cell_type": "code",
   "execution_count": 3,
   "id": "73deaac4-e7ac-4aff-b086-4980dc6dd903",
   "metadata": {
    "execution": {
     "iopub.execute_input": "2022-05-01T10:18:00.350944Z",
     "iopub.status.busy": "2022-05-01T10:18:00.350730Z",
     "iopub.status.idle": "2022-05-01T10:18:12.760977Z",
     "shell.execute_reply": "2022-05-01T10:18:12.760013Z",
     "shell.execute_reply.started": "2022-05-01T10:18:00.350919Z"
    },
    "tags": []
   },
   "outputs": [],
   "source": [
    "import os\n",
    "import argparse\n",
    "from datetime import datetime\n",
    "\n",
    "import numpy as np\n",
    "import pandas as pd\n",
    "from numpy.random import default_rng\n",
    "\n",
    "from activitysim.cli import run\n",
    "from activitysim.core import inject\n",
    "from activitysim.core import tracing\n",
    "from activitysim.core import config\n",
    "from activitysim.core import pipeline\n",
    "from activitysim.core import chunk\n",
    "from activitysim.core import simulate\n",
    "from activitysim.core import logit\n",
    "from activitysim.abm.models.util import estimation\n",
    "from activitysim.core import expressions\n",
    "from activitysim.core.util import assign_in_place"
   ]
  },
  {
   "cell_type": "code",
   "execution_count": 4,
   "id": "7e553abd-fe0d-4cdc-aeb1-9dc80cb2757f",
   "metadata": {
    "execution": {
     "iopub.execute_input": "2022-05-01T10:18:16.944537Z",
     "iopub.status.busy": "2022-05-01T10:18:16.944291Z",
     "iopub.status.idle": "2022-05-01T10:18:17.124764Z",
     "shell.execute_reply": "2022-05-01T10:18:17.123725Z",
     "shell.execute_reply.started": "2022-05-01T10:18:16.944501Z"
    },
    "tags": []
   },
   "outputs": [],
   "source": [
    "pd.set_option(\"max_columns\", 500)"
   ]
  },
  {
   "cell_type": "code",
   "execution_count": 5,
   "id": "41fec4e8-a174-4e66-87d2-1e8c7979de90",
   "metadata": {
    "execution": {
     "iopub.execute_input": "2022-05-01T10:18:17.839947Z",
     "iopub.status.busy": "2022-05-01T10:18:17.839070Z",
     "iopub.status.idle": "2022-05-01T10:18:18.019676Z",
     "shell.execute_reply": "2022-05-01T10:18:18.018689Z",
     "shell.execute_reply.started": "2022-05-01T10:18:17.839911Z"
    },
    "tags": []
   },
   "outputs": [],
   "source": [
    "root_dir = \"/mnt/c/Users/jan.zill/code/activitysim\"\n",
    "example_dir = os.path.join(root_dir, \"test_example_mtc\")"
   ]
  },
  {
   "cell_type": "code",
   "execution_count": 6,
   "id": "2de710a2-d292-42f9-9d4a-4dcef1365506",
   "metadata": {
    "execution": {
     "iopub.execute_input": "2022-05-01T10:18:18.894533Z",
     "iopub.status.busy": "2022-05-01T10:18:18.894303Z",
     "iopub.status.idle": "2022-05-01T10:18:19.078807Z",
     "shell.execute_reply": "2022-05-01T10:18:19.077951Z",
     "shell.execute_reply.started": "2022-05-01T10:18:18.894508Z"
    },
    "tags": []
   },
   "outputs": [],
   "source": [
    "os.chdir(example_dir)"
   ]
  },
  {
   "cell_type": "code",
   "execution_count": 7,
   "id": "730be239-8704-4483-bbb8-ffae0f17c5d4",
   "metadata": {
    "execution": {
     "iopub.execute_input": "2022-05-01T10:18:22.111723Z",
     "iopub.status.busy": "2022-05-01T10:18:22.111490Z",
     "iopub.status.idle": "2022-05-01T10:18:22.297437Z",
     "shell.execute_reply": "2022-05-01T10:18:22.296501Z",
     "shell.execute_reply.started": "2022-05-01T10:18:22.111697Z"
    },
    "tags": []
   },
   "outputs": [],
   "source": [
    "parser = argparse.ArgumentParser()\n",
    "run.add_run_args(parser)\n",
    "# args = parser.parse_args()\n",
    "# parser.parse_args(['--sum', '7', '-1', '42'])\n",
    "args = parser.parse_args(['-c', 'configs', '-o', 'output', '-d', 'data'])\n",
    "#run.run(args)  # 2mins full example run\n",
    "if not inject.is_injectable('preload_injectables'):\n",
    "    from activitysim import abm  # register abm steps and other abm-specific injectables\n",
    "run.handle_standard_args(args)  # possibly update injectables"
   ]
  },
  {
   "cell_type": "code",
   "execution_count": 8,
   "id": "3ed520e9-75ef-4eec-ab86-6aaf1fe453fc",
   "metadata": {
    "execution": {
     "iopub.execute_input": "2021-09-01T02:28:53.643404Z",
     "iopub.status.busy": "2021-09-01T02:28:53.643055Z",
     "iopub.status.idle": "2021-09-01T02:29:01.223951Z",
     "shell.execute_reply": "2021-09-01T02:29:01.222865Z",
     "shell.execute_reply.started": "2021-09-01T02:28:53.643367Z"
    },
    "tags": []
   },
   "outputs": [
    {
     "name": "stderr",
     "output_type": "stream",
     "text": [
      "register joint_tour_participants: no rows with household_id in [982875].\n",
      "estimation bundle trip_mode_choice not in settings file estimation.yaml\n"
     ]
    },
    {
     "name": "stdout",
     "output_type": "stream",
     "text": [
      "Running with %d trips 482\n",
      "trip_mode_choice tour_type 'atwork' (27 trips)\n",
      "trip_mode_choice tour_type 'eatout' (33 trips)\n",
      "trip_mode_choice tour_type 'escort' (6 trips)\n",
      "trip_mode_choice tour_type 'othdiscr' (43 trips)\n",
      "trip_mode_choice tour_type 'othmaint' (46 trips)\n",
      "trip_mode_choice tour_type 'school' (37 trips)\n",
      "trip_mode_choice tour_type 'shopping' (77 trips)\n",
      "trip_mode_choice tour_type 'social' (19 trips)\n",
      "trip_mode_choice tour_type 'univ' (26 trips)\n",
      "trip_mode_choice tour_type 'work' (168 trips)\n"
     ]
    },
    {
     "name": "stderr",
     "output_type": "stream",
     "text": [
      "register joint_tour_participants: no rows with household_id in [982875].\n"
     ]
    },
    {
     "name": "stdout",
     "output_type": "stream",
     "text": [
      "Done\n"
     ]
    },
    {
     "name": "stderr",
     "output_type": "stream",
     "text": [
      "estimation bundle trip_mode_choice not in settings file estimation.yaml\n"
     ]
    },
    {
     "name": "stdout",
     "output_type": "stream",
     "text": [
      "Running with %d trips 482\n",
      "trip_mode_choice tour_type 'atwork' (27 trips)\n",
      "trip_mode_choice tour_type 'eatout' (33 trips)\n",
      "trip_mode_choice tour_type 'escort' (6 trips)\n",
      "trip_mode_choice tour_type 'othdiscr' (43 trips)\n",
      "trip_mode_choice tour_type 'othmaint' (46 trips)\n",
      "trip_mode_choice tour_type 'school' (37 trips)\n",
      "trip_mode_choice tour_type 'shopping' (77 trips)\n",
      "trip_mode_choice tour_type 'social' (19 trips)\n",
      "trip_mode_choice tour_type 'univ' (26 trips)\n",
      "trip_mode_choice tour_type 'work' (168 trips)\n",
      "Done\n"
     ]
    }
   ],
   "source": [
    "from fru_utils import run_trip_mode_choice\n",
    "trips_df_ru = run_trip_mode_choice()\n",
    "trips_df = run_trip_mode_choice(choose_individual_max_utility=False)"
   ]
  },
  {
   "cell_type": "code",
   "execution_count": 9,
   "outputs": [
    {
     "data": {
      "text/plain": "                trip_mode_fru  trip_mode_asim\nWALK                      299             304\nWALK_LOC                   94              85\nWALK_LRF                   57              53\nBIKE                       17              17\nDRIVEALONEFREE              6               4\nWALK_HVY                    4               4\nSHARED2FREE                 3               4\nTNC_SINGLE                  2               4",
      "text/html": "<div>\n<style scoped>\n    .dataframe tbody tr th:only-of-type {\n        vertical-align: middle;\n    }\n\n    .dataframe tbody tr th {\n        vertical-align: top;\n    }\n\n    .dataframe thead th {\n        text-align: right;\n    }\n</style>\n<table border=\"1\" class=\"dataframe\">\n  <thead>\n    <tr style=\"text-align: right;\">\n      <th></th>\n      <th>trip_mode_fru</th>\n      <th>trip_mode_asim</th>\n    </tr>\n  </thead>\n  <tbody>\n    <tr>\n      <th>WALK</th>\n      <td>299</td>\n      <td>304</td>\n    </tr>\n    <tr>\n      <th>WALK_LOC</th>\n      <td>94</td>\n      <td>85</td>\n    </tr>\n    <tr>\n      <th>WALK_LRF</th>\n      <td>57</td>\n      <td>53</td>\n    </tr>\n    <tr>\n      <th>BIKE</th>\n      <td>17</td>\n      <td>17</td>\n    </tr>\n    <tr>\n      <th>DRIVEALONEFREE</th>\n      <td>6</td>\n      <td>4</td>\n    </tr>\n    <tr>\n      <th>WALK_HVY</th>\n      <td>4</td>\n      <td>4</td>\n    </tr>\n    <tr>\n      <th>SHARED2FREE</th>\n      <td>3</td>\n      <td>4</td>\n    </tr>\n    <tr>\n      <th>TNC_SINGLE</th>\n      <td>2</td>\n      <td>4</td>\n    </tr>\n  </tbody>\n</table>\n</div>"
     },
     "execution_count": 9,
     "metadata": {},
     "output_type": "execute_result"
    }
   ],
   "source": [
    "c_ = [\"trip_mode\", \"mode_choice_logsum\"]\n",
    "trips = trips_df_ru[c_].merge(trips_df[c_], left_index=True, right_index=True, how=\"outer\", suffixes=[\"_fru\", \"_asim\"])\n",
    "pd.merge(trips_df_ru.trip_mode.value_counts(), trips_df.trip_mode.value_counts(), left_index=True, right_index=True,\n",
    "         suffixes=[\"_fru\", \"_asim\"])"
   ],
   "metadata": {
    "collapsed": false,
    "pycharm": {
     "name": "#%%\n"
    }
   }
  },
  {
   "cell_type": "code",
   "execution_count": 10,
   "outputs": [
    {
     "name": "stdout",
     "output_type": "stream",
     "text": [
      "Logsums agree\n"
     ]
    }
   ],
   "source": [
    "if np.allclose(trips.mode_choice_logsum_fru, trips.mode_choice_logsum_asim):\n",
    "    print(\"Logsums agree\")\n",
    "else:\n",
    "    ((trips.mode_choice_logsum_fru - trips.mode_choice_logsum_asim) / trips.mode_choice_logsum_fru).hist(bins=50)"
   ],
   "metadata": {
    "collapsed": false,
    "pycharm": {
     "name": "#%%\n"
    }
   }
  },
  {
   "cell_type": "code",
   "execution_count": 12,
   "outputs": [],
   "source": [
    "#simulate.compute_nested_utilities(ru[0], ns[0])"
   ],
   "metadata": {
    "collapsed": false,
    "pycharm": {
     "name": "#%%\n"
    }
   }
  },
  {
   "cell_type": "markdown",
   "source": [
    "# Run MC validation\n",
    "\n",
    "see logit._each_nest parent_nest_scale for leaf node, and simulate.compute_nested_utilities for discussion of scales\n",
    "of alternatives\n",
    "\n",
    "easiest way is to run a simulation"
   ],
   "metadata": {
    "collapsed": false,
    "pycharm": {
     "name": "#%% md\n"
    }
   }
  },
  {
   "cell_type": "code",
   "execution_count": 26,
   "outputs": [
    {
     "name": "stderr",
     "output_type": "stream",
     "text": [
      "register joint_tour_participants: no rows with household_id in [982875].\n",
      "estimation bundle trip_mode_choice not in settings file estimation.yaml\n"
     ]
    },
    {
     "name": "stdout",
     "output_type": "stream",
     "text": [
      "Running with %d trips 482\n",
      "trip_mode_choice tour_type 'social' (19 trips)\n",
      "Done\n"
     ]
    }
   ],
   "source": [
    "from fru_utils import get_stuff\n",
    "t, ru, neu, nu, ns, nested_probs, base_probs = get_stuff(do_these_purposes=[\"social\"])"
   ],
   "metadata": {
    "collapsed": false,
    "pycharm": {
     "name": "#%%\n"
    }
   }
  },
  {
   "cell_type": "code",
   "execution_count": 27,
   "outputs": [
    {
     "name": "stdout",
     "output_type": "stream",
     "text": [
      "Nest name: root level: 1 coefficient: 1.0 product_of_coefficients: 1.0 ancestors: ['root'] parent nest scale: 0\n",
      "Nest name: AUTO level: 2 coefficient: 0.72 product_of_coefficients: 0.72 ancestors: ['root', 'AUTO'] parent nest scale: 1.0\n",
      "Nest name: NONMOTORIZED level: 2 coefficient: 0.72 product_of_coefficients: 0.72 ancestors: ['root', 'NONMOTORIZED'] parent nest scale: 1.0\n",
      "Nest name: TRANSIT level: 2 coefficient: 0.72 product_of_coefficients: 0.72 ancestors: ['root', 'TRANSIT'] parent nest scale: 1.0\n",
      "Nest name: RIDEHAIL level: 2 coefficient: 0.36 product_of_coefficients: 0.36 ancestors: ['root', 'RIDEHAIL'] parent nest scale: 1.0\n"
     ]
    }
   ],
   "source": [
    "nest_spec = ns[0]\n",
    "for nest in logit.each_nest(nest_spec, type='node', post_order=False):\n",
    "    nest.print()"
   ],
   "metadata": {
    "collapsed": false,
    "pycharm": {
     "name": "#%%\n"
    }
   }
  },
  {
   "cell_type": "code",
   "execution_count": 28,
   "outputs": [
    {
     "name": "stdout",
     "output_type": "stream",
     "text": [
      "leaf DRIVEALONEFREE with 0.72, 0.72\n",
      "leaf DRIVEALONEPAY with 0.72, 0.72\n",
      "leaf SHARED2FREE with 0.72, 0.72\n",
      "leaf SHARED2PAY with 0.72, 0.72\n",
      "leaf SHARED3FREE with 0.72, 0.72\n",
      "leaf SHARED3PAY with 0.72, 0.72\n",
      "node AUTO with 0.72, 1.0\n",
      "leaf WALK with 0.72, 0.72\n",
      "leaf BIKE with 0.72, 0.72\n",
      "node NONMOTORIZED with 0.72, 1.0\n",
      "leaf WALK_LOC with 0.72, 0.72\n",
      "leaf WALK_LRF with 0.72, 0.72\n",
      "leaf WALK_EXP with 0.72, 0.72\n",
      "leaf WALK_HVY with 0.72, 0.72\n",
      "leaf WALK_COM with 0.72, 0.72\n",
      "leaf DRIVE_LOC with 0.72, 0.72\n",
      "leaf DRIVE_LRF with 0.72, 0.72\n",
      "leaf DRIVE_EXP with 0.72, 0.72\n",
      "leaf DRIVE_HVY with 0.72, 0.72\n",
      "leaf DRIVE_COM with 0.72, 0.72\n",
      "node TRANSIT with 0.72, 1.0\n",
      "leaf TAXI with 0.36, 0.36\n",
      "leaf TNC_SINGLE with 0.36, 0.36\n",
      "leaf TNC_SHARED with 0.36, 0.36\n",
      "node RIDEHAIL with 0.36, 1.0\n",
      "node root with 1.0, 0\n"
     ]
    }
   ],
   "source": [
    "for nest in logit.each_nest(nest_spec, post_order=True):\n",
    "    name = nest.name\n",
    "    if nest.is_leaf:\n",
    "        print(f\"leaf {name} with {nest.product_of_coefficients}, {nest.parent_nest_scale}\")\n",
    "    else:\n",
    "        print(f\"node {name} with {nest.coefficient}, {nest.parent_nest_scale}\")"
   ],
   "metadata": {
    "collapsed": false,
    "pycharm": {
     "name": "#%%\n"
    }
   }
  },
  {
   "cell_type": "code",
   "execution_count": 39,
   "outputs": [
    {
     "name": "stdout",
     "output_type": "stream",
     "text": [
      "Nest name: DRIVEALONEFREE level: 3 coefficient: 0.72 product_of_coefficients: 0.72 ancestors: ['root', 'AUTO', 'DRIVEALONEFREE'] parent nest scale: 0.72\n",
      "Nest name: DRIVEALONEPAY level: 3 coefficient: 0.72 product_of_coefficients: 0.72 ancestors: ['root', 'AUTO', 'DRIVEALONEPAY'] parent nest scale: 0.72\n",
      "Nest name: SHARED2FREE level: 3 coefficient: 0.72 product_of_coefficients: 0.72 ancestors: ['root', 'AUTO', 'SHARED2FREE'] parent nest scale: 0.72\n",
      "Nest name: SHARED2PAY level: 3 coefficient: 0.72 product_of_coefficients: 0.72 ancestors: ['root', 'AUTO', 'SHARED2PAY'] parent nest scale: 0.72\n",
      "Nest name: SHARED3FREE level: 3 coefficient: 0.72 product_of_coefficients: 0.72 ancestors: ['root', 'AUTO', 'SHARED3FREE'] parent nest scale: 0.72\n",
      "Nest name: SHARED3PAY level: 3 coefficient: 0.72 product_of_coefficients: 0.72 ancestors: ['root', 'AUTO', 'SHARED3PAY'] parent nest scale: 0.72\n",
      "Nest name: WALK level: 3 coefficient: 0.72 product_of_coefficients: 0.72 ancestors: ['root', 'NONMOTORIZED', 'WALK'] parent nest scale: 0.72\n",
      "Nest name: BIKE level: 3 coefficient: 0.72 product_of_coefficients: 0.72 ancestors: ['root', 'NONMOTORIZED', 'BIKE'] parent nest scale: 0.72\n",
      "Nest name: WALK_LOC level: 3 coefficient: 0.72 product_of_coefficients: 0.72 ancestors: ['root', 'TRANSIT', 'WALK_LOC'] parent nest scale: 0.72\n",
      "Nest name: WALK_LRF level: 3 coefficient: 0.72 product_of_coefficients: 0.72 ancestors: ['root', 'TRANSIT', 'WALK_LRF'] parent nest scale: 0.72\n",
      "Nest name: WALK_EXP level: 3 coefficient: 0.72 product_of_coefficients: 0.72 ancestors: ['root', 'TRANSIT', 'WALK_EXP'] parent nest scale: 0.72\n",
      "Nest name: WALK_HVY level: 3 coefficient: 0.72 product_of_coefficients: 0.72 ancestors: ['root', 'TRANSIT', 'WALK_HVY'] parent nest scale: 0.72\n",
      "Nest name: WALK_COM level: 3 coefficient: 0.72 product_of_coefficients: 0.72 ancestors: ['root', 'TRANSIT', 'WALK_COM'] parent nest scale: 0.72\n",
      "Nest name: DRIVE_LOC level: 3 coefficient: 0.72 product_of_coefficients: 0.72 ancestors: ['root', 'TRANSIT', 'DRIVE_LOC'] parent nest scale: 0.72\n",
      "Nest name: DRIVE_LRF level: 3 coefficient: 0.72 product_of_coefficients: 0.72 ancestors: ['root', 'TRANSIT', 'DRIVE_LRF'] parent nest scale: 0.72\n",
      "Nest name: DRIVE_EXP level: 3 coefficient: 0.72 product_of_coefficients: 0.72 ancestors: ['root', 'TRANSIT', 'DRIVE_EXP'] parent nest scale: 0.72\n",
      "Nest name: DRIVE_HVY level: 3 coefficient: 0.72 product_of_coefficients: 0.72 ancestors: ['root', 'TRANSIT', 'DRIVE_HVY'] parent nest scale: 0.72\n",
      "Nest name: DRIVE_COM level: 3 coefficient: 0.72 product_of_coefficients: 0.72 ancestors: ['root', 'TRANSIT', 'DRIVE_COM'] parent nest scale: 0.72\n",
      "Nest name: TAXI level: 3 coefficient: 0.36 product_of_coefficients: 0.36 ancestors: ['root', 'RIDEHAIL', 'TAXI'] parent nest scale: 0.36\n",
      "Nest name: TNC_SINGLE level: 3 coefficient: 0.36 product_of_coefficients: 0.36 ancestors: ['root', 'RIDEHAIL', 'TNC_SINGLE'] parent nest scale: 0.36\n",
      "Nest name: TNC_SHARED level: 3 coefficient: 0.36 product_of_coefficients: 0.36 ancestors: ['root', 'RIDEHAIL', 'TNC_SHARED'] parent nest scale: 0.36\n"
     ]
    }
   ],
   "source": [
    "nest_spec = ns[0]\n",
    "for nest in logit.each_nest(nest_spec, type='leaf'):\n",
    "    nest.print()"
   ],
   "metadata": {
    "collapsed": false,
    "pycharm": {
     "name": "#%%\n"
    }
   }
  },
  {
   "cell_type": "code",
   "execution_count": null,
   "outputs": [],
   "source": [],
   "metadata": {
    "collapsed": false,
    "pycharm": {
     "name": "#%%\n"
    }
   }
  },
  {
   "cell_type": "code",
   "execution_count": null,
   "outputs": [],
   "source": [],
   "metadata": {
    "collapsed": false,
    "pycharm": {
     "name": "#%%\n"
    }
   }
  },
  {
   "cell_type": "code",
   "execution_count": 29,
   "outputs": [
    {
     "data": {
      "text/plain": "            DRIVEALONEFREE  DRIVEALONEPAY   SHARED2FREE  SHARED2PAY  \\\ntrip_id                                                               \n8805121                0.0            0.0  0.000000e+00         0.0   \n8805125                0.0            0.0  0.000000e+00         0.0   \n8805126                0.0            0.0  0.000000e+00         0.0   \n468119921              0.0            0.0  0.000000e+00         0.0   \n468119922              0.0            0.0  0.000000e+00         0.0   \n468119925              0.0            0.0  0.000000e+00         0.0   \n468119926              0.0            0.0  0.000000e+00         0.0   \n468119927              0.0            0.0  0.000000e+00         0.0   \n468119928              0.0            0.0  0.000000e+00         0.0   \n642446345              0.0            0.0  4.262023e-03         0.0   \n642446349              0.0            0.0  3.138876e-03         0.0   \n1179608009             0.0            0.0  5.572746e-05         0.0   \n1179608013             0.0            0.0  1.108122e-05         0.0   \n1658807153             0.0            0.0  4.252415e-07         0.0   \n1658807157             0.0            0.0  5.038020e-07         0.0   \n1767182945             0.0            0.0  1.339899e-02         0.0   \n1767182949             0.0            0.0  1.282607e-02         0.0   \n2464104881             0.0            0.0  2.228876e-05         0.0   \n2464104885             0.0            0.0  2.163505e-05         0.0   \n\n             SHARED3FREE  SHARED3PAY      WALK  BIKE  WALK_LOC  WALK_LRF  \\\ntrip_id                                                                    \n8805121     0.000000e+00         0.0  1.000000   0.0  0.000000  0.000000   \n8805125     0.000000e+00         0.0  1.000000   0.0  0.000000  0.000000   \n8805126     0.000000e+00         0.0  1.000000   0.0  0.000000  0.000000   \n468119921   0.000000e+00         0.0  1.000000   0.0  0.000000  0.000000   \n468119922   0.000000e+00         0.0  0.999874   0.0  0.000000  0.000000   \n468119925   0.000000e+00         0.0  0.999875   0.0  0.000000  0.000000   \n468119926   0.000000e+00         0.0  1.000000   0.0  0.000000  0.000000   \n468119927   0.000000e+00         0.0  1.000000   0.0  0.000000  0.000000   \n468119928   0.000000e+00         0.0  1.000000   0.0  0.000000  0.000000   \n642446345   4.103657e-14         0.0  0.039196   0.0  0.197050  0.759044   \n642446349   3.423474e-14         0.0  0.037574   0.0  0.208612  0.750231   \n1179608009  1.964682e-05         0.0  0.969538   0.0  0.000000  0.000000   \n1179608013  7.469124e-06         0.0  0.969598   0.0  0.000000  0.000000   \n1658807153  1.499257e-07         0.0  0.048044   0.0  0.951445  0.000000   \n1658807157  1.907576e-07         0.0  0.065847   0.0  0.933430  0.000000   \n1767182945  1.288763e-13         0.0  0.038976   0.0  0.282647  0.660225   \n1767182949  1.256775e-13         0.0  0.034777   0.0  0.280877  0.666774   \n2464104881  2.147403e-16         0.0  0.646947   0.0  0.353030  0.000000   \n2464104885  2.084422e-16         0.0  0.627973   0.0  0.372005  0.000000   \n\n            WALK_EXP  WALK_HVY  WALK_COM  DRIVE_LOC  DRIVE_LRF  DRIVE_EXP  \\\ntrip_id                                                                     \n8805121          0.0       0.0       0.0        0.0        0.0        0.0   \n8805125          0.0       0.0       0.0        0.0        0.0        0.0   \n8805126          0.0       0.0       0.0        0.0        0.0        0.0   \n468119921        0.0       0.0       0.0        0.0        0.0        0.0   \n468119922        0.0       0.0       0.0        0.0        0.0        0.0   \n468119925        0.0       0.0       0.0        0.0        0.0        0.0   \n468119926        0.0       0.0       0.0        0.0        0.0        0.0   \n468119927        0.0       0.0       0.0        0.0        0.0        0.0   \n468119928        0.0       0.0       0.0        0.0        0.0        0.0   \n642446345        0.0       0.0       0.0        0.0        0.0        0.0   \n642446349        0.0       0.0       0.0        0.0        0.0        0.0   \n1179608009       0.0       0.0       0.0        0.0        0.0        0.0   \n1179608013       0.0       0.0       0.0        0.0        0.0        0.0   \n1658807153       0.0       0.0       0.0        0.0        0.0        0.0   \n1658807157       0.0       0.0       0.0        0.0        0.0        0.0   \n1767182945       0.0       0.0       0.0        0.0        0.0        0.0   \n1767182949       0.0       0.0       0.0        0.0        0.0        0.0   \n2464104881       0.0       0.0       0.0        0.0        0.0        0.0   \n2464104885       0.0       0.0       0.0        0.0        0.0        0.0   \n\n            DRIVE_HVY  DRIVE_COM          TAXI    TNC_SINGLE    TNC_SHARED  \ntrip_id                                                                     \n8805121           0.0        0.0  4.266799e-08  7.843494e-08  2.071998e-08  \n8805125           0.0        0.0  4.057327e-08  7.325707e-08  1.950799e-08  \n8805126           0.0        0.0  4.864169e-08  9.376443e-08  2.428075e-08  \n468119921         0.0        0.0  1.096638e-08  2.754998e-10  4.051502e-08  \n468119922         0.0        0.0  2.658716e-05  6.599176e-07  9.832967e-05  \n468119925         0.0        0.0  2.651144e-05  6.601311e-07  9.831370e-05  \n468119926         0.0        0.0  1.568041e-08  2.408144e-10  3.615344e-08  \n468119927         0.0        0.0  5.308505e-08  1.315547e-10  2.041405e-08  \n468119928         0.0        0.0  2.367465e-09  1.493582e-10  1.939597e-08  \n642446345         0.0        0.0  8.388831e-05  1.141304e-04  2.502967e-04  \n642446349         0.0        0.0  8.053321e-05  1.140970e-04  2.500402e-04  \n1179608009        0.0        0.0  5.225133e-06  2.766547e-02  2.716407e-03  \n1179608013        0.0        0.0  5.222635e-06  2.766274e-02  2.715479e-03  \n1658807153        0.0        0.0  7.091296e-08  4.695006e-04  4.115873e-05  \n1658807157        0.0        0.0  9.574501e-08  6.645671e-04  5.801899e-05  \n1767182945        0.0        0.0  1.247409e-03  2.795129e-03  7.103828e-04  \n1767182949        0.0        0.0  1.229459e-03  2.813489e-03  7.024828e-04  \n2464104881        0.0        0.0  1.365321e-07  8.764695e-12  3.537046e-07  \n2464104885        0.0        0.0  1.325277e-07  8.507634e-12  3.433307e-07  ",
      "text/html": "<div>\n<style scoped>\n    .dataframe tbody tr th:only-of-type {\n        vertical-align: middle;\n    }\n\n    .dataframe tbody tr th {\n        vertical-align: top;\n    }\n\n    .dataframe thead th {\n        text-align: right;\n    }\n</style>\n<table border=\"1\" class=\"dataframe\">\n  <thead>\n    <tr style=\"text-align: right;\">\n      <th></th>\n      <th>DRIVEALONEFREE</th>\n      <th>DRIVEALONEPAY</th>\n      <th>SHARED2FREE</th>\n      <th>SHARED2PAY</th>\n      <th>SHARED3FREE</th>\n      <th>SHARED3PAY</th>\n      <th>WALK</th>\n      <th>BIKE</th>\n      <th>WALK_LOC</th>\n      <th>WALK_LRF</th>\n      <th>WALK_EXP</th>\n      <th>WALK_HVY</th>\n      <th>WALK_COM</th>\n      <th>DRIVE_LOC</th>\n      <th>DRIVE_LRF</th>\n      <th>DRIVE_EXP</th>\n      <th>DRIVE_HVY</th>\n      <th>DRIVE_COM</th>\n      <th>TAXI</th>\n      <th>TNC_SINGLE</th>\n      <th>TNC_SHARED</th>\n    </tr>\n    <tr>\n      <th>trip_id</th>\n      <th></th>\n      <th></th>\n      <th></th>\n      <th></th>\n      <th></th>\n      <th></th>\n      <th></th>\n      <th></th>\n      <th></th>\n      <th></th>\n      <th></th>\n      <th></th>\n      <th></th>\n      <th></th>\n      <th></th>\n      <th></th>\n      <th></th>\n      <th></th>\n      <th></th>\n      <th></th>\n      <th></th>\n    </tr>\n  </thead>\n  <tbody>\n    <tr>\n      <th>8805121</th>\n      <td>0.0</td>\n      <td>0.0</td>\n      <td>0.000000e+00</td>\n      <td>0.0</td>\n      <td>0.000000e+00</td>\n      <td>0.0</td>\n      <td>1.000000</td>\n      <td>0.0</td>\n      <td>0.000000</td>\n      <td>0.000000</td>\n      <td>0.0</td>\n      <td>0.0</td>\n      <td>0.0</td>\n      <td>0.0</td>\n      <td>0.0</td>\n      <td>0.0</td>\n      <td>0.0</td>\n      <td>0.0</td>\n      <td>4.266799e-08</td>\n      <td>7.843494e-08</td>\n      <td>2.071998e-08</td>\n    </tr>\n    <tr>\n      <th>8805125</th>\n      <td>0.0</td>\n      <td>0.0</td>\n      <td>0.000000e+00</td>\n      <td>0.0</td>\n      <td>0.000000e+00</td>\n      <td>0.0</td>\n      <td>1.000000</td>\n      <td>0.0</td>\n      <td>0.000000</td>\n      <td>0.000000</td>\n      <td>0.0</td>\n      <td>0.0</td>\n      <td>0.0</td>\n      <td>0.0</td>\n      <td>0.0</td>\n      <td>0.0</td>\n      <td>0.0</td>\n      <td>0.0</td>\n      <td>4.057327e-08</td>\n      <td>7.325707e-08</td>\n      <td>1.950799e-08</td>\n    </tr>\n    <tr>\n      <th>8805126</th>\n      <td>0.0</td>\n      <td>0.0</td>\n      <td>0.000000e+00</td>\n      <td>0.0</td>\n      <td>0.000000e+00</td>\n      <td>0.0</td>\n      <td>1.000000</td>\n      <td>0.0</td>\n      <td>0.000000</td>\n      <td>0.000000</td>\n      <td>0.0</td>\n      <td>0.0</td>\n      <td>0.0</td>\n      <td>0.0</td>\n      <td>0.0</td>\n      <td>0.0</td>\n      <td>0.0</td>\n      <td>0.0</td>\n      <td>4.864169e-08</td>\n      <td>9.376443e-08</td>\n      <td>2.428075e-08</td>\n    </tr>\n    <tr>\n      <th>468119921</th>\n      <td>0.0</td>\n      <td>0.0</td>\n      <td>0.000000e+00</td>\n      <td>0.0</td>\n      <td>0.000000e+00</td>\n      <td>0.0</td>\n      <td>1.000000</td>\n      <td>0.0</td>\n      <td>0.000000</td>\n      <td>0.000000</td>\n      <td>0.0</td>\n      <td>0.0</td>\n      <td>0.0</td>\n      <td>0.0</td>\n      <td>0.0</td>\n      <td>0.0</td>\n      <td>0.0</td>\n      <td>0.0</td>\n      <td>1.096638e-08</td>\n      <td>2.754998e-10</td>\n      <td>4.051502e-08</td>\n    </tr>\n    <tr>\n      <th>468119922</th>\n      <td>0.0</td>\n      <td>0.0</td>\n      <td>0.000000e+00</td>\n      <td>0.0</td>\n      <td>0.000000e+00</td>\n      <td>0.0</td>\n      <td>0.999874</td>\n      <td>0.0</td>\n      <td>0.000000</td>\n      <td>0.000000</td>\n      <td>0.0</td>\n      <td>0.0</td>\n      <td>0.0</td>\n      <td>0.0</td>\n      <td>0.0</td>\n      <td>0.0</td>\n      <td>0.0</td>\n      <td>0.0</td>\n      <td>2.658716e-05</td>\n      <td>6.599176e-07</td>\n      <td>9.832967e-05</td>\n    </tr>\n    <tr>\n      <th>468119925</th>\n      <td>0.0</td>\n      <td>0.0</td>\n      <td>0.000000e+00</td>\n      <td>0.0</td>\n      <td>0.000000e+00</td>\n      <td>0.0</td>\n      <td>0.999875</td>\n      <td>0.0</td>\n      <td>0.000000</td>\n      <td>0.000000</td>\n      <td>0.0</td>\n      <td>0.0</td>\n      <td>0.0</td>\n      <td>0.0</td>\n      <td>0.0</td>\n      <td>0.0</td>\n      <td>0.0</td>\n      <td>0.0</td>\n      <td>2.651144e-05</td>\n      <td>6.601311e-07</td>\n      <td>9.831370e-05</td>\n    </tr>\n    <tr>\n      <th>468119926</th>\n      <td>0.0</td>\n      <td>0.0</td>\n      <td>0.000000e+00</td>\n      <td>0.0</td>\n      <td>0.000000e+00</td>\n      <td>0.0</td>\n      <td>1.000000</td>\n      <td>0.0</td>\n      <td>0.000000</td>\n      <td>0.000000</td>\n      <td>0.0</td>\n      <td>0.0</td>\n      <td>0.0</td>\n      <td>0.0</td>\n      <td>0.0</td>\n      <td>0.0</td>\n      <td>0.0</td>\n      <td>0.0</td>\n      <td>1.568041e-08</td>\n      <td>2.408144e-10</td>\n      <td>3.615344e-08</td>\n    </tr>\n    <tr>\n      <th>468119927</th>\n      <td>0.0</td>\n      <td>0.0</td>\n      <td>0.000000e+00</td>\n      <td>0.0</td>\n      <td>0.000000e+00</td>\n      <td>0.0</td>\n      <td>1.000000</td>\n      <td>0.0</td>\n      <td>0.000000</td>\n      <td>0.000000</td>\n      <td>0.0</td>\n      <td>0.0</td>\n      <td>0.0</td>\n      <td>0.0</td>\n      <td>0.0</td>\n      <td>0.0</td>\n      <td>0.0</td>\n      <td>0.0</td>\n      <td>5.308505e-08</td>\n      <td>1.315547e-10</td>\n      <td>2.041405e-08</td>\n    </tr>\n    <tr>\n      <th>468119928</th>\n      <td>0.0</td>\n      <td>0.0</td>\n      <td>0.000000e+00</td>\n      <td>0.0</td>\n      <td>0.000000e+00</td>\n      <td>0.0</td>\n      <td>1.000000</td>\n      <td>0.0</td>\n      <td>0.000000</td>\n      <td>0.000000</td>\n      <td>0.0</td>\n      <td>0.0</td>\n      <td>0.0</td>\n      <td>0.0</td>\n      <td>0.0</td>\n      <td>0.0</td>\n      <td>0.0</td>\n      <td>0.0</td>\n      <td>2.367465e-09</td>\n      <td>1.493582e-10</td>\n      <td>1.939597e-08</td>\n    </tr>\n    <tr>\n      <th>642446345</th>\n      <td>0.0</td>\n      <td>0.0</td>\n      <td>4.262023e-03</td>\n      <td>0.0</td>\n      <td>4.103657e-14</td>\n      <td>0.0</td>\n      <td>0.039196</td>\n      <td>0.0</td>\n      <td>0.197050</td>\n      <td>0.759044</td>\n      <td>0.0</td>\n      <td>0.0</td>\n      <td>0.0</td>\n      <td>0.0</td>\n      <td>0.0</td>\n      <td>0.0</td>\n      <td>0.0</td>\n      <td>0.0</td>\n      <td>8.388831e-05</td>\n      <td>1.141304e-04</td>\n      <td>2.502967e-04</td>\n    </tr>\n    <tr>\n      <th>642446349</th>\n      <td>0.0</td>\n      <td>0.0</td>\n      <td>3.138876e-03</td>\n      <td>0.0</td>\n      <td>3.423474e-14</td>\n      <td>0.0</td>\n      <td>0.037574</td>\n      <td>0.0</td>\n      <td>0.208612</td>\n      <td>0.750231</td>\n      <td>0.0</td>\n      <td>0.0</td>\n      <td>0.0</td>\n      <td>0.0</td>\n      <td>0.0</td>\n      <td>0.0</td>\n      <td>0.0</td>\n      <td>0.0</td>\n      <td>8.053321e-05</td>\n      <td>1.140970e-04</td>\n      <td>2.500402e-04</td>\n    </tr>\n    <tr>\n      <th>1179608009</th>\n      <td>0.0</td>\n      <td>0.0</td>\n      <td>5.572746e-05</td>\n      <td>0.0</td>\n      <td>1.964682e-05</td>\n      <td>0.0</td>\n      <td>0.969538</td>\n      <td>0.0</td>\n      <td>0.000000</td>\n      <td>0.000000</td>\n      <td>0.0</td>\n      <td>0.0</td>\n      <td>0.0</td>\n      <td>0.0</td>\n      <td>0.0</td>\n      <td>0.0</td>\n      <td>0.0</td>\n      <td>0.0</td>\n      <td>5.225133e-06</td>\n      <td>2.766547e-02</td>\n      <td>2.716407e-03</td>\n    </tr>\n    <tr>\n      <th>1179608013</th>\n      <td>0.0</td>\n      <td>0.0</td>\n      <td>1.108122e-05</td>\n      <td>0.0</td>\n      <td>7.469124e-06</td>\n      <td>0.0</td>\n      <td>0.969598</td>\n      <td>0.0</td>\n      <td>0.000000</td>\n      <td>0.000000</td>\n      <td>0.0</td>\n      <td>0.0</td>\n      <td>0.0</td>\n      <td>0.0</td>\n      <td>0.0</td>\n      <td>0.0</td>\n      <td>0.0</td>\n      <td>0.0</td>\n      <td>5.222635e-06</td>\n      <td>2.766274e-02</td>\n      <td>2.715479e-03</td>\n    </tr>\n    <tr>\n      <th>1658807153</th>\n      <td>0.0</td>\n      <td>0.0</td>\n      <td>4.252415e-07</td>\n      <td>0.0</td>\n      <td>1.499257e-07</td>\n      <td>0.0</td>\n      <td>0.048044</td>\n      <td>0.0</td>\n      <td>0.951445</td>\n      <td>0.000000</td>\n      <td>0.0</td>\n      <td>0.0</td>\n      <td>0.0</td>\n      <td>0.0</td>\n      <td>0.0</td>\n      <td>0.0</td>\n      <td>0.0</td>\n      <td>0.0</td>\n      <td>7.091296e-08</td>\n      <td>4.695006e-04</td>\n      <td>4.115873e-05</td>\n    </tr>\n    <tr>\n      <th>1658807157</th>\n      <td>0.0</td>\n      <td>0.0</td>\n      <td>5.038020e-07</td>\n      <td>0.0</td>\n      <td>1.907576e-07</td>\n      <td>0.0</td>\n      <td>0.065847</td>\n      <td>0.0</td>\n      <td>0.933430</td>\n      <td>0.000000</td>\n      <td>0.0</td>\n      <td>0.0</td>\n      <td>0.0</td>\n      <td>0.0</td>\n      <td>0.0</td>\n      <td>0.0</td>\n      <td>0.0</td>\n      <td>0.0</td>\n      <td>9.574501e-08</td>\n      <td>6.645671e-04</td>\n      <td>5.801899e-05</td>\n    </tr>\n    <tr>\n      <th>1767182945</th>\n      <td>0.0</td>\n      <td>0.0</td>\n      <td>1.339899e-02</td>\n      <td>0.0</td>\n      <td>1.288763e-13</td>\n      <td>0.0</td>\n      <td>0.038976</td>\n      <td>0.0</td>\n      <td>0.282647</td>\n      <td>0.660225</td>\n      <td>0.0</td>\n      <td>0.0</td>\n      <td>0.0</td>\n      <td>0.0</td>\n      <td>0.0</td>\n      <td>0.0</td>\n      <td>0.0</td>\n      <td>0.0</td>\n      <td>1.247409e-03</td>\n      <td>2.795129e-03</td>\n      <td>7.103828e-04</td>\n    </tr>\n    <tr>\n      <th>1767182949</th>\n      <td>0.0</td>\n      <td>0.0</td>\n      <td>1.282607e-02</td>\n      <td>0.0</td>\n      <td>1.256775e-13</td>\n      <td>0.0</td>\n      <td>0.034777</td>\n      <td>0.0</td>\n      <td>0.280877</td>\n      <td>0.666774</td>\n      <td>0.0</td>\n      <td>0.0</td>\n      <td>0.0</td>\n      <td>0.0</td>\n      <td>0.0</td>\n      <td>0.0</td>\n      <td>0.0</td>\n      <td>0.0</td>\n      <td>1.229459e-03</td>\n      <td>2.813489e-03</td>\n      <td>7.024828e-04</td>\n    </tr>\n    <tr>\n      <th>2464104881</th>\n      <td>0.0</td>\n      <td>0.0</td>\n      <td>2.228876e-05</td>\n      <td>0.0</td>\n      <td>2.147403e-16</td>\n      <td>0.0</td>\n      <td>0.646947</td>\n      <td>0.0</td>\n      <td>0.353030</td>\n      <td>0.000000</td>\n      <td>0.0</td>\n      <td>0.0</td>\n      <td>0.0</td>\n      <td>0.0</td>\n      <td>0.0</td>\n      <td>0.0</td>\n      <td>0.0</td>\n      <td>0.0</td>\n      <td>1.365321e-07</td>\n      <td>8.764695e-12</td>\n      <td>3.537046e-07</td>\n    </tr>\n    <tr>\n      <th>2464104885</th>\n      <td>0.0</td>\n      <td>0.0</td>\n      <td>2.163505e-05</td>\n      <td>0.0</td>\n      <td>2.084422e-16</td>\n      <td>0.0</td>\n      <td>0.627973</td>\n      <td>0.0</td>\n      <td>0.372005</td>\n      <td>0.000000</td>\n      <td>0.0</td>\n      <td>0.0</td>\n      <td>0.0</td>\n      <td>0.0</td>\n      <td>0.0</td>\n      <td>0.0</td>\n      <td>0.0</td>\n      <td>0.0</td>\n      <td>1.325277e-07</td>\n      <td>8.507634e-12</td>\n      <td>3.433307e-07</td>\n    </tr>\n  </tbody>\n</table>\n</div>"
     },
     "execution_count": 29,
     "metadata": {},
     "output_type": "execute_result"
    }
   ],
   "source": [
    "# nested_probs[0] - these are relative in each nest, so the full probs are potentially just the product of these\n",
    "base_probs[0]"
   ],
   "metadata": {
    "collapsed": false,
    "pycharm": {
     "name": "#%%\n"
    }
   }
  },
  {
   "cell_type": "code",
   "execution_count": 13,
   "outputs": [],
   "source": [
    "# for later: this seems to be a non-driving segment - grab workers or something later?\n",
    "# for now: implement a run with seeding so I can reproduce these counts\n",
    "\n",
    "# actually, can I manipulate pipeline OR inject table dynamically? If I reproduce a single observation many times we\n",
    "# can check mode shares\n",
    "# 1) check tests\n",
    "# 2) check code in mode choice, maybe duplicate here, see old code below"
   ],
   "metadata": {
    "collapsed": false,
    "pycharm": {
     "name": "#%%\n"
    }
   }
  },
  {
   "cell_type": "markdown",
   "source": [],
   "metadata": {
    "collapsed": false
   }
  },
  {
   "cell_type": "code",
   "execution_count": 40,
   "outputs": [],
   "source": [
    "def mode_choice_for_trip(choose_individual_max_utility, trip_id_to_check, num_samples):\n",
    "    \"\"\"open pipeline and load stuff for mode choice dev assuming model has been run and pipeline.h5 exists\"\"\"\n",
    "    resume_after = \"trip_scheduling\"\n",
    "    model_name = \"trip_mode_choice\"\n",
    "    chunk_size = 0  # test_mtc means no chunking\n",
    "\n",
    "    pipeline.open_pipeline(resume_after)\n",
    "    # preload any bulky injectables (e.g. skims) not in pipeline\n",
    "    inject.get_injectable('preload_injectables', None)\n",
    "    pipeline._PIPELINE.rng().begin_step(model_name)\n",
    "    #step_name = model_name\n",
    "    args = {}\n",
    "    #checkpoint = pipeline.intermediate_checkpoint(model_name)\n",
    "    inject.set_step_args(args)\n",
    "\n",
    "    trips = inject.get_table('trips')\n",
    "    tours_merged = inject.get_table('tours_merged')\n",
    "    network_los = inject.get_injectable('network_los')\n",
    "\n",
    "    trace_label = 'trip_mode_choice'\n",
    "    model_settings_file_name = 'trip_mode_choice.yaml'\n",
    "    model_settings = config.read_model_settings(model_settings_file_name)\n",
    "\n",
    "    logsum_column_name = model_settings.get('MODE_CHOICE_LOGSUM_COLUMN_NAME')\n",
    "    mode_column_name = 'trip_mode'\n",
    "\n",
    "    trips_df = trips.to_frame()\n",
    "    print(\"Running with %d trips\", trips_df.shape[0])\n",
    "\n",
    "    tours_merged = tours_merged.to_frame()\n",
    "    tours_merged = tours_merged[model_settings['TOURS_MERGED_CHOOSER_COLUMNS']]\n",
    "\n",
    "    # - trips_merged - merge trips and tours_merged\n",
    "    trips_merged = pd.merge(\n",
    "        trips_df,\n",
    "        tours_merged,\n",
    "        left_on='tour_id',\n",
    "        right_index=True,\n",
    "        how=\"left\")\n",
    "    assert trips_merged.index.equals(trips.index)\n",
    "\n",
    "    # setup skim keys\n",
    "    assert ('trip_period' not in trips_merged)\n",
    "    trips_merged['trip_period'] = network_los.skim_time_period_label(trips_merged.depart)\n",
    "\n",
    "    orig_col = 'origin'\n",
    "    dest_col = 'destination'\n",
    "\n",
    "    constants = {}\n",
    "    constants.update(config.get_model_constants(model_settings))\n",
    "    constants.update({\n",
    "        'ORIGIN': orig_col,\n",
    "        'DESTINATION': dest_col\n",
    "    })\n",
    "\n",
    "    skim_dict = network_los.get_default_skim_dict()\n",
    "\n",
    "    odt_skim_stack_wrapper = skim_dict.wrap_3d(orig_key=orig_col, dest_key=dest_col,\n",
    "                                               dim3_key='trip_period')\n",
    "    dot_skim_stack_wrapper = skim_dict.wrap_3d(orig_key=dest_col, dest_key=orig_col,\n",
    "                                               dim3_key='trip_period')\n",
    "    od_skim_wrapper = skim_dict.wrap('origin', 'destination')\n",
    "\n",
    "    skims = {\n",
    "        \"odt_skims\": odt_skim_stack_wrapper,\n",
    "        \"dot_skims\": dot_skim_stack_wrapper,\n",
    "        \"od_skims\": od_skim_wrapper,\n",
    "    }\n",
    "\n",
    "    model_spec = simulate.read_model_spec(file_name=model_settings['SPEC'])\n",
    "    nest_specs = config.get_logit_model_settings(model_settings)\n",
    "\n",
    "    estimator = estimation.manager.begin_estimation('trip_mode_choice')\n",
    "\n",
    "    #choices_list = []\n",
    "\n",
    "\n",
    "    # grab one, duplicate num_samples times\n",
    "    trips_segment = trips_merged.loc[trips_merged.index == trip_id_to_check].copy()\n",
    "    primary_purpose = trips_segment['primary_purpose'].values[0]\n",
    "    trips_segment = trips_segment.loc[trips_segment.index.repeat(num_samples)]\n",
    "\n",
    "    # need to add new row_states for rng here, need to ensure there are no collisions with existing keys\n",
    "    existing_indexes = pipeline._PIPELINE.rng().get_channel_for_df(trips_merged).row_states.index.values\n",
    "    num_new_indexes = trips_segment.shape[0]\n",
    "    new_indexes = np.arange(existing_indexes.max()+1, existing_indexes.max() + num_new_indexes + 1)\n",
    "\n",
    "    trips_segment.index = new_indexes #+= np.arange(num_samples)\n",
    "    # name index so tracing knows how to slice\n",
    "    trips_segment.index.name = 'trip_id'\n",
    "\n",
    "\n",
    "    # #logger.warning(\"Change seeding back when done with testing\")\n",
    "    # pipeline._PIPELINE.rng.row_states = pd.DataFrame(columns=['row_seed', 'offset'], index=trips_segment.index)\n",
    "    # pipeline._PIPELINE.rng.row_states[\"row_seed\"] = trips_segment.index.values\n",
    "    # pipeline._PIPELINE.rng.row_states[\"offset\"] = 0\n",
    "    pipeline._PIPELINE.rng().add_channel(\"trips\", trips_segment)\n",
    "\n",
    "\n",
    "    #for primary_purpose, trips_segment in trips_merged.groupby('primary_purpose'):\n",
    "    #if (do_these_purposes is not None) and (primary_purpose not in do_these_purposes):\n",
    "    #    continue\n",
    "\n",
    "    print(\"trip_mode_choice tour_type '%s' (%s trips)\" %\n",
    "          (primary_purpose, len(trips_segment.index), ))\n",
    "\n",
    "    coefficients = simulate.get_segment_coefficients(model_settings, primary_purpose)\n",
    "\n",
    "    locals_dict = {}\n",
    "    locals_dict.update(constants)\n",
    "    locals_dict.update(coefficients)\n",
    "\n",
    "    segment_trace_label = tracing.extend_trace_label(trace_label, primary_purpose)\n",
    "\n",
    "    expressions.annotate_preprocessors(\n",
    "        trips_segment, locals_dict, skims,\n",
    "        model_settings, segment_trace_label)\n",
    "\n",
    "    locals_dict.update(skims)\n",
    "\n",
    "    ################ Replace wrapper function\n",
    "    #     choices = mode_choice_simulate(...)\n",
    "    spec=simulate.eval_coefficients(model_spec, coefficients, estimator)\n",
    "    nest_spec = simulate.eval_nest_coefficients(nest_specs, coefficients, segment_trace_label)\n",
    "    choices = simulate.simple_simulate(\n",
    "        choosers=trips_segment,\n",
    "        spec=spec,\n",
    "        nest_spec=nest_spec,\n",
    "        skims=skims,\n",
    "        locals_d=locals_dict,\n",
    "        chunk_size=chunk_size,\n",
    "        want_logsums=logsum_column_name is not None,\n",
    "        trace_label=segment_trace_label,\n",
    "        trace_choice_name='trip_mode_choice',\n",
    "        estimator=estimator,\n",
    "        trace_column_names=None,\n",
    "        choose_individual_max_utility=choose_individual_max_utility)\n",
    "    # for consistency, always return dataframe, whether or not logsums were requested\n",
    "    if isinstance(choices, pd.Series):\n",
    "        choices = choices.to_frame('choice')\n",
    "    choices.rename(columns={'logsum': logsum_column_name,\n",
    "                            'choice': mode_column_name},\n",
    "                   inplace=True)\n",
    "    if not choose_individual_max_utility:\n",
    "        alts = spec.columns\n",
    "        choices[mode_column_name] = choices[mode_column_name].map(dict(list(zip(list(range(len(alts))), alts))))\n",
    "    ################\n",
    "    #choices_list.append(choices)\n",
    "    #choices_df_asim = pd.concat(choices_list)\n",
    "\n",
    "    # update trips table with choices (and potionally logssums)\n",
    "    #trips_df = trips_merged.copy() # trips.to_frame()\n",
    "\n",
    "    #if (do_these_purposes is not None):\n",
    "    #    trips_df  = trips_df.loc[trips_df.primary_purpose.isin(do_these_purposes)]\n",
    "\n",
    "    #assign_in_place(trips_df, choices)\n",
    "    #assert not trips_df[mode_column_name].isnull().any()\n",
    "\n",
    "    finalise = True\n",
    "    if finalise:\n",
    "        inject.set_step_args(None)\n",
    "        #\n",
    "        pipeline._PIPELINE.rng().end_step(model_name)\n",
    "        pipeline.add_checkpoint(model_name)\n",
    "        if not pipeline.intermediate_checkpoint():\n",
    "            pipeline.add_checkpoint(pipeline.FINAL_CHECKPOINT_NAME)\n",
    "\n",
    "        pipeline.close_pipeline()\n",
    "\n",
    "    print(\"Done\")\n",
    "    return trips_merged, choices\n",
    "\n",
    "\n",
    "def comp_mode_shares(base_probs, choose_individual_max_utility, num_samples, trip_id_to_check):\n",
    "    t_, c_ = mode_choice_for_trip(choose_individual_max_utility=choose_individual_max_utility,\n",
    "                                  trip_id_to_check=trip_id_to_check, num_samples=num_samples)\n",
    "\n",
    "    sim_mode_shares = c_.trip_mode.value_counts() / c_.shape[0]\n",
    "    #sim_mode_shares.columns = [\"mode_share_sim\"]\n",
    "    obs_probs = base_probs[0].loc[base_probs[0].index == trip_id_to_check].T\n",
    "    obs_probs.columns = [\"mode_share_obs\"]\n",
    "    ms_comp = obs_probs.merge(sim_mode_shares, left_index=True, right_index=True, how=\"outer\").fillna(0)\n",
    "    ms_comp[\"diff\"] = ms_comp[\"trip_mode\"] - ms_comp[\"mode_share_obs\"]\n",
    "    ms_comp[\"rel_diff\"] = ms_comp[\"diff\"] / ms_comp[\"mode_share_obs\"]\n",
    "    #ms_comp.style.format('{:.2}')\n",
    "    #with pd.option_context(\"precision\", 3):\n",
    "    #    display(ms_comp)\n",
    "    display(ms_comp.loc[((ms_comp.mode_share_obs != 0) | (ms_comp.trip_mode != 0)), [\"mode_share_obs\", \"trip_mode\"]].T)\n",
    "    return ms_comp"
   ],
   "metadata": {
    "collapsed": false,
    "pycharm": {
     "name": "#%%\n"
    }
   }
  },
  {
   "cell_type": "code",
   "execution_count": 41,
   "outputs": [
    {
     "name": "stderr",
     "output_type": "stream",
     "text": [
      "register joint_tour_participants: no rows with household_id in [982875].\n",
      "estimation bundle trip_mode_choice not in settings file estimation.yaml\n"
     ]
    },
    {
     "name": "stdout",
     "output_type": "stream",
     "text": [
      "Running with %d trips 482\n",
      "trip_mode_choice tour_type 'social' (10000 trips)\n",
      "Done\n"
     ]
    },
    {
     "data": {
      "text/plain": "                SHARED2FREE   SHARED3FREE      TAXI  TNC_SHARED  TNC_SINGLE  \\\nmode_share_obs     0.004262  4.103657e-14  0.000084     0.00025    0.000114   \ntrip_mode          0.004300  0.000000e+00  0.000100     0.00050    0.000100   \n\n                    WALK  WALK_LOC  WALK_LRF  \nmode_share_obs  0.039196   0.19705  0.759044  \ntrip_mode       0.039100   0.20000  0.755900  ",
      "text/html": "<div>\n<style scoped>\n    .dataframe tbody tr th:only-of-type {\n        vertical-align: middle;\n    }\n\n    .dataframe tbody tr th {\n        vertical-align: top;\n    }\n\n    .dataframe thead th {\n        text-align: right;\n    }\n</style>\n<table border=\"1\" class=\"dataframe\">\n  <thead>\n    <tr style=\"text-align: right;\">\n      <th></th>\n      <th>SHARED2FREE</th>\n      <th>SHARED3FREE</th>\n      <th>TAXI</th>\n      <th>TNC_SHARED</th>\n      <th>TNC_SINGLE</th>\n      <th>WALK</th>\n      <th>WALK_LOC</th>\n      <th>WALK_LRF</th>\n    </tr>\n  </thead>\n  <tbody>\n    <tr>\n      <th>mode_share_obs</th>\n      <td>0.004262</td>\n      <td>4.103657e-14</td>\n      <td>0.000084</td>\n      <td>0.00025</td>\n      <td>0.000114</td>\n      <td>0.039196</td>\n      <td>0.19705</td>\n      <td>0.759044</td>\n    </tr>\n    <tr>\n      <th>trip_mode</th>\n      <td>0.004300</td>\n      <td>0.000000e+00</td>\n      <td>0.000100</td>\n      <td>0.00050</td>\n      <td>0.000100</td>\n      <td>0.039100</td>\n      <td>0.20000</td>\n      <td>0.755900</td>\n    </tr>\n  </tbody>\n</table>\n</div>"
     },
     "metadata": {},
     "output_type": "display_data"
    }
   ],
   "source": [
    "choose_individual_max_utility = False\n",
    "num_samples = 10000\n",
    "trip_id_to_check = 642446345\n",
    "ms_comp = comp_mode_shares(base_probs, choose_individual_max_utility, num_samples, trip_id_to_check)"
   ],
   "metadata": {
    "collapsed": false,
    "pycharm": {
     "name": "#%%\n"
    }
   }
  },
  {
   "cell_type": "code",
   "execution_count": null,
   "id": "1fcdc0ff-c510-4878-8672-8365e046442c",
   "metadata": {
    "pycharm": {
     "name": "#%%\n",
     "is_executing": true
    }
   },
   "outputs": [
    {
     "name": "stderr",
     "output_type": "stream",
     "text": [
      "register joint_tour_participants: no rows with household_id in [982875].\n",
      "estimation bundle trip_mode_choice not in settings file estimation.yaml\n"
     ]
    },
    {
     "name": "stdout",
     "output_type": "stream",
     "text": [
      "Running with %d trips 482\n",
      "trip_mode_choice tour_type 'social' (100000 trips)\n"
     ]
    }
   ],
   "source": [
    "choose_individual_max_utility = True\n",
    "num_samples = 100000  # 1e5 takes about 25s\n",
    "trip_id_to_check = 642446345 # 2464104885 # 642446345 # 1767182945\n",
    "ms_comp = comp_mode_shares(base_probs, choose_individual_max_utility, num_samples, trip_id_to_check)"
   ]
  },
  {
   "cell_type": "code",
   "execution_count": null,
   "outputs": [],
   "source": [],
   "metadata": {
    "collapsed": false,
    "pycharm": {
     "name": "#%%\n"
    }
   }
  }
 ],
 "metadata": {
  "kernelspec": {
   "display_name": "Python 3",
   "language": "python",
   "name": "python3"
  },
  "language_info": {
   "codemirror_mode": {
    "name": "ipython",
    "version": 3
   },
   "file_extension": ".py",
   "mimetype": "text/x-python",
   "name": "python",
   "nbconvert_exporter": "python",
   "pygments_lexer": "ipython3",
   "version": "3.8.2"
  }
 },
 "nbformat": 4,
 "nbformat_minor": 5
}