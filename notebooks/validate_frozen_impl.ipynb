{
 "cells": [
  {
   "cell_type": "markdown",
   "id": "7ece3567-e4b1-4c3f-a264-20625abb6ad7",
   "metadata": {},
   "source": [
    "# validate results"
   ]
  },
  {
   "cell_type": "code",
   "execution_count": 1,
   "id": "bd74ba44-0dfb-439a-a6ab-7ceedfc5f523",
   "metadata": {
    "execution": {
     "iopub.execute_input": "2022-05-01T10:17:57.385153Z",
     "iopub.status.busy": "2022-05-01T10:17:57.384881Z",
     "iopub.status.idle": "2022-05-01T10:17:57.534433Z",
     "shell.execute_reply": "2022-05-01T10:17:57.533096Z",
     "shell.execute_reply.started": "2022-05-01T10:17:57.385047Z"
    },
    "tags": []
   },
   "outputs": [],
   "source": [
    "%load_ext autoreload"
   ]
  },
  {
   "cell_type": "code",
   "execution_count": 2,
   "id": "c3dba451-1e10-403e-8614-35d57e6577f4",
   "metadata": {
    "execution": {
     "iopub.execute_input": "2022-05-01T10:17:57.536623Z",
     "iopub.status.busy": "2022-05-01T10:17:57.536012Z",
     "iopub.status.idle": "2022-05-01T10:17:57.542755Z",
     "shell.execute_reply": "2022-05-01T10:17:57.541685Z",
     "shell.execute_reply.started": "2022-05-01T10:17:57.536567Z"
    },
    "tags": []
   },
   "outputs": [],
   "source": [
    "%autoreload 2"
   ]
  },
  {
   "cell_type": "code",
   "execution_count": 19,
   "id": "73deaac4-e7ac-4aff-b086-4980dc6dd903",
   "metadata": {
    "execution": {
     "iopub.execute_input": "2022-05-01T10:18:00.350944Z",
     "iopub.status.busy": "2022-05-01T10:18:00.350730Z",
     "iopub.status.idle": "2022-05-01T10:18:12.760977Z",
     "shell.execute_reply": "2022-05-01T10:18:12.760013Z",
     "shell.execute_reply.started": "2022-05-01T10:18:00.350919Z"
    },
    "tags": []
   },
   "outputs": [],
   "source": [
    "import os\n",
    "import argparse\n",
    "from datetime import datetime\n",
    "\n",
    "import numpy as np\n",
    "import pandas as pd\n",
    "from numpy.random import default_rng\n",
    "\n",
    "from activitysim.cli import run\n",
    "from activitysim.core import inject\n",
    "\n",
    "from fru_utils import run_trip_mode_choice, comp_mode_shares"
   ]
  },
  {
   "cell_type": "code",
   "execution_count": 20,
   "id": "7e553abd-fe0d-4cdc-aeb1-9dc80cb2757f",
   "metadata": {
    "execution": {
     "iopub.execute_input": "2022-05-01T10:18:16.944537Z",
     "iopub.status.busy": "2022-05-01T10:18:16.944291Z",
     "iopub.status.idle": "2022-05-01T10:18:17.124764Z",
     "shell.execute_reply": "2022-05-01T10:18:17.123725Z",
     "shell.execute_reply.started": "2022-05-01T10:18:16.944501Z"
    },
    "tags": []
   },
   "outputs": [],
   "source": [
    "pd.set_option(\"max_columns\", 500)"
   ]
  },
  {
   "cell_type": "code",
   "execution_count": 21,
   "id": "41fec4e8-a174-4e66-87d2-1e8c7979de90",
   "metadata": {
    "execution": {
     "iopub.execute_input": "2022-05-01T10:18:17.839947Z",
     "iopub.status.busy": "2022-05-01T10:18:17.839070Z",
     "iopub.status.idle": "2022-05-01T10:18:18.019676Z",
     "shell.execute_reply": "2022-05-01T10:18:18.018689Z",
     "shell.execute_reply.started": "2022-05-01T10:18:17.839911Z"
    },
    "tags": []
   },
   "outputs": [],
   "source": [
    "root_dir = \"/mnt/c/Users/jan.zill/code/activitysim\"\n",
    "example_dir = os.path.join(root_dir, \"test_example_mtc\")"
   ]
  },
  {
   "cell_type": "code",
   "execution_count": 23,
   "id": "2de710a2-d292-42f9-9d4a-4dcef1365506",
   "metadata": {
    "execution": {
     "iopub.execute_input": "2022-05-01T10:18:18.894533Z",
     "iopub.status.busy": "2022-05-01T10:18:18.894303Z",
     "iopub.status.idle": "2022-05-01T10:18:19.078807Z",
     "shell.execute_reply": "2022-05-01T10:18:19.077951Z",
     "shell.execute_reply.started": "2022-05-01T10:18:18.894508Z"
    },
    "tags": []
   },
   "outputs": [],
   "source": [
    "os.chdir(example_dir)"
   ]
  },
  {
   "cell_type": "code",
   "execution_count": 24,
   "id": "730be239-8704-4483-bbb8-ffae0f17c5d4",
   "metadata": {
    "execution": {
     "iopub.execute_input": "2022-05-01T10:18:22.111723Z",
     "iopub.status.busy": "2022-05-01T10:18:22.111490Z",
     "iopub.status.idle": "2022-05-01T10:18:22.297437Z",
     "shell.execute_reply": "2022-05-01T10:18:22.296501Z",
     "shell.execute_reply.started": "2022-05-01T10:18:22.111697Z"
    },
    "tags": []
   },
   "outputs": [],
   "source": [
    "parser = argparse.ArgumentParser()\n",
    "run.add_run_args(parser)\n",
    "# args = parser.parse_args()\n",
    "# parser.parse_args(['--sum', '7', '-1', '42'])\n",
    "args = parser.parse_args(['-c', 'configs', '-o', 'output', '-d', 'data'])\n",
    "#run.run(args)  # 2mins full example run\n",
    "if not inject.is_injectable('preload_injectables'):\n",
    "    from activitysim import abm  # register abm steps and other abm-specific injectables\n",
    "run.handle_standard_args(args)  # possibly update injectables"
   ]
  },
  {
   "cell_type": "code",
   "execution_count": 25,
   "outputs": [],
   "source": [
    "# need to do this before loading checkpoint tables\n",
    "trace_hh_ids = 1024353\n",
    "#1024353 has trip id 642446345 (at least) where logsum and probs are different\n",
    "#2821179  # has trip_ids 2464104881 and 2464104885\n",
    "inject.add_injectable(\"trace_hh_id\", trace_hh_ids)"
   ],
   "metadata": {
    "collapsed": false,
    "pycharm": {
     "name": "#%%\n"
    }
   }
  },
  {
   "cell_type": "code",
   "execution_count": 26,
   "id": "3ed520e9-75ef-4eec-ab86-6aaf1fe453fc",
   "metadata": {
    "execution": {
     "iopub.execute_input": "2021-09-01T02:28:53.643404Z",
     "iopub.status.busy": "2021-09-01T02:28:53.643055Z",
     "iopub.status.idle": "2021-09-01T02:29:01.223951Z",
     "shell.execute_reply": "2021-09-01T02:29:01.222865Z",
     "shell.execute_reply.started": "2021-09-01T02:28:53.643367Z"
    },
    "tags": []
   },
   "outputs": [
    {
     "name": "stderr",
     "output_type": "stream",
     "text": [
      "register joint_tour_participants: no rows with household_id in [1024353].\n",
      "estimation bundle trip_mode_choice not in settings file estimation.yaml\n"
     ]
    },
    {
     "name": "stdout",
     "output_type": "stream",
     "text": [
      "Running with %d trips 482\n",
      "trip_mode_choice tour_type 'atwork' (27 trips)\n",
      "trip_mode_choice tour_type 'eatout' (33 trips)\n",
      "trip_mode_choice tour_type 'escort' (6 trips)\n",
      "trip_mode_choice tour_type 'othdiscr' (43 trips)\n",
      "trip_mode_choice tour_type 'othmaint' (46 trips)\n",
      "trip_mode_choice tour_type 'school' (37 trips)\n",
      "trip_mode_choice tour_type 'shopping' (77 trips)\n",
      "trip_mode_choice tour_type 'social' (19 trips)\n",
      "trip_mode_choice tour_type 'univ' (26 trips)\n",
      "trip_mode_choice tour_type 'work' (168 trips)\n"
     ]
    },
    {
     "name": "stderr",
     "output_type": "stream",
     "text": [
      "register joint_tour_participants: no rows with household_id in [1024353].\n"
     ]
    },
    {
     "name": "stdout",
     "output_type": "stream",
     "text": [
      "Done\n",
      "Running with %d trips 482\n"
     ]
    },
    {
     "name": "stderr",
     "output_type": "stream",
     "text": [
      "estimation bundle trip_mode_choice not in settings file estimation.yaml\n"
     ]
    },
    {
     "name": "stdout",
     "output_type": "stream",
     "text": [
      "trip_mode_choice tour_type 'atwork' (27 trips)\n",
      "trip_mode_choice tour_type 'eatout' (33 trips)\n",
      "trip_mode_choice tour_type 'escort' (6 trips)\n",
      "trip_mode_choice tour_type 'othdiscr' (43 trips)\n",
      "trip_mode_choice tour_type 'othmaint' (46 trips)\n",
      "trip_mode_choice tour_type 'school' (37 trips)\n",
      "trip_mode_choice tour_type 'shopping' (77 trips)\n",
      "trip_mode_choice tour_type 'social' (19 trips)\n",
      "trip_mode_choice tour_type 'univ' (26 trips)\n",
      "trip_mode_choice tour_type 'work' (168 trips)\n",
      "Done\n",
      "CPU times: user 18.1 s, sys: 2.48 s, total: 20.6 s\n",
      "Wall time: 17 s\n"
     ]
    }
   ],
   "source": [
    "%%time\n",
    "trips_df_ru = run_trip_mode_choice()\n",
    "trips_df = run_trip_mode_choice(choose_individual_max_utility=False)"
   ]
  },
  {
   "cell_type": "code",
   "execution_count": 27,
   "outputs": [
    {
     "data": {
      "text/plain": "                trip_mode_fru  trip_mode_asim\nWALK                      304             304\nWALK_LOC                   91              91\nWALK_LRF                   49              47\nBIKE                       15              17\nTNC_SINGLE                  6               4\nDRIVEALONEFREE              5               4\nWALK_HVY                    5               4\nSHARED2FREE                 3               4\nTNC_SHARED                  2               4\nTAXI                        2               2",
      "text/html": "<div>\n<style scoped>\n    .dataframe tbody tr th:only-of-type {\n        vertical-align: middle;\n    }\n\n    .dataframe tbody tr th {\n        vertical-align: top;\n    }\n\n    .dataframe thead th {\n        text-align: right;\n    }\n</style>\n<table border=\"1\" class=\"dataframe\">\n  <thead>\n    <tr style=\"text-align: right;\">\n      <th></th>\n      <th>trip_mode_fru</th>\n      <th>trip_mode_asim</th>\n    </tr>\n  </thead>\n  <tbody>\n    <tr>\n      <th>WALK</th>\n      <td>304</td>\n      <td>304</td>\n    </tr>\n    <tr>\n      <th>WALK_LOC</th>\n      <td>91</td>\n      <td>91</td>\n    </tr>\n    <tr>\n      <th>WALK_LRF</th>\n      <td>49</td>\n      <td>47</td>\n    </tr>\n    <tr>\n      <th>BIKE</th>\n      <td>15</td>\n      <td>17</td>\n    </tr>\n    <tr>\n      <th>TNC_SINGLE</th>\n      <td>6</td>\n      <td>4</td>\n    </tr>\n    <tr>\n      <th>DRIVEALONEFREE</th>\n      <td>5</td>\n      <td>4</td>\n    </tr>\n    <tr>\n      <th>WALK_HVY</th>\n      <td>5</td>\n      <td>4</td>\n    </tr>\n    <tr>\n      <th>SHARED2FREE</th>\n      <td>3</td>\n      <td>4</td>\n    </tr>\n    <tr>\n      <th>TNC_SHARED</th>\n      <td>2</td>\n      <td>4</td>\n    </tr>\n    <tr>\n      <th>TAXI</th>\n      <td>2</td>\n      <td>2</td>\n    </tr>\n  </tbody>\n</table>\n</div>"
     },
     "execution_count": 27,
     "metadata": {},
     "output_type": "execute_result"
    }
   ],
   "source": [
    "c_ = [\"trip_mode\", \"mode_choice_logsum\"]\n",
    "trips = trips_df_ru[c_].merge(trips_df[c_], left_index=True, right_index=True, how=\"outer\", suffixes=[\"_fru\", \"_asim\"])\n",
    "pd.merge(trips_df_ru.trip_mode.value_counts(), trips_df.trip_mode.value_counts(), left_index=True, right_index=True,\n",
    "         suffixes=[\"_fru\", \"_asim\"])"
   ],
   "metadata": {
    "collapsed": false,
    "pycharm": {
     "name": "#%%\n"
    }
   }
  },
  {
   "cell_type": "code",
   "execution_count": 28,
   "outputs": [
    {
     "name": "stdout",
     "output_type": "stream",
     "text": [
      "Logsums agree\n"
     ]
    }
   ],
   "source": [
    "if np.allclose(trips.mode_choice_logsum_fru, trips.mode_choice_logsum_asim):\n",
    "    print(\"Logsums agree\")\n",
    "else:\n",
    "    ((trips.mode_choice_logsum_fru - trips.mode_choice_logsum_asim) / trips.mode_choice_logsum_fru).hist(bins=50)"
   ],
   "metadata": {
    "collapsed": false,
    "pycharm": {
     "name": "#%%\n"
    }
   }
  },
  {
   "cell_type": "code",
   "execution_count": 12,
   "outputs": [
    {
     "data": {
      "text/plain": "trip_id\n106170305     4.050638\n106170309     0.553496\n1767013721    0.482067\n535694461     0.251889\n943749469     0.203583\n                ...   \n535672921     0.000000\n535620049     0.000000\n535388485     0.000000\n535388481     0.000000\n943749471     0.000000\nLength: 482, dtype: float64"
     },
     "execution_count": 12,
     "metadata": {},
     "output_type": "execute_result"
    }
   ],
   "source": [
    "ls_ = np.abs(((trips.mode_choice_logsum_fru - trips.mode_choice_logsum_asim) / trips.mode_choice_logsum_fru))\n",
    "ls_.sort_values(ascending=False)"
   ],
   "metadata": {
    "collapsed": false,
    "pycharm": {
     "name": "#%%\n"
    }
   }
  },
  {
   "cell_type": "code",
   "execution_count": 13,
   "outputs": [
    {
     "data": {
      "text/plain": "          trip_mode_fru  mode_choice_logsum_fru trip_mode_asim  \\\ntrip_id                                                          \n642446345      WALK_LRF                1.634462       WALK_LRF   \n\n           mode_choice_logsum_asim  \ntrip_id                             \n642446345                 1.593075  ",
      "text/html": "<div>\n<style scoped>\n    .dataframe tbody tr th:only-of-type {\n        vertical-align: middle;\n    }\n\n    .dataframe tbody tr th {\n        vertical-align: top;\n    }\n\n    .dataframe thead th {\n        text-align: right;\n    }\n</style>\n<table border=\"1\" class=\"dataframe\">\n  <thead>\n    <tr style=\"text-align: right;\">\n      <th></th>\n      <th>trip_mode_fru</th>\n      <th>mode_choice_logsum_fru</th>\n      <th>trip_mode_asim</th>\n      <th>mode_choice_logsum_asim</th>\n    </tr>\n    <tr>\n      <th>trip_id</th>\n      <th></th>\n      <th></th>\n      <th></th>\n      <th></th>\n    </tr>\n  </thead>\n  <tbody>\n    <tr>\n      <th>642446345</th>\n      <td>WALK_LRF</td>\n      <td>1.634462</td>\n      <td>WALK_LRF</td>\n      <td>1.593075</td>\n    </tr>\n  </tbody>\n</table>\n</div>"
     },
     "execution_count": 13,
     "metadata": {},
     "output_type": "execute_result"
    }
   ],
   "source": [
    "trips.loc[trips.index == 642446345]"
   ],
   "metadata": {
    "collapsed": false,
    "pycharm": {
     "name": "#%%\n"
    }
   }
  },
  {
   "cell_type": "code",
   "execution_count": 14,
   "outputs": [
    {
     "data": {
      "text/plain": "           trip_mode_fru  mode_choice_logsum_fru trip_mode_asim  \\\ntrip_id                                                           \n86627409        WALK_LRF                2.435199       WALK_LRF   \n86627413        WALK_LRF                2.665463       WALK_LRF   \n86673661        WALK_LRF                1.842576       WALK_LRF   \n106170305       WALK_LRF               -0.002341       WALK_LRF   \n106170309       WALK_LRF               -0.017607       WALK_LRF   \n...                  ...                     ...            ...   \n1767186253      WALK_LRF                0.976319       WALK_LRF   \n1767186581      WALK_HVY                1.712704       WALK_LRF   \n1768237161          WALK                6.262944           WALK   \n1768237167      WALK_LRF               11.191330           WALK   \n2473024477      WALK_LRF                0.637076       WALK_LRF   \n\n            mode_choice_logsum_asim  \ntrip_id                              \n86627409                   2.407248  \n86627413                   2.642707  \n86673661                   1.834538  \n106170305                 -0.011825  \n106170309                 -0.027353  \n...                             ...  \n1767186253                 0.880819  \n1767186581                 1.600736  \n1768237161                 6.226927  \n1768237167                11.144496  \n2473024477                 0.624304  \n\n[74 rows x 4 columns]",
      "text/html": "<div>\n<style scoped>\n    .dataframe tbody tr th:only-of-type {\n        vertical-align: middle;\n    }\n\n    .dataframe tbody tr th {\n        vertical-align: top;\n    }\n\n    .dataframe thead th {\n        text-align: right;\n    }\n</style>\n<table border=\"1\" class=\"dataframe\">\n  <thead>\n    <tr style=\"text-align: right;\">\n      <th></th>\n      <th>trip_mode_fru</th>\n      <th>mode_choice_logsum_fru</th>\n      <th>trip_mode_asim</th>\n      <th>mode_choice_logsum_asim</th>\n    </tr>\n    <tr>\n      <th>trip_id</th>\n      <th></th>\n      <th></th>\n      <th></th>\n      <th></th>\n    </tr>\n  </thead>\n  <tbody>\n    <tr>\n      <th>86627409</th>\n      <td>WALK_LRF</td>\n      <td>2.435199</td>\n      <td>WALK_LRF</td>\n      <td>2.407248</td>\n    </tr>\n    <tr>\n      <th>86627413</th>\n      <td>WALK_LRF</td>\n      <td>2.665463</td>\n      <td>WALK_LRF</td>\n      <td>2.642707</td>\n    </tr>\n    <tr>\n      <th>86673661</th>\n      <td>WALK_LRF</td>\n      <td>1.842576</td>\n      <td>WALK_LRF</td>\n      <td>1.834538</td>\n    </tr>\n    <tr>\n      <th>106170305</th>\n      <td>WALK_LRF</td>\n      <td>-0.002341</td>\n      <td>WALK_LRF</td>\n      <td>-0.011825</td>\n    </tr>\n    <tr>\n      <th>106170309</th>\n      <td>WALK_LRF</td>\n      <td>-0.017607</td>\n      <td>WALK_LRF</td>\n      <td>-0.027353</td>\n    </tr>\n    <tr>\n      <th>...</th>\n      <td>...</td>\n      <td>...</td>\n      <td>...</td>\n      <td>...</td>\n    </tr>\n    <tr>\n      <th>1767186253</th>\n      <td>WALK_LRF</td>\n      <td>0.976319</td>\n      <td>WALK_LRF</td>\n      <td>0.880819</td>\n    </tr>\n    <tr>\n      <th>1767186581</th>\n      <td>WALK_HVY</td>\n      <td>1.712704</td>\n      <td>WALK_LRF</td>\n      <td>1.600736</td>\n    </tr>\n    <tr>\n      <th>1768237161</th>\n      <td>WALK</td>\n      <td>6.262944</td>\n      <td>WALK</td>\n      <td>6.226927</td>\n    </tr>\n    <tr>\n      <th>1768237167</th>\n      <td>WALK_LRF</td>\n      <td>11.191330</td>\n      <td>WALK</td>\n      <td>11.144496</td>\n    </tr>\n    <tr>\n      <th>2473024477</th>\n      <td>WALK_LRF</td>\n      <td>0.637076</td>\n      <td>WALK_LRF</td>\n      <td>0.624304</td>\n    </tr>\n  </tbody>\n</table>\n<p>74 rows × 4 columns</p>\n</div>"
     },
     "execution_count": 14,
     "metadata": {},
     "output_type": "execute_result"
    }
   ],
   "source": [
    "#trips.loc[np.abs(trips.mode_choice_logsum_fru - trips.mode_choice_logsum_asim) > 0]"
   ],
   "metadata": {
    "collapsed": false,
    "pycharm": {
     "name": "#%%\n"
    }
   }
  },
  {
   "cell_type": "code",
   "execution_count": null,
   "outputs": [],
   "source": [],
   "metadata": {
    "collapsed": false,
    "pycharm": {
     "name": "#%%\n"
    }
   }
  },
  {
   "cell_type": "markdown",
   "source": [
    "# Run MC validation\n",
    "\n",
    "see logit._each_nest parent_nest_scale for leaf node, and simulate.compute_nested_utilities for discussion of scales\n",
    "of alternatives\n",
    "\n",
    "easiest way is to run a simulation"
   ],
   "metadata": {
    "collapsed": false,
    "pycharm": {
     "name": "#%% md\n"
    }
   }
  },
  {
   "cell_type": "code",
   "execution_count": 29,
   "outputs": [
    {
     "name": "stderr",
     "output_type": "stream",
     "text": [
      "register joint_tour_participants: no rows with household_id in [1024353].\n",
      "estimation bundle trip_mode_choice not in settings file estimation.yaml\n"
     ]
    },
    {
     "name": "stdout",
     "output_type": "stream",
     "text": [
      "Running with %d trips 482\n",
      "trip_mode_choice tour_type 'atwork' (27 trips)\n",
      "trip_mode_choice tour_type 'eatout' (33 trips)\n",
      "trip_mode_choice tour_type 'escort' (6 trips)\n",
      "trip_mode_choice tour_type 'othdiscr' (43 trips)\n",
      "trip_mode_choice tour_type 'othmaint' (46 trips)\n",
      "trip_mode_choice tour_type 'school' (37 trips)\n",
      "trip_mode_choice tour_type 'shopping' (77 trips)\n",
      "trip_mode_choice tour_type 'social' (19 trips)\n",
      "trip_mode_choice tour_type 'univ' (26 trips)\n",
      "trip_mode_choice tour_type 'work' (168 trips)\n",
      "Done\n"
     ]
    }
   ],
   "source": [
    "from fru_utils import get_stuff\n",
    "t, ru, neu, nu, ns, nested_probs, base_probs = get_stuff()  #do_these_purposes=[\"social\"])  #social"
   ],
   "metadata": {
    "collapsed": false,
    "pycharm": {
     "name": "#%%\n"
    }
   }
  },
  {
   "cell_type": "code",
   "execution_count": 30,
   "outputs": [],
   "source": [
    "#trips.loc[np.abs(trips.mode_choice_logsum_fru - trips.mode_choice_logsum_asim) > 0]"
   ],
   "metadata": {
    "collapsed": false,
    "pycharm": {
     "name": "#%%\n"
    }
   }
  },
  {
   "cell_type": "code",
   "execution_count": 31,
   "outputs": [],
   "source": [
    "#t.loc[t.index.isin(trips.loc[np.abs(trips.mode_choice_logsum_fru - trips.mode_choice_logsum_asim) > 0].index.values)]\\\n",
    "#    .sort_values(by=[\"primary_purpose\"])"
   ],
   "metadata": {
    "collapsed": false,
    "pycharm": {
     "name": "#%%\n"
    }
   }
  },
  {
   "cell_type": "code",
   "execution_count": 32,
   "outputs": [],
   "source": [
    "# nest_spec = ns[0]\n",
    "# for nest in logit.each_nest(nest_spec, post_order=False):\n",
    "#     print(f\"{nest.level}, {nest.name}, {nest.coefficient}, parent scale: {nest.parent_scale}\")"
   ],
   "metadata": {
    "collapsed": false,
    "pycharm": {
     "name": "#%%\n"
    }
   }
  },
  {
   "cell_type": "code",
   "execution_count": 33,
   "outputs": [],
   "source": [
    "#base_probs[7]  #615236801"
   ],
   "metadata": {
    "collapsed": false,
    "pycharm": {
     "name": "#%%\n"
    }
   }
  },
  {
   "cell_type": "code",
   "execution_count": 34,
   "outputs": [
    {
     "data": {
      "text/plain": "           person_id  household_id primary_purpose  trip_num  outbound  \\\ntrip_id                                                                  \n642446345    1958677       1024353          social         1      True   \n\n           trip_count  destination  origin   tour_id purpose  \\\ntrip_id                                                        \n642446345           1           14       9  80305793  social   \n\n           destination_logsum  depart trip_mode  mode_choice_logsum  \ntrip_id                                                              \n642446345                 NaN    10.0  WALK_LRF            1.729057  ",
      "text/html": "<div>\n<style scoped>\n    .dataframe tbody tr th:only-of-type {\n        vertical-align: middle;\n    }\n\n    .dataframe tbody tr th {\n        vertical-align: top;\n    }\n\n    .dataframe thead th {\n        text-align: right;\n    }\n</style>\n<table border=\"1\" class=\"dataframe\">\n  <thead>\n    <tr style=\"text-align: right;\">\n      <th></th>\n      <th>person_id</th>\n      <th>household_id</th>\n      <th>primary_purpose</th>\n      <th>trip_num</th>\n      <th>outbound</th>\n      <th>trip_count</th>\n      <th>destination</th>\n      <th>origin</th>\n      <th>tour_id</th>\n      <th>purpose</th>\n      <th>destination_logsum</th>\n      <th>depart</th>\n      <th>trip_mode</th>\n      <th>mode_choice_logsum</th>\n    </tr>\n    <tr>\n      <th>trip_id</th>\n      <th></th>\n      <th></th>\n      <th></th>\n      <th></th>\n      <th></th>\n      <th></th>\n      <th></th>\n      <th></th>\n      <th></th>\n      <th></th>\n      <th></th>\n      <th></th>\n      <th></th>\n      <th></th>\n    </tr>\n  </thead>\n  <tbody>\n    <tr>\n      <th>642446345</th>\n      <td>1958677</td>\n      <td>1024353</td>\n      <td>social</td>\n      <td>1</td>\n      <td>True</td>\n      <td>1</td>\n      <td>14</td>\n      <td>9</td>\n      <td>80305793</td>\n      <td>social</td>\n      <td>NaN</td>\n      <td>10.0</td>\n      <td>WALK_LRF</td>\n      <td>1.729057</td>\n    </tr>\n  </tbody>\n</table>\n</div>"
     },
     "execution_count": 34,
     "metadata": {},
     "output_type": "execute_result"
    }
   ],
   "source": [
    "t.loc[t.index == 642446345]"
   ],
   "metadata": {
    "collapsed": false,
    "pycharm": {
     "name": "#%%\n"
    }
   }
  },
  {
   "cell_type": "code",
   "execution_count": 183,
   "outputs": [
    {
     "name": "stderr",
     "output_type": "stream",
     "text": [
      "register joint_tour_participants: no rows with household_id in [1024353].\n",
      "estimation bundle trip_mode_choice not in settings file estimation.yaml\n"
     ]
    },
    {
     "name": "stdout",
     "output_type": "stream",
     "text": [
      "Running with %d trips 482\n",
      "trip_mode_choice tour_type 'social' (10000 trips)\n",
      "Done\n"
     ]
    },
    {
     "data": {
      "text/plain": "                SHARED2FREE   SHARED3FREE      TAXI  TNC_SHARED  TNC_SINGLE  \\\nmode_share_obs     0.004262  4.103657e-14  0.000084     0.00025    0.000114   \ntrip_mode          0.003800  0.000000e+00  0.000000     0.00020    0.000000   \n\n                    WALK  WALK_LOC  WALK_LRF  \nmode_share_obs  0.039196   0.19705  0.759044  \ntrip_mode       0.038000   0.20070  0.757300  ",
      "text/html": "<div>\n<style scoped>\n    .dataframe tbody tr th:only-of-type {\n        vertical-align: middle;\n    }\n\n    .dataframe tbody tr th {\n        vertical-align: top;\n    }\n\n    .dataframe thead th {\n        text-align: right;\n    }\n</style>\n<table border=\"1\" class=\"dataframe\">\n  <thead>\n    <tr style=\"text-align: right;\">\n      <th></th>\n      <th>SHARED2FREE</th>\n      <th>SHARED3FREE</th>\n      <th>TAXI</th>\n      <th>TNC_SHARED</th>\n      <th>TNC_SINGLE</th>\n      <th>WALK</th>\n      <th>WALK_LOC</th>\n      <th>WALK_LRF</th>\n    </tr>\n  </thead>\n  <tbody>\n    <tr>\n      <th>mode_share_obs</th>\n      <td>0.004262</td>\n      <td>4.103657e-14</td>\n      <td>0.000084</td>\n      <td>0.00025</td>\n      <td>0.000114</td>\n      <td>0.039196</td>\n      <td>0.19705</td>\n      <td>0.759044</td>\n    </tr>\n    <tr>\n      <th>trip_mode</th>\n      <td>0.003800</td>\n      <td>0.000000e+00</td>\n      <td>0.000000</td>\n      <td>0.00020</td>\n      <td>0.000000</td>\n      <td>0.038000</td>\n      <td>0.20070</td>\n      <td>0.757300</td>\n    </tr>\n  </tbody>\n</table>\n</div>"
     },
     "metadata": {},
     "output_type": "display_data"
    }
   ],
   "source": [
    "num_samples = 10000\n",
    "trip_id_to_check = 642446345  # 1e5 takes about 25s\n",
    "#  work 615236801  also in trace log\n",
    "#  social 2464104885 642446345 1767182945\n",
    "\n",
    "bp = base_probs[7]   # 7 for social, 9 for work. Check t[t.index == trip_id_to_check] to see which purpose, and\n",
    "# output above to see which index\n",
    "# choose_individual_max_utility = False\n",
    "#ms_comp = comp_mode_shares(bp, choose_individual_max_utility, num_samples, trip_id_to_check)\n",
    "#display(ms_comp.loc[((ms_comp.mode_share_obs != 0) | (ms_comp.trip_mode != 0)), [\"mode_share_obs\", \"trip_mode\"]].T)\n",
    "\n",
    "choose_individual_max_utility = True\n",
    "ms_comp = comp_mode_shares(bp, choose_individual_max_utility, num_samples, trip_id_to_check)\n",
    "display(ms_comp.loc[((ms_comp.mode_share_obs != 0) | (ms_comp.trip_mode != 0)), [\"mode_share_obs\", \"trip_mode\"]].T)"
   ],
   "metadata": {
    "collapsed": false,
    "pycharm": {
     "name": "#%%\n"
    }
   }
  },
  {
   "cell_type": "markdown",
   "source": [
    "# Investigate differing probs\n",
    "\n",
    "is it due to clipping, due to idxmax always returning the first and by coincidence having equal probs somewhere, or\n",
    "bad methodology?"
   ],
   "metadata": {
    "collapsed": false,
    "pycharm": {
     "name": "#%% md\n"
    }
   }
  },
  {
   "cell_type": "code",
   "execution_count": 121,
   "outputs": [],
   "source": [
    "def compute_probs(nested_utils, nest_spec):\n",
    "    nested_exp_utils = compute_nested_probabilities(np.exp(nested_utils), nest_spec)\n",
    "    base_probabilities = pd.DataFrame(index=nested_exp_utils.index)\n",
    "    for nest in logit.each_nest(nest_spec, type='leaf', post_order=False):\n",
    "        # skip root: it has a prob of 1 but we didn't compute a nested probability column for it\n",
    "        ancestors = nest.ancestors[1:]\n",
    "        base_probabilities[nest.name] = nested_exp_utils[ancestors].prod(axis=1)\n",
    "    return base_probabilities\n",
    "\n",
    "def compute_nested_probabilities(nested_exp_utilities, nest_spec):\n",
    "    nested_probabilities = pd.DataFrame(index=nested_exp_utilities.index)\n",
    "    for nest in logit.each_nest(nest_spec, type='node', post_order=False):\n",
    "        probs = u_to_p(nested_exp_utilities[nest.alternatives])\n",
    "        nested_probabilities = pd.concat([nested_probabilities, probs], axis=1)\n",
    "    return nested_probabilities\n",
    "\n",
    "EXP_UTIL_MIN = 1e-300\n",
    "EXP_UTIL_MAX = np.inf\n",
    "\n",
    "PROB_MIN = 0.0\n",
    "PROB_MAX = 1.0\n",
    "\n",
    "def u_to_p(utils, trace_label=None):\n",
    "    utils_arr = utils.values\n",
    "    np.clip(utils_arr, EXP_UTIL_MIN, EXP_UTIL_MAX, out=utils_arr)\n",
    "    utils_arr = np.where(utils_arr == EXP_UTIL_MIN, 0.0, utils_arr)\n",
    "    arr_sum = utils_arr.sum(axis=1)\n",
    "    inf_utils = np.isinf(arr_sum)\n",
    "    if inf_utils.any():\n",
    "        print(\"INF\")\n",
    "    with np.errstate(invalid='ignore', divide='ignore'):\n",
    "        np.divide(utils_arr, arr_sum.reshape(len(utils_arr), 1), out=utils_arr)\n",
    "    ## if allow_zero_probs, this will cause EXP_UTIL_MIN util rows to have all zero probabilities\n",
    "    utils_arr[np.isnan(utils_arr)] = PROB_MIN\n",
    "    np.clip(utils_arr, PROB_MIN, PROB_MAX, out=utils_arr)\n",
    "    probs = pd.DataFrame(utils_arr, columns=utils.columns, index=utils.index)\n",
    "    return probs"
   ],
   "metadata": {
    "collapsed": false,
    "pycharm": {
     "name": "#%%\n"
    }
   }
  },
  {
   "cell_type": "code",
   "execution_count": 177,
   "outputs": [],
   "source": [
    "from activitysim.core import logit\n",
    "from numpy.random import default_rng\n",
    "\n",
    "rng = default_rng(999)\n",
    "\n",
    "def random_for_df(df):\n",
    "    return rng.random(size=df.shape)\n",
    "\n",
    "def add_ev1_random(df):\n",
    "    uniform_rands = random_for_df(df)\n",
    "    df = df + logit.inverse_ev1_cdf(uniform_rands)\n",
    "    return df\n",
    "\n",
    "def group_nests_by_level(nest_spec):\n",
    "    # group nests by level, returns {level: [nest.name at that level]}\n",
    "    depth = np.max([x.level for x in logit.each_nest(nest_spec)])\n",
    "    nest_levels = {x: [] for x in range(1, depth+1)}\n",
    "    for n in logit.each_nest(nest_spec):\n",
    "        nest_levels[n.level].append(n.name)\n",
    "    assert len(nest_levels[1]) == 1  # only one root\n",
    "    return nest_levels\n",
    "\n",
    "def make_choices_ru_frozen(nested_utilities, nest_spec):\n",
    "    nest_utils_for_choice = add_ev1_random(nested_utilities)\n",
    "    all_alternatives = list(map(lambda x: x.name, filter(lambda x: x.is_leaf, logit.each_nest(nest_spec))))\n",
    "\n",
    "    def is_alternative(name):\n",
    "        return name in all_alternatives\n",
    "\n",
    "    nest_utils_for_choice[\"choice\"] = None\n",
    "    for level, alts in group_nests_by_level(nest_spec).items():\n",
    "        if level == 1:\n",
    "            continue\n",
    "        no_choices_made_yet = nest_utils_for_choice[\"choice\"].isnull()\n",
    "        choice_this_level = nest_utils_for_choice.loc[no_choices_made_yet][alts].idxmax(1)\n",
    "        nest_utils_for_choice.loc[no_choices_made_yet, \"choice\"] = \\\n",
    "            np.where(choice_this_level.apply(is_alternative), choice_this_level, None)\n",
    "\n",
    "    assert not nest_utils_for_choice[\"choice\"].isnull().any(), \"No choice for XXX - implement reporting\"\n",
    "    choices = pd.Series(nest_utils_for_choice[\"choice\"], index=nested_utilities.index)\n",
    "    return choices, nest_utils_for_choice"
   ],
   "metadata": {
    "collapsed": false,
    "pycharm": {
     "name": "#%%\n"
    }
   }
  },
  {
   "cell_type": "code",
   "execution_count": 178,
   "outputs": [
    {
     "data": {
      "text/plain": "           DRIVEALONEFREE  DRIVEALONEPAY  SHARED2FREE  SHARED2PAY  \\\ntrip_id                                                             \n642446345             0.0            0.0     0.004262         0.0   \n\n            SHARED3FREE  SHARED3PAY      WALK  BIKE  WALK_LOC  WALK_LRF  \\\ntrip_id                                                                   \n642446345  4.103657e-14         0.0  0.039196   0.0   0.19705  0.759044   \n\n           WALK_EXP  WALK_HVY  WALK_COM  DRIVE_LOC  DRIVE_LRF  DRIVE_EXP  \\\ntrip_id                                                                    \n642446345       0.0       0.0       0.0        0.0        0.0        0.0   \n\n           DRIVE_HVY  DRIVE_COM      TAXI  TNC_SINGLE  TNC_SHARED  \ntrip_id                                                            \n642446345        0.0        0.0  0.000084    0.000114     0.00025  ",
      "text/html": "<div>\n<style scoped>\n    .dataframe tbody tr th:only-of-type {\n        vertical-align: middle;\n    }\n\n    .dataframe tbody tr th {\n        vertical-align: top;\n    }\n\n    .dataframe thead th {\n        text-align: right;\n    }\n</style>\n<table border=\"1\" class=\"dataframe\">\n  <thead>\n    <tr style=\"text-align: right;\">\n      <th></th>\n      <th>DRIVEALONEFREE</th>\n      <th>DRIVEALONEPAY</th>\n      <th>SHARED2FREE</th>\n      <th>SHARED2PAY</th>\n      <th>SHARED3FREE</th>\n      <th>SHARED3PAY</th>\n      <th>WALK</th>\n      <th>BIKE</th>\n      <th>WALK_LOC</th>\n      <th>WALK_LRF</th>\n      <th>WALK_EXP</th>\n      <th>WALK_HVY</th>\n      <th>WALK_COM</th>\n      <th>DRIVE_LOC</th>\n      <th>DRIVE_LRF</th>\n      <th>DRIVE_EXP</th>\n      <th>DRIVE_HVY</th>\n      <th>DRIVE_COM</th>\n      <th>TAXI</th>\n      <th>TNC_SINGLE</th>\n      <th>TNC_SHARED</th>\n    </tr>\n    <tr>\n      <th>trip_id</th>\n      <th></th>\n      <th></th>\n      <th></th>\n      <th></th>\n      <th></th>\n      <th></th>\n      <th></th>\n      <th></th>\n      <th></th>\n      <th></th>\n      <th></th>\n      <th></th>\n      <th></th>\n      <th></th>\n      <th></th>\n      <th></th>\n      <th></th>\n      <th></th>\n      <th></th>\n      <th></th>\n      <th></th>\n    </tr>\n  </thead>\n  <tbody>\n    <tr>\n      <th>642446345</th>\n      <td>0.0</td>\n      <td>0.0</td>\n      <td>0.004262</td>\n      <td>0.0</td>\n      <td>4.103657e-14</td>\n      <td>0.0</td>\n      <td>0.039196</td>\n      <td>0.0</td>\n      <td>0.19705</td>\n      <td>0.759044</td>\n      <td>0.0</td>\n      <td>0.0</td>\n      <td>0.0</td>\n      <td>0.0</td>\n      <td>0.0</td>\n      <td>0.0</td>\n      <td>0.0</td>\n      <td>0.0</td>\n      <td>0.000084</td>\n      <td>0.000114</td>\n      <td>0.00025</td>\n    </tr>\n  </tbody>\n</table>\n</div>"
     },
     "metadata": {},
     "output_type": "display_data"
    }
   ],
   "source": [
    "nest_spec = ns[7]  # 7 is social\n",
    "nest_util = nu[7].loc[nu[7].index == trip_id_to_check]\n",
    "\n",
    "n = 100000\n",
    "\n",
    "nest_util = nest_util.loc[nest_util.index.repeat(n)]\n",
    "nest_util.index += np.arange(n)\n",
    "\n",
    "display(base_probs[7].loc[base_probs[7].index == trip_id_to_check])"
   ],
   "metadata": {
    "collapsed": false,
    "pycharm": {
     "name": "#%%\n"
    }
   }
  },
  {
   "cell_type": "code",
   "execution_count": 179,
   "outputs": [
    {
     "data": {
      "text/plain": "WALK_LRF       0.78148\nWALK_LOC       0.20604\nWALK           0.01194\nSHARED2FREE    0.00054\nName: choice, dtype: float64"
     },
     "execution_count": 179,
     "metadata": {},
     "output_type": "execute_result"
    }
   ],
   "source": [
    "choices, nu_choices = make_choices_ru_frozen(nest_util, nest_spec)\n",
    "choices.value_counts() / n"
   ],
   "metadata": {
    "collapsed": false,
    "pycharm": {
     "name": "#%%\n"
    }
   }
  },
  {
   "cell_type": "code",
   "execution_count": 180,
   "outputs": [],
   "source": [
    "def group_nests_by_level(nest_spec):\n",
    "    # group nests by level, returns {level: [nest]}\n",
    "    depth = np.max([x.level for x in logit.each_nest(nest_spec)])\n",
    "    nest_levels = {x: [] for x in range(1, depth+1)}\n",
    "    for n in logit.each_nest(nest_spec):\n",
    "        nest_levels[n.level].append(n)\n",
    "    assert len(nest_levels[1]) == 1  # only one root\n",
    "    return nest_levels\n",
    "\n",
    "def make_choices_ru_frozen_apply(nested_utilities, nest_spec):\n",
    "    nest_utils_for_choice = add_ev1_random(nested_utilities)\n",
    "    all_alternatives = [nest.name for nest in logit.each_nest(nest_spec, type='leaf')]\n",
    "\n",
    "    for level, nests_at_level in group_nests_by_level(nest_spec).items():\n",
    "        nest_alts = [nest.name for nest in nests_at_level]\n",
    "        if level == 1:\n",
    "            assert len(nests_at_level) == 1\n",
    "            assert len(nest_alts) == 1\n",
    "            next_level_alts = nests_at_level[0].alternatives\n",
    "            continue\n",
    "\n",
    "        # all alternatives from the previous level\n",
    "        alts_this_level = list(filter(lambda x: x in next_level_alts, nest_alts))\n",
    "        #print(f\"Level {level} alternatives are {alts_this_level}\")\n",
    "        choice_this_level = nest_utils_for_choice[nest_utils_for_choice.index.isin(alts_this_level)].idxmax()\n",
    "        #print(f\"choice is {choice_this_level}\")\n",
    "        if choice_this_level in all_alternatives:\n",
    "            return choice_this_level\n",
    "        chosen_nest = list(filter(lambda x: x.name == choice_this_level, nests_at_level))\n",
    "        assert len(chosen_nest) == 1\n",
    "        next_level_alts = chosen_nest[0].alternatives\n",
    "\n",
    "    raise ValueError(\"This should never happen - no alternative found\")\n"
   ],
   "metadata": {
    "collapsed": false,
    "pycharm": {
     "name": "#%%\n"
    }
   }
  },
  {
   "cell_type": "code",
   "execution_count": 182,
   "outputs": [
    {
     "data": {
      "text/plain": "WALK_LRF       0.75972\nWALK_LOC       0.19677\nWALK           0.03901\nSHARED2FREE    0.00406\nTNC_SHARED     0.00025\nTNC_SINGLE     0.00010\nTAXI           0.00009\ndtype: float64"
     },
     "execution_count": 182,
     "metadata": {},
     "output_type": "execute_result"
    }
   ],
   "source": [
    "choices_apply = nest_util.apply(lambda x: make_choices_ru_frozen_apply(x, nest_spec), axis=1)\n",
    "choices_apply.value_counts() / n"
   ],
   "metadata": {
    "collapsed": false,
    "pycharm": {
     "name": "#%%\n"
    }
   }
  },
  {
   "cell_type": "code",
   "execution_count": null,
   "outputs": [],
   "source": [],
   "metadata": {
    "collapsed": false,
    "pycharm": {
     "name": "#%%\n"
    }
   }
  },
  {
   "cell_type": "code",
   "execution_count": null,
   "outputs": [],
   "source": [],
   "metadata": {
    "collapsed": false,
    "pycharm": {
     "name": "#%%\n"
    }
   }
  },
  {
   "cell_type": "code",
   "execution_count": null,
   "outputs": [],
   "source": [],
   "metadata": {
    "collapsed": false,
    "pycharm": {
     "name": "#%%\n"
    }
   }
  },
  {
   "cell_type": "code",
   "execution_count": null,
   "outputs": [],
   "source": [],
   "metadata": {
    "collapsed": false,
    "pycharm": {
     "name": "#%%\n"
    }
   }
  },
  {
   "cell_type": "markdown",
   "source": [
    "# stuff\n"
   ],
   "metadata": {
    "collapsed": false,
    "pycharm": {
     "name": "#%% md\n"
    }
   }
  },
  {
   "cell_type": "code",
   "execution_count": 172,
   "outputs": [
    {
     "name": "stderr",
     "output_type": "stream",
     "text": [
      "register joint_tour_participants: no rows with household_id in [982875].\n"
     ]
    }
   ],
   "source": [
    "from activitysim.core import pipeline\n",
    "\n",
    "resume_after = \"trip_scheduling\"\n",
    "model_name = \"trip_mode_choice\"\n",
    "chunk_size = 0  # test_mtc means no chunking\n",
    "\n",
    "pipeline.open_pipeline(resume_after)\n",
    "# preload any bulky injectables (e.g. skims) not in pipeline\n",
    "inject.get_injectable('preload_injectables', None)\n",
    "pipeline._PIPELINE.rng().begin_step(model_name)\n",
    "#step_name = model_name\n",
    "args = {}\n",
    "#checkpoint = pipeline.intermediate_checkpoint(model_name)\n",
    "inject.set_step_args(args)\n",
    "\n",
    "trips = inject.get_table('trips')\n",
    "tours_merged = inject.get_table('tours_merged')\n",
    "network_los = inject.get_injectable('network_los')\n",
    "\n",
    "finalise = True\n",
    "if finalise:\n",
    "    inject.set_step_args(None)\n",
    "    #\n",
    "    pipeline._PIPELINE.rng().end_step(model_name)\n",
    "    pipeline.add_checkpoint(model_name)\n",
    "    if not pipeline.intermediate_checkpoint():\n",
    "        pipeline.add_checkpoint(pipeline.FINAL_CHECKPOINT_NAME)\n",
    "\n",
    "    pipeline.close_pipeline()"
   ],
   "metadata": {
    "collapsed": false,
    "pycharm": {
     "name": "#%%\n"
    }
   }
  },
  {
   "cell_type": "code",
   "execution_count": 176,
   "outputs": [],
   "source": [
    "t_ = trips.to_frame()"
   ],
   "metadata": {
    "collapsed": false,
    "pycharm": {
     "name": "#%%\n"
    }
   }
  },
  {
   "cell_type": "code",
   "execution_count": 177,
   "outputs": [
    {
     "data": {
      "text/plain": "            person_id  household_id primary_purpose  trip_num  outbound  \\\ntrip_id                                                                   \n2464104885    7512514       2821179          social         1     False   \n\n            trip_count  destination  origin    tour_id purpose  \\\ntrip_id                                                          \n2464104885           1            8       9  308013110    home   \n\n            destination_logsum  depart  \ntrip_id                                 \n2464104885                 NaN    16.0  ",
      "text/html": "<div>\n<style scoped>\n    .dataframe tbody tr th:only-of-type {\n        vertical-align: middle;\n    }\n\n    .dataframe tbody tr th {\n        vertical-align: top;\n    }\n\n    .dataframe thead th {\n        text-align: right;\n    }\n</style>\n<table border=\"1\" class=\"dataframe\">\n  <thead>\n    <tr style=\"text-align: right;\">\n      <th></th>\n      <th>person_id</th>\n      <th>household_id</th>\n      <th>primary_purpose</th>\n      <th>trip_num</th>\n      <th>outbound</th>\n      <th>trip_count</th>\n      <th>destination</th>\n      <th>origin</th>\n      <th>tour_id</th>\n      <th>purpose</th>\n      <th>destination_logsum</th>\n      <th>depart</th>\n    </tr>\n    <tr>\n      <th>trip_id</th>\n      <th></th>\n      <th></th>\n      <th></th>\n      <th></th>\n      <th></th>\n      <th></th>\n      <th></th>\n      <th></th>\n      <th></th>\n      <th></th>\n      <th></th>\n      <th></th>\n    </tr>\n  </thead>\n  <tbody>\n    <tr>\n      <th>2464104885</th>\n      <td>7512514</td>\n      <td>2821179</td>\n      <td>social</td>\n      <td>1</td>\n      <td>False</td>\n      <td>1</td>\n      <td>8</td>\n      <td>9</td>\n      <td>308013110</td>\n      <td>home</td>\n      <td>NaN</td>\n      <td>16.0</td>\n    </tr>\n  </tbody>\n</table>\n</div>"
     },
     "execution_count": 177,
     "metadata": {},
     "output_type": "execute_result"
    }
   ],
   "source": [
    "t_.loc[t_.index == 2464104885]"
   ],
   "metadata": {
    "collapsed": false,
    "pycharm": {
     "name": "#%%\n"
    }
   }
  },
  {
   "cell_type": "code",
   "execution_count": null,
   "outputs": [],
   "source": [],
   "metadata": {
    "collapsed": false,
    "pycharm": {
     "name": "#%%\n"
    }
   }
  }
 ],
 "metadata": {
  "kernelspec": {
   "display_name": "Python 3",
   "language": "python",
   "name": "python3"
  },
  "language_info": {
   "codemirror_mode": {
    "name": "ipython",
    "version": 3
   },
   "file_extension": ".py",
   "mimetype": "text/x-python",
   "name": "python",
   "nbconvert_exporter": "python",
   "pygments_lexer": "ipython3",
   "version": "3.8.2"
  }
 },
 "nbformat": 4,
 "nbformat_minor": 5
}