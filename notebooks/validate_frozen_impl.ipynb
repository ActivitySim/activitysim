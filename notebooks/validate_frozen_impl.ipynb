{
 "cells": [
  {
   "cell_type": "markdown",
   "id": "7ece3567-e4b1-4c3f-a264-20625abb6ad7",
   "metadata": {},
   "source": [
    "# validate results"
   ]
  },
  {
   "cell_type": "code",
   "execution_count": 1,
   "id": "bd74ba44-0dfb-439a-a6ab-7ceedfc5f523",
   "metadata": {
    "execution": {
     "iopub.execute_input": "2022-05-01T10:17:57.385153Z",
     "iopub.status.busy": "2022-05-01T10:17:57.384881Z",
     "iopub.status.idle": "2022-05-01T10:17:57.534433Z",
     "shell.execute_reply": "2022-05-01T10:17:57.533096Z",
     "shell.execute_reply.started": "2022-05-01T10:17:57.385047Z"
    },
    "tags": []
   },
   "outputs": [],
   "source": [
    "%load_ext autoreload"
   ]
  },
  {
   "cell_type": "code",
   "execution_count": 2,
   "id": "c3dba451-1e10-403e-8614-35d57e6577f4",
   "metadata": {
    "execution": {
     "iopub.execute_input": "2022-05-01T10:17:57.536623Z",
     "iopub.status.busy": "2022-05-01T10:17:57.536012Z",
     "iopub.status.idle": "2022-05-01T10:17:57.542755Z",
     "shell.execute_reply": "2022-05-01T10:17:57.541685Z",
     "shell.execute_reply.started": "2022-05-01T10:17:57.536567Z"
    },
    "tags": []
   },
   "outputs": [],
   "source": [
    "%autoreload 2"
   ]
  },
  {
   "cell_type": "code",
   "execution_count": 88,
   "id": "73deaac4-e7ac-4aff-b086-4980dc6dd903",
   "metadata": {
    "execution": {
     "iopub.execute_input": "2022-05-01T10:18:00.350944Z",
     "iopub.status.busy": "2022-05-01T10:18:00.350730Z",
     "iopub.status.idle": "2022-05-01T10:18:12.760977Z",
     "shell.execute_reply": "2022-05-01T10:18:12.760013Z",
     "shell.execute_reply.started": "2022-05-01T10:18:00.350919Z"
    },
    "tags": []
   },
   "outputs": [],
   "source": [
    "import os\n",
    "import argparse\n",
    "from datetime import datetime\n",
    "\n",
    "import numpy as np\n",
    "import pandas as pd\n",
    "from numpy.random import default_rng\n",
    "\n",
    "from activitysim.cli import run\n",
    "from activitysim.core import inject\n",
    "\n",
    "from fru_utils import run_trip_mode_choice, comp_mode_shares"
   ]
  },
  {
   "cell_type": "code",
   "execution_count": 89,
   "id": "7e553abd-fe0d-4cdc-aeb1-9dc80cb2757f",
   "metadata": {
    "execution": {
     "iopub.execute_input": "2022-05-01T10:18:16.944537Z",
     "iopub.status.busy": "2022-05-01T10:18:16.944291Z",
     "iopub.status.idle": "2022-05-01T10:18:17.124764Z",
     "shell.execute_reply": "2022-05-01T10:18:17.123725Z",
     "shell.execute_reply.started": "2022-05-01T10:18:16.944501Z"
    },
    "tags": []
   },
   "outputs": [],
   "source": [
    "pd.set_option(\"max_columns\", 500)"
   ]
  },
  {
   "cell_type": "code",
   "execution_count": 90,
   "id": "41fec4e8-a174-4e66-87d2-1e8c7979de90",
   "metadata": {
    "execution": {
     "iopub.execute_input": "2022-05-01T10:18:17.839947Z",
     "iopub.status.busy": "2022-05-01T10:18:17.839070Z",
     "iopub.status.idle": "2022-05-01T10:18:18.019676Z",
     "shell.execute_reply": "2022-05-01T10:18:18.018689Z",
     "shell.execute_reply.started": "2022-05-01T10:18:17.839911Z"
    },
    "tags": []
   },
   "outputs": [],
   "source": [
    "root_dir = \"/mnt/c/Users/jan.zill/code/activitysim\"\n",
    "example_dir = os.path.join(root_dir, \"test_example_mtc\")"
   ]
  },
  {
   "cell_type": "code",
   "execution_count": 91,
   "id": "2de710a2-d292-42f9-9d4a-4dcef1365506",
   "metadata": {
    "execution": {
     "iopub.execute_input": "2022-05-01T10:18:18.894533Z",
     "iopub.status.busy": "2022-05-01T10:18:18.894303Z",
     "iopub.status.idle": "2022-05-01T10:18:19.078807Z",
     "shell.execute_reply": "2022-05-01T10:18:19.077951Z",
     "shell.execute_reply.started": "2022-05-01T10:18:18.894508Z"
    },
    "tags": []
   },
   "outputs": [],
   "source": [
    "os.chdir(example_dir)"
   ]
  },
  {
   "cell_type": "code",
   "execution_count": 92,
   "id": "730be239-8704-4483-bbb8-ffae0f17c5d4",
   "metadata": {
    "execution": {
     "iopub.execute_input": "2022-05-01T10:18:22.111723Z",
     "iopub.status.busy": "2022-05-01T10:18:22.111490Z",
     "iopub.status.idle": "2022-05-01T10:18:22.297437Z",
     "shell.execute_reply": "2022-05-01T10:18:22.296501Z",
     "shell.execute_reply.started": "2022-05-01T10:18:22.111697Z"
    },
    "tags": []
   },
   "outputs": [],
   "source": [
    "parser = argparse.ArgumentParser()\n",
    "run.add_run_args(parser)\n",
    "# args = parser.parse_args()\n",
    "# parser.parse_args(['--sum', '7', '-1', '42'])\n",
    "args = parser.parse_args(['-c', 'configs', '-o', 'output', '-d', 'data'])\n",
    "#run.run(args)  # 2mins full example run\n",
    "if not inject.is_injectable('preload_injectables'):\n",
    "    from activitysim import abm  # register abm steps and other abm-specific injectables\n",
    "run.handle_standard_args(args)  # possibly update injectables"
   ]
  },
  {
   "cell_type": "code",
   "execution_count": 93,
   "id": "3ed520e9-75ef-4eec-ab86-6aaf1fe453fc",
   "metadata": {
    "execution": {
     "iopub.execute_input": "2021-09-01T02:28:53.643404Z",
     "iopub.status.busy": "2021-09-01T02:28:53.643055Z",
     "iopub.status.idle": "2021-09-01T02:29:01.223951Z",
     "shell.execute_reply": "2021-09-01T02:29:01.222865Z",
     "shell.execute_reply.started": "2021-09-01T02:28:53.643367Z"
    },
    "tags": []
   },
   "outputs": [
    {
     "name": "stderr",
     "output_type": "stream",
     "text": [
      "register joint_tour_participants: no rows with household_id in [982875].\n",
      "estimation bundle trip_mode_choice not in settings file estimation.yaml\n"
     ]
    },
    {
     "name": "stdout",
     "output_type": "stream",
     "text": [
      "Running with %d trips 482\n",
      "trip_mode_choice tour_type 'atwork' (27 trips)\n",
      "trip_mode_choice tour_type 'eatout' (33 trips)\n",
      "trip_mode_choice tour_type 'escort' (6 trips)\n",
      "trip_mode_choice tour_type 'othdiscr' (43 trips)\n",
      "trip_mode_choice tour_type 'othmaint' (46 trips)\n",
      "trip_mode_choice tour_type 'school' (37 trips)\n",
      "trip_mode_choice tour_type 'shopping' (77 trips)\n",
      "trip_mode_choice tour_type 'social' (19 trips)\n",
      "trip_mode_choice tour_type 'univ' (26 trips)\n",
      "trip_mode_choice tour_type 'work' (168 trips)\n"
     ]
    },
    {
     "name": "stderr",
     "output_type": "stream",
     "text": [
      "register joint_tour_participants: no rows with household_id in [982875].\n"
     ]
    },
    {
     "name": "stdout",
     "output_type": "stream",
     "text": [
      "Done\n"
     ]
    },
    {
     "name": "stderr",
     "output_type": "stream",
     "text": [
      "estimation bundle trip_mode_choice not in settings file estimation.yaml\n"
     ]
    },
    {
     "name": "stdout",
     "output_type": "stream",
     "text": [
      "Running with %d trips 482\n",
      "trip_mode_choice tour_type 'atwork' (27 trips)\n",
      "trip_mode_choice tour_type 'eatout' (33 trips)\n",
      "trip_mode_choice tour_type 'escort' (6 trips)\n",
      "trip_mode_choice tour_type 'othdiscr' (43 trips)\n",
      "trip_mode_choice tour_type 'othmaint' (46 trips)\n",
      "trip_mode_choice tour_type 'school' (37 trips)\n",
      "trip_mode_choice tour_type 'shopping' (77 trips)\n",
      "trip_mode_choice tour_type 'social' (19 trips)\n",
      "trip_mode_choice tour_type 'univ' (26 trips)\n",
      "trip_mode_choice tour_type 'work' (168 trips)\n",
      "Done\n",
      "CPU times: user 21.5 s, sys: 2.27 s, total: 23.8 s\n",
      "Wall time: 21.1 s\n"
     ]
    }
   ],
   "source": [
    "%%time\n",
    "trips_df_ru = run_trip_mode_choice()\n",
    "trips_df = run_trip_mode_choice(choose_individual_max_utility=False)"
   ]
  },
  {
   "cell_type": "code",
   "execution_count": 94,
   "outputs": [
    {
     "data": {
      "text/plain": "                trip_mode_fru  trip_mode_asim\nWALK                      297             304\nWALK_LOC                  100              85\nWALK_LRF                   52              53\nBIKE                       16              17\nDRIVEALONEFREE              7               4\nWALK_HVY                    4               4\nTNC_SINGLE                  3               4\nSHARED2FREE                 2               4\nTNC_SHARED                  1               4",
      "text/html": "<div>\n<style scoped>\n    .dataframe tbody tr th:only-of-type {\n        vertical-align: middle;\n    }\n\n    .dataframe tbody tr th {\n        vertical-align: top;\n    }\n\n    .dataframe thead th {\n        text-align: right;\n    }\n</style>\n<table border=\"1\" class=\"dataframe\">\n  <thead>\n    <tr style=\"text-align: right;\">\n      <th></th>\n      <th>trip_mode_fru</th>\n      <th>trip_mode_asim</th>\n    </tr>\n  </thead>\n  <tbody>\n    <tr>\n      <th>WALK</th>\n      <td>297</td>\n      <td>304</td>\n    </tr>\n    <tr>\n      <th>WALK_LOC</th>\n      <td>100</td>\n      <td>85</td>\n    </tr>\n    <tr>\n      <th>WALK_LRF</th>\n      <td>52</td>\n      <td>53</td>\n    </tr>\n    <tr>\n      <th>BIKE</th>\n      <td>16</td>\n      <td>17</td>\n    </tr>\n    <tr>\n      <th>DRIVEALONEFREE</th>\n      <td>7</td>\n      <td>4</td>\n    </tr>\n    <tr>\n      <th>WALK_HVY</th>\n      <td>4</td>\n      <td>4</td>\n    </tr>\n    <tr>\n      <th>TNC_SINGLE</th>\n      <td>3</td>\n      <td>4</td>\n    </tr>\n    <tr>\n      <th>SHARED2FREE</th>\n      <td>2</td>\n      <td>4</td>\n    </tr>\n    <tr>\n      <th>TNC_SHARED</th>\n      <td>1</td>\n      <td>4</td>\n    </tr>\n  </tbody>\n</table>\n</div>"
     },
     "execution_count": 94,
     "metadata": {},
     "output_type": "execute_result"
    }
   ],
   "source": [
    "c_ = [\"trip_mode\", \"mode_choice_logsum\"]\n",
    "trips = trips_df_ru[c_].merge(trips_df[c_], left_index=True, right_index=True, how=\"outer\", suffixes=[\"_fru\", \"_asim\"])\n",
    "pd.merge(trips_df_ru.trip_mode.value_counts(), trips_df.trip_mode.value_counts(), left_index=True, right_index=True,\n",
    "         suffixes=[\"_fru\", \"_asim\"])"
   ],
   "metadata": {
    "collapsed": false,
    "pycharm": {
     "name": "#%%\n"
    }
   }
  },
  {
   "cell_type": "code",
   "execution_count": 95,
   "outputs": [
    {
     "data": {
      "text/plain": "<Figure size 432x288 with 1 Axes>",
      "image/png": "[encoded data removed]"
     },
     "metadata": {
      "needs_background": "light"
     },
     "output_type": "display_data"
    }
   ],
   "source": [
    "if np.allclose(trips.mode_choice_logsum_fru, trips.mode_choice_logsum_asim):\n",
    "    print(\"Logsums agree\")\n",
    "else:\n",
    "    ((trips.mode_choice_logsum_fru - trips.mode_choice_logsum_asim) / trips.mode_choice_logsum_fru).hist(bins=50)"
   ],
   "metadata": {
    "collapsed": false,
    "pycharm": {
     "name": "#%%\n"
    }
   }
  },
  {
   "cell_type": "code",
   "execution_count": 96,
   "outputs": [
    {
     "data": {
      "text/plain": "trip_id\n535694417     0.143382\n943749469     0.109040\n1004301761    0.122286\n1767182865    0.119168\n1767183297    0.138448\n1767186581    0.111968\ndtype: float64"
     },
     "execution_count": 96,
     "metadata": {},
     "output_type": "execute_result"
    }
   ],
   "source": [
    "x_ = np.abs(trips.mode_choice_logsum_fru - trips.mode_choice_logsum_asim)\n",
    "x_.loc[x_ > 0.1]"
   ],
   "metadata": {
    "collapsed": false,
    "pycharm": {
     "name": "#%%\n"
    }
   }
  },
  {
   "cell_type": "markdown",
   "source": [
    "# Run MC validation\n",
    "\n",
    "see logit._each_nest parent_nest_scale for leaf node, and simulate.compute_nested_utilities for discussion of scales\n",
    "of alternatives\n",
    "\n",
    "easiest way is to run a simulation"
   ],
   "metadata": {
    "collapsed": false,
    "pycharm": {
     "name": "#%% md\n"
    }
   }
  },
  {
   "cell_type": "code",
   "execution_count": 104,
   "outputs": [
    {
     "name": "stderr",
     "output_type": "stream",
     "text": [
      "register joint_tour_participants: no rows with household_id in [982875].\n",
      "estimation bundle trip_mode_choice not in settings file estimation.yaml\n"
     ]
    },
    {
     "name": "stdout",
     "output_type": "stream",
     "text": [
      "Running with %d trips 482\n",
      "trip_mode_choice tour_type 'social' (19 trips)\n",
      "Done\n"
     ]
    }
   ],
   "source": [
    "from fru_utils import get_stuff\n",
    "t, ru, neu, nu, ns, nested_probs, base_probs = get_stuff(do_these_purposes=[\"social\"])"
   ],
   "metadata": {
    "collapsed": false,
    "pycharm": {
     "name": "#%%\n"
    }
   }
  },
  {
   "cell_type": "code",
   "execution_count": 105,
   "outputs": [
    {
     "name": "stdout",
     "output_type": "stream",
     "text": [
      "Nest name: root level: 1 coefficient: 1.0 product_of_coefficients: 1.0 ancestors: ['root'] \n",
      "Nest name: AUTO level: 2 coefficient: 0.72 product_of_coefficients: 0.72 ancestors: ['root', 'AUTO'] \n",
      "Nest name: DRIVEALONE level: 3 coefficient: 0.35 product_of_coefficients: 0.252 ancestors: ['root', 'AUTO', 'DRIVEALONE'] \n",
      "Nest name: SHAREDRIDE2 level: 3 coefficient: 0.35 product_of_coefficients: 0.252 ancestors: ['root', 'AUTO', 'SHAREDRIDE2'] \n",
      "Nest name: SHAREDRIDE3 level: 3 coefficient: 0.35 product_of_coefficients: 0.252 ancestors: ['root', 'AUTO', 'SHAREDRIDE3'] \n",
      "Nest name: NONMOTORIZED level: 2 coefficient: 0.72 product_of_coefficients: 0.72 ancestors: ['root', 'NONMOTORIZED'] \n",
      "Nest name: TRANSIT level: 2 coefficient: 0.72 product_of_coefficients: 0.72 ancestors: ['root', 'TRANSIT'] \n",
      "Nest name: WALKACCESS level: 3 coefficient: 0.5 product_of_coefficients: 0.36 ancestors: ['root', 'TRANSIT', 'WALKACCESS'] \n",
      "Nest name: DRIVEACCESS level: 3 coefficient: 0.5 product_of_coefficients: 0.36 ancestors: ['root', 'TRANSIT', 'DRIVEACCESS'] \n",
      "Nest name: RIDEHAIL level: 2 coefficient: 0.36 product_of_coefficients: 0.36 ancestors: ['root', 'RIDEHAIL'] \n"
     ]
    }
   ],
   "source": [
    "nest_spec = ns[0]\n",
    "for nest in logit.each_nest(nest_spec, type='node', post_order=False):\n",
    "    nest.print()"
   ],
   "metadata": {
    "collapsed": false,
    "pycharm": {
     "name": "#%%\n"
    }
   }
  },
  {
   "cell_type": "code",
   "execution_count": 106,
   "outputs": [
    {
     "data": {
      "text/plain": "            DRIVEALONEFREE  DRIVEALONEPAY   SHARED2FREE  SHARED2PAY  \\\ntrip_id                                                               \n8805121                0.0            0.0  0.000000e+00         0.0   \n8805125                0.0            0.0  0.000000e+00         0.0   \n8805126                0.0            0.0  0.000000e+00         0.0   \n468119921              0.0            0.0  0.000000e+00         0.0   \n468119922              0.0            0.0  0.000000e+00         0.0   \n468119925              0.0            0.0  0.000000e+00         0.0   \n468119926              0.0            0.0  0.000000e+00         0.0   \n468119927              0.0            0.0  0.000000e+00         0.0   \n468119928              0.0            0.0  0.000000e+00         0.0   \n642446345              0.0            0.0  4.882838e-03         0.0   \n642446349              0.0            0.0  3.622165e-03         0.0   \n1179608009             0.0            0.0  5.572746e-05         0.0   \n1179608013             0.0            0.0  1.108122e-05         0.0   \n1658807153             0.0            0.0  4.252415e-07         0.0   \n1658807157             0.0            0.0  5.038020e-07         0.0   \n1767182945             0.0            0.0  1.610090e-02         0.0   \n1767182949             0.0            0.0  1.540381e-02         0.0   \n2464104881             0.0            0.0  2.228876e-05         0.0   \n2464104885             0.0            0.0  2.163505e-05         0.0   \n\n             SHARED3FREE  SHARED3PAY      WALK  BIKE  WALK_LOC  WALK_LRF  \\\ntrip_id                                                                    \n8805121     0.000000e+00         0.0  1.000000   0.0  0.000000  0.000000   \n8805125     0.000000e+00         0.0  1.000000   0.0  0.000000  0.000000   \n8805126     0.000000e+00         0.0  1.000000   0.0  0.000000  0.000000   \n468119921   0.000000e+00         0.0  1.000000   0.0  0.000000  0.000000   \n468119922   0.000000e+00         0.0  0.999874   0.0  0.000000  0.000000   \n468119925   0.000000e+00         0.0  0.999875   0.0  0.000000  0.000000   \n468119926   0.000000e+00         0.0  1.000000   0.0  0.000000  0.000000   \n468119927   0.000000e+00         0.0  1.000000   0.0  0.000000  0.000000   \n468119928   0.000000e+00         0.0  1.000000   0.0  0.000000  0.000000   \n642446345   4.701403e-14         0.0  0.044905   0.0  0.059962  0.889736   \n642446349   3.950582e-14         0.0  0.043359   0.0  0.068362  0.884144   \n1179608009  1.964682e-05         0.0  0.969538   0.0  0.000000  0.000000   \n1179608013  7.469124e-06         0.0  0.969598   0.0  0.000000  0.000000   \n1658807153  1.499257e-07         0.0  0.048044   0.0  0.951445  0.000000   \n1658807157  1.907576e-07         0.0  0.065847   0.0  0.933430  0.000000   \n1767182945  1.548643e-13         0.0  0.046835   0.0  0.144256  0.787096   \n1767182949  1.509357e-13         0.0  0.041767   0.0  0.141232  0.795898   \n2464104881  2.147403e-16         0.0  0.646947   0.0  0.353030  0.000000   \n2464104885  2.084422e-16         0.0  0.627973   0.0  0.372005  0.000000   \n\n            WALK_EXP  WALK_HVY  WALK_COM  DRIVE_LOC  DRIVE_LRF  DRIVE_EXP  \\\ntrip_id                                                                     \n8805121          0.0       0.0       0.0        0.0        0.0        0.0   \n8805125          0.0       0.0       0.0        0.0        0.0        0.0   \n8805126          0.0       0.0       0.0        0.0        0.0        0.0   \n468119921        0.0       0.0       0.0        0.0        0.0        0.0   \n468119922        0.0       0.0       0.0        0.0        0.0        0.0   \n468119925        0.0       0.0       0.0        0.0        0.0        0.0   \n468119926        0.0       0.0       0.0        0.0        0.0        0.0   \n468119927        0.0       0.0       0.0        0.0        0.0        0.0   \n468119928        0.0       0.0       0.0        0.0        0.0        0.0   \n642446345        0.0       0.0       0.0        0.0        0.0        0.0   \n642446349        0.0       0.0       0.0        0.0        0.0        0.0   \n1179608009       0.0       0.0       0.0        0.0        0.0        0.0   \n1179608013       0.0       0.0       0.0        0.0        0.0        0.0   \n1658807153       0.0       0.0       0.0        0.0        0.0        0.0   \n1658807157       0.0       0.0       0.0        0.0        0.0        0.0   \n1767182945       0.0       0.0       0.0        0.0        0.0        0.0   \n1767182949       0.0       0.0       0.0        0.0        0.0        0.0   \n2464104881       0.0       0.0       0.0        0.0        0.0        0.0   \n2464104885       0.0       0.0       0.0        0.0        0.0        0.0   \n\n            DRIVE_HVY  DRIVE_COM          TAXI    TNC_SINGLE    TNC_SHARED  \ntrip_id                                                                     \n8805121           0.0        0.0  4.266799e-08  7.843494e-08  2.071998e-08  \n8805125           0.0        0.0  4.057327e-08  7.325707e-08  1.950799e-08  \n8805126           0.0        0.0  4.864169e-08  9.376443e-08  2.428075e-08  \n468119921         0.0        0.0  1.096638e-08  2.754998e-10  4.051502e-08  \n468119922         0.0        0.0  2.658716e-05  6.599176e-07  9.832967e-05  \n468119925         0.0        0.0  2.651144e-05  6.601311e-07  9.831370e-05  \n468119926         0.0        0.0  1.568041e-08  2.408144e-10  3.615344e-08  \n468119927         0.0        0.0  5.308505e-08  1.315547e-10  2.041405e-08  \n468119928         0.0        0.0  2.367465e-09  1.493582e-10  1.939597e-08  \n642446345         0.0        0.0  9.610763e-05  1.307549e-04  2.867554e-04  \n642446349         0.0        0.0  9.293281e-05  1.316643e-04  2.885385e-04  \n1179608009        0.0        0.0  5.225133e-06  2.766547e-02  2.716407e-03  \n1179608013        0.0        0.0  5.222635e-06  2.766274e-02  2.715479e-03  \n1658807153        0.0        0.0  7.091296e-08  4.695006e-04  4.115873e-05  \n1658807157        0.0        0.0  9.574501e-08  6.645671e-04  5.801899e-05  \n1767182945        0.0        0.0  1.498950e-03  3.358768e-03  8.536317e-04  \n1767182949        0.0        0.0  1.476552e-03  3.378934e-03  8.436653e-04  \n2464104881        0.0        0.0  1.365321e-07  8.764695e-12  3.537046e-07  \n2464104885        0.0        0.0  1.325277e-07  8.507634e-12  3.433307e-07  ",
      "text/html": "<div>\n<style scoped>\n    .dataframe tbody tr th:only-of-type {\n        vertical-align: middle;\n    }\n\n    .dataframe tbody tr th {\n        vertical-align: top;\n    }\n\n    .dataframe thead th {\n        text-align: right;\n    }\n</style>\n<table border=\"1\" class=\"dataframe\">\n  <thead>\n    <tr style=\"text-align: right;\">\n      <th></th>\n      <th>DRIVEALONEFREE</th>\n      <th>DRIVEALONEPAY</th>\n      <th>SHARED2FREE</th>\n      <th>SHARED2PAY</th>\n      <th>SHARED3FREE</th>\n      <th>SHARED3PAY</th>\n      <th>WALK</th>\n      <th>BIKE</th>\n      <th>WALK_LOC</th>\n      <th>WALK_LRF</th>\n      <th>WALK_EXP</th>\n      <th>WALK_HVY</th>\n      <th>WALK_COM</th>\n      <th>DRIVE_LOC</th>\n      <th>DRIVE_LRF</th>\n      <th>DRIVE_EXP</th>\n      <th>DRIVE_HVY</th>\n      <th>DRIVE_COM</th>\n      <th>TAXI</th>\n      <th>TNC_SINGLE</th>\n      <th>TNC_SHARED</th>\n    </tr>\n    <tr>\n      <th>trip_id</th>\n      <th></th>\n      <th></th>\n      <th></th>\n      <th></th>\n      <th></th>\n      <th></th>\n      <th></th>\n      <th></th>\n      <th></th>\n      <th></th>\n      <th></th>\n      <th></th>\n      <th></th>\n      <th></th>\n      <th></th>\n      <th></th>\n      <th></th>\n      <th></th>\n      <th></th>\n      <th></th>\n      <th></th>\n    </tr>\n  </thead>\n  <tbody>\n    <tr>\n      <th>8805121</th>\n      <td>0.0</td>\n      <td>0.0</td>\n      <td>0.000000e+00</td>\n      <td>0.0</td>\n      <td>0.000000e+00</td>\n      <td>0.0</td>\n      <td>1.000000</td>\n      <td>0.0</td>\n      <td>0.000000</td>\n      <td>0.000000</td>\n      <td>0.0</td>\n      <td>0.0</td>\n      <td>0.0</td>\n      <td>0.0</td>\n      <td>0.0</td>\n      <td>0.0</td>\n      <td>0.0</td>\n      <td>0.0</td>\n      <td>4.266799e-08</td>\n      <td>7.843494e-08</td>\n      <td>2.071998e-08</td>\n    </tr>\n    <tr>\n      <th>8805125</th>\n      <td>0.0</td>\n      <td>0.0</td>\n      <td>0.000000e+00</td>\n      <td>0.0</td>\n      <td>0.000000e+00</td>\n      <td>0.0</td>\n      <td>1.000000</td>\n      <td>0.0</td>\n      <td>0.000000</td>\n      <td>0.000000</td>\n      <td>0.0</td>\n      <td>0.0</td>\n      <td>0.0</td>\n      <td>0.0</td>\n      <td>0.0</td>\n      <td>0.0</td>\n      <td>0.0</td>\n      <td>0.0</td>\n      <td>4.057327e-08</td>\n      <td>7.325707e-08</td>\n      <td>1.950799e-08</td>\n    </tr>\n    <tr>\n      <th>8805126</th>\n      <td>0.0</td>\n      <td>0.0</td>\n      <td>0.000000e+00</td>\n      <td>0.0</td>\n      <td>0.000000e+00</td>\n      <td>0.0</td>\n      <td>1.000000</td>\n      <td>0.0</td>\n      <td>0.000000</td>\n      <td>0.000000</td>\n      <td>0.0</td>\n      <td>0.0</td>\n      <td>0.0</td>\n      <td>0.0</td>\n      <td>0.0</td>\n      <td>0.0</td>\n      <td>0.0</td>\n      <td>0.0</td>\n      <td>4.864169e-08</td>\n      <td>9.376443e-08</td>\n      <td>2.428075e-08</td>\n    </tr>\n    <tr>\n      <th>468119921</th>\n      <td>0.0</td>\n      <td>0.0</td>\n      <td>0.000000e+00</td>\n      <td>0.0</td>\n      <td>0.000000e+00</td>\n      <td>0.0</td>\n      <td>1.000000</td>\n      <td>0.0</td>\n      <td>0.000000</td>\n      <td>0.000000</td>\n      <td>0.0</td>\n      <td>0.0</td>\n      <td>0.0</td>\n      <td>0.0</td>\n      <td>0.0</td>\n      <td>0.0</td>\n      <td>0.0</td>\n      <td>0.0</td>\n      <td>1.096638e-08</td>\n      <td>2.754998e-10</td>\n      <td>4.051502e-08</td>\n    </tr>\n    <tr>\n      <th>468119922</th>\n      <td>0.0</td>\n      <td>0.0</td>\n      <td>0.000000e+00</td>\n      <td>0.0</td>\n      <td>0.000000e+00</td>\n      <td>0.0</td>\n      <td>0.999874</td>\n      <td>0.0</td>\n      <td>0.000000</td>\n      <td>0.000000</td>\n      <td>0.0</td>\n      <td>0.0</td>\n      <td>0.0</td>\n      <td>0.0</td>\n      <td>0.0</td>\n      <td>0.0</td>\n      <td>0.0</td>\n      <td>0.0</td>\n      <td>2.658716e-05</td>\n      <td>6.599176e-07</td>\n      <td>9.832967e-05</td>\n    </tr>\n    <tr>\n      <th>468119925</th>\n      <td>0.0</td>\n      <td>0.0</td>\n      <td>0.000000e+00</td>\n      <td>0.0</td>\n      <td>0.000000e+00</td>\n      <td>0.0</td>\n      <td>0.999875</td>\n      <td>0.0</td>\n      <td>0.000000</td>\n      <td>0.000000</td>\n      <td>0.0</td>\n      <td>0.0</td>\n      <td>0.0</td>\n      <td>0.0</td>\n      <td>0.0</td>\n      <td>0.0</td>\n      <td>0.0</td>\n      <td>0.0</td>\n      <td>2.651144e-05</td>\n      <td>6.601311e-07</td>\n      <td>9.831370e-05</td>\n    </tr>\n    <tr>\n      <th>468119926</th>\n      <td>0.0</td>\n      <td>0.0</td>\n      <td>0.000000e+00</td>\n      <td>0.0</td>\n      <td>0.000000e+00</td>\n      <td>0.0</td>\n      <td>1.000000</td>\n      <td>0.0</td>\n      <td>0.000000</td>\n      <td>0.000000</td>\n      <td>0.0</td>\n      <td>0.0</td>\n      <td>0.0</td>\n      <td>0.0</td>\n      <td>0.0</td>\n      <td>0.0</td>\n      <td>0.0</td>\n      <td>0.0</td>\n      <td>1.568041e-08</td>\n      <td>2.408144e-10</td>\n      <td>3.615344e-08</td>\n    </tr>\n    <tr>\n      <th>468119927</th>\n      <td>0.0</td>\n      <td>0.0</td>\n      <td>0.000000e+00</td>\n      <td>0.0</td>\n      <td>0.000000e+00</td>\n      <td>0.0</td>\n      <td>1.000000</td>\n      <td>0.0</td>\n      <td>0.000000</td>\n      <td>0.000000</td>\n      <td>0.0</td>\n      <td>0.0</td>\n      <td>0.0</td>\n      <td>0.0</td>\n      <td>0.0</td>\n      <td>0.0</td>\n      <td>0.0</td>\n      <td>0.0</td>\n      <td>5.308505e-08</td>\n      <td>1.315547e-10</td>\n      <td>2.041405e-08</td>\n    </tr>\n    <tr>\n      <th>468119928</th>\n      <td>0.0</td>\n      <td>0.0</td>\n      <td>0.000000e+00</td>\n      <td>0.0</td>\n      <td>0.000000e+00</td>\n      <td>0.0</td>\n      <td>1.000000</td>\n      <td>0.0</td>\n      <td>0.000000</td>\n      <td>0.000000</td>\n      <td>0.0</td>\n      <td>0.0</td>\n      <td>0.0</td>\n      <td>0.0</td>\n      <td>0.0</td>\n      <td>0.0</td>\n      <td>0.0</td>\n      <td>0.0</td>\n      <td>2.367465e-09</td>\n      <td>1.493582e-10</td>\n      <td>1.939597e-08</td>\n    </tr>\n    <tr>\n      <th>642446345</th>\n      <td>0.0</td>\n      <td>0.0</td>\n      <td>4.882838e-03</td>\n      <td>0.0</td>\n      <td>4.701403e-14</td>\n      <td>0.0</td>\n      <td>0.044905</td>\n      <td>0.0</td>\n      <td>0.059962</td>\n      <td>0.889736</td>\n      <td>0.0</td>\n      <td>0.0</td>\n      <td>0.0</td>\n      <td>0.0</td>\n      <td>0.0</td>\n      <td>0.0</td>\n      <td>0.0</td>\n      <td>0.0</td>\n      <td>9.610763e-05</td>\n      <td>1.307549e-04</td>\n      <td>2.867554e-04</td>\n    </tr>\n    <tr>\n      <th>642446349</th>\n      <td>0.0</td>\n      <td>0.0</td>\n      <td>3.622165e-03</td>\n      <td>0.0</td>\n      <td>3.950582e-14</td>\n      <td>0.0</td>\n      <td>0.043359</td>\n      <td>0.0</td>\n      <td>0.068362</td>\n      <td>0.884144</td>\n      <td>0.0</td>\n      <td>0.0</td>\n      <td>0.0</td>\n      <td>0.0</td>\n      <td>0.0</td>\n      <td>0.0</td>\n      <td>0.0</td>\n      <td>0.0</td>\n      <td>9.293281e-05</td>\n      <td>1.316643e-04</td>\n      <td>2.885385e-04</td>\n    </tr>\n    <tr>\n      <th>1179608009</th>\n      <td>0.0</td>\n      <td>0.0</td>\n      <td>5.572746e-05</td>\n      <td>0.0</td>\n      <td>1.964682e-05</td>\n      <td>0.0</td>\n      <td>0.969538</td>\n      <td>0.0</td>\n      <td>0.000000</td>\n      <td>0.000000</td>\n      <td>0.0</td>\n      <td>0.0</td>\n      <td>0.0</td>\n      <td>0.0</td>\n      <td>0.0</td>\n      <td>0.0</td>\n      <td>0.0</td>\n      <td>0.0</td>\n      <td>5.225133e-06</td>\n      <td>2.766547e-02</td>\n      <td>2.716407e-03</td>\n    </tr>\n    <tr>\n      <th>1179608013</th>\n      <td>0.0</td>\n      <td>0.0</td>\n      <td>1.108122e-05</td>\n      <td>0.0</td>\n      <td>7.469124e-06</td>\n      <td>0.0</td>\n      <td>0.969598</td>\n      <td>0.0</td>\n      <td>0.000000</td>\n      <td>0.000000</td>\n      <td>0.0</td>\n      <td>0.0</td>\n      <td>0.0</td>\n      <td>0.0</td>\n      <td>0.0</td>\n      <td>0.0</td>\n      <td>0.0</td>\n      <td>0.0</td>\n      <td>5.222635e-06</td>\n      <td>2.766274e-02</td>\n      <td>2.715479e-03</td>\n    </tr>\n    <tr>\n      <th>1658807153</th>\n      <td>0.0</td>\n      <td>0.0</td>\n      <td>4.252415e-07</td>\n      <td>0.0</td>\n      <td>1.499257e-07</td>\n      <td>0.0</td>\n      <td>0.048044</td>\n      <td>0.0</td>\n      <td>0.951445</td>\n      <td>0.000000</td>\n      <td>0.0</td>\n      <td>0.0</td>\n      <td>0.0</td>\n      <td>0.0</td>\n      <td>0.0</td>\n      <td>0.0</td>\n      <td>0.0</td>\n      <td>0.0</td>\n      <td>7.091296e-08</td>\n      <td>4.695006e-04</td>\n      <td>4.115873e-05</td>\n    </tr>\n    <tr>\n      <th>1658807157</th>\n      <td>0.0</td>\n      <td>0.0</td>\n      <td>5.038020e-07</td>\n      <td>0.0</td>\n      <td>1.907576e-07</td>\n      <td>0.0</td>\n      <td>0.065847</td>\n      <td>0.0</td>\n      <td>0.933430</td>\n      <td>0.000000</td>\n      <td>0.0</td>\n      <td>0.0</td>\n      <td>0.0</td>\n      <td>0.0</td>\n      <td>0.0</td>\n      <td>0.0</td>\n      <td>0.0</td>\n      <td>0.0</td>\n      <td>9.574501e-08</td>\n      <td>6.645671e-04</td>\n      <td>5.801899e-05</td>\n    </tr>\n    <tr>\n      <th>1767182945</th>\n      <td>0.0</td>\n      <td>0.0</td>\n      <td>1.610090e-02</td>\n      <td>0.0</td>\n      <td>1.548643e-13</td>\n      <td>0.0</td>\n      <td>0.046835</td>\n      <td>0.0</td>\n      <td>0.144256</td>\n      <td>0.787096</td>\n      <td>0.0</td>\n      <td>0.0</td>\n      <td>0.0</td>\n      <td>0.0</td>\n      <td>0.0</td>\n      <td>0.0</td>\n      <td>0.0</td>\n      <td>0.0</td>\n      <td>1.498950e-03</td>\n      <td>3.358768e-03</td>\n      <td>8.536317e-04</td>\n    </tr>\n    <tr>\n      <th>1767182949</th>\n      <td>0.0</td>\n      <td>0.0</td>\n      <td>1.540381e-02</td>\n      <td>0.0</td>\n      <td>1.509357e-13</td>\n      <td>0.0</td>\n      <td>0.041767</td>\n      <td>0.0</td>\n      <td>0.141232</td>\n      <td>0.795898</td>\n      <td>0.0</td>\n      <td>0.0</td>\n      <td>0.0</td>\n      <td>0.0</td>\n      <td>0.0</td>\n      <td>0.0</td>\n      <td>0.0</td>\n      <td>0.0</td>\n      <td>1.476552e-03</td>\n      <td>3.378934e-03</td>\n      <td>8.436653e-04</td>\n    </tr>\n    <tr>\n      <th>2464104881</th>\n      <td>0.0</td>\n      <td>0.0</td>\n      <td>2.228876e-05</td>\n      <td>0.0</td>\n      <td>2.147403e-16</td>\n      <td>0.0</td>\n      <td>0.646947</td>\n      <td>0.0</td>\n      <td>0.353030</td>\n      <td>0.000000</td>\n      <td>0.0</td>\n      <td>0.0</td>\n      <td>0.0</td>\n      <td>0.0</td>\n      <td>0.0</td>\n      <td>0.0</td>\n      <td>0.0</td>\n      <td>0.0</td>\n      <td>1.365321e-07</td>\n      <td>8.764695e-12</td>\n      <td>3.537046e-07</td>\n    </tr>\n    <tr>\n      <th>2464104885</th>\n      <td>0.0</td>\n      <td>0.0</td>\n      <td>2.163505e-05</td>\n      <td>0.0</td>\n      <td>2.084422e-16</td>\n      <td>0.0</td>\n      <td>0.627973</td>\n      <td>0.0</td>\n      <td>0.372005</td>\n      <td>0.000000</td>\n      <td>0.0</td>\n      <td>0.0</td>\n      <td>0.0</td>\n      <td>0.0</td>\n      <td>0.0</td>\n      <td>0.0</td>\n      <td>0.0</td>\n      <td>0.0</td>\n      <td>1.325277e-07</td>\n      <td>8.507634e-12</td>\n      <td>3.433307e-07</td>\n    </tr>\n  </tbody>\n</table>\n</div>"
     },
     "execution_count": 106,
     "metadata": {},
     "output_type": "execute_result"
    }
   ],
   "source": [
    "base_probs[0]"
   ],
   "metadata": {
    "collapsed": false,
    "pycharm": {
     "name": "#%%\n"
    }
   }
  },
  {
   "cell_type": "code",
   "execution_count": 100,
   "outputs": [
    {
     "name": "stderr",
     "output_type": "stream",
     "text": [
      "register joint_tour_participants: no rows with household_id in [982875].\n",
      "estimation bundle trip_mode_choice not in settings file estimation.yaml\n"
     ]
    },
    {
     "name": "stdout",
     "output_type": "stream",
     "text": [
      "Running with %d trips 482\n",
      "trip_mode_choice tour_type 'social' (10000 trips)\n",
      "Done\n"
     ]
    },
    {
     "data": {
      "text/plain": "                SHARED2FREE   SHARED3FREE          TAXI    TNC_SHARED  \\\nmode_share_obs     0.000022  2.084422e-16  1.325277e-07  3.433307e-07   \ntrip_mode          0.000000  0.000000e+00  0.000000e+00  0.000000e+00   \n\n                  TNC_SINGLE      WALK  WALK_LOC  \nmode_share_obs  8.507634e-12  0.627973  0.372005  \ntrip_mode       0.000000e+00  0.620900  0.379100  ",
      "text/html": "<div>\n<style scoped>\n    .dataframe tbody tr th:only-of-type {\n        vertical-align: middle;\n    }\n\n    .dataframe tbody tr th {\n        vertical-align: top;\n    }\n\n    .dataframe thead th {\n        text-align: right;\n    }\n</style>\n<table border=\"1\" class=\"dataframe\">\n  <thead>\n    <tr style=\"text-align: right;\">\n      <th></th>\n      <th>SHARED2FREE</th>\n      <th>SHARED3FREE</th>\n      <th>TAXI</th>\n      <th>TNC_SHARED</th>\n      <th>TNC_SINGLE</th>\n      <th>WALK</th>\n      <th>WALK_LOC</th>\n    </tr>\n  </thead>\n  <tbody>\n    <tr>\n      <th>mode_share_obs</th>\n      <td>0.000022</td>\n      <td>2.084422e-16</td>\n      <td>1.325277e-07</td>\n      <td>3.433307e-07</td>\n      <td>8.507634e-12</td>\n      <td>0.627973</td>\n      <td>0.372005</td>\n    </tr>\n    <tr>\n      <th>trip_mode</th>\n      <td>0.000000</td>\n      <td>0.000000e+00</td>\n      <td>0.000000e+00</td>\n      <td>0.000000e+00</td>\n      <td>0.000000e+00</td>\n      <td>0.620900</td>\n      <td>0.379100</td>\n    </tr>\n  </tbody>\n</table>\n</div>"
     },
     "metadata": {},
     "output_type": "display_data"
    }
   ],
   "source": [
    "choose_individual_max_utility = False\n",
    "num_samples = 10000\n",
    "trip_id_to_check = 2464104885\n",
    "ms_comp = comp_mode_shares(base_probs, choose_individual_max_utility, num_samples, trip_id_to_check)\n",
    "display(ms_comp.loc[((ms_comp.mode_share_obs != 0) | (ms_comp.trip_mode != 0)), [\"mode_share_obs\", \"trip_mode\"]].T)"
   ],
   "metadata": {
    "collapsed": false,
    "pycharm": {
     "name": "#%%\n"
    }
   }
  },
  {
   "cell_type": "code",
   "execution_count": 107,
   "id": "1fcdc0ff-c510-4878-8672-8365e046442c",
   "metadata": {
    "pycharm": {
     "name": "#%%\n"
    }
   },
   "outputs": [
    {
     "name": "stderr",
     "output_type": "stream",
     "text": [
      "register joint_tour_participants: no rows with household_id in [982875].\n",
      "estimation bundle trip_mode_choice not in settings file estimation.yaml\n"
     ]
    },
    {
     "name": "stdout",
     "output_type": "stream",
     "text": [
      "Running with %d trips 482\n",
      "trip_mode_choice tour_type 'social' (10000 trips)\n",
      "Done\n"
     ]
    },
    {
     "data": {
      "text/plain": "                SHARED2FREE   SHARED3FREE      TAXI  TNC_SHARED  TNC_SINGLE  \\\nmode_share_obs     0.016101  1.548643e-13  0.001499    0.000854    0.003359   \ntrip_mode          0.000000  0.000000e+00  0.000000    0.000000    0.000000   \n\n                    WALK  WALK_LOC  WALK_LRF  \nmode_share_obs  0.046835  0.144256  0.787096  \ntrip_mode       0.012600  0.223600  0.763800  ",
      "text/html": "<div>\n<style scoped>\n    .dataframe tbody tr th:only-of-type {\n        vertical-align: middle;\n    }\n\n    .dataframe tbody tr th {\n        vertical-align: top;\n    }\n\n    .dataframe thead th {\n        text-align: right;\n    }\n</style>\n<table border=\"1\" class=\"dataframe\">\n  <thead>\n    <tr style=\"text-align: right;\">\n      <th></th>\n      <th>SHARED2FREE</th>\n      <th>SHARED3FREE</th>\n      <th>TAXI</th>\n      <th>TNC_SHARED</th>\n      <th>TNC_SINGLE</th>\n      <th>WALK</th>\n      <th>WALK_LOC</th>\n      <th>WALK_LRF</th>\n    </tr>\n  </thead>\n  <tbody>\n    <tr>\n      <th>mode_share_obs</th>\n      <td>0.016101</td>\n      <td>1.548643e-13</td>\n      <td>0.001499</td>\n      <td>0.000854</td>\n      <td>0.003359</td>\n      <td>0.046835</td>\n      <td>0.144256</td>\n      <td>0.787096</td>\n    </tr>\n    <tr>\n      <th>trip_mode</th>\n      <td>0.000000</td>\n      <td>0.000000e+00</td>\n      <td>0.000000</td>\n      <td>0.000000</td>\n      <td>0.000000</td>\n      <td>0.012600</td>\n      <td>0.223600</td>\n      <td>0.763800</td>\n    </tr>\n  </tbody>\n</table>\n</div>"
     },
     "metadata": {},
     "output_type": "display_data"
    }
   ],
   "source": [
    "choose_individual_max_utility = True\n",
    "num_samples = 10000  # 1e5 takes about 25s\n",
    "trip_id_to_check = 1767182945 # 2464104885 # 642446345 # 1767182945\n",
    "ms_comp = comp_mode_shares(base_probs, choose_individual_max_utility, num_samples, trip_id_to_check)\n",
    "display(ms_comp.loc[((ms_comp.mode_share_obs != 0) | (ms_comp.trip_mode != 0)), [\"mode_share_obs\", \"trip_mode\"]].T)"
   ]
  },
  {
   "cell_type": "code",
   "execution_count": null,
   "outputs": [],
   "source": [],
   "metadata": {
    "collapsed": false,
    "pycharm": {
     "name": "#%%\n"
    }
   }
  }
 ],
 "metadata": {
  "kernelspec": {
   "display_name": "Python 3",
   "language": "python",
   "name": "python3"
  },
  "language_info": {
   "codemirror_mode": {
    "name": "ipython",
    "version": 3
   },
   "file_extension": ".py",
   "mimetype": "text/x-python",
   "name": "python",
   "nbconvert_exporter": "python",
   "pygments_lexer": "ipython3",
   "version": "3.8.2"
  }
 },
 "nbformat": 4,
 "nbformat_minor": 5
}