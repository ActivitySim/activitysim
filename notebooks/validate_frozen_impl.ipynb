{
 "cells": [
  {
   "cell_type": "markdown",
   "id": "7ece3567-e4b1-4c3f-a264-20625abb6ad7",
   "metadata": {},
   "source": [
    "# validate results"
   ]
  },
  {
   "cell_type": "code",
   "execution_count": 1,
   "id": "bd74ba44-0dfb-439a-a6ab-7ceedfc5f523",
   "metadata": {
    "execution": {
     "iopub.execute_input": "2022-05-01T10:17:57.385153Z",
     "iopub.status.busy": "2022-05-01T10:17:57.384881Z",
     "iopub.status.idle": "2022-05-01T10:17:57.534433Z",
     "shell.execute_reply": "2022-05-01T10:17:57.533096Z",
     "shell.execute_reply.started": "2022-05-01T10:17:57.385047Z"
    },
    "tags": []
   },
   "outputs": [],
   "source": [
    "%load_ext autoreload"
   ]
  },
  {
   "cell_type": "code",
   "execution_count": 2,
   "id": "c3dba451-1e10-403e-8614-35d57e6577f4",
   "metadata": {
    "execution": {
     "iopub.execute_input": "2022-05-01T10:17:57.536623Z",
     "iopub.status.busy": "2022-05-01T10:17:57.536012Z",
     "iopub.status.idle": "2022-05-01T10:17:57.542755Z",
     "shell.execute_reply": "2022-05-01T10:17:57.541685Z",
     "shell.execute_reply.started": "2022-05-01T10:17:57.536567Z"
    },
    "tags": []
   },
   "outputs": [],
   "source": [
    "%autoreload 2"
   ]
  },
  {
   "cell_type": "code",
   "execution_count": 3,
   "id": "73deaac4-e7ac-4aff-b086-4980dc6dd903",
   "metadata": {
    "execution": {
     "iopub.execute_input": "2022-05-01T10:18:00.350944Z",
     "iopub.status.busy": "2022-05-01T10:18:00.350730Z",
     "iopub.status.idle": "2022-05-01T10:18:12.760977Z",
     "shell.execute_reply": "2022-05-01T10:18:12.760013Z",
     "shell.execute_reply.started": "2022-05-01T10:18:00.350919Z"
    },
    "tags": []
   },
   "outputs": [],
   "source": [
    "import os\n",
    "import argparse\n",
    "from datetime import datetime\n",
    "\n",
    "import numpy as np\n",
    "import pandas as pd\n",
    "from numpy.random import default_rng\n",
    "\n",
    "from activitysim.cli import run\n",
    "from activitysim.core import inject\n",
    "from activitysim.core import tracing\n",
    "from activitysim.core import config\n",
    "from activitysim.core import pipeline\n",
    "from activitysim.core import chunk\n",
    "from activitysim.core import simulate\n",
    "from activitysim.core import logit\n",
    "from activitysim.abm.models.util import estimation\n",
    "from activitysim.core import expressions\n",
    "from activitysim.core.util import assign_in_place"
   ]
  },
  {
   "cell_type": "code",
   "execution_count": 4,
   "id": "7e553abd-fe0d-4cdc-aeb1-9dc80cb2757f",
   "metadata": {
    "execution": {
     "iopub.execute_input": "2022-05-01T10:18:16.944537Z",
     "iopub.status.busy": "2022-05-01T10:18:16.944291Z",
     "iopub.status.idle": "2022-05-01T10:18:17.124764Z",
     "shell.execute_reply": "2022-05-01T10:18:17.123725Z",
     "shell.execute_reply.started": "2022-05-01T10:18:16.944501Z"
    },
    "tags": []
   },
   "outputs": [],
   "source": [
    "pd.set_option(\"max_columns\", 500)"
   ]
  },
  {
   "cell_type": "code",
   "execution_count": 5,
   "id": "41fec4e8-a174-4e66-87d2-1e8c7979de90",
   "metadata": {
    "execution": {
     "iopub.execute_input": "2022-05-01T10:18:17.839947Z",
     "iopub.status.busy": "2022-05-01T10:18:17.839070Z",
     "iopub.status.idle": "2022-05-01T10:18:18.019676Z",
     "shell.execute_reply": "2022-05-01T10:18:18.018689Z",
     "shell.execute_reply.started": "2022-05-01T10:18:17.839911Z"
    },
    "tags": []
   },
   "outputs": [],
   "source": [
    "root_dir = \"/mnt/c/Users/jan.zill/code/activitysim\"\n",
    "example_dir = os.path.join(root_dir, \"test_example_mtc\")"
   ]
  },
  {
   "cell_type": "code",
   "execution_count": 6,
   "id": "2de710a2-d292-42f9-9d4a-4dcef1365506",
   "metadata": {
    "execution": {
     "iopub.execute_input": "2022-05-01T10:18:18.894533Z",
     "iopub.status.busy": "2022-05-01T10:18:18.894303Z",
     "iopub.status.idle": "2022-05-01T10:18:19.078807Z",
     "shell.execute_reply": "2022-05-01T10:18:19.077951Z",
     "shell.execute_reply.started": "2022-05-01T10:18:18.894508Z"
    },
    "tags": []
   },
   "outputs": [],
   "source": [
    "os.chdir(example_dir)"
   ]
  },
  {
   "cell_type": "code",
   "execution_count": 7,
   "id": "730be239-8704-4483-bbb8-ffae0f17c5d4",
   "metadata": {
    "execution": {
     "iopub.execute_input": "2022-05-01T10:18:22.111723Z",
     "iopub.status.busy": "2022-05-01T10:18:22.111490Z",
     "iopub.status.idle": "2022-05-01T10:18:22.297437Z",
     "shell.execute_reply": "2022-05-01T10:18:22.296501Z",
     "shell.execute_reply.started": "2022-05-01T10:18:22.111697Z"
    },
    "tags": []
   },
   "outputs": [],
   "source": [
    "parser = argparse.ArgumentParser()\n",
    "run.add_run_args(parser)\n",
    "# args = parser.parse_args()\n",
    "# parser.parse_args(['--sum', '7', '-1', '42'])\n",
    "args = parser.parse_args(['-c', 'configs', '-o', 'output', '-d', 'data'])\n",
    "#run.run(args)  # 2mins full example run\n",
    "if not inject.is_injectable('preload_injectables'):\n",
    "    from activitysim import abm  # register abm steps and other abm-specific injectables\n",
    "run.handle_standard_args(args)  # possibly update injectables"
   ]
  },
  {
   "cell_type": "code",
   "execution_count": 8,
   "id": "3ed520e9-75ef-4eec-ab86-6aaf1fe453fc",
   "metadata": {
    "execution": {
     "iopub.execute_input": "2021-09-01T02:28:53.643404Z",
     "iopub.status.busy": "2021-09-01T02:28:53.643055Z",
     "iopub.status.idle": "2021-09-01T02:29:01.223951Z",
     "shell.execute_reply": "2021-09-01T02:29:01.222865Z",
     "shell.execute_reply.started": "2021-09-01T02:28:53.643367Z"
    },
    "tags": []
   },
   "outputs": [
    {
     "name": "stderr",
     "output_type": "stream",
     "text": [
      "register joint_tour_participants: no rows with household_id in [982875].\n",
      "estimation bundle trip_mode_choice not in settings file estimation.yaml\n"
     ]
    },
    {
     "name": "stdout",
     "output_type": "stream",
     "text": [
      "Running with %d trips 482\n",
      "trip_mode_choice tour_type 'atwork' (27 trips)\n",
      "trip_mode_choice tour_type 'eatout' (33 trips)\n",
      "trip_mode_choice tour_type 'escort' (6 trips)\n",
      "trip_mode_choice tour_type 'othdiscr' (43 trips)\n",
      "trip_mode_choice tour_type 'othmaint' (46 trips)\n",
      "trip_mode_choice tour_type 'school' (37 trips)\n",
      "trip_mode_choice tour_type 'shopping' (77 trips)\n",
      "trip_mode_choice tour_type 'social' (19 trips)\n",
      "trip_mode_choice tour_type 'univ' (26 trips)\n",
      "trip_mode_choice tour_type 'work' (168 trips)\n"
     ]
    },
    {
     "name": "stderr",
     "output_type": "stream",
     "text": [
      "register joint_tour_participants: no rows with household_id in [982875].\n"
     ]
    },
    {
     "name": "stdout",
     "output_type": "stream",
     "text": [
      "Done\n",
      "Running with %d trips 482\n"
     ]
    },
    {
     "name": "stderr",
     "output_type": "stream",
     "text": [
      "estimation bundle trip_mode_choice not in settings file estimation.yaml\n"
     ]
    },
    {
     "name": "stdout",
     "output_type": "stream",
     "text": [
      "trip_mode_choice tour_type 'atwork' (27 trips)\n",
      "trip_mode_choice tour_type 'eatout' (33 trips)\n",
      "trip_mode_choice tour_type 'escort' (6 trips)\n",
      "trip_mode_choice tour_type 'othdiscr' (43 trips)\n",
      "trip_mode_choice tour_type 'othmaint' (46 trips)\n",
      "trip_mode_choice tour_type 'school' (37 trips)\n",
      "trip_mode_choice tour_type 'shopping' (77 trips)\n",
      "trip_mode_choice tour_type 'social' (19 trips)\n",
      "trip_mode_choice tour_type 'univ' (26 trips)\n",
      "trip_mode_choice tour_type 'work' (168 trips)\n",
      "Done\n"
     ]
    }
   ],
   "source": [
    "from fru_utils import run_trip_mode_choice\n",
    "trips_df_ru = run_trip_mode_choice()\n",
    "trips_df = run_trip_mode_choice(choose_individual_max_utility=False)"
   ]
  },
  {
   "cell_type": "code",
   "execution_count": 9,
   "outputs": [
    {
     "data": {
      "text/plain": "                trip_mode_fru  trip_mode_asim\nWALK                      299             304\nWALK_LOC                   92              85\nWALK_LRF                   61              53\nBIKE                       17              17\nDRIVEALONEFREE              6               4\nSHARED2FREE                 3               4\nTNC_SINGLE                  2               4\nWALK_HVY                    2               4",
      "text/html": "<div>\n<style scoped>\n    .dataframe tbody tr th:only-of-type {\n        vertical-align: middle;\n    }\n\n    .dataframe tbody tr th {\n        vertical-align: top;\n    }\n\n    .dataframe thead th {\n        text-align: right;\n    }\n</style>\n<table border=\"1\" class=\"dataframe\">\n  <thead>\n    <tr style=\"text-align: right;\">\n      <th></th>\n      <th>trip_mode_fru</th>\n      <th>trip_mode_asim</th>\n    </tr>\n  </thead>\n  <tbody>\n    <tr>\n      <th>WALK</th>\n      <td>299</td>\n      <td>304</td>\n    </tr>\n    <tr>\n      <th>WALK_LOC</th>\n      <td>92</td>\n      <td>85</td>\n    </tr>\n    <tr>\n      <th>WALK_LRF</th>\n      <td>61</td>\n      <td>53</td>\n    </tr>\n    <tr>\n      <th>BIKE</th>\n      <td>17</td>\n      <td>17</td>\n    </tr>\n    <tr>\n      <th>DRIVEALONEFREE</th>\n      <td>6</td>\n      <td>4</td>\n    </tr>\n    <tr>\n      <th>SHARED2FREE</th>\n      <td>3</td>\n      <td>4</td>\n    </tr>\n    <tr>\n      <th>TNC_SINGLE</th>\n      <td>2</td>\n      <td>4</td>\n    </tr>\n    <tr>\n      <th>WALK_HVY</th>\n      <td>2</td>\n      <td>4</td>\n    </tr>\n  </tbody>\n</table>\n</div>"
     },
     "execution_count": 9,
     "metadata": {},
     "output_type": "execute_result"
    }
   ],
   "source": [
    "c_ = [\"trip_mode\", \"mode_choice_logsum\"]\n",
    "trips = trips_df_ru[c_].merge(trips_df[c_], left_index=True, right_index=True, how=\"outer\", suffixes=[\"_fru\", \"_asim\"])\n",
    "pd.merge(trips_df_ru.trip_mode.value_counts(), trips_df.trip_mode.value_counts(), left_index=True, right_index=True,\n",
    "         suffixes=[\"_fru\", \"_asim\"])"
   ],
   "metadata": {
    "collapsed": false,
    "pycharm": {
     "name": "#%%\n"
    }
   }
  },
  {
   "cell_type": "code",
   "execution_count": 10,
   "outputs": [
    {
     "name": "stdout",
     "output_type": "stream",
     "text": [
      "Logsums agree\n"
     ]
    }
   ],
   "source": [
    "if np.allclose(trips.mode_choice_logsum_fru, trips.mode_choice_logsum_asim):\n",
    "    print(\"Logsums agree\")\n",
    "else:\n",
    "    ((trips.mode_choice_logsum_fru - trips.mode_choice_logsum_asim) / trips.mode_choice_logsum_fru).hist(bins=50)"
   ],
   "metadata": {
    "collapsed": false,
    "pycharm": {
     "name": "#%%\n"
    }
   }
  },
  {
   "cell_type": "code",
   "execution_count": 10,
   "outputs": [],
   "source": [],
   "metadata": {
    "collapsed": false,
    "pycharm": {
     "name": "#%%\n"
    }
   }
  },
  {
   "cell_type": "code",
   "execution_count": 10,
   "outputs": [],
   "source": [],
   "metadata": {
    "collapsed": false,
    "pycharm": {
     "name": "#%%\n"
    }
   }
  },
  {
   "cell_type": "markdown",
   "source": [
    "# Run MC validation\n",
    "\n",
    "see logit._each_nest parent_nest_scale for leaf node, and simulate.compute_nested_utilities for discussion of scales\n",
    "of alternatives\n",
    "\n",
    "easiest way is to run a simulation"
   ],
   "metadata": {
    "collapsed": false,
    "pycharm": {
     "name": "#%% md\n"
    }
   }
  },
  {
   "cell_type": "code",
   "execution_count": 11,
   "outputs": [
    {
     "name": "stderr",
     "output_type": "stream",
     "text": [
      "register joint_tour_participants: no rows with household_id in [982875].\n",
      "estimation bundle trip_mode_choice not in settings file estimation.yaml\n"
     ]
    },
    {
     "name": "stdout",
     "output_type": "stream",
     "text": [
      "Running with %d trips 482\n",
      "trip_mode_choice tour_type 'social' (19 trips)\n",
      "Done\n"
     ]
    }
   ],
   "source": [
    "from fru_utils import get_stuff\n",
    "t, ru, neu, nu, ns, nested_probs, base_probs = get_stuff(do_these_purposes=[\"social\"])"
   ],
   "metadata": {
    "collapsed": false,
    "pycharm": {
     "name": "#%%\n"
    }
   }
  },
  {
   "cell_type": "code",
   "execution_count": 12,
   "outputs": [
    {
     "data": {
      "text/plain": "            DRIVEALONEFREE  DRIVEALONEPAY   SHARED2FREE  SHARED2PAY  \\\ntrip_id                                                               \n8805121                0.0            0.0  0.000000e+00         0.0   \n8805125                0.0            0.0  0.000000e+00         0.0   \n8805126                0.0            0.0  0.000000e+00         0.0   \n468119921              0.0            0.0  0.000000e+00         0.0   \n468119922              0.0            0.0  0.000000e+00         0.0   \n468119925              0.0            0.0  0.000000e+00         0.0   \n468119926              0.0            0.0  0.000000e+00         0.0   \n468119927              0.0            0.0  0.000000e+00         0.0   \n468119928              0.0            0.0  0.000000e+00         0.0   \n642446345              0.0            0.0  4.882838e-03         0.0   \n642446349              0.0            0.0  3.622165e-03         0.0   \n1179608009             0.0            0.0  5.572746e-05         0.0   \n1179608013             0.0            0.0  1.108122e-05         0.0   \n1658807153             0.0            0.0  4.252415e-07         0.0   \n1658807157             0.0            0.0  5.038020e-07         0.0   \n1767182945             0.0            0.0  1.610090e-02         0.0   \n1767182949             0.0            0.0  1.540381e-02         0.0   \n2464104881             0.0            0.0  2.228876e-05         0.0   \n2464104885             0.0            0.0  2.163505e-05         0.0   \n\n             SHARED3FREE  SHARED3PAY      WALK  BIKE  WALK_LOC  WALK_LRF  \\\ntrip_id                                                                    \n8805121     0.000000e+00         0.0  1.000000   0.0  0.000000  0.000000   \n8805125     0.000000e+00         0.0  1.000000   0.0  0.000000  0.000000   \n8805126     0.000000e+00         0.0  1.000000   0.0  0.000000  0.000000   \n468119921   0.000000e+00         0.0  1.000000   0.0  0.000000  0.000000   \n468119922   0.000000e+00         0.0  0.999874   0.0  0.000000  0.000000   \n468119925   0.000000e+00         0.0  0.999875   0.0  0.000000  0.000000   \n468119926   0.000000e+00         0.0  1.000000   0.0  0.000000  0.000000   \n468119927   0.000000e+00         0.0  1.000000   0.0  0.000000  0.000000   \n468119928   0.000000e+00         0.0  1.000000   0.0  0.000000  0.000000   \n642446345   4.701403e-14         0.0  0.044905   0.0  0.059962  0.889736   \n642446349   3.950582e-14         0.0  0.043359   0.0  0.068362  0.884144   \n1179608009  1.964682e-05         0.0  0.969538   0.0  0.000000  0.000000   \n1179608013  7.469124e-06         0.0  0.969598   0.0  0.000000  0.000000   \n1658807153  1.499257e-07         0.0  0.048044   0.0  0.951445  0.000000   \n1658807157  1.907576e-07         0.0  0.065847   0.0  0.933430  0.000000   \n1767182945  1.548643e-13         0.0  0.046835   0.0  0.144256  0.787096   \n1767182949  1.509357e-13         0.0  0.041767   0.0  0.141232  0.795898   \n2464104881  2.147403e-16         0.0  0.646947   0.0  0.353030  0.000000   \n2464104885  2.084422e-16         0.0  0.627973   0.0  0.372005  0.000000   \n\n            WALK_EXP  WALK_HVY  WALK_COM  DRIVE_LOC  DRIVE_LRF  DRIVE_EXP  \\\ntrip_id                                                                     \n8805121          0.0       0.0       0.0        0.0        0.0        0.0   \n8805125          0.0       0.0       0.0        0.0        0.0        0.0   \n8805126          0.0       0.0       0.0        0.0        0.0        0.0   \n468119921        0.0       0.0       0.0        0.0        0.0        0.0   \n468119922        0.0       0.0       0.0        0.0        0.0        0.0   \n468119925        0.0       0.0       0.0        0.0        0.0        0.0   \n468119926        0.0       0.0       0.0        0.0        0.0        0.0   \n468119927        0.0       0.0       0.0        0.0        0.0        0.0   \n468119928        0.0       0.0       0.0        0.0        0.0        0.0   \n642446345        0.0       0.0       0.0        0.0        0.0        0.0   \n642446349        0.0       0.0       0.0        0.0        0.0        0.0   \n1179608009       0.0       0.0       0.0        0.0        0.0        0.0   \n1179608013       0.0       0.0       0.0        0.0        0.0        0.0   \n1658807153       0.0       0.0       0.0        0.0        0.0        0.0   \n1658807157       0.0       0.0       0.0        0.0        0.0        0.0   \n1767182945       0.0       0.0       0.0        0.0        0.0        0.0   \n1767182949       0.0       0.0       0.0        0.0        0.0        0.0   \n2464104881       0.0       0.0       0.0        0.0        0.0        0.0   \n2464104885       0.0       0.0       0.0        0.0        0.0        0.0   \n\n            DRIVE_HVY  DRIVE_COM          TAXI    TNC_SINGLE    TNC_SHARED  \ntrip_id                                                                     \n8805121           0.0        0.0  4.266799e-08  7.843494e-08  2.071998e-08  \n8805125           0.0        0.0  4.057327e-08  7.325707e-08  1.950799e-08  \n8805126           0.0        0.0  4.864169e-08  9.376443e-08  2.428075e-08  \n468119921         0.0        0.0  1.096638e-08  2.754998e-10  4.051502e-08  \n468119922         0.0        0.0  2.658716e-05  6.599176e-07  9.832967e-05  \n468119925         0.0        0.0  2.651144e-05  6.601311e-07  9.831370e-05  \n468119926         0.0        0.0  1.568041e-08  2.408144e-10  3.615344e-08  \n468119927         0.0        0.0  5.308505e-08  1.315547e-10  2.041405e-08  \n468119928         0.0        0.0  2.367465e-09  1.493582e-10  1.939597e-08  \n642446345         0.0        0.0  9.610763e-05  1.307549e-04  2.867554e-04  \n642446349         0.0        0.0  9.293281e-05  1.316643e-04  2.885385e-04  \n1179608009        0.0        0.0  5.225133e-06  2.766547e-02  2.716407e-03  \n1179608013        0.0        0.0  5.222635e-06  2.766274e-02  2.715479e-03  \n1658807153        0.0        0.0  7.091296e-08  4.695006e-04  4.115873e-05  \n1658807157        0.0        0.0  9.574501e-08  6.645671e-04  5.801899e-05  \n1767182945        0.0        0.0  1.498950e-03  3.358768e-03  8.536317e-04  \n1767182949        0.0        0.0  1.476552e-03  3.378934e-03  8.436653e-04  \n2464104881        0.0        0.0  1.365321e-07  8.764695e-12  3.537046e-07  \n2464104885        0.0        0.0  1.325277e-07  8.507634e-12  3.433307e-07  ",
      "text/html": "<div>\n<style scoped>\n    .dataframe tbody tr th:only-of-type {\n        vertical-align: middle;\n    }\n\n    .dataframe tbody tr th {\n        vertical-align: top;\n    }\n\n    .dataframe thead th {\n        text-align: right;\n    }\n</style>\n<table border=\"1\" class=\"dataframe\">\n  <thead>\n    <tr style=\"text-align: right;\">\n      <th></th>\n      <th>DRIVEALONEFREE</th>\n      <th>DRIVEALONEPAY</th>\n      <th>SHARED2FREE</th>\n      <th>SHARED2PAY</th>\n      <th>SHARED3FREE</th>\n      <th>SHARED3PAY</th>\n      <th>WALK</th>\n      <th>BIKE</th>\n      <th>WALK_LOC</th>\n      <th>WALK_LRF</th>\n      <th>WALK_EXP</th>\n      <th>WALK_HVY</th>\n      <th>WALK_COM</th>\n      <th>DRIVE_LOC</th>\n      <th>DRIVE_LRF</th>\n      <th>DRIVE_EXP</th>\n      <th>DRIVE_HVY</th>\n      <th>DRIVE_COM</th>\n      <th>TAXI</th>\n      <th>TNC_SINGLE</th>\n      <th>TNC_SHARED</th>\n    </tr>\n    <tr>\n      <th>trip_id</th>\n      <th></th>\n      <th></th>\n      <th></th>\n      <th></th>\n      <th></th>\n      <th></th>\n      <th></th>\n      <th></th>\n      <th></th>\n      <th></th>\n      <th></th>\n      <th></th>\n      <th></th>\n      <th></th>\n      <th></th>\n      <th></th>\n      <th></th>\n      <th></th>\n      <th></th>\n      <th></th>\n      <th></th>\n    </tr>\n  </thead>\n  <tbody>\n    <tr>\n      <th>8805121</th>\n      <td>0.0</td>\n      <td>0.0</td>\n      <td>0.000000e+00</td>\n      <td>0.0</td>\n      <td>0.000000e+00</td>\n      <td>0.0</td>\n      <td>1.000000</td>\n      <td>0.0</td>\n      <td>0.000000</td>\n      <td>0.000000</td>\n      <td>0.0</td>\n      <td>0.0</td>\n      <td>0.0</td>\n      <td>0.0</td>\n      <td>0.0</td>\n      <td>0.0</td>\n      <td>0.0</td>\n      <td>0.0</td>\n      <td>4.266799e-08</td>\n      <td>7.843494e-08</td>\n      <td>2.071998e-08</td>\n    </tr>\n    <tr>\n      <th>8805125</th>\n      <td>0.0</td>\n      <td>0.0</td>\n      <td>0.000000e+00</td>\n      <td>0.0</td>\n      <td>0.000000e+00</td>\n      <td>0.0</td>\n      <td>1.000000</td>\n      <td>0.0</td>\n      <td>0.000000</td>\n      <td>0.000000</td>\n      <td>0.0</td>\n      <td>0.0</td>\n      <td>0.0</td>\n      <td>0.0</td>\n      <td>0.0</td>\n      <td>0.0</td>\n      <td>0.0</td>\n      <td>0.0</td>\n      <td>4.057327e-08</td>\n      <td>7.325707e-08</td>\n      <td>1.950799e-08</td>\n    </tr>\n    <tr>\n      <th>8805126</th>\n      <td>0.0</td>\n      <td>0.0</td>\n      <td>0.000000e+00</td>\n      <td>0.0</td>\n      <td>0.000000e+00</td>\n      <td>0.0</td>\n      <td>1.000000</td>\n      <td>0.0</td>\n      <td>0.000000</td>\n      <td>0.000000</td>\n      <td>0.0</td>\n      <td>0.0</td>\n      <td>0.0</td>\n      <td>0.0</td>\n      <td>0.0</td>\n      <td>0.0</td>\n      <td>0.0</td>\n      <td>0.0</td>\n      <td>4.864169e-08</td>\n      <td>9.376443e-08</td>\n      <td>2.428075e-08</td>\n    </tr>\n    <tr>\n      <th>468119921</th>\n      <td>0.0</td>\n      <td>0.0</td>\n      <td>0.000000e+00</td>\n      <td>0.0</td>\n      <td>0.000000e+00</td>\n      <td>0.0</td>\n      <td>1.000000</td>\n      <td>0.0</td>\n      <td>0.000000</td>\n      <td>0.000000</td>\n      <td>0.0</td>\n      <td>0.0</td>\n      <td>0.0</td>\n      <td>0.0</td>\n      <td>0.0</td>\n      <td>0.0</td>\n      <td>0.0</td>\n      <td>0.0</td>\n      <td>1.096638e-08</td>\n      <td>2.754998e-10</td>\n      <td>4.051502e-08</td>\n    </tr>\n    <tr>\n      <th>468119922</th>\n      <td>0.0</td>\n      <td>0.0</td>\n      <td>0.000000e+00</td>\n      <td>0.0</td>\n      <td>0.000000e+00</td>\n      <td>0.0</td>\n      <td>0.999874</td>\n      <td>0.0</td>\n      <td>0.000000</td>\n      <td>0.000000</td>\n      <td>0.0</td>\n      <td>0.0</td>\n      <td>0.0</td>\n      <td>0.0</td>\n      <td>0.0</td>\n      <td>0.0</td>\n      <td>0.0</td>\n      <td>0.0</td>\n      <td>2.658716e-05</td>\n      <td>6.599176e-07</td>\n      <td>9.832967e-05</td>\n    </tr>\n    <tr>\n      <th>468119925</th>\n      <td>0.0</td>\n      <td>0.0</td>\n      <td>0.000000e+00</td>\n      <td>0.0</td>\n      <td>0.000000e+00</td>\n      <td>0.0</td>\n      <td>0.999875</td>\n      <td>0.0</td>\n      <td>0.000000</td>\n      <td>0.000000</td>\n      <td>0.0</td>\n      <td>0.0</td>\n      <td>0.0</td>\n      <td>0.0</td>\n      <td>0.0</td>\n      <td>0.0</td>\n      <td>0.0</td>\n      <td>0.0</td>\n      <td>2.651144e-05</td>\n      <td>6.601311e-07</td>\n      <td>9.831370e-05</td>\n    </tr>\n    <tr>\n      <th>468119926</th>\n      <td>0.0</td>\n      <td>0.0</td>\n      <td>0.000000e+00</td>\n      <td>0.0</td>\n      <td>0.000000e+00</td>\n      <td>0.0</td>\n      <td>1.000000</td>\n      <td>0.0</td>\n      <td>0.000000</td>\n      <td>0.000000</td>\n      <td>0.0</td>\n      <td>0.0</td>\n      <td>0.0</td>\n      <td>0.0</td>\n      <td>0.0</td>\n      <td>0.0</td>\n      <td>0.0</td>\n      <td>0.0</td>\n      <td>1.568041e-08</td>\n      <td>2.408144e-10</td>\n      <td>3.615344e-08</td>\n    </tr>\n    <tr>\n      <th>468119927</th>\n      <td>0.0</td>\n      <td>0.0</td>\n      <td>0.000000e+00</td>\n      <td>0.0</td>\n      <td>0.000000e+00</td>\n      <td>0.0</td>\n      <td>1.000000</td>\n      <td>0.0</td>\n      <td>0.000000</td>\n      <td>0.000000</td>\n      <td>0.0</td>\n      <td>0.0</td>\n      <td>0.0</td>\n      <td>0.0</td>\n      <td>0.0</td>\n      <td>0.0</td>\n      <td>0.0</td>\n      <td>0.0</td>\n      <td>5.308505e-08</td>\n      <td>1.315547e-10</td>\n      <td>2.041405e-08</td>\n    </tr>\n    <tr>\n      <th>468119928</th>\n      <td>0.0</td>\n      <td>0.0</td>\n      <td>0.000000e+00</td>\n      <td>0.0</td>\n      <td>0.000000e+00</td>\n      <td>0.0</td>\n      <td>1.000000</td>\n      <td>0.0</td>\n      <td>0.000000</td>\n      <td>0.000000</td>\n      <td>0.0</td>\n      <td>0.0</td>\n      <td>0.0</td>\n      <td>0.0</td>\n      <td>0.0</td>\n      <td>0.0</td>\n      <td>0.0</td>\n      <td>0.0</td>\n      <td>2.367465e-09</td>\n      <td>1.493582e-10</td>\n      <td>1.939597e-08</td>\n    </tr>\n    <tr>\n      <th>642446345</th>\n      <td>0.0</td>\n      <td>0.0</td>\n      <td>4.882838e-03</td>\n      <td>0.0</td>\n      <td>4.701403e-14</td>\n      <td>0.0</td>\n      <td>0.044905</td>\n      <td>0.0</td>\n      <td>0.059962</td>\n      <td>0.889736</td>\n      <td>0.0</td>\n      <td>0.0</td>\n      <td>0.0</td>\n      <td>0.0</td>\n      <td>0.0</td>\n      <td>0.0</td>\n      <td>0.0</td>\n      <td>0.0</td>\n      <td>9.610763e-05</td>\n      <td>1.307549e-04</td>\n      <td>2.867554e-04</td>\n    </tr>\n    <tr>\n      <th>642446349</th>\n      <td>0.0</td>\n      <td>0.0</td>\n      <td>3.622165e-03</td>\n      <td>0.0</td>\n      <td>3.950582e-14</td>\n      <td>0.0</td>\n      <td>0.043359</td>\n      <td>0.0</td>\n      <td>0.068362</td>\n      <td>0.884144</td>\n      <td>0.0</td>\n      <td>0.0</td>\n      <td>0.0</td>\n      <td>0.0</td>\n      <td>0.0</td>\n      <td>0.0</td>\n      <td>0.0</td>\n      <td>0.0</td>\n      <td>9.293281e-05</td>\n      <td>1.316643e-04</td>\n      <td>2.885385e-04</td>\n    </tr>\n    <tr>\n      <th>1179608009</th>\n      <td>0.0</td>\n      <td>0.0</td>\n      <td>5.572746e-05</td>\n      <td>0.0</td>\n      <td>1.964682e-05</td>\n      <td>0.0</td>\n      <td>0.969538</td>\n      <td>0.0</td>\n      <td>0.000000</td>\n      <td>0.000000</td>\n      <td>0.0</td>\n      <td>0.0</td>\n      <td>0.0</td>\n      <td>0.0</td>\n      <td>0.0</td>\n      <td>0.0</td>\n      <td>0.0</td>\n      <td>0.0</td>\n      <td>5.225133e-06</td>\n      <td>2.766547e-02</td>\n      <td>2.716407e-03</td>\n    </tr>\n    <tr>\n      <th>1179608013</th>\n      <td>0.0</td>\n      <td>0.0</td>\n      <td>1.108122e-05</td>\n      <td>0.0</td>\n      <td>7.469124e-06</td>\n      <td>0.0</td>\n      <td>0.969598</td>\n      <td>0.0</td>\n      <td>0.000000</td>\n      <td>0.000000</td>\n      <td>0.0</td>\n      <td>0.0</td>\n      <td>0.0</td>\n      <td>0.0</td>\n      <td>0.0</td>\n      <td>0.0</td>\n      <td>0.0</td>\n      <td>0.0</td>\n      <td>5.222635e-06</td>\n      <td>2.766274e-02</td>\n      <td>2.715479e-03</td>\n    </tr>\n    <tr>\n      <th>1658807153</th>\n      <td>0.0</td>\n      <td>0.0</td>\n      <td>4.252415e-07</td>\n      <td>0.0</td>\n      <td>1.499257e-07</td>\n      <td>0.0</td>\n      <td>0.048044</td>\n      <td>0.0</td>\n      <td>0.951445</td>\n      <td>0.000000</td>\n      <td>0.0</td>\n      <td>0.0</td>\n      <td>0.0</td>\n      <td>0.0</td>\n      <td>0.0</td>\n      <td>0.0</td>\n      <td>0.0</td>\n      <td>0.0</td>\n      <td>7.091296e-08</td>\n      <td>4.695006e-04</td>\n      <td>4.115873e-05</td>\n    </tr>\n    <tr>\n      <th>1658807157</th>\n      <td>0.0</td>\n      <td>0.0</td>\n      <td>5.038020e-07</td>\n      <td>0.0</td>\n      <td>1.907576e-07</td>\n      <td>0.0</td>\n      <td>0.065847</td>\n      <td>0.0</td>\n      <td>0.933430</td>\n      <td>0.000000</td>\n      <td>0.0</td>\n      <td>0.0</td>\n      <td>0.0</td>\n      <td>0.0</td>\n      <td>0.0</td>\n      <td>0.0</td>\n      <td>0.0</td>\n      <td>0.0</td>\n      <td>9.574501e-08</td>\n      <td>6.645671e-04</td>\n      <td>5.801899e-05</td>\n    </tr>\n    <tr>\n      <th>1767182945</th>\n      <td>0.0</td>\n      <td>0.0</td>\n      <td>1.610090e-02</td>\n      <td>0.0</td>\n      <td>1.548643e-13</td>\n      <td>0.0</td>\n      <td>0.046835</td>\n      <td>0.0</td>\n      <td>0.144256</td>\n      <td>0.787096</td>\n      <td>0.0</td>\n      <td>0.0</td>\n      <td>0.0</td>\n      <td>0.0</td>\n      <td>0.0</td>\n      <td>0.0</td>\n      <td>0.0</td>\n      <td>0.0</td>\n      <td>1.498950e-03</td>\n      <td>3.358768e-03</td>\n      <td>8.536317e-04</td>\n    </tr>\n    <tr>\n      <th>1767182949</th>\n      <td>0.0</td>\n      <td>0.0</td>\n      <td>1.540381e-02</td>\n      <td>0.0</td>\n      <td>1.509357e-13</td>\n      <td>0.0</td>\n      <td>0.041767</td>\n      <td>0.0</td>\n      <td>0.141232</td>\n      <td>0.795898</td>\n      <td>0.0</td>\n      <td>0.0</td>\n      <td>0.0</td>\n      <td>0.0</td>\n      <td>0.0</td>\n      <td>0.0</td>\n      <td>0.0</td>\n      <td>0.0</td>\n      <td>1.476552e-03</td>\n      <td>3.378934e-03</td>\n      <td>8.436653e-04</td>\n    </tr>\n    <tr>\n      <th>2464104881</th>\n      <td>0.0</td>\n      <td>0.0</td>\n      <td>2.228876e-05</td>\n      <td>0.0</td>\n      <td>2.147403e-16</td>\n      <td>0.0</td>\n      <td>0.646947</td>\n      <td>0.0</td>\n      <td>0.353030</td>\n      <td>0.000000</td>\n      <td>0.0</td>\n      <td>0.0</td>\n      <td>0.0</td>\n      <td>0.0</td>\n      <td>0.0</td>\n      <td>0.0</td>\n      <td>0.0</td>\n      <td>0.0</td>\n      <td>1.365321e-07</td>\n      <td>8.764695e-12</td>\n      <td>3.537046e-07</td>\n    </tr>\n    <tr>\n      <th>2464104885</th>\n      <td>0.0</td>\n      <td>0.0</td>\n      <td>2.163505e-05</td>\n      <td>0.0</td>\n      <td>2.084422e-16</td>\n      <td>0.0</td>\n      <td>0.627973</td>\n      <td>0.0</td>\n      <td>0.372005</td>\n      <td>0.000000</td>\n      <td>0.0</td>\n      <td>0.0</td>\n      <td>0.0</td>\n      <td>0.0</td>\n      <td>0.0</td>\n      <td>0.0</td>\n      <td>0.0</td>\n      <td>0.0</td>\n      <td>1.325277e-07</td>\n      <td>8.507634e-12</td>\n      <td>3.433307e-07</td>\n    </tr>\n  </tbody>\n</table>\n</div>"
     },
     "execution_count": 12,
     "metadata": {},
     "output_type": "execute_result"
    }
   ],
   "source": [
    "# nested_probs[0] - these are relative in each nest, so the full probs are potentially just the product of these\n",
    "base_probs[0]"
   ],
   "metadata": {
    "collapsed": false,
    "pycharm": {
     "name": "#%%\n"
    }
   }
  },
  {
   "cell_type": "code",
   "execution_count": 13,
   "outputs": [],
   "source": [
    "# for later: this seems to be a non-driving segment - grab workers or something later?\n",
    "# for now: implement a run with seeding so I can reproduce these counts\n",
    "\n",
    "# actually, can I manipulate pipeline OR inject table dynamically? If I reproduce a single observation many times we\n",
    "# can check mode shares\n",
    "# 1) check tests\n",
    "# 2) check code in mode choice, maybe duplicate here, see old code below"
   ],
   "metadata": {
    "collapsed": false,
    "pycharm": {
     "name": "#%%\n"
    }
   }
  },
  {
   "cell_type": "markdown",
   "source": [],
   "metadata": {
    "collapsed": false
   }
  },
  {
   "cell_type": "code",
   "execution_count": 70,
   "outputs": [
    {
     "data": {
      "text/plain": "array([   8684833,    8684837,    8685009,    8685013,    8753057,\n          8753061,    8753233,    8753237,    8805121,    8805125,\n          8805126,    9094329,    9094333,    9717265,    9717269,\n         35302033,   35302037,   36757193,   36757197,   36757257,\n         36757261,   86627409,   86627413,   86627625,   86627629,\n         86673657,   86673658,   86673659,   86673660,   86673661,\n        106170305,  106170309,  106289041,  106289045,  106289089,\n        106289090,  106289091,  106289092,  106289093,  106289369,\n        106289373,  106570377,  106570381,  106570382,  106570383,\n        106570465,  106570469,  106741681,  106741682,  106741685,\n        106741686,  106741687,  106741688,  106741961,  106741965,\n        106804593,  106804597,  106804598,  106804657,  106804661,\n        106804662,  106804663,  106804985,  106804989,  126610345,\n        126610349,  126610561,  126610565,  126610566,  126610673,\n        126610677,  126610873,  126610877,  126628233,  126628237,\n        126628585,  126628589,  137248721,  137248725,  137248873,\n        137248877,  137248961,  137248965,  137249225,  137249229,\n        195385257,  195385261,  211327433,  211327437,  211327673,\n        211327677,  211327761,  211327765,  211328025,  211328029,\n        211328030,  211388201,  211388205,  211388329,  211388333,\n        211388353,  211388357,  211388441,  211388445,  211388721,\n        211388725,  211389033,  211389037,  414508737,  414508741,\n        415214745,  415214749,  415556913,  415556917,  444793569,\n        444793573,  444793574,  444853217,  444853221,  444853265,\n        444853269,  444928617,  444928621,  467399281,  467399285,\n        468119569,  468119573,  468119857,  468119861,  468119921,\n        468119922,  468119925,  468119926,  468119927,  468119928,\n        484173817,  484173821,  484173905,  484173909,  484174185,\n        484174189,  515832417,  515832418,  515832419,  515832421,\n        515832422,  515832423,  515921265,  515921266,  515921269,\n        515921305,  515921309,  535170409,  535170413,  535170689,\n        535170693,  535170694,  535377657,  535377661,  535388201,\n        535388202,  535388205,  535388481,  535388485,  535620049,\n        535620053,  535672921,  535672925,  535694417,  535694421,\n        535694457,  535694461,  535694465,  535694466,  535694469,\n        581959169,  581959170,  581959171,  581959172,  581959173,\n        581959174,  581959561,  581959565,  615236801,  615236805,\n        615236865,  615236866,  615236869,  615350289,  615350293,\n        615350553,  615350557,  615350558,  615350617,  615350621,\n        642446345,  642446349,  642446633,  642446637,  708171009,\n        708171013,  708171014,  708171273,  708171277,  708171601,\n        708171605,  728159001,  728159005,  728159049,  728159053,\n        728159329,  728159333,  728159569,  728159573,  728159593,\n        728159597,  806388153,  806388157,  806388225,  806388229,\n        806388401,  806388405,  806388905,  806388906,  806388909,\n        806389233,  806389237,  841877257,  841877261,  841877849,\n        841877853,  841878177,  841878181,  841878505,  841878509,\n        841878510,  943749401,  943749405,  943749465,  943749469,\n        943749470,  943749471,  943750385,  943750389,  963188601,\n        963188605,  963188665,  963188669,  963285425,  963285426,\n        963285427,  963285429,  963285433,  963285437,  963285438,\n        963285439,  963286193,  963286197,  963286345,  963286346,\n        963286349,  969957321,  969957325, 1004301497, 1004301501,\n       1004301761, 1004301765, 1004301785, 1004301789, 1004301873,\n       1004301877, 1045822217, 1045822221, 1045822409, 1045822410,\n       1045822413, 1045822737, 1045822741, 1045823001, 1045823005,\n       1045823006, 1045823007, 1045823065, 1045823069, 1045823393,\n       1045823394, 1045823397, 1045823398, 1060575737, 1060575741,\n       1060575801, 1060575805, 1060575809, 1060575813, 1060575849,\n       1060575853, 1091733225, 1091733229, 1091770617, 1091770621,\n       1091770681, 1091770685, 1091770897, 1091770898, 1091770901,\n       1146269081, 1146269085, 1146269345, 1146269349, 1146269369,\n       1146269373, 1146269374, 1146269375, 1146269376, 1146386553,\n       1146386557, 1146386561, 1146386565, 1146386881, 1146386885,\n       1146472377, 1146472381, 1146472489, 1146472493, 1146472537,\n       1146472538, 1146472539, 1146472540, 1146472541, 1146472817,\n       1146472821, 1179607441, 1179607445, 1179607657, 1179607661,\n       1179607662, 1179607663, 1179608009, 1179608013, 1276281769,\n       1276281773, 1276282049, 1276282053, 1276282313, 1276282317,\n       1276282321, 1276282325, 1276282361, 1276282365, 1368289969,\n       1368289973, 1368290273, 1368290277, 1368290689, 1368290690,\n       1368290693, 1368291297, 1368291301, 1368291302, 1368291609,\n       1368291613, 1368292281, 1368292285, 1368292377, 1368292381,\n       1368292382, 1368292657, 1368292658, 1368292661, 1368292662,\n       1582205617, 1582205621, 1582205641, 1582205645, 1582205729,\n       1582205733, 1658748793, 1658748797, 1658806913, 1658806917,\n       1658807089, 1658807093, 1658807129, 1658807133, 1658807153,\n       1658807157, 1658807177, 1658807181, 1658947233, 1658947234,\n       1658947237, 1658947238, 1766872681, 1766872685, 1766872897,\n       1766872901, 1766872921, 1766872925, 1767013721, 1767013725,\n       1767013726, 1767013785, 1767013789, 1767182857, 1767182861,\n       1767182865, 1767182869, 1767182945, 1767182949, 1767183169,\n       1767183173, 1767183297, 1767183301, 1767186249, 1767186253,\n       1767186577, 1767186578, 1767186581, 1767186582, 1767666161,\n       1767666165, 1767666233, 1767666237, 1767666441, 1767666445,\n       1767666769, 1767666773, 1768236897, 1768236901, 1768237161,\n       1768237165, 1768237166, 1768237167, 1768237489, 1768237493,\n       2396217321, 2396217325, 2396217433, 2396217437, 2396217761,\n       2396217765, 2396217769, 2396217773, 2444719729, 2444719733,\n       2463663417, 2463663421, 2463971785, 2463971789, 2463971790,\n       2463972065, 2463972069, 2463972070, 2463972071, 2464104641,\n       2464104645, 2464104857, 2464104861, 2464104881, 2464104885,\n       2464131801, 2464131805, 2464406009, 2464406013, 2464443401,\n       2464443405, 2464446025, 2464446029, 2464449633, 2464449634,\n       2464449637, 2467713777, 2467713781, 2467756745, 2467756749,\n       2472945097, 2472945101, 2472945113, 2472945117, 2472945118,\n       2473024473, 2473024477])"
     },
     "execution_count": 70,
     "metadata": {},
     "output_type": "execute_result"
    }
   ],
   "source": [
    "pipeline._PIPELINE.rng().get_channel_for_df(trips_merged).row_states.index.values"
   ],
   "metadata": {
    "collapsed": false,
    "pycharm": {
     "name": "#%%\n"
    }
   }
  },
  {
   "cell_type": "code",
   "execution_count": null,
   "outputs": [],
   "source": [
    "pipeline._PIPELINE.rng().add_channel(\"trips\", )"
   ],
   "metadata": {
    "collapsed": false,
    "pycharm": {
     "name": "#%%\n"
    }
   }
  },
  {
   "cell_type": "code",
   "execution_count": 59,
   "outputs": [
    {
     "data": {
      "text/plain": "<activitysim.core.random.Random at 0x7fd68881abb0>"
     },
     "execution_count": 59,
     "metadata": {},
     "output_type": "execute_result"
    }
   ],
   "source": [
    "pipeline._PIPELINE.rng().Sim"
   ],
   "metadata": {
    "collapsed": false,
    "pycharm": {
     "name": "#%%\n"
    }
   }
  },
  {
   "cell_type": "code",
   "execution_count": 65,
   "outputs": [],
   "source": [
    "def mode_choice_for_trip(choose_individual_max_utility, trip_id_to_check, num_samples):\n",
    "    \"\"\"open pipeline and load stuff for mode choice dev assuming model has been run and pipeline.h5 exists\"\"\"\n",
    "    resume_after = \"trip_scheduling\"\n",
    "    model_name = \"trip_mode_choice\"\n",
    "    chunk_size = 0  # test_mtc means no chunking\n",
    "\n",
    "    pipeline.open_pipeline(resume_after)\n",
    "    # preload any bulky injectables (e.g. skims) not in pipeline\n",
    "    inject.get_injectable('preload_injectables', None)\n",
    "    pipeline._PIPELINE.rng().begin_step(model_name)\n",
    "    #step_name = model_name\n",
    "    args = {}\n",
    "    #checkpoint = pipeline.intermediate_checkpoint(model_name)\n",
    "    inject.set_step_args(args)\n",
    "\n",
    "    trips = inject.get_table('trips')\n",
    "    tours_merged = inject.get_table('tours_merged')\n",
    "    network_los = inject.get_injectable('network_los')\n",
    "\n",
    "    trace_label = 'trip_mode_choice'\n",
    "    model_settings_file_name = 'trip_mode_choice.yaml'\n",
    "    model_settings = config.read_model_settings(model_settings_file_name)\n",
    "\n",
    "    logsum_column_name = model_settings.get('MODE_CHOICE_LOGSUM_COLUMN_NAME')\n",
    "    mode_column_name = 'trip_mode'\n",
    "\n",
    "    trips_df = trips.to_frame()\n",
    "    print(\"Running with %d trips\", trips_df.shape[0])\n",
    "\n",
    "    tours_merged = tours_merged.to_frame()\n",
    "    tours_merged = tours_merged[model_settings['TOURS_MERGED_CHOOSER_COLUMNS']]\n",
    "\n",
    "    # - trips_merged - merge trips and tours_merged\n",
    "    trips_merged = pd.merge(\n",
    "        trips_df,\n",
    "        tours_merged,\n",
    "        left_on='tour_id',\n",
    "        right_index=True,\n",
    "        how=\"left\")\n",
    "    assert trips_merged.index.equals(trips.index)\n",
    "\n",
    "    # setup skim keys\n",
    "    assert ('trip_period' not in trips_merged)\n",
    "    trips_merged['trip_period'] = network_los.skim_time_period_label(trips_merged.depart)\n",
    "\n",
    "    orig_col = 'origin'\n",
    "    dest_col = 'destination'\n",
    "\n",
    "    constants = {}\n",
    "    constants.update(config.get_model_constants(model_settings))\n",
    "    constants.update({\n",
    "        'ORIGIN': orig_col,\n",
    "        'DESTINATION': dest_col\n",
    "    })\n",
    "\n",
    "    skim_dict = network_los.get_default_skim_dict()\n",
    "\n",
    "    odt_skim_stack_wrapper = skim_dict.wrap_3d(orig_key=orig_col, dest_key=dest_col,\n",
    "                                               dim3_key='trip_period')\n",
    "    dot_skim_stack_wrapper = skim_dict.wrap_3d(orig_key=dest_col, dest_key=orig_col,\n",
    "                                               dim3_key='trip_period')\n",
    "    od_skim_wrapper = skim_dict.wrap('origin', 'destination')\n",
    "\n",
    "    skims = {\n",
    "        \"odt_skims\": odt_skim_stack_wrapper,\n",
    "        \"dot_skims\": dot_skim_stack_wrapper,\n",
    "        \"od_skims\": od_skim_wrapper,\n",
    "    }\n",
    "\n",
    "    model_spec = simulate.read_model_spec(file_name=model_settings['SPEC'])\n",
    "    nest_specs = config.get_logit_model_settings(model_settings)\n",
    "\n",
    "    estimator = estimation.manager.begin_estimation('trip_mode_choice')\n",
    "\n",
    "    choices_list = []\n",
    "\n",
    "\n",
    "    # grab one, duplicate num_samples times\n",
    "    trips_segment = trips_merged.loc[trips_merged.index == trip_id_to_check].copy()\n",
    "    primary_purpose = trips_segment['primary_purpose'].values[0]\n",
    "    trips_segment = trips_segment.loc[trips_segment.index.repeat(num_samples)]\n",
    "\n",
    "    # need to add new row_states for rng here, need to ensure there are no collisions with existing keys\n",
    "    existing_indexes = pipeline._PIPELINE.rng().get_channel_for_df(trips_merged).row_states.index.values\n",
    "    num_new_indexes = trips_segment.shape[0]\n",
    "    now find indexes - random draw and then remove existing and do again? simple loop for each, or batch and do\n",
    "    recursively? simple loop is fast enough here\n",
    "\n",
    "\n",
    "    trips_segment.index += np.arange(num_samples)\n",
    "    # name index so tracing knows how to slice\n",
    "    assert trips_segment.index.name == 'trip_id'\n",
    "\n",
    "\n",
    "    # #logger.warning(\"Change seeding back when done with testing\")\n",
    "    # pipeline._PIPELINE.rng.row_states = pd.DataFrame(columns=['row_seed', 'offset'], index=trips_segment.index)\n",
    "    # pipeline._PIPELINE.rng.row_states[\"row_seed\"] = trips_segment.index.values\n",
    "    # pipeline._PIPELINE.rng.row_states[\"offset\"] = 0\n",
    "    pipeline._PIPELINE.rng().add_channel(\"trips\", trips_segment)\n",
    "\n",
    "\n",
    "    #for primary_purpose, trips_segment in trips_merged.groupby('primary_purpose'):\n",
    "    #if (do_these_purposes is not None) and (primary_purpose not in do_these_purposes):\n",
    "    #    continue\n",
    "\n",
    "    print(\"trip_mode_choice tour_type '%s' (%s trips)\" %\n",
    "          (primary_purpose, len(trips_segment.index), ))\n",
    "\n",
    "    coefficients = simulate.get_segment_coefficients(model_settings, primary_purpose)\n",
    "\n",
    "    locals_dict = {}\n",
    "    locals_dict.update(constants)\n",
    "    locals_dict.update(coefficients)\n",
    "\n",
    "    segment_trace_label = tracing.extend_trace_label(trace_label, primary_purpose)\n",
    "\n",
    "    expressions.annotate_preprocessors(\n",
    "        trips_segment, locals_dict, skims,\n",
    "        model_settings, segment_trace_label)\n",
    "\n",
    "    locals_dict.update(skims)\n",
    "\n",
    "    ################ Replace wrapper function\n",
    "    #     choices = mode_choice_simulate(...)\n",
    "    spec=simulate.eval_coefficients(model_spec, coefficients, estimator)\n",
    "    nest_spec = simulate.eval_nest_coefficients(nest_specs, coefficients, segment_trace_label)\n",
    "    choices = simulate.simple_simulate(\n",
    "        choosers=trips_segment,\n",
    "        spec=spec,\n",
    "        nest_spec=nest_spec,\n",
    "        skims=skims,\n",
    "        locals_d=locals_dict,\n",
    "        chunk_size=chunk_size,\n",
    "        want_logsums=logsum_column_name is not None,\n",
    "        trace_label=segment_trace_label,\n",
    "        trace_choice_name='trip_mode_choice',\n",
    "        estimator=estimator,\n",
    "        trace_column_names=None,\n",
    "        choose_individual_max_utility=choose_individual_max_utility)\n",
    "    # for consistency, always return dataframe, whether or not logsums were requested\n",
    "    if isinstance(choices, pd.Series):\n",
    "        choices = choices.to_frame('choice')\n",
    "    choices.rename(columns={'logsum': logsum_column_name,\n",
    "                            'choice': mode_column_name},\n",
    "                   inplace=True)\n",
    "    if not choose_individual_max_utility:\n",
    "        alts = spec.columns\n",
    "        choices[mode_column_name] = choices[mode_column_name].map(dict(list(zip(list(range(len(alts))), alts))))\n",
    "    ################\n",
    "    choices_list.append(choices)\n",
    "    choices_df_asim = pd.concat(choices_list)\n",
    "\n",
    "    # update trips table with choices (and potionally logssums)\n",
    "    trips_df = trips.to_frame()\n",
    "\n",
    "    #if (do_these_purposes is not None):\n",
    "    #    trips_df  = trips_df.loc[trips_df.primary_purpose.isin(do_these_purposes)]\n",
    "\n",
    "    assign_in_place(trips_df, choices_df_asim)\n",
    "    assert not trips_df[mode_column_name].isnull().any()\n",
    "\n",
    "    finalise = True\n",
    "    if finalise:\n",
    "        inject.set_step_args(None)\n",
    "        #\n",
    "        pipeline._PIPELINE.rng().end_step(model_name)\n",
    "        pipeline.add_checkpoint(model_name)\n",
    "        if not pipeline.intermediate_checkpoint():\n",
    "            pipeline.add_checkpoint(pipeline.FINAL_CHECKPOINT_NAME)\n",
    "\n",
    "        pipeline.close_pipeline()\n",
    "\n",
    "    print(\"Done\")\n",
    "    return trips_df"
   ],
   "metadata": {
    "collapsed": false,
    "pycharm": {
     "name": "#%%\n"
    }
   }
  },
  {
   "cell_type": "code",
   "execution_count": 66,
   "outputs": [],
   "source": [
    "#pipeline.close_pipeline()"
   ],
   "metadata": {
    "collapsed": false,
    "pycharm": {
     "name": "#%%\n"
    }
   }
  },
  {
   "cell_type": "code",
   "execution_count": 67,
   "outputs": [
    {
     "name": "stderr",
     "output_type": "stream",
     "text": [
      "register joint_tour_participants: no rows with household_id in [982875].\n",
      "estimation bundle trip_mode_choice not in settings file estimation.yaml\n"
     ]
    },
    {
     "name": "stdout",
     "output_type": "stream",
     "text": [
      "Running with %d trips 482\n"
     ]
    },
    {
     "ename": "AssertionError",
     "evalue": "",
     "output_type": "error",
     "traceback": [
      "\u001B[0;31m---------------------------------------------------------------------------\u001B[0m",
      "\u001B[0;31mAssertionError\u001B[0m                            Traceback (most recent call last)",
      "\u001B[0;32m/tmp/ipykernel_30125/1730006119.py\u001B[0m in \u001B[0;36m<module>\u001B[0;34m\u001B[0m\n\u001B[1;32m      2\u001B[0m \u001B[0mnum_samples\u001B[0m \u001B[0;34m=\u001B[0m \u001B[0;36m100\u001B[0m\u001B[0;34m\u001B[0m\u001B[0;34m\u001B[0m\u001B[0m\n\u001B[1;32m      3\u001B[0m \u001B[0mtrip_id_to_check\u001B[0m \u001B[0;34m=\u001B[0m \u001B[0;36m642446345\u001B[0m\u001B[0;34m\u001B[0m\u001B[0;34m\u001B[0m\u001B[0m\n\u001B[0;32m----> 4\u001B[0;31m \u001B[0mt_\u001B[0m \u001B[0;34m=\u001B[0m \u001B[0mmode_choice_for_trip\u001B[0m\u001B[0;34m(\u001B[0m\u001B[0mchoose_individual_max_utility\u001B[0m\u001B[0;34m=\u001B[0m\u001B[0mchoose_individual_max_utility\u001B[0m\u001B[0;34m,\u001B[0m \u001B[0mtrip_id_to_check\u001B[0m\u001B[0;34m=\u001B[0m\u001B[0mtrip_id_to_check\u001B[0m\u001B[0;34m,\u001B[0m \u001B[0mnum_samples\u001B[0m\u001B[0;34m=\u001B[0m\u001B[0mnum_samples\u001B[0m\u001B[0;34m)\u001B[0m\u001B[0;34m\u001B[0m\u001B[0;34m\u001B[0m\u001B[0m\n\u001B[0m",
      "\u001B[0;32m/tmp/ipykernel_30125/3946923567.py\u001B[0m in \u001B[0;36mmode_choice_for_trip\u001B[0;34m(choose_individual_max_utility, trip_id_to_check, num_samples)\u001B[0m\n\u001B[1;32m     89\u001B[0m     \u001B[0;31m# pipeline._PIPELINE.rng.row_states[\"row_seed\"] = trips_segment.index.values\u001B[0m\u001B[0;34m\u001B[0m\u001B[0;34m\u001B[0m\u001B[0;34m\u001B[0m\u001B[0m\n\u001B[1;32m     90\u001B[0m     \u001B[0;31m# pipeline._PIPELINE.rng.row_states[\"offset\"] = 0\u001B[0m\u001B[0;34m\u001B[0m\u001B[0;34m\u001B[0m\u001B[0;34m\u001B[0m\u001B[0m\n\u001B[0;32m---> 91\u001B[0;31m     \u001B[0mpipeline\u001B[0m\u001B[0;34m.\u001B[0m\u001B[0m_PIPELINE\u001B[0m\u001B[0;34m.\u001B[0m\u001B[0mrng\u001B[0m\u001B[0;34m(\u001B[0m\u001B[0;34m)\u001B[0m\u001B[0;34m.\u001B[0m\u001B[0madd_channel\u001B[0m\u001B[0;34m(\u001B[0m\u001B[0;34m\"trips\"\u001B[0m\u001B[0;34m,\u001B[0m \u001B[0mtrips_segment\u001B[0m\u001B[0;34m)\u001B[0m\u001B[0;34m\u001B[0m\u001B[0;34m\u001B[0m\u001B[0m\n\u001B[0m\u001B[1;32m     92\u001B[0m \u001B[0;34m\u001B[0m\u001B[0m\n\u001B[1;32m     93\u001B[0m \u001B[0;34m\u001B[0m\u001B[0m\n",
      "\u001B[0;32m/mnt/c/Users/jan.zill/code/activitysim/activitysim/core/random.py\u001B[0m in \u001B[0;36madd_channel\u001B[0;34m(self, channel_name, domain_df)\u001B[0m\n\u001B[1;32m    467\u001B[0m             \u001B[0mchannel\u001B[0m \u001B[0;34m=\u001B[0m \u001B[0mself\u001B[0m\u001B[0;34m.\u001B[0m\u001B[0mchannels\u001B[0m\u001B[0;34m[\u001B[0m\u001B[0mchannel_name\u001B[0m\u001B[0;34m]\u001B[0m\u001B[0;34m\u001B[0m\u001B[0;34m\u001B[0m\u001B[0m\n\u001B[1;32m    468\u001B[0m \u001B[0;34m\u001B[0m\u001B[0m\n\u001B[0;32m--> 469\u001B[0;31m             \u001B[0mchannel\u001B[0m\u001B[0;34m.\u001B[0m\u001B[0mextend_domain\u001B[0m\u001B[0;34m(\u001B[0m\u001B[0mdomain_df\u001B[0m\u001B[0;34m)\u001B[0m\u001B[0;34m\u001B[0m\u001B[0;34m\u001B[0m\u001B[0m\n\u001B[0m\u001B[1;32m    470\u001B[0m \u001B[0;34m\u001B[0m\u001B[0m\n\u001B[1;32m    471\u001B[0m         \u001B[0;32melse\u001B[0m\u001B[0;34m:\u001B[0m\u001B[0;34m\u001B[0m\u001B[0;34m\u001B[0m\u001B[0m\n",
      "\u001B[0;32m/mnt/c/Users/jan.zill/code/activitysim/activitysim/core/random.py\u001B[0m in \u001B[0;36mextend_domain\u001B[0;34m(self, domain_df)\u001B[0m\n\u001B[1;32m    142\u001B[0m             \u001B[0;31m# row_states already exists, so we are extending\u001B[0m\u001B[0;34m\u001B[0m\u001B[0;34m\u001B[0m\u001B[0;34m\u001B[0m\u001B[0m\n\u001B[1;32m    143\u001B[0m             \u001B[0;31m# if extending, these should be new rows, no intersection with existing row_states\u001B[0m\u001B[0;34m\u001B[0m\u001B[0;34m\u001B[0m\u001B[0;34m\u001B[0m\u001B[0m\n\u001B[0;32m--> 144\u001B[0;31m             \u001B[0;32massert\u001B[0m \u001B[0mlen\u001B[0m\u001B[0;34m(\u001B[0m\u001B[0mself\u001B[0m\u001B[0;34m.\u001B[0m\u001B[0mrow_states\u001B[0m\u001B[0;34m.\u001B[0m\u001B[0mindex\u001B[0m\u001B[0;34m.\u001B[0m\u001B[0mintersection\u001B[0m\u001B[0;34m(\u001B[0m\u001B[0mdomain_df\u001B[0m\u001B[0;34m.\u001B[0m\u001B[0mindex\u001B[0m\u001B[0;34m)\u001B[0m\u001B[0;34m)\u001B[0m \u001B[0;34m==\u001B[0m \u001B[0;36m0\u001B[0m\u001B[0;34m\u001B[0m\u001B[0;34m\u001B[0m\u001B[0m\n\u001B[0m\u001B[1;32m    145\u001B[0m             \u001B[0mself\u001B[0m\u001B[0;34m.\u001B[0m\u001B[0mrow_states\u001B[0m \u001B[0;34m=\u001B[0m \u001B[0mpd\u001B[0m\u001B[0;34m.\u001B[0m\u001B[0mconcat\u001B[0m\u001B[0;34m(\u001B[0m\u001B[0;34m[\u001B[0m\u001B[0mself\u001B[0m\u001B[0;34m.\u001B[0m\u001B[0mrow_states\u001B[0m\u001B[0;34m,\u001B[0m \u001B[0mrow_states\u001B[0m\u001B[0;34m]\u001B[0m\u001B[0;34m)\u001B[0m\u001B[0;34m\u001B[0m\u001B[0;34m\u001B[0m\u001B[0m\n\u001B[1;32m    146\u001B[0m \u001B[0;34m\u001B[0m\u001B[0m\n",
      "\u001B[0;31mAssertionError\u001B[0m: "
     ]
    }
   ],
   "source": [
    "choose_individual_max_utility = False\n",
    "num_samples = 100\n",
    "trip_id_to_check = 642446345\n",
    "t_ = mode_choice_for_trip(choose_individual_max_utility=choose_individual_max_utility, trip_id_to_check=trip_id_to_check, num_samples=num_samples)"
   ],
   "metadata": {
    "collapsed": false,
    "pycharm": {
     "name": "#%%\n"
    }
   }
  },
  {
   "cell_type": "code",
   "execution_count": 18,
   "outputs": [],
   "source": [
    "#pipeline.registered_tables()\n",
    "#list(map(lambda x: x['checkpoint_name'], pipeline._PIPELINE.checkpoints))"
   ],
   "metadata": {
    "collapsed": false,
    "pycharm": {
     "name": "#%%\n"
    }
   }
  },
  {
   "cell_type": "code",
   "execution_count": null,
   "outputs": [],
   "source": [],
   "metadata": {
    "collapsed": false,
    "pycharm": {
     "name": "#%%\n"
    }
   }
  },
  {
   "cell_type": "code",
   "execution_count": null,
   "outputs": [],
   "source": [],
   "metadata": {
    "collapsed": false,
    "pycharm": {
     "name": "#%%\n"
    }
   }
  },
  {
   "cell_type": "code",
   "execution_count": 24,
   "outputs": [],
   "source": [
    "num_samples = 100\n",
    "trip_id_to_check = 642446345\n",
    "\n",
    "trips_dup = trips_merged.loc[trips_merged.index == trip_id_to_check].copy()\n",
    "trips_dup = trips_dup.loc[trips_dup.index.repeat(num_samples)]\n",
    "trips_dup.index += np.arange(num_samples)"
   ],
   "metadata": {
    "collapsed": false,
    "pycharm": {
     "name": "#%%\n"
    }
   }
  },
  {
   "cell_type": "code",
   "execution_count": null,
   "outputs": [],
   "source": [],
   "metadata": {
    "collapsed": false,
    "pycharm": {
     "name": "#%%\n"
    }
   }
  },
  {
   "cell_type": "code",
   "execution_count": null,
   "outputs": [],
   "source": [],
   "metadata": {
    "collapsed": false,
    "pycharm": {
     "name": "#%%\n"
    }
   }
  },
  {
   "cell_type": "code",
   "execution_count": null,
   "outputs": [],
   "source": [],
   "metadata": {
    "collapsed": false,
    "pycharm": {
     "name": "#%%\n"
    }
   }
  },
  {
   "cell_type": "code",
   "execution_count": null,
   "outputs": [],
   "source": [],
   "metadata": {
    "collapsed": false,
    "pycharm": {
     "name": "#%%\n"
    }
   }
  },
  {
   "cell_type": "code",
   "execution_count": null,
   "outputs": [],
   "source": [],
   "metadata": {
    "collapsed": false,
    "pycharm": {
     "name": "#%%\n"
    }
   }
  },
  {
   "cell_type": "code",
   "execution_count": null,
   "outputs": [],
   "source": [],
   "metadata": {
    "collapsed": false,
    "pycharm": {
     "name": "#%%\n"
    }
   }
  },
  {
   "cell_type": "markdown",
   "id": "806ce752-0927-4d5b-a6cc-68d6c9b8a05e",
   "metadata": {
    "execution": {
     "iopub.execute_input": "2021-09-01T04:55:59.542669Z",
     "iopub.status.busy": "2021-09-01T04:55:59.542360Z",
     "iopub.status.idle": "2021-09-01T04:55:59.771722Z",
     "shell.execute_reply": "2021-09-01T04:55:59.770801Z",
     "shell.execute_reply.started": "2021-09-01T04:55:59.542615Z"
    },
    "tags": [],
    "pycharm": {
     "name": "#%% md\n"
    }
   },
   "source": [
    "# OLD"
   ]
  },
  {
   "cell_type": "code",
   "execution_count": 454,
   "id": "74eeedd3-4ade-4729-8170-79fa9dcf11f8",
   "metadata": {
    "execution": {
     "iopub.execute_input": "2021-09-01T04:58:52.825042Z",
     "iopub.status.busy": "2021-09-01T04:58:52.824768Z",
     "iopub.status.idle": "2021-09-01T04:58:53.042884Z",
     "shell.execute_reply": "2021-09-01T04:58:53.042061Z",
     "shell.execute_reply.started": "2021-09-01T04:58:52.825004Z"
    }
   },
   "outputs": [],
   "source": [
    "def simple_simulate_probabilities(trips_segment, spec, nest_spec, locals_d, estimator, tr_label, log_alt_losers, trace_column_names):\n",
    "    trace_label = tracing.extend_trace_label(tr_label, 'eval_nl')\n",
    "    logit.validate_nest_spec(nest_spec, trace_label)\n",
    "    raw_utilities = simulate.eval_utilities(spec, trips_segment, locals_d,\n",
    "                                            log_alt_losers=log_alt_losers,\n",
    "                                            trace_label=trace_label, have_trace_targets=False,\n",
    "                                            estimator=estimator, trace_column_names=trace_column_names)\n",
    "    nested_exp_utilities = simulate.compute_nested_exp_utilities(raw_utilities, nest_spec)\n",
    "    nested_probabilities = simulate.compute_nested_probabilities(nested_exp_utilities, nest_spec,\n",
    "                                                                 trace_label=trace_label)\n",
    "    # global (flattened) leaf probabilities based on relative nest coefficients (in spec order)\n",
    "    base_probabilities = simulate.compute_base_probabilities(nested_probabilities, nest_spec, spec)\n",
    "    return base_probabilities\n",
    "#simple_simulate_probabilities(trips_segment, spec, nest_spec, locals_dict, estimator, tr_label, log_alt_losers, trace_column_names)\n",
    "\n",
    "\n",
    "## caculate probabilities with Asim methodology, should be correct\n",
    "def gimme_probabilities(trips_merged, model_settings, constants, skims, model_spec, nest_spec, estimator, logsum_column_name, mode_column_name, \n",
    "          trace_label=None, log_alt_losers=None, trace_column_names=None):\n",
    "    full_probs = []  # analytical probs\n",
    "\n",
    "    for primary_purpose, trips_segment in trips_merged.groupby('primary_purpose'):\n",
    "        #print(\"trip_mode_choice tour_type '%s' (%s trips)\" %\n",
    "        #            (primary_purpose, len(trips_segment.index), ))\n",
    "        # name index so tracing knows how to slice\n",
    "        assert trips_segment.index.name == 'trip_id'\n",
    "\n",
    "        coefficients = simulate.get_segment_coefficients(model_settings, primary_purpose)\n",
    "\n",
    "        locals_dict = {}\n",
    "        locals_dict.update(constants)\n",
    "        locals_dict.update(coefficients)\n",
    "\n",
    "        segment_trace_label = tracing.extend_trace_label(trace_label, primary_purpose)\n",
    "\n",
    "        expressions.annotate_preprocessors(\n",
    "            trips_segment, locals_dict, skims,\n",
    "            model_settings, segment_trace_label)\n",
    "\n",
    "        locals_dict.update(skims)\n",
    "\n",
    "        spec=simulate.eval_coefficients(model_spec, coefficients, estimator)\n",
    "        nest_spec = simulate.eval_nest_coefficients(nest_spec, coefficients, segment_trace_label)\n",
    "        #choices = simple_simulate_rum(trips_segment, spec, nest_spec, locals_dict, estimator, \n",
    "        #                              segment_trace_label, log_alt_losers=log_alt_losers, \n",
    "        #                              trace_column_names=trace_column_names, seed=seed)\n",
    "        probs = simple_simulate_probabilities(trips_segment, spec, nest_spec, locals_dict, \n",
    "                                              estimator, segment_trace_label, log_alt_losers, \n",
    "                                              trace_column_names)\n",
    "        full_probs.append(probs)\n",
    "    probs_df = pd.concat(full_probs)\n",
    "    return probs_df\n"
   ]
  },
  {
   "cell_type": "code",
   "execution_count": 455,
   "id": "295a4fd1-8e85-47e2-af82-9f1beac31d63",
   "metadata": {
    "execution": {
     "iopub.execute_input": "2021-09-01T04:59:46.126555Z",
     "iopub.status.busy": "2021-09-01T04:59:46.126262Z",
     "iopub.status.idle": "2021-09-01T04:59:52.979908Z",
     "shell.execute_reply": "2021-09-01T04:59:52.979043Z",
     "shell.execute_reply.started": "2021-09-01T04:59:46.126522Z"
    },
    "tags": []
   },
   "outputs": [
    {
     "name": "stderr",
     "output_type": "stream",
     "text": [
      "register joint_tour_participants: no rows with household_id in [982875].\n",
      "estimation bundle trip_mode_choice not in settings file estimation.yaml\n"
     ]
    },
    {
     "name": "stdout",
     "output_type": "stream",
     "text": [
      "2021-09-01 14:59:46.353007 Start\n",
      "2021-09-01 14:59:52.976736 End\n"
     ]
    }
   ],
   "source": [
    "print(f\"{datetime.now()} Start\")\n",
    "pipeline.open_pipeline(resume_after)\n",
    "inject.get_injectable('preload_injectables', None)\n",
    "model_name = \"trip_mode_choice\"\n",
    "pipeline._PIPELINE.rng().begin_step(model_name)\n",
    "\n",
    "step_name = model_name\n",
    "args = {}\n",
    "checkpoint = pipeline.intermediate_checkpoint(model_name)\n",
    "inject.set_step_args(args)\n",
    "\n",
    "trips = inject.get_table('trips')\n",
    "tours_merged = inject.get_table('tours_merged')\n",
    "network_los = inject.get_injectable('network_los')\n",
    "chunk_size = 0\n",
    "\n",
    "trace_label = 'trip_mode_choice'\n",
    "model_settings_file_name = 'trip_mode_choice.yaml'\n",
    "model_settings = config.read_model_settings(model_settings_file_name)\n",
    "\n",
    "logsum_column_name = model_settings.get('MODE_CHOICE_LOGSUM_COLUMN_NAME')\n",
    "mode_column_name = 'trip_mode'\n",
    "trips_df = trips.to_frame()\n",
    "#print(\"Running with %d trips\", trips_df.shape[0])\n",
    "tours_merged = tours_merged.to_frame()\n",
    "tours_merged = tours_merged[model_settings['TOURS_MERGED_CHOOSER_COLUMNS']]\n",
    "# - trips_merged - merge trips and tours_merged\n",
    "trips_merged = pd.merge(\n",
    "    trips_df,\n",
    "    tours_merged,\n",
    "    left_on='tour_id',\n",
    "    right_index=True,\n",
    "    how=\"left\")\n",
    "assert trips_merged.index.equals(trips.index)\n",
    "\n",
    "# setup skim keys\n",
    "assert ('trip_period' not in trips_merged)\n",
    "trips_merged['trip_period'] = network_los.skim_time_period_label(trips_merged.depart)\n",
    "\n",
    "orig_col = 'origin'\n",
    "dest_col = 'destination'\n",
    "\n",
    "constants = {}\n",
    "constants.update(config.get_model_constants(model_settings))\n",
    "constants.update({\n",
    "    'ORIGIN': orig_col,\n",
    "    'DESTINATION': dest_col\n",
    "})\n",
    "\n",
    "skim_dict = network_los.get_default_skim_dict()\n",
    "\n",
    "odt_skim_stack_wrapper = skim_dict.wrap_3d(orig_key=orig_col, dest_key=dest_col,\n",
    "                                           dim3_key='trip_period')\n",
    "dot_skim_stack_wrapper = skim_dict.wrap_3d(orig_key=dest_col, dest_key=orig_col,\n",
    "                                           dim3_key='trip_period')\n",
    "od_skim_wrapper = skim_dict.wrap('origin', 'destination')\n",
    "\n",
    "skims = {\n",
    "    \"odt_skims\": odt_skim_stack_wrapper,\n",
    "    \"dot_skims\": dot_skim_stack_wrapper,\n",
    "    \"od_skims\": od_skim_wrapper,\n",
    "}\n",
    "\n",
    "model_spec = simulate.read_model_spec(file_name=model_settings['SPEC'])\n",
    "nest_spec = config.get_logit_model_settings(model_settings)\n",
    "\n",
    "estimator = estimation.manager.begin_estimation('trip_mode_choice')\n",
    "\n",
    "\n",
    "all_choices = []\n",
    "for i in range(100):\n",
    "    if i % 10 == 0:\n",
    "        print(f\"{datetime.now()} iteration {i}\")\n",
    "    choices_df = stuff(trips_merged, model_settings, constants, skims, model_spec, nest_spec, estimator, logsum_column_name, mode_column_name, \n",
    "              trace_label=trace_label, log_alt_losers=None, trace_column_names=None, seed=None)\n",
    "    all_choices.append(choices_df)\n",
    "all_choices = pd.concat(all_choices, axis=1)\n",
    "\n",
    "probs_nl = gimme_probabilities(trips_merged, model_settings, constants, skims, model_spec, nest_spec,\n",
    "                               estimator, logsum_column_name, mode_column_name,trace_label=trace_label, \n",
    "                               log_alt_losers=None, trace_column_names=None)\n",
    "\n",
    "# update trips table with choices (and potionally logssums)\n",
    "#trips_df = trips.to_frame()\n",
    "#\n",
    "#assign_in_place(trips_df, choices_df)\n",
    "#assert not trips_df[mode_column_name].isnull().any()\n",
    "\n",
    "\n",
    "finalise = True\n",
    "if finalise:\n",
    "    inject.set_step_args(None)\n",
    "    #\n",
    "    pipeline._PIPELINE.rng().end_step(model_name)\n",
    "    pipeline.add_checkpoint(model_name)\n",
    "    if not pipeline.intermediate_checkpoint():\n",
    "        pipeline.add_checkpoint(pipeline.FINAL_CHECKPOINT_NAME)\n",
    "\n",
    "    pipeline.close_pipeline()\n",
    "\n",
    "print(f\"{datetime.now()} End\")"
   ]
  },
  {
   "cell_type": "code",
   "execution_count": 463,
   "id": "dc87e904-16d1-44d4-81b7-cafbe4e223c3",
   "metadata": {
    "execution": {
     "iopub.execute_input": "2021-09-01T05:01:40.901982Z",
     "iopub.status.busy": "2021-09-01T05:01:40.901759Z",
     "iopub.status.idle": "2021-09-01T05:01:41.337758Z",
     "shell.execute_reply": "2021-09-01T05:01:41.336757Z",
     "shell.execute_reply.started": "2021-09-01T05:01:40.901946Z"
    },
    "tags": []
   },
   "outputs": [],
   "source": [
    "#all_choices.merge(choices_df_asim[['trip_mode']].rename(columns={'trip_mode': 'asim'}), left_index=True, right_index=True)\n",
    "val_counts = all_choices.apply(lambda x: x.value_counts(), axis=1).fillna(0)\n",
    "val_counts = val_counts / all_choices.shape[1]\n",
    "#val_counts = val_counts.merge(choices_df_asim[['trip_mode']].rename(columns={'trip_mode': 'asim'}), left_index=True, right_index=True)\n",
    "#val_counts['prob_of_asim_choice'] = val_counts.apply(lambda x: x[x.asim], axis=1)  # this is what our simulation says w.r.t. to asim choice\n",
    "# for 100% and many samples should mostly agree"
   ]
  },
  {
   "cell_type": "code",
   "execution_count": 464,
   "id": "09bf151c-a39a-4823-acfd-9c8ae747c338",
   "metadata": {
    "execution": {
     "iopub.execute_input": "2021-09-01T05:01:46.119117Z",
     "iopub.status.busy": "2021-09-01T05:01:46.118849Z",
     "iopub.status.idle": "2021-09-01T05:01:46.354114Z",
     "shell.execute_reply": "2021-09-01T05:01:46.353248Z",
     "shell.execute_reply.started": "2021-09-01T05:01:46.119092Z"
    },
    "tags": []
   },
   "outputs": [],
   "source": [
    "#val_counts['prob_of_asim_choice'].hist(bins=100);"
   ]
  },
  {
   "cell_type": "code",
   "execution_count": 490,
   "id": "f3b6ade9-d875-4104-b438-b53ef42e342c",
   "metadata": {
    "execution": {
     "iopub.execute_input": "2021-09-01T05:10:08.653227Z",
     "iopub.status.busy": "2021-09-01T05:10:08.652978Z",
     "iopub.status.idle": "2021-09-01T05:10:08.915620Z",
     "shell.execute_reply": "2021-09-01T05:10:08.914513Z",
     "shell.execute_reply.started": "2021-09-01T05:10:08.653189Z"
    },
    "tags": []
   },
   "outputs": [
    {
     "data": {
      "text/html": [
       "<div>\n",
       "<style scoped>\n",
       "    .dataframe tbody tr th:only-of-type {\n",
       "        vertical-align: middle;\n",
       "    }\n",
       "\n",
       "    .dataframe tbody tr th {\n",
       "        vertical-align: top;\n",
       "    }\n",
       "\n",
       "    .dataframe thead th {\n",
       "        text-align: right;\n",
       "    }\n",
       "</style>\n",
       "<table border=\"1\" class=\"dataframe\">\n",
       "  <thead>\n",
       "    <tr style=\"text-align: right;\">\n",
       "      <th></th>\n",
       "      <th>BIKE</th>\n",
       "      <th>DRIVEALONEFREE</th>\n",
       "      <th>DRIVEALONEPAY</th>\n",
       "      <th>DRIVE_COM</th>\n",
       "      <th>DRIVE_EXP</th>\n",
       "      <th>DRIVE_HVY</th>\n",
       "      <th>DRIVE_LOC</th>\n",
       "      <th>DRIVE_LRF</th>\n",
       "      <th>SHARED2FREE</th>\n",
       "      <th>SHARED2PAY</th>\n",
       "      <th>SHARED3FREE</th>\n",
       "      <th>SHARED3PAY</th>\n",
       "      <th>TAXI</th>\n",
       "      <th>TNC_SHARED</th>\n",
       "      <th>TNC_SINGLE</th>\n",
       "      <th>WALK</th>\n",
       "      <th>WALK_COM</th>\n",
       "      <th>WALK_EXP</th>\n",
       "      <th>WALK_HVY</th>\n",
       "      <th>WALK_LOC</th>\n",
       "      <th>WALK_LRF</th>\n",
       "    </tr>\n",
       "  </thead>\n",
       "  <tbody>\n",
       "    <tr>\n",
       "      <th>analytical</th>\n",
       "      <td>3.152</td>\n",
       "      <td>0.852</td>\n",
       "      <td>0.0</td>\n",
       "      <td>0.0</td>\n",
       "      <td>0.0</td>\n",
       "      <td>0.0</td>\n",
       "      <td>0.0</td>\n",
       "      <td>0.0</td>\n",
       "      <td>0.685</td>\n",
       "      <td>0.0</td>\n",
       "      <td>0.129</td>\n",
       "      <td>0.0</td>\n",
       "      <td>0.182</td>\n",
       "      <td>0.260</td>\n",
       "      <td>1.334</td>\n",
       "      <td>63.708</td>\n",
       "      <td>0.0</td>\n",
       "      <td>0.0</td>\n",
       "      <td>0.455</td>\n",
       "      <td>18.355</td>\n",
       "      <td>10.887</td>\n",
       "    </tr>\n",
       "    <tr>\n",
       "      <th>experiment</th>\n",
       "      <td>3.243</td>\n",
       "      <td>0.880</td>\n",
       "      <td>0.0</td>\n",
       "      <td>0.0</td>\n",
       "      <td>0.0</td>\n",
       "      <td>0.0</td>\n",
       "      <td>0.0</td>\n",
       "      <td>0.0</td>\n",
       "      <td>0.772</td>\n",
       "      <td>0.0</td>\n",
       "      <td>0.156</td>\n",
       "      <td>0.0</td>\n",
       "      <td>0.174</td>\n",
       "      <td>0.259</td>\n",
       "      <td>1.434</td>\n",
       "      <td>63.243</td>\n",
       "      <td>0.0</td>\n",
       "      <td>0.0</td>\n",
       "      <td>0.394</td>\n",
       "      <td>18.639</td>\n",
       "      <td>10.807</td>\n",
       "    </tr>\n",
       "  </tbody>\n",
       "</table>\n",
       "</div>"
      ],
      "text/plain": [
       "             BIKE  DRIVEALONEFREE  DRIVEALONEPAY  DRIVE_COM  DRIVE_EXP  \\\n",
       "analytical  3.152           0.852            0.0        0.0        0.0   \n",
       "experiment  3.243           0.880            0.0        0.0        0.0   \n",
       "\n",
       "            DRIVE_HVY  DRIVE_LOC  DRIVE_LRF  SHARED2FREE  SHARED2PAY  \\\n",
       "analytical        0.0        0.0        0.0        0.685         0.0   \n",
       "experiment        0.0        0.0        0.0        0.772         0.0   \n",
       "\n",
       "            SHARED3FREE  SHARED3PAY   TAXI  TNC_SHARED  TNC_SINGLE    WALK  \\\n",
       "analytical        0.129         0.0  0.182       0.260       1.334  63.708   \n",
       "experiment        0.156         0.0  0.174       0.259       1.434  63.243   \n",
       "\n",
       "            WALK_COM  WALK_EXP  WALK_HVY  WALK_LOC  WALK_LRF  \n",
       "analytical       0.0       0.0     0.455    18.355    10.887  \n",
       "experiment       0.0       0.0     0.394    18.639    10.807  "
      ]
     },
     "metadata": {},
     "output_type": "display_data"
    }
   ],
   "source": [
    "mode_share_analytical = (probs_nl.sum(axis=0) / probs_nl.shape[0]).to_frame('analytical')\n",
    "assert np.allclose(mode_share_analytical.sum(), 1)\n",
    "mode_share_rum = (val_counts.sum(axis=0) / val_counts.shape[0]).to_frame('experiment')\n",
    "assert np.allclose(mode_share_rum.sum(), 1)\n",
    "full_share = mode_share_analytical.join(mode_share_rum, how='outer').fillna(0)\n",
    "with pd.option_context(\"precision\", 3):\n",
    "    display((100.0 * full_share).T)"
   ]
  },
  {
   "cell_type": "code",
   "execution_count": null,
   "id": "7e48a56e-d613-4dfd-bef6-62bee524f12f",
   "metadata": {},
   "outputs": [],
   "source": []
  },
  {
   "cell_type": "code",
   "execution_count": null,
   "id": "50914e1d-750d-440c-9617-f96bd2a46c56",
   "metadata": {},
   "outputs": [],
   "source": []
  },
  {
   "cell_type": "code",
   "execution_count": null,
   "id": "f2d70e0e-520e-49a6-8024-ae31345f6ead",
   "metadata": {},
   "outputs": [],
   "source": []
  },
  {
   "cell_type": "code",
   "execution_count": 631,
   "id": "8c4f4fb1-c4fb-4a05-9be4-8b9d7f25d1e6",
   "metadata": {
    "execution": {
     "iopub.execute_input": "2021-09-01T11:37:32.250808Z",
     "iopub.status.busy": "2021-09-01T11:37:32.250548Z",
     "iopub.status.idle": "2021-09-01T20:20:35.257463Z",
     "shell.execute_reply": "2021-09-01T20:20:35.255964Z",
     "shell.execute_reply.started": "2021-09-01T11:37:32.250782Z"
    },
    "tags": []
   },
   "outputs": [],
   "source": [
    "num_samples = 10\n",
    "\n",
    "rng_test = default_rng(23423)\n",
    "\n",
    "print(f\"{datetime.now()} Start\")\n",
    "pipeline.open_pipeline(resume_after)\n",
    "inject.get_injectable('preload_injectables', None)\n",
    "model_name = \"trip_mode_choice\"\n",
    "pipeline._PIPELINE.rng().begin_step(model_name)\n",
    "\n",
    "step_name = model_name\n",
    "args = {}\n",
    "checkpoint = pipeline.intermediate_checkpoint(model_name)\n",
    "inject.set_step_args(args)\n",
    "\n",
    "trips = inject.get_table('trips')\n",
    "tours_merged = inject.get_table('tours_merged')\n",
    "network_los = inject.get_injectable('network_los')\n",
    "chunk_size = 0\n",
    "\n",
    "trace_label = 'trip_mode_choice'\n",
    "model_settings_file_name = 'trip_mode_choice.yaml'\n",
    "model_settings = config.read_model_settings(model_settings_file_name)\n",
    "\n",
    "logsum_column_name = model_settings.get('MODE_CHOICE_LOGSUM_COLUMN_NAME')\n",
    "mode_column_name = 'trip_mode'\n",
    "trips_df = trips.to_frame()\n",
    "#print(\"Running with %d trips\", trips_df.shape[0])\n",
    "tours_merged = tours_merged.to_frame()\n",
    "tours_merged = tours_merged[model_settings['TOURS_MERGED_CHOOSER_COLUMNS']]\n",
    "# - trips_merged - merge trips and tours_merged\n",
    "trips_merged = pd.merge(\n",
    "    trips_df,\n",
    "    tours_merged,\n",
    "    left_on='tour_id',\n",
    "    right_index=True,\n",
    "    how=\"left\")\n",
    "assert trips_merged.index.equals(trips.index)\n",
    "\n",
    "# setup skim keys\n",
    "assert ('trip_period' not in trips_merged)\n",
    "trips_merged['trip_period'] = network_los.skim_time_period_label(trips_merged.depart)\n",
    "\n",
    "orig_col = 'origin'\n",
    "dest_col = 'destination'\n",
    "\n",
    "constants = {}\n",
    "constants.update(config.get_model_constants(model_settings))\n",
    "constants.update({\n",
    "    'ORIGIN': orig_col,\n",
    "    'DESTINATION': dest_col\n",
    "})\n",
    "\n",
    "skim_dict = network_los.get_default_skim_dict()\n",
    "odt_skim_stack_wrapper = skim_dict.wrap_3d(orig_key=orig_col, dest_key=dest_col,\n",
    "                                           dim3_key='trip_period')\n",
    "dot_skim_stack_wrapper = skim_dict.wrap_3d(orig_key=dest_col, dest_key=orig_col,\n",
    "                                           dim3_key='trip_period')\n",
    "od_skim_wrapper = skim_dict.wrap('origin', 'destination')\n",
    "skims = {\n",
    "    \"odt_skims\": odt_skim_stack_wrapper,\n",
    "    \"dot_skims\": dot_skim_stack_wrapper,\n",
    "    \"od_skims\": od_skim_wrapper,\n",
    "}\n",
    "model_spec = simulate.read_model_spec(file_name=model_settings['SPEC'])\n",
    "nest_spec = config.get_logit_model_settings(model_settings)\n",
    "estimator = estimation.manager.begin_estimation('trip_mode_choice')\n",
    "\n",
    "all_choices_zenith = []\n",
    "all_choices = []\n",
    "for i in range(num_samples):\n",
    "    \n",
    "    seed = rng_test.integers(0, 100000) #int(9.3 * (i+1)**3)  # why not\n",
    "    \n",
    "    if i % 50 == 0:\n",
    "        print(f\"{datetime.now()} iteration {i}\")\n",
    "    choices_df_zenith = stuff_zenith(trips_merged, model_settings, constants, skims, model_spec, nest_spec, estimator, logsum_column_name, mode_column_name, \n",
    "              trace_label=trace_label, log_alt_losers=None, trace_column_names=None, seed=seed)\n",
    "    all_choices_zenith.append(choices_df_zenith)\n",
    "\n",
    "    choices_df = stuff(trips_merged, model_settings, constants, skims, model_spec, nest_spec, estimator, logsum_column_name, mode_column_name, \n",
    "          trace_label=trace_label, log_alt_losers=None, trace_column_names=None, seed=seed)\n",
    "    all_choices.append(choices_df)\n",
    "    \n",
    "    t_ = choices_df_zenith.merge(choices_df, left_index=True, right_index=True, suffixes=['_zenith', '_asim'])\n",
    "    diffs = t_.loc[t_.trip_mode_zenith != t_.trip_mode_asim]\n",
    "    \n",
    "    #print(f\"seed {seed} leads to {diffs.shape[0]} differences. tripids {diffs.index}\")\n",
    "\n",
    "all_choices_zenith = pd.concat(all_choices_zenith, axis=1)\n",
    "all_choices = pd.concat(all_choices, axis=1)\n",
    "\n",
    "probs_nl = gimme_probabilities(trips_merged, model_settings, constants, skims, model_spec, nest_spec,\n",
    "                               estimator, logsum_column_name, mode_column_name,trace_label=trace_label, \n",
    "                               log_alt_losers=None, trace_column_names=None)\n",
    "\n",
    "finalise = True\n",
    "if finalise:\n",
    "    inject.set_step_args(None)\n",
    "    #\n",
    "    pipeline._PIPELINE.rng().end_step(model_name)\n",
    "    pipeline.add_checkpoint(model_name)\n",
    "    if not pipeline.intermediate_checkpoint():\n",
    "        pipeline.add_checkpoint(pipeline.FINAL_CHECKPOINT_NAME)\n",
    "\n",
    "    pipeline.close_pipeline()\n",
    "\n",
    "print(f\"{datetime.now()} End\")"
   ]
  },
  {
   "cell_type": "code",
   "execution_count": 643,
   "id": "3abd7949-dc9c-469b-845e-26c17741f70e",
   "metadata": {
    "execution": {
     "iopub.execute_input": "2021-09-01T20:33:21.533110Z",
     "iopub.status.busy": "2021-09-01T20:33:21.531915Z",
     "iopub.status.idle": "2021-09-01T20:33:21.740946Z",
     "shell.execute_reply": "2021-09-01T20:33:21.739713Z",
     "shell.execute_reply.started": "2021-09-01T20:33:21.533074Z"
    },
    "tags": []
   },
   "outputs": [
    {
     "name": "stdout",
     "output_type": "stream",
     "text": [
      "Have 2038 samples\n"
     ]
    }
   ],
   "source": [
    "print(f\"Have {all_choices_zenith.shape[1]} samples\")"
   ]
  },
  {
   "cell_type": "code",
   "execution_count": 633,
   "id": "8762bd6d-ac04-458c-869f-be86d8297351",
   "metadata": {
    "execution": {
     "iopub.execute_input": "2021-09-01T20:21:27.778803Z",
     "iopub.status.busy": "2021-09-01T20:21:27.778531Z",
     "iopub.status.idle": "2021-09-01T20:21:28.675645Z",
     "shell.execute_reply": "2021-09-01T20:21:28.674734Z",
     "shell.execute_reply.started": "2021-09-01T20:21:27.778754Z"
    },
    "tags": []
   },
   "outputs": [],
   "source": [
    "val_counts_zenith = all_choices_zenith.apply(lambda x: x.value_counts(), axis=1).fillna(0)\n",
    "val_counts_zenith = val_counts_zenith / all_choices_zenith.shape[1]\n",
    "\n",
    "val_counts = all_choices.apply(lambda x: x.value_counts(), axis=1).fillna(0)\n",
    "val_counts = val_counts / all_choices.shape[1]"
   ]
  },
  {
   "cell_type": "code",
   "execution_count": 634,
   "id": "0f566105-9424-457b-86f5-d60c1d63aac5",
   "metadata": {
    "execution": {
     "iopub.execute_input": "2021-09-01T20:21:30.954894Z",
     "iopub.status.busy": "2021-09-01T20:21:30.954654Z",
     "iopub.status.idle": "2021-09-01T20:21:31.179689Z",
     "shell.execute_reply": "2021-09-01T20:21:31.178304Z",
     "shell.execute_reply.started": "2021-09-01T20:21:30.954867Z"
    },
    "tags": []
   },
   "outputs": [
    {
     "data": {
      "text/html": [
       "<div>\n",
       "<style scoped>\n",
       "    .dataframe tbody tr th:only-of-type {\n",
       "        vertical-align: middle;\n",
       "    }\n",
       "\n",
       "    .dataframe tbody tr th {\n",
       "        vertical-align: top;\n",
       "    }\n",
       "\n",
       "    .dataframe thead th {\n",
       "        text-align: right;\n",
       "    }\n",
       "</style>\n",
       "<table border=\"1\" class=\"dataframe\">\n",
       "  <thead>\n",
       "    <tr style=\"text-align: right;\">\n",
       "      <th></th>\n",
       "      <th>BIKE</th>\n",
       "      <th>DRIVEALONEFREE</th>\n",
       "      <th>DRIVEALONEPAY</th>\n",
       "      <th>DRIVE_COM</th>\n",
       "      <th>DRIVE_EXP</th>\n",
       "      <th>DRIVE_HVY</th>\n",
       "      <th>DRIVE_LOC</th>\n",
       "      <th>DRIVE_LRF</th>\n",
       "      <th>SHARED2FREE</th>\n",
       "      <th>SHARED2PAY</th>\n",
       "      <th>SHARED3FREE</th>\n",
       "      <th>SHARED3PAY</th>\n",
       "      <th>TAXI</th>\n",
       "      <th>TNC_SHARED</th>\n",
       "      <th>TNC_SINGLE</th>\n",
       "      <th>WALK</th>\n",
       "      <th>WALK_COM</th>\n",
       "      <th>WALK_EXP</th>\n",
       "      <th>WALK_HVY</th>\n",
       "      <th>WALK_LOC</th>\n",
       "      <th>WALK_LRF</th>\n",
       "    </tr>\n",
       "  </thead>\n",
       "  <tbody>\n",
       "    <tr>\n",
       "      <th>analytical</th>\n",
       "      <td>3.152</td>\n",
       "      <td>0.852</td>\n",
       "      <td>0.0</td>\n",
       "      <td>0.0</td>\n",
       "      <td>0.0</td>\n",
       "      <td>0.0</td>\n",
       "      <td>0.0</td>\n",
       "      <td>0.0</td>\n",
       "      <td>0.685</td>\n",
       "      <td>0.0</td>\n",
       "      <td>0.129</td>\n",
       "      <td>0.0</td>\n",
       "      <td>0.182</td>\n",
       "      <td>0.260</td>\n",
       "      <td>1.334</td>\n",
       "      <td>63.708</td>\n",
       "      <td>0.0</td>\n",
       "      <td>0.0</td>\n",
       "      <td>0.455</td>\n",
       "      <td>18.355</td>\n",
       "      <td>10.887</td>\n",
       "    </tr>\n",
       "    <tr>\n",
       "      <th>experiment</th>\n",
       "      <td>3.243</td>\n",
       "      <td>0.880</td>\n",
       "      <td>0.0</td>\n",
       "      <td>0.0</td>\n",
       "      <td>0.0</td>\n",
       "      <td>0.0</td>\n",
       "      <td>0.0</td>\n",
       "      <td>0.0</td>\n",
       "      <td>0.772</td>\n",
       "      <td>0.0</td>\n",
       "      <td>0.156</td>\n",
       "      <td>0.0</td>\n",
       "      <td>0.174</td>\n",
       "      <td>0.259</td>\n",
       "      <td>1.434</td>\n",
       "      <td>63.243</td>\n",
       "      <td>0.0</td>\n",
       "      <td>0.0</td>\n",
       "      <td>0.394</td>\n",
       "      <td>18.639</td>\n",
       "      <td>10.807</td>\n",
       "    </tr>\n",
       "    <tr>\n",
       "      <th>experiment_zenith</th>\n",
       "      <td>3.150</td>\n",
       "      <td>0.874</td>\n",
       "      <td>0.0</td>\n",
       "      <td>0.0</td>\n",
       "      <td>0.0</td>\n",
       "      <td>0.0</td>\n",
       "      <td>0.0</td>\n",
       "      <td>0.0</td>\n",
       "      <td>0.680</td>\n",
       "      <td>0.0</td>\n",
       "      <td>0.136</td>\n",
       "      <td>0.0</td>\n",
       "      <td>0.154</td>\n",
       "      <td>0.236</td>\n",
       "      <td>1.285</td>\n",
       "      <td>63.767</td>\n",
       "      <td>0.0</td>\n",
       "      <td>0.0</td>\n",
       "      <td>0.515</td>\n",
       "      <td>18.824</td>\n",
       "      <td>10.379</td>\n",
       "    </tr>\n",
       "  </tbody>\n",
       "</table>\n",
       "</div>"
      ],
      "text/plain": [
       "                    BIKE  DRIVEALONEFREE  DRIVEALONEPAY  DRIVE_COM  DRIVE_EXP  \\\n",
       "analytical         3.152           0.852            0.0        0.0        0.0   \n",
       "experiment         3.243           0.880            0.0        0.0        0.0   \n",
       "experiment_zenith  3.150           0.874            0.0        0.0        0.0   \n",
       "\n",
       "                   DRIVE_HVY  DRIVE_LOC  DRIVE_LRF  SHARED2FREE  SHARED2PAY  \\\n",
       "analytical               0.0        0.0        0.0        0.685         0.0   \n",
       "experiment               0.0        0.0        0.0        0.772         0.0   \n",
       "experiment_zenith        0.0        0.0        0.0        0.680         0.0   \n",
       "\n",
       "                   SHARED3FREE  SHARED3PAY   TAXI  TNC_SHARED  TNC_SINGLE  \\\n",
       "analytical               0.129         0.0  0.182       0.260       1.334   \n",
       "experiment               0.156         0.0  0.174       0.259       1.434   \n",
       "experiment_zenith        0.136         0.0  0.154       0.236       1.285   \n",
       "\n",
       "                     WALK  WALK_COM  WALK_EXP  WALK_HVY  WALK_LOC  WALK_LRF  \n",
       "analytical         63.708       0.0       0.0     0.455    18.355    10.887  \n",
       "experiment         63.243       0.0       0.0     0.394    18.639    10.807  \n",
       "experiment_zenith  63.767       0.0       0.0     0.515    18.824    10.379  "
      ]
     },
     "metadata": {},
     "output_type": "display_data"
    }
   ],
   "source": [
    "mode_share_rum_zenith = (val_counts_zenith.sum(axis=0) / val_counts_zenith.shape[0]).to_frame('experiment_zenith')\n",
    "assert np.allclose(mode_share_rum_zenith.sum(), 1)\n",
    "full_share_incl_zenith = full_share.merge(mode_share_rum_zenith, left_index=True, right_index=True, how='outer').fillna(0)\n",
    "with pd.option_context(\"precision\", 3):\n",
    "    display((100.0 * full_share_incl_zenith).T)"
   ]
  },
  {
   "cell_type": "code",
   "execution_count": null,
   "id": "5ef84f10-d616-40e4-87e5-425499027ff3",
   "metadata": {},
   "outputs": [],
   "source": []
  },
  {
   "cell_type": "code",
   "execution_count": null,
   "id": "431cee49-40a9-4dc7-93a5-75308fb302dd",
   "metadata": {},
   "outputs": [],
   "source": []
  },
  {
   "cell_type": "code",
   "execution_count": null,
   "id": "1fcdc0ff-c510-4878-8672-8365e046442c",
   "metadata": {},
   "outputs": [],
   "source": []
  }
 ],
 "metadata": {
  "kernelspec": {
   "display_name": "Python 3",
   "language": "python",
   "name": "python3"
  },
  "language_info": {
   "codemirror_mode": {
    "name": "ipython",
    "version": 3
   },
   "file_extension": ".py",
   "mimetype": "text/x-python",
   "name": "python",
   "nbconvert_exporter": "python",
   "pygments_lexer": "ipython3",
   "version": "3.8.2"
  }
 },
 "nbformat": 4,
 "nbformat_minor": 5
}