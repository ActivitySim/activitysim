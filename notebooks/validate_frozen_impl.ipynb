{
 "cells": [
  {
   "cell_type": "markdown",
   "id": "7ece3567-e4b1-4c3f-a264-20625abb6ad7",
   "metadata": {},
   "source": [
    "# validate results\n",
    "\n",
    "## TODO\n",
    "what happened to tracing when I fixed probability calcs - it seems like all trip ids are attached when I add one by\n",
    "hand below - why?"
   ]
  },
  {
   "cell_type": "code",
   "execution_count": 1,
   "id": "bd74ba44-0dfb-439a-a6ab-7ceedfc5f523",
   "metadata": {
    "execution": {
     "iopub.execute_input": "2022-05-01T10:17:57.385153Z",
     "iopub.status.busy": "2022-05-01T10:17:57.384881Z",
     "iopub.status.idle": "2022-05-01T10:17:57.534433Z",
     "shell.execute_reply": "2022-05-01T10:17:57.533096Z",
     "shell.execute_reply.started": "2022-05-01T10:17:57.385047Z"
    },
    "tags": []
   },
   "outputs": [],
   "source": [
    "import numba\n",
    "%load_ext autoreload"
   ]
  },
  {
   "cell_type": "code",
   "execution_count": 2,
   "id": "c3dba451-1e10-403e-8614-35d57e6577f4",
   "metadata": {
    "execution": {
     "iopub.execute_input": "2022-05-01T10:17:57.536623Z",
     "iopub.status.busy": "2022-05-01T10:17:57.536012Z",
     "iopub.status.idle": "2022-05-01T10:17:57.542755Z",
     "shell.execute_reply": "2022-05-01T10:17:57.541685Z",
     "shell.execute_reply.started": "2022-05-01T10:17:57.536567Z"
    },
    "tags": []
   },
   "outputs": [],
   "source": [
    "%autoreload 2"
   ]
  },
  {
   "cell_type": "code",
   "execution_count": 231,
   "id": "73deaac4-e7ac-4aff-b086-4980dc6dd903",
   "metadata": {
    "execution": {
     "iopub.execute_input": "2022-05-01T10:18:00.350944Z",
     "iopub.status.busy": "2022-05-01T10:18:00.350730Z",
     "iopub.status.idle": "2022-05-01T10:18:12.760977Z",
     "shell.execute_reply": "2022-05-01T10:18:12.760013Z",
     "shell.execute_reply.started": "2022-05-01T10:18:00.350919Z"
    },
    "tags": []
   },
   "outputs": [],
   "source": [
    "import os\n",
    "import argparse\n",
    "from datetime import datetime\n",
    "\n",
    "import numpy as np\n",
    "import pandas as pd\n",
    "from numpy.random import default_rng\n",
    "from statsmodels.stats.gof import powerdiscrepancy\n",
    "from statsmodels.stats.proportion import multinomial_proportions_confint\n",
    "import numba\n",
    "\n",
    "from activitysim.cli import run\n",
    "from activitysim.core import inject\n",
    "\n",
    "from fru_utils import run_trip_mode_choice, comp_mode_shares, mode_choice_for_trip"
   ]
  },
  {
   "cell_type": "code",
   "execution_count": 4,
   "id": "7e553abd-fe0d-4cdc-aeb1-9dc80cb2757f",
   "metadata": {
    "execution": {
     "iopub.execute_input": "2022-05-01T10:18:16.944537Z",
     "iopub.status.busy": "2022-05-01T10:18:16.944291Z",
     "iopub.status.idle": "2022-05-01T10:18:17.124764Z",
     "shell.execute_reply": "2022-05-01T10:18:17.123725Z",
     "shell.execute_reply.started": "2022-05-01T10:18:16.944501Z"
    },
    "tags": []
   },
   "outputs": [],
   "source": [
    "pd.set_option(\"max_columns\", 500)"
   ]
  },
  {
   "cell_type": "code",
   "execution_count": 5,
   "id": "41fec4e8-a174-4e66-87d2-1e8c7979de90",
   "metadata": {
    "execution": {
     "iopub.execute_input": "2022-05-01T10:18:17.839947Z",
     "iopub.status.busy": "2022-05-01T10:18:17.839070Z",
     "iopub.status.idle": "2022-05-01T10:18:18.019676Z",
     "shell.execute_reply": "2022-05-01T10:18:18.018689Z",
     "shell.execute_reply.started": "2022-05-01T10:18:17.839911Z"
    },
    "tags": []
   },
   "outputs": [],
   "source": [
    "root_dir = \"/mnt/c/Users/jan.zill/code/activitysim\"\n",
    "example_dir = os.path.join(root_dir, \"test_example_mtc\")"
   ]
  },
  {
   "cell_type": "code",
   "execution_count": 6,
   "id": "2de710a2-d292-42f9-9d4a-4dcef1365506",
   "metadata": {
    "execution": {
     "iopub.execute_input": "2022-05-01T10:18:18.894533Z",
     "iopub.status.busy": "2022-05-01T10:18:18.894303Z",
     "iopub.status.idle": "2022-05-01T10:18:19.078807Z",
     "shell.execute_reply": "2022-05-01T10:18:19.077951Z",
     "shell.execute_reply.started": "2022-05-01T10:18:18.894508Z"
    },
    "tags": []
   },
   "outputs": [],
   "source": [
    "os.chdir(example_dir)"
   ]
  },
  {
   "cell_type": "code",
   "execution_count": 7,
   "id": "730be239-8704-4483-bbb8-ffae0f17c5d4",
   "metadata": {
    "execution": {
     "iopub.execute_input": "2022-05-01T10:18:22.111723Z",
     "iopub.status.busy": "2022-05-01T10:18:22.111490Z",
     "iopub.status.idle": "2022-05-01T10:18:22.297437Z",
     "shell.execute_reply": "2022-05-01T10:18:22.296501Z",
     "shell.execute_reply.started": "2022-05-01T10:18:22.111697Z"
    },
    "tags": []
   },
   "outputs": [],
   "source": [
    "parser = argparse.ArgumentParser()\n",
    "run.add_run_args(parser)\n",
    "# args = parser.parse_args()\n",
    "# parser.parse_args(['--sum', '7', '-1', '42'])\n",
    "args = parser.parse_args(['-c', 'configs', '-o', 'output', '-d', 'data'])\n",
    "#run.run(args)  # 2mins full example run\n",
    "if not inject.is_injectable('preload_injectables'):\n",
    "    from activitysim import abm  # register abm steps and other abm-specific injectables\n",
    "run.handle_standard_args(args)  # possibly update injectables"
   ]
  },
  {
   "cell_type": "code",
   "execution_count": 8,
   "outputs": [],
   "source": [
    "## need to do this before loading checkpoint tables\n",
    "#trace_hh_ids = 1024353\n",
    "##1024353 has trip id 642446345 (at least) where logsum and probs are different\n",
    "##2821179  # has trip_ids 2464104881 and 2464104885\n",
    "#inject.add_injectable(\"trace_hh_id\", trace_hh_ids)"
   ],
   "metadata": {
    "collapsed": false,
    "pycharm": {
     "name": "#%%\n"
    }
   }
  },
  {
   "cell_type": "code",
   "execution_count": 9,
   "id": "3ed520e9-75ef-4eec-ab86-6aaf1fe453fc",
   "metadata": {
    "execution": {
     "iopub.execute_input": "2021-09-01T02:28:53.643404Z",
     "iopub.status.busy": "2021-09-01T02:28:53.643055Z",
     "iopub.status.idle": "2021-09-01T02:29:01.223951Z",
     "shell.execute_reply": "2021-09-01T02:29:01.222865Z",
     "shell.execute_reply.started": "2021-09-01T02:28:53.643367Z"
    },
    "tags": []
   },
   "outputs": [
    {
     "name": "stderr",
     "output_type": "stream",
     "text": [
      "setting trace_hh_id is wrong type, should be an int, but was <class 'list'>\n",
      "estimation bundle trip_mode_choice not in settings file estimation.yaml\n"
     ]
    },
    {
     "name": "stdout",
     "output_type": "stream",
     "text": [
      "Running with %d trips 482\n",
      "trip_mode_choice tour_type 'atwork' (27 trips)\n",
      "trip_mode_choice tour_type 'eatout' (33 trips)\n",
      "trip_mode_choice tour_type 'escort' (6 trips)\n",
      "trip_mode_choice tour_type 'othdiscr' (43 trips)\n",
      "trip_mode_choice tour_type 'othmaint' (46 trips)\n",
      "trip_mode_choice tour_type 'school' (37 trips)\n",
      "trip_mode_choice tour_type 'shopping' (77 trips)\n",
      "trip_mode_choice tour_type 'social' (19 trips)\n",
      "trip_mode_choice tour_type 'univ' (26 trips)\n",
      "trip_mode_choice tour_type 'work' (168 trips)\n",
      "Done\n",
      "Running with %d trips 482\n"
     ]
    },
    {
     "name": "stderr",
     "output_type": "stream",
     "text": [
      "estimation bundle trip_mode_choice not in settings file estimation.yaml\n"
     ]
    },
    {
     "name": "stdout",
     "output_type": "stream",
     "text": [
      "trip_mode_choice tour_type 'atwork' (27 trips)\n",
      "trip_mode_choice tour_type 'eatout' (33 trips)\n",
      "trip_mode_choice tour_type 'escort' (6 trips)\n",
      "trip_mode_choice tour_type 'othdiscr' (43 trips)\n",
      "trip_mode_choice tour_type 'othmaint' (46 trips)\n",
      "trip_mode_choice tour_type 'school' (37 trips)\n",
      "trip_mode_choice tour_type 'shopping' (77 trips)\n",
      "trip_mode_choice tour_type 'social' (19 trips)\n",
      "trip_mode_choice tour_type 'univ' (26 trips)\n",
      "trip_mode_choice tour_type 'work' (168 trips)\n",
      "Done\n",
      "CPU times: user 18.3 s, sys: 2.3 s, total: 20.6 s\n",
      "Wall time: 17.8 s\n"
     ]
    }
   ],
   "source": [
    "%%time\n",
    "trips_df_ru = run_trip_mode_choice()\n",
    "trips_df = run_trip_mode_choice(choose_individual_max_utility=False)"
   ]
  },
  {
   "cell_type": "code",
   "execution_count": 10,
   "outputs": [
    {
     "data": {
      "text/plain": "                trip_mode_fru  trip_mode_asim\nWALK                      309             304\nWALK_LOC                   85              85\nWALK_LRF                   55              53\nBIKE                       15              17\nTNC_SINGLE                  7               4\nDRIVEALONEFREE              5               4\nSHARED2FREE                 3               4\nSHARED3FREE                 2               1\nWALK_HVY                    1               4",
      "text/html": "<div>\n<style scoped>\n    .dataframe tbody tr th:only-of-type {\n        vertical-align: middle;\n    }\n\n    .dataframe tbody tr th {\n        vertical-align: top;\n    }\n\n    .dataframe thead th {\n        text-align: right;\n    }\n</style>\n<table border=\"1\" class=\"dataframe\">\n  <thead>\n    <tr style=\"text-align: right;\">\n      <th></th>\n      <th>trip_mode_fru</th>\n      <th>trip_mode_asim</th>\n    </tr>\n  </thead>\n  <tbody>\n    <tr>\n      <th>WALK</th>\n      <td>309</td>\n      <td>304</td>\n    </tr>\n    <tr>\n      <th>WALK_LOC</th>\n      <td>85</td>\n      <td>85</td>\n    </tr>\n    <tr>\n      <th>WALK_LRF</th>\n      <td>55</td>\n      <td>53</td>\n    </tr>\n    <tr>\n      <th>BIKE</th>\n      <td>15</td>\n      <td>17</td>\n    </tr>\n    <tr>\n      <th>TNC_SINGLE</th>\n      <td>7</td>\n      <td>4</td>\n    </tr>\n    <tr>\n      <th>DRIVEALONEFREE</th>\n      <td>5</td>\n      <td>4</td>\n    </tr>\n    <tr>\n      <th>SHARED2FREE</th>\n      <td>3</td>\n      <td>4</td>\n    </tr>\n    <tr>\n      <th>SHARED3FREE</th>\n      <td>2</td>\n      <td>1</td>\n    </tr>\n    <tr>\n      <th>WALK_HVY</th>\n      <td>1</td>\n      <td>4</td>\n    </tr>\n  </tbody>\n</table>\n</div>"
     },
     "execution_count": 10,
     "metadata": {},
     "output_type": "execute_result"
    }
   ],
   "source": [
    "c_ = [\"trip_mode\", \"mode_choice_logsum\"]\n",
    "trips = trips_df_ru[c_].merge(trips_df[c_], left_index=True, right_index=True, how=\"outer\", suffixes=[\"_fru\", \"_asim\"])\n",
    "pd.merge(trips_df_ru.trip_mode.value_counts(), trips_df.trip_mode.value_counts(), left_index=True, right_index=True,\n",
    "         suffixes=[\"_fru\", \"_asim\"])"
   ],
   "metadata": {
    "collapsed": false,
    "pycharm": {
     "name": "#%%\n"
    }
   }
  },
  {
   "cell_type": "code",
   "execution_count": 11,
   "outputs": [
    {
     "name": "stdout",
     "output_type": "stream",
     "text": [
      "Logsums agree\n"
     ]
    }
   ],
   "source": [
    "if np.allclose(trips.mode_choice_logsum_fru, trips.mode_choice_logsum_asim):\n",
    "    print(\"Logsums agree\")\n",
    "else:\n",
    "    ((trips.mode_choice_logsum_fru - trips.mode_choice_logsum_asim) / trips.mode_choice_logsum_fru).hist(bins=50)"
   ],
   "metadata": {
    "collapsed": false,
    "pycharm": {
     "name": "#%%\n"
    }
   }
  },
  {
   "cell_type": "code",
   "execution_count": 12,
   "outputs": [
    {
     "name": "stdout",
     "output_type": "stream",
     "text": [
      "0.000000e+00\n"
     ]
    }
   ],
   "source": [
    "x_ = np.abs((trips.mode_choice_logsum_fru - trips.mode_choice_logsum_asim)).values\n",
    "print(f\"{x_.max():e}\")"
   ],
   "metadata": {
    "collapsed": false,
    "pycharm": {
     "name": "#%%\n"
    }
   }
  },
  {
   "cell_type": "code",
   "execution_count": 13,
   "outputs": [],
   "source": [
    "#ls_ = np.abs(((trips.mode_choice_logsum_fru - trips.mode_choice_logsum_asim) / trips.mode_choice_logsum_fru))\n",
    "#ls_.sort_values(ascending=False)\n",
    "#trips.loc[trips.index == 642446345]\n",
    "#trips.loc[np.abs(trips.mode_choice_logsum_fru - trips.mode_choice_logsum_asim) > 0]"
   ],
   "metadata": {
    "collapsed": false,
    "pycharm": {
     "name": "#%%\n"
    }
   }
  },
  {
   "cell_type": "markdown",
   "source": [
    "# Run MC validation\n",
    "\n",
    "see logit._each_nest parent_nest_scale for leaf node, and simulate.compute_nested_utilities for discussion of scales\n",
    "of alternatives\n",
    "\n",
    "easiest way is to run a simulation"
   ],
   "metadata": {
    "collapsed": false,
    "pycharm": {
     "name": "#%% md\n"
    }
   }
  },
  {
   "cell_type": "code",
   "execution_count": 14,
   "outputs": [
    {
     "name": "stderr",
     "output_type": "stream",
     "text": [
      "estimation bundle trip_mode_choice not in settings file estimation.yaml\n"
     ]
    },
    {
     "name": "stdout",
     "output_type": "stream",
     "text": [
      "Running with %d trips 482\n",
      "trip_mode_choice tour_type 'atwork' (27 trips)\n",
      "trip_mode_choice tour_type 'eatout' (33 trips)\n",
      "trip_mode_choice tour_type 'escort' (6 trips)\n",
      "trip_mode_choice tour_type 'othdiscr' (43 trips)\n",
      "trip_mode_choice tour_type 'othmaint' (46 trips)\n",
      "trip_mode_choice tour_type 'school' (37 trips)\n",
      "trip_mode_choice tour_type 'shopping' (77 trips)\n",
      "trip_mode_choice tour_type 'social' (19 trips)\n",
      "trip_mode_choice tour_type 'univ' (26 trips)\n",
      "trip_mode_choice tour_type 'work' (168 trips)\n",
      "Done\n"
     ]
    }
   ],
   "source": [
    "from fru_utils import get_stuff\n",
    "t, ru, neu, nu, ns, nested_probs, base_probs = get_stuff()  #do_these_purposes=[\"social\"])  #social\n",
    "bp = pd.concat(base_probs)"
   ],
   "metadata": {
    "collapsed": false,
    "pycharm": {
     "name": "#%%\n"
    }
   }
  },
  {
   "cell_type": "code",
   "execution_count": 107,
   "outputs": [
    {
     "name": "stderr",
     "output_type": "stream",
     "text": [
      "estimation bundle trip_mode_choice not in settings file estimation.yaml\n"
     ]
    },
    {
     "name": "stdout",
     "output_type": "stream",
     "text": [
      "trip_mode_choice tour_type 'social' (10000 trips)\n",
      "Done\n",
      "CPU times: user 8.39 s, sys: 453 ms, total: 8.84 s\n",
      "Wall time: 9.28 s\n"
     ]
    }
   ],
   "source": [
    "%%time\n",
    "#prun\n",
    "\n",
    "num_samples = 10000\n",
    "trip_id_to_check = 642446345  # 1e5 takes about 25s EDIT: BEFORE APPLY, now it's more like 65s and 1e4 takes 8s\n",
    "#  work 615236801  also in trace log\n",
    "#  social 2464104885 642446345 1767182945\n",
    "\n",
    "\n",
    "#bp = base_probs[7]   # 7 for social, 9 for work. Check t[t.index == trip_id_to_check] to see which purpose, and\n",
    "# output above to see which index\n",
    "# choose_individual_max_utility = False\n",
    "#ms_comp = comp_mode_shares(bp, choose_individual_max_utility, num_samples, trip_id_to_check)\n",
    "#display(ms_comp.loc[((ms_comp.mode_share_obs != 0) | (ms_comp.trip_mode != 0)), [\"mode_share_obs\", \"trip_mode\"]].T)\n",
    "\n",
    "choose_individual_max_utility = True\n",
    "t_, c_, _ = mode_choice_for_trip(choose_individual_max_utility=choose_individual_max_utility,\n",
    "                                 trip_id_to_check=trip_id_to_check, num_samples=num_samples)\n",
    "sim_mode_shares = c_.trip_mode.value_counts() / c_.shape[0]\n",
    "ms_comp = comp_mode_shares(bp, sim_mode_shares, trip_id_to_check)\n",
    "#display(ms_comp.loc[((ms_comp.mode_share_obs != 0) | (ms_comp.trip_mode != 0)), [\"mode_share_obs\", \"trip_mode\"]].T)"
   ],
   "metadata": {
    "collapsed": false,
    "pycharm": {
     "name": "#%%\n"
    }
   }
  },
  {
   "cell_type": "code",
   "execution_count": 64,
   "outputs": [
    {
     "data": {
      "text/plain": "(0.3439655414093617, nan)"
     },
     "execution_count": 64,
     "metadata": {},
     "output_type": "execute_result"
    }
   ],
   "source": [
    "# Note power tests will be inf when expected count is zero (any non-zero count will be impossible)\n",
    "eps = 0 #1e-14\n",
    "non_zero_shares = ms_comp.loc[(ms_comp.mode_share_obs > eps) & (ms_comp.trip_mode > eps)][[\"mode_share_obs\", \"trip_mode\"]]\n",
    "ddof = non_zero_shares.shape[0] - 1  # what to use here? num alternatives - 1? What about zero expected count?\n",
    "\n",
    "non_zero_shares.trip_mode *= num_samples\n",
    "\n",
    "sum_ms = non_zero_shares.mode_share_obs.sum()\n",
    "if sum_ms != 1.0:\n",
    "    if np.abs(1.0 - sum_ms) > 1e-1:\n",
    "        print(f\"NOT GOOD {sum_ms} should be one\")\n",
    "        #print(f\"sum ms is not one but {sum_ms}, re-normalising\")\n",
    "    non_zero_shares.mode_share_obs /= sum_ms\n",
    "\n",
    "powerdiscrepancy(non_zero_shares.trip_mode.values, non_zero_shares.mode_share_obs.values, lambd=0, ddof=ddof)"
   ],
   "metadata": {
    "collapsed": false,
    "pycharm": {
     "name": "#%%\n"
    }
   }
  },
  {
   "cell_type": "code",
   "execution_count": 99,
   "outputs": [
    {
     "data": {
      "text/plain": "array([[4.17345080e-03, 5.98926219e-03, 5.00000000e-03],\n       [1.45406892e-04, 6.18851051e-04, 3.00000000e-04],\n       [4.13473933e-02, 4.66025328e-02, 4.39000000e-02],\n       [5.64412252e-02, 6.25036058e-02, 5.94000000e-02],\n       [8.87346329e-01, 8.95325012e-01, 8.91400000e-01]])"
     },
     "execution_count": 99,
     "metadata": {},
     "output_type": "execute_result"
    }
   ],
   "source": [
    "from statsmodels.stats.proportion import multinomial_proportions_confint\n",
    "ci = multinomial_proportions_confint(non_zero_shares.trip_mode.values, alpha=0.999, method='goodman')\n",
    "vals = non_zero_shares.trip_mode.values / num_samples\n",
    "np.hstack((ci, vals.reshape((len(vals),1))))"
   ],
   "metadata": {
    "collapsed": false,
    "pycharm": {
     "name": "#%%\n"
    }
   }
  },
  {
   "cell_type": "code",
   "execution_count": 106,
   "outputs": [
    {
     "data": {
      "text/plain": "array([ True,  True,  True,  True,  True])"
     },
     "execution_count": 106,
     "metadata": {},
     "output_type": "execute_result"
    }
   ],
   "source": [
    "import numba\n",
    "\n",
    "@numba.jit\n",
    "def within(lower, upper, x):\n",
    "    return (x >= lower) & (x <= upper)\n",
    "\n",
    "@numba.jit\n",
    "def numpy_within(x):\n",
    "    lower = x[0]\n",
    "    upper = x[1]\n",
    "    val = x[2]\n",
    "    return within(lower, upper, val)\n",
    "\n",
    "test = np.hstack((ci, vals.reshape((len(vals),1))))\n",
    "np.apply_along_axis(numpy_within, 1, test)"
   ],
   "metadata": {
    "collapsed": false,
    "pycharm": {
     "name": "#%%\n"
    }
   }
  },
  {
   "cell_type": "markdown",
   "source": [
    "# All trips for paper\n"
   ],
   "metadata": {
    "collapsed": false,
    "pycharm": {
     "name": "#%% md\n"
    }
   }
  },
  {
   "cell_type": "code",
   "execution_count": null,
   "outputs": [],
   "source": [
    "%%time\n",
    "\n",
    "num_samples = 10000 #about 8.5s per 10k per trip, so about 70mins for 10k sample. 1e5 is about 10 times as long, so\n",
    "# about 11.5h\n",
    "\n",
    "trips_to_check = bp.index.values #[100:103]\n",
    "\n",
    "res = []\n",
    "\n",
    "for trip_id_to_check in trips_to_check:\n",
    "    _, c_, _ = mode_choice_for_trip(choose_individual_max_utility=True,\n",
    "                            trip_id_to_check=trip_id_to_check, num_samples=num_samples)\n",
    "    sim_mode_shares = c_.trip_mode.value_counts() / c_.shape[0]\n",
    "    res.append(sim_mode_shares.rename(trip_id_to_check).to_frame().T)\n",
    "\n",
    "result_sim = pd.concat(res).fillna(0)\n",
    "result_sim.to_csv(\"temp_res_sim_10ksamples.csv\")"
   ],
   "metadata": {
    "collapsed": false,
    "pycharm": {
     "name": "#%%\n",
     "is_executing": true
    }
   }
  },
  {
   "cell_type": "code",
   "execution_count": 158,
   "outputs": [],
   "source": [
    "#result_sim.merge(bp, left_index=True, right_index=True, how=\"outer\", suffixes=[\"_sim\", \"_asim\"]).fillna(0)"
   ],
   "metadata": {
    "collapsed": false,
    "pycharm": {
     "name": "#%%\n"
    }
   }
  },
  {
   "cell_type": "code",
   "execution_count": 155,
   "outputs": [],
   "source": [
    "merged_results = result_sim.reset_index().rename(columns={\"index\": \"trip_id\"}).melt(id_vars=[\"trip_id\"]).merge(\n",
    "    bp.reset_index().rename(columns={\"index\": \"trip_id\"}).melt(id_vars=[\"trip_id\"]),\n",
    "    on=[\"trip_id\", \"variable\"],\n",
    "    how=\"outer\",\n",
    "    suffixes=[\"_sim\", \"_obs\"]\n",
    ").fillna(0)"
   ],
   "metadata": {
    "collapsed": false,
    "pycharm": {
     "name": "#%%\n"
    }
   }
  },
  {
   "cell_type": "code",
   "execution_count": 157,
   "outputs": [
    {
     "data": {
      "text/plain": "<AxesSubplot:xlabel='value_sim', ylabel='value_obs'>"
     },
     "execution_count": 157,
     "metadata": {},
     "output_type": "execute_result"
    },
    {
     "data": {
      "text/plain": "<Figure size 432x288 with 1 Axes>",
      "image/png": "[encoded data removed]"
     },
     "metadata": {
      "needs_background": "light"
     },
     "output_type": "display_data"
    }
   ],
   "source": [
    "import seaborn as sns\n",
    "\n",
    "sns.scatterplot(data=merged_results, x=\"value_sim\", y=\"value_obs\")"
   ],
   "metadata": {
    "collapsed": false,
    "pycharm": {
     "name": "#%%\n"
    }
   }
  },
  {
   "cell_type": "code",
   "execution_count": 159,
   "outputs": [
    {
     "data": {
      "text/plain": "LinregressResult(slope=0.999889299809943, intercept=5.271437621759412e-06, rvalue=0.9999938263765986, pvalue=0.0, stderr=3.49259911845371e-05, intercept_stderr=6.896656958760079e-06)"
     },
     "execution_count": 159,
     "metadata": {},
     "output_type": "execute_result"
    }
   ],
   "source": [
    "#from scipy.special import rel_entr\n",
    "from scipy.stats import linregress\n",
    "linregress(merged_results.value_sim.values, merged_results.value_obs.values)"
   ],
   "metadata": {
    "collapsed": false,
    "pycharm": {
     "name": "#%%\n"
    }
   }
  },
  {
   "cell_type": "markdown",
   "source": [
    "#### generic power discrepancy implementation in statsmodels\n",
    "\n",
    "lambd{float, str}\n",
    "float : exponent a for power discrepancy\n",
    "\n",
    "‘loglikeratio’: a = 0\n",
    "\n",
    "‘freeman_tukey’: a = -0.5\n",
    "\n",
    "‘pearson’: a = 1 (standard chisquare test statistic)\n",
    "\n",
    "‘modified_loglikeratio’: a = -1\n",
    "\n",
    "‘cressie_read’: a = 2/3\n",
    "\n",
    "‘neyman’ : a = -2 (Neyman-modified chisquare, reference from a book?)\n",
    "\n",
    "note - they are all based on continuous approximations (x^2) so technically they might be inadequate for very small\n",
    "occurences of counts"
   ],
   "metadata": {
    "collapsed": false
   }
  },
  {
   "cell_type": "code",
   "execution_count": 64,
   "outputs": [
    {
     "data": {
      "text/plain": "(0.3439655414093617, nan)"
     },
     "execution_count": 64,
     "metadata": {},
     "output_type": "execute_result"
    }
   ],
   "source": [
    "# Note power tests will be inf when expected count is zero (any non-zero count will be impossible)\n",
    "eps = 0 #1e-14\n",
    "non_zero_shares = ms_comp.loc[(ms_comp.mode_share_obs > eps) & (ms_comp.trip_mode > eps)][[\"mode_share_obs\", \"trip_mode\"]]\n",
    "ddof = non_zero_shares.shape[0] - 1  # what to use here? num alternatives - 1? What about zero expected count?\n",
    "\n",
    "non_zero_shares.trip_mode *= num_samples\n",
    "\n",
    "sum_ms = non_zero_shares.mode_share_obs.sum()\n",
    "if sum_ms != 1.0:\n",
    "    if np.abs(1.0 - sum_ms) > 1e-1:\n",
    "        print(f\"NOT GOOD {sum_ms} should be one\")\n",
    "        #print(f\"sum ms is not one but {sum_ms}, re-normalising\")\n",
    "    non_zero_shares.mode_share_obs /= sum_ms\n",
    "\n",
    "powerdiscrepancy(non_zero_shares.trip_mode.values, non_zero_shares.mode_share_obs.values, lambd=0, ddof=ddof)"
   ],
   "metadata": {
    "collapsed": false,
    "pycharm": {
     "name": "#%%\n"
    }
   }
  },
  {
   "cell_type": "code",
   "execution_count": 99,
   "outputs": [
    {
     "data": {
      "text/plain": "array([[4.17345080e-03, 5.98926219e-03, 5.00000000e-03],\n       [1.45406892e-04, 6.18851051e-04, 3.00000000e-04],\n       [4.13473933e-02, 4.66025328e-02, 4.39000000e-02],\n       [5.64412252e-02, 6.25036058e-02, 5.94000000e-02],\n       [8.87346329e-01, 8.95325012e-01, 8.91400000e-01]])"
     },
     "execution_count": 99,
     "metadata": {},
     "output_type": "execute_result"
    }
   ],
   "source": [
    "\n"
   ],
   "metadata": {
    "collapsed": false,
    "pycharm": {
     "name": "#%%\n"
    }
   }
  },
  {
   "cell_type": "code",
   "execution_count": 106,
   "outputs": [
    {
     "data": {
      "text/plain": "array([ True,  True,  True,  True,  True])"
     },
     "execution_count": 106,
     "metadata": {},
     "output_type": "execute_result"
    }
   ],
   "source": [],
   "metadata": {
    "collapsed": false,
    "pycharm": {
     "name": "#%%\n"
    }
   }
  },
  {
   "cell_type": "code",
   "execution_count": 230,
   "outputs": [],
   "source": [
    "# test_trip_res = merged_results.loc[merged_results.trip_id == 1045822217]\n",
    "# ci = multinomial_proportions_confint(num_samples * test_trip_res.value_sim.values, alpha=0.999, method='goodman')\n",
    "# np.hstack((test_trip_res[['value_obs']].to_numpy(), ci))"
   ],
   "metadata": {
    "collapsed": false,
    "pycharm": {
     "name": "#%%\n"
    }
   }
  },
  {
   "cell_type": "code",
   "execution_count": 275,
   "outputs": [],
   "source": [
    "@numba.jit\n",
    "def within(lower, upper, x):\n",
    "    return (x >= lower) & (x <= upper)\n",
    "\n",
    "@numba.jit\n",
    "def numpy_within(x):\n",
    "    lower = x[0]\n",
    "    upper = x[1]\n",
    "    val = x[2]\n",
    "    return within(lower, upper, val)\n",
    "\n",
    "def all_within_ci(trip_df, num_samples):\n",
    "    ci = multinomial_proportions_confint(num_samples * trip_df.value_sim.values, alpha=0.99999, method='goodman')\n",
    "    vals_with_ci = np.hstack((ci, trip_df[['value_obs']].to_numpy()))\n",
    "    return np.apply_along_axis(numpy_within, 1, vals_with_ci).all()"
   ],
   "metadata": {
    "collapsed": false,
    "pycharm": {
     "name": "#%%\n"
    }
   }
  },
  {
   "cell_type": "code",
   "execution_count": 276,
   "outputs": [],
   "source": [
    "vals_within_ci = merged_results.groupby(\"trip_id\").apply(lambda group: all_within_ci(group, num_samples))"
   ],
   "metadata": {
    "collapsed": false,
    "pycharm": {
     "name": "#%%\n"
    }
   }
  },
  {
   "cell_type": "code",
   "execution_count": 277,
   "outputs": [
    {
     "name": "stdout",
     "output_type": "stream",
     "text": [
      "Have 57 with contribution outside 0.99 CI\n"
     ]
    }
   ],
   "source": [
    "trips_not_within = vals_within_ci.loc[~vals_within_ci]\n",
    "print(f\"Have {trips_not_within.shape[0]} with contribution outside 0.99 CI\")"
   ],
   "metadata": {
    "collapsed": false,
    "pycharm": {
     "name": "#%%\n"
    }
   }
  },
  {
   "cell_type": "code",
   "execution_count": 291,
   "outputs": [],
   "source": [
    "bad_res = []\n",
    "\n",
    "for bad_trip_id in trips_not_within.index.values:\n",
    "    trip_df = merged_results.loc[merged_results.trip_id == bad_trip_id]\n",
    "    ci = multinomial_proportions_confint(num_samples * trip_df.value_sim.values, alpha=0.999, method='goodman')\n",
    "    vals_with_ci = np.hstack((ci, trip_df[['value_obs']].to_numpy()))\n",
    "    x_ = pd.DataFrame(vals_with_ci)\n",
    "    x_['in_range'] = np.apply_along_axis(numpy_within, 1, vals_with_ci)[:np.newaxis]\n",
    "    bad_res.append(x_.loc[~x_.in_range])\n",
    "bad_res = pd.concat(bad_res)\n",
    "bad_res.columns = [\"lb\", \"ub\", \"value\", \"within\"]"
   ],
   "metadata": {
    "collapsed": false,
    "pycharm": {
     "name": "#%%\n"
    }
   }
  },
  {
   "cell_type": "code",
   "execution_count": 292,
   "outputs": [
    {
     "data": {
      "text/plain": "         lb        ub     value  within\n8  0.001687  0.003703  0.001667   False\n8  0.005178  0.008409  0.004877   False\n8  0.005531  0.008856  0.004911   False\n3  0.000054  0.000738  0.000051   False\n8  0.004739  0.007848  0.004560   False\n3  0.000154  0.001038  0.000112   False\n3  0.000154  0.001038  0.000125   False\n3  0.000403  0.001589  0.000400   False\n3  0.100737  0.112972  0.100614   False\n3  0.000540  0.001852  0.000525   False\n3  0.000470  0.001721  0.000423   False\n7  0.000273  0.001319  0.001341   False\n8  0.000017  0.000575  0.000011   False\n8  0.003184  0.005805  0.002994   False\n8  0.001930  0.004060  0.001838   False\n8  0.003099  0.005690  0.003060   False\n3  0.000154  0.001038  0.000117   False\n8  0.002676  0.005113  0.002415   False\n3  0.001133  0.002858  0.001023   False\n8  0.005266  0.008521  0.004850   False\n8  0.002509  0.004881  0.002161   False\n8  0.005531  0.008856  0.005396   False\n8  0.003269  0.005920  0.003160   False\n3  0.000054  0.000738  0.000030   False\n3  0.000054  0.000738  0.000025   False\n3  0.076921  0.087807  0.076860   False\n8  0.004477  0.007510  0.004245   False\n2  0.001133  0.002858  0.001085   False\n8  0.004477  0.007510  0.004245   False\n8  0.003526  0.006263  0.003404   False\n8  0.003440  0.006149  0.003351   False\n8  0.004739  0.007848  0.004276   False\n8  0.003784  0.006605  0.003404   False\n8  0.004303  0.007285  0.003717   False\n8  0.000017  0.000575  0.000008   False\n1  0.000101  0.000891  0.000084   False\n8  0.001930  0.004060  0.001920   False\n3  0.032773  0.040191  0.032192   False\n3  0.000337  0.001455  0.000256   False\n3  0.000756  0.002236  0.000730   False\n8  0.000017  0.000575  0.000017   False\n1  0.000054  0.000738  0.000033   False\n1  0.000017  0.000575  0.000006   False\n1  0.000017  0.000575  0.000008   False\n8  0.000017  0.000575  0.000014   False\n3  0.000054  0.000738  0.000041   False\n3  0.000101  0.000891  0.000058   False\n8  0.000017  0.000575  0.000016   False\n8  0.018715  0.024460  0.018662   False\n0  0.998545  0.999663  0.999677   False\n1  0.000054  0.000738  0.000053   False\n3  0.103271  0.115636  0.102986   False\n3  0.103271  0.115636  0.102967   False\n8  0.000017  0.000575  0.000012   False\n8  0.000017  0.000575  0.000013   False\n8  0.002676  0.005113  0.002658   False\n3  0.001289  0.003102  0.001196   False\n7  0.009844  0.014139  0.009778   False\n3  0.000470  0.001721  0.000384   False",
      "text/html": "<div>\n<style scoped>\n    .dataframe tbody tr th:only-of-type {\n        vertical-align: middle;\n    }\n\n    .dataframe tbody tr th {\n        vertical-align: top;\n    }\n\n    .dataframe thead th {\n        text-align: right;\n    }\n</style>\n<table border=\"1\" class=\"dataframe\">\n  <thead>\n    <tr style=\"text-align: right;\">\n      <th></th>\n      <th>lb</th>\n      <th>ub</th>\n      <th>value</th>\n      <th>within</th>\n    </tr>\n  </thead>\n  <tbody>\n    <tr>\n      <th>8</th>\n      <td>0.001687</td>\n      <td>0.003703</td>\n      <td>0.001667</td>\n      <td>False</td>\n    </tr>\n    <tr>\n      <th>8</th>\n      <td>0.005178</td>\n      <td>0.008409</td>\n      <td>0.004877</td>\n      <td>False</td>\n    </tr>\n    <tr>\n      <th>8</th>\n      <td>0.005531</td>\n      <td>0.008856</td>\n      <td>0.004911</td>\n      <td>False</td>\n    </tr>\n    <tr>\n      <th>3</th>\n      <td>0.000054</td>\n      <td>0.000738</td>\n      <td>0.000051</td>\n      <td>False</td>\n    </tr>\n    <tr>\n      <th>8</th>\n      <td>0.004739</td>\n      <td>0.007848</td>\n      <td>0.004560</td>\n      <td>False</td>\n    </tr>\n    <tr>\n      <th>3</th>\n      <td>0.000154</td>\n      <td>0.001038</td>\n      <td>0.000112</td>\n      <td>False</td>\n    </tr>\n    <tr>\n      <th>3</th>\n      <td>0.000154</td>\n      <td>0.001038</td>\n      <td>0.000125</td>\n      <td>False</td>\n    </tr>\n    <tr>\n      <th>3</th>\n      <td>0.000403</td>\n      <td>0.001589</td>\n      <td>0.000400</td>\n      <td>False</td>\n    </tr>\n    <tr>\n      <th>3</th>\n      <td>0.100737</td>\n      <td>0.112972</td>\n      <td>0.100614</td>\n      <td>False</td>\n    </tr>\n    <tr>\n      <th>3</th>\n      <td>0.000540</td>\n      <td>0.001852</td>\n      <td>0.000525</td>\n      <td>False</td>\n    </tr>\n    <tr>\n      <th>3</th>\n      <td>0.000470</td>\n      <td>0.001721</td>\n      <td>0.000423</td>\n      <td>False</td>\n    </tr>\n    <tr>\n      <th>7</th>\n      <td>0.000273</td>\n      <td>0.001319</td>\n      <td>0.001341</td>\n      <td>False</td>\n    </tr>\n    <tr>\n      <th>8</th>\n      <td>0.000017</td>\n      <td>0.000575</td>\n      <td>0.000011</td>\n      <td>False</td>\n    </tr>\n    <tr>\n      <th>8</th>\n      <td>0.003184</td>\n      <td>0.005805</td>\n      <td>0.002994</td>\n      <td>False</td>\n    </tr>\n    <tr>\n      <th>8</th>\n      <td>0.001930</td>\n      <td>0.004060</td>\n      <td>0.001838</td>\n      <td>False</td>\n    </tr>\n    <tr>\n      <th>8</th>\n      <td>0.003099</td>\n      <td>0.005690</td>\n      <td>0.003060</td>\n      <td>False</td>\n    </tr>\n    <tr>\n      <th>3</th>\n      <td>0.000154</td>\n      <td>0.001038</td>\n      <td>0.000117</td>\n      <td>False</td>\n    </tr>\n    <tr>\n      <th>8</th>\n      <td>0.002676</td>\n      <td>0.005113</td>\n      <td>0.002415</td>\n      <td>False</td>\n    </tr>\n    <tr>\n      <th>3</th>\n      <td>0.001133</td>\n      <td>0.002858</td>\n      <td>0.001023</td>\n      <td>False</td>\n    </tr>\n    <tr>\n      <th>8</th>\n      <td>0.005266</td>\n      <td>0.008521</td>\n      <td>0.004850</td>\n      <td>False</td>\n    </tr>\n    <tr>\n      <th>8</th>\n      <td>0.002509</td>\n      <td>0.004881</td>\n      <td>0.002161</td>\n      <td>False</td>\n    </tr>\n    <tr>\n      <th>8</th>\n      <td>0.005531</td>\n      <td>0.008856</td>\n      <td>0.005396</td>\n      <td>False</td>\n    </tr>\n    <tr>\n      <th>8</th>\n      <td>0.003269</td>\n      <td>0.005920</td>\n      <td>0.003160</td>\n      <td>False</td>\n    </tr>\n    <tr>\n      <th>3</th>\n      <td>0.000054</td>\n      <td>0.000738</td>\n      <td>0.000030</td>\n      <td>False</td>\n    </tr>\n    <tr>\n      <th>3</th>\n      <td>0.000054</td>\n      <td>0.000738</td>\n      <td>0.000025</td>\n      <td>False</td>\n    </tr>\n    <tr>\n      <th>3</th>\n      <td>0.076921</td>\n      <td>0.087807</td>\n      <td>0.076860</td>\n      <td>False</td>\n    </tr>\n    <tr>\n      <th>8</th>\n      <td>0.004477</td>\n      <td>0.007510</td>\n      <td>0.004245</td>\n      <td>False</td>\n    </tr>\n    <tr>\n      <th>2</th>\n      <td>0.001133</td>\n      <td>0.002858</td>\n      <td>0.001085</td>\n      <td>False</td>\n    </tr>\n    <tr>\n      <th>8</th>\n      <td>0.004477</td>\n      <td>0.007510</td>\n      <td>0.004245</td>\n      <td>False</td>\n    </tr>\n    <tr>\n      <th>8</th>\n      <td>0.003526</td>\n      <td>0.006263</td>\n      <td>0.003404</td>\n      <td>False</td>\n    </tr>\n    <tr>\n      <th>8</th>\n      <td>0.003440</td>\n      <td>0.006149</td>\n      <td>0.003351</td>\n      <td>False</td>\n    </tr>\n    <tr>\n      <th>8</th>\n      <td>0.004739</td>\n      <td>0.007848</td>\n      <td>0.004276</td>\n      <td>False</td>\n    </tr>\n    <tr>\n      <th>8</th>\n      <td>0.003784</td>\n      <td>0.006605</td>\n      <td>0.003404</td>\n      <td>False</td>\n    </tr>\n    <tr>\n      <th>8</th>\n      <td>0.004303</td>\n      <td>0.007285</td>\n      <td>0.003717</td>\n      <td>False</td>\n    </tr>\n    <tr>\n      <th>8</th>\n      <td>0.000017</td>\n      <td>0.000575</td>\n      <td>0.000008</td>\n      <td>False</td>\n    </tr>\n    <tr>\n      <th>1</th>\n      <td>0.000101</td>\n      <td>0.000891</td>\n      <td>0.000084</td>\n      <td>False</td>\n    </tr>\n    <tr>\n      <th>8</th>\n      <td>0.001930</td>\n      <td>0.004060</td>\n      <td>0.001920</td>\n      <td>False</td>\n    </tr>\n    <tr>\n      <th>3</th>\n      <td>0.032773</td>\n      <td>0.040191</td>\n      <td>0.032192</td>\n      <td>False</td>\n    </tr>\n    <tr>\n      <th>3</th>\n      <td>0.000337</td>\n      <td>0.001455</td>\n      <td>0.000256</td>\n      <td>False</td>\n    </tr>\n    <tr>\n      <th>3</th>\n      <td>0.000756</td>\n      <td>0.002236</td>\n      <td>0.000730</td>\n      <td>False</td>\n    </tr>\n    <tr>\n      <th>8</th>\n      <td>0.000017</td>\n      <td>0.000575</td>\n      <td>0.000017</td>\n      <td>False</td>\n    </tr>\n    <tr>\n      <th>1</th>\n      <td>0.000054</td>\n      <td>0.000738</td>\n      <td>0.000033</td>\n      <td>False</td>\n    </tr>\n    <tr>\n      <th>1</th>\n      <td>0.000017</td>\n      <td>0.000575</td>\n      <td>0.000006</td>\n      <td>False</td>\n    </tr>\n    <tr>\n      <th>1</th>\n      <td>0.000017</td>\n      <td>0.000575</td>\n      <td>0.000008</td>\n      <td>False</td>\n    </tr>\n    <tr>\n      <th>8</th>\n      <td>0.000017</td>\n      <td>0.000575</td>\n      <td>0.000014</td>\n      <td>False</td>\n    </tr>\n    <tr>\n      <th>3</th>\n      <td>0.000054</td>\n      <td>0.000738</td>\n      <td>0.000041</td>\n      <td>False</td>\n    </tr>\n    <tr>\n      <th>3</th>\n      <td>0.000101</td>\n      <td>0.000891</td>\n      <td>0.000058</td>\n      <td>False</td>\n    </tr>\n    <tr>\n      <th>8</th>\n      <td>0.000017</td>\n      <td>0.000575</td>\n      <td>0.000016</td>\n      <td>False</td>\n    </tr>\n    <tr>\n      <th>8</th>\n      <td>0.018715</td>\n      <td>0.024460</td>\n      <td>0.018662</td>\n      <td>False</td>\n    </tr>\n    <tr>\n      <th>0</th>\n      <td>0.998545</td>\n      <td>0.999663</td>\n      <td>0.999677</td>\n      <td>False</td>\n    </tr>\n    <tr>\n      <th>1</th>\n      <td>0.000054</td>\n      <td>0.000738</td>\n      <td>0.000053</td>\n      <td>False</td>\n    </tr>\n    <tr>\n      <th>3</th>\n      <td>0.103271</td>\n      <td>0.115636</td>\n      <td>0.102986</td>\n      <td>False</td>\n    </tr>\n    <tr>\n      <th>3</th>\n      <td>0.103271</td>\n      <td>0.115636</td>\n      <td>0.102967</td>\n      <td>False</td>\n    </tr>\n    <tr>\n      <th>8</th>\n      <td>0.000017</td>\n      <td>0.000575</td>\n      <td>0.000012</td>\n      <td>False</td>\n    </tr>\n    <tr>\n      <th>8</th>\n      <td>0.000017</td>\n      <td>0.000575</td>\n      <td>0.000013</td>\n      <td>False</td>\n    </tr>\n    <tr>\n      <th>8</th>\n      <td>0.002676</td>\n      <td>0.005113</td>\n      <td>0.002658</td>\n      <td>False</td>\n    </tr>\n    <tr>\n      <th>3</th>\n      <td>0.001289</td>\n      <td>0.003102</td>\n      <td>0.001196</td>\n      <td>False</td>\n    </tr>\n    <tr>\n      <th>7</th>\n      <td>0.009844</td>\n      <td>0.014139</td>\n      <td>0.009778</td>\n      <td>False</td>\n    </tr>\n    <tr>\n      <th>3</th>\n      <td>0.000470</td>\n      <td>0.001721</td>\n      <td>0.000384</td>\n      <td>False</td>\n    </tr>\n  </tbody>\n</table>\n</div>"
     },
     "execution_count": 292,
     "metadata": {},
     "output_type": "execute_result"
    }
   ],
   "source": [
    "bad_res"
   ],
   "metadata": {
    "collapsed": false,
    "pycharm": {
     "name": "#%%\n"
    }
   }
  },
  {
   "cell_type": "code",
   "execution_count": null,
   "outputs": [],
   "source": [],
   "metadata": {
    "collapsed": false,
    "pycharm": {
     "name": "#%%\n"
    }
   }
  },
  {
   "cell_type": "code",
   "execution_count": null,
   "outputs": [],
   "source": [],
   "metadata": {
    "collapsed": false,
    "pycharm": {
     "name": "#%%\n"
    }
   }
  },
  {
   "cell_type": "code",
   "execution_count": null,
   "outputs": [],
   "source": [],
   "metadata": {
    "collapsed": false,
    "pycharm": {
     "name": "#%%\n"
    }
   }
  },
  {
   "cell_type": "code",
   "execution_count": null,
   "outputs": [],
   "source": [],
   "metadata": {
    "collapsed": false,
    "pycharm": {
     "name": "#%%\n"
    }
   }
  },
  {
   "cell_type": "code",
   "execution_count": null,
   "outputs": [],
   "source": [],
   "metadata": {
    "collapsed": false,
    "pycharm": {
     "name": "#%%\n"
    }
   }
  },
  {
   "cell_type": "code",
   "execution_count": null,
   "outputs": [],
   "source": [],
   "metadata": {
    "collapsed": false,
    "pycharm": {
     "name": "#%%\n"
    }
   }
  },
  {
   "cell_type": "code",
   "execution_count": null,
   "outputs": [],
   "source": [],
   "metadata": {
    "collapsed": false,
    "pycharm": {
     "name": "#%%\n"
    }
   }
  },
  {
   "cell_type": "code",
   "execution_count": null,
   "outputs": [],
   "source": [],
   "metadata": {
    "collapsed": false,
    "pycharm": {
     "name": "#%%\n"
    }
   }
  },
  {
   "cell_type": "markdown",
   "source": [
    "# Dev corner"
   ],
   "metadata": {
    "collapsed": false,
    "pycharm": {
     "name": "#%% md\n"
    }
   }
  },
  {
   "cell_type": "markdown",
   "source": [
    "## try to improve runtime of apply\n",
    "\n"
   ],
   "metadata": {
    "collapsed": false,
    "pycharm": {
     "name": "#%% md\n"
    }
   }
  },
  {
   "cell_type": "code",
   "execution_count": 239,
   "outputs": [
    {
     "data": {
      "text/plain": "           DRIVEALONEFREE  DRIVEALONEPAY  SHARED2FREE  SHARED2PAY  \\\ntrip_id                                                             \n642446345             0.0            0.0     0.004883         0.0   \n\n            SHARED3FREE  SHARED3PAY      WALK  BIKE  WALK_LOC  WALK_LRF  \\\ntrip_id                                                                   \n642446345  4.701403e-14         0.0  0.044905   0.0  0.059962  0.889736   \n\n           WALK_EXP  WALK_HVY  WALK_COM  DRIVE_LOC  DRIVE_LRF  DRIVE_EXP  \\\ntrip_id                                                                    \n642446345       0.0       0.0       0.0        0.0        0.0        0.0   \n\n           DRIVE_HVY  DRIVE_COM      TAXI  TNC_SINGLE  TNC_SHARED  \ntrip_id                                                            \n642446345        0.0        0.0  0.000096    0.000131    0.000287  ",
      "text/html": "<div>\n<style scoped>\n    .dataframe tbody tr th:only-of-type {\n        vertical-align: middle;\n    }\n\n    .dataframe tbody tr th {\n        vertical-align: top;\n    }\n\n    .dataframe thead th {\n        text-align: right;\n    }\n</style>\n<table border=\"1\" class=\"dataframe\">\n  <thead>\n    <tr style=\"text-align: right;\">\n      <th></th>\n      <th>DRIVEALONEFREE</th>\n      <th>DRIVEALONEPAY</th>\n      <th>SHARED2FREE</th>\n      <th>SHARED2PAY</th>\n      <th>SHARED3FREE</th>\n      <th>SHARED3PAY</th>\n      <th>WALK</th>\n      <th>BIKE</th>\n      <th>WALK_LOC</th>\n      <th>WALK_LRF</th>\n      <th>WALK_EXP</th>\n      <th>WALK_HVY</th>\n      <th>WALK_COM</th>\n      <th>DRIVE_LOC</th>\n      <th>DRIVE_LRF</th>\n      <th>DRIVE_EXP</th>\n      <th>DRIVE_HVY</th>\n      <th>DRIVE_COM</th>\n      <th>TAXI</th>\n      <th>TNC_SINGLE</th>\n      <th>TNC_SHARED</th>\n    </tr>\n    <tr>\n      <th>trip_id</th>\n      <th></th>\n      <th></th>\n      <th></th>\n      <th></th>\n      <th></th>\n      <th></th>\n      <th></th>\n      <th></th>\n      <th></th>\n      <th></th>\n      <th></th>\n      <th></th>\n      <th></th>\n      <th></th>\n      <th></th>\n      <th></th>\n      <th></th>\n      <th></th>\n      <th></th>\n      <th></th>\n      <th></th>\n    </tr>\n  </thead>\n  <tbody>\n    <tr>\n      <th>642446345</th>\n      <td>0.0</td>\n      <td>0.0</td>\n      <td>0.004883</td>\n      <td>0.0</td>\n      <td>4.701403e-14</td>\n      <td>0.0</td>\n      <td>0.044905</td>\n      <td>0.0</td>\n      <td>0.059962</td>\n      <td>0.889736</td>\n      <td>0.0</td>\n      <td>0.0</td>\n      <td>0.0</td>\n      <td>0.0</td>\n      <td>0.0</td>\n      <td>0.0</td>\n      <td>0.0</td>\n      <td>0.0</td>\n      <td>0.000096</td>\n      <td>0.000131</td>\n      <td>0.000287</td>\n    </tr>\n  </tbody>\n</table>\n</div>"
     },
     "metadata": {},
     "output_type": "display_data"
    }
   ],
   "source": [
    "nest_spec = ns[7]  # 7 is social\n",
    "nest_util = nu[7].loc[nu[7].index == trip_id_to_check]\n",
    "\n",
    "n = 10000\n",
    "\n",
    "nest_util = nest_util.loc[nest_util.index.repeat(n)]\n",
    "nest_util.index += np.arange(n)\n",
    "\n",
    "display(base_probs[7].loc[base_probs[7].index == trip_id_to_check])"
   ],
   "metadata": {
    "collapsed": false,
    "pycharm": {
     "name": "#%%\n"
    }
   }
  },
  {
   "cell_type": "code",
   "execution_count": 240,
   "outputs": [
    {
     "name": "stdout",
     "output_type": "stream",
     "text": [
      "CPU times: user 31.2 ms, sys: 0 ns, total: 31.2 ms\n",
      "Wall time: 21.1 ms\n"
     ]
    }
   ],
   "source": [
    "%%time\n",
    "\n",
    "from numpy.random import default_rng\n",
    "from activitysim.core import logit\n",
    "\n",
    "rng = default_rng(999)\n",
    "\n",
    "def random_for_df(df):\n",
    "    return rng.random(size=df.shape)\n",
    "\n",
    "def add_ev1_random(df):\n",
    "    uniform_rands = random_for_df(df)\n",
    "    df = df + logit.inverse_ev1_cdf(uniform_rands)\n",
    "    return df\n",
    "\n",
    "nest_utils_for_choice = add_ev1_random(nest_util)"
   ],
   "metadata": {
    "collapsed": false,
    "pycharm": {
     "name": "#%%\n"
    }
   }
  },
  {
   "cell_type": "code",
   "execution_count": 241,
   "outputs": [],
   "source": [
    "def group_nests_by_name(nest_spec):\n",
    "    # group nests by level, returns {level: [nest.name at that level]}\n",
    "    depth = np.max([x.level for x in logit.each_nest(nest_spec)])\n",
    "    nest_levels = {x: [] for x in range(1, depth+1)}\n",
    "    for n in logit.each_nest(nest_spec):\n",
    "        nest_levels[n.level].append(n.name)\n",
    "    return nest_levels\n",
    "\n",
    "def make_choices_apply(nested_utilities, all_alternatives, logit_nest_groups, nest_alternatives_by_name):\n",
    "    for level, nest_names in logit_nest_groups.items():\n",
    "        if level == 1:\n",
    "            next_level_alts = nest_alternatives_by_name[nest_names[0]]\n",
    "            continue\n",
    "        choice_this_level = nested_utilities[nested_utilities.index.isin(next_level_alts)].idxmax()\n",
    "        if choice_this_level in all_alternatives:\n",
    "            return choice_this_level\n",
    "        next_level_alts = nest_alternatives_by_name[choice_this_level]\n",
    "    raise ValueError(\"This should never happen - no alternative found\")"
   ],
   "metadata": {
    "collapsed": false,
    "pycharm": {
     "name": "#%%\n"
    }
   }
  },
  {
   "cell_type": "code",
   "execution_count": 242,
   "outputs": [],
   "source": [
    "%%prun\n",
    "all_alternatives = set(nest.name for nest in logit.each_nest(nest_spec, type='leaf'))\n",
    "logit_nest_groups = group_nests_by_name(nest_spec)\n",
    "nest_alternatives_by_name = {n.name: n.alternatives for n in logit.each_nest(nest_spec)}\n",
    "\n",
    "choices_apply = nest_utils_for_choice.apply(\n",
    "    lambda x: make_choices_apply(x, all_alternatives, logit_nest_groups, nest_alternatives_by_name),\n",
    "    axis=1\n",
    ")"
   ],
   "metadata": {
    "collapsed": false,
    "pycharm": {
     "name": "#%%\n"
    }
   }
  },
  {
   "cell_type": "code",
   "execution_count": 243,
   "outputs": [
    {
     "data": {
      "text/plain": "WALK_LRF       0.8383\nWALK_LOC       0.1158\nWALK           0.0405\nSHARED2FREE    0.0048\nTNC_SHARED     0.0003\nTAXI           0.0002\nTNC_SINGLE     0.0001\ndtype: float64"
     },
     "execution_count": 243,
     "metadata": {},
     "output_type": "execute_result"
    }
   ],
   "source": [
    "choices_apply.value_counts() / n"
   ],
   "metadata": {
    "collapsed": false,
    "pycharm": {
     "name": "#%%\n"
    }
   }
  },
  {
   "cell_type": "code",
   "execution_count": null,
   "outputs": [],
   "source": [],
   "metadata": {
    "collapsed": false,
    "pycharm": {
     "name": "#%%\n"
    }
   }
  },
  {
   "cell_type": "markdown",
   "source": [
    "# stuff\n"
   ],
   "metadata": {
    "collapsed": false,
    "pycharm": {
     "name": "#%% md\n"
    }
   }
  },
  {
   "cell_type": "code",
   "execution_count": 172,
   "outputs": [
    {
     "name": "stderr",
     "output_type": "stream",
     "text": [
      "register joint_tour_participants: no rows with household_id in [982875].\n"
     ]
    }
   ],
   "source": [
    "from activitysim.core import pipeline\n",
    "\n",
    "resume_after = \"trip_scheduling\"\n",
    "model_name = \"trip_mode_choice\"\n",
    "chunk_size = 0  # test_mtc means no chunking\n",
    "\n",
    "pipeline.open_pipeline(resume_after)\n",
    "# preload any bulky injectables (e.g. skims) not in pipeline\n",
    "inject.get_injectable('preload_injectables', None)\n",
    "pipeline._PIPELINE.rng().begin_step(model_name)\n",
    "#step_name = model_name\n",
    "args = {}\n",
    "#checkpoint = pipeline.intermediate_checkpoint(model_name)\n",
    "inject.set_step_args(args)\n",
    "\n",
    "trips = inject.get_table('trips')\n",
    "tours_merged = inject.get_table('tours_merged')\n",
    "network_los = inject.get_injectable('network_los')\n",
    "\n",
    "finalise = True\n",
    "if finalise:\n",
    "    inject.set_step_args(None)\n",
    "    #\n",
    "    pipeline._PIPELINE.rng().end_step(model_name)\n",
    "    pipeline.add_checkpoint(model_name)\n",
    "    if not pipeline.intermediate_checkpoint():\n",
    "        pipeline.add_checkpoint(pipeline.FINAL_CHECKPOINT_NAME)\n",
    "\n",
    "    pipeline.close_pipeline()"
   ],
   "metadata": {
    "collapsed": false,
    "pycharm": {
     "name": "#%%\n"
    }
   }
  },
  {
   "cell_type": "code",
   "execution_count": 176,
   "outputs": [],
   "source": [
    "t_ = trips.to_frame()"
   ],
   "metadata": {
    "collapsed": false,
    "pycharm": {
     "name": "#%%\n"
    }
   }
  },
  {
   "cell_type": "code",
   "execution_count": 177,
   "outputs": [
    {
     "data": {
      "text/plain": "            person_id  household_id primary_purpose  trip_num  outbound  \\\ntrip_id                                                                   \n2464104885    7512514       2821179          social         1     False   \n\n            trip_count  destination  origin    tour_id purpose  \\\ntrip_id                                                          \n2464104885           1            8       9  308013110    home   \n\n            destination_logsum  depart  \ntrip_id                                 \n2464104885                 NaN    16.0  ",
      "text/html": "<div>\n<style scoped>\n    .dataframe tbody tr th:only-of-type {\n        vertical-align: middle;\n    }\n\n    .dataframe tbody tr th {\n        vertical-align: top;\n    }\n\n    .dataframe thead th {\n        text-align: right;\n    }\n</style>\n<table border=\"1\" class=\"dataframe\">\n  <thead>\n    <tr style=\"text-align: right;\">\n      <th></th>\n      <th>person_id</th>\n      <th>household_id</th>\n      <th>primary_purpose</th>\n      <th>trip_num</th>\n      <th>outbound</th>\n      <th>trip_count</th>\n      <th>destination</th>\n      <th>origin</th>\n      <th>tour_id</th>\n      <th>purpose</th>\n      <th>destination_logsum</th>\n      <th>depart</th>\n    </tr>\n    <tr>\n      <th>trip_id</th>\n      <th></th>\n      <th></th>\n      <th></th>\n      <th></th>\n      <th></th>\n      <th></th>\n      <th></th>\n      <th></th>\n      <th></th>\n      <th></th>\n      <th></th>\n      <th></th>\n    </tr>\n  </thead>\n  <tbody>\n    <tr>\n      <th>2464104885</th>\n      <td>7512514</td>\n      <td>2821179</td>\n      <td>social</td>\n      <td>1</td>\n      <td>False</td>\n      <td>1</td>\n      <td>8</td>\n      <td>9</td>\n      <td>308013110</td>\n      <td>home</td>\n      <td>NaN</td>\n      <td>16.0</td>\n    </tr>\n  </tbody>\n</table>\n</div>"
     },
     "execution_count": 177,
     "metadata": {},
     "output_type": "execute_result"
    }
   ],
   "source": [
    "t_.loc[t_.index == 2464104885]"
   ],
   "metadata": {
    "collapsed": false,
    "pycharm": {
     "name": "#%%\n"
    }
   }
  },
  {
   "cell_type": "code",
   "execution_count": null,
   "outputs": [],
   "source": [],
   "metadata": {
    "collapsed": false,
    "pycharm": {
     "name": "#%%\n"
    }
   }
  },
  {
   "cell_type": "code",
   "execution_count": null,
   "outputs": [],
   "source": [],
   "metadata": {
    "collapsed": false,
    "pycharm": {
     "name": "#%%\n"
    }
   }
  },
  {
   "cell_type": "code",
   "execution_count": 52,
   "outputs": [],
   "source": [
    "from activitysim.core import config\n",
    "resume_after = \"trip_scheduling\"\n",
    "model_name = \"trip_mode_choice\"\n",
    "\n",
    "pipeline.open_pipeline(resume_after)\n",
    "# preload any bulky injectables (e.g. skims) not in pipeline\n",
    "inject.get_injectable('preload_injectables', None)\n",
    "pipeline._PIPELINE.rng().begin_step(model_name)\n",
    "#step_name = model_name\n",
    "args = {}\n",
    "#checkpoint = pipeline.intermediate_checkpoint(model_name)\n",
    "inject.set_step_args(args)\n",
    "\n",
    "trips = inject.get_table('trips')\n",
    "tours_merged = inject.get_table('tours_merged')\n",
    "network_los = inject.get_injectable('network_los')\n",
    "\n",
    "trace_label = 'trip_mode_choice'\n",
    "model_settings_file_name = 'trip_mode_choice.yaml'\n",
    "model_settings = config.read_model_settings(model_settings_file_name)\n",
    "\n",
    "logsum_column_name = model_settings.get('MODE_CHOICE_LOGSUM_COLUMN_NAME')\n",
    "mode_column_name = 'trip_mode'\n",
    "\n",
    "trips_df = trips.to_frame()\n",
    "\n",
    "tours_merged = tours_merged.to_frame()\n",
    "tours_merged = tours_merged[model_settings['TOURS_MERGED_CHOOSER_COLUMNS']]\n",
    "\n",
    "# - trips_merged - merge trips and tours_merged\n",
    "trips_merged = pd.merge(\n",
    "    trips_df,\n",
    "    tours_merged,\n",
    "    left_on='tour_id',\n",
    "    right_index=True,\n",
    "    how=\"left\")\n",
    "assert trips_merged.index.equals(trips.index)\n",
    "\n",
    "# setup skim keys\n",
    "assert ('trip_period' not in trips_merged)\n",
    "trips_merged['trip_period'] = network_los.skim_time_period_label(trips_merged.depart)\n",
    "pipeline.close_pipeline()"
   ],
   "metadata": {
    "collapsed": false,
    "pycharm": {
     "name": "#%%\n"
    }
   }
  },
  {
   "cell_type": "code",
   "execution_count": 56,
   "outputs": [
    {
     "data": {
      "text/plain": "Index(['person_id', 'household_id', 'primary_purpose', 'trip_num', 'outbound',\n       'trip_count', 'destination', 'origin', 'tour_id', 'purpose',\n       'destination_logsum', 'depart', 'hhsize', 'age', 'auto_ownership',\n       'number_of_participants', 'tour_category', 'parent_tour_id',\n       'tour_mode', 'duration', 'value_of_time', 'tour_type',\n       'free_parking_at_work', 'trip_period'],\n      dtype='object')"
     },
     "execution_count": 56,
     "metadata": {},
     "output_type": "execute_result"
    }
   ],
   "source": [
    "trips_merged.columns"
   ],
   "metadata": {
    "collapsed": false,
    "pycharm": {
     "name": "#%%\n"
    }
   }
  },
  {
   "cell_type": "code",
   "execution_count": null,
   "outputs": [],
   "source": [],
   "metadata": {
    "collapsed": false,
    "pycharm": {
     "name": "#%%\n"
    }
   }
  }
 ],
 "metadata": {
  "kernelspec": {
   "display_name": "Python 3",
   "language": "python",
   "name": "python3"
  },
  "language_info": {
   "codemirror_mode": {
    "name": "ipython",
    "version": 3
   },
   "file_extension": ".py",
   "mimetype": "text/x-python",
   "name": "python",
   "nbconvert_exporter": "python",
   "pygments_lexer": "ipython3",
   "version": "3.8.2"
  }
 },
 "nbformat": 4,
 "nbformat_minor": 5
}