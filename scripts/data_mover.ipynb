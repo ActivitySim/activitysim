{
 "worksheets": [
  {
   "cells": [
    {
     "cell_type": "code",
     "execution_count": null,
     "metadata": {},
     "outputs": [],
     "input": [
      "import pandas as pd\n",
      "import os\n",
      "from activitysim import activitysim as asim\n",
      "# this is where I unzipped the MTC data\n",
      "SRCDIR = \"/Users/ffoti/data/activitysim\"\n",
      "# and where it's going to\n",
      "TGTFILE = \"../example/data/mtc_asim.h5\""
     ],
     "language": "python",
     "prompt_number": 1
    },
    {
     "cell_type": "code",
     "execution_count": null,
     "metadata": {},
     "outputs": [],
     "input": [
      "store = pd.HDFStore(TGTFILE, \"w\")"
     ],
     "language": "python",
     "prompt_number": 2
    },
    {
     "cell_type": "code",
     "execution_count": null,
     "metadata": {},
     "outputs": [],
     "input": [
      "col_map = {\n",
      "    \"HHID\": \"household_id\",\n",
      "    \"AGE\": \"age\",\n",
      "    \"SEX\": \"sex\",\n",
      "    \"hworkers\": \"workers\",\n",
      "    \"HINC\": \"income\",\n",
      "    \"AREATYPE\": \"area_type\"\n",
      "}"
     ],
     "language": "python",
     "prompt_number": 3
    },
    {
     "cell_type": "code",
     "execution_count": null,
     "metadata": {},
     "outputs": [],
     "input": [
      "df = pd.read_csv(os.path.join(SRCDIR, \"landuse\", \"tazData.csv\"), index_col=\"ZONE\")\n",
      "df.columns = [col_map.get(s, s) for s in df.columns]\n",
      "store[\"land_use/taz_data\"] = df"
     ],
     "language": "python",
     "prompt_number": 4
    },
    {
     "cell_type": "code",
     "execution_count": null,
     "metadata": {},
     "outputs": [],
     "input": [
      "df = pd.read_csv(os.path.join(SRCDIR, \"skims\", \"accessibility.csv\"), index_col=\"taz\")\n",
      "df.columns = [col_map.get(s, s) for s in df.columns]\n",
      "store[\"skims/accessibility\"] = df"
     ],
     "language": "python",
     "prompt_number": 5
    },
    {
     "cell_type": "code",
     "execution_count": null,
     "metadata": {},
     "outputs": [],
     "input": [
      "df = pd.read_csv(os.path.join(SRCDIR, \"popsyn\", \"hhFile.p2011s3a1.2010.csv\"), index_col=\"HHID\")\n",
      "df.columns = [col_map.get(s, s) for s in df.columns]\n",
      "store[\"households\"] = df"
     ],
     "language": "python",
     "prompt_number": 6
    },
    {
     "cell_type": "code",
     "execution_count": null,
     "metadata": {},
     "outputs": [],
     "input": [
      "df = pd.read_csv(os.path.join(SRCDIR, \"popsyn\", \"personFile.p2011s3a1.2010.csv\"), index_col=\"PERID\")\n",
      "df.columns = [col_map.get(s, s) for s in df.columns]\n",
      "store[\"persons\"] = df"
     ],
     "language": "python",
     "prompt_number": 7
    },
    {
     "cell_type": "code",
     "execution_count": null,
     "metadata": {},
     "outputs": [],
     "input": [
      "store.close()"
     ],
     "language": "python",
     "prompt_number": 8
    },
    {
     "cell_type": "code",
     "execution_count": null,
     "metadata": {},
     "outputs": [],
     "input": [
      ""
     ],
     "language": "python",
     "prompt_number": 8
    }
   ]
  }
 ],
 "cells": [],
 "metadata": {
  "name": "",
  "signature": "sha256:07f23263339f1751ee4eb702d126692b9ed2785fe8640a8906eb0fb110d9e67a"
 },
 "nbformat": 3,
 "nbformat_minor": 0
}